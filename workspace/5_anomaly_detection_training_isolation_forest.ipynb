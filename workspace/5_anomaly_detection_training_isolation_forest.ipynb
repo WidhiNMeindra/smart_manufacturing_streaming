{
 "cells": [
  {
   "cell_type": "code",
   "execution_count": 1,
   "id": "3aa68778-c9bf-4ee8-97df-735a0d1f7f7c",
   "metadata": {},
   "outputs": [
    {
     "name": "stdout",
     "output_type": "stream",
     "text": [
      "Requirement already satisfied: pandas in /opt/conda/lib/python3.11/site-packages (2.1.1)\n",
      "Requirement already satisfied: scikit-learn in /opt/conda/lib/python3.11/site-packages (1.3.1)\n",
      "Requirement already satisfied: joblib in /opt/conda/lib/python3.11/site-packages (1.3.2)\n",
      "Requirement already satisfied: sqlalchemy in /opt/conda/lib/python3.11/site-packages (2.0.22)\n",
      "Requirement already satisfied: psycopg2-binary in /opt/conda/lib/python3.11/site-packages (2.9.10)\n",
      "Requirement already satisfied: numpy>=1.23.2 in /opt/conda/lib/python3.11/site-packages (from pandas) (1.24.4)\n",
      "Requirement already satisfied: python-dateutil>=2.8.2 in /opt/conda/lib/python3.11/site-packages (from pandas) (2.8.2)\n",
      "Requirement already satisfied: pytz>=2020.1 in /opt/conda/lib/python3.11/site-packages (from pandas) (2023.3.post1)\n",
      "Requirement already satisfied: tzdata>=2022.1 in /opt/conda/lib/python3.11/site-packages (from pandas) (2023.3)\n",
      "Requirement already satisfied: scipy>=1.5.0 in /opt/conda/lib/python3.11/site-packages (from scikit-learn) (1.11.3)\n",
      "Requirement already satisfied: threadpoolctl>=2.0.0 in /opt/conda/lib/python3.11/site-packages (from scikit-learn) (3.2.0)\n",
      "Requirement already satisfied: typing-extensions>=4.2.0 in /opt/conda/lib/python3.11/site-packages (from sqlalchemy) (4.8.0)\n",
      "Requirement already satisfied: greenlet!=0.4.17 in /opt/conda/lib/python3.11/site-packages (from sqlalchemy) (3.0.0)\n",
      "Requirement already satisfied: six>=1.5 in /opt/conda/lib/python3.11/site-packages (from python-dateutil>=2.8.2->pandas) (1.16.0)\n"
     ]
    }
   ],
   "source": [
    "!pip install pandas scikit-learn joblib sqlalchemy psycopg2-binary"
   ]
  },
  {
   "cell_type": "code",
   "execution_count": 2,
   "id": "c0b64f56-3c01-488f-bc67-de3e58c02779",
   "metadata": {},
   "outputs": [],
   "source": [
    "import pandas as pd\n",
    "import joblib\n",
    "import logging\n",
    "from sqlalchemy import create_engine\n",
    "from sklearn.ensemble import IsolationForest"
   ]
  },
  {
   "cell_type": "code",
   "execution_count": 3,
   "id": "c4ce7dd0-dd6f-410e-a912-e127bfdab771",
   "metadata": {},
   "outputs": [],
   "source": [
    "# Konfigurasi logging untuk melihat output\n",
    "logging.basicConfig(level=logging.INFO, format='%(asctime)s - %(levelname)s - %(message)s')\n",
    "log = logging.getLogger(__name__)"
   ]
  },
  {
   "cell_type": "code",
   "execution_count": 4,
   "id": "fa6052b3-8181-43b4-85d9-4b58e23398b8",
   "metadata": {},
   "outputs": [],
   "source": [
    "# Menghubungkan ke database untuk mengambil data historis sebagai data latih.\n",
    "\n",
    "DB_USER = 'user'\n",
    "DB_PASSWORD = 'password'\n",
    "DB_HOST = 'postgres'\n",
    "DB_PORT = '5432'\n",
    "DB_NAME = 'machine_db'"
   ]
  },
  {
   "cell_type": "code",
   "execution_count": 5,
   "id": "b01791a1-8690-466a-981f-c8c284523786",
   "metadata": {},
   "outputs": [
    {
     "name": "stderr",
     "output_type": "stream",
     "text": [
      "2025-07-14 13:04:04,597 - INFO - Berhasil terhubung ke database PostgreSQL.\n"
     ]
    }
   ],
   "source": [
    "db_connection_str = f'postgresql+psycopg2://{DB_USER}:{DB_PASSWORD}@{DB_HOST}:{DB_PORT}/{DB_NAME}'\n",
    "try:\n",
    "    engine = create_engine(db_connection_str)\n",
    "    log.info(\"Berhasil terhubung ke database PostgreSQL.\")\n",
    "except Exception as e:\n",
    "    log.error(f\"Gagal terhubung ke database: {e}\")\n",
    "    engine = None"
   ]
  },
  {
   "cell_type": "code",
   "execution_count": 6,
   "id": "6bd5653f-066d-4ab5-950a-f8f024242b9e",
   "metadata": {},
   "outputs": [
    {
     "name": "stderr",
     "output_type": "stream",
     "text": [
      "2025-07-14 13:04:09,150 - INFO - Berhasil mengambil 1598 baris data 'Normal' untuk pelatihan.\n"
     ]
    },
    {
     "name": "stdout",
     "output_type": "stream",
     "text": [
      "   id           event_timestamp machine_id  vibration  acoustic  temperature  \\\n",
      "0   1 2024-07-01 08:00:00+00:00        M01      0.822     0.645        66.85   \n",
      "1   3 2024-07-01 08:02:00+00:00        M01      0.856     0.590        67.03   \n",
      "2   4 2024-07-01 08:03:00+00:00        M01      0.793     0.544        65.04   \n",
      "3   6 2024-07-01 08:05:00+00:00        M01      0.782     0.655        61.95   \n",
      "4   7 2024-07-01 08:06:00+00:00        M01      0.837     0.564        64.52   \n",
      "\n",
      "   current  status  label  imf_1  imf_2  imf_3  \\\n",
      "0    13.04  Normal      0  0.196  0.033  0.000   \n",
      "1    12.30  Normal      0  0.187  0.017  0.002   \n",
      "2    11.69  Normal      0  0.196 -0.060  0.003   \n",
      "3    11.56  Normal      0  0.164 -0.081  0.005   \n",
      "4    10.98  Normal      0  0.238 -0.095  0.006   \n",
      "\n",
      "                   processing_time  \n",
      "0 2025-07-10 16:21:08.843890+00:00  \n",
      "1 2025-07-10 16:21:08.879127+00:00  \n",
      "2 2025-07-10 16:21:08.888492+00:00  \n",
      "3 2025-07-10 16:21:08.899494+00:00  \n",
      "4 2025-07-10 16:21:08.919060+00:00  \n"
     ]
    }
   ],
   "source": [
    "# Mengambil Data Latih (Hanya Data dengan Kondisi Normal)\n",
    "if engine:\n",
    "    try:\n",
    "        # Query untuk mengambil semua data di mana 'label' adalah 0 (Normal)\n",
    "        query = \"SELECT * FROM sensor_readings WHERE label = 0\"\n",
    "        \n",
    "        # Membaca data dari database ke dalam DataFrame Pandas\n",
    "        df_normal = pd.read_sql(query, engine)\n",
    "        \n",
    "        log.info(f\"Berhasil mengambil {len(df_normal)} baris data 'Normal' untuk pelatihan.\")\n",
    "        print(df_normal.head())\n",
    "        \n",
    "    except Exception as e:\n",
    "        log.error(f\"Gagal mengambil data: {e}\")\n",
    "        df_normal = None\n",
    "else:\n",
    "    log.warning(\"Koneksi database tidak tersedia.\")"
   ]
  },
  {
   "cell_type": "code",
   "execution_count": 7,
   "id": "4c99147c-7c95-46a6-9d8d-655e8e138b26",
   "metadata": {},
   "outputs": [
    {
     "name": "stderr",
     "output_type": "stream",
     "text": [
      "2025-07-14 13:04:48,045 - INFO - Fitur untuk pelatihan model telah disiapkan.\n"
     ]
    },
    {
     "name": "stdout",
     "output_type": "stream",
     "text": [
      "         vibration     acoustic  temperature      current        imf_1  \\\n",
      "count  1598.000000  1598.000000  1598.000000  1598.000000  1598.000000   \n",
      "mean      0.798652     0.600558    64.959819    11.989587     0.160327   \n",
      "std       0.049571     0.049436     2.046579     0.505777     0.047844   \n",
      "min       0.645000     0.430000    58.360000    10.290000     0.073000   \n",
      "25%       0.765000     0.567000    63.520000    11.660000     0.118000   \n",
      "50%       0.798000     0.602500    65.060000    12.000000     0.159000   \n",
      "75%       0.831000     0.634000    66.317500    12.320000     0.201000   \n",
      "max       0.979000     0.772000    71.360000    13.810000     0.265000   \n",
      "\n",
      "             imf_2        imf_3  \n",
      "count  1598.000000  1598.000000  \n",
      "mean     -0.000345     0.000986  \n",
      "std       0.068327     0.035928  \n",
      "min      -0.136000    -0.050000  \n",
      "25%      -0.056000    -0.036000  \n",
      "50%      -0.002000     0.004000  \n",
      "75%       0.056000     0.037000  \n",
      "max       0.143000     0.050000  \n"
     ]
    }
   ],
   "source": [
    "if df_normal is not None and not df_normal.empty:\n",
    "    feature_columns = [\n",
    "        'vibration', \n",
    "        'acoustic', \n",
    "        'temperature', \n",
    "        'current', \n",
    "        'imf_1', \n",
    "        'imf_2', \n",
    "        'imf_3'\n",
    "    ]\n",
    "\n",
    "    # Membuat DataFrame fitur (X)\n",
    "    X_train_normal = df_normal[feature_columns]\n",
    "    \n",
    "    log.info(\"Fitur untuk pelatihan model telah disiapkan.\")\n",
    "    print(X_train_normal.describe())\n",
    "else:\n",
    "    log.warning(\"Tidak ada data latih untuk diproses.\")"
   ]
  },
  {
   "cell_type": "code",
   "execution_count": 8,
   "id": "d51fbdf4-11e2-4241-9618-89ff67469bb9",
   "metadata": {},
   "outputs": [
    {
     "name": "stderr",
     "output_type": "stream",
     "text": [
      "2025-07-14 13:05:05,471 - INFO - Memulai pelatihan model Isolation Forest...\n",
      "2025-07-14 13:05:05,836 - INFO - Pelatihan model selesai.\n"
     ]
    }
   ],
   "source": [
    "# Latih Model Deteksi Anomali (Isolation Forest)\n",
    "\n",
    "if 'X_train_normal' in locals() and not X_train_normal.empty:\n",
    "    log.info(\"Memulai pelatihan model Isolation Forest...\")\n",
    "    \n",
    "    # Inisialisasi model\n",
    "    # 'contamination' diatur ke 'auto' agar algoritma bisa menentukan ambang batas anomali secara otomatis.\n",
    "    model_anomaly = IsolationForest(\n",
    "        n_estimators=100, \n",
    "        contamination='auto', \n",
    "        random_state=42\n",
    "    )\n",
    "    \n",
    "    # Melatih model hanya dengan data normal\n",
    "    model_anomaly.fit(X_train_normal)\n",
    "    \n",
    "    log.info(\"Pelatihan model selesai.\")\n",
    "else:\n",
    "    log.warning(\"Tidak ada data untuk melatih model.\")"
   ]
  },
  {
   "cell_type": "code",
   "execution_count": 12,
   "id": "aa084963-583c-4fb2-ad54-a840b37072ae",
   "metadata": {},
   "outputs": [
    {
     "name": "stderr",
     "output_type": "stream",
     "text": [
      "2025-07-14 13:07:15,323 - INFO - Model berhasil disimpan ke: model/anomaly_detection_model.pkl\n"
     ]
    }
   ],
   "source": [
    "# Simpan Model yang Sudah Dilatih\n",
    "# Menyimpan model ke dalam sebuah file agar bisa dimuat dan digunakan\n",
    "# oleh proses streaming tanpa perlu melatih ulang.\n",
    "\n",
    "if 'model_anomaly' in locals():\n",
    "    file_path = 'model/anomaly_detection_model.pkl'\n",
    "    try:\n",
    "        joblib.dump(model_anomaly, file_path)\n",
    "        log.info(f\"Model berhasil disimpan ke: {file_path}\")\n",
    "    except Exception as e:\n",
    "        log.error(f\"Gagal menyimpan model: {e}\")\n",
    "else:\n",
    "    log.warning(\"Model tidak tersedia untuk disimpan.\")"
   ]
  }
 ],
 "metadata": {
  "kernelspec": {
   "display_name": "Python 3 (ipykernel)",
   "language": "python",
   "name": "python3"
  },
  "language_info": {
   "codemirror_mode": {
    "name": "ipython",
    "version": 3
   },
   "file_extension": ".py",
   "mimetype": "text/x-python",
   "name": "python",
   "nbconvert_exporter": "python",
   "pygments_lexer": "ipython3",
   "version": "3.11.6"
  }
 },
 "nbformat": 4,
 "nbformat_minor": 5
}
