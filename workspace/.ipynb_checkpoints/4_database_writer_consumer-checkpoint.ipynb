{
 "cells": [
  {
   "cell_type": "code",
   "execution_count": null,
   "id": "a8ff927d-fc23-467a-9746-071db87f7999",
   "metadata": {},
   "outputs": [],
   "source": [
    "from kafka import KafkaConsumer\n",
    "from sqlalchemy import create_engine, text\n",
    "import json\n",
    "import logging"
   ]
  },
  {
   "cell_type": "code",
   "execution_count": null,
   "id": "13806494-533c-45ac-b25b-0f829b3be3ad",
   "metadata": {},
   "outputs": [],
   "source": [
    "# Konfigurasi logging\n",
    "logging.basicConfig(level=logging.INFO)\n",
    "log = logging.getLogger(__name__)\n",
    "\n",
    "# --- KONEKSI KAFKA ---\n",
    "try:\n",
    "    consumer = KafkaConsumer(\n",
    "        'clean_sensor_data', # Topik yang berisi data bersih\n",
    "        bootstrap_servers='kafka:9092',\n",
    "        auto_offset_reset='earliest', # Mulai membaca dari pesan paling awal\n",
    "        group_id='db-writer-group', # ID grup untuk consumer ini\n",
    "        value_deserializer=lambda x: json.loads(x.decode('utf-8')) # Decode JSON\n",
    "    )\n",
    "    log.info(\"Berhasil terhubung ke Kafka sebagai consumer.\")\n",
    "except Exception as e:\n",
    "    log.error(f\"Gagal terhubung ke Kafka: {e}\")\n",
    "    consumer = None"
   ]
  },
  {
   "cell_type": "code",
   "execution_count": null,
   "id": "df8f7294-2827-4e9c-9abc-703fd80e5739",
   "metadata": {},
   "outputs": [],
   "source": [
    "# --- KONEKSI DATABASE ---\n",
    "DB_USER = 'user'\n",
    "DB_PASSWORD = 'password'\n",
    "DB_HOST = 'postgres_db-smart-manufacturing'\n",
    "DB_PORT = '5432'\n",
    "DB_NAME = 'machine_db'"
   ]
  },
  {
   "cell_type": "code",
   "execution_count": null,
   "id": "3070f113-21b4-4fe0-ad3e-4496ad48631c",
   "metadata": {},
   "outputs": [],
   "source": [
    "try:\n",
    "    engine = create_engine(f'postgresql+psycopg2://{DB_USER}:{DB_PASSWORD}@{DB_HOST}:{DB_PORT}/{DB_NAME}')\n",
    "    conn = engine.connect()\n",
    "    log.info(\"Berhasil terhubung kembali ke database PostgreSQL.\")\n",
    "except Exception as e:\n",
    "    log.error(f\"Gagal terhubung ke database: {e}\")\n",
    "    conn = None"
   ]
  },
  {
   "cell_type": "code",
   "execution_count": null,
   "id": "7824d6eb-86cd-4235-81ab-792d8937ccc6",
   "metadata": {},
   "outputs": [],
   "source": [
    "# Loop untuk menulis data baru\n",
    "try:\n",
    "    log.info(\"Mulai menulis data sensor ke database...\")\n",
    "    for message in consumer:\n",
    "        data = message.value\n",
    "        # PERBAIKAN: Menambahkan kolom IMF ke query INSERT\n",
    "        insert_query = text(\"\"\"\n",
    "            INSERT INTO sensor_readings (\n",
    "                event_timestamp, machine_id, vibration, acoustic, \n",
    "                temperature, current, status, label,\n",
    "                IMF_1, IMF_2, IMF_3\n",
    "            ) VALUES (\n",
    "                :event_timestamp, :machine_id, :vibration, :acoustic, \n",
    "                :temperature, :current, :status, :label,\n",
    "                :IMF_1, :IMF_2, :IMF_3\n",
    "            )\n",
    "        \"\"\")\n",
    "        conn.execute(insert_query, data)\n",
    "        conn.commit()\n",
    "        log.info(f\"Data untuk machine_id {data['machine_id']} berhasil disimpan.\")\n",
    "except KeyboardInterrupt:\n",
    "    log.warning(\"Proses dihentikan.\")"
   ]
  },
  {
   "cell_type": "code",
   "execution_count": null,
   "id": "eaef1333-5c1d-4a62-be2e-6551222b71d5",
   "metadata": {},
   "outputs": [],
   "source": [
    "conn.close()\n",
    "consumer.close()"
   ]
  }
 ],
 "metadata": {
  "kernelspec": {
   "display_name": "Python 3 (ipykernel)",
   "language": "python",
   "name": "python3"
  },
  "language_info": {
   "codemirror_mode": {
    "name": "ipython",
    "version": 3
   },
   "file_extension": ".py",
   "mimetype": "text/x-python",
   "name": "python",
   "nbconvert_exporter": "python",
   "pygments_lexer": "ipython3",
   "version": "3.11.6"
  }
 },
 "nbformat": 4,
 "nbformat_minor": 5
}
