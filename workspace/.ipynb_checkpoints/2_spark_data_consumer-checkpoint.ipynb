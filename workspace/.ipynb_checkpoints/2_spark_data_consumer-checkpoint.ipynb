{
 "cells": [
  {
   "cell_type": "code",
   "execution_count": 1,
   "id": "c64eede0",
   "metadata": {},
   "outputs": [],
   "source": [
    "# Impor library yang diperlukan\n",
    "from pyspark.sql import SparkSession\n",
    "from pyspark.sql.functions import from_json, col, expr, when, to_timestamp\n",
    "from pyspark.sql.types import StructType, StructField, StringType, IntegerType, DoubleType"
   ]
  },
  {
   "cell_type": "code",
   "execution_count": 2,
   "id": "77ad6a4f",
   "metadata": {},
   "outputs": [
    {
     "name": "stdout",
     "output_type": "stream",
     "text": [
      ":: loading settings :: url = jar:file:/opt/conda/lib/python3.11/site-packages/pyspark/jars/ivy-2.5.0.jar!/org/apache/ivy/core/settings/ivysettings.xml\n"
     ]
    },
    {
     "name": "stderr",
     "output_type": "stream",
     "text": [
      "Ivy Default Cache set to: /home/jovyan/.ivy2/cache\n",
      "The jars for the packages stored in: /home/jovyan/.ivy2/jars\n",
      "org.apache.spark#spark-sql-kafka-0-10_2.12 added as a dependency\n",
      ":: resolving dependencies :: org.apache.spark#spark-submit-parent-a34c9fbc-4170-427f-b2c4-762802ba183a;1.0\n",
      "\tconfs: [default]\n",
      "\tfound org.apache.spark#spark-sql-kafka-0-10_2.12;3.3.0 in central\n",
      "\tfound org.apache.spark#spark-token-provider-kafka-0-10_2.12;3.3.0 in central\n",
      "\tfound org.apache.kafka#kafka-clients;2.8.1 in central\n",
      "\tfound org.lz4#lz4-java;1.8.0 in central\n",
      "\tfound org.xerial.snappy#snappy-java;1.1.8.4 in central\n",
      "\tfound org.slf4j#slf4j-api;1.7.32 in central\n",
      "\tfound org.apache.hadoop#hadoop-client-runtime;3.3.2 in central\n",
      "\tfound org.spark-project.spark#unused;1.0.0 in central\n",
      "\tfound org.apache.hadoop#hadoop-client-api;3.3.2 in central\n",
      "\tfound commons-logging#commons-logging;1.1.3 in central\n",
      "\tfound com.google.code.findbugs#jsr305;3.0.0 in central\n",
      "\tfound org.apache.commons#commons-pool2;2.11.1 in central\n",
      ":: resolution report :: resolve 1472ms :: artifacts dl 68ms\n",
      "\t:: modules in use:\n",
      "\tcom.google.code.findbugs#jsr305;3.0.0 from central in [default]\n",
      "\tcommons-logging#commons-logging;1.1.3 from central in [default]\n",
      "\torg.apache.commons#commons-pool2;2.11.1 from central in [default]\n",
      "\torg.apache.hadoop#hadoop-client-api;3.3.2 from central in [default]\n",
      "\torg.apache.hadoop#hadoop-client-runtime;3.3.2 from central in [default]\n",
      "\torg.apache.kafka#kafka-clients;2.8.1 from central in [default]\n",
      "\torg.apache.spark#spark-sql-kafka-0-10_2.12;3.3.0 from central in [default]\n",
      "\torg.apache.spark#spark-token-provider-kafka-0-10_2.12;3.3.0 from central in [default]\n",
      "\torg.lz4#lz4-java;1.8.0 from central in [default]\n",
      "\torg.slf4j#slf4j-api;1.7.32 from central in [default]\n",
      "\torg.spark-project.spark#unused;1.0.0 from central in [default]\n",
      "\torg.xerial.snappy#snappy-java;1.1.8.4 from central in [default]\n",
      "\t---------------------------------------------------------------------\n",
      "\t|                  |            modules            ||   artifacts   |\n",
      "\t|       conf       | number| search|dwnlded|evicted|| number|dwnlded|\n",
      "\t---------------------------------------------------------------------\n",
      "\t|      default     |   12  |   0   |   0   |   0   ||   12  |   0   |\n",
      "\t---------------------------------------------------------------------\n",
      ":: retrieving :: org.apache.spark#spark-submit-parent-a34c9fbc-4170-427f-b2c4-762802ba183a\n",
      "\tconfs: [default]\n",
      "\t0 artifacts copied, 12 already retrieved (0kB/23ms)\n"
     ]
    },
    {
     "name": "stdout",
     "output_type": "stream",
     "text": [
      "25/07/10 15:33:18 WARN NativeCodeLoader: Unable to load native-hadoop library for your platform... using builtin-java classes where applicable\n"
     ]
    },
    {
     "name": "stderr",
     "output_type": "stream",
     "text": [
      "Setting default log level to \"WARN\".\n",
      "To adjust logging level use sc.setLogLevel(newLevel). For SparkR, use setLogLevel(newLevel).\n"
     ]
    },
    {
     "name": "stdout",
     "output_type": "stream",
     "text": [
      "SparkSession berhasil dibuat.\n"
     ]
    }
   ],
   "source": [
    "# Membuat SparkSession\n",
    "spark = SparkSession.builder \\\n",
    "    .appName(\"PredictiveMaintenanceStreaming\") \\\n",
    "    .master(\"spark://spark-master:7077\") \\\n",
    "    .config(\"spark.jars.packages\", \"org.apache.spark:spark-sql-kafka-0-10_2.12:3.3.0\") \\\n",
    "    .getOrCreate()\n",
    "\n",
    "print(\"SparkSession berhasil dibuat.\")"
   ]
  },
  {
   "cell_type": "code",
   "execution_count": 3,
   "id": "0ce6524c",
   "metadata": {},
   "outputs": [],
   "source": [
    "# Mendefinisikan Skema\n",
    "raw_schema = StructType([\n",
    "    StructField(\"timestamp\", StringType(), True),\n",
    "    StructField(\"machine_id\", StringType(), True),\n",
    "    StructField(\"vibration\", DoubleType(), True),\n",
    "    StructField(\"acoustic\", DoubleType(), True),\n",
    "    StructField(\"temperature\", DoubleType(), True),\n",
    "    StructField(\"current\", DoubleType(), True),\n",
    "    StructField(\"IMF_1\", DoubleType(), True),\n",
    "    StructField(\"IMF_2\", DoubleType(), True),\n",
    "    StructField(\"IMF_3\", DoubleType(), True),\n",
    "    StructField(\"label\", IntegerType(), True)\n",
    "])"
   ]
  },
  {
   "cell_type": "code",
   "execution_count": 4,
   "id": "1b710b80-9197-4698-a278-13d80407bbe2",
   "metadata": {
    "scrolled": true
   },
   "outputs": [],
   "source": [
    "# Membaca dari topik Kafka\n",
    "raw_stream_df = spark \\\n",
    "    .readStream \\\n",
    "    .format(\"kafka\") \\\n",
    "    .option(\"kafka.bootstrap.servers\", \"kafka:9092\") \\\n",
    "    .option(\"subscribe\", \"raw_sensor_data\") \\\n",
    "    .option(\"startingOffsets\", \"earliest\") \\\n",
    "    .load()"
   ]
  },
  {
   "cell_type": "code",
   "execution_count": 5,
   "id": "5d07d0f7",
   "metadata": {},
   "outputs": [
    {
     "name": "stdout",
     "output_type": "stream",
     "text": [
      "root\n",
      " |-- key: binary (nullable = true)\n",
      " |-- value: binary (nullable = true)\n",
      " |-- topic: string (nullable = true)\n",
      " |-- partition: integer (nullable = true)\n",
      " |-- offset: long (nullable = true)\n",
      " |-- timestamp: timestamp (nullable = true)\n",
      " |-- timestampType: integer (nullable = true)\n",
      "\n"
     ]
    }
   ],
   "source": [
    "raw_stream_df.printSchema()"
   ]
  },
  {
   "cell_type": "code",
   "execution_count": 6,
   "id": "038bf121",
   "metadata": {},
   "outputs": [],
   "source": [
    "# Parsing dan Transformasi Data\n",
    "parsed_df = raw_stream_df \\\n",
    "    .select(from_json(col(\"value\").cast(\"string\"), raw_schema).alias(\"data\")) \\\n",
    "    .select(\"data.*\")"
   ]
  },
  {
   "cell_type": "code",
   "execution_count": null,
   "id": "5920c3f1",
   "metadata": {},
   "outputs": [],
   "source": [
    "# Transformasi utama\n",
    "# transformed_df = parsed_df \\\n",
    "#     .withColumn(\"event_timestamp\", to_timestamp(col(\"datetime\"))) \\\n",
    "#     .withColumn(\"status\",\n",
    "#         when((col(\"volt\") > 250) | (col(\"volt\") < 190), \"Voltage Anomaly\")\n",
    "#         .when(col(\"vibration\") > 70, \"High Vibration\")\n",
    "#         .otherwise(\"Normal\")\n",
    "#     )"
   ]
  },
  {
   "cell_type": "code",
   "execution_count": 7,
   "id": "1cc6eeaf-7457-4e9f-87da-04c1eff4d9db",
   "metadata": {},
   "outputs": [],
   "source": [
    "transformed_df = parsed_df \\\n",
    "    .withColumn(\"event_timestamp\", to_timestamp(col(\"timestamp\"))) \\\n",
    "    .withColumn(\"status\",\n",
    "        when(col(\"label\") == 1, \"Failure Detected\")\n",
    "        .otherwise(\"Normal\")\n",
    "    )"
   ]
  },
  {
   "cell_type": "code",
   "execution_count": 8,
   "id": "90bcf659",
   "metadata": {
    "scrolled": true
   },
   "outputs": [],
   "source": [
    "# Pilih kolom final\n",
    "final_df = transformed_df.select(\n",
    "    \"event_timestamp\", \"machine_id\", \"vibration\", \"acoustic\", \n",
    "    \"temperature\", \"current\", \"status\",\n",
    "    \"IMF_1\", \"IMF_2\", \"IMF_3\",\n",
    "    \"label\"\n",
    ")"
   ]
  },
  {
   "cell_type": "code",
   "execution_count": 14,
   "id": "b39ff858",
   "metadata": {
    "scrolled": true
   },
   "outputs": [
    {
     "name": "stdout",
     "output_type": "stream",
     "text": [
      "25/07/10 15:37:08 WARN ResolveWriteToStream: Temporary checkpoint location created which is deleted normally when the query didn't fail: /tmp/temporary-4c0271e6-31bb-41ee-ad18-17342d4bcf7b. If it's required to delete it under any circumstances, please set spark.sql.streaming.forceDeleteTempCheckpointLocation to true. Important to know deleting temp checkpoint folder is best effort.\n",
      "25/07/10 15:37:08 WARN ResolveWriteToStream: spark.sql.adaptive.enabled is not supported in streaming DataFrames/Datasets and will be disabled.\n"
     ]
    },
    {
     "name": "stderr",
     "output_type": "stream",
     "text": [
      "                                                                                \r"
     ]
    },
    {
     "name": "stdout",
     "output_type": "stream",
     "text": [
      "-------------------------------------------\n",
      "Batch: 0\n",
      "-------------------------------------------\n",
      "+---------------+----------+-----------+--------+-----------+-------+------+-----+-----+-----+-----+\n",
      "|event_timestamp|machine_id|vibration  |acoustic|temperature|current|status|IMF_1|IMF_2|IMF_3|label|\n",
      "+---------------+----------+-----------+--------+-----------+-------+------+-----+-----+-----+-----+\n",
      "|null           |null      |56.99677718|null    |74.96714153|null   |Normal|null |null |null |null |\n",
      "|null           |null      |54.62316841|null    |68.61735699|null   |Normal|null |null |null |null |\n",
      "|null           |null      |50.29815185|null    |76.47688538|null   |Normal|null |null |null |null |\n",
      "|null           |null      |46.76531611|null    |85.23029856|null   |Normal|null |null |null |null |\n",
      "|null           |null      |53.49111657|null    |67.65846625|null   |Normal|null |null |null |null |\n",
      "|null           |null      |51.96742693|null    |67.65863043|null   |Normal|null |null |null |null |\n",
      "|null           |null      |54.4759661 |null    |85.79212816|null   |Normal|null |null |null |null |\n",
      "|null           |null      |53.17585901|null    |77.67434729|null   |Normal|null |null |null |null |\n",
      "|null           |null      |55.24776358|null    |65.30525614|null   |Normal|null |null |null |null |\n",
      "|null           |null      |47.32382394|null    |75.42560044|null   |Normal|null |null |null |null |\n",
      "|null           |null      |56.58697033|null    |65.36582307|null   |Normal|null |null |null |null |\n",
      "|null           |null      |50.98799802|null    |65.34270246|null   |Normal|null |null |null |null |\n",
      "|null           |null      |60.37630436|null    |72.41962272|null   |Normal|null |null |null |null |\n",
      "|null           |null      |46.55406091|null    |50.86719755|null   |Normal|null |null |null |null |\n",
      "|null           |null      |58.67981902|null    |52.75082167|null   |Normal|null |null |null |null |\n",
      "|null           |null      |50.98955392|null    |64.37712471|null   |Normal|null |null |null |null |\n",
      "|null           |null      |46.74290998|null    |59.8716888 |null   |Normal|null |null |null |null |\n",
      "|null           |null      |47.58057083|null    |73.14247333|null   |Normal|null |null |null |null |\n",
      "|null           |null      |48.39826346|null    |60.91975924|null   |Normal|null |null |null |null |\n",
      "|null           |null      |52.12082973|null    |55.87696299|null   |Normal|null |null |null |null |\n",
      "+---------------+----------+-----------+--------+-----------+-------+------+-----+-----+-----+-----+\n",
      "only showing top 20 rows\n",
      "\n",
      "-------------------------------------------\n",
      "Batch: 1\n",
      "-------------------------------------------\n",
      "+-------------------+----------+---------+--------+-----------+-------+------+-----+-----+-----+-----+\n",
      "|event_timestamp    |machine_id|vibration|acoustic|temperature|current|status|IMF_1|IMF_2|IMF_3|label|\n",
      "+-------------------+----------+---------+--------+-----------+-------+------+-----+-----+-----+-----+\n",
      "|2024-07-01 09:07:00|M01       |0.829    |0.546   |67.85      |13.02  |Normal|null |null |null |0    |\n",
      "|2024-07-01 09:08:00|M01       |0.668    |0.608   |61.76      |11.89  |Normal|null |null |null |0    |\n",
      "|2024-07-01 09:09:00|M01       |0.733    |0.506   |65.62      |12.88  |Normal|null |null |null |0    |\n",
      "+-------------------+----------+---------+--------+-----------+-------+------+-----+-----+-----+-----+\n",
      "\n"
     ]
    },
    {
     "name": "stderr",
     "output_type": "stream",
     "text": [
      "                                                                                \r"
     ]
    },
    {
     "name": "stdout",
     "output_type": "stream",
     "text": [
      "-------------------------------------------\n",
      "Batch: 2\n",
      "-------------------------------------------\n",
      "+-------------------+----------+---------+--------+-----------+-------+------+-----+-----+-----+-----+\n",
      "|event_timestamp    |machine_id|vibration|acoustic|temperature|current|status|IMF_1|IMF_2|IMF_3|label|\n",
      "+-------------------+----------+---------+--------+-----------+-------+------+-----+-----+-----+-----+\n",
      "|2024-07-01 09:10:00|M01       |0.795    |0.556   |64.4       |12.34  |Normal|null |null |null |0    |\n",
      "+-------------------+----------+---------+--------+-----------+-------+------+-----+-----+-----+-----+\n",
      "\n"
     ]
    },
    {
     "name": "stderr",
     "output_type": "stream",
     "text": [
      "                                                                                \r"
     ]
    },
    {
     "name": "stdout",
     "output_type": "stream",
     "text": [
      "-------------------------------------------\n",
      "Batch: 3\n",
      "-------------------------------------------\n",
      "+-------------------+----------+---------+--------+-----------+-------+------+-----+-----+-----+-----+\n",
      "|event_timestamp    |machine_id|vibration|acoustic|temperature|current|status|IMF_1|IMF_2|IMF_3|label|\n",
      "+-------------------+----------+---------+--------+-----------+-------+------+-----+-----+-----+-----+\n",
      "|2024-07-01 09:11:00|M01       |0.89     |0.635   |66.14      |12.19  |Normal|null |null |null |0    |\n",
      "+-------------------+----------+---------+--------+-----------+-------+------+-----+-----+-----+-----+\n",
      "\n"
     ]
    },
    {
     "name": "stderr",
     "output_type": "stream",
     "text": [
      "                                                                                \r"
     ]
    },
    {
     "name": "stdout",
     "output_type": "stream",
     "text": [
      "-------------------------------------------\n",
      "Batch: 4\n",
      "-------------------------------------------\n",
      "+-------------------+----------+---------+--------+-----------+-------+------+-----+-----+-----+-----+\n",
      "|event_timestamp    |machine_id|vibration|acoustic|temperature|current|status|IMF_1|IMF_2|IMF_3|label|\n",
      "+-------------------+----------+---------+--------+-----------+-------+------+-----+-----+-----+-----+\n",
      "|2024-07-01 09:12:00|M01       |0.777    |0.554   |69.45      |12.47  |Normal|null |null |null |0    |\n",
      "+-------------------+----------+---------+--------+-----------+-------+------+-----+-----+-----+-----+\n",
      "\n"
     ]
    }
   ],
   "source": [
    "# Memastikan transformasi benar sebelum menulis kembali ke Kafka.\n",
    "# Menulis ke konsol untuk debugging\n",
    "console_query = final_df \\\n",
    "    .writeStream \\\n",
    "    .outputMode(\"append\") \\\n",
    "    .format(\"console\") \\\n",
    "    .option(\"truncate\", \"false\") \\\n",
    "    .start()"
   ]
  },
  {
   "cell_type": "code",
   "execution_count": 15,
   "id": "01615e68",
   "metadata": {
    "scrolled": true
   },
   "outputs": [
    {
     "name": "stdout",
     "output_type": "stream",
     "text": [
      "25/07/10 15:37:18 WARN ResolveWriteToStream: spark.sql.adaptive.enabled is not supported in streaming DataFrames/Datasets and will be disabled.\n",
      "25/07/10 15:37:18 WARN StreamingQueryManager: Stopping existing streaming query [id=3cd676ab-0a7d-4326-b4d9-7e45e28e904d, runId=49fb4af2-6e9a-41ac-b27a-5110c599bcd8], as a new run is being started.\n",
      "25/07/10 15:37:18 ERROR WriteToDataSourceV2Exec: Data source write support org.apache.spark.sql.execution.streaming.sources.MicroBatchWrite@44043f75 is aborting.\n",
      "25/07/10 15:37:18 ERROR WriteToDataSourceV2Exec: Data source write support org.apache.spark.sql.execution.streaming.sources.MicroBatchWrite@44043f75 aborted.\n"
     ]
    },
    {
     "name": "stderr",
     "output_type": "stream",
     "text": [
      "                                                                                \r"
     ]
    },
    {
     "name": "stdout",
     "output_type": "stream",
     "text": [
      "25/07/10 15:37:18 WARN TaskSetManager: Lost task 0.0 in stage 77.0 (TID 77) (172.18.0.4 executor 0): TaskKilled (Stage cancelled)\n",
      "-------------------------------------------\n",
      "Batch: 5\n",
      "-------------------------------------------\n",
      "+-------------------+----------+---------+--------+-----------+-------+------+-----+-----+-----+-----+\n",
      "|event_timestamp    |machine_id|vibration|acoustic|temperature|current|status|IMF_1|IMF_2|IMF_3|label|\n",
      "+-------------------+----------+---------+--------+-----------+-------+------+-----+-----+-----+-----+\n",
      "|2024-07-01 09:13:00|M01       |0.746    |0.607   |63.48      |11.55  |Normal|null |null |null |0    |\n",
      "+-------------------+----------+---------+--------+-----------+-------+------+-----+-----+-----+-----+\n",
      "\n",
      "-------------------------------------------\n",
      "Batch: 6\n",
      "-------------------------------------------\n",
      "+-------------------+----------+---------+--------+-----------+-------+----------------+-----+-----+-----+-----+\n",
      "|event_timestamp    |machine_id|vibration|acoustic|temperature|current|status          |IMF_1|IMF_2|IMF_3|label|\n",
      "+-------------------+----------+---------+--------+-----------+-------+----------------+-----+-----+-----+-----+\n",
      "|2024-07-01 09:14:00|M01       |1.321    |0.877   |81.11      |15.52  |Failure Detected|null |null |null |1    |\n",
      "+-------------------+----------+---------+--------+-----------+-------+----------------+-----+-----+-----+-----+\n",
      "\n",
      "-------------------------------------------\n",
      "Batch: 7\n",
      "-------------------------------------------\n",
      "+-------------------+----------+---------+--------+-----------+-------+------+-----+-----+-----+-----+\n",
      "|event_timestamp    |machine_id|vibration|acoustic|temperature|current|status|IMF_1|IMF_2|IMF_3|label|\n",
      "+-------------------+----------+---------+--------+-----------+-------+------+-----+-----+-----+-----+\n",
      "|2024-07-01 09:15:00|M01       |0.773    |0.635   |60.25      |11.13  |Normal|null |null |null |0    |\n",
      "+-------------------+----------+---------+--------+-----------+-------+------+-----+-----+-----+-----+\n",
      "\n",
      "-------------------------------------------\n",
      "Batch: 8\n",
      "-------------------------------------------\n",
      "+-------------------+----------+---------+--------+-----------+-------+------+-----+-----+-----+-----+\n",
      "|event_timestamp    |machine_id|vibration|acoustic|temperature|current|status|IMF_1|IMF_2|IMF_3|label|\n",
      "+-------------------+----------+---------+--------+-----------+-------+------+-----+-----+-----+-----+\n",
      "|2024-07-01 09:16:00|M01       |0.817    |0.667   |62.22      |11.61  |Normal|null |null |null |0    |\n",
      "+-------------------+----------+---------+--------+-----------+-------+------+-----+-----+-----+-----+\n",
      "\n"
     ]
    },
    {
     "name": "stderr",
     "output_type": "stream",
     "text": [
      "                                                                                \r"
     ]
    },
    {
     "name": "stdout",
     "output_type": "stream",
     "text": [
      "-------------------------------------------\n",
      "Batch: 9\n",
      "-------------------------------------------\n",
      "+-------------------+----------+---------+--------+-----------+-------+------+-----+-----+-----+-----+\n",
      "|event_timestamp    |machine_id|vibration|acoustic|temperature|current|status|IMF_1|IMF_2|IMF_3|label|\n",
      "+-------------------+----------+---------+--------+-----------+-------+------+-----+-----+-----+-----+\n",
      "|2024-07-01 09:17:00|M01       |0.719    |0.603   |64.83      |11.33  |Normal|null |null |null |0    |\n",
      "+-------------------+----------+---------+--------+-----------+-------+------+-----+-----+-----+-----+\n",
      "\n",
      "-------------------------------------------\n",
      "Batch: 10\n",
      "-------------------------------------------\n",
      "+-------------------+----------+---------+--------+-----------+-------+------+-----+-----+-----+-----+\n",
      "|event_timestamp    |machine_id|vibration|acoustic|temperature|current|status|IMF_1|IMF_2|IMF_3|label|\n",
      "+-------------------+----------+---------+--------+-----------+-------+------+-----+-----+-----+-----+\n",
      "|2024-07-01 09:18:00|M01       |0.836    |0.602   |69.09      |12.29  |Normal|null |null |null |0    |\n",
      "+-------------------+----------+---------+--------+-----------+-------+------+-----+-----+-----+-----+\n",
      "\n"
     ]
    },
    {
     "name": "stderr",
     "output_type": "stream",
     "text": [
      "                                                                                \r"
     ]
    },
    {
     "name": "stdout",
     "output_type": "stream",
     "text": [
      "-------------------------------------------\n",
      "Batch: 11\n",
      "-------------------------------------------\n",
      "+-------------------+----------+---------+--------+-----------+-------+------+-----+-----+-----+-----+\n",
      "|event_timestamp    |machine_id|vibration|acoustic|temperature|current|status|IMF_1|IMF_2|IMF_3|label|\n",
      "+-------------------+----------+---------+--------+-----------+-------+------+-----+-----+-----+-----+\n",
      "|2024-07-01 09:19:00|M01       |0.861    |0.533   |66.7       |12.37  |Normal|null |null |null |0    |\n",
      "+-------------------+----------+---------+--------+-----------+-------+------+-----+-----+-----+-----+\n",
      "\n",
      "-------------------------------------------\n",
      "Batch: 12\n",
      "-------------------------------------------\n",
      "+-------------------+----------+---------+--------+-----------+-------+------+-----+-----+-----+-----+\n",
      "|event_timestamp    |machine_id|vibration|acoustic|temperature|current|status|IMF_1|IMF_2|IMF_3|label|\n",
      "+-------------------+----------+---------+--------+-----------+-------+------+-----+-----+-----+-----+\n",
      "|2024-07-01 09:20:00|M01       |0.854    |0.626   |62.37      |10.52  |Normal|null |null |null |0    |\n",
      "+-------------------+----------+---------+--------+-----------+-------+------+-----+-----+-----+-----+\n",
      "\n"
     ]
    },
    {
     "name": "stderr",
     "output_type": "stream",
     "text": [
      "                                                                                \r"
     ]
    },
    {
     "name": "stdout",
     "output_type": "stream",
     "text": [
      "-------------------------------------------\n",
      "Batch: 13\n",
      "-------------------------------------------\n",
      "+-------------------+----------+---------+--------+-----------+-------+----------------+-----+-----+-----+-----+\n",
      "|event_timestamp    |machine_id|vibration|acoustic|temperature|current|status          |IMF_1|IMF_2|IMF_3|label|\n",
      "+-------------------+----------+---------+--------+-----------+-------+----------------+-----+-----+-----+-----+\n",
      "|2024-07-01 09:21:00|M01       |1.133    |1.039   |75.82      |14.45  |Failure Detected|null |null |null |1    |\n",
      "+-------------------+----------+---------+--------+-----------+-------+----------------+-----+-----+-----+-----+\n",
      "\n"
     ]
    },
    {
     "name": "stderr",
     "output_type": "stream",
     "text": [
      "                                                                                \r"
     ]
    },
    {
     "name": "stdout",
     "output_type": "stream",
     "text": [
      "-------------------------------------------\n",
      "Batch: 14\n",
      "-------------------------------------------\n",
      "+-------------------+----------+---------+--------+-----------+-------+------+-----+-----+-----+-----+\n",
      "|event_timestamp    |machine_id|vibration|acoustic|temperature|current|status|IMF_1|IMF_2|IMF_3|label|\n",
      "+-------------------+----------+---------+--------+-----------+-------+------+-----+-----+-----+-----+\n",
      "|2024-07-01 09:22:00|M01       |0.779    |0.659   |63.52      |12.3   |Normal|null |null |null |0    |\n",
      "+-------------------+----------+---------+--------+-----------+-------+------+-----+-----+-----+-----+\n",
      "\n"
     ]
    },
    {
     "name": "stderr",
     "output_type": "stream",
     "text": [
      "                                                                                \r"
     ]
    },
    {
     "name": "stdout",
     "output_type": "stream",
     "text": [
      "-------------------------------------------\n",
      "Batch: 15\n",
      "-------------------------------------------\n",
      "+-------------------+----------+---------+--------+-----------+-------+------+-----+-----+-----+-----+\n",
      "|event_timestamp    |machine_id|vibration|acoustic|temperature|current|status|IMF_1|IMF_2|IMF_3|label|\n",
      "+-------------------+----------+---------+--------+-----------+-------+------+-----+-----+-----+-----+\n",
      "|2024-07-01 09:23:00|M01       |0.767    |0.602   |64.39      |12.01  |Normal|null |null |null |0    |\n",
      "+-------------------+----------+---------+--------+-----------+-------+------+-----+-----+-----+-----+\n",
      "\n",
      "-------------------------------------------\n",
      "Batch: 16\n",
      "-------------------------------------------\n",
      "+-------------------+----------+---------+--------+-----------+-------+------+-----+-----+-----+-----+\n",
      "|event_timestamp    |machine_id|vibration|acoustic|temperature|current|status|IMF_1|IMF_2|IMF_3|label|\n",
      "+-------------------+----------+---------+--------+-----------+-------+------+-----+-----+-----+-----+\n",
      "|2024-07-01 09:24:00|M01       |0.854    |0.6     |62.32      |12.16  |Normal|null |null |null |0    |\n",
      "+-------------------+----------+---------+--------+-----------+-------+------+-----+-----+-----+-----+\n",
      "\n",
      "-------------------------------------------\n",
      "Batch: 17\n",
      "-------------------------------------------\n",
      "+-------------------+----------+---------+--------+-----------+-------+------+-----+-----+-----+-----+\n",
      "|event_timestamp    |machine_id|vibration|acoustic|temperature|current|status|IMF_1|IMF_2|IMF_3|label|\n",
      "+-------------------+----------+---------+--------+-----------+-------+------+-----+-----+-----+-----+\n",
      "|2024-07-01 09:25:00|M01       |0.798    |0.577   |67.18      |11.88  |Normal|null |null |null |0    |\n",
      "+-------------------+----------+---------+--------+-----------+-------+------+-----+-----+-----+-----+\n",
      "\n"
     ]
    },
    {
     "name": "stderr",
     "output_type": "stream",
     "text": [
      "                                                                                \r"
     ]
    },
    {
     "name": "stdout",
     "output_type": "stream",
     "text": [
      "-------------------------------------------\n",
      "Batch: 18\n",
      "-------------------------------------------\n",
      "+-------------------+----------+---------+--------+-----------+-------+------+-----+-----+-----+-----+\n",
      "|event_timestamp    |machine_id|vibration|acoustic|temperature|current|status|IMF_1|IMF_2|IMF_3|label|\n",
      "+-------------------+----------+---------+--------+-----------+-------+------+-----+-----+-----+-----+\n",
      "|2024-07-01 09:26:00|M01       |0.833    |0.622   |62.27      |12.09  |Normal|null |null |null |0    |\n",
      "+-------------------+----------+---------+--------+-----------+-------+------+-----+-----+-----+-----+\n",
      "\n"
     ]
    },
    {
     "name": "stderr",
     "output_type": "stream",
     "text": [
      "                                                                                \r"
     ]
    },
    {
     "name": "stdout",
     "output_type": "stream",
     "text": [
      "-------------------------------------------\n",
      "Batch: 19\n",
      "-------------------------------------------\n",
      "+-------------------+----------+---------+--------+-----------+-------+------+-----+-----+-----+-----+\n",
      "|event_timestamp    |machine_id|vibration|acoustic|temperature|current|status|IMF_1|IMF_2|IMF_3|label|\n",
      "+-------------------+----------+---------+--------+-----------+-------+------+-----+-----+-----+-----+\n",
      "|2024-07-01 09:27:00|M01       |0.718    |0.658   |64.24      |12.07  |Normal|null |null |null |0    |\n",
      "+-------------------+----------+---------+--------+-----------+-------+------+-----+-----+-----+-----+\n",
      "\n"
     ]
    },
    {
     "name": "stderr",
     "output_type": "stream",
     "text": [
      "                                                                                \r"
     ]
    },
    {
     "name": "stdout",
     "output_type": "stream",
     "text": [
      "-------------------------------------------\n",
      "Batch: 20\n",
      "-------------------------------------------\n",
      "+-------------------+----------+---------+--------+-----------+-------+------+-----+-----+-----+-----+\n",
      "|event_timestamp    |machine_id|vibration|acoustic|temperature|current|status|IMF_1|IMF_2|IMF_3|label|\n",
      "+-------------------+----------+---------+--------+-----------+-------+------+-----+-----+-----+-----+\n",
      "|2024-07-01 09:28:00|M01       |0.77     |0.54    |67.82      |12.2   |Normal|null |null |null |0    |\n",
      "+-------------------+----------+---------+--------+-----------+-------+------+-----+-----+-----+-----+\n",
      "\n"
     ]
    },
    {
     "name": "stderr",
     "output_type": "stream",
     "text": [
      "                                                                                \r"
     ]
    },
    {
     "name": "stdout",
     "output_type": "stream",
     "text": [
      "-------------------------------------------\n",
      "Batch: 21\n",
      "-------------------------------------------\n",
      "+-------------------+----------+---------+--------+-----------+-------+------+-----+-----+-----+-----+\n",
      "|event_timestamp    |machine_id|vibration|acoustic|temperature|current|status|IMF_1|IMF_2|IMF_3|label|\n",
      "+-------------------+----------+---------+--------+-----------+-------+------+-----+-----+-----+-----+\n",
      "|2024-07-01 09:29:00|M01       |0.778    |0.567   |65.77      |11.86  |Normal|null |null |null |0    |\n",
      "+-------------------+----------+---------+--------+-----------+-------+------+-----+-----+-----+-----+\n",
      "\n"
     ]
    },
    {
     "name": "stderr",
     "output_type": "stream",
     "text": [
      "                                                                                \r"
     ]
    },
    {
     "name": "stdout",
     "output_type": "stream",
     "text": [
      "-------------------------------------------\n",
      "Batch: 22\n",
      "-------------------------------------------\n",
      "+-------------------+----------+---------+--------+-----------+-------+------+-----+-----+-----+-----+\n",
      "|event_timestamp    |machine_id|vibration|acoustic|temperature|current|status|IMF_1|IMF_2|IMF_3|label|\n",
      "+-------------------+----------+---------+--------+-----------+-------+------+-----+-----+-----+-----+\n",
      "|2024-07-01 09:30:00|M01       |0.771    |0.667   |62.21      |11.99  |Normal|null |null |null |0    |\n",
      "+-------------------+----------+---------+--------+-----------+-------+------+-----+-----+-----+-----+\n",
      "\n",
      "-------------------------------------------\n",
      "Batch: 23\n",
      "-------------------------------------------\n",
      "+-------------------+----------+---------+--------+-----------+-------+------+-----+-----+-----+-----+\n",
      "|event_timestamp    |machine_id|vibration|acoustic|temperature|current|status|IMF_1|IMF_2|IMF_3|label|\n",
      "+-------------------+----------+---------+--------+-----------+-------+------+-----+-----+-----+-----+\n",
      "|2024-07-01 09:31:00|M01       |0.843    |0.679   |63.35      |11.9   |Normal|null |null |null |0    |\n",
      "+-------------------+----------+---------+--------+-----------+-------+------+-----+-----+-----+-----+\n",
      "\n"
     ]
    },
    {
     "name": "stderr",
     "output_type": "stream",
     "text": [
      "                                                                                \r"
     ]
    },
    {
     "name": "stdout",
     "output_type": "stream",
     "text": [
      "-------------------------------------------\n",
      "Batch: 24\n",
      "-------------------------------------------\n",
      "+-------------------+----------+---------+--------+-----------+-------+------+-----+-----+-----+-----+\n",
      "|event_timestamp    |machine_id|vibration|acoustic|temperature|current|status|IMF_1|IMF_2|IMF_3|label|\n",
      "+-------------------+----------+---------+--------+-----------+-------+------+-----+-----+-----+-----+\n",
      "|2024-07-01 09:32:00|M01       |0.827    |0.62    |65.77      |11.75  |Normal|null |null |null |0    |\n",
      "+-------------------+----------+---------+--------+-----------+-------+------+-----+-----+-----+-----+\n",
      "\n"
     ]
    },
    {
     "name": "stderr",
     "output_type": "stream",
     "text": [
      "                                                                                \r"
     ]
    },
    {
     "name": "stdout",
     "output_type": "stream",
     "text": [
      "-------------------------------------------\n",
      "Batch: 25\n",
      "-------------------------------------------\n",
      "+-------------------+----------+---------+--------+-----------+-------+------+-----+-----+-----+-----+\n",
      "|event_timestamp    |machine_id|vibration|acoustic|temperature|current|status|IMF_1|IMF_2|IMF_3|label|\n",
      "+-------------------+----------+---------+--------+-----------+-------+------+-----+-----+-----+-----+\n",
      "|2024-07-01 09:33:00|M01       |0.769    |0.629   |64.85      |12.46  |Normal|null |null |null |0    |\n",
      "+-------------------+----------+---------+--------+-----------+-------+------+-----+-----+-----+-----+\n",
      "\n",
      "-------------------------------------------\n",
      "Batch: 26\n",
      "-------------------------------------------\n",
      "+-------------------+----------+---------+--------+-----------+-------+------+-----+-----+-----+-----+\n",
      "|event_timestamp    |machine_id|vibration|acoustic|temperature|current|status|IMF_1|IMF_2|IMF_3|label|\n",
      "+-------------------+----------+---------+--------+-----------+-------+------+-----+-----+-----+-----+\n",
      "|2024-07-01 09:34:00|M01       |0.794    |0.594   |64.3       |11.48  |Normal|null |null |null |0    |\n",
      "+-------------------+----------+---------+--------+-----------+-------+------+-----+-----+-----+-----+\n",
      "\n",
      "-------------------------------------------\n",
      "Batch: 27\n",
      "-------------------------------------------\n",
      "+-------------------+----------+---------+--------+-----------+-------+----------------+-----+-----+-----+-----+\n",
      "|event_timestamp    |machine_id|vibration|acoustic|temperature|current|status          |IMF_1|IMF_2|IMF_3|label|\n",
      "+-------------------+----------+---------+--------+-----------+-------+----------------+-----+-----+-----+-----+\n",
      "|2024-07-01 09:35:00|M01       |1.265    |0.848   |76.22      |15.14  |Failure Detected|null |null |null |1    |\n",
      "+-------------------+----------+---------+--------+-----------+-------+----------------+-----+-----+-----+-----+\n",
      "\n",
      "-------------------------------------------\n",
      "Batch: 28\n",
      "-------------------------------------------\n",
      "+-------------------+----------+---------+--------+-----------+-------+------+-----+-----+-----+-----+\n",
      "|event_timestamp    |machine_id|vibration|acoustic|temperature|current|status|IMF_1|IMF_2|IMF_3|label|\n",
      "+-------------------+----------+---------+--------+-----------+-------+------+-----+-----+-----+-----+\n",
      "|2024-07-01 09:36:00|M01       |0.768    |0.543   |66.81      |11.32  |Normal|null |null |null |0    |\n",
      "+-------------------+----------+---------+--------+-----------+-------+------+-----+-----+-----+-----+\n",
      "\n",
      "-------------------------------------------\n",
      "Batch: 29\n",
      "-------------------------------------------\n",
      "+-------------------+----------+---------+--------+-----------+-------+------+-----+-----+-----+-----+\n",
      "|event_timestamp    |machine_id|vibration|acoustic|temperature|current|status|IMF_1|IMF_2|IMF_3|label|\n",
      "+-------------------+----------+---------+--------+-----------+-------+------+-----+-----+-----+-----+\n",
      "|2024-07-01 09:37:00|M01       |0.837    |0.629   |58.36      |11.79  |Normal|null |null |null |0    |\n",
      "+-------------------+----------+---------+--------+-----------+-------+------+-----+-----+-----+-----+\n",
      "\n"
     ]
    },
    {
     "name": "stderr",
     "output_type": "stream",
     "text": [
      "                                                                                \r"
     ]
    },
    {
     "name": "stdout",
     "output_type": "stream",
     "text": [
      "-------------------------------------------\n",
      "Batch: 30\n",
      "-------------------------------------------\n",
      "+-------------------+----------+---------+--------+-----------+-------+------+-----+-----+-----+-----+\n",
      "|event_timestamp    |machine_id|vibration|acoustic|temperature|current|status|IMF_1|IMF_2|IMF_3|label|\n",
      "+-------------------+----------+---------+--------+-----------+-------+------+-----+-----+-----+-----+\n",
      "|2024-07-01 09:38:00|M01       |0.774    |0.52    |68.59      |11.85  |Normal|null |null |null |0    |\n",
      "+-------------------+----------+---------+--------+-----------+-------+------+-----+-----+-----+-----+\n",
      "\n"
     ]
    },
    {
     "name": "stderr",
     "output_type": "stream",
     "text": [
      "                                                                                \r"
     ]
    },
    {
     "name": "stdout",
     "output_type": "stream",
     "text": [
      "-------------------------------------------\n",
      "Batch: 31\n",
      "-------------------------------------------\n",
      "+-------------------+----------+---------+--------+-----------+-------+------+-----+-----+-----+-----+\n",
      "|event_timestamp    |machine_id|vibration|acoustic|temperature|current|status|IMF_1|IMF_2|IMF_3|label|\n",
      "+-------------------+----------+---------+--------+-----------+-------+------+-----+-----+-----+-----+\n",
      "|2024-07-01 09:39:00|M01       |0.767    |0.573   |64.64      |12.53  |Normal|null |null |null |0    |\n",
      "+-------------------+----------+---------+--------+-----------+-------+------+-----+-----+-----+-----+\n",
      "\n",
      "-------------------------------------------\n",
      "Batch: 32\n",
      "-------------------------------------------\n",
      "+-------------------+----------+---------+--------+-----------+-------+------+-----+-----+-----+-----+\n",
      "|event_timestamp    |machine_id|vibration|acoustic|temperature|current|status|IMF_1|IMF_2|IMF_3|label|\n",
      "+-------------------+----------+---------+--------+-----------+-------+------+-----+-----+-----+-----+\n",
      "|2024-07-01 09:40:00|M01       |0.898    |0.692   |63.82      |12.77  |Normal|null |null |null |0    |\n",
      "+-------------------+----------+---------+--------+-----------+-------+------+-----+-----+-----+-----+\n",
      "\n",
      "-------------------------------------------\n",
      "Batch: 33\n",
      "-------------------------------------------\n",
      "+-------------------+----------+---------+--------+-----------+-------+------+-----+-----+-----+-----+\n",
      "|event_timestamp    |machine_id|vibration|acoustic|temperature|current|status|IMF_1|IMF_2|IMF_3|label|\n",
      "+-------------------+----------+---------+--------+-----------+-------+------+-----+-----+-----+-----+\n",
      "|2024-07-01 09:41:00|M01       |0.816    |0.567   |62.78      |12.27  |Normal|null |null |null |0    |\n",
      "+-------------------+----------+---------+--------+-----------+-------+------+-----+-----+-----+-----+\n",
      "\n"
     ]
    },
    {
     "name": "stderr",
     "output_type": "stream",
     "text": [
      "                                                                                \r"
     ]
    },
    {
     "name": "stdout",
     "output_type": "stream",
     "text": [
      "-------------------------------------------\n",
      "Batch: 34\n",
      "-------------------------------------------\n",
      "+-------------------+----------+---------+--------+-----------+-------+------+-----+-----+-----+-----+\n",
      "|event_timestamp    |machine_id|vibration|acoustic|temperature|current|status|IMF_1|IMF_2|IMF_3|label|\n",
      "+-------------------+----------+---------+--------+-----------+-------+------+-----+-----+-----+-----+\n",
      "|2024-07-01 09:42:00|M01       |0.891    |0.6     |65.83      |11.96  |Normal|null |null |null |0    |\n",
      "+-------------------+----------+---------+--------+-----------+-------+------+-----+-----+-----+-----+\n",
      "\n",
      "-------------------------------------------\n",
      "Batch: 35\n",
      "-------------------------------------------\n",
      "+-------------------+----------+---------+--------+-----------+-------+------+-----+-----+-----+-----+\n",
      "|event_timestamp    |machine_id|vibration|acoustic|temperature|current|status|IMF_1|IMF_2|IMF_3|label|\n",
      "+-------------------+----------+---------+--------+-----------+-------+------+-----+-----+-----+-----+\n",
      "|2024-07-01 09:43:00|M01       |0.787    |0.548   |67.01      |12.13  |Normal|null |null |null |0    |\n",
      "+-------------------+----------+---------+--------+-----------+-------+------+-----+-----+-----+-----+\n",
      "\n"
     ]
    },
    {
     "name": "stderr",
     "output_type": "stream",
     "text": [
      "                                                                                \r"
     ]
    },
    {
     "name": "stdout",
     "output_type": "stream",
     "text": [
      "-------------------------------------------\n",
      "Batch: 36\n",
      "-------------------------------------------\n",
      "+-------------------+----------+---------+--------+-----------+-------+----------------+-----+-----+-----+-----+\n",
      "|event_timestamp    |machine_id|vibration|acoustic|temperature|current|status          |IMF_1|IMF_2|IMF_3|label|\n",
      "+-------------------+----------+---------+--------+-----------+-------+----------------+-----+-----+-----+-----+\n",
      "|2024-07-01 09:44:00|M01       |1.211    |0.866   |81.05      |15.44  |Failure Detected|null |null |null |1    |\n",
      "+-------------------+----------+---------+--------+-----------+-------+----------------+-----+-----+-----+-----+\n",
      "\n"
     ]
    },
    {
     "name": "stderr",
     "output_type": "stream",
     "text": [
      "                                                                                \r"
     ]
    },
    {
     "name": "stdout",
     "output_type": "stream",
     "text": [
      "-------------------------------------------\n",
      "Batch: 37\n",
      "-------------------------------------------\n",
      "+-------------------+----------+---------+--------+-----------+-------+------+-----+-----+-----+-----+\n",
      "|event_timestamp    |machine_id|vibration|acoustic|temperature|current|status|IMF_1|IMF_2|IMF_3|label|\n",
      "+-------------------+----------+---------+--------+-----------+-------+------+-----+-----+-----+-----+\n",
      "|2024-07-01 09:45:00|M01       |0.766    |0.599   |61.83      |11.33  |Normal|null |null |null |0    |\n",
      "+-------------------+----------+---------+--------+-----------+-------+------+-----+-----+-----+-----+\n",
      "\n"
     ]
    },
    {
     "name": "stderr",
     "output_type": "stream",
     "text": [
      "                                                                                \r"
     ]
    },
    {
     "name": "stdout",
     "output_type": "stream",
     "text": [
      "-------------------------------------------\n",
      "Batch: 38\n",
      "-------------------------------------------\n",
      "+-------------------+----------+---------+--------+-----------+-------+------+-----+-----+-----+-----+\n",
      "|event_timestamp    |machine_id|vibration|acoustic|temperature|current|status|IMF_1|IMF_2|IMF_3|label|\n",
      "+-------------------+----------+---------+--------+-----------+-------+------+-----+-----+-----+-----+\n",
      "|2024-07-01 09:46:00|M01       |0.774    |0.584   |60.87      |11.48  |Normal|null |null |null |0    |\n",
      "+-------------------+----------+---------+--------+-----------+-------+------+-----+-----+-----+-----+\n",
      "\n",
      "-------------------------------------------\n",
      "Batch: 39\n",
      "-------------------------------------------\n",
      "+-------------------+----------+---------+--------+-----------+-------+------+-----+-----+-----+-----+\n",
      "|event_timestamp    |machine_id|vibration|acoustic|temperature|current|status|IMF_1|IMF_2|IMF_3|label|\n",
      "+-------------------+----------+---------+--------+-----------+-------+------+-----+-----+-----+-----+\n",
      "|2024-07-01 09:47:00|M01       |0.8      |0.577   |65.33      |11.26  |Normal|null |null |null |0    |\n",
      "+-------------------+----------+---------+--------+-----------+-------+------+-----+-----+-----+-----+\n",
      "\n"
     ]
    },
    {
     "name": "stderr",
     "output_type": "stream",
     "text": [
      "                                                                                \r"
     ]
    },
    {
     "name": "stdout",
     "output_type": "stream",
     "text": [
      "-------------------------------------------\n",
      "Batch: 40\n",
      "-------------------------------------------\n",
      "+-------------------+----------+---------+--------+-----------+-------+------+-----+-----+-----+-----+\n",
      "|event_timestamp    |machine_id|vibration|acoustic|temperature|current|status|IMF_1|IMF_2|IMF_3|label|\n",
      "+-------------------+----------+---------+--------+-----------+-------+------+-----+-----+-----+-----+\n",
      "|2024-07-01 09:48:00|M01       |0.729    |0.667   |64.99      |12.39  |Normal|null |null |null |0    |\n",
      "+-------------------+----------+---------+--------+-----------+-------+------+-----+-----+-----+-----+\n",
      "\n"
     ]
    },
    {
     "name": "stderr",
     "output_type": "stream",
     "text": [
      "                                                                                \r"
     ]
    },
    {
     "name": "stdout",
     "output_type": "stream",
     "text": [
      "-------------------------------------------\n",
      "Batch: 41\n",
      "-------------------------------------------\n",
      "+-------------------+----------+---------+--------+-----------+-------+------+-----+-----+-----+-----+\n",
      "|event_timestamp    |machine_id|vibration|acoustic|temperature|current|status|IMF_1|IMF_2|IMF_3|label|\n",
      "+-------------------+----------+---------+--------+-----------+-------+------+-----+-----+-----+-----+\n",
      "|2024-07-01 09:49:00|M01       |0.704    |0.61    |60.83      |12.21  |Normal|null |null |null |0    |\n",
      "+-------------------+----------+---------+--------+-----------+-------+------+-----+-----+-----+-----+\n",
      "\n"
     ]
    },
    {
     "name": "stderr",
     "output_type": "stream",
     "text": [
      "                                                                                \r"
     ]
    },
    {
     "name": "stdout",
     "output_type": "stream",
     "text": [
      "-------------------------------------------\n",
      "Batch: 42\n",
      "-------------------------------------------\n",
      "+-------------------+----------+---------+--------+-----------+-------+------+-----+-----+-----+-----+\n",
      "|event_timestamp    |machine_id|vibration|acoustic|temperature|current|status|IMF_1|IMF_2|IMF_3|label|\n",
      "+-------------------+----------+---------+--------+-----------+-------+------+-----+-----+-----+-----+\n",
      "|2024-07-01 09:50:00|M01       |0.72     |0.544   |64.65      |11.15  |Normal|null |null |null |0    |\n",
      "+-------------------+----------+---------+--------+-----------+-------+------+-----+-----+-----+-----+\n",
      "\n"
     ]
    },
    {
     "name": "stderr",
     "output_type": "stream",
     "text": [
      "                                                                                \r"
     ]
    },
    {
     "name": "stdout",
     "output_type": "stream",
     "text": [
      "-------------------------------------------\n",
      "Batch: 43\n",
      "-------------------------------------------\n",
      "+-------------------+----------+---------+--------+-----------+-------+----------------+-----+-----+-----+-----+\n",
      "|event_timestamp    |machine_id|vibration|acoustic|temperature|current|status          |IMF_1|IMF_2|IMF_3|label|\n",
      "+-------------------+----------+---------+--------+-----------+-------+----------------+-----+-----+-----+-----+\n",
      "|2024-07-01 09:51:00|M01       |1.318    |0.763   |80.88      |15.61  |Failure Detected|null |null |null |1    |\n",
      "+-------------------+----------+---------+--------+-----------+-------+----------------+-----+-----+-----+-----+\n",
      "\n"
     ]
    },
    {
     "name": "stderr",
     "output_type": "stream",
     "text": [
      "                                                                                \r"
     ]
    },
    {
     "name": "stdout",
     "output_type": "stream",
     "text": [
      "-------------------------------------------\n",
      "Batch: 44\n",
      "-------------------------------------------\n",
      "+-------------------+----------+---------+--------+-----------+-------+------+-----+-----+-----+-----+\n",
      "|event_timestamp    |machine_id|vibration|acoustic|temperature|current|status|IMF_1|IMF_2|IMF_3|label|\n",
      "+-------------------+----------+---------+--------+-----------+-------+------+-----+-----+-----+-----+\n",
      "|2024-07-01 09:52:00|M01       |0.88     |0.635   |66.34      |11.37  |Normal|null |null |null |0    |\n",
      "+-------------------+----------+---------+--------+-----------+-------+------+-----+-----+-----+-----+\n",
      "\n",
      "-------------------------------------------\n",
      "Batch: 45\n",
      "-------------------------------------------\n",
      "+-------------------+----------+---------+--------+-----------+-------+------+-----+-----+-----+-----+\n",
      "|event_timestamp    |machine_id|vibration|acoustic|temperature|current|status|IMF_1|IMF_2|IMF_3|label|\n",
      "+-------------------+----------+---------+--------+-----------+-------+------+-----+-----+-----+-----+\n",
      "|2024-07-01 09:53:00|M01       |0.75     |0.568   |65.82      |11.8   |Normal|null |null |null |0    |\n",
      "+-------------------+----------+---------+--------+-----------+-------+------+-----+-----+-----+-----+\n",
      "\n"
     ]
    },
    {
     "name": "stderr",
     "output_type": "stream",
     "text": [
      "                                                                                \r"
     ]
    },
    {
     "name": "stdout",
     "output_type": "stream",
     "text": [
      "-------------------------------------------\n",
      "Batch: 46\n",
      "-------------------------------------------\n",
      "+-------------------+----------+---------+--------+-----------+-------+------+-----+-----+-----+-----+\n",
      "|event_timestamp    |machine_id|vibration|acoustic|temperature|current|status|IMF_1|IMF_2|IMF_3|label|\n",
      "+-------------------+----------+---------+--------+-----------+-------+------+-----+-----+-----+-----+\n",
      "|2024-07-01 09:54:00|M01       |0.777    |0.703   |65.69      |11.97  |Normal|null |null |null |0    |\n",
      "+-------------------+----------+---------+--------+-----------+-------+------+-----+-----+-----+-----+\n",
      "\n"
     ]
    },
    {
     "name": "stderr",
     "output_type": "stream",
     "text": [
      "                                                                                \r"
     ]
    },
    {
     "name": "stdout",
     "output_type": "stream",
     "text": [
      "-------------------------------------------\n",
      "Batch: 47\n",
      "-------------------------------------------\n",
      "+-------------------+----------+---------+--------+-----------+-------+------+-----+-----+-----+-----+\n",
      "|event_timestamp    |machine_id|vibration|acoustic|temperature|current|status|IMF_1|IMF_2|IMF_3|label|\n",
      "+-------------------+----------+---------+--------+-----------+-------+------+-----+-----+-----+-----+\n",
      "|2024-07-01 09:55:00|M01       |0.765    |0.588   |66.42      |12.04  |Normal|null |null |null |0    |\n",
      "+-------------------+----------+---------+--------+-----------+-------+------+-----+-----+-----+-----+\n",
      "\n"
     ]
    },
    {
     "name": "stderr",
     "output_type": "stream",
     "text": [
      "                                                                                \r"
     ]
    },
    {
     "name": "stdout",
     "output_type": "stream",
     "text": [
      "-------------------------------------------\n",
      "Batch: 48\n",
      "-------------------------------------------\n",
      "+-------------------+----------+---------+--------+-----------+-------+------+-----+-----+-----+-----+\n",
      "|event_timestamp    |machine_id|vibration|acoustic|temperature|current|status|IMF_1|IMF_2|IMF_3|label|\n",
      "+-------------------+----------+---------+--------+-----------+-------+------+-----+-----+-----+-----+\n",
      "|2024-07-01 09:56:00|M01       |0.828    |0.548   |66.65      |11.2   |Normal|null |null |null |0    |\n",
      "+-------------------+----------+---------+--------+-----------+-------+------+-----+-----+-----+-----+\n",
      "\n",
      "-------------------------------------------\n",
      "Batch: 49\n",
      "-------------------------------------------\n",
      "+-------------------+----------+---------+--------+-----------+-------+----------------+-----+-----+-----+-----+\n",
      "|event_timestamp    |machine_id|vibration|acoustic|temperature|current|status          |IMF_1|IMF_2|IMF_3|label|\n",
      "+-------------------+----------+---------+--------+-----------+-------+----------------+-----+-----+-----+-----+\n",
      "|2024-07-01 09:57:00|M01       |1.272    |1.083   |85.16      |15.27  |Failure Detected|null |null |null |1    |\n",
      "+-------------------+----------+---------+--------+-----------+-------+----------------+-----+-----+-----+-----+\n",
      "\n"
     ]
    },
    {
     "name": "stderr",
     "output_type": "stream",
     "text": [
      "                                                                                \r"
     ]
    },
    {
     "name": "stdout",
     "output_type": "stream",
     "text": [
      "-------------------------------------------\n",
      "Batch: 50\n",
      "-------------------------------------------\n",
      "+-------------------+----------+---------+--------+-----------+-------+------+-----+-----+-----+-----+\n",
      "|event_timestamp    |machine_id|vibration|acoustic|temperature|current|status|IMF_1|IMF_2|IMF_3|label|\n",
      "+-------------------+----------+---------+--------+-----------+-------+------+-----+-----+-----+-----+\n",
      "|2024-07-01 09:58:00|M01       |0.839    |0.64    |63.25      |12.12  |Normal|null |null |null |0    |\n",
      "+-------------------+----------+---------+--------+-----------+-------+------+-----+-----+-----+-----+\n",
      "\n"
     ]
    },
    {
     "name": "stderr",
     "output_type": "stream",
     "text": [
      "                                                                                \r"
     ]
    },
    {
     "name": "stdout",
     "output_type": "stream",
     "text": [
      "-------------------------------------------\n",
      "Batch: 51\n",
      "-------------------------------------------\n",
      "+-------------------+----------+---------+--------+-----------+-------+------+-----+-----+-----+-----+\n",
      "|event_timestamp    |machine_id|vibration|acoustic|temperature|current|status|IMF_1|IMF_2|IMF_3|label|\n",
      "+-------------------+----------+---------+--------+-----------+-------+------+-----+-----+-----+-----+\n",
      "|2024-07-01 09:59:00|M01       |0.843    |0.679   |65.63      |11.55  |Normal|null |null |null |0    |\n",
      "+-------------------+----------+---------+--------+-----------+-------+------+-----+-----+-----+-----+\n",
      "\n",
      "-------------------------------------------\n",
      "Batch: 52\n",
      "-------------------------------------------\n",
      "+-------------------+----------+---------+--------+-----------+-------+------+-----+-----+-----+-----+\n",
      "|event_timestamp    |machine_id|vibration|acoustic|temperature|current|status|IMF_1|IMF_2|IMF_3|label|\n",
      "+-------------------+----------+---------+--------+-----------+-------+------+-----+-----+-----+-----+\n",
      "|2024-07-01 10:00:00|M01       |0.853    |0.651   |68.61      |12.43  |Normal|null |null |null |0    |\n",
      "+-------------------+----------+---------+--------+-----------+-------+------+-----+-----+-----+-----+\n",
      "\n"
     ]
    },
    {
     "name": "stderr",
     "output_type": "stream",
     "text": [
      "                                                                                \r"
     ]
    },
    {
     "name": "stdout",
     "output_type": "stream",
     "text": [
      "-------------------------------------------\n",
      "Batch: 53\n",
      "-------------------------------------------\n",
      "+-------------------+----------+---------+--------+-----------+-------+------+-----+-----+-----+-----+\n",
      "|event_timestamp    |machine_id|vibration|acoustic|temperature|current|status|IMF_1|IMF_2|IMF_3|label|\n",
      "+-------------------+----------+---------+--------+-----------+-------+------+-----+-----+-----+-----+\n",
      "|2024-07-01 10:01:00|M01       |0.816    |0.643   |67.94      |11.89  |Normal|null |null |null |0    |\n",
      "+-------------------+----------+---------+--------+-----------+-------+------+-----+-----+-----+-----+\n",
      "\n",
      "-------------------------------------------\n",
      "Batch: 54\n",
      "-------------------------------------------\n",
      "+-------------------+----------+---------+--------+-----------+-------+------+-----+-----+-----+-----+\n",
      "|event_timestamp    |machine_id|vibration|acoustic|temperature|current|status|IMF_1|IMF_2|IMF_3|label|\n",
      "+-------------------+----------+---------+--------+-----------+-------+------+-----+-----+-----+-----+\n",
      "|2024-07-01 10:02:00|M01       |0.823    |0.55    |66.48      |12.09  |Normal|null |null |null |0    |\n",
      "+-------------------+----------+---------+--------+-----------+-------+------+-----+-----+-----+-----+\n",
      "\n"
     ]
    },
    {
     "name": "stderr",
     "output_type": "stream",
     "text": [
      "                                                                                \r"
     ]
    },
    {
     "name": "stdout",
     "output_type": "stream",
     "text": [
      "-------------------------------------------\n",
      "Batch: 55\n",
      "-------------------------------------------\n",
      "+-------------------+----------+---------+--------+-----------+-------+------+-----+-----+-----+-----+\n",
      "|event_timestamp    |machine_id|vibration|acoustic|temperature|current|status|IMF_1|IMF_2|IMF_3|label|\n",
      "+-------------------+----------+---------+--------+-----------+-------+------+-----+-----+-----+-----+\n",
      "|2024-07-01 10:03:00|M01       |0.762    |0.64    |64.41      |11.65  |Normal|null |null |null |0    |\n",
      "+-------------------+----------+---------+--------+-----------+-------+------+-----+-----+-----+-----+\n",
      "\n",
      "-------------------------------------------\n",
      "Batch: 56\n",
      "-------------------------------------------\n",
      "+-------------------+----------+---------+--------+-----------+-------+------+-----+-----+-----+-----+\n",
      "|event_timestamp    |machine_id|vibration|acoustic|temperature|current|status|IMF_1|IMF_2|IMF_3|label|\n",
      "+-------------------+----------+---------+--------+-----------+-------+------+-----+-----+-----+-----+\n",
      "|2024-07-01 10:04:00|M01       |0.812    |0.639   |63.39      |11.9   |Normal|null |null |null |0    |\n",
      "+-------------------+----------+---------+--------+-----------+-------+------+-----+-----+-----+-----+\n",
      "\n",
      "-------------------------------------------\n",
      "Batch: 57\n",
      "-------------------------------------------\n",
      "+-------------------+----------+---------+--------+-----------+-------+------+-----+-----+-----+-----+\n",
      "|event_timestamp    |machine_id|vibration|acoustic|temperature|current|status|IMF_1|IMF_2|IMF_3|label|\n",
      "+-------------------+----------+---------+--------+-----------+-------+------+-----+-----+-----+-----+\n",
      "|2024-07-01 10:05:00|M01       |0.752    |0.698   |65.46      |12.51  |Normal|null |null |null |0    |\n",
      "+-------------------+----------+---------+--------+-----------+-------+------+-----+-----+-----+-----+\n",
      "\n"
     ]
    },
    {
     "name": "stderr",
     "output_type": "stream",
     "text": [
      "                                                                                \r"
     ]
    },
    {
     "name": "stdout",
     "output_type": "stream",
     "text": [
      "-------------------------------------------\n",
      "Batch: 58\n",
      "-------------------------------------------\n",
      "+-------------------+----------+---------+--------+-----------+-------+------+-----+-----+-----+-----+\n",
      "|event_timestamp    |machine_id|vibration|acoustic|temperature|current|status|IMF_1|IMF_2|IMF_3|label|\n",
      "+-------------------+----------+---------+--------+-----------+-------+------+-----+-----+-----+-----+\n",
      "|2024-07-01 10:06:00|M01       |0.75     |0.603   |62.72      |11.78  |Normal|null |null |null |0    |\n",
      "+-------------------+----------+---------+--------+-----------+-------+------+-----+-----+-----+-----+\n",
      "\n"
     ]
    },
    {
     "name": "stderr",
     "output_type": "stream",
     "text": [
      "                                                                                \r"
     ]
    },
    {
     "name": "stdout",
     "output_type": "stream",
     "text": [
      "-------------------------------------------\n",
      "Batch: 59\n",
      "-------------------------------------------\n",
      "+-------------------+----------+---------+--------+-----------+-------+------+-----+-----+-----+-----+\n",
      "|event_timestamp    |machine_id|vibration|acoustic|temperature|current|status|IMF_1|IMF_2|IMF_3|label|\n",
      "+-------------------+----------+---------+--------+-----------+-------+------+-----+-----+-----+-----+\n",
      "|2024-07-01 10:07:00|M01       |0.799    |0.636   |63.36      |11.85  |Normal|null |null |null |0    |\n",
      "+-------------------+----------+---------+--------+-----------+-------+------+-----+-----+-----+-----+\n",
      "\n"
     ]
    },
    {
     "name": "stderr",
     "output_type": "stream",
     "text": [
      "                                                                                \r"
     ]
    },
    {
     "name": "stdout",
     "output_type": "stream",
     "text": [
      "-------------------------------------------\n",
      "Batch: 60\n",
      "-------------------------------------------\n",
      "+-------------------+----------+---------+--------+-----------+-------+------+-----+-----+-----+-----+\n",
      "|event_timestamp    |machine_id|vibration|acoustic|temperature|current|status|IMF_1|IMF_2|IMF_3|label|\n",
      "+-------------------+----------+---------+--------+-----------+-------+------+-----+-----+-----+-----+\n",
      "|2024-07-01 10:08:00|M01       |0.88     |0.636   |63.68      |12.09  |Normal|null |null |null |0    |\n",
      "+-------------------+----------+---------+--------+-----------+-------+------+-----+-----+-----+-----+\n",
      "\n"
     ]
    },
    {
     "name": "stderr",
     "output_type": "stream",
     "text": [
      "                                                                                \r"
     ]
    },
    {
     "name": "stdout",
     "output_type": "stream",
     "text": [
      "-------------------------------------------\n",
      "Batch: 61\n",
      "-------------------------------------------\n",
      "+-------------------+----------+---------+--------+-----------+-------+------+-----+-----+-----+-----+\n",
      "|event_timestamp    |machine_id|vibration|acoustic|temperature|current|status|IMF_1|IMF_2|IMF_3|label|\n",
      "+-------------------+----------+---------+--------+-----------+-------+------+-----+-----+-----+-----+\n",
      "|2024-07-01 10:09:00|M01       |0.747    |0.641   |67.15      |12.58  |Normal|null |null |null |0    |\n",
      "+-------------------+----------+---------+--------+-----------+-------+------+-----+-----+-----+-----+\n",
      "\n"
     ]
    },
    {
     "name": "stderr",
     "output_type": "stream",
     "text": [
      "                                                                                \r"
     ]
    },
    {
     "name": "stdout",
     "output_type": "stream",
     "text": [
      "-------------------------------------------\n",
      "Batch: 62\n",
      "-------------------------------------------\n",
      "+-------------------+----------+---------+--------+-----------+-------+------+-----+-----+-----+-----+\n",
      "|event_timestamp    |machine_id|vibration|acoustic|temperature|current|status|IMF_1|IMF_2|IMF_3|label|\n",
      "+-------------------+----------+---------+--------+-----------+-------+------+-----+-----+-----+-----+\n",
      "|2024-07-01 10:10:00|M01       |0.815    |0.688   |64.43      |11.74  |Normal|null |null |null |0    |\n",
      "+-------------------+----------+---------+--------+-----------+-------+------+-----+-----+-----+-----+\n",
      "\n"
     ]
    },
    {
     "name": "stderr",
     "output_type": "stream",
     "text": [
      "                                                                                \r"
     ]
    },
    {
     "name": "stdout",
     "output_type": "stream",
     "text": [
      "-------------------------------------------\n",
      "Batch: 63\n",
      "-------------------------------------------\n",
      "+-------------------+----------+---------+--------+-----------+-------+------+-----+-----+-----+-----+\n",
      "|event_timestamp    |machine_id|vibration|acoustic|temperature|current|status|IMF_1|IMF_2|IMF_3|label|\n",
      "+-------------------+----------+---------+--------+-----------+-------+------+-----+-----+-----+-----+\n",
      "|2024-07-01 10:11:00|M01       |0.805    |0.569   |69.71      |11.56  |Normal|null |null |null |0    |\n",
      "+-------------------+----------+---------+--------+-----------+-------+------+-----+-----+-----+-----+\n",
      "\n",
      "-------------------------------------------\n",
      "Batch: 64\n",
      "-------------------------------------------\n",
      "+-------------------+----------+---------+--------+-----------+-------+------+-----+-----+-----+-----+\n",
      "|event_timestamp    |machine_id|vibration|acoustic|temperature|current|status|IMF_1|IMF_2|IMF_3|label|\n",
      "+-------------------+----------+---------+--------+-----------+-------+------+-----+-----+-----+-----+\n",
      "|2024-07-01 10:12:00|M01       |0.823    |0.531   |62.91      |12.94  |Normal|null |null |null |0    |\n",
      "+-------------------+----------+---------+--------+-----------+-------+------+-----+-----+-----+-----+\n",
      "\n",
      "-------------------------------------------\n",
      "Batch: 65\n",
      "-------------------------------------------\n",
      "+-------------------+----------+---------+--------+-----------+-------+------+-----+-----+-----+-----+\n",
      "|event_timestamp    |machine_id|vibration|acoustic|temperature|current|status|IMF_1|IMF_2|IMF_3|label|\n",
      "+-------------------+----------+---------+--------+-----------+-------+------+-----+-----+-----+-----+\n",
      "|2024-07-01 10:13:00|M01       |0.766    |0.575   |64.98      |11.44  |Normal|null |null |null |0    |\n",
      "+-------------------+----------+---------+--------+-----------+-------+------+-----+-----+-----+-----+\n",
      "\n",
      "-------------------------------------------\n",
      "Batch: 66\n",
      "-------------------------------------------\n",
      "+-------------------+----------+---------+--------+-----------+-------+------+-----+-----+-----+-----+\n",
      "|event_timestamp    |machine_id|vibration|acoustic|temperature|current|status|IMF_1|IMF_2|IMF_3|label|\n",
      "+-------------------+----------+---------+--------+-----------+-------+------+-----+-----+-----+-----+\n",
      "|2024-07-01 10:14:00|M01       |0.767    |0.551   |64.57      |11.29  |Normal|null |null |null |0    |\n",
      "+-------------------+----------+---------+--------+-----------+-------+------+-----+-----+-----+-----+\n",
      "\n",
      "-------------------------------------------\n",
      "Batch: 67\n",
      "-------------------------------------------\n",
      "+-------------------+----------+---------+--------+-----------+-------+------+-----+-----+-----+-----+\n",
      "|event_timestamp    |machine_id|vibration|acoustic|temperature|current|status|IMF_1|IMF_2|IMF_3|label|\n",
      "+-------------------+----------+---------+--------+-----------+-------+------+-----+-----+-----+-----+\n",
      "|2024-07-01 10:15:00|M01       |0.749    |0.662   |66.07      |12.95  |Normal|null |null |null |0    |\n",
      "+-------------------+----------+---------+--------+-----------+-------+------+-----+-----+-----+-----+\n",
      "\n",
      "-------------------------------------------\n",
      "Batch: 68\n",
      "-------------------------------------------\n",
      "+-------------------+----------+---------+--------+-----------+-------+------+-----+-----+-----+-----+\n",
      "|event_timestamp    |machine_id|vibration|acoustic|temperature|current|status|IMF_1|IMF_2|IMF_3|label|\n",
      "+-------------------+----------+---------+--------+-----------+-------+------+-----+-----+-----+-----+\n",
      "|2024-07-01 10:16:00|M01       |0.812    |0.53    |66.99      |11.56  |Normal|null |null |null |0    |\n",
      "+-------------------+----------+---------+--------+-----------+-------+------+-----+-----+-----+-----+\n",
      "\n",
      "-------------------------------------------\n",
      "Batch: 69\n",
      "-------------------------------------------\n",
      "+-------------------+----------+---------+--------+-----------+-------+----------------+-----+-----+-----+-----+\n",
      "|event_timestamp    |machine_id|vibration|acoustic|temperature|current|status          |IMF_1|IMF_2|IMF_3|label|\n",
      "+-------------------+----------+---------+--------+-----------+-------+----------------+-----+-----+-----+-----+\n",
      "|2024-07-01 10:17:00|M01       |1.165    |0.828   |76.15      |15.34  |Failure Detected|null |null |null |1    |\n",
      "+-------------------+----------+---------+--------+-----------+-------+----------------+-----+-----+-----+-----+\n",
      "\n",
      "-------------------------------------------\n",
      "Batch: 70\n",
      "-------------------------------------------\n",
      "+-------------------+----------+---------+--------+-----------+-------+------+-----+-----+-----+-----+\n",
      "|event_timestamp    |machine_id|vibration|acoustic|temperature|current|status|IMF_1|IMF_2|IMF_3|label|\n",
      "+-------------------+----------+---------+--------+-----------+-------+------+-----+-----+-----+-----+\n",
      "|2024-07-01 10:18:00|M01       |0.739    |0.552   |64.78      |11.88  |Normal|null |null |null |0    |\n",
      "+-------------------+----------+---------+--------+-----------+-------+------+-----+-----+-----+-----+\n",
      "\n",
      "-------------------------------------------\n",
      "Batch: 71\n",
      "-------------------------------------------\n",
      "+-------------------+----------+---------+--------+-----------+-------+----------------+-----+-----+-----+-----+\n",
      "|event_timestamp    |machine_id|vibration|acoustic|temperature|current|status          |IMF_1|IMF_2|IMF_3|label|\n",
      "+-------------------+----------+---------+--------+-----------+-------+----------------+-----+-----+-----+-----+\n",
      "|2024-07-01 10:19:00|M01       |1.183    |0.801   |77.08      |16.06  |Failure Detected|null |null |null |1    |\n",
      "+-------------------+----------+---------+--------+-----------+-------+----------------+-----+-----+-----+-----+\n",
      "\n",
      "-------------------------------------------\n",
      "Batch: 72\n",
      "-------------------------------------------\n",
      "+-------------------+----------+---------+--------+-----------+-------+------+-----+-----+-----+-----+\n",
      "|event_timestamp    |machine_id|vibration|acoustic|temperature|current|status|IMF_1|IMF_2|IMF_3|label|\n",
      "+-------------------+----------+---------+--------+-----------+-------+------+-----+-----+-----+-----+\n",
      "|2024-07-01 10:20:00|M01       |0.826    |0.634   |64.05      |11.45  |Normal|null |null |null |0    |\n",
      "+-------------------+----------+---------+--------+-----------+-------+------+-----+-----+-----+-----+\n",
      "\n",
      "-------------------------------------------\n",
      "Batch: 73\n",
      "-------------------------------------------\n",
      "+-------------------+----------+---------+--------+-----------+-------+------+-----+-----+-----+-----+\n",
      "|event_timestamp    |machine_id|vibration|acoustic|temperature|current|status|IMF_1|IMF_2|IMF_3|label|\n",
      "+-------------------+----------+---------+--------+-----------+-------+------+-----+-----+-----+-----+\n",
      "|2024-07-01 10:21:00|M01       |0.784    |0.56    |64.26      |12.25  |Normal|null |null |null |0    |\n",
      "+-------------------+----------+---------+--------+-----------+-------+------+-----+-----+-----+-----+\n",
      "\n",
      "-------------------------------------------\n",
      "Batch: 74\n",
      "-------------------------------------------\n",
      "+-------------------+----------+---------+--------+-----------+-------+------+-----+-----+-----+-----+\n",
      "|event_timestamp    |machine_id|vibration|acoustic|temperature|current|status|IMF_1|IMF_2|IMF_3|label|\n",
      "+-------------------+----------+---------+--------+-----------+-------+------+-----+-----+-----+-----+\n",
      "|2024-07-01 10:22:00|M01       |0.789    |0.641   |63.5       |12.02  |Normal|null |null |null |0    |\n",
      "+-------------------+----------+---------+--------+-----------+-------+------+-----+-----+-----+-----+\n",
      "\n",
      "-------------------------------------------\n",
      "Batch: 75\n",
      "-------------------------------------------\n",
      "+-------------------+----------+---------+--------+-----------+-------+------+-----+-----+-----+-----+\n",
      "|event_timestamp    |machine_id|vibration|acoustic|temperature|current|status|IMF_1|IMF_2|IMF_3|label|\n",
      "+-------------------+----------+---------+--------+-----------+-------+------+-----+-----+-----+-----+\n",
      "|2024-07-01 10:23:00|M01       |0.867    |0.53    |65.78      |11.09  |Normal|null |null |null |0    |\n",
      "+-------------------+----------+---------+--------+-----------+-------+------+-----+-----+-----+-----+\n",
      "\n",
      "-------------------------------------------\n",
      "Batch: 76\n",
      "-------------------------------------------\n",
      "+-------------------+----------+---------+--------+-----------+-------+------+-----+-----+-----+-----+\n",
      "|event_timestamp    |machine_id|vibration|acoustic|temperature|current|status|IMF_1|IMF_2|IMF_3|label|\n",
      "+-------------------+----------+---------+--------+-----------+-------+------+-----+-----+-----+-----+\n",
      "|2024-07-01 10:24:00|M01       |0.886    |0.565   |65.33      |12.73  |Normal|null |null |null |0    |\n",
      "+-------------------+----------+---------+--------+-----------+-------+------+-----+-----+-----+-----+\n",
      "\n",
      "-------------------------------------------\n",
      "Batch: 77\n",
      "-------------------------------------------\n",
      "+-------------------+----------+---------+--------+-----------+-------+------+-----+-----+-----+-----+\n",
      "|event_timestamp    |machine_id|vibration|acoustic|temperature|current|status|IMF_1|IMF_2|IMF_3|label|\n",
      "+-------------------+----------+---------+--------+-----------+-------+------+-----+-----+-----+-----+\n",
      "|2024-07-01 10:25:00|M01       |0.837    |0.608   |63.51      |12.32  |Normal|null |null |null |0    |\n",
      "+-------------------+----------+---------+--------+-----------+-------+------+-----+-----+-----+-----+\n",
      "\n",
      "-------------------------------------------\n",
      "Batch: 78\n",
      "-------------------------------------------\n",
      "+-------------------+----------+---------+--------+-----------+-------+------+-----+-----+-----+-----+\n",
      "|event_timestamp    |machine_id|vibration|acoustic|temperature|current|status|IMF_1|IMF_2|IMF_3|label|\n",
      "+-------------------+----------+---------+--------+-----------+-------+------+-----+-----+-----+-----+\n",
      "|2024-07-01 10:26:00|M01       |0.805    |0.639   |66.13      |11.83  |Normal|null |null |null |0    |\n",
      "+-------------------+----------+---------+--------+-----------+-------+------+-----+-----+-----+-----+\n",
      "\n",
      "-------------------------------------------\n",
      "Batch: 79\n",
      "-------------------------------------------\n",
      "+-------------------+----------+---------+--------+-----------+-------+------+-----+-----+-----+-----+\n",
      "|event_timestamp    |machine_id|vibration|acoustic|temperature|current|status|IMF_1|IMF_2|IMF_3|label|\n",
      "+-------------------+----------+---------+--------+-----------+-------+------+-----+-----+-----+-----+\n",
      "|2024-07-01 10:27:00|M01       |0.799    |0.57    |64.9       |12.11  |Normal|null |null |null |0    |\n",
      "+-------------------+----------+---------+--------+-----------+-------+------+-----+-----+-----+-----+\n",
      "\n",
      "-------------------------------------------\n",
      "Batch: 80\n",
      "-------------------------------------------\n",
      "+-------------------+----------+---------+--------+-----------+-------+------+-----+-----+-----+-----+\n",
      "|event_timestamp    |machine_id|vibration|acoustic|temperature|current|status|IMF_1|IMF_2|IMF_3|label|\n",
      "+-------------------+----------+---------+--------+-----------+-------+------+-----+-----+-----+-----+\n",
      "|2024-07-01 10:28:00|M01       |0.82     |0.652   |68.69      |12.11  |Normal|null |null |null |0    |\n",
      "+-------------------+----------+---------+--------+-----------+-------+------+-----+-----+-----+-----+\n",
      "\n",
      "-------------------------------------------\n",
      "Batch: 81\n",
      "-------------------------------------------\n",
      "+-------------------+----------+---------+--------+-----------+-------+------+-----+-----+-----+-----+\n",
      "|event_timestamp    |machine_id|vibration|acoustic|temperature|current|status|IMF_1|IMF_2|IMF_3|label|\n",
      "+-------------------+----------+---------+--------+-----------+-------+------+-----+-----+-----+-----+\n",
      "|2024-07-01 10:29:00|M01       |0.758    |0.615   |69.0       |11.43  |Normal|null |null |null |0    |\n",
      "+-------------------+----------+---------+--------+-----------+-------+------+-----+-----+-----+-----+\n",
      "\n",
      "-------------------------------------------\n",
      "Batch: 82\n",
      "-------------------------------------------\n",
      "+-------------------+----------+---------+--------+-----------+-------+------+-----+-----+-----+-----+\n",
      "|event_timestamp    |machine_id|vibration|acoustic|temperature|current|status|IMF_1|IMF_2|IMF_3|label|\n",
      "+-------------------+----------+---------+--------+-----------+-------+------+-----+-----+-----+-----+\n",
      "|2024-07-01 10:30:00|M01       |0.753    |0.573   |64.61      |12.42  |Normal|null |null |null |0    |\n",
      "+-------------------+----------+---------+--------+-----------+-------+------+-----+-----+-----+-----+\n",
      "\n",
      "-------------------------------------------\n",
      "Batch: 83\n",
      "-------------------------------------------\n",
      "+-------------------+----------+---------+--------+-----------+-------+------+-----+-----+-----+-----+\n",
      "|event_timestamp    |machine_id|vibration|acoustic|temperature|current|status|IMF_1|IMF_2|IMF_3|label|\n",
      "+-------------------+----------+---------+--------+-----------+-------+------+-----+-----+-----+-----+\n",
      "|2024-07-01 10:31:00|M01       |0.778    |0.632   |65.82      |12.29  |Normal|null |null |null |0    |\n",
      "+-------------------+----------+---------+--------+-----------+-------+------+-----+-----+-----+-----+\n",
      "\n"
     ]
    },
    {
     "name": "stderr",
     "output_type": "stream",
     "text": [
      "                                                                                \r"
     ]
    },
    {
     "name": "stdout",
     "output_type": "stream",
     "text": [
      "-------------------------------------------\n",
      "Batch: 84\n",
      "-------------------------------------------\n",
      "+-------------------+----------+---------+--------+-----------+-------+------+-----+-----+-----+-----+\n",
      "|event_timestamp    |machine_id|vibration|acoustic|temperature|current|status|IMF_1|IMF_2|IMF_3|label|\n",
      "+-------------------+----------+---------+--------+-----------+-------+------+-----+-----+-----+-----+\n",
      "|2024-07-01 10:32:00|M01       |0.832    |0.635   |66.71      |11.67  |Normal|null |null |null |0    |\n",
      "+-------------------+----------+---------+--------+-----------+-------+------+-----+-----+-----+-----+\n",
      "\n",
      "-------------------------------------------\n",
      "Batch: 85\n",
      "-------------------------------------------\n",
      "+-------------------+----------+---------+--------+-----------+-------+------+-----+-----+-----+-----+\n",
      "|event_timestamp    |machine_id|vibration|acoustic|temperature|current|status|IMF_1|IMF_2|IMF_3|label|\n",
      "+-------------------+----------+---------+--------+-----------+-------+------+-----+-----+-----+-----+\n",
      "|2024-07-01 10:33:00|M01       |0.788    |0.605   |67.13      |11.46  |Normal|null |null |null |0    |\n",
      "+-------------------+----------+---------+--------+-----------+-------+------+-----+-----+-----+-----+\n",
      "\n"
     ]
    }
   ],
   "source": [
    "# Menulis ke topik Kafka yang sudah bersih\n",
    "kafka_output_df = final_df.select(expr(\"to_json(struct(*)) AS value\"))\n",
    "kafka_query = kafka_output_df \\\n",
    "    .writeStream \\\n",
    "    .format(\"kafka\") \\\n",
    "    .option(\"kafka.bootstrap.servers\", \"kafka:9092\") \\\n",
    "    .option(\"topic\", \"clean_sensor_data\") \\\n",
    "    .option(\"checkpointLocation\", \"/tmp/spark_checkpoints/kafka_sensor_writer\") \\\n",
    "    .start()"
   ]
  },
  {
   "cell_type": "code",
   "execution_count": 10,
   "id": "3de23710",
   "metadata": {
    "scrolled": true
   },
   "outputs": [],
   "source": [
    "# Untuk menghentikan semua query:\n",
    "console_query.stop()\n",
    "kafka_query.stop()"
   ]
  },
  {
   "cell_type": "code",
   "execution_count": null,
   "id": "e513de33-afb7-44fc-a4b8-0f879f708aa0",
   "metadata": {},
   "outputs": [],
   "source": []
  }
 ],
 "metadata": {
  "kernelspec": {
   "display_name": "Python 3 (ipykernel)",
   "language": "python",
   "name": "python3"
  },
  "language_info": {
   "codemirror_mode": {
    "name": "ipython",
    "version": 3
   },
   "file_extension": ".py",
   "mimetype": "text/x-python",
   "name": "python",
   "nbconvert_exporter": "python",
   "pygments_lexer": "ipython3",
   "version": "3.11.6"
  }
 },
 "nbformat": 4,
 "nbformat_minor": 5
}
