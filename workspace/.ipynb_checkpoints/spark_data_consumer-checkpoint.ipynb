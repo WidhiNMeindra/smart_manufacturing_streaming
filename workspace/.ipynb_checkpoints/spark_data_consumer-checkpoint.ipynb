{
 "cells": [
  {
   "cell_type": "code",
   "execution_count": null,
   "id": "c64eede0",
   "metadata": {},
   "outputs": [],
   "source": [
    "# Impor library yang diperlukan\n",
    "from pyspark.sql import SparkSession\n",
    "from pyspark.sql.functions import from_json, col, expr, when\n",
    "from pyspark.sql.types import StructType, StructField, StringType, IntegerType, DoubleType"
   ]
  },
  {
   "cell_type": "code",
   "execution_count": null,
   "id": "77ad6a4f",
   "metadata": {},
   "outputs": [],
   "source": [
    "# Membuat SparkSession\n",
    "spark = SparkSession.builder \\\n",
    "    .appName(\"MachineFailureStreaming\") \\\n",
    "    .master(\"spark://spark-master:7077\") \\\n",
    "    .config(\"spark.jars.packages\", \"org.apache.spark:spark-sql-kafka-0-10_2.12:3.3.0\") \\\n",
    "    .getOrCreate()\n",
    "\n",
    "print(\"SparkSession berhasil dibuat.\")"
   ]
  },
  {
   "cell_type": "code",
   "execution_count": null,
   "id": "0ce6524c",
   "metadata": {},
   "outputs": [],
   "source": [
    "# Mendefinisikan Skema Data Mentah\n",
    "\n",
    "raw_schema = StructType([\n",
    "    StructField(\"UDI\", IntegerType(), True),\n",
    "    StructField(\"Product ID\", StringType(), True),\n",
    "    StructField(\"Type\", StringType(), True),\n",
    "    StructField(\"Air temperature [K]\", DoubleType(), True),\n",
    "    StructField(\"Process temperature [K]\", DoubleType(), True),\n",
    "    StructField(\"Rotational speed [rpm]\", IntegerType(), True),\n",
    "    StructField(\"Torque [Nm]\", DoubleType(), True),\n",
    "    StructField(\"Tool wear [min]\", IntegerType(), True),\n",
    "    StructField(\"Machine failure\", IntegerType(), True),\n",
    "    StructField(\"TWF\", IntegerType(), True),\n",
    "    StructField(\"HDF\", IntegerType(), True),\n",
    "    StructField(\"PWF\", IntegerType(), True),\n",
    "    StructField(\"OSF\", IntegerType(), True),\n",
    "    StructField(\"RNF\", IntegerType(), True)\n",
    "])"
   ]
  },
  {
   "cell_type": "code",
   "execution_count": null,
   "id": "1cccc958",
   "metadata": {},
   "outputs": [],
   "source": [
    "# Membaca Aliran Data dari Topik Kafka 'raw_sensor_data'\n",
    "# readStream membuat DataFrame yang merepresentasikan aliran data dari Kafka.\n",
    "raw_stream_df = spark \\\n",
    "    .readStream \\\n",
    "    .format(\"kafka\") \\\n",
    "    .option(\"kafka.bootstrap.servers\", \"kafka:9092\") \\\n",
    "    .option(\"subscribe\", \"raw_sensor_data\") \\\n",
    "    .option(\"startingOffsets\", \"earliest\") \\\n",
    "    .load()"
   ]
  },
  {
   "cell_type": "code",
   "execution_count": null,
   "id": "5d07d0f7",
   "metadata": {},
   "outputs": [],
   "source": [
    "raw_stream_df.printSchema()"
   ]
  },
  {
   "cell_type": "code",
   "execution_count": null,
   "id": "038bf121",
   "metadata": {},
   "outputs": [],
   "source": [
    "# Melakukan Parsing dan Transformasi Data\n",
    "# 1. Mengambil kolom 'value' dari Kafka (yang berisi data JSON) dan ubah menjadi STRING.\n",
    "# 2. Menggunakan from_json untuk mem-parsing string JSON menjadi struct menggunakan skema yang kita definisikan.\n",
    "# 3. 'Flatten' struct agar setiap key di JSON menjadi kolom sendiri.\n",
    "parsed_df = raw_stream_df \\\n",
    "    .select(from_json(col(\"value\").cast(\"string\"), raw_schema).alias(\"data\")) \\\n",
    "    .select(\"data.*\")"
   ]
  },
  {
   "cell_type": "code",
   "execution_count": null,
   "id": "5920c3f1",
   "metadata": {},
   "outputs": [],
   "source": [
    "# Melakukan Transformasi\n",
    "#    - Mengganti nama kolom agar lebih mudah digunakan (tanpa spasi/karakter aneh).\n",
    "#    - Konversi suhu dari Kelvin ke Celsius.\n",
    "#    - Membuat satu kolom 'failure_type' yang lebih deskriptif.\n",
    "transformed_df = parsed_df.withColumnRenamed(\"Air temperature [K]\", \"air_temperature_k\") \\\n",
    "    .withColumnRenamed(\"Process temperature [K]\", \"process_temperature_k\") \\\n",
    "    .withColumnRenamed(\"Rotational speed [rpm]\", \"rotational_speed_rpm\") \\\n",
    "    .withColumnRenamed(\"Torque [Nm]\", \"torque_nm\") \\\n",
    "    .withColumnRenamed(\"Tool wear [min]\", \"tool_wear_min\") \\\n",
    "    .withColumnRenamed(\"Machine failure\", \"machine_failure\") \\\n",
    "    .withColumnRenamed(\"Product ID\", \"product_id\") \\\n",
    "    .withColumn(\"air_temperature_celsius\", col(\"air_temperature_k\") - 273.15) \\\n",
    "    .withColumn(\"process_temperature_celsius\", col(\"process_temperature_k\") - 273.15) \\\n",
    "    .withColumn(\"failure_type\",\n",
    "        when(col(\"TWF\") == 1, \"Tool Wear Failure\")\n",
    "        .when(col(\"HDF\") == 1, \"Heat Dissipation Failure\")\n",
    "        .when(col(\"PWF\") == 1, \"Power Failure\")\n",
    "        .when(col(\"OSF\") == 1, \"Overstrain Failure\")\n",
    "        .when(col(\"RNF\") == 1, \"Random Failure\")\n",
    "        .otherwise(\"No Failure\")\n",
    "    )"
   ]
  },
  {
   "cell_type": "code",
   "execution_count": null,
   "id": "90bcf659",
   "metadata": {},
   "outputs": [],
   "source": [
    "# Pilih kolom final yang akan kita kirim\n",
    "final_df = transformed_df.select(\n",
    "    \"UDI\", \"product_id\", \"Type\", \"air_temperature_celsius\", \"process_temperature_celsius\",\n",
    "    \"rotational_speed_rpm\", \"torque_nm\", \"tool_wear_min\", \"machine_failure\", \"failure_type\"\n",
    ")\n",
    "\n",
    "final_df.printSchema()"
   ]
  },
  {
   "cell_type": "code",
   "execution_count": null,
   "id": "b39ff858",
   "metadata": {},
   "outputs": [],
   "source": [
    "# Menulis Hasil Transformasi ke Konsol (Untuk Debugging)\n",
    "# Memastikan transformasi benar sebelum menulis kembali ke Kafka.\n",
    "\n",
    "console_query = final_df \\\n",
    "    .writeStream \\\n",
    "    .outputMode(\"append\") \\\n",
    "    .format(\"console\") \\\n",
    "    .option(\"truncate\", \"false\") \\\n",
    "    .start()"
   ]
  },
  {
   "cell_type": "code",
   "execution_count": null,
   "id": "01615e68",
   "metadata": {},
   "outputs": [],
   "source": [
    "# Menulis Aliran Data yang Sudah Bersih ke Topik Kafka 'clean_sensor_data'\n",
    "kafka_output_df = final_df.select(expr(\"to_json(struct(*)) AS value\"))"
   ]
  },
  {
   "cell_type": "code",
   "execution_count": null,
   "id": "e680df2a",
   "metadata": {},
   "outputs": [],
   "source": [
    "# Tulis ke topik Kafka baru\n",
    "kafka_query = kafka_output_df \\\n",
    "    .writeStream \\\n",
    "    .format(\"kafka\") \\\n",
    "    .option(\"kafka.bootstrap.servers\", \"kafka:9092\") \\\n",
    "    .option(\"topic\", \"clean_sensor_data\") \\\n",
    "    .option(\"checkpointLocation\", \"/tmp/spark_checkpoints/kafka_writer\") \\\n",
    "    .start()\n",
    "\n",
    "print(\"Streaming data yang sudah bersih ke topik 'clean_sensor_data' telah dimulai.\")"
   ]
  },
  {
   "cell_type": "code",
   "execution_count": null,
   "id": "3de23710",
   "metadata": {},
   "outputs": [],
   "source": [
    "# Untuk menghentikan semua query:\n",
    "# console_query.stop()\n",
    "# kafka_query.stop()"
   ]
  }
 ],
 "metadata": {
  "kernelspec": {
   "display_name": "Python 3 (ipykernel)",
   "language": "python",
   "name": "python3"
  },
  "language_info": {
   "codemirror_mode": {
    "name": "ipython",
    "version": 3
   },
   "file_extension": ".py",
   "mimetype": "text/x-python",
   "name": "python",
   "nbconvert_exporter": "python",
   "pygments_lexer": "ipython3",
   "version": "3.11.6"
  }
 },
 "nbformat": 4,
 "nbformat_minor": 5
}
