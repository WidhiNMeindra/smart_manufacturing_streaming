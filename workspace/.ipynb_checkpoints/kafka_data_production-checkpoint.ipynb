{
 "cells": [
  {
   "cell_type": "code",
   "execution_count": 2,
   "id": "819caf18-a9bb-4068-802d-b3806f084384",
   "metadata": {},
   "outputs": [
    {
     "name": "stdout",
     "output_type": "stream",
     "text": [
      "Collecting kafka-python\n",
      "  Downloading kafka_python-2.2.15-py2.py3-none-any.whl.metadata (10.0 kB)\n",
      "Requirement already satisfied: pandas in /opt/conda/lib/python3.11/site-packages (2.0.3)\n",
      "Requirement already satisfied: python-dateutil>=2.8.2 in /opt/conda/lib/python3.11/site-packages (from pandas) (2.8.2)\n",
      "Requirement already satisfied: pytz>=2020.1 in /opt/conda/lib/python3.11/site-packages (from pandas) (2023.3.post1)\n",
      "Requirement already satisfied: tzdata>=2022.1 in /opt/conda/lib/python3.11/site-packages (from pandas) (2023.3)\n",
      "Requirement already satisfied: numpy>=1.21.0 in /opt/conda/lib/python3.11/site-packages (from pandas) (1.24.4)\n",
      "Requirement already satisfied: six>=1.5 in /opt/conda/lib/python3.11/site-packages (from python-dateutil>=2.8.2->pandas) (1.16.0)\n",
      "Downloading kafka_python-2.2.15-py2.py3-none-any.whl (309 kB)\n",
      "\u001b[2K   \u001b[90m━━━━━━━━━━━━━━━━━━━━━━━━━━━━━━━━━━━━━━━━\u001b[0m \u001b[32m309.8/309.8 kB\u001b[0m \u001b[31m1.3 MB/s\u001b[0m eta \u001b[36m0:00:00\u001b[0m00:01\u001b[0m00:01\u001b[0m\n",
      "\u001b[?25hInstalling collected packages: kafka-python\n",
      "Successfully installed kafka-python-2.2.15\n"
     ]
    }
   ],
   "source": [
    "!pip install kafka-python pandas"
   ]
  },
  {
   "cell_type": "code",
   "execution_count": 1,
   "id": "ed6b1387",
   "metadata": {},
   "outputs": [],
   "source": [
    "# Impor Library\n",
    "import pandas as pd\n",
    "from kafka import KafkaProducer\n",
    "import json\n",
    "import time\n",
    "import logging"
   ]
  },
  {
   "cell_type": "code",
   "execution_count": 2,
   "id": "321d163e",
   "metadata": {},
   "outputs": [],
   "source": [
    "# Konfigurasi logging untuk melihat output\n",
    "logging.basicConfig(level=logging.INFO)\n",
    "log = logging.getLogger(__name__)"
   ]
  },
  {
   "cell_type": "code",
   "execution_count": 3,
   "id": "bf8e08c7",
   "metadata": {},
   "outputs": [
    {
     "name": "stderr",
     "output_type": "stream",
     "text": [
      "INFO:__main__:Kafka Producer berhasil terhubung.\n",
      "INFO:kafka.conn:<BrokerConnection client_id=kafka-python-producer-1, node_id=bootstrap-0 host=kafka:9092 <connecting> [IPv4 ('172.18.0.4', 9092)]>: connecting to kafka:9092 [('172.18.0.4', 9092) IPv4]\n",
      "INFO:kafka.conn:<BrokerConnection client_id=kafka-python-producer-1, node_id=bootstrap-0 host=kafka:9092 <connected> [IPv4 ('172.18.0.4', 9092)]>: Connection complete.\n"
     ]
    }
   ],
   "source": [
    "# Inisialisasi Kafka Producer\n",
    "try:\n",
    "    producer = KafkaProducer(\n",
    "        bootstrap_servers='kafka:9092',\n",
    "        value_serializer=lambda v: json.dumps(v).encode('utf-8'),\n",
    "        api_version=(0, 10, 1)\n",
    "    )\n",
    "    log.info(\"Kafka Producer berhasil terhubung.\")\n",
    "except Exception as e:\n",
    "    log.error(f\"Gagal terhubung ke Kafka: {e}\")\n",
    "    producer = None"
   ]
  },
  {
   "cell_type": "code",
   "execution_count": 4,
   "id": "d6a628c5",
   "metadata": {},
   "outputs": [
    {
     "name": "stderr",
     "output_type": "stream",
     "text": [
      "ERROR:__main__:File tidak ditemukan di path: work/predictive_maintenance.csv. Pastikan file CSV ada di folder 'workspace'.\n"
     ]
    }
   ],
   "source": [
    "# Membaca Dataset dengan Path yang PASTI BENAR\n",
    "if producer:\n",
    "    # Nama file harus sesuai dengan yang Anda letakkan di folder 'work'\n",
    "    file_path = 'data/predictive_maintenance.csv' \n",
    "    \n",
    "    try:\n",
    "        df = pd.read_csv(file_path)\n",
    "        log.info(f\"Dataset berhasil dimuat. Jumlah baris: {len(df)}\")\n",
    "        \n",
    "        # Nama topik di Kafka tempat kita akan mengirim data\n",
    "        KAFKA_TOPIC = 'raw_sensor_data'\n",
    "\n",
    "        # Loop melalui setiap baris di DataFrame\n",
    "        for index, row in df.iterrows():\n",
    "            # Ubah setiap baris menjadi dictionary\n",
    "            message = row.to_dict()\n",
    "            \n",
    "            # Kirim pesan ke Kafka\n",
    "            producer.send(KAFKA_TOPIC, value=message)\n",
    "            \n",
    "            # Cetak pesan ke log setiap 100 baris untuk memantau progres\n",
    "            if (index + 1) % 100 == 0:\n",
    "                log.info(f\"Mengirim pesan ke-{index + 1}: {message}\")\n",
    "            \n",
    "            # Beri jeda 0.1 detik untuk mensimulasikan aliran data real-time\n",
    "            time.sleep(0.1)\n",
    "            \n",
    "        # Pastikan semua pesan terkirim sebelum skrip selesai\n",
    "        producer.flush()\n",
    "        log.info(\"Semua data berhasil dikirim ke Kafka.\")\n",
    "        \n",
    "    except FileNotFoundError:\n",
    "        log.error(f\"File tidak ditemukan di path: {file_path}. Pastikan file CSV ada di folder 'workspace'.\")\n",
    "    except Exception as e:\n",
    "        log.error(f\"Terjadi error saat mengirim data: {e}\")\n",
    "\n",
    "else:\n",
    "    log.warning(\"Producer tidak diinisialisasi. Proses pengiriman data dibatalkan.\")"
   ]
  },
  {
   "cell_type": "code",
   "execution_count": null,
   "id": "0d4c67b8-af9c-48f2-a8aa-d291445b5b32",
   "metadata": {},
   "outputs": [],
   "source": []
  }
 ],
 "metadata": {
  "kernelspec": {
   "display_name": "Python 3 (ipykernel)",
   "language": "python",
   "name": "python3"
  },
  "language_info": {
   "codemirror_mode": {
    "name": "ipython",
    "version": 3
   },
   "file_extension": ".py",
   "mimetype": "text/x-python",
   "name": "python",
   "nbconvert_exporter": "python",
   "pygments_lexer": "ipython3",
   "version": "3.11.6"
  }
 },
 "nbformat": 4,
 "nbformat_minor": 5
}
