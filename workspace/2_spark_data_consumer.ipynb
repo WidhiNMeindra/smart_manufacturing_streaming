{
 "cells": [
  {
   "cell_type": "code",
   "execution_count": 1,
   "id": "c64eede0",
   "metadata": {},
   "outputs": [],
   "source": [
    "# Impor library yang diperlukan\n",
    "from pyspark.sql import SparkSession\n",
    "from pyspark.sql.functions import from_json, col, expr, when, to_timestamp\n",
    "from pyspark.sql.types import StructType, StructField, StringType, IntegerType, DoubleType"
   ]
  },
  {
   "cell_type": "code",
   "execution_count": 2,
   "id": "77ad6a4f",
   "metadata": {},
   "outputs": [
    {
     "name": "stdout",
     "output_type": "stream",
     "text": [
      ":: loading settings :: url = jar:file:/opt/conda/lib/python3.11/site-packages/pyspark/jars/ivy-2.5.0.jar!/org/apache/ivy/core/settings/ivysettings.xml\n"
     ]
    },
    {
     "name": "stderr",
     "output_type": "stream",
     "text": [
      "Ivy Default Cache set to: /home/jovyan/.ivy2/cache\n",
      "The jars for the packages stored in: /home/jovyan/.ivy2/jars\n",
      "org.apache.spark#spark-sql-kafka-0-10_2.12 added as a dependency\n",
      ":: resolving dependencies :: org.apache.spark#spark-submit-parent-81b85ea0-8b69-4027-bbd7-5e29d202b6e3;1.0\n",
      "\tconfs: [default]\n",
      "\tfound org.apache.spark#spark-sql-kafka-0-10_2.12;3.3.0 in central\n",
      "\tfound org.apache.spark#spark-token-provider-kafka-0-10_2.12;3.3.0 in central\n",
      "\tfound org.apache.kafka#kafka-clients;2.8.1 in central\n",
      "\tfound org.lz4#lz4-java;1.8.0 in central\n",
      "\tfound org.xerial.snappy#snappy-java;1.1.8.4 in central\n",
      "\tfound org.slf4j#slf4j-api;1.7.32 in central\n",
      "\tfound org.apache.hadoop#hadoop-client-runtime;3.3.2 in central\n",
      "\tfound org.spark-project.spark#unused;1.0.0 in central\n",
      "\tfound org.apache.hadoop#hadoop-client-api;3.3.2 in central\n",
      "\tfound commons-logging#commons-logging;1.1.3 in central\n",
      "\tfound com.google.code.findbugs#jsr305;3.0.0 in central\n",
      "\tfound org.apache.commons#commons-pool2;2.11.1 in central\n",
      "downloading https://repo1.maven.org/maven2/org/apache/spark/spark-sql-kafka-0-10_2.12/3.3.0/spark-sql-kafka-0-10_2.12-3.3.0.jar ...\n",
      "\t[SUCCESSFUL ] org.apache.spark#spark-sql-kafka-0-10_2.12;3.3.0!spark-sql-kafka-0-10_2.12.jar (813ms)\n",
      "downloading https://repo1.maven.org/maven2/org/apache/spark/spark-token-provider-kafka-0-10_2.12/3.3.0/spark-token-provider-kafka-0-10_2.12-3.3.0.jar ...\n",
      "\t[SUCCESSFUL ] org.apache.spark#spark-token-provider-kafka-0-10_2.12;3.3.0!spark-token-provider-kafka-0-10_2.12.jar (442ms)\n",
      "downloading https://repo1.maven.org/maven2/org/apache/kafka/kafka-clients/2.8.1/kafka-clients-2.8.1.jar ...\n",
      "\t[SUCCESSFUL ] org.apache.kafka#kafka-clients;2.8.1!kafka-clients.jar (4136ms)\n",
      "downloading https://repo1.maven.org/maven2/com/google/code/findbugs/jsr305/3.0.0/jsr305-3.0.0.jar ...\n",
      "\t[SUCCESSFUL ] com.google.code.findbugs#jsr305;3.0.0!jsr305.jar (466ms)\n",
      "downloading https://repo1.maven.org/maven2/org/apache/commons/commons-pool2/2.11.1/commons-pool2-2.11.1.jar ...\n",
      "\t[SUCCESSFUL ] org.apache.commons#commons-pool2;2.11.1!commons-pool2.jar (489ms)\n",
      "downloading https://repo1.maven.org/maven2/org/spark-project/spark/unused/1.0.0/unused-1.0.0.jar ...\n",
      "\t[SUCCESSFUL ] org.spark-project.spark#unused;1.0.0!unused.jar (420ms)\n",
      "downloading https://repo1.maven.org/maven2/org/apache/hadoop/hadoop-client-runtime/3.3.2/hadoop-client-runtime-3.3.2.jar ...\n",
      "\t[SUCCESSFUL ] org.apache.hadoop#hadoop-client-runtime;3.3.2!hadoop-client-runtime.jar (19592ms)\n",
      "downloading https://repo1.maven.org/maven2/org/lz4/lz4-java/1.8.0/lz4-java-1.8.0.jar ...\n",
      "\t[SUCCESSFUL ] org.lz4#lz4-java;1.8.0!lz4-java.jar (849ms)\n",
      "downloading https://repo1.maven.org/maven2/org/xerial/snappy/snappy-java/1.1.8.4/snappy-java-1.1.8.4.jar ...\n",
      "\t[SUCCESSFUL ] org.xerial.snappy#snappy-java;1.1.8.4!snappy-java.jar(bundle) (1902ms)\n",
      "downloading https://repo1.maven.org/maven2/org/slf4j/slf4j-api/1.7.32/slf4j-api-1.7.32.jar ...\n",
      "\t[SUCCESSFUL ] org.slf4j#slf4j-api;1.7.32!slf4j-api.jar (470ms)\n",
      "downloading https://repo1.maven.org/maven2/org/apache/hadoop/hadoop-client-api/3.3.2/hadoop-client-api-3.3.2.jar ...\n",
      "\t[SUCCESSFUL ] org.apache.hadoop#hadoop-client-api;3.3.2!hadoop-client-api.jar (13005ms)\n",
      "downloading https://repo1.maven.org/maven2/commons-logging/commons-logging/1.1.3/commons-logging-1.1.3.jar ...\n",
      "\t[SUCCESSFUL ] commons-logging#commons-logging;1.1.3!commons-logging.jar (494ms)\n",
      ":: resolution report :: resolve 25326ms :: artifacts dl 43127ms\n",
      "\t:: modules in use:\n",
      "\tcom.google.code.findbugs#jsr305;3.0.0 from central in [default]\n",
      "\tcommons-logging#commons-logging;1.1.3 from central in [default]\n",
      "\torg.apache.commons#commons-pool2;2.11.1 from central in [default]\n",
      "\torg.apache.hadoop#hadoop-client-api;3.3.2 from central in [default]\n",
      "\torg.apache.hadoop#hadoop-client-runtime;3.3.2 from central in [default]\n",
      "\torg.apache.kafka#kafka-clients;2.8.1 from central in [default]\n",
      "\torg.apache.spark#spark-sql-kafka-0-10_2.12;3.3.0 from central in [default]\n",
      "\torg.apache.spark#spark-token-provider-kafka-0-10_2.12;3.3.0 from central in [default]\n",
      "\torg.lz4#lz4-java;1.8.0 from central in [default]\n",
      "\torg.slf4j#slf4j-api;1.7.32 from central in [default]\n",
      "\torg.spark-project.spark#unused;1.0.0 from central in [default]\n",
      "\torg.xerial.snappy#snappy-java;1.1.8.4 from central in [default]\n",
      "\t---------------------------------------------------------------------\n",
      "\t|                  |            modules            ||   artifacts   |\n",
      "\t|       conf       | number| search|dwnlded|evicted|| number|dwnlded|\n",
      "\t---------------------------------------------------------------------\n",
      "\t|      default     |   12  |   12  |   12  |   0   ||   12  |   12  |\n",
      "\t---------------------------------------------------------------------\n",
      ":: retrieving :: org.apache.spark#spark-submit-parent-81b85ea0-8b69-4027-bbd7-5e29d202b6e3\n",
      "\tconfs: [default]\n",
      "\t12 artifacts copied, 0 already retrieved (56631kB/195ms)\n"
     ]
    },
    {
     "name": "stdout",
     "output_type": "stream",
     "text": [
      "25/07/10 16:17:25 WARN NativeCodeLoader: Unable to load native-hadoop library for your platform... using builtin-java classes where applicable\n"
     ]
    },
    {
     "name": "stderr",
     "output_type": "stream",
     "text": [
      "Setting default log level to \"WARN\".\n",
      "To adjust logging level use sc.setLogLevel(newLevel). For SparkR, use setLogLevel(newLevel).\n"
     ]
    },
    {
     "name": "stdout",
     "output_type": "stream",
     "text": [
      "SparkSession berhasil dibuat.\n"
     ]
    }
   ],
   "source": [
    "# Membuat SparkSession\n",
    "spark = SparkSession.builder \\\n",
    "    .appName(\"PredictiveMaintenanceStreaming\") \\\n",
    "    .master(\"spark://spark-master:7077\") \\\n",
    "    .config(\"spark.jars.packages\", \"org.apache.spark:spark-sql-kafka-0-10_2.12:3.3.0\") \\\n",
    "    .getOrCreate()\n",
    "\n",
    "print(\"SparkSession berhasil dibuat.\")"
   ]
  },
  {
   "cell_type": "code",
   "execution_count": 9,
   "id": "0ce6524c",
   "metadata": {},
   "outputs": [],
   "source": [
    "# Mendefinisikan Skema\n",
    "raw_schema = StructType([\n",
    "    StructField(\"timestamp\", StringType(), True),\n",
    "    StructField(\"machine_id\", StringType(), True),\n",
    "    StructField(\"vibration\", DoubleType(), True),\n",
    "    StructField(\"acoustic\", DoubleType(), True),\n",
    "    StructField(\"temperature\", DoubleType(), True),\n",
    "    StructField(\"current\", DoubleType(), True),\n",
    "    StructField(\"IMF_1\", DoubleType(), True),\n",
    "    StructField(\"IMF_2\", DoubleType(), True),\n",
    "    StructField(\"IMF_3\", DoubleType(), True),\n",
    "    StructField(\"label\", IntegerType(), True)\n",
    "])"
   ]
  },
  {
   "cell_type": "code",
   "execution_count": 10,
   "id": "1b710b80-9197-4698-a278-13d80407bbe2",
   "metadata": {
    "scrolled": true
   },
   "outputs": [],
   "source": [
    "# Membaca dari topik Kafka\n",
    "raw_stream_df = spark \\\n",
    "    .readStream \\\n",
    "    .format(\"kafka\") \\\n",
    "    .option(\"kafka.bootstrap.servers\", \"kafka:9092\") \\\n",
    "    .option(\"subscribe\", \"raw_sensor_data\") \\\n",
    "    .option(\"startingOffsets\", \"earliest\") \\\n",
    "    .load()"
   ]
  },
  {
   "cell_type": "code",
   "execution_count": 11,
   "id": "5d07d0f7",
   "metadata": {},
   "outputs": [
    {
     "name": "stdout",
     "output_type": "stream",
     "text": [
      "root\n",
      " |-- key: binary (nullable = true)\n",
      " |-- value: binary (nullable = true)\n",
      " |-- topic: string (nullable = true)\n",
      " |-- partition: integer (nullable = true)\n",
      " |-- offset: long (nullable = true)\n",
      " |-- timestamp: timestamp (nullable = true)\n",
      " |-- timestampType: integer (nullable = true)\n",
      "\n"
     ]
    }
   ],
   "source": [
    "raw_stream_df.printSchema()"
   ]
  },
  {
   "cell_type": "code",
   "execution_count": 12,
   "id": "038bf121",
   "metadata": {},
   "outputs": [],
   "source": [
    "# Parsing dan Transformasi Data\n",
    "parsed_df = raw_stream_df \\\n",
    "    .select(from_json(col(\"value\").cast(\"string\"), raw_schema).alias(\"data\")) \\\n",
    "    .select(\"data.*\")"
   ]
  },
  {
   "cell_type": "code",
   "execution_count": null,
   "id": "5920c3f1",
   "metadata": {},
   "outputs": [],
   "source": [
    "# Transformasi utama\n",
    "# transformed_df = parsed_df \\\n",
    "#     .withColumn(\"event_timestamp\", to_timestamp(col(\"datetime\"))) \\\n",
    "#     .withColumn(\"status\",\n",
    "#         when((col(\"volt\") > 250) | (col(\"volt\") < 190), \"Voltage Anomaly\")\n",
    "#         .when(col(\"vibration\") > 70, \"High Vibration\")\n",
    "#         .otherwise(\"Normal\")\n",
    "#     )"
   ]
  },
  {
   "cell_type": "code",
   "execution_count": 13,
   "id": "1cc6eeaf-7457-4e9f-87da-04c1eff4d9db",
   "metadata": {},
   "outputs": [],
   "source": [
    "transformed_df = parsed_df \\\n",
    "    .withColumn(\"event_timestamp\", to_timestamp(col(\"timestamp\"))) \\\n",
    "    .withColumn(\"status\",\n",
    "        when(col(\"label\") == 1, \"Failure Detected\")\n",
    "        .otherwise(\"Normal\")\n",
    "    )"
   ]
  },
  {
   "cell_type": "code",
   "execution_count": 14,
   "id": "90bcf659",
   "metadata": {
    "scrolled": true
   },
   "outputs": [],
   "source": [
    "# Pilih kolom final\n",
    "final_df = transformed_df.select(\n",
    "    \"event_timestamp\", \"machine_id\", \"vibration\", \"acoustic\", \n",
    "    \"temperature\", \"current\", \"status\",\n",
    "    \"IMF_1\", \"IMF_2\", \"IMF_3\",\n",
    "    \"label\"\n",
    ")"
   ]
  },
  {
   "cell_type": "code",
   "execution_count": 15,
   "id": "b39ff858",
   "metadata": {
    "scrolled": true
   },
   "outputs": [
    {
     "name": "stdout",
     "output_type": "stream",
     "text": [
      "25/07/10 16:18:55 WARN ResolveWriteToStream: Temporary checkpoint location created which is deleted normally when the query didn't fail: /tmp/temporary-98781038-d8d6-4b88-aa40-4c4751887f63. If it's required to delete it under any circumstances, please set spark.sql.streaming.forceDeleteTempCheckpointLocation to true. Important to know deleting temp checkpoint folder is best effort.\n",
      "25/07/10 16:18:55 WARN ResolveWriteToStream: spark.sql.adaptive.enabled is not supported in streaming DataFrames/Datasets and will be disabled.\n"
     ]
    }
   ],
   "source": [
    "# Memastikan transformasi benar sebelum menulis kembali ke Kafka.\n",
    "# Menulis ke konsol untuk debugging\n",
    "console_query = final_df \\\n",
    "    .writeStream \\\n",
    "    .outputMode(\"append\") \\\n",
    "    .format(\"console\") \\\n",
    "    .option(\"truncate\", \"false\") \\\n",
    "    .start()"
   ]
  },
  {
   "cell_type": "code",
   "execution_count": 16,
   "id": "01615e68",
   "metadata": {
    "scrolled": true
   },
   "outputs": [
    {
     "name": "stdout",
     "output_type": "stream",
     "text": [
      "25/07/10 16:18:56 WARN ResolveWriteToStream: spark.sql.adaptive.enabled is not supported in streaming DataFrames/Datasets and will be disabled.\n"
     ]
    },
    {
     "name": "stderr",
     "output_type": "stream",
     "text": [
      "                                                                                \r"
     ]
    },
    {
     "name": "stdout",
     "output_type": "stream",
     "text": [
      "-------------------------------------------\n",
      "Batch: 0\n",
      "-------------------------------------------\n"
     ]
    },
    {
     "name": "stderr",
     "output_type": "stream",
     "text": [
      "                                                                                \r"
     ]
    },
    {
     "name": "stdout",
     "output_type": "stream",
     "text": [
      "+-------------------+----------+---------+--------+-----------+-------+----------------+-----+------+-----+-----+\n",
      "|event_timestamp    |machine_id|vibration|acoustic|temperature|current|status          |IMF_1|IMF_2 |IMF_3|label|\n",
      "+-------------------+----------+---------+--------+-----------+-------+----------------+-----+------+-----+-----+\n",
      "|2024-07-01 08:00:00|M01       |0.822    |0.645   |66.85      |13.04  |Normal          |0.196|0.033 |0.0  |0    |\n",
      "|2024-07-01 08:01:00|M01       |1.398    |0.834   |76.2       |15.08  |Failure Detected|0.345|0.132 |0.001|1    |\n",
      "|2024-07-01 08:02:00|M01       |0.856    |0.59    |67.03      |12.3   |Normal          |0.187|0.017 |0.002|0    |\n",
      "|2024-07-01 08:03:00|M01       |0.793    |0.544   |65.04      |11.69  |Normal          |0.196|-0.06 |0.003|0    |\n",
      "|2024-07-01 08:04:00|M01       |1.279    |0.721   |78.19      |14.84  |Failure Detected|0.33 |-0.115|0.004|1    |\n",
      "|2024-07-01 08:05:00|M01       |0.782    |0.655   |61.95      |11.56  |Normal          |0.164|-0.081|0.005|0    |\n",
      "|2024-07-01 08:06:00|M01       |0.837    |0.564   |64.52      |10.98  |Normal          |0.238|-0.095|0.006|0    |\n",
      "|2024-07-01 08:07:00|M01       |0.725    |0.652   |62.87      |11.89  |Normal          |0.214|-0.076|0.007|0    |\n",
      "|2024-07-01 08:08:00|M01       |0.803    |0.702   |64.51      |11.19  |Normal          |0.145|-0.004|0.008|0    |\n",
      "|2024-07-01 08:09:00|M01       |0.779    |0.539   |61.3       |12.51  |Normal          |0.103|-0.025|0.009|0    |\n",
      "|2024-07-01 08:10:00|M01       |0.897    |0.627   |67.18      |11.18  |Normal          |0.093|0.097 |0.01 |0    |\n",
      "|2024-07-01 08:11:00|M01       |0.789    |0.603   |65.8       |11.27  |Normal          |0.086|-0.08 |0.011|0    |\n",
      "|2024-07-01 08:12:00|M01       |0.726    |0.575   |65.57      |12.85  |Normal          |0.079|-0.022|0.012|0    |\n",
      "|2024-07-01 08:13:00|M01       |0.826    |0.485   |66.41      |12.15  |Normal          |0.156|-0.005|0.013|0    |\n",
      "|2024-07-01 08:14:00|M01       |0.823    |0.582   |65.28      |12.31  |Normal          |0.217|0.05  |0.014|0    |\n",
      "|2024-07-01 08:15:00|M01       |0.882    |0.594   |62.76      |12.53  |Normal          |0.223|-0.059|0.015|0    |\n",
      "|2024-07-01 08:16:00|M01       |0.783    |0.631   |64.99      |12.56  |Normal          |0.164|-0.107|0.016|0    |\n",
      "|2024-07-01 08:17:00|M01       |0.793    |0.576   |66.74      |12.36  |Normal          |0.168|0.018 |0.017|0    |\n",
      "|2024-07-01 08:18:00|M01       |0.754    |0.6     |65.08      |12.44  |Normal          |0.077|-0.073|0.018|0    |\n",
      "|2024-07-01 08:19:00|M01       |0.917    |0.63    |65.19      |11.82  |Normal          |0.243|0.124 |0.019|0    |\n",
      "+-------------------+----------+---------+--------+-----------+-------+----------------+-----+------+-----+-----+\n",
      "only showing top 20 rows\n",
      "\n"
     ]
    },
    {
     "name": "stderr",
     "output_type": "stream",
     "text": [
      "                                                                                \r"
     ]
    },
    {
     "name": "stdout",
     "output_type": "stream",
     "text": [
      "-------------------------------------------\n",
      "Batch: 1\n",
      "-------------------------------------------\n",
      "+-------------------+----------+---------+--------+-----------+-------+----------------+-----+------+-----+-----+\n",
      "|event_timestamp    |machine_id|vibration|acoustic|temperature|current|status          |IMF_1|IMF_2 |IMF_3|label|\n",
      "+-------------------+----------+---------+--------+-----------+-------+----------------+-----+------+-----+-----+\n",
      "|2024-07-01 08:29:00|M01       |0.788    |0.611   |64.5       |12.32  |Normal          |0.105|0.093 |0.027|0    |\n",
      "|2024-07-01 08:30:00|M01       |1.137    |0.862   |74.22      |15.29  |Failure Detected|0.139|-0.148|0.028|1    |\n",
      "|2024-07-01 08:31:00|M01       |0.75     |0.582   |64.04      |11.75  |Normal          |0.141|0.022 |0.029|0    |\n",
      "|2024-07-01 08:32:00|M01       |0.937    |0.652   |65.23      |12.25  |Normal          |0.172|-0.038|0.03 |0    |\n",
      "|2024-07-01 08:33:00|M01       |0.793    |0.57    |59.79      |11.52  |Normal          |0.191|-0.075|0.031|0    |\n",
      "|2024-07-01 08:34:00|M01       |0.819    |0.589   |65.82      |12.39  |Normal          |0.145|0.051 |0.031|0    |\n",
      "|2024-07-01 08:35:00|M01       |0.821    |0.617   |63.35      |11.58  |Normal          |0.097|-0.014|0.032|0    |\n",
      "|2024-07-01 08:36:00|M01       |0.836    |0.587   |64.51      |11.69  |Normal          |0.09 |-0.103|0.033|0    |\n",
      "|2024-07-01 08:37:00|M01       |0.805    |0.624   |67.33      |11.24  |Normal          |0.146|0.051 |0.034|0    |\n",
      "|2024-07-01 08:38:00|M01       |0.833    |0.585   |66.16      |11.62  |Normal          |0.158|-0.006|0.034|0    |\n",
      "|2024-07-01 08:39:00|M01       |0.863    |0.63    |65.49      |11.11  |Normal          |0.095|-0.054|0.035|0    |\n",
      "|2024-07-01 08:40:00|M01       |0.767    |0.581   |64.5       |11.53  |Normal          |0.18 |0.11  |0.036|0    |\n",
      "|2024-07-01 08:41:00|M01       |0.769    |0.606   |67.0       |11.32  |Normal          |0.141|0.116 |0.037|0    |\n",
      "|2024-07-01 08:42:00|M01       |1.193    |0.943   |76.18      |15.6   |Failure Detected|0.316|-0.055|0.037|1    |\n",
      "|2024-07-01 08:43:00|M01       |0.775    |0.618   |62.66      |12.14  |Normal          |0.149|-0.088|0.038|0    |\n",
      "|2024-07-01 08:44:00|M01       |1.215    |0.983   |75.69      |14.69  |Failure Detected|0.173|-0.037|0.039|1    |\n",
      "|2024-07-01 08:45:00|M01       |0.762    |0.565   |66.09      |11.66  |Normal          |0.115|0.058 |0.039|0    |\n",
      "|2024-07-01 08:46:00|M01       |0.885    |0.616   |64.4       |11.84  |Normal          |0.23 |0.032 |0.04 |0    |\n",
      "|2024-07-01 08:47:00|M01       |0.784    |0.686   |65.96      |11.67  |Normal          |0.106|0.041 |0.04 |0    |\n",
      "|2024-07-01 08:48:00|M01       |1.281    |0.846   |75.78      |14.93  |Failure Detected|0.342|-0.002|0.041|1    |\n",
      "+-------------------+----------+---------+--------+-----------+-------+----------------+-----+------+-----+-----+\n",
      "only showing top 20 rows\n",
      "\n"
     ]
    },
    {
     "name": "stderr",
     "output_type": "stream",
     "text": [
      "                                                                                \r"
     ]
    },
    {
     "name": "stdout",
     "output_type": "stream",
     "text": [
      "-------------------------------------------\n",
      "Batch: 2\n",
      "-------------------------------------------\n",
      "+-------------------+----------+---------+--------+-----------+-------+------+-----+------+-----+-----+\n",
      "|event_timestamp    |machine_id|vibration|acoustic|temperature|current|status|IMF_1|IMF_2 |IMF_3|label|\n",
      "+-------------------+----------+---------+--------+-----------+-------+------+-----+------+-----+-----+\n",
      "|2024-07-01 08:50:00|M01       |0.735    |0.666   |64.08      |11.89  |Normal|0.134|-0.069|0.042|0    |\n",
      "|2024-07-01 08:51:00|M01       |0.826    |0.598   |62.46      |11.24  |Normal|0.15 |0.085 |0.043|0    |\n",
      "+-------------------+----------+---------+--------+-----------+-------+------+-----+------+-----+-----+\n",
      "\n"
     ]
    },
    {
     "name": "stderr",
     "output_type": "stream",
     "text": [
      "                                                                                \r"
     ]
    },
    {
     "name": "stdout",
     "output_type": "stream",
     "text": [
      "-------------------------------------------\n",
      "Batch: 3\n",
      "-------------------------------------------\n",
      "+-------------------+----------+---------+--------+-----------+-------+------+-----+-----+-----+-----+\n",
      "|event_timestamp    |machine_id|vibration|acoustic|temperature|current|status|IMF_1|IMF_2|IMF_3|label|\n",
      "+-------------------+----------+---------+--------+-----------+-------+------+-----+-----+-----+-----+\n",
      "|2024-07-01 08:52:00|M01       |0.704    |0.61    |65.16      |12.08  |Normal|0.116|0.053|0.043|0    |\n",
      "|2024-07-01 08:53:00|M01       |0.781    |0.665   |66.04      |11.95  |Normal|0.087|0.005|0.044|0    |\n",
      "+-------------------+----------+---------+--------+-----------+-------+------+-----+-----+-----+-----+\n",
      "\n",
      "-------------------------------------------\n",
      "Batch: 4\n",
      "-------------------------------------------\n",
      "+-------------------+----------+---------+--------+-----------+-------+----------------+-----+-----+-----+-----+\n",
      "|event_timestamp    |machine_id|vibration|acoustic|temperature|current|status          |IMF_1|IMF_2|IMF_3|label|\n",
      "+-------------------+----------+---------+--------+-----------+-------+----------------+-----+-----+-----+-----+\n",
      "|2024-07-01 08:54:00|M01       |1.159    |0.905   |73.43      |14.24  |Failure Detected|0.23 |0.156|0.044|1    |\n",
      "+-------------------+----------+---------+--------+-----------+-------+----------------+-----+-----+-----+-----+\n",
      "\n",
      "-------------------------------------------\n",
      "Batch: 5\n",
      "-------------------------------------------\n",
      "+-------------------+----------+---------+--------+-----------+-------+------+-----+-----+-----+-----+\n",
      "|event_timestamp    |machine_id|vibration|acoustic|temperature|current|status|IMF_1|IMF_2|IMF_3|label|\n",
      "+-------------------+----------+---------+--------+-----------+-------+------+-----+-----+-----+-----+\n",
      "|2024-07-01 08:55:00|M01       |0.829    |0.594   |65.25      |11.85  |Normal|0.095|0.058|0.045|0    |\n",
      "+-------------------+----------+---------+--------+-----------+-------+------+-----+-----+-----+-----+\n",
      "\n"
     ]
    },
    {
     "name": "stderr",
     "output_type": "stream",
     "text": [
      "                                                                                \r"
     ]
    },
    {
     "name": "stdout",
     "output_type": "stream",
     "text": [
      "-------------------------------------------\n",
      "Batch: 6\n",
      "-------------------------------------------\n",
      "+-------------------+----------+---------+--------+-----------+-------+------+-----+-----+-----+-----+\n",
      "|event_timestamp    |machine_id|vibration|acoustic|temperature|current|status|IMF_1|IMF_2|IMF_3|label|\n",
      "+-------------------+----------+---------+--------+-----------+-------+------+-----+-----+-----+-----+\n",
      "|2024-07-01 08:56:00|M01       |0.852    |0.548   |65.54      |12.2   |Normal|0.239|0.017|0.045|0    |\n",
      "+-------------------+----------+---------+--------+-----------+-------+------+-----+-----+-----+-----+\n",
      "\n"
     ]
    },
    {
     "name": "stderr",
     "output_type": "stream",
     "text": [
      "                                                                                \r"
     ]
    },
    {
     "name": "stdout",
     "output_type": "stream",
     "text": [
      "-------------------------------------------\n",
      "Batch: 7\n",
      "-------------------------------------------\n",
      "+-------------------+----------+---------+--------+-----------+-------+------+-----+-----+-----+-----+\n",
      "|event_timestamp    |machine_id|vibration|acoustic|temperature|current|status|IMF_1|IMF_2|IMF_3|label|\n",
      "+-------------------+----------+---------+--------+-----------+-------+------+-----+-----+-----+-----+\n",
      "|2024-07-01 08:57:00|M01       |0.694    |0.575   |66.68      |12.81  |Normal|0.201|0.055|0.045|0    |\n",
      "+-------------------+----------+---------+--------+-----------+-------+------+-----+-----+-----+-----+\n",
      "\n",
      "-------------------------------------------\n",
      "Batch: 8\n",
      "-------------------------------------------\n",
      "+-------------------+----------+---------+--------+-----------+-------+------+-----+-----+-----+-----+\n",
      "|event_timestamp    |machine_id|vibration|acoustic|temperature|current|status|IMF_1|IMF_2|IMF_3|label|\n",
      "+-------------------+----------+---------+--------+-----------+-------+------+-----+-----+-----+-----+\n",
      "|2024-07-01 08:58:00|M01       |0.799    |0.678   |63.18      |11.75  |Normal|0.13 |0.131|0.046|0    |\n",
      "+-------------------+----------+---------+--------+-----------+-------+------+-----+-----+-----+-----+\n",
      "\n",
      "-------------------------------------------\n",
      "Batch: 9\n",
      "-------------------------------------------\n",
      "+-------------------+----------+---------+--------+-----------+-------+------+-----+-----+-----+-----+\n",
      "|event_timestamp    |machine_id|vibration|acoustic|temperature|current|status|IMF_1|IMF_2|IMF_3|label|\n",
      "+-------------------+----------+---------+--------+-----------+-------+------+-----+-----+-----+-----+\n",
      "|2024-07-01 08:59:00|M01       |0.824    |0.592   |64.97      |12.06  |Normal|0.114|0.102|0.046|0    |\n",
      "+-------------------+----------+---------+--------+-----------+-------+------+-----+-----+-----+-----+\n",
      "\n",
      "-------------------------------------------\n",
      "Batch: 10\n",
      "-------------------------------------------\n",
      "+-------------------+----------+---------+--------+-----------+-------+------+-----+-----+-----+-----+\n",
      "|event_timestamp    |machine_id|vibration|acoustic|temperature|current|status|IMF_1|IMF_2|IMF_3|label|\n",
      "+-------------------+----------+---------+--------+-----------+-------+------+-----+-----+-----+-----+\n",
      "|2024-07-01 09:00:00|M01       |0.772    |0.557   |63.25      |10.49  |Normal|0.166|0.081|0.047|0    |\n",
      "+-------------------+----------+---------+--------+-----------+-------+------+-----+-----+-----+-----+\n",
      "\n",
      "-------------------------------------------\n",
      "Batch: 11\n",
      "-------------------------------------------\n",
      "+-------------------+----------+---------+--------+-----------+-------+------+-----+------+-----+-----+\n",
      "|event_timestamp    |machine_id|vibration|acoustic|temperature|current|status|IMF_1|IMF_2 |IMF_3|label|\n",
      "+-------------------+----------+---------+--------+-----------+-------+------+-----+------+-----+-----+\n",
      "|2024-07-01 09:01:00|M01       |0.801    |0.594   |64.33      |11.97  |Normal|0.199|-0.064|0.047|0    |\n",
      "+-------------------+----------+---------+--------+-----------+-------+------+-----+------+-----+-----+\n",
      "\n"
     ]
    },
    {
     "name": "stderr",
     "output_type": "stream",
     "text": [
      "                                                                                \r"
     ]
    },
    {
     "name": "stdout",
     "output_type": "stream",
     "text": [
      "-------------------------------------------\n",
      "Batch: 12\n",
      "-------------------------------------------\n",
      "+-------------------+----------+---------+--------+-----------+-------+------+-----+------+-----+-----+\n",
      "|event_timestamp    |machine_id|vibration|acoustic|temperature|current|status|IMF_1|IMF_2 |IMF_3|label|\n",
      "+-------------------+----------+---------+--------+-----------+-------+------+-----+------+-----+-----+\n",
      "|2024-07-01 09:02:00|M01       |0.795    |0.594   |65.44      |12.25  |Normal|0.124|-0.037|0.047|0    |\n",
      "+-------------------+----------+---------+--------+-----------+-------+------+-----+------+-----+-----+\n",
      "\n"
     ]
    },
    {
     "name": "stderr",
     "output_type": "stream",
     "text": [
      "                                                                                \r"
     ]
    },
    {
     "name": "stdout",
     "output_type": "stream",
     "text": [
      "-------------------------------------------\n",
      "Batch: 13\n",
      "-------------------------------------------\n",
      "+-------------------+----------+---------+--------+-----------+-------+------+-----+-----+-----+-----+\n",
      "|event_timestamp    |machine_id|vibration|acoustic|temperature|current|status|IMF_1|IMF_2|IMF_3|label|\n",
      "+-------------------+----------+---------+--------+-----------+-------+------+-----+-----+-----+-----+\n",
      "|2024-07-01 09:03:00|M01       |0.752    |0.626   |63.81      |11.99  |Normal|0.11 |0.085|0.048|0    |\n",
      "+-------------------+----------+---------+--------+-----------+-------+------+-----+-----+-----+-----+\n",
      "\n"
     ]
    },
    {
     "name": "stderr",
     "output_type": "stream",
     "text": [
      "[Stage 28:>                 (0 + 1) / 1][Stage 29:>                 (0 + 1) / 1]\r"
     ]
    },
    {
     "name": "stdout",
     "output_type": "stream",
     "text": [
      "-------------------------------------------\n",
      "Batch: 14\n",
      "-------------------------------------------\n",
      "+-------------------+----------+---------+--------+-----------+-------+------+-----+------+-----+-----+\n",
      "|event_timestamp    |machine_id|vibration|acoustic|temperature|current|status|IMF_1|IMF_2 |IMF_3|label|\n",
      "+-------------------+----------+---------+--------+-----------+-------+------+-----+------+-----+-----+\n",
      "|2024-07-01 09:04:00|M01       |0.784    |0.636   |63.62      |11.25  |Normal|0.162|-0.109|0.048|0    |\n",
      "+-------------------+----------+---------+--------+-----------+-------+------+-----+------+-----+-----+\n",
      "\n"
     ]
    },
    {
     "name": "stderr",
     "output_type": "stream",
     "text": [
      "                                                                                \r"
     ]
    },
    {
     "name": "stdout",
     "output_type": "stream",
     "text": [
      "-------------------------------------------\n",
      "Batch: 15\n",
      "-------------------------------------------\n",
      "+-------------------+----------+---------+--------+-----------+-------+----------------+-----+-----+-----+-----+\n",
      "|event_timestamp    |machine_id|vibration|acoustic|temperature|current|status          |IMF_1|IMF_2|IMF_3|label|\n",
      "+-------------------+----------+---------+--------+-----------+-------+----------------+-----+-----+-----+-----+\n",
      "|2024-07-01 09:05:00|M01       |1.099    |0.922   |77.48      |15.59  |Failure Detected|0.265|0.047|0.048|1    |\n",
      "+-------------------+----------+---------+--------+-----------+-------+----------------+-----+-----+-----+-----+\n",
      "\n"
     ]
    },
    {
     "name": "stderr",
     "output_type": "stream",
     "text": [
      "                                                                                \r"
     ]
    },
    {
     "name": "stdout",
     "output_type": "stream",
     "text": [
      "-------------------------------------------\n",
      "Batch: 16\n",
      "-------------------------------------------\n",
      "+-------------------+----------+---------+--------+-----------+-------+------+-----+-----+-----+-----+\n",
      "|event_timestamp    |machine_id|vibration|acoustic|temperature|current|status|IMF_1|IMF_2|IMF_3|label|\n",
      "+-------------------+----------+---------+--------+-----------+-------+------+-----+-----+-----+-----+\n",
      "|2024-07-01 09:06:00|M01       |0.782    |0.579   |65.46      |10.69  |Normal|0.148|0.016|0.048|0    |\n",
      "+-------------------+----------+---------+--------+-----------+-------+------+-----+-----+-----+-----+\n",
      "\n"
     ]
    },
    {
     "name": "stderr",
     "output_type": "stream",
     "text": [
      "                                                                                \r"
     ]
    },
    {
     "name": "stdout",
     "output_type": "stream",
     "text": [
      "-------------------------------------------\n",
      "Batch: 17\n",
      "-------------------------------------------\n",
      "+-------------------+----------+---------+--------+-----------+-------+------+-----+-----+-----+-----+\n",
      "|event_timestamp    |machine_id|vibration|acoustic|temperature|current|status|IMF_1|IMF_2|IMF_3|label|\n",
      "+-------------------+----------+---------+--------+-----------+-------+------+-----+-----+-----+-----+\n",
      "|2024-07-01 09:07:00|M01       |0.829    |0.546   |67.85      |13.02  |Normal|0.116|0.053|0.049|0    |\n",
      "+-------------------+----------+---------+--------+-----------+-------+------+-----+-----+-----+-----+\n",
      "\n",
      "-------------------------------------------\n",
      "Batch: 18\n",
      "-------------------------------------------\n",
      "+-------------------+----------+---------+--------+-----------+-------+------+-----+-----+-----+-----+\n",
      "|event_timestamp    |machine_id|vibration|acoustic|temperature|current|status|IMF_1|IMF_2|IMF_3|label|\n",
      "+-------------------+----------+---------+--------+-----------+-------+------+-----+-----+-----+-----+\n",
      "|2024-07-01 09:08:00|M01       |0.668    |0.608   |61.76      |11.89  |Normal|0.174|0.008|0.049|0    |\n",
      "+-------------------+----------+---------+--------+-----------+-------+------+-----+-----+-----+-----+\n",
      "\n"
     ]
    },
    {
     "name": "stderr",
     "output_type": "stream",
     "text": [
      "                                                                                \r"
     ]
    },
    {
     "name": "stdout",
     "output_type": "stream",
     "text": [
      "-------------------------------------------\n",
      "Batch: 19\n",
      "-------------------------------------------\n",
      "+-------------------+----------+---------+--------+-----------+-------+------+-----+-----+-----+-----+\n",
      "|event_timestamp    |machine_id|vibration|acoustic|temperature|current|status|IMF_1|IMF_2|IMF_3|label|\n",
      "+-------------------+----------+---------+--------+-----------+-------+------+-----+-----+-----+-----+\n",
      "|2024-07-01 09:09:00|M01       |0.733    |0.506   |65.62      |12.88  |Normal|0.204|0.077|0.049|0    |\n",
      "+-------------------+----------+---------+--------+-----------+-------+------+-----+-----+-----+-----+\n",
      "\n"
     ]
    },
    {
     "name": "stderr",
     "output_type": "stream",
     "text": [
      "                                                                                \r"
     ]
    },
    {
     "name": "stdout",
     "output_type": "stream",
     "text": [
      "-------------------------------------------\n",
      "Batch: 20\n",
      "-------------------------------------------\n",
      "+-------------------+----------+---------+--------+-----------+-------+------+-----+-----+-----+-----+\n",
      "|event_timestamp    |machine_id|vibration|acoustic|temperature|current|status|IMF_1|IMF_2|IMF_3|label|\n",
      "+-------------------+----------+---------+--------+-----------+-------+------+-----+-----+-----+-----+\n",
      "|2024-07-01 09:10:00|M01       |0.795    |0.556   |64.4       |12.34  |Normal|0.128|0.036|0.049|0    |\n",
      "+-------------------+----------+---------+--------+-----------+-------+------+-----+-----+-----+-----+\n",
      "\n",
      "-------------------------------------------\n",
      "Batch: 21\n",
      "-------------------------------------------\n",
      "+-------------------+----------+---------+--------+-----------+-------+------+-----+------+-----+-----+\n",
      "|event_timestamp    |machine_id|vibration|acoustic|temperature|current|status|IMF_1|IMF_2 |IMF_3|label|\n",
      "+-------------------+----------+---------+--------+-----------+-------+------+-----+------+-----+-----+\n",
      "|2024-07-01 09:11:00|M01       |0.89     |0.635   |66.14      |12.19  |Normal|0.265|-0.083|0.049|0    |\n",
      "+-------------------+----------+---------+--------+-----------+-------+------+-----+------+-----+-----+\n",
      "\n",
      "-------------------------------------------\n",
      "Batch: 22\n",
      "-------------------------------------------\n",
      "+-------------------+----------+---------+--------+-----------+-------+------+-----+------+-----+-----+\n",
      "|event_timestamp    |machine_id|vibration|acoustic|temperature|current|status|IMF_1|IMF_2 |IMF_3|label|\n",
      "+-------------------+----------+---------+--------+-----------+-------+------+-----+------+-----+-----+\n",
      "|2024-07-01 09:12:00|M01       |0.777    |0.554   |69.45      |12.47  |Normal|0.231|-0.007|0.05 |0    |\n",
      "+-------------------+----------+---------+--------+-----------+-------+------+-----+------+-----+-----+\n",
      "\n"
     ]
    },
    {
     "name": "stderr",
     "output_type": "stream",
     "text": [
      "                                                                                \r"
     ]
    },
    {
     "name": "stdout",
     "output_type": "stream",
     "text": [
      "-------------------------------------------\n",
      "Batch: 23\n",
      "-------------------------------------------\n",
      "+-------------------+----------+---------+--------+-----------+-------+------+-----+------+-----+-----+\n",
      "|event_timestamp    |machine_id|vibration|acoustic|temperature|current|status|IMF_1|IMF_2 |IMF_3|label|\n",
      "+-------------------+----------+---------+--------+-----------+-------+------+-----+------+-----+-----+\n",
      "|2024-07-01 09:13:00|M01       |0.746    |0.607   |63.48      |11.55  |Normal|0.116|-0.028|0.05 |0    |\n",
      "+-------------------+----------+---------+--------+-----------+-------+------+-----+------+-----+-----+\n",
      "\n",
      "-------------------------------------------\n",
      "Batch: 24\n",
      "-------------------------------------------\n",
      "+-------------------+----------+---------+--------+-----------+-------+----------------+-----+-----+-----+-----+\n",
      "|event_timestamp    |machine_id|vibration|acoustic|temperature|current|status          |IMF_1|IMF_2|IMF_3|label|\n",
      "+-------------------+----------+---------+--------+-----------+-------+----------------+-----+-----+-----+-----+\n",
      "|2024-07-01 09:14:00|M01       |1.321    |0.877   |81.11      |15.52  |Failure Detected|0.347|0.172|0.05 |1    |\n",
      "+-------------------+----------+---------+--------+-----------+-------+----------------+-----+-----+-----+-----+\n",
      "\n"
     ]
    },
    {
     "name": "stderr",
     "output_type": "stream",
     "text": [
      "                                                                                \r"
     ]
    },
    {
     "name": "stdout",
     "output_type": "stream",
     "text": [
      "-------------------------------------------\n",
      "Batch: 25\n",
      "-------------------------------------------\n",
      "+-------------------+----------+---------+--------+-----------+-------+------+-----+------+-----+-----+\n",
      "|event_timestamp    |machine_id|vibration|acoustic|temperature|current|status|IMF_1|IMF_2 |IMF_3|label|\n",
      "+-------------------+----------+---------+--------+-----------+-------+------+-----+------+-----+-----+\n",
      "|2024-07-01 09:15:00|M01       |0.773    |0.635   |60.25      |11.13  |Normal|0.204|-0.007|0.05 |0    |\n",
      "+-------------------+----------+---------+--------+-----------+-------+------+-----+------+-----+-----+\n",
      "\n"
     ]
    },
    {
     "name": "stderr",
     "output_type": "stream",
     "text": [
      "                                                                                \r"
     ]
    },
    {
     "name": "stdout",
     "output_type": "stream",
     "text": [
      "-------------------------------------------\n",
      "Batch: 26\n",
      "-------------------------------------------\n",
      "+-------------------+----------+---------+--------+-----------+-------+------+-----+-----+-----+-----+\n",
      "|event_timestamp    |machine_id|vibration|acoustic|temperature|current|status|IMF_1|IMF_2|IMF_3|label|\n",
      "+-------------------+----------+---------+--------+-----------+-------+------+-----+-----+-----+-----+\n",
      "|2024-07-01 09:16:00|M01       |0.817    |0.667   |62.22      |11.61  |Normal|0.099|0.02 |0.05 |0    |\n",
      "+-------------------+----------+---------+--------+-----------+-------+------+-----+-----+-----+-----+\n",
      "\n",
      "-------------------------------------------\n",
      "Batch: 27\n",
      "-------------------------------------------\n",
      "+-------------------+----------+---------+--------+-----------+-------+------+-----+-----+-----+-----+\n",
      "|event_timestamp    |machine_id|vibration|acoustic|temperature|current|status|IMF_1|IMF_2|IMF_3|label|\n",
      "+-------------------+----------+---------+--------+-----------+-------+------+-----+-----+-----+-----+\n",
      "|2024-07-01 09:17:00|M01       |0.719    |0.603   |64.83      |11.33  |Normal|0.085|0.062|0.05 |0    |\n",
      "+-------------------+----------+---------+--------+-----------+-------+------+-----+-----+-----+-----+\n",
      "\n"
     ]
    },
    {
     "name": "stderr",
     "output_type": "stream",
     "text": [
      "                                                                                \r"
     ]
    },
    {
     "name": "stdout",
     "output_type": "stream",
     "text": [
      "-------------------------------------------\n",
      "Batch: 28\n",
      "-------------------------------------------\n",
      "+-------------------+----------+---------+--------+-----------+-------+------+-----+------+-----+-----+\n",
      "|event_timestamp    |machine_id|vibration|acoustic|temperature|current|status|IMF_1|IMF_2 |IMF_3|label|\n",
      "+-------------------+----------+---------+--------+-----------+-------+------+-----+------+-----+-----+\n",
      "|2024-07-01 09:18:00|M01       |0.836    |0.602   |69.09      |12.29  |Normal|0.225|-0.074|0.05 |0    |\n",
      "+-------------------+----------+---------+--------+-----------+-------+------+-----+------+-----+-----+\n",
      "\n"
     ]
    },
    {
     "name": "stderr",
     "output_type": "stream",
     "text": [
      "                                                                                \r"
     ]
    },
    {
     "name": "stdout",
     "output_type": "stream",
     "text": [
      "-------------------------------------------\n",
      "Batch: 29\n",
      "-------------------------------------------\n",
      "+-------------------+----------+---------+--------+-----------+-------+------+-----+-----+-----+-----+\n",
      "|event_timestamp    |machine_id|vibration|acoustic|temperature|current|status|IMF_1|IMF_2|IMF_3|label|\n",
      "+-------------------+----------+---------+--------+-----------+-------+------+-----+-----+-----+-----+\n",
      "|2024-07-01 09:19:00|M01       |0.861    |0.533   |66.7       |12.37  |Normal|0.087|0.007|0.05 |0    |\n",
      "+-------------------+----------+---------+--------+-----------+-------+------+-----+-----+-----+-----+\n",
      "\n"
     ]
    },
    {
     "name": "stderr",
     "output_type": "stream",
     "text": [
      "                                                                                \r"
     ]
    },
    {
     "name": "stdout",
     "output_type": "stream",
     "text": [
      "-------------------------------------------\n",
      "Batch: 30\n",
      "-------------------------------------------\n",
      "+-------------------+----------+---------+--------+-----------+-------+------+-----+-----+-----+-----+\n",
      "|event_timestamp    |machine_id|vibration|acoustic|temperature|current|status|IMF_1|IMF_2|IMF_3|label|\n",
      "+-------------------+----------+---------+--------+-----------+-------+------+-----+-----+-----+-----+\n",
      "|2024-07-01 09:20:00|M01       |0.854    |0.626   |62.37      |10.52  |Normal|0.238|-0.07|0.05 |0    |\n",
      "+-------------------+----------+---------+--------+-----------+-------+------+-----+-----+-----+-----+\n",
      "\n"
     ]
    },
    {
     "name": "stderr",
     "output_type": "stream",
     "text": [
      "                                                                                \r"
     ]
    },
    {
     "name": "stdout",
     "output_type": "stream",
     "text": [
      "-------------------------------------------\n",
      "Batch: 31\n",
      "-------------------------------------------\n",
      "+-------------------+----------+---------+--------+-----------+-------+----------------+-----+-----+-----+-----+\n",
      "|event_timestamp    |machine_id|vibration|acoustic|temperature|current|status          |IMF_1|IMF_2|IMF_3|label|\n",
      "+-------------------+----------+---------+--------+-----------+-------+----------------+-----+-----+-----+-----+\n",
      "|2024-07-01 09:21:00|M01       |1.133    |1.039   |75.82      |14.45  |Failure Detected|0.119|0.149|0.05 |1    |\n",
      "+-------------------+----------+---------+--------+-----------+-------+----------------+-----+-----+-----+-----+\n",
      "\n"
     ]
    },
    {
     "name": "stderr",
     "output_type": "stream",
     "text": [
      "                                                                                \r"
     ]
    },
    {
     "name": "stdout",
     "output_type": "stream",
     "text": [
      "-------------------------------------------\n",
      "Batch: 32\n",
      "-------------------------------------------\n",
      "+-------------------+----------+---------+--------+-----------+-------+------+-----+-----+-----+-----+\n",
      "|event_timestamp    |machine_id|vibration|acoustic|temperature|current|status|IMF_1|IMF_2|IMF_3|label|\n",
      "+-------------------+----------+---------+--------+-----------+-------+------+-----+-----+-----+-----+\n",
      "|2024-07-01 09:22:00|M01       |0.779    |0.659   |63.52      |12.3   |Normal|0.1  |0.014|0.05 |0    |\n",
      "+-------------------+----------+---------+--------+-----------+-------+------+-----+-----+-----+-----+\n",
      "\n",
      "-------------------------------------------\n",
      "Batch: 33\n",
      "-------------------------------------------\n",
      "+-------------------+----------+---------+--------+-----------+-------+------+-----+------+-----+-----+\n",
      "|event_timestamp    |machine_id|vibration|acoustic|temperature|current|status|IMF_1|IMF_2 |IMF_3|label|\n",
      "+-------------------+----------+---------+--------+-----------+-------+------+-----+------+-----+-----+\n",
      "|2024-07-01 09:23:00|M01       |0.767    |0.602   |64.39      |12.01  |Normal|0.167|-0.096|0.05 |0    |\n",
      "+-------------------+----------+---------+--------+-----------+-------+------+-----+------+-----+-----+\n",
      "\n",
      "-------------------------------------------\n",
      "Batch: 34\n",
      "-------------------------------------------\n",
      "+-------------------+----------+---------+--------+-----------+-------+------+-----+------+-----+-----+\n",
      "|event_timestamp    |machine_id|vibration|acoustic|temperature|current|status|IMF_1|IMF_2 |IMF_3|label|\n",
      "+-------------------+----------+---------+--------+-----------+-------+------+-----+------+-----+-----+\n",
      "|2024-07-01 09:24:00|M01       |0.854    |0.6     |62.32      |12.16  |Normal|0.223|-0.093|0.05 |0    |\n",
      "+-------------------+----------+---------+--------+-----------+-------+------+-----+------+-----+-----+\n",
      "\n"
     ]
    },
    {
     "name": "stderr",
     "output_type": "stream",
     "text": [
      "                                                                                \r"
     ]
    },
    {
     "name": "stdout",
     "output_type": "stream",
     "text": [
      "-------------------------------------------\n",
      "Batch: 35\n",
      "-------------------------------------------\n",
      "+-------------------+----------+---------+--------+-----------+-------+------+-----+------+-----+-----+\n",
      "|event_timestamp    |machine_id|vibration|acoustic|temperature|current|status|IMF_1|IMF_2 |IMF_3|label|\n",
      "+-------------------+----------+---------+--------+-----------+-------+------+-----+------+-----+-----+\n",
      "|2024-07-01 09:25:00|M01       |0.798    |0.577   |67.18      |11.88  |Normal|0.119|-0.107|0.05 |0    |\n",
      "+-------------------+----------+---------+--------+-----------+-------+------+-----+------+-----+-----+\n",
      "\n",
      "-------------------------------------------\n",
      "Batch: 36\n",
      "-------------------------------------------\n",
      "+-------------------+----------+---------+--------+-----------+-------+------+-----+------+-----+-----+\n",
      "|event_timestamp    |machine_id|vibration|acoustic|temperature|current|status|IMF_1|IMF_2 |IMF_3|label|\n",
      "+-------------------+----------+---------+--------+-----------+-------+------+-----+------+-----+-----+\n",
      "|2024-07-01 09:26:00|M01       |0.833    |0.622   |62.27      |12.09  |Normal|0.217|-0.028|0.049|0    |\n",
      "+-------------------+----------+---------+--------+-----------+-------+------+-----+------+-----+-----+\n",
      "\n"
     ]
    },
    {
     "name": "stderr",
     "output_type": "stream",
     "text": [
      "                                                                                \r"
     ]
    },
    {
     "name": "stdout",
     "output_type": "stream",
     "text": [
      "-------------------------------------------\n",
      "Batch: 37\n",
      "-------------------------------------------\n",
      "+-------------------+----------+---------+--------+-----------+-------+------+-----+-----+-----+-----+\n",
      "|event_timestamp    |machine_id|vibration|acoustic|temperature|current|status|IMF_1|IMF_2|IMF_3|label|\n",
      "+-------------------+----------+---------+--------+-----------+-------+------+-----+-----+-----+-----+\n",
      "|2024-07-01 09:27:00|M01       |0.718    |0.658   |64.24      |12.07  |Normal|0.207|0.071|0.049|0    |\n",
      "+-------------------+----------+---------+--------+-----------+-------+------+-----+-----+-----+-----+\n",
      "\n"
     ]
    },
    {
     "name": "stderr",
     "output_type": "stream",
     "text": [
      "                                                                                \r"
     ]
    },
    {
     "name": "stdout",
     "output_type": "stream",
     "text": [
      "-------------------------------------------\n",
      "Batch: 38\n",
      "-------------------------------------------\n",
      "+-------------------+----------+---------+--------+-----------+-------+------+-----+-----+-----+-----+\n",
      "|event_timestamp    |machine_id|vibration|acoustic|temperature|current|status|IMF_1|IMF_2|IMF_3|label|\n",
      "+-------------------+----------+---------+--------+-----------+-------+------+-----+-----+-----+-----+\n",
      "|2024-07-01 09:28:00|M01       |0.77     |0.54    |67.82      |12.2   |Normal|0.207|0.01 |0.049|0    |\n",
      "+-------------------+----------+---------+--------+-----------+-------+------+-----+-----+-----+-----+\n",
      "\n"
     ]
    },
    {
     "name": "stderr",
     "output_type": "stream",
     "text": [
      "                                                                                \r"
     ]
    },
    {
     "name": "stdout",
     "output_type": "stream",
     "text": [
      "-------------------------------------------\n",
      "Batch: 39\n",
      "-------------------------------------------\n",
      "+-------------------+----------+---------+--------+-----------+-------+------+-----+-----+-----+-----+\n",
      "|event_timestamp    |machine_id|vibration|acoustic|temperature|current|status|IMF_1|IMF_2|IMF_3|label|\n",
      "+-------------------+----------+---------+--------+-----------+-------+------+-----+-----+-----+-----+\n",
      "|2024-07-01 09:29:00|M01       |0.778    |0.567   |65.77      |11.86  |Normal|0.198|0.085|0.049|0    |\n",
      "+-------------------+----------+---------+--------+-----------+-------+------+-----+-----+-----+-----+\n",
      "\n"
     ]
    },
    {
     "name": "stderr",
     "output_type": "stream",
     "text": [
      "                                                                                \r"
     ]
    },
    {
     "name": "stdout",
     "output_type": "stream",
     "text": [
      "-------------------------------------------\n",
      "Batch: 40\n",
      "-------------------------------------------\n",
      "+-------------------+----------+---------+--------+-----------+-------+------+-----+-----+-----+-----+\n",
      "|event_timestamp    |machine_id|vibration|acoustic|temperature|current|status|IMF_1|IMF_2|IMF_3|label|\n",
      "+-------------------+----------+---------+--------+-----------+-------+------+-----+-----+-----+-----+\n",
      "|2024-07-01 09:30:00|M01       |0.771    |0.667   |62.21      |11.99  |Normal|0.12 |0.042|0.049|0    |\n",
      "+-------------------+----------+---------+--------+-----------+-------+------+-----+-----+-----+-----+\n",
      "\n",
      "-------------------------------------------\n",
      "Batch: 41\n",
      "-------------------------------------------\n",
      "+-------------------+----------+---------+--------+-----------+-------+------+-----+------+-----+-----+\n",
      "|event_timestamp    |machine_id|vibration|acoustic|temperature|current|status|IMF_1|IMF_2 |IMF_3|label|\n",
      "+-------------------+----------+---------+--------+-----------+-------+------+-----+------+-----+-----+\n",
      "|2024-07-01 09:31:00|M01       |0.843    |0.679   |63.35      |11.9   |Normal|0.18 |-0.045|0.048|0    |\n",
      "+-------------------+----------+---------+--------+-----------+-------+------+-----+------+-----+-----+\n",
      "\n"
     ]
    },
    {
     "name": "stderr",
     "output_type": "stream",
     "text": [
      "                                                                                \r"
     ]
    },
    {
     "name": "stdout",
     "output_type": "stream",
     "text": [
      "-------------------------------------------\n",
      "Batch: 42\n",
      "-------------------------------------------\n",
      "+-------------------+----------+---------+--------+-----------+-------+------+-----+------+-----+-----+\n",
      "|event_timestamp    |machine_id|vibration|acoustic|temperature|current|status|IMF_1|IMF_2 |IMF_3|label|\n",
      "+-------------------+----------+---------+--------+-----------+-------+------+-----+------+-----+-----+\n",
      "|2024-07-01 09:32:00|M01       |0.827    |0.62    |65.77      |11.75  |Normal|0.126|-0.055|0.048|0    |\n",
      "+-------------------+----------+---------+--------+-----------+-------+------+-----+------+-----+-----+\n",
      "\n"
     ]
    },
    {
     "name": "stderr",
     "output_type": "stream",
     "text": [
      "                                                                                \r"
     ]
    },
    {
     "name": "stdout",
     "output_type": "stream",
     "text": [
      "-------------------------------------------\n",
      "Batch: 43\n",
      "-------------------------------------------\n",
      "+-------------------+----------+---------+--------+-----------+-------+------+-----+-----+-----+-----+\n",
      "|event_timestamp    |machine_id|vibration|acoustic|temperature|current|status|IMF_1|IMF_2|IMF_3|label|\n",
      "+-------------------+----------+---------+--------+-----------+-------+------+-----+-----+-----+-----+\n",
      "|2024-07-01 09:33:00|M01       |0.769    |0.629   |64.85      |12.46  |Normal|0.21 |0.123|0.048|0    |\n",
      "+-------------------+----------+---------+--------+-----------+-------+------+-----+-----+-----+-----+\n",
      "\n"
     ]
    },
    {
     "name": "stderr",
     "output_type": "stream",
     "text": [
      "                                                                                \r"
     ]
    },
    {
     "name": "stdout",
     "output_type": "stream",
     "text": [
      "-------------------------------------------\n",
      "Batch: 44\n",
      "-------------------------------------------\n",
      "+-------------------+----------+---------+--------+-----------+-------+------+-----+-----+-----+-----+\n",
      "|event_timestamp    |machine_id|vibration|acoustic|temperature|current|status|IMF_1|IMF_2|IMF_3|label|\n",
      "+-------------------+----------+---------+--------+-----------+-------+------+-----+-----+-----+-----+\n",
      "|2024-07-01 09:34:00|M01       |0.794    |0.594   |64.3       |11.48  |Normal|0.15 |0.056|0.048|0    |\n",
      "+-------------------+----------+---------+--------+-----------+-------+------+-----+-----+-----+-----+\n",
      "\n",
      "-------------------------------------------\n",
      "Batch: 45\n",
      "-------------------------------------------\n",
      "+-------------------+----------+---------+--------+-----------+-------+----------------+-----+------+-----+-----+\n",
      "|event_timestamp    |machine_id|vibration|acoustic|temperature|current|status          |IMF_1|IMF_2 |IMF_3|label|\n",
      "+-------------------+----------+---------+--------+-----------+-------+----------------+-----+------+-----+-----+\n",
      "|2024-07-01 09:35:00|M01       |1.265    |0.848   |76.22      |15.14  |Failure Detected|0.177|-0.159|0.047|1    |\n",
      "+-------------------+----------+---------+--------+-----------+-------+----------------+-----+------+-----+-----+\n",
      "\n",
      "-------------------------------------------\n",
      "Batch: 46\n",
      "-------------------------------------------\n",
      "+-------------------+----------+---------+--------+-----------+-------+------+-----+------+-----+-----+\n",
      "|event_timestamp    |machine_id|vibration|acoustic|temperature|current|status|IMF_1|IMF_2 |IMF_3|label|\n",
      "+-------------------+----------+---------+--------+-----------+-------+------+-----+------+-----+-----+\n",
      "|2024-07-01 09:36:00|M01       |0.768    |0.543   |66.81      |11.32  |Normal|0.136|-0.044|0.047|0    |\n",
      "+-------------------+----------+---------+--------+-----------+-------+------+-----+------+-----+-----+\n",
      "\n",
      "-------------------------------------------\n",
      "Batch: 47\n",
      "-------------------------------------------\n",
      "+-------------------+----------+---------+--------+-----------+-------+------+-----+------+-----+-----+\n",
      "|event_timestamp    |machine_id|vibration|acoustic|temperature|current|status|IMF_1|IMF_2 |IMF_3|label|\n",
      "+-------------------+----------+---------+--------+-----------+-------+------+-----+------+-----+-----+\n",
      "|2024-07-01 09:37:00|M01       |0.837    |0.629   |58.36      |11.79  |Normal|0.192|-0.057|0.047|0    |\n",
      "+-------------------+----------+---------+--------+-----------+-------+------+-----+------+-----+-----+\n",
      "\n",
      "-------------------------------------------\n",
      "Batch: 48\n",
      "-------------------------------------------\n",
      "+-------------------+----------+---------+--------+-----------+-------+------+-----+-----+-----+-----+\n",
      "|event_timestamp    |machine_id|vibration|acoustic|temperature|current|status|IMF_1|IMF_2|IMF_3|label|\n",
      "+-------------------+----------+---------+--------+-----------+-------+------+-----+-----+-----+-----+\n",
      "|2024-07-01 09:38:00|M01       |0.774    |0.52    |68.59      |11.85  |Normal|0.149|0.019|0.046|0    |\n",
      "+-------------------+----------+---------+--------+-----------+-------+------+-----+-----+-----+-----+\n",
      "\n"
     ]
    },
    {
     "name": "stderr",
     "output_type": "stream",
     "text": [
      "                                                                                \r"
     ]
    },
    {
     "name": "stdout",
     "output_type": "stream",
     "text": [
      "-------------------------------------------\n",
      "Batch: 49\n",
      "-------------------------------------------\n",
      "+-------------------+----------+---------+--------+-----------+-------+------+-----+-----+-----+-----+\n",
      "|event_timestamp    |machine_id|vibration|acoustic|temperature|current|status|IMF_1|IMF_2|IMF_3|label|\n",
      "+-------------------+----------+---------+--------+-----------+-------+------+-----+-----+-----+-----+\n",
      "|2024-07-01 09:39:00|M01       |0.767    |0.573   |64.64      |12.53  |Normal|0.085|0.11 |0.046|0    |\n",
      "+-------------------+----------+---------+--------+-----------+-------+------+-----+-----+-----+-----+\n",
      "\n"
     ]
    },
    {
     "name": "stderr",
     "output_type": "stream",
     "text": [
      "                                                                                \r"
     ]
    },
    {
     "name": "stdout",
     "output_type": "stream",
     "text": [
      "-------------------------------------------\n",
      "Batch: 50\n",
      "-------------------------------------------\n",
      "+-------------------+----------+---------+--------+-----------+-------+------+-----+-----+-----+-----+\n",
      "|event_timestamp    |machine_id|vibration|acoustic|temperature|current|status|IMF_1|IMF_2|IMF_3|label|\n",
      "+-------------------+----------+---------+--------+-----------+-------+------+-----+-----+-----+-----+\n",
      "|2024-07-01 09:40:00|M01       |0.898    |0.692   |63.82      |12.77  |Normal|0.194|0.064|0.045|0    |\n",
      "+-------------------+----------+---------+--------+-----------+-------+------+-----+-----+-----+-----+\n",
      "\n"
     ]
    },
    {
     "name": "stderr",
     "output_type": "stream",
     "text": [
      "                                                                                \r"
     ]
    },
    {
     "name": "stdout",
     "output_type": "stream",
     "text": [
      "-------------------------------------------\n",
      "Batch: 51\n",
      "-------------------------------------------\n",
      "+-------------------+----------+---------+--------+-----------+-------+------+-----+------+-----+-----+\n",
      "|event_timestamp    |machine_id|vibration|acoustic|temperature|current|status|IMF_1|IMF_2 |IMF_3|label|\n",
      "+-------------------+----------+---------+--------+-----------+-------+------+-----+------+-----+-----+\n",
      "|2024-07-01 09:41:00|M01       |0.816    |0.567   |62.78      |12.27  |Normal|0.196|-0.084|0.045|0    |\n",
      "+-------------------+----------+---------+--------+-----------+-------+------+-----+------+-----+-----+\n",
      "\n"
     ]
    },
    {
     "name": "stderr",
     "output_type": "stream",
     "text": [
      "                                                                                \r"
     ]
    },
    {
     "name": "stdout",
     "output_type": "stream",
     "text": [
      "-------------------------------------------\n",
      "Batch: 52\n",
      "-------------------------------------------\n",
      "+-------------------+----------+---------+--------+-----------+-------+------+-----+-----+-----+-----+\n",
      "|event_timestamp    |machine_id|vibration|acoustic|temperature|current|status|IMF_1|IMF_2|IMF_3|label|\n",
      "+-------------------+----------+---------+--------+-----------+-------+------+-----+-----+-----+-----+\n",
      "|2024-07-01 09:42:00|M01       |0.891    |0.6     |65.83      |11.96  |Normal|0.175|0.054|0.045|0    |\n",
      "+-------------------+----------+---------+--------+-----------+-------+------+-----+-----+-----+-----+\n",
      "\n"
     ]
    },
    {
     "name": "stderr",
     "output_type": "stream",
     "text": [
      "                                                                                \r"
     ]
    },
    {
     "name": "stdout",
     "output_type": "stream",
     "text": [
      "-------------------------------------------\n",
      "Batch: 53\n",
      "-------------------------------------------\n",
      "+-------------------+----------+---------+--------+-----------+-------+------+-----+-----+-----+-----+\n",
      "|event_timestamp    |machine_id|vibration|acoustic|temperature|current|status|IMF_1|IMF_2|IMF_3|label|\n",
      "+-------------------+----------+---------+--------+-----------+-------+------+-----+-----+-----+-----+\n",
      "|2024-07-01 09:43:00|M01       |0.787    |0.548   |67.01      |12.13  |Normal|0.235|0.077|0.044|0    |\n",
      "+-------------------+----------+---------+--------+-----------+-------+------+-----+-----+-----+-----+\n",
      "\n",
      "-------------------------------------------\n",
      "Batch: 54\n",
      "-------------------------------------------\n",
      "+-------------------+----------+---------+--------+-----------+-------+----------------+-----+-----+-----+-----+\n",
      "|event_timestamp    |machine_id|vibration|acoustic|temperature|current|status          |IMF_1|IMF_2|IMF_3|label|\n",
      "+-------------------+----------+---------+--------+-----------+-------+----------------+-----+-----+-----+-----+\n",
      "|2024-07-01 09:44:00|M01       |1.211    |0.866   |81.05      |15.44  |Failure Detected|0.136|0.158|0.044|1    |\n",
      "+-------------------+----------+---------+--------+-----------+-------+----------------+-----+-----+-----+-----+\n",
      "\n",
      "-------------------------------------------\n",
      "Batch: 55\n",
      "-------------------------------------------\n",
      "+-------------------+----------+---------+--------+-----------+-------+------+-----+-----+-----+-----+\n",
      "|event_timestamp    |machine_id|vibration|acoustic|temperature|current|status|IMF_1|IMF_2|IMF_3|label|\n",
      "+-------------------+----------+---------+--------+-----------+-------+------+-----+-----+-----+-----+\n",
      "|2024-07-01 09:45:00|M01       |0.766    |0.599   |61.83      |11.33  |Normal|0.151|0.077|0.043|0    |\n",
      "+-------------------+----------+---------+--------+-----------+-------+------+-----+-----+-----+-----+\n",
      "\n",
      "-------------------------------------------\n",
      "Batch: 56\n",
      "-------------------------------------------\n",
      "+-------------------+----------+---------+--------+-----------+-------+------+-----+-----+-----+-----+\n",
      "|event_timestamp    |machine_id|vibration|acoustic|temperature|current|status|IMF_1|IMF_2|IMF_3|label|\n",
      "+-------------------+----------+---------+--------+-----------+-------+------+-----+-----+-----+-----+\n",
      "|2024-07-01 09:46:00|M01       |0.774    |0.584   |60.87      |11.48  |Normal|0.217|0.029|0.043|0    |\n",
      "+-------------------+----------+---------+--------+-----------+-------+------+-----+-----+-----+-----+\n",
      "\n",
      "-------------------------------------------\n",
      "Batch: 57\n",
      "-------------------------------------------\n",
      "+-------------------+----------+---------+--------+-----------+-------+------+-----+------+-----+-----+\n",
      "|event_timestamp    |machine_id|vibration|acoustic|temperature|current|status|IMF_1|IMF_2 |IMF_3|label|\n",
      "+-------------------+----------+---------+--------+-----------+-------+------+-----+------+-----+-----+\n",
      "|2024-07-01 09:47:00|M01       |0.8      |0.577   |65.33      |11.26  |Normal|0.152|-0.013|0.042|0    |\n",
      "+-------------------+----------+---------+--------+-----------+-------+------+-----+------+-----+-----+\n",
      "\n",
      "-------------------------------------------\n",
      "Batch: 58\n",
      "-------------------------------------------\n",
      "+-------------------+----------+---------+--------+-----------+-------+------+-----+-----+-----+-----+\n",
      "|event_timestamp    |machine_id|vibration|acoustic|temperature|current|status|IMF_1|IMF_2|IMF_3|label|\n",
      "+-------------------+----------+---------+--------+-----------+-------+------+-----+-----+-----+-----+\n",
      "|2024-07-01 09:48:00|M01       |0.729    |0.667   |64.99      |12.39  |Normal|0.216|0.102|0.042|0    |\n",
      "+-------------------+----------+---------+--------+-----------+-------+------+-----+-----+-----+-----+\n",
      "\n",
      "-------------------------------------------\n",
      "Batch: 59\n",
      "-------------------------------------------\n",
      "+-------------------+----------+---------+--------+-----------+-------+------+-----+------+-----+-----+\n",
      "|event_timestamp    |machine_id|vibration|acoustic|temperature|current|status|IMF_1|IMF_2 |IMF_3|label|\n",
      "+-------------------+----------+---------+--------+-----------+-------+------+-----+------+-----+-----+\n",
      "|2024-07-01 09:49:00|M01       |0.704    |0.61    |60.83      |12.21  |Normal|0.131|-0.026|0.041|0    |\n",
      "+-------------------+----------+---------+--------+-----------+-------+------+-----+------+-----+-----+\n",
      "\n"
     ]
    },
    {
     "name": "stderr",
     "output_type": "stream",
     "text": [
      "                                                                                \r"
     ]
    },
    {
     "name": "stdout",
     "output_type": "stream",
     "text": [
      "-------------------------------------------\n",
      "Batch: 60\n",
      "-------------------------------------------\n",
      "+-------------------+----------+---------+--------+-----------+-------+------+-----+-----+-----+-----+\n",
      "|event_timestamp    |machine_id|vibration|acoustic|temperature|current|status|IMF_1|IMF_2|IMF_3|label|\n",
      "+-------------------+----------+---------+--------+-----------+-------+------+-----+-----+-----+-----+\n",
      "|2024-07-01 09:50:00|M01       |0.72     |0.544   |64.65      |11.15  |Normal|0.082|0.001|0.04 |0    |\n",
      "+-------------------+----------+---------+--------+-----------+-------+------+-----+-----+-----+-----+\n",
      "\n"
     ]
    },
    {
     "name": "stderr",
     "output_type": "stream",
     "text": [
      "                                                                                \r"
     ]
    },
    {
     "name": "stdout",
     "output_type": "stream",
     "text": [
      "-------------------------------------------\n",
      "Batch: 61\n",
      "-------------------------------------------\n",
      "+-------------------+----------+---------+--------+-----------+-------+----------------+-----+------+-----+-----+\n",
      "|event_timestamp    |machine_id|vibration|acoustic|temperature|current|status          |IMF_1|IMF_2 |IMF_3|label|\n",
      "+-------------------+----------+---------+--------+-----------+-------+----------------+-----+------+-----+-----+\n",
      "|2024-07-01 09:51:00|M01       |1.318    |0.763   |80.88      |15.61  |Failure Detected|0.364|-0.016|0.04 |1    |\n",
      "+-------------------+----------+---------+--------+-----------+-------+----------------+-----+------+-----+-----+\n",
      "\n"
     ]
    },
    {
     "name": "stderr",
     "output_type": "stream",
     "text": [
      "                                                                                \r"
     ]
    },
    {
     "name": "stdout",
     "output_type": "stream",
     "text": [
      "-------------------------------------------\n",
      "Batch: 62\n",
      "-------------------------------------------\n",
      "+-------------------+----------+---------+--------+-----------+-------+------+-----+------+-----+-----+\n",
      "|event_timestamp    |machine_id|vibration|acoustic|temperature|current|status|IMF_1|IMF_2 |IMF_3|label|\n",
      "+-------------------+----------+---------+--------+-----------+-------+------+-----+------+-----+-----+\n",
      "|2024-07-01 09:52:00|M01       |0.88     |0.635   |66.34      |11.37  |Normal|0.194|-0.118|0.039|0    |\n",
      "+-------------------+----------+---------+--------+-----------+-------+------+-----+------+-----+-----+\n",
      "\n"
     ]
    },
    {
     "name": "stderr",
     "output_type": "stream",
     "text": [
      "                                                                                \r"
     ]
    },
    {
     "name": "stdout",
     "output_type": "stream",
     "text": [
      "-------------------------------------------\n",
      "Batch: 63\n",
      "-------------------------------------------\n",
      "+-------------------+----------+---------+--------+-----------+-------+------+-----+-----+-----+-----+\n",
      "|event_timestamp    |machine_id|vibration|acoustic|temperature|current|status|IMF_1|IMF_2|IMF_3|label|\n",
      "+-------------------+----------+---------+--------+-----------+-------+------+-----+-----+-----+-----+\n",
      "|2024-07-01 09:53:00|M01       |0.75     |0.568   |65.82      |11.8   |Normal|0.158|0.07 |0.039|0    |\n",
      "+-------------------+----------+---------+--------+-----------+-------+------+-----+-----+-----+-----+\n",
      "\n"
     ]
    },
    {
     "name": "stderr",
     "output_type": "stream",
     "text": [
      "                                                                                \r"
     ]
    },
    {
     "name": "stdout",
     "output_type": "stream",
     "text": [
      "-------------------------------------------\n",
      "Batch: 64\n",
      "-------------------------------------------\n",
      "+-------------------+----------+---------+--------+-----------+-------+------+-----+------+-----+-----+\n",
      "|event_timestamp    |machine_id|vibration|acoustic|temperature|current|status|IMF_1|IMF_2 |IMF_3|label|\n",
      "+-------------------+----------+---------+--------+-----------+-------+------+-----+------+-----+-----+\n",
      "|2024-07-01 09:54:00|M01       |0.777    |0.703   |65.69      |11.97  |Normal|0.184|-0.025|0.038|0    |\n",
      "+-------------------+----------+---------+--------+-----------+-------+------+-----+------+-----+-----+\n",
      "\n",
      "-------------------------------------------\n",
      "Batch: 65\n",
      "-------------------------------------------\n",
      "+-------------------+----------+---------+--------+-----------+-------+------+-----+-----+-----+-----+\n",
      "|event_timestamp    |machine_id|vibration|acoustic|temperature|current|status|IMF_1|IMF_2|IMF_3|label|\n",
      "+-------------------+----------+---------+--------+-----------+-------+------+-----+-----+-----+-----+\n",
      "|2024-07-01 09:55:00|M01       |0.765    |0.588   |66.42      |12.04  |Normal|0.113|0.022|0.037|0    |\n",
      "+-------------------+----------+---------+--------+-----------+-------+------+-----+-----+-----+-----+\n",
      "\n"
     ]
    },
    {
     "name": "stderr",
     "output_type": "stream",
     "text": [
      "                                                                                \r"
     ]
    },
    {
     "name": "stdout",
     "output_type": "stream",
     "text": [
      "-------------------------------------------\n",
      "Batch: 66\n",
      "-------------------------------------------\n",
      "+-------------------+----------+---------+--------+-----------+-------+------+-----+------+-----+-----+\n",
      "|event_timestamp    |machine_id|vibration|acoustic|temperature|current|status|IMF_1|IMF_2 |IMF_3|label|\n",
      "+-------------------+----------+---------+--------+-----------+-------+------+-----+------+-----+-----+\n",
      "|2024-07-01 09:56:00|M01       |0.828    |0.548   |66.65      |11.2   |Normal|0.213|-0.029|0.037|0    |\n",
      "+-------------------+----------+---------+--------+-----------+-------+------+-----+------+-----+-----+\n",
      "\n",
      "-------------------------------------------\n",
      "Batch: 67\n",
      "-------------------------------------------\n",
      "+-------------------+----------+---------+--------+-----------+-------+----------------+-----+------+-----+-----+\n",
      "|event_timestamp    |machine_id|vibration|acoustic|temperature|current|status          |IMF_1|IMF_2 |IMF_3|label|\n",
      "+-------------------+----------+---------+--------+-----------+-------+----------------+-----+------+-----+-----+\n",
      "|2024-07-01 09:57:00|M01       |1.272    |1.083   |85.16      |15.27  |Failure Detected|0.162|-0.131|0.036|1    |\n",
      "+-------------------+----------+---------+--------+-----------+-------+----------------+-----+------+-----+-----+\n",
      "\n",
      "-------------------------------------------\n",
      "Batch: 68\n",
      "-------------------------------------------\n",
      "+-------------------+----------+---------+--------+-----------+-------+------+-----+-----+-----+-----+\n",
      "|event_timestamp    |machine_id|vibration|acoustic|temperature|current|status|IMF_1|IMF_2|IMF_3|label|\n",
      "+-------------------+----------+---------+--------+-----------+-------+------+-----+-----+-----+-----+\n",
      "|2024-07-01 09:58:00|M01       |0.839    |0.64    |63.25      |12.12  |Normal|0.159|0.07 |0.035|0    |\n",
      "+-------------------+----------+---------+--------+-----------+-------+------+-----+-----+-----+-----+\n",
      "\n"
     ]
    },
    {
     "name": "stderr",
     "output_type": "stream",
     "text": [
      "                                                                                \r"
     ]
    },
    {
     "name": "stdout",
     "output_type": "stream",
     "text": [
      "-------------------------------------------\n",
      "Batch: 69\n",
      "-------------------------------------------\n",
      "+-------------------+----------+---------+--------+-----------+-------+------+-----+------+-----+-----+\n",
      "|event_timestamp    |machine_id|vibration|acoustic|temperature|current|status|IMF_1|IMF_2 |IMF_3|label|\n",
      "+-------------------+----------+---------+--------+-----------+-------+------+-----+------+-----+-----+\n",
      "|2024-07-01 09:59:00|M01       |0.843    |0.679   |65.63      |11.55  |Normal|0.105|-0.016|0.035|0    |\n",
      "+-------------------+----------+---------+--------+-----------+-------+------+-----+------+-----+-----+\n",
      "\n"
     ]
    },
    {
     "name": "stderr",
     "output_type": "stream",
     "text": [
      "                                                                                \r"
     ]
    },
    {
     "name": "stdout",
     "output_type": "stream",
     "text": [
      "-------------------------------------------\n",
      "Batch: 70\n",
      "-------------------------------------------\n",
      "+-------------------+----------+---------+--------+-----------+-------+------+-----+------+-----+-----+\n",
      "|event_timestamp    |machine_id|vibration|acoustic|temperature|current|status|IMF_1|IMF_2 |IMF_3|label|\n",
      "+-------------------+----------+---------+--------+-----------+-------+------+-----+------+-----+-----+\n",
      "|2024-07-01 10:00:00|M01       |0.853    |0.651   |68.61      |12.43  |Normal|0.155|-0.085|0.034|0    |\n",
      "+-------------------+----------+---------+--------+-----------+-------+------+-----+------+-----+-----+\n",
      "\n",
      "-------------------------------------------\n",
      "Batch: 71\n",
      "-------------------------------------------\n",
      "+-------------------+----------+---------+--------+-----------+-------+------+-----+-----+-----+-----+\n",
      "|event_timestamp    |machine_id|vibration|acoustic|temperature|current|status|IMF_1|IMF_2|IMF_3|label|\n",
      "+-------------------+----------+---------+--------+-----------+-------+------+-----+-----+-----+-----+\n",
      "|2024-07-01 10:01:00|M01       |0.816    |0.643   |67.94      |11.89  |Normal|0.085|0.069|0.033|0    |\n",
      "+-------------------+----------+---------+--------+-----------+-------+------+-----+-----+-----+-----+\n",
      "\n"
     ]
    },
    {
     "name": "stderr",
     "output_type": "stream",
     "text": [
      "                                                                                \r"
     ]
    },
    {
     "name": "stdout",
     "output_type": "stream",
     "text": [
      "-------------------------------------------\n",
      "Batch: 72\n",
      "-------------------------------------------\n",
      "+-------------------+----------+---------+--------+-----------+-------+------+-----+-----+-----+-----+\n",
      "|event_timestamp    |machine_id|vibration|acoustic|temperature|current|status|IMF_1|IMF_2|IMF_3|label|\n",
      "+-------------------+----------+---------+--------+-----------+-------+------+-----+-----+-----+-----+\n",
      "|2024-07-01 10:02:00|M01       |0.823    |0.55    |66.48      |12.09  |Normal|0.123|0.109|0.032|0    |\n",
      "+-------------------+----------+---------+--------+-----------+-------+------+-----+-----+-----+-----+\n",
      "\n",
      "-------------------------------------------\n",
      "Batch: 73\n",
      "-------------------------------------------\n",
      "+-------------------+----------+---------+--------+-----------+-------+------+-----+------+-----+-----+\n",
      "|event_timestamp    |machine_id|vibration|acoustic|temperature|current|status|IMF_1|IMF_2 |IMF_3|label|\n",
      "+-------------------+----------+---------+--------+-----------+-------+------+-----+------+-----+-----+\n",
      "|2024-07-01 10:03:00|M01       |0.762    |0.64    |64.41      |11.65  |Normal|0.158|-0.037|0.032|0    |\n",
      "+-------------------+----------+---------+--------+-----------+-------+------+-----+------+-----+-----+\n",
      "\n"
     ]
    },
    {
     "name": "stderr",
     "output_type": "stream",
     "text": [
      "                                                                                \r"
     ]
    },
    {
     "name": "stdout",
     "output_type": "stream",
     "text": [
      "-------------------------------------------\n",
      "Batch: 74\n",
      "-------------------------------------------\n",
      "+-------------------+----------+---------+--------+-----------+-------+------+-----+------+-----+-----+\n",
      "|event_timestamp    |machine_id|vibration|acoustic|temperature|current|status|IMF_1|IMF_2 |IMF_3|label|\n",
      "+-------------------+----------+---------+--------+-----------+-------+------+-----+------+-----+-----+\n",
      "|2024-07-01 10:04:00|M01       |0.812    |0.639   |63.39      |11.9   |Normal|0.105|-0.093|0.031|0    |\n",
      "+-------------------+----------+---------+--------+-----------+-------+------+-----+------+-----+-----+\n",
      "\n",
      "-------------------------------------------\n",
      "Batch: 75\n",
      "-------------------------------------------\n",
      "+-------------------+----------+---------+--------+-----------+-------+------+-----+------+-----+-----+\n",
      "|event_timestamp    |machine_id|vibration|acoustic|temperature|current|status|IMF_1|IMF_2 |IMF_3|label|\n",
      "+-------------------+----------+---------+--------+-----------+-------+------+-----+------+-----+-----+\n",
      "|2024-07-01 10:05:00|M01       |0.752    |0.698   |65.46      |12.51  |Normal|0.097|-0.114|0.03 |0    |\n",
      "+-------------------+----------+---------+--------+-----------+-------+------+-----+------+-----+-----+\n",
      "\n",
      "-------------------------------------------\n",
      "Batch: 76\n",
      "-------------------------------------------\n",
      "+-------------------+----------+---------+--------+-----------+-------+------+-----+-----+-----+-----+\n",
      "|event_timestamp    |machine_id|vibration|acoustic|temperature|current|status|IMF_1|IMF_2|IMF_3|label|\n",
      "+-------------------+----------+---------+--------+-----------+-------+------+-----+-----+-----+-----+\n",
      "|2024-07-01 10:06:00|M01       |0.75     |0.603   |62.72      |11.78  |Normal|0.103|0.009|0.029|0    |\n",
      "+-------------------+----------+---------+--------+-----------+-------+------+-----+-----+-----+-----+\n",
      "\n"
     ]
    },
    {
     "name": "stderr",
     "output_type": "stream",
     "text": [
      "                                                                                \r"
     ]
    },
    {
     "name": "stdout",
     "output_type": "stream",
     "text": [
      "-------------------------------------------\n",
      "Batch: 77\n",
      "-------------------------------------------\n",
      "+-------------------+----------+---------+--------+-----------+-------+------+-----+-----+-----+-----+\n",
      "|event_timestamp    |machine_id|vibration|acoustic|temperature|current|status|IMF_1|IMF_2|IMF_3|label|\n",
      "+-------------------+----------+---------+--------+-----------+-------+------+-----+-----+-----+-----+\n",
      "|2024-07-01 10:07:00|M01       |0.799    |0.636   |63.36      |11.85  |Normal|0.195|0.12 |0.028|0    |\n",
      "+-------------------+----------+---------+--------+-----------+-------+------+-----+-----+-----+-----+\n",
      "\n"
     ]
    },
    {
     "name": "stderr",
     "output_type": "stream",
     "text": [
      "                                                                                \r"
     ]
    },
    {
     "name": "stdout",
     "output_type": "stream",
     "text": [
      "-------------------------------------------\n",
      "Batch: 78\n",
      "-------------------------------------------\n",
      "+-------------------+----------+---------+--------+-----------+-------+------+-----+------+-----+-----+\n",
      "|event_timestamp    |machine_id|vibration|acoustic|temperature|current|status|IMF_1|IMF_2 |IMF_3|label|\n",
      "+-------------------+----------+---------+--------+-----------+-------+------+-----+------+-----+-----+\n",
      "|2024-07-01 10:08:00|M01       |0.88     |0.636   |63.68      |12.09  |Normal|0.172|-0.053|0.027|0    |\n",
      "+-------------------+----------+---------+--------+-----------+-------+------+-----+------+-----+-----+\n",
      "\n",
      "-------------------------------------------\n",
      "Batch: 79\n",
      "-------------------------------------------\n",
      "+-------------------+----------+---------+--------+-----------+-------+------+-----+-----+-----+-----+\n",
      "|event_timestamp    |machine_id|vibration|acoustic|temperature|current|status|IMF_1|IMF_2|IMF_3|label|\n",
      "+-------------------+----------+---------+--------+-----------+-------+------+-----+-----+-----+-----+\n",
      "|2024-07-01 10:09:00|M01       |0.747    |0.641   |67.15      |12.58  |Normal|0.193|0.027|0.027|0    |\n",
      "+-------------------+----------+---------+--------+-----------+-------+------+-----+-----+-----+-----+\n",
      "\n"
     ]
    },
    {
     "name": "stderr",
     "output_type": "stream",
     "text": [
      "                                                                                \r"
     ]
    },
    {
     "name": "stdout",
     "output_type": "stream",
     "text": [
      "-------------------------------------------\n",
      "Batch: 80\n",
      "-------------------------------------------\n",
      "+-------------------+----------+---------+--------+-----------+-------+------+-----+------+-----+-----+\n",
      "|event_timestamp    |machine_id|vibration|acoustic|temperature|current|status|IMF_1|IMF_2 |IMF_3|label|\n",
      "+-------------------+----------+---------+--------+-----------+-------+------+-----+------+-----+-----+\n",
      "|2024-07-01 10:10:00|M01       |0.815    |0.688   |64.43      |11.74  |Normal|0.237|-0.002|0.026|0    |\n",
      "+-------------------+----------+---------+--------+-----------+-------+------+-----+------+-----+-----+\n",
      "\n"
     ]
    },
    {
     "name": "stderr",
     "output_type": "stream",
     "text": [
      "                                                                                \r"
     ]
    },
    {
     "name": "stdout",
     "output_type": "stream",
     "text": [
      "-------------------------------------------\n",
      "Batch: 81\n",
      "-------------------------------------------\n",
      "+-------------------+----------+---------+--------+-----------+-------+------+-----+------+-----+-----+\n",
      "|event_timestamp    |machine_id|vibration|acoustic|temperature|current|status|IMF_1|IMF_2 |IMF_3|label|\n",
      "+-------------------+----------+---------+--------+-----------+-------+------+-----+------+-----+-----+\n",
      "|2024-07-01 10:11:00|M01       |0.805    |0.569   |69.71      |11.56  |Normal|0.126|-0.094|0.025|0    |\n",
      "+-------------------+----------+---------+--------+-----------+-------+------+-----+------+-----+-----+\n",
      "\n",
      "-------------------------------------------\n",
      "Batch: 82\n",
      "-------------------------------------------\n",
      "+-------------------+----------+---------+--------+-----------+-------+------+-----+------+-----+-----+\n",
      "|event_timestamp    |machine_id|vibration|acoustic|temperature|current|status|IMF_1|IMF_2 |IMF_3|label|\n",
      "+-------------------+----------+---------+--------+-----------+-------+------+-----+------+-----+-----+\n",
      "|2024-07-01 10:12:00|M01       |0.823    |0.531   |62.91      |12.94  |Normal|0.147|-0.099|0.024|0    |\n",
      "+-------------------+----------+---------+--------+-----------+-------+------+-----+------+-----+-----+\n",
      "\n"
     ]
    },
    {
     "name": "stderr",
     "output_type": "stream",
     "text": [
      "                                                                                \r"
     ]
    },
    {
     "name": "stdout",
     "output_type": "stream",
     "text": [
      "-------------------------------------------\n",
      "Batch: 83\n",
      "-------------------------------------------\n",
      "+-------------------+----------+---------+--------+-----------+-------+------+-----+------+-----+-----+\n",
      "|event_timestamp    |machine_id|vibration|acoustic|temperature|current|status|IMF_1|IMF_2 |IMF_3|label|\n",
      "+-------------------+----------+---------+--------+-----------+-------+------+-----+------+-----+-----+\n",
      "|2024-07-01 10:13:00|M01       |0.766    |0.575   |64.98      |11.44  |Normal|0.218|-0.111|0.023|0    |\n",
      "+-------------------+----------+---------+--------+-----------+-------+------+-----+------+-----+-----+\n",
      "\n",
      "-------------------------------------------\n",
      "Batch: 84\n",
      "-------------------------------------------\n",
      "+-------------------+----------+---------+--------+-----------+-------+------+-----+------+-----+-----+\n",
      "|event_timestamp    |machine_id|vibration|acoustic|temperature|current|status|IMF_1|IMF_2 |IMF_3|label|\n",
      "+-------------------+----------+---------+--------+-----------+-------+------+-----+------+-----+-----+\n",
      "|2024-07-01 10:14:00|M01       |0.767    |0.551   |64.57      |11.29  |Normal|0.088|-0.007|0.022|0    |\n",
      "+-------------------+----------+---------+--------+-----------+-------+------+-----+------+-----+-----+\n",
      "\n",
      "-------------------------------------------\n",
      "Batch: 85\n",
      "-------------------------------------------\n",
      "+-------------------+----------+---------+--------+-----------+-------+------+-----+-----+-----+-----+\n",
      "|event_timestamp    |machine_id|vibration|acoustic|temperature|current|status|IMF_1|IMF_2|IMF_3|label|\n",
      "+-------------------+----------+---------+--------+-----------+-------+------+-----+-----+-----+-----+\n",
      "|2024-07-01 10:15:00|M01       |0.749    |0.662   |66.07      |12.95  |Normal|0.103|0.035|0.021|0    |\n",
      "+-------------------+----------+---------+--------+-----------+-------+------+-----+-----+-----+-----+\n",
      "\n"
     ]
    },
    {
     "name": "stderr",
     "output_type": "stream",
     "text": [
      "                                                                                \r"
     ]
    },
    {
     "name": "stdout",
     "output_type": "stream",
     "text": [
      "-------------------------------------------\n",
      "Batch: 86\n",
      "-------------------------------------------\n",
      "+-------------------+----------+---------+--------+-----------+-------+------+-----+------+-----+-----+\n",
      "|event_timestamp    |machine_id|vibration|acoustic|temperature|current|status|IMF_1|IMF_2 |IMF_3|label|\n",
      "+-------------------+----------+---------+--------+-----------+-------+------+-----+------+-----+-----+\n",
      "|2024-07-01 10:16:00|M01       |0.812    |0.53    |66.99      |11.56  |Normal|0.085|-0.001|0.02 |0    |\n",
      "+-------------------+----------+---------+--------+-----------+-------+------+-----+------+-----+-----+\n",
      "\n"
     ]
    },
    {
     "name": "stderr",
     "output_type": "stream",
     "text": [
      "                                                                                \r"
     ]
    },
    {
     "name": "stdout",
     "output_type": "stream",
     "text": [
      "-------------------------------------------\n",
      "Batch: 87\n",
      "-------------------------------------------\n",
      "+-------------------+----------+---------+--------+-----------+-------+----------------+-----+------+-----+-----+\n",
      "|event_timestamp    |machine_id|vibration|acoustic|temperature|current|status          |IMF_1|IMF_2 |IMF_3|label|\n",
      "+-------------------+----------+---------+--------+-----------+-------+----------------+-----+------+-----+-----+\n",
      "|2024-07-01 10:17:00|M01       |1.165    |0.828   |76.15      |15.34  |Failure Detected|0.28 |-0.055|0.02 |1    |\n",
      "+-------------------+----------+---------+--------+-----------+-------+----------------+-----+------+-----+-----+\n",
      "\n"
     ]
    },
    {
     "name": "stderr",
     "output_type": "stream",
     "text": [
      "                                                                                \r"
     ]
    },
    {
     "name": "stdout",
     "output_type": "stream",
     "text": [
      "-------------------------------------------\n",
      "Batch: 88\n",
      "-------------------------------------------\n",
      "+-------------------+----------+---------+--------+-----------+-------+------+-----+-----+-----+-----+\n",
      "|event_timestamp    |machine_id|vibration|acoustic|temperature|current|status|IMF_1|IMF_2|IMF_3|label|\n",
      "+-------------------+----------+---------+--------+-----------+-------+------+-----+-----+-----+-----+\n",
      "|2024-07-01 10:18:00|M01       |0.739    |0.552   |64.78      |11.88  |Normal|0.162|-0.02|0.019|0    |\n",
      "+-------------------+----------+---------+--------+-----------+-------+------+-----+-----+-----+-----+\n",
      "\n",
      "-------------------------------------------\n",
      "Batch: 89\n",
      "-------------------------------------------\n",
      "+-------------------+----------+---------+--------+-----------+-------+----------------+-----+-----+-----+-----+\n",
      "|event_timestamp    |machine_id|vibration|acoustic|temperature|current|status          |IMF_1|IMF_2|IMF_3|label|\n",
      "+-------------------+----------+---------+--------+-----------+-------+----------------+-----+-----+-----+-----+\n",
      "|2024-07-01 10:19:00|M01       |1.183    |0.801   |77.08      |16.06  |Failure Detected|0.324|0.059|0.018|1    |\n",
      "+-------------------+----------+---------+--------+-----------+-------+----------------+-----+-----+-----+-----+\n",
      "\n"
     ]
    },
    {
     "name": "stderr",
     "output_type": "stream",
     "text": [
      "                                                                                \r"
     ]
    },
    {
     "name": "stdout",
     "output_type": "stream",
     "text": [
      "-------------------------------------------\n",
      "Batch: 90\n",
      "-------------------------------------------\n",
      "+-------------------+----------+---------+--------+-----------+-------+------+-----+-----+-----+-----+\n",
      "|event_timestamp    |machine_id|vibration|acoustic|temperature|current|status|IMF_1|IMF_2|IMF_3|label|\n",
      "+-------------------+----------+---------+--------+-----------+-------+------+-----+-----+-----+-----+\n",
      "|2024-07-01 10:20:00|M01       |0.826    |0.634   |64.05      |11.45  |Normal|0.225|0.097|0.017|0    |\n",
      "+-------------------+----------+---------+--------+-----------+-------+------+-----+-----+-----+-----+\n",
      "\n",
      "-------------------------------------------\n",
      "Batch: 91\n",
      "-------------------------------------------\n",
      "+-------------------+----------+---------+--------+-----------+-------+------+-----+-----+-----+-----+\n",
      "|event_timestamp    |machine_id|vibration|acoustic|temperature|current|status|IMF_1|IMF_2|IMF_3|label|\n",
      "+-------------------+----------+---------+--------+-----------+-------+------+-----+-----+-----+-----+\n",
      "|2024-07-01 10:21:00|M01       |0.784    |0.56    |64.26      |12.25  |Normal|0.23 |-0.07|0.016|0    |\n",
      "+-------------------+----------+---------+--------+-----------+-------+------+-----+-----+-----+-----+\n",
      "\n",
      "-------------------------------------------\n",
      "Batch: 92\n",
      "-------------------------------------------\n",
      "+-------------------+----------+---------+--------+-----------+-------+------+-----+-----+-----+-----+\n",
      "|event_timestamp    |machine_id|vibration|acoustic|temperature|current|status|IMF_1|IMF_2|IMF_3|label|\n",
      "+-------------------+----------+---------+--------+-----------+-------+------+-----+-----+-----+-----+\n",
      "|2024-07-01 10:22:00|M01       |0.789    |0.641   |63.5       |12.02  |Normal|0.133|0.008|0.015|0    |\n",
      "+-------------------+----------+---------+--------+-----------+-------+------+-----+-----+-----+-----+\n",
      "\n"
     ]
    },
    {
     "name": "stderr",
     "output_type": "stream",
     "text": [
      "                                                                                \r"
     ]
    },
    {
     "name": "stdout",
     "output_type": "stream",
     "text": [
      "-------------------------------------------\n",
      "Batch: 93\n",
      "-------------------------------------------\n",
      "+-------------------+----------+---------+--------+-----------+-------+------+-----+-----+-----+-----+\n",
      "|event_timestamp    |machine_id|vibration|acoustic|temperature|current|status|IMF_1|IMF_2|IMF_3|label|\n",
      "+-------------------+----------+---------+--------+-----------+-------+------+-----+-----+-----+-----+\n",
      "|2024-07-01 10:23:00|M01       |0.867    |0.53    |65.78      |11.09  |Normal|0.087|0.094|0.014|0    |\n",
      "+-------------------+----------+---------+--------+-----------+-------+------+-----+-----+-----+-----+\n",
      "\n"
     ]
    },
    {
     "name": "stderr",
     "output_type": "stream",
     "text": [
      "                                                                                \r"
     ]
    },
    {
     "name": "stdout",
     "output_type": "stream",
     "text": [
      "-------------------------------------------\n",
      "Batch: 94\n",
      "-------------------------------------------\n",
      "+-------------------+----------+---------+--------+-----------+-------+------+-----+-----+-----+-----+\n",
      "|event_timestamp    |machine_id|vibration|acoustic|temperature|current|status|IMF_1|IMF_2|IMF_3|label|\n",
      "+-------------------+----------+---------+--------+-----------+-------+------+-----+-----+-----+-----+\n",
      "|2024-07-01 10:24:00|M01       |0.886    |0.565   |65.33      |12.73  |Normal|0.222|0.077|0.013|0    |\n",
      "+-------------------+----------+---------+--------+-----------+-------+------+-----+-----+-----+-----+\n",
      "\n"
     ]
    },
    {
     "name": "stderr",
     "output_type": "stream",
     "text": [
      "                                                                                \r"
     ]
    },
    {
     "name": "stdout",
     "output_type": "stream",
     "text": [
      "-------------------------------------------\n",
      "Batch: 95\n",
      "-------------------------------------------\n",
      "+-------------------+----------+---------+--------+-----------+-------+------+-----+------+-----+-----+\n",
      "|event_timestamp    |machine_id|vibration|acoustic|temperature|current|status|IMF_1|IMF_2 |IMF_3|label|\n",
      "+-------------------+----------+---------+--------+-----------+-------+------+-----+------+-----+-----+\n",
      "|2024-07-01 10:25:00|M01       |0.837    |0.608   |63.51      |12.32  |Normal|0.086|-0.072|0.012|0    |\n",
      "+-------------------+----------+---------+--------+-----------+-------+------+-----+------+-----+-----+\n",
      "\n"
     ]
    },
    {
     "name": "stderr",
     "output_type": "stream",
     "text": [
      "                                                                                \r"
     ]
    },
    {
     "name": "stdout",
     "output_type": "stream",
     "text": [
      "-------------------------------------------\n",
      "Batch: 96\n",
      "-------------------------------------------\n",
      "+-------------------+----------+---------+--------+-----------+-------+------+-----+------+-----+-----+\n",
      "|event_timestamp    |machine_id|vibration|acoustic|temperature|current|status|IMF_1|IMF_2 |IMF_3|label|\n",
      "+-------------------+----------+---------+--------+-----------+-------+------+-----+------+-----+-----+\n",
      "|2024-07-01 10:26:00|M01       |0.805    |0.639   |66.13      |11.83  |Normal|0.213|-0.013|0.011|0    |\n",
      "+-------------------+----------+---------+--------+-----------+-------+------+-----+------+-----+-----+\n",
      "\n"
     ]
    },
    {
     "name": "stderr",
     "output_type": "stream",
     "text": [
      "                                                                                \r"
     ]
    },
    {
     "name": "stdout",
     "output_type": "stream",
     "text": [
      "-------------------------------------------\n",
      "Batch: 97\n",
      "-------------------------------------------\n",
      "+-------------------+----------+---------+--------+-----------+-------+------+-----+-----+-----+-----+\n",
      "|event_timestamp    |machine_id|vibration|acoustic|temperature|current|status|IMF_1|IMF_2|IMF_3|label|\n",
      "+-------------------+----------+---------+--------+-----------+-------+------+-----+-----+-----+-----+\n",
      "|2024-07-01 10:27:00|M01       |0.799    |0.57    |64.9       |12.11  |Normal|0.093|0.096|0.01 |0    |\n",
      "+-------------------+----------+---------+--------+-----------+-------+------+-----+-----+-----+-----+\n",
      "\n",
      "-------------------------------------------\n",
      "Batch: 98\n",
      "-------------------------------------------\n",
      "+-------------------+----------+---------+--------+-----------+-------+------+-----+-----+-----+-----+\n",
      "|event_timestamp    |machine_id|vibration|acoustic|temperature|current|status|IMF_1|IMF_2|IMF_3|label|\n",
      "+-------------------+----------+---------+--------+-----------+-------+------+-----+-----+-----+-----+\n",
      "|2024-07-01 10:28:00|M01       |0.82     |0.652   |68.69      |12.11  |Normal|0.195|0.008|0.009|0    |\n",
      "+-------------------+----------+---------+--------+-----------+-------+------+-----+-----+-----+-----+\n",
      "\n",
      "-------------------------------------------\n",
      "Batch: 99\n",
      "-------------------------------------------\n",
      "+-------------------+----------+---------+--------+-----------+-------+------+-----+------+-----+-----+\n",
      "|event_timestamp    |machine_id|vibration|acoustic|temperature|current|status|IMF_1|IMF_2 |IMF_3|label|\n",
      "+-------------------+----------+---------+--------+-----------+-------+------+-----+------+-----+-----+\n",
      "|2024-07-01 10:29:00|M01       |0.758    |0.615   |69.0       |11.43  |Normal|0.083|-0.028|0.008|0    |\n",
      "+-------------------+----------+---------+--------+-----------+-------+------+-----+------+-----+-----+\n",
      "\n"
     ]
    },
    {
     "name": "stderr",
     "output_type": "stream",
     "text": [
      "                                                                                \r"
     ]
    },
    {
     "name": "stdout",
     "output_type": "stream",
     "text": [
      "-------------------------------------------\n",
      "Batch: 100\n",
      "-------------------------------------------\n",
      "+-------------------+----------+---------+--------+-----------+-------+------+-----+-----+-----+-----+\n",
      "|event_timestamp    |machine_id|vibration|acoustic|temperature|current|status|IMF_1|IMF_2|IMF_3|label|\n",
      "+-------------------+----------+---------+--------+-----------+-------+------+-----+-----+-----+-----+\n",
      "|2024-07-01 10:30:00|M01       |0.753    |0.573   |64.61      |12.42  |Normal|0.188|0.091|0.007|0    |\n",
      "+-------------------+----------+---------+--------+-----------+-------+------+-----+-----+-----+-----+\n",
      "\n"
     ]
    },
    {
     "name": "stderr",
     "output_type": "stream",
     "text": [
      "                                                                                \r"
     ]
    },
    {
     "name": "stdout",
     "output_type": "stream",
     "text": [
      "-------------------------------------------\n",
      "Batch: 101\n",
      "-------------------------------------------\n",
      "+-------------------+----------+---------+--------+-----------+-------+------+-----+-----+-----+-----+\n",
      "|event_timestamp    |machine_id|vibration|acoustic|temperature|current|status|IMF_1|IMF_2|IMF_3|label|\n",
      "+-------------------+----------+---------+--------+-----------+-------+------+-----+-----+-----+-----+\n",
      "|2024-07-01 10:31:00|M01       |0.778    |0.632   |65.82      |12.29  |Normal|0.202|0.098|0.006|0    |\n",
      "+-------------------+----------+---------+--------+-----------+-------+------+-----+-----+-----+-----+\n",
      "\n"
     ]
    },
    {
     "name": "stderr",
     "output_type": "stream",
     "text": [
      "                                                                                \r"
     ]
    },
    {
     "name": "stdout",
     "output_type": "stream",
     "text": [
      "-------------------------------------------\n",
      "Batch: 102\n",
      "-------------------------------------------\n",
      "+-------------------+----------+---------+--------+-----------+-------+------+-----+------+-----+-----+\n",
      "|event_timestamp    |machine_id|vibration|acoustic|temperature|current|status|IMF_1|IMF_2 |IMF_3|label|\n",
      "+-------------------+----------+---------+--------+-----------+-------+------+-----+------+-----+-----+\n",
      "|2024-07-01 10:32:00|M01       |0.832    |0.635   |66.71      |11.67  |Normal|0.157|-0.069|0.005|0    |\n",
      "+-------------------+----------+---------+--------+-----------+-------+------+-----+------+-----+-----+\n",
      "\n",
      "-------------------------------------------\n",
      "Batch: 103\n",
      "-------------------------------------------\n",
      "+-------------------+----------+---------+--------+-----------+-------+------+-----+-----+-----+-----+\n",
      "|event_timestamp    |machine_id|vibration|acoustic|temperature|current|status|IMF_1|IMF_2|IMF_3|label|\n",
      "+-------------------+----------+---------+--------+-----------+-------+------+-----+-----+-----+-----+\n",
      "|2024-07-01 10:33:00|M01       |0.788    |0.605   |67.13      |11.46  |Normal|0.121|-0.03|0.004|0    |\n",
      "+-------------------+----------+---------+--------+-----------+-------+------+-----+-----+-----+-----+\n",
      "\n",
      "-------------------------------------------\n",
      "Batch: 104\n",
      "-------------------------------------------\n",
      "+-------------------+----------+---------+--------+-----------+-------+------+-----+------+-----+-----+\n",
      "|event_timestamp    |machine_id|vibration|acoustic|temperature|current|status|IMF_1|IMF_2 |IMF_3|label|\n",
      "+-------------------+----------+---------+--------+-----------+-------+------+-----+------+-----+-----+\n",
      "|2024-07-01 10:34:00|M01       |0.756    |0.591   |63.73      |10.77  |Normal|0.189|-0.053|0.003|0    |\n",
      "+-------------------+----------+---------+--------+-----------+-------+------+-----+------+-----+-----+\n",
      "\n"
     ]
    },
    {
     "name": "stderr",
     "output_type": "stream",
     "text": [
      "                                                                                \r"
     ]
    },
    {
     "name": "stdout",
     "output_type": "stream",
     "text": [
      "-------------------------------------------\n",
      "Batch: 105\n",
      "-------------------------------------------\n",
      "+-------------------+----------+---------+--------+-----------+-------+------+-----+------+-----+-----+\n",
      "|event_timestamp    |machine_id|vibration|acoustic|temperature|current|status|IMF_1|IMF_2 |IMF_3|label|\n",
      "+-------------------+----------+---------+--------+-----------+-------+------+-----+------+-----+-----+\n",
      "|2024-07-01 10:35:00|M01       |0.826    |0.533   |65.87      |11.76  |Normal|0.224|-0.084|0.002|0    |\n",
      "+-------------------+----------+---------+--------+-----------+-------+------+-----+------+-----+-----+\n",
      "\n"
     ]
    },
    {
     "name": "stderr",
     "output_type": "stream",
     "text": [
      "                                                                                \r"
     ]
    },
    {
     "name": "stdout",
     "output_type": "stream",
     "text": [
      "-------------------------------------------\n",
      "Batch: 106\n",
      "-------------------------------------------\n",
      "+-------------------+----------+---------+--------+-----------+-------+------+-----+------+-----+-----+\n",
      "|event_timestamp    |machine_id|vibration|acoustic|temperature|current|status|IMF_1|IMF_2 |IMF_3|label|\n",
      "+-------------------+----------+---------+--------+-----------+-------+------+-----+------+-----+-----+\n",
      "|2024-07-01 10:36:00|M01       |0.837    |0.511   |63.09      |12.49  |Normal|0.137|-0.085|0.001|0    |\n",
      "+-------------------+----------+---------+--------+-----------+-------+------+-----+------+-----+-----+\n",
      "\n",
      "-------------------------------------------\n",
      "Batch: 107\n",
      "-------------------------------------------\n",
      "+-------------------+----------+---------+--------+-----------+-------+------+-----+-----+-----+-----+\n",
      "|event_timestamp    |machine_id|vibration|acoustic|temperature|current|status|IMF_1|IMF_2|IMF_3|label|\n",
      "+-------------------+----------+---------+--------+-----------+-------+------+-----+-----+-----+-----+\n",
      "|2024-07-01 10:37:00|M01       |0.724    |0.676   |65.19      |12.12  |Normal|0.172|0.019|0.0  |0    |\n",
      "+-------------------+----------+---------+--------+-----------+-------+------+-----+-----+-----+-----+\n",
      "\n"
     ]
    },
    {
     "name": "stderr",
     "output_type": "stream",
     "text": [
      "                                                                                \r"
     ]
    },
    {
     "name": "stdout",
     "output_type": "stream",
     "text": [
      "-------------------------------------------\n",
      "Batch: 108\n",
      "-------------------------------------------\n",
      "+-------------------+----------+---------+--------+-----------+-------+------+-----+------+------+-----+\n",
      "|event_timestamp    |machine_id|vibration|acoustic|temperature|current|status|IMF_1|IMF_2 |IMF_3 |label|\n",
      "+-------------------+----------+---------+--------+-----------+-------+------+-----+------+------+-----+\n",
      "|2024-07-01 10:38:00|M01       |0.803    |0.625   |65.16      |11.8   |Normal|0.211|-0.077|-0.001|0    |\n",
      "+-------------------+----------+---------+--------+-----------+-------+------+-----+------+------+-----+\n",
      "\n",
      "-------------------------------------------\n",
      "Batch: 109\n",
      "-------------------------------------------\n",
      "+-------------------+----------+---------+--------+-----------+-------+------+-----+-----+------+-----+\n",
      "|event_timestamp    |machine_id|vibration|acoustic|temperature|current|status|IMF_1|IMF_2|IMF_3 |label|\n",
      "+-------------------+----------+---------+--------+-----------+-------+------+-----+-----+------+-----+\n",
      "|2024-07-01 10:39:00|M01       |0.861    |0.57    |67.04      |12.5   |Normal|0.252|-0.04|-0.002|0    |\n",
      "+-------------------+----------+---------+--------+-----------+-------+------+-----+-----+------+-----+\n",
      "\n"
     ]
    },
    {
     "name": "stderr",
     "output_type": "stream",
     "text": [
      "                                                                                \r"
     ]
    },
    {
     "name": "stdout",
     "output_type": "stream",
     "text": [
      "-------------------------------------------\n",
      "Batch: 110\n",
      "-------------------------------------------\n",
      "+-------------------+----------+---------+--------+-----------+-------+------+-----+-----+------+-----+\n",
      "|event_timestamp    |machine_id|vibration|acoustic|temperature|current|status|IMF_1|IMF_2|IMF_3 |label|\n",
      "+-------------------+----------+---------+--------+-----------+-------+------+-----+-----+------+-----+\n",
      "|2024-07-01 10:40:00|M01       |0.784    |0.685   |64.53      |12.88  |Normal|0.188|0.051|-0.003|0    |\n",
      "+-------------------+----------+---------+--------+-----------+-------+------+-----+-----+------+-----+\n",
      "\n"
     ]
    },
    {
     "name": "stderr",
     "output_type": "stream",
     "text": [
      "                                                                                \r"
     ]
    },
    {
     "name": "stdout",
     "output_type": "stream",
     "text": [
      "-------------------------------------------\n",
      "Batch: 111\n",
      "-------------------------------------------\n",
      "+-------------------+----------+---------+--------+-----------+-------+------+-----+------+------+-----+\n",
      "|event_timestamp    |machine_id|vibration|acoustic|temperature|current|status|IMF_1|IMF_2 |IMF_3 |label|\n",
      "+-------------------+----------+---------+--------+-----------+-------+------+-----+------+------+-----+\n",
      "|2024-07-01 10:41:00|M01       |0.756    |0.569   |66.0       |11.83  |Normal|0.145|-0.063|-0.004|0    |\n",
      "+-------------------+----------+---------+--------+-----------+-------+------+-----+------+------+-----+\n",
      "\n",
      "-------------------------------------------\n",
      "Batch: 112\n",
      "-------------------------------------------\n",
      "+-------------------+----------+---------+--------+-----------+-------+------+-----+-----+------+-----+\n",
      "|event_timestamp    |machine_id|vibration|acoustic|temperature|current|status|IMF_1|IMF_2|IMF_3 |label|\n",
      "+-------------------+----------+---------+--------+-----------+-------+------+-----+-----+------+-----+\n",
      "|2024-07-01 10:42:00|M01       |0.805    |0.663   |62.4       |12.39  |Normal|0.102|0.087|-0.005|0    |\n",
      "+-------------------+----------+---------+--------+-----------+-------+------+-----+-----+------+-----+\n",
      "\n",
      "-------------------------------------------\n",
      "Batch: 113\n",
      "-------------------------------------------\n",
      "+-------------------+----------+---------+--------+-----------+-------+------+-----+------+------+-----+\n",
      "|event_timestamp    |machine_id|vibration|acoustic|temperature|current|status|IMF_1|IMF_2 |IMF_3 |label|\n",
      "+-------------------+----------+---------+--------+-----------+-------+------+-----+------+------+-----+\n",
      "|2024-07-01 10:43:00|M01       |0.876    |0.579   |66.43      |12.27  |Normal|0.261|-0.088|-0.006|0    |\n",
      "+-------------------+----------+---------+--------+-----------+-------+------+-----+------+------+-----+\n",
      "\n"
     ]
    },
    {
     "name": "stderr",
     "output_type": "stream",
     "text": [
      "                                                                                \r"
     ]
    },
    {
     "name": "stdout",
     "output_type": "stream",
     "text": [
      "-------------------------------------------\n",
      "Batch: 114\n",
      "-------------------------------------------\n",
      "+-------------------+----------+---------+--------+-----------+-------+----------------+-----+------+------+-----+\n",
      "|event_timestamp    |machine_id|vibration|acoustic|temperature|current|status          |IMF_1|IMF_2 |IMF_3 |label|\n",
      "+-------------------+----------+---------+--------+-----------+-------+----------------+-----+------+------+-----+\n",
      "|2024-07-01 10:44:00|M01       |1.232    |0.756   |79.05      |15.17  |Failure Detected|0.27 |-0.139|-0.007|1    |\n",
      "+-------------------+----------+---------+--------+-----------+-------+----------------+-----+------+------+-----+\n",
      "\n",
      "-------------------------------------------\n",
      "Batch: 115\n",
      "-------------------------------------------\n",
      "+-------------------+----------+---------+--------+-----------+-------+------+-----+-----+------+-----+\n",
      "|event_timestamp    |machine_id|vibration|acoustic|temperature|current|status|IMF_1|IMF_2|IMF_3 |label|\n",
      "+-------------------+----------+---------+--------+-----------+-------+------+-----+-----+------+-----+\n",
      "|2024-07-01 10:45:00|M01       |0.908    |0.613   |66.02      |13.66  |Normal|0.162|0.001|-0.008|0    |\n",
      "+-------------------+----------+---------+--------+-----------+-------+------+-----+-----+------+-----+\n",
      "\n",
      "-------------------------------------------\n",
      "Batch: 116\n",
      "-------------------------------------------\n",
      "+-------------------+----------+---------+--------+-----------+-------+------+-----+------+------+-----+\n",
      "|event_timestamp    |machine_id|vibration|acoustic|temperature|current|status|IMF_1|IMF_2 |IMF_3 |label|\n",
      "+-------------------+----------+---------+--------+-----------+-------+------+-----+------+------+-----+\n",
      "|2024-07-01 10:46:00|M01       |0.801    |0.715   |60.27      |12.14  |Normal|0.232|-0.007|-0.009|0    |\n",
      "+-------------------+----------+---------+--------+-----------+-------+------+-----+------+------+-----+\n",
      "\n",
      "-------------------------------------------\n",
      "Batch: 117\n",
      "-------------------------------------------\n",
      "+-------------------+----------+---------+--------+-----------+-------+------+-----+-----+-----+-----+\n",
      "|event_timestamp    |machine_id|vibration|acoustic|temperature|current|status|IMF_1|IMF_2|IMF_3|label|\n",
      "+-------------------+----------+---------+--------+-----------+-------+------+-----+-----+-----+-----+\n",
      "|2024-07-01 10:47:00|M01       |0.799    |0.639   |63.93      |11.36  |Normal|0.219|0.079|-0.01|0    |\n",
      "+-------------------+----------+---------+--------+-----------+-------+------+-----+-----+-----+-----+\n",
      "\n",
      "-------------------------------------------\n",
      "Batch: 118\n",
      "-------------------------------------------\n",
      "+-------------------+----------+---------+--------+-----------+-------+------+-----+------+------+-----+\n",
      "|event_timestamp    |machine_id|vibration|acoustic|temperature|current|status|IMF_1|IMF_2 |IMF_3 |label|\n",
      "+-------------------+----------+---------+--------+-----------+-------+------+-----+------+------+-----+\n",
      "|2024-07-01 10:48:00|M01       |0.753    |0.56    |67.16      |12.63  |Normal|0.149|-0.106|-0.011|0    |\n",
      "+-------------------+----------+---------+--------+-----------+-------+------+-----+------+------+-----+\n",
      "\n"
     ]
    },
    {
     "name": "stderr",
     "output_type": "stream",
     "text": [
      "                                                                                \r"
     ]
    },
    {
     "name": "stdout",
     "output_type": "stream",
     "text": [
      "-------------------------------------------\n",
      "Batch: 119\n",
      "-------------------------------------------\n",
      "+-------------------+----------+---------+--------+-----------+-------+------+-----+-----+------+-----+\n",
      "|event_timestamp    |machine_id|vibration|acoustic|temperature|current|status|IMF_1|IMF_2|IMF_3 |label|\n",
      "+-------------------+----------+---------+--------+-----------+-------+------+-----+-----+------+-----+\n",
      "|2024-07-01 10:49:00|M01       |0.79     |0.546   |64.94      |11.69  |Normal|0.228|-0.02|-0.012|0    |\n",
      "+-------------------+----------+---------+--------+-----------+-------+------+-----+-----+------+-----+\n",
      "\n"
     ]
    },
    {
     "name": "stderr",
     "output_type": "stream",
     "text": [
      "                                                                                \r"
     ]
    },
    {
     "name": "stdout",
     "output_type": "stream",
     "text": [
      "-------------------------------------------\n",
      "Batch: 120\n",
      "-------------------------------------------\n",
      "+-------------------+----------+---------+--------+-----------+-------+------+-----+-----+------+-----+\n",
      "|event_timestamp    |machine_id|vibration|acoustic|temperature|current|status|IMF_1|IMF_2|IMF_3 |label|\n",
      "+-------------------+----------+---------+--------+-----------+-------+------+-----+-----+------+-----+\n",
      "|2024-07-01 10:50:00|M01       |0.764    |0.69    |65.31      |12.29  |Normal|0.087|0.077|-0.013|0    |\n",
      "+-------------------+----------+---------+--------+-----------+-------+------+-----+-----+------+-----+\n",
      "\n",
      "-------------------------------------------\n",
      "Batch: 121\n",
      "-------------------------------------------\n",
      "+-------------------+----------+---------+--------+-----------+-------+------+-----+------+------+-----+\n",
      "|event_timestamp    |machine_id|vibration|acoustic|temperature|current|status|IMF_1|IMF_2 |IMF_3 |label|\n",
      "+-------------------+----------+---------+--------+-----------+-------+------+-----+------+------+-----+\n",
      "|2024-07-01 10:51:00|M01       |0.723    |0.682   |68.81      |12.28  |Normal|0.172|-0.047|-0.014|0    |\n",
      "+-------------------+----------+---------+--------+-----------+-------+------+-----+------+------+-----+\n",
      "\n",
      "-------------------------------------------\n",
      "Batch: 122\n",
      "-------------------------------------------\n",
      "+-------------------+----------+---------+--------+-----------+-------+------+-----+------+------+-----+\n",
      "|event_timestamp    |machine_id|vibration|acoustic|temperature|current|status|IMF_1|IMF_2 |IMF_3 |label|\n",
      "+-------------------+----------+---------+--------+-----------+-------+------+-----+------+------+-----+\n",
      "|2024-07-01 10:52:00|M01       |0.856    |0.651   |66.09      |12.29  |Normal|0.253|-0.074|-0.015|0    |\n",
      "+-------------------+----------+---------+--------+-----------+-------+------+-----+------+------+-----+\n",
      "\n",
      "-------------------------------------------\n",
      "Batch: 123\n",
      "-------------------------------------------\n",
      "+-------------------+----------+---------+--------+-----------+-------+------+-----+------+------+-----+\n",
      "|event_timestamp    |machine_id|vibration|acoustic|temperature|current|status|IMF_1|IMF_2 |IMF_3 |label|\n",
      "+-------------------+----------+---------+--------+-----------+-------+------+-----+------+------+-----+\n",
      "|2024-07-01 10:53:00|M01       |0.86     |0.667   |68.09      |12.09  |Normal|0.109|-0.061|-0.016|0    |\n",
      "+-------------------+----------+---------+--------+-----------+-------+------+-----+------+------+-----+\n",
      "\n",
      "-------------------------------------------\n",
      "Batch: 124\n",
      "-------------------------------------------\n",
      "+-------------------+----------+---------+--------+-----------+-------+------+-----+-----+------+-----+\n",
      "|event_timestamp    |machine_id|vibration|acoustic|temperature|current|status|IMF_1|IMF_2|IMF_3 |label|\n",
      "+-------------------+----------+---------+--------+-----------+-------+------+-----+-----+------+-----+\n",
      "|2024-07-01 10:54:00|M01       |0.883    |0.601   |67.51      |11.39  |Normal|0.089|0.111|-0.017|0    |\n",
      "+-------------------+----------+---------+--------+-----------+-------+------+-----+-----+------+-----+\n",
      "\n",
      "-------------------------------------------\n",
      "Batch: 125\n",
      "-------------------------------------------\n",
      "+-------------------+----------+---------+--------+-----------+-------+------+-----+------+------+-----+\n",
      "|event_timestamp    |machine_id|vibration|acoustic|temperature|current|status|IMF_1|IMF_2 |IMF_3 |label|\n",
      "+-------------------+----------+---------+--------+-----------+-------+------+-----+------+------+-----+\n",
      "|2024-07-01 10:55:00|M01       |0.783    |0.646   |63.59      |11.23  |Normal|0.193|-0.047|-0.018|0    |\n",
      "+-------------------+----------+---------+--------+-----------+-------+------+-----+------+------+-----+\n",
      "\n"
     ]
    },
    {
     "name": "stderr",
     "output_type": "stream",
     "text": [
      "                                                                                \r"
     ]
    },
    {
     "name": "stdout",
     "output_type": "stream",
     "text": [
      "-------------------------------------------\n",
      "Batch: 126\n",
      "-------------------------------------------\n",
      "+-------------------+----------+---------+--------+-----------+-------+------+-----+-----+------+-----+\n",
      "|event_timestamp    |machine_id|vibration|acoustic|temperature|current|status|IMF_1|IMF_2|IMF_3 |label|\n",
      "+-------------------+----------+---------+--------+-----------+-------+------+-----+-----+------+-----+\n",
      "|2024-07-01 10:56:00|M01       |0.848    |0.589   |65.56      |11.91  |Normal|0.19 |0.002|-0.018|0    |\n",
      "+-------------------+----------+---------+--------+-----------+-------+------+-----+-----+------+-----+\n",
      "\n",
      "-------------------------------------------\n",
      "Batch: 127\n",
      "-------------------------------------------\n",
      "+-------------------+----------+---------+--------+-----------+-------+------+-----+-----+------+-----+\n",
      "|event_timestamp    |machine_id|vibration|acoustic|temperature|current|status|IMF_1|IMF_2|IMF_3 |label|\n",
      "+-------------------+----------+---------+--------+-----------+-------+------+-----+-----+------+-----+\n",
      "|2024-07-01 10:57:00|M01       |0.796    |0.632   |66.83      |11.58  |Normal|0.095|0.029|-0.019|0    |\n",
      "+-------------------+----------+---------+--------+-----------+-------+------+-----+-----+------+-----+\n",
      "\n"
     ]
    },
    {
     "name": "stderr",
     "output_type": "stream",
     "text": [
      "                                                                                \r"
     ]
    },
    {
     "name": "stdout",
     "output_type": "stream",
     "text": [
      "-------------------------------------------\n",
      "Batch: 128\n",
      "-------------------------------------------\n",
      "+-------------------+----------+---------+--------+-----------+-------+------+-----+------+-----+-----+\n",
      "|event_timestamp    |machine_id|vibration|acoustic|temperature|current|status|IMF_1|IMF_2 |IMF_3|label|\n",
      "+-------------------+----------+---------+--------+-----------+-------+------+-----+------+-----+-----+\n",
      "|2024-07-01 10:58:00|M01       |0.778    |0.615   |65.1       |12.46  |Normal|0.229|-0.065|-0.02|0    |\n",
      "+-------------------+----------+---------+--------+-----------+-------+------+-----+------+-----+-----+\n",
      "\n",
      "-------------------------------------------\n",
      "Batch: 129\n",
      "-------------------------------------------\n",
      "+-------------------+----------+---------+--------+-----------+-------+------+-----+------+------+-----+\n",
      "|event_timestamp    |machine_id|vibration|acoustic|temperature|current|status|IMF_1|IMF_2 |IMF_3 |label|\n",
      "+-------------------+----------+---------+--------+-----------+-------+------+-----+------+------+-----+\n",
      "|2024-07-01 10:59:00|M01       |0.925    |0.676   |64.51      |11.68  |Normal|0.199|-0.086|-0.021|0    |\n",
      "+-------------------+----------+---------+--------+-----------+-------+------+-----+------+------+-----+\n",
      "\n",
      "-------------------------------------------\n",
      "Batch: 130\n",
      "-------------------------------------------\n",
      "+-------------------+----------+---------+--------+-----------+-------+------+-----+------+------+-----+\n",
      "|event_timestamp    |machine_id|vibration|acoustic|temperature|current|status|IMF_1|IMF_2 |IMF_3 |label|\n",
      "+-------------------+----------+---------+--------+-----------+-------+------+-----+------+------+-----+\n",
      "|2024-07-01 11:00:00|M01       |0.85     |0.557   |63.12      |12.57  |Normal|0.213|-0.036|-0.022|0    |\n",
      "+-------------------+----------+---------+--------+-----------+-------+------+-----+------+------+-----+\n",
      "\n",
      "-------------------------------------------\n",
      "Batch: 131\n",
      "-------------------------------------------\n",
      "+-------------------+----------+---------+--------+-----------+-------+------+-----+------+------+-----+\n",
      "|event_timestamp    |machine_id|vibration|acoustic|temperature|current|status|IMF_1|IMF_2 |IMF_3 |label|\n",
      "+-------------------+----------+---------+--------+-----------+-------+------+-----+------+------+-----+\n",
      "|2024-07-01 11:01:00|M01       |0.9      |0.573   |62.35      |11.99  |Normal|0.194|-0.112|-0.023|0    |\n",
      "+-------------------+----------+---------+--------+-----------+-------+------+-----+------+------+-----+\n",
      "\n",
      "-------------------------------------------\n",
      "Batch: 132\n",
      "-------------------------------------------\n",
      "+-------------------+----------+---------+--------+-----------+-------+------+-----+------+------+-----+\n",
      "|event_timestamp    |machine_id|vibration|acoustic|temperature|current|status|IMF_1|IMF_2 |IMF_3 |label|\n",
      "+-------------------+----------+---------+--------+-----------+-------+------+-----+------+------+-----+\n",
      "|2024-07-01 11:02:00|M01       |0.86     |0.574   |65.79      |11.54  |Normal|0.137|-0.089|-0.024|0    |\n",
      "+-------------------+----------+---------+--------+-----------+-------+------+-----+------+------+-----+\n",
      "\n",
      "-------------------------------------------\n",
      "Batch: 133\n",
      "-------------------------------------------\n",
      "+-------------------+----------+---------+--------+-----------+-------+------+-----+-----+------+-----+\n",
      "|event_timestamp    |machine_id|vibration|acoustic|temperature|current|status|IMF_1|IMF_2|IMF_3 |label|\n",
      "+-------------------+----------+---------+--------+-----------+-------+------+-----+-----+------+-----+\n",
      "|2024-07-01 11:03:00|M01       |0.79     |0.579   |62.61      |12.01  |Normal|0.199|0.111|-0.025|0    |\n",
      "+-------------------+----------+---------+--------+-----------+-------+------+-----+-----+------+-----+\n",
      "\n",
      "-------------------------------------------\n",
      "Batch: 134\n",
      "-------------------------------------------\n",
      "+-------------------+----------+---------+--------+-----------+-------+------+-----+-----+------+-----+\n",
      "|event_timestamp    |machine_id|vibration|acoustic|temperature|current|status|IMF_1|IMF_2|IMF_3 |label|\n",
      "+-------------------+----------+---------+--------+-----------+-------+------+-----+-----+------+-----+\n",
      "|2024-07-01 11:04:00|M01       |0.858    |0.636   |68.17      |11.71  |Normal|0.163|0.056|-0.026|0    |\n",
      "+-------------------+----------+---------+--------+-----------+-------+------+-----+-----+------+-----+\n",
      "\n",
      "-------------------------------------------\n",
      "Batch: 135\n",
      "-------------------------------------------\n",
      "+-------------------+----------+---------+--------+-----------+-------+------+-----+------+------+-----+\n",
      "|event_timestamp    |machine_id|vibration|acoustic|temperature|current|status|IMF_1|IMF_2 |IMF_3 |label|\n",
      "+-------------------+----------+---------+--------+-----------+-------+------+-----+------+------+-----+\n",
      "|2024-07-01 11:05:00|M01       |0.83     |0.522   |62.86      |11.58  |Normal|0.129|-0.044|-0.026|0    |\n",
      "+-------------------+----------+---------+--------+-----------+-------+------+-----+------+------+-----+\n",
      "\n",
      "-------------------------------------------\n",
      "Batch: 136\n",
      "-------------------------------------------\n",
      "+-------------------+----------+---------+--------+-----------+-------+------+-----+------+------+-----+\n",
      "|event_timestamp    |machine_id|vibration|acoustic|temperature|current|status|IMF_1|IMF_2 |IMF_3 |label|\n",
      "+-------------------+----------+---------+--------+-----------+-------+------+-----+------+------+-----+\n",
      "|2024-07-01 11:06:00|M01       |0.751    |0.549   |66.3       |12.33  |Normal|0.186|-0.035|-0.027|0    |\n",
      "+-------------------+----------+---------+--------+-----------+-------+------+-----+------+------+-----+\n",
      "\n",
      "-------------------------------------------\n",
      "Batch: 137\n",
      "-------------------------------------------\n",
      "+-------------------+----------+---------+--------+-----------+-------+----------------+-----+-----+------+-----+\n",
      "|event_timestamp    |machine_id|vibration|acoustic|temperature|current|status          |IMF_1|IMF_2|IMF_3 |label|\n",
      "+-------------------+----------+---------+--------+-----------+-------+----------------+-----+-----+------+-----+\n",
      "|2024-07-01 11:07:00|M01       |1.169    |0.874   |79.95      |14.1   |Failure Detected|0.274|0.018|-0.028|1    |\n",
      "+-------------------+----------+---------+--------+-----------+-------+----------------+-----+-----+------+-----+\n",
      "\n"
     ]
    },
    {
     "name": "stderr",
     "output_type": "stream",
     "text": [
      "                                                                                \r"
     ]
    },
    {
     "name": "stdout",
     "output_type": "stream",
     "text": [
      "-------------------------------------------\n",
      "Batch: 138\n",
      "-------------------------------------------\n",
      "+-------------------+----------+---------+--------+-----------+-------+------+-----+-----+------+-----+\n",
      "|event_timestamp    |machine_id|vibration|acoustic|temperature|current|status|IMF_1|IMF_2|IMF_3 |label|\n",
      "+-------------------+----------+---------+--------+-----------+-------+------+-----+-----+------+-----+\n",
      "|2024-07-01 11:08:00|M01       |0.885    |0.71    |65.96      |10.83  |Normal|0.234|0.083|-0.029|0    |\n",
      "+-------------------+----------+---------+--------+-----------+-------+------+-----+-----+------+-----+\n",
      "\n"
     ]
    },
    {
     "name": "stderr",
     "output_type": "stream",
     "text": [
      "                                                                                \r"
     ]
    },
    {
     "name": "stdout",
     "output_type": "stream",
     "text": [
      "-------------------------------------------\n",
      "Batch: 139\n",
      "-------------------------------------------\n",
      "+-------------------+----------+---------+--------+-----------+-------+------+-----+-----+-----+-----+\n",
      "|event_timestamp    |machine_id|vibration|acoustic|temperature|current|status|IMF_1|IMF_2|IMF_3|label|\n",
      "+-------------------+----------+---------+--------+-----------+-------+------+-----+-----+-----+-----+\n",
      "|2024-07-01 11:09:00|M01       |0.817    |0.561   |66.35      |12.06  |Normal|0.241|0.016|-0.03|0    |\n",
      "+-------------------+----------+---------+--------+-----------+-------+------+-----+-----+-----+-----+\n",
      "\n",
      "-------------------------------------------\n",
      "Batch: 140\n",
      "-------------------------------------------\n",
      "+-------------------+----------+---------+--------+-----------+-------+------+-----+------+------+-----+\n",
      "|event_timestamp    |machine_id|vibration|acoustic|temperature|current|status|IMF_1|IMF_2 |IMF_3 |label|\n",
      "+-------------------+----------+---------+--------+-----------+-------+------+-----+------+------+-----+\n",
      "|2024-07-01 11:10:00|M01       |0.83     |0.602   |66.13      |12.21  |Normal|0.158|-0.022|-0.031|0    |\n",
      "+-------------------+----------+---------+--------+-----------+-------+------+-----+------+------+-----+\n",
      "\n"
     ]
    },
    {
     "name": "stderr",
     "output_type": "stream",
     "text": [
      "                                                                                \r"
     ]
    },
    {
     "name": "stdout",
     "output_type": "stream",
     "text": [
      "-------------------------------------------\n",
      "Batch: 141\n",
      "-------------------------------------------\n",
      "+-------------------+----------+---------+--------+-----------+-------+------+-----+-----+------+-----+\n",
      "|event_timestamp    |machine_id|vibration|acoustic|temperature|current|status|IMF_1|IMF_2|IMF_3 |label|\n",
      "+-------------------+----------+---------+--------+-----------+-------+------+-----+-----+------+-----+\n",
      "|2024-07-01 11:11:00|M01       |0.899    |0.669   |67.01      |12.52  |Normal|0.185|0.026|-0.031|0    |\n",
      "+-------------------+----------+---------+--------+-----------+-------+------+-----+-----+------+-----+\n",
      "\n"
     ]
    },
    {
     "name": "stderr",
     "output_type": "stream",
     "text": [
      "                                                                                \r"
     ]
    },
    {
     "name": "stdout",
     "output_type": "stream",
     "text": [
      "-------------------------------------------\n",
      "Batch: 142\n",
      "-------------------------------------------\n",
      "+-------------------+----------+---------+--------+-----------+-------+------+-----+-----+------+-----+\n",
      "|event_timestamp    |machine_id|vibration|acoustic|temperature|current|status|IMF_1|IMF_2|IMF_3 |label|\n",
      "+-------------------+----------+---------+--------+-----------+-------+------+-----+-----+------+-----+\n",
      "|2024-07-01 11:12:00|M01       |0.833    |0.527   |64.54      |12.18  |Normal|0.214|0.002|-0.032|0    |\n",
      "+-------------------+----------+---------+--------+-----------+-------+------+-----+-----+------+-----+\n",
      "\n"
     ]
    },
    {
     "name": "stderr",
     "output_type": "stream",
     "text": [
      "                                                                                \r"
     ]
    },
    {
     "name": "stdout",
     "output_type": "stream",
     "text": [
      "-------------------------------------------\n",
      "Batch: 143\n",
      "-------------------------------------------\n",
      "+-------------------+----------+---------+--------+-----------+-------+------+-----+------+------+-----+\n",
      "|event_timestamp    |machine_id|vibration|acoustic|temperature|current|status|IMF_1|IMF_2 |IMF_3 |label|\n",
      "+-------------------+----------+---------+--------+-----------+-------+------+-----+------+------+-----+\n",
      "|2024-07-01 11:13:00|M01       |0.873    |0.535   |64.18      |11.38  |Normal|0.136|-0.101|-0.033|0    |\n",
      "+-------------------+----------+---------+--------+-----------+-------+------+-----+------+------+-----+\n",
      "\n",
      "-------------------------------------------\n",
      "Batch: 144\n",
      "-------------------------------------------\n",
      "+-------------------+----------+---------+--------+-----------+-------+------+-----+-----+------+-----+\n",
      "|event_timestamp    |machine_id|vibration|acoustic|temperature|current|status|IMF_1|IMF_2|IMF_3 |label|\n",
      "+-------------------+----------+---------+--------+-----------+-------+------+-----+-----+------+-----+\n",
      "|2024-07-01 11:14:00|M01       |0.793    |0.687   |65.98      |12.32  |Normal|0.081|0.074|-0.034|0    |\n",
      "+-------------------+----------+---------+--------+-----------+-------+------+-----+-----+------+-----+\n",
      "\n",
      "-------------------------------------------\n",
      "Batch: 145\n",
      "-------------------------------------------\n",
      "+-------------------+----------+---------+--------+-----------+-------+------+-----+-----+------+-----+\n",
      "|event_timestamp    |machine_id|vibration|acoustic|temperature|current|status|IMF_1|IMF_2|IMF_3 |label|\n",
      "+-------------------+----------+---------+--------+-----------+-------+------+-----+-----+------+-----+\n",
      "|2024-07-01 11:15:00|M01       |0.767    |0.591   |62.62      |11.39  |Normal|0.223|0.037|-0.034|0    |\n",
      "+-------------------+----------+---------+--------+-----------+-------+------+-----+-----+------+-----+\n",
      "\n",
      "-------------------------------------------\n",
      "Batch: 146\n",
      "-------------------------------------------\n",
      "+-------------------+----------+---------+--------+-----------+-------+------+-----+-----+------+-----+\n",
      "|event_timestamp    |machine_id|vibration|acoustic|temperature|current|status|IMF_1|IMF_2|IMF_3 |label|\n",
      "+-------------------+----------+---------+--------+-----------+-------+------+-----+-----+------+-----+\n",
      "|2024-07-01 11:16:00|M01       |0.886    |0.618   |61.65      |12.84  |Normal|0.18 |0.1  |-0.035|0    |\n",
      "+-------------------+----------+---------+--------+-----------+-------+------+-----+-----+------+-----+\n",
      "\n"
     ]
    },
    {
     "name": "stderr",
     "output_type": "stream",
     "text": [
      "                                                                                \r"
     ]
    },
    {
     "name": "stdout",
     "output_type": "stream",
     "text": [
      "-------------------------------------------\n",
      "Batch: 147\n",
      "-------------------------------------------\n",
      "+-------------------+----------+---------+--------+-----------+-------+------+-----+------+------+-----+\n",
      "|event_timestamp    |machine_id|vibration|acoustic|temperature|current|status|IMF_1|IMF_2 |IMF_3 |label|\n",
      "+-------------------+----------+---------+--------+-----------+-------+------+-----+------+------+-----+\n",
      "|2024-07-01 11:17:00|M01       |0.849    |0.619   |64.45      |11.73  |Normal|0.138|-0.086|-0.036|0    |\n",
      "+-------------------+----------+---------+--------+-----------+-------+------+-----+------+------+-----+\n",
      "\n"
     ]
    },
    {
     "name": "stderr",
     "output_type": "stream",
     "text": [
      "                                                                                \r"
     ]
    },
    {
     "name": "stdout",
     "output_type": "stream",
     "text": [
      "-------------------------------------------\n",
      "Batch: 148\n",
      "-------------------------------------------\n",
      "+-------------------+----------+---------+--------+-----------+-------+------+-----+------+------+-----+\n",
      "|event_timestamp    |machine_id|vibration|acoustic|temperature|current|status|IMF_1|IMF_2 |IMF_3 |label|\n",
      "+-------------------+----------+---------+--------+-----------+-------+------+-----+------+------+-----+\n",
      "|2024-07-01 11:18:00|M01       |0.74     |0.557   |61.56      |11.34  |Normal|0.215|-0.018|-0.037|0    |\n",
      "+-------------------+----------+---------+--------+-----------+-------+------+-----+------+------+-----+\n",
      "\n"
     ]
    },
    {
     "name": "stderr",
     "output_type": "stream",
     "text": [
      "                                                                                \r"
     ]
    },
    {
     "name": "stdout",
     "output_type": "stream",
     "text": [
      "-------------------------------------------\n",
      "Batch: 149\n",
      "-------------------------------------------\n",
      "+-------------------+----------+---------+--------+-----------+-------+------+-----+------+------+-----+\n",
      "|event_timestamp    |machine_id|vibration|acoustic|temperature|current|status|IMF_1|IMF_2 |IMF_3 |label|\n",
      "+-------------------+----------+---------+--------+-----------+-------+------+-----+------+------+-----+\n",
      "|2024-07-01 11:19:00|M01       |0.747    |0.545   |64.95      |12.68  |Normal|0.144|-0.004|-0.037|0    |\n",
      "+-------------------+----------+---------+--------+-----------+-------+------+-----+------+------+-----+\n",
      "\n",
      "-------------------------------------------\n",
      "Batch: 150\n",
      "-------------------------------------------\n",
      "+-------------------+----------+---------+--------+-----------+-------+------+-----+-----+------+-----+\n",
      "|event_timestamp    |machine_id|vibration|acoustic|temperature|current|status|IMF_1|IMF_2|IMF_3 |label|\n",
      "+-------------------+----------+---------+--------+-----------+-------+------+-----+-----+------+-----+\n",
      "|2024-07-01 11:20:00|M01       |0.805    |0.605   |66.91      |12.14  |Normal|0.23 |0.102|-0.038|0    |\n",
      "+-------------------+----------+---------+--------+-----------+-------+------+-----+-----+------+-----+\n",
      "\n"
     ]
    },
    {
     "name": "stderr",
     "output_type": "stream",
     "text": [
      "                                                                                \r"
     ]
    },
    {
     "name": "stdout",
     "output_type": "stream",
     "text": [
      "-------------------------------------------\n",
      "Batch: 151\n",
      "-------------------------------------------\n",
      "+-------------------+----------+---------+--------+-----------+-------+----------------+-----+-----+------+-----+\n",
      "|event_timestamp    |machine_id|vibration|acoustic|temperature|current|status          |IMF_1|IMF_2|IMF_3 |label|\n",
      "+-------------------+----------+---------+--------+-----------+-------+----------------+-----+-----+------+-----+\n",
      "|2024-07-01 11:21:00|M01       |1.271    |0.926   |79.14      |14.77  |Failure Detected|0.315|0.002|-0.038|1    |\n",
      "+-------------------+----------+---------+--------+-----------+-------+----------------+-----+-----+------+-----+\n",
      "\n"
     ]
    },
    {
     "name": "stderr",
     "output_type": "stream",
     "text": [
      "                                                                                \r"
     ]
    },
    {
     "name": "stdout",
     "output_type": "stream",
     "text": [
      "-------------------------------------------\n",
      "Batch: 152\n",
      "-------------------------------------------\n",
      "+-------------------+----------+---------+--------+-----------+-------+------+-----+-----+------+-----+\n",
      "|event_timestamp    |machine_id|vibration|acoustic|temperature|current|status|IMF_1|IMF_2|IMF_3 |label|\n",
      "+-------------------+----------+---------+--------+-----------+-------+------+-----+-----+------+-----+\n",
      "|2024-07-01 11:22:00|M01       |0.817    |0.667   |62.58      |12.16  |Normal|0.106|0.036|-0.039|0    |\n",
      "+-------------------+----------+---------+--------+-----------+-------+------+-----+-----+------+-----+\n",
      "\n",
      "-------------------------------------------\n",
      "Batch: 153\n",
      "-------------------------------------------\n",
      "+-------------------+----------+---------+--------+-----------+-------+------+-----+------+-----+-----+\n",
      "|event_timestamp    |machine_id|vibration|acoustic|temperature|current|status|IMF_1|IMF_2 |IMF_3|label|\n",
      "+-------------------+----------+---------+--------+-----------+-------+------+-----+------+-----+-----+\n",
      "|2024-07-01 11:23:00|M01       |0.806    |0.69    |63.94      |11.56  |Normal|0.167|-0.103|-0.04|0    |\n",
      "+-------------------+----------+---------+--------+-----------+-------+------+-----+------+-----+-----+\n",
      "\n"
     ]
    },
    {
     "name": "stderr",
     "output_type": "stream",
     "text": [
      "                                                                                \r"
     ]
    },
    {
     "name": "stdout",
     "output_type": "stream",
     "text": [
      "-------------------------------------------\n",
      "Batch: 154\n",
      "-------------------------------------------\n",
      "+-------------------+----------+---------+--------+-----------+-------+------+-----+------+-----+-----+\n",
      "|event_timestamp    |machine_id|vibration|acoustic|temperature|current|status|IMF_1|IMF_2 |IMF_3|label|\n",
      "+-------------------+----------+---------+--------+-----------+-------+------+-----+------+-----+-----+\n",
      "|2024-07-01 11:24:00|M01       |0.734    |0.601   |67.97      |11.89  |Normal|0.157|-0.016|-0.04|0    |\n",
      "+-------------------+----------+---------+--------+-----------+-------+------+-----+------+-----+-----+\n",
      "\n",
      "-------------------------------------------\n",
      "Batch: 155\n",
      "-------------------------------------------\n",
      "+-------------------+----------+---------+--------+-----------+-------+------+-----+------+------+-----+\n",
      "|event_timestamp    |machine_id|vibration|acoustic|temperature|current|status|IMF_1|IMF_2 |IMF_3 |label|\n",
      "+-------------------+----------+---------+--------+-----------+-------+------+-----+------+------+-----+\n",
      "|2024-07-01 11:25:00|M01       |0.784    |0.564   |66.14      |11.81  |Normal|0.09 |-0.009|-0.041|0    |\n",
      "+-------------------+----------+---------+--------+-----------+-------+------+-----+------+------+-----+\n",
      "\n",
      "-------------------------------------------\n",
      "Batch: 156\n",
      "-------------------------------------------\n",
      "+-------------------+----------+---------+--------+-----------+-------+------+-----+------+------+-----+\n",
      "|event_timestamp    |machine_id|vibration|acoustic|temperature|current|status|IMF_1|IMF_2 |IMF_3 |label|\n",
      "+-------------------+----------+---------+--------+-----------+-------+------+-----+------+------+-----+\n",
      "|2024-07-01 11:26:00|M01       |0.868    |0.575   |65.92      |11.62  |Normal|0.117|-0.037|-0.041|0    |\n",
      "+-------------------+----------+---------+--------+-----------+-------+------+-----+------+------+-----+\n",
      "\n"
     ]
    },
    {
     "name": "stderr",
     "output_type": "stream",
     "text": [
      "                                                                                \r"
     ]
    },
    {
     "name": "stdout",
     "output_type": "stream",
     "text": [
      "-------------------------------------------\n",
      "Batch: 157\n",
      "-------------------------------------------\n",
      "+-------------------+----------+---------+--------+-----------+-------+----------------+-----+-----+------+-----+\n",
      "|event_timestamp    |machine_id|vibration|acoustic|temperature|current|status          |IMF_1|IMF_2|IMF_3 |label|\n",
      "+-------------------+----------+---------+--------+-----------+-------+----------------+-----+-----+------+-----+\n",
      "|2024-07-01 11:27:00|M01       |1.14     |1.011   |76.86      |14.06  |Failure Detected|0.218|0.13 |-0.042|1    |\n",
      "+-------------------+----------+---------+--------+-----------+-------+----------------+-----+-----+------+-----+\n",
      "\n",
      "-------------------------------------------\n",
      "Batch: 158\n",
      "-------------------------------------------\n",
      "+-------------------+----------+---------+--------+-----------+-------+------+-----+------+------+-----+\n",
      "|event_timestamp    |machine_id|vibration|acoustic|temperature|current|status|IMF_1|IMF_2 |IMF_3 |label|\n",
      "+-------------------+----------+---------+--------+-----------+-------+------+-----+------+------+-----+\n",
      "|2024-07-01 11:28:00|M01       |0.8      |0.489   |63.63      |12.48  |Normal|0.141|-0.014|-0.043|0    |\n",
      "+-------------------+----------+---------+--------+-----------+-------+------+-----+------+------+-----+\n",
      "\n",
      "-------------------------------------------\n",
      "Batch: 159\n",
      "-------------------------------------------\n",
      "+-------------------+----------+---------+--------+-----------+-------+------+-----+-----+------+-----+\n",
      "|event_timestamp    |machine_id|vibration|acoustic|temperature|current|status|IMF_1|IMF_2|IMF_3 |label|\n",
      "+-------------------+----------+---------+--------+-----------+-------+------+-----+-----+------+-----+\n",
      "|2024-07-01 11:29:00|M01       |0.764    |0.574   |66.09      |11.86  |Normal|0.111|-0.09|-0.043|0    |\n",
      "+-------------------+----------+---------+--------+-----------+-------+------+-----+-----+------+-----+\n",
      "\n"
     ]
    },
    {
     "name": "stderr",
     "output_type": "stream",
     "text": [
      "                                                                                \r"
     ]
    },
    {
     "name": "stdout",
     "output_type": "stream",
     "text": [
      "-------------------------------------------\n",
      "Batch: 160\n",
      "-------------------------------------------\n",
      "+-------------------+----------+---------+--------+-----------+-------+------+-----+------+------+-----+\n",
      "|event_timestamp    |machine_id|vibration|acoustic|temperature|current|status|IMF_1|IMF_2 |IMF_3 |label|\n",
      "+-------------------+----------+---------+--------+-----------+-------+------+-----+------+------+-----+\n",
      "|2024-07-01 11:30:00|M01       |0.877    |0.591   |62.94      |11.83  |Normal|0.261|-0.092|-0.044|0    |\n",
      "+-------------------+----------+---------+--------+-----------+-------+------+-----+------+------+-----+\n",
      "\n",
      "-------------------------------------------\n",
      "Batch: 161\n",
      "-------------------------------------------\n",
      "+-------------------+----------+---------+--------+-----------+-------+------+-----+-----+------+-----+\n",
      "|event_timestamp    |machine_id|vibration|acoustic|temperature|current|status|IMF_1|IMF_2|IMF_3 |label|\n",
      "+-------------------+----------+---------+--------+-----------+-------+------+-----+-----+------+-----+\n",
      "|2024-07-01 11:31:00|M01       |0.959    |0.599   |64.6       |11.15  |Normal|0.223|-0.04|-0.044|0    |\n",
      "+-------------------+----------+---------+--------+-----------+-------+------+-----+-----+------+-----+\n",
      "\n",
      "-------------------------------------------\n",
      "Batch: 162\n",
      "-------------------------------------------\n",
      "+-------------------+----------+---------+--------+-----------+-------+------+-----+-----+------+-----+\n",
      "|event_timestamp    |machine_id|vibration|acoustic|temperature|current|status|IMF_1|IMF_2|IMF_3 |label|\n",
      "+-------------------+----------+---------+--------+-----------+-------+------+-----+-----+------+-----+\n",
      "|2024-07-01 11:32:00|M01       |0.782    |0.632   |66.8       |12.9   |Normal|0.216|0.101|-0.045|0    |\n",
      "+-------------------+----------+---------+--------+-----------+-------+------+-----+-----+------+-----+\n",
      "\n",
      "-------------------------------------------\n",
      "Batch: 163\n",
      "-------------------------------------------\n",
      "+-------------------+----------+---------+--------+-----------+-------+------+-----+------+------+-----+\n",
      "|event_timestamp    |machine_id|vibration|acoustic|temperature|current|status|IMF_1|IMF_2 |IMF_3 |label|\n",
      "+-------------------+----------+---------+--------+-----------+-------+------+-----+------+------+-----+\n",
      "|2024-07-01 11:33:00|M01       |0.754    |0.515   |66.23      |12.03  |Normal|0.21 |-0.038|-0.045|0    |\n",
      "+-------------------+----------+---------+--------+-----------+-------+------+-----+------+------+-----+\n",
      "\n",
      "-------------------------------------------\n",
      "Batch: 164\n",
      "-------------------------------------------\n",
      "+-------------------+----------+---------+--------+-----------+-------+------+-----+------+------+-----+\n",
      "|event_timestamp    |machine_id|vibration|acoustic|temperature|current|status|IMF_1|IMF_2 |IMF_3 |label|\n",
      "+-------------------+----------+---------+--------+-----------+-------+------+-----+------+------+-----+\n",
      "|2024-07-01 11:34:00|M01       |0.859    |0.675   |63.48      |10.93  |Normal|0.237|-0.073|-0.045|0    |\n",
      "+-------------------+----------+---------+--------+-----------+-------+------+-----+------+------+-----+\n",
      "\n",
      "-------------------------------------------\n",
      "Batch: 165\n",
      "-------------------------------------------\n",
      "+-------------------+----------+---------+--------+-----------+-------+------+-----+-----+------+-----+\n",
      "|event_timestamp    |machine_id|vibration|acoustic|temperature|current|status|IMF_1|IMF_2|IMF_3 |label|\n",
      "+-------------------+----------+---------+--------+-----------+-------+------+-----+-----+------+-----+\n",
      "|2024-07-01 11:35:00|M01       |0.809    |0.685   |61.5       |11.34  |Normal|0.241|0.032|-0.046|0    |\n",
      "+-------------------+----------+---------+--------+-----------+-------+------+-----+-----+------+-----+\n",
      "\n",
      "-------------------------------------------\n",
      "Batch: 166\n",
      "-------------------------------------------\n",
      "+-------------------+----------+---------+--------+-----------+-------+------+-----+-----+------+-----+\n",
      "|event_timestamp    |machine_id|vibration|acoustic|temperature|current|status|IMF_1|IMF_2|IMF_3 |label|\n",
      "+-------------------+----------+---------+--------+-----------+-------+------+-----+-----+------+-----+\n",
      "|2024-07-01 11:36:00|M01       |0.756    |0.649   |63.2       |11.05  |Normal|0.227|0.083|-0.046|0    |\n",
      "+-------------------+----------+---------+--------+-----------+-------+------+-----+-----+------+-----+\n",
      "\n",
      "-------------------------------------------\n",
      "Batch: 167\n",
      "-------------------------------------------\n",
      "+-------------------+----------+---------+--------+-----------+-------+------+-----+------+------+-----+\n",
      "|event_timestamp    |machine_id|vibration|acoustic|temperature|current|status|IMF_1|IMF_2 |IMF_3 |label|\n",
      "+-------------------+----------+---------+--------+-----------+-------+------+-----+------+------+-----+\n",
      "|2024-07-01 11:37:00|M01       |0.738    |0.624   |67.95      |12.78  |Normal|0.149|-0.063|-0.047|0    |\n",
      "+-------------------+----------+---------+--------+-----------+-------+------+-----+------+------+-----+\n",
      "\n",
      "-------------------------------------------\n",
      "Batch: 168\n",
      "-------------------------------------------\n",
      "+-------------------+----------+---------+--------+-----------+-------+------+-----+-----+------+-----+\n",
      "|event_timestamp    |machine_id|vibration|acoustic|temperature|current|status|IMF_1|IMF_2|IMF_3 |label|\n",
      "+-------------------+----------+---------+--------+-----------+-------+------+-----+-----+------+-----+\n",
      "|2024-07-01 11:38:00|M01       |0.663    |0.631   |65.15      |11.86  |Normal|0.189|-0.08|-0.047|0    |\n",
      "+-------------------+----------+---------+--------+-----------+-------+------+-----+-----+------+-----+\n",
      "\n",
      "-------------------------------------------\n",
      "Batch: 169\n",
      "-------------------------------------------\n",
      "+-------------------+----------+---------+--------+-----------+-------+------+-----+-----+------+-----+\n",
      "|event_timestamp    |machine_id|vibration|acoustic|temperature|current|status|IMF_1|IMF_2|IMF_3 |label|\n",
      "+-------------------+----------+---------+--------+-----------+-------+------+-----+-----+------+-----+\n",
      "|2024-07-01 11:39:00|M01       |0.81     |0.606   |65.73      |12.16  |Normal|0.149|0.023|-0.047|0    |\n",
      "+-------------------+----------+---------+--------+-----------+-------+------+-----+-----+------+-----+\n",
      "\n",
      "-------------------------------------------\n",
      "Batch: 170\n",
      "-------------------------------------------\n",
      "+-------------------+----------+---------+--------+-----------+-------+------+-----+-----+------+-----+\n",
      "|event_timestamp    |machine_id|vibration|acoustic|temperature|current|status|IMF_1|IMF_2|IMF_3 |label|\n",
      "+-------------------+----------+---------+--------+-----------+-------+------+-----+-----+------+-----+\n",
      "|2024-07-01 11:40:00|M01       |0.749    |0.662   |66.02      |11.92  |Normal|0.207|0.015|-0.048|0    |\n",
      "+-------------------+----------+---------+--------+-----------+-------+------+-----+-----+------+-----+\n",
      "\n",
      "-------------------------------------------\n",
      "Batch: 171\n",
      "-------------------------------------------\n",
      "+-------------------+----------+---------+--------+-----------+-------+------+-----+-----+------+-----+\n",
      "|event_timestamp    |machine_id|vibration|acoustic|temperature|current|status|IMF_1|IMF_2|IMF_3 |label|\n",
      "+-------------------+----------+---------+--------+-----------+-------+------+-----+-----+------+-----+\n",
      "|2024-07-01 11:41:00|M01       |0.887    |0.502   |62.61      |11.67  |Normal|0.158|-0.1 |-0.048|0    |\n",
      "+-------------------+----------+---------+--------+-----------+-------+------+-----+-----+------+-----+\n",
      "\n",
      "-------------------------------------------\n",
      "Batch: 172\n",
      "-------------------------------------------\n",
      "+-------------------+----------+---------+--------+-----------+-------+------+-----+-----+------+-----+\n",
      "|event_timestamp    |machine_id|vibration|acoustic|temperature|current|status|IMF_1|IMF_2|IMF_3 |label|\n",
      "+-------------------+----------+---------+--------+-----------+-------+------+-----+-----+------+-----+\n",
      "|2024-07-01 11:42:00|M01       |0.729    |0.655   |66.37      |11.63  |Normal|0.102|0.028|-0.048|0    |\n",
      "+-------------------+----------+---------+--------+-----------+-------+------+-----+-----+------+-----+\n",
      "\n",
      "-------------------------------------------\n",
      "Batch: 173\n",
      "-------------------------------------------\n",
      "+-------------------+----------+---------+--------+-----------+-------+------+-----+------+------+-----+\n",
      "|event_timestamp    |machine_id|vibration|acoustic|temperature|current|status|IMF_1|IMF_2 |IMF_3 |label|\n",
      "+-------------------+----------+---------+--------+-----------+-------+------+-----+------+------+-----+\n",
      "|2024-07-01 11:43:00|M01       |0.852    |0.56    |67.19      |12.01  |Normal|0.179|-0.012|-0.048|0    |\n",
      "+-------------------+----------+---------+--------+-----------+-------+------+-----+------+------+-----+\n",
      "\n",
      "-------------------------------------------\n",
      "Batch: 174\n",
      "-------------------------------------------\n",
      "+-------------------+----------+---------+--------+-----------+-------+------+-----+-----+------+-----+\n",
      "|event_timestamp    |machine_id|vibration|acoustic|temperature|current|status|IMF_1|IMF_2|IMF_3 |label|\n",
      "+-------------------+----------+---------+--------+-----------+-------+------+-----+-----+------+-----+\n",
      "|2024-07-01 11:44:00|M01       |0.746    |0.535   |65.74      |11.94  |Normal|0.131|0.094|-0.049|0    |\n",
      "+-------------------+----------+---------+--------+-----------+-------+------+-----+-----+------+-----+\n",
      "\n",
      "-------------------------------------------\n",
      "Batch: 175\n",
      "-------------------------------------------\n",
      "+-------------------+----------+---------+--------+-----------+-------+------+-----+-----+------+-----+\n",
      "|event_timestamp    |machine_id|vibration|acoustic|temperature|current|status|IMF_1|IMF_2|IMF_3 |label|\n",
      "+-------------------+----------+---------+--------+-----------+-------+------+-----+-----+------+-----+\n",
      "|2024-07-01 11:45:00|M01       |0.744    |0.632   |67.2       |11.73  |Normal|0.141|0.102|-0.049|0    |\n",
      "+-------------------+----------+---------+--------+-----------+-------+------+-----+-----+------+-----+\n",
      "\n",
      "-------------------------------------------\n",
      "Batch: 176\n",
      "-------------------------------------------\n",
      "+-------------------+----------+---------+--------+-----------+-------+----------------+-----+-----+------+-----+\n",
      "|event_timestamp    |machine_id|vibration|acoustic|temperature|current|status          |IMF_1|IMF_2|IMF_3 |label|\n",
      "+-------------------+----------+---------+--------+-----------+-------+----------------+-----+-----+------+-----+\n",
      "|2024-07-01 11:46:00|M01       |1.19     |0.872   |78.89      |14.61  |Failure Detected|0.166|0.124|-0.049|1    |\n",
      "+-------------------+----------+---------+--------+-----------+-------+----------------+-----+-----+------+-----+\n",
      "\n"
     ]
    },
    {
     "name": "stderr",
     "output_type": "stream",
     "text": [
      "                                                                                \r"
     ]
    },
    {
     "name": "stdout",
     "output_type": "stream",
     "text": [
      "-------------------------------------------\n",
      "Batch: 177\n",
      "-------------------------------------------\n",
      "+-------------------+----------+---------+--------+-----------+-------+------+-----+------+------+-----+\n",
      "|event_timestamp    |machine_id|vibration|acoustic|temperature|current|status|IMF_1|IMF_2 |IMF_3 |label|\n",
      "+-------------------+----------+---------+--------+-----------+-------+------+-----+------+------+-----+\n",
      "|2024-07-01 11:47:00|M01       |0.76     |0.641   |64.73      |11.87  |Normal|0.11 |-0.077|-0.049|0    |\n",
      "+-------------------+----------+---------+--------+-----------+-------+------+-----+------+------+-----+\n",
      "\n"
     ]
    },
    {
     "name": "stderr",
     "output_type": "stream",
     "text": [
      "                                                                                \r"
     ]
    },
    {
     "name": "stdout",
     "output_type": "stream",
     "text": [
      "-------------------------------------------\n",
      "Batch: 178\n",
      "-------------------------------------------\n",
      "+-------------------+----------+---------+--------+-----------+-------+------+-----+-----+------+-----+\n",
      "|event_timestamp    |machine_id|vibration|acoustic|temperature|current|status|IMF_1|IMF_2|IMF_3 |label|\n",
      "+-------------------+----------+---------+--------+-----------+-------+------+-----+-----+------+-----+\n",
      "|2024-07-01 11:48:00|M01       |0.838    |0.602   |66.83      |12.0   |Normal|0.212|0.087|-0.049|0    |\n",
      "+-------------------+----------+---------+--------+-----------+-------+------+-----+-----+------+-----+\n",
      "\n"
     ]
    },
    {
     "name": "stderr",
     "output_type": "stream",
     "text": [
      "                                                                                \r"
     ]
    },
    {
     "name": "stdout",
     "output_type": "stream",
     "text": [
      "-------------------------------------------\n",
      "Batch: 179\n",
      "-------------------------------------------\n",
      "+-------------------+----------+---------+--------+-----------+-------+------+-----+------+-----+-----+\n",
      "|event_timestamp    |machine_id|vibration|acoustic|temperature|current|status|IMF_1|IMF_2 |IMF_3|label|\n",
      "+-------------------+----------+---------+--------+-----------+-------+------+-----+------+-----+-----+\n",
      "|2024-07-01 11:49:00|M01       |0.829    |0.621   |63.65      |12.03  |Normal|0.192|-0.025|-0.05|0    |\n",
      "+-------------------+----------+---------+--------+-----------+-------+------+-----+------+-----+-----+\n",
      "\n"
     ]
    },
    {
     "name": "stderr",
     "output_type": "stream",
     "text": [
      "                                                                                \r"
     ]
    },
    {
     "name": "stdout",
     "output_type": "stream",
     "text": [
      "-------------------------------------------\n",
      "Batch: 180\n",
      "-------------------------------------------\n",
      "+-------------------+----------+---------+--------+-----------+-------+------+-----+------+-----+-----+\n",
      "|event_timestamp    |machine_id|vibration|acoustic|temperature|current|status|IMF_1|IMF_2 |IMF_3|label|\n",
      "+-------------------+----------+---------+--------+-----------+-------+------+-----+------+-----+-----+\n",
      "|2024-07-01 11:50:00|M01       |0.828    |0.491   |65.25      |11.65  |Normal|0.188|-0.084|-0.05|0    |\n",
      "+-------------------+----------+---------+--------+-----------+-------+------+-----+------+-----+-----+\n",
      "\n",
      "-------------------------------------------\n",
      "Batch: 181\n",
      "-------------------------------------------\n",
      "+-------------------+----------+---------+--------+-----------+-------+------+-----+------+-----+-----+\n",
      "|event_timestamp    |machine_id|vibration|acoustic|temperature|current|status|IMF_1|IMF_2 |IMF_3|label|\n",
      "+-------------------+----------+---------+--------+-----------+-------+------+-----+------+-----+-----+\n",
      "|2024-07-01 11:51:00|M01       |0.821    |0.612   |65.95      |11.8   |Normal|0.099|-0.091|-0.05|0    |\n",
      "+-------------------+----------+---------+--------+-----------+-------+------+-----+------+-----+-----+\n",
      "\n",
      "-------------------------------------------\n",
      "Batch: 182\n",
      "-------------------------------------------\n",
      "+-------------------+----------+---------+--------+-----------+-------+------+-----+------+-----+-----+\n",
      "|event_timestamp    |machine_id|vibration|acoustic|temperature|current|status|IMF_1|IMF_2 |IMF_3|label|\n",
      "+-------------------+----------+---------+--------+-----------+-------+------+-----+------+-----+-----+\n",
      "|2024-07-01 11:52:00|M01       |0.835    |0.737   |65.91      |11.53  |Normal|0.135|-0.027|-0.05|0    |\n",
      "+-------------------+----------+---------+--------+-----------+-------+------+-----+------+-----+-----+\n",
      "\n",
      "-------------------------------------------\n",
      "Batch: 183\n",
      "-------------------------------------------\n",
      "+-------------------+----------+---------+--------+-----------+-------+------+-----+-----+-----+-----+\n",
      "|event_timestamp    |machine_id|vibration|acoustic|temperature|current|status|IMF_1|IMF_2|IMF_3|label|\n",
      "+-------------------+----------+---------+--------+-----------+-------+------+-----+-----+-----+-----+\n",
      "|2024-07-01 11:53:00|M01       |0.799    |0.689   |67.96      |12.1   |Normal|0.165|0.089|-0.05|0    |\n",
      "+-------------------+----------+---------+--------+-----------+-------+------+-----+-----+-----+-----+\n",
      "\n"
     ]
    },
    {
     "name": "stderr",
     "output_type": "stream",
     "text": [
      "                                                                                \r"
     ]
    },
    {
     "name": "stdout",
     "output_type": "stream",
     "text": [
      "-------------------------------------------\n",
      "Batch: 184\n",
      "-------------------------------------------\n",
      "+-------------------+----------+---------+--------+-----------+-------+------+-----+------+-----+-----+\n",
      "|event_timestamp    |machine_id|vibration|acoustic|temperature|current|status|IMF_1|IMF_2 |IMF_3|label|\n",
      "+-------------------+----------+---------+--------+-----------+-------+------+-----+------+-----+-----+\n",
      "|2024-07-01 11:54:00|M01       |0.804    |0.563   |64.75      |11.57  |Normal|0.231|-0.103|-0.05|0    |\n",
      "+-------------------+----------+---------+--------+-----------+-------+------+-----+------+-----+-----+\n",
      "\n",
      "-------------------------------------------\n",
      "Batch: 185\n",
      "-------------------------------------------\n",
      "+-------------------+----------+---------+--------+-----------+-------+------+-----+------+-----+-----+\n",
      "|event_timestamp    |machine_id|vibration|acoustic|temperature|current|status|IMF_1|IMF_2 |IMF_3|label|\n",
      "+-------------------+----------+---------+--------+-----------+-------+------+-----+------+-----+-----+\n",
      "|2024-07-01 11:55:00|M01       |0.74     |0.6     |65.21      |12.32  |Normal|0.182|-0.037|-0.05|0    |\n",
      "+-------------------+----------+---------+--------+-----------+-------+------+-----+------+-----+-----+\n",
      "\n",
      "-------------------------------------------\n",
      "Batch: 186\n",
      "-------------------------------------------\n",
      "+-------------------+----------+---------+--------+-----------+-------+------+-----+------+-----+-----+\n",
      "|event_timestamp    |machine_id|vibration|acoustic|temperature|current|status|IMF_1|IMF_2 |IMF_3|label|\n",
      "+-------------------+----------+---------+--------+-----------+-------+------+-----+------+-----+-----+\n",
      "|2024-07-01 11:56:00|M01       |0.744    |0.634   |67.33      |11.63  |Normal|0.184|-0.049|-0.05|0    |\n",
      "+-------------------+----------+---------+--------+-----------+-------+------+-----+------+-----+-----+\n",
      "\n",
      "-------------------------------------------\n",
      "Batch: 187\n",
      "-------------------------------------------\n",
      "+-------------------+----------+---------+--------+-----------+-------+------+-----+-----+-----+-----+\n",
      "|event_timestamp    |machine_id|vibration|acoustic|temperature|current|status|IMF_1|IMF_2|IMF_3|label|\n",
      "+-------------------+----------+---------+--------+-----------+-------+------+-----+-----+-----+-----+\n",
      "|2024-07-01 11:57:00|M01       |0.808    |0.63    |64.81      |10.92  |Normal|0.21 |0.014|-0.05|0    |\n",
      "+-------------------+----------+---------+--------+-----------+-------+------+-----+-----+-----+-----+\n",
      "\n"
     ]
    },
    {
     "name": "stderr",
     "output_type": "stream",
     "text": [
      "                                                                                \r"
     ]
    },
    {
     "name": "stdout",
     "output_type": "stream",
     "text": [
      "-------------------------------------------\n",
      "Batch: 188\n",
      "-------------------------------------------\n",
      "+-------------------+----------+---------+--------+-----------+-------+------+-----+-----+-----+-----+\n",
      "|event_timestamp    |machine_id|vibration|acoustic|temperature|current|status|IMF_1|IMF_2|IMF_3|label|\n",
      "+-------------------+----------+---------+--------+-----------+-------+------+-----+-----+-----+-----+\n",
      "|2024-07-01 11:58:00|M01       |0.761    |0.564   |66.63      |11.31  |Normal|0.21 |0.042|-0.05|0    |\n",
      "+-------------------+----------+---------+--------+-----------+-------+------+-----+-----+-----+-----+\n",
      "\n"
     ]
    },
    {
     "name": "stderr",
     "output_type": "stream",
     "text": [
      "                                                                                \r"
     ]
    },
    {
     "name": "stdout",
     "output_type": "stream",
     "text": [
      "-------------------------------------------\n",
      "Batch: 189\n",
      "-------------------------------------------\n",
      "+-------------------+----------+---------+--------+-----------+-------+------+-----+-----+-----+-----+\n",
      "|event_timestamp    |machine_id|vibration|acoustic|temperature|current|status|IMF_1|IMF_2|IMF_3|label|\n",
      "+-------------------+----------+---------+--------+-----------+-------+------+-----+-----+-----+-----+\n",
      "|2024-07-01 11:59:00|M01       |0.78     |0.61    |66.74      |11.53  |Normal|0.221|0.01 |-0.05|0    |\n",
      "+-------------------+----------+---------+--------+-----------+-------+------+-----+-----+-----+-----+\n",
      "\n",
      "-------------------------------------------\n",
      "Batch: 190\n",
      "-------------------------------------------\n",
      "+-------------------+----------+---------+--------+-----------+-------+------+-----+------+-----+-----+\n",
      "|event_timestamp    |machine_id|vibration|acoustic|temperature|current|status|IMF_1|IMF_2 |IMF_3|label|\n",
      "+-------------------+----------+---------+--------+-----------+-------+------+-----+------+-----+-----+\n",
      "|2024-07-01 12:00:00|M01       |0.805    |0.502   |63.68      |12.96  |Normal|0.096|-0.076|-0.05|0    |\n",
      "+-------------------+----------+---------+--------+-----------+-------+------+-----+------+-----+-----+\n",
      "\n",
      "-------------------------------------------\n",
      "Batch: 191\n",
      "-------------------------------------------\n",
      "+-------------------+----------+---------+--------+-----------+-------+----------------+-----+-----+-----+-----+\n",
      "|event_timestamp    |machine_id|vibration|acoustic|temperature|current|status          |IMF_1|IMF_2|IMF_3|label|\n",
      "+-------------------+----------+---------+--------+-----------+-------+----------------+-----+-----+-----+-----+\n",
      "|2024-07-01 12:01:00|M01       |0.923    |0.845   |71.3       |14.64  |Failure Detected|0.111|0.05 |-0.05|1    |\n",
      "+-------------------+----------+---------+--------+-----------+-------+----------------+-----+-----+-----+-----+\n",
      "\n"
     ]
    },
    {
     "name": "stderr",
     "output_type": "stream",
     "text": [
      "                                                                                \r"
     ]
    },
    {
     "name": "stdout",
     "output_type": "stream",
     "text": [
      "-------------------------------------------\n",
      "Batch: 192\n",
      "-------------------------------------------\n",
      "+-------------------+----------+---------+--------+-----------+-------+------+-----+-----+-----+-----+\n",
      "|event_timestamp    |machine_id|vibration|acoustic|temperature|current|status|IMF_1|IMF_2|IMF_3|label|\n",
      "+-------------------+----------+---------+--------+-----------+-------+------+-----+-----+-----+-----+\n",
      "|2024-07-01 12:02:00|M01       |0.796    |0.647   |66.99      |12.39  |Normal|0.19 |0.088|-0.05|0    |\n",
      "+-------------------+----------+---------+--------+-----------+-------+------+-----+-----+-----+-----+\n",
      "\n",
      "-------------------------------------------\n",
      "Batch: 193\n",
      "-------------------------------------------\n",
      "+-------------------+----------+---------+--------+-----------+-------+----------------+-----+-----+------+-----+\n",
      "|event_timestamp    |machine_id|vibration|acoustic|temperature|current|status          |IMF_1|IMF_2|IMF_3 |label|\n",
      "+-------------------+----------+---------+--------+-----------+-------+----------------+-----+-----+------+-----+\n",
      "|2024-07-01 12:03:00|M01       |1.264    |0.88    |75.7       |15.14  |Failure Detected|0.328|0.104|-0.049|1    |\n",
      "+-------------------+----------+---------+--------+-----------+-------+----------------+-----+-----+------+-----+\n",
      "\n",
      "-------------------------------------------\n",
      "Batch: 194\n",
      "-------------------------------------------\n",
      "+-------------------+----------+---------+--------+-----------+-------+------+-----+-----+------+-----+\n",
      "|event_timestamp    |machine_id|vibration|acoustic|temperature|current|status|IMF_1|IMF_2|IMF_3 |label|\n",
      "+-------------------+----------+---------+--------+-----------+-------+------+-----+-----+------+-----+\n",
      "|2024-07-01 12:04:00|M01       |0.8      |0.664   |64.39      |12.48  |Normal|0.157|0.124|-0.049|0    |\n",
      "+-------------------+----------+---------+--------+-----------+-------+------+-----+-----+------+-----+\n",
      "\n",
      "-------------------------------------------\n",
      "Batch: 195\n",
      "-------------------------------------------\n",
      "+-------------------+----------+---------+--------+-----------+-------+------+-----+------+------+-----+\n",
      "|event_timestamp    |machine_id|vibration|acoustic|temperature|current|status|IMF_1|IMF_2 |IMF_3 |label|\n",
      "+-------------------+----------+---------+--------+-----------+-------+------+-----+------+------+-----+\n",
      "|2024-07-01 12:05:00|M01       |0.706    |0.659   |66.23      |11.34  |Normal|0.183|-0.004|-0.049|0    |\n",
      "+-------------------+----------+---------+--------+-----------+-------+------+-----+------+------+-----+\n",
      "\n",
      "-------------------------------------------\n",
      "Batch: 196\n",
      "-------------------------------------------\n",
      "+-------------------+----------+---------+--------+-----------+-------+----------------+-----+-----+------+-----+\n",
      "|event_timestamp    |machine_id|vibration|acoustic|temperature|current|status          |IMF_1|IMF_2|IMF_3 |label|\n",
      "+-------------------+----------+---------+--------+-----------+-------+----------------+-----+-----+------+-----+\n",
      "|2024-07-01 12:06:00|M01       |1.097    |0.87    |75.47      |15.41  |Failure Detected|0.18 |-0.04|-0.049|1    |\n",
      "+-------------------+----------+---------+--------+-----------+-------+----------------+-----+-----+------+-----+\n",
      "\n",
      "-------------------------------------------\n",
      "Batch: 197\n",
      "-------------------------------------------\n",
      "+-------------------+----------+---------+--------+-----------+-------+------+-----+-----+------+-----+\n",
      "|event_timestamp    |machine_id|vibration|acoustic|temperature|current|status|IMF_1|IMF_2|IMF_3 |label|\n",
      "+-------------------+----------+---------+--------+-----------+-------+------+-----+-----+------+-----+\n",
      "|2024-07-01 12:07:00|M01       |0.765    |0.587   |61.36      |11.91  |Normal|0.163|0.029|-0.049|0    |\n",
      "+-------------------+----------+---------+--------+-----------+-------+------+-----+-----+------+-----+\n",
      "\n",
      "-------------------------------------------\n",
      "Batch: 198\n",
      "-------------------------------------------\n",
      "+-------------------+----------+---------+--------+-----------+-------+------+-----+-----+------+-----+\n",
      "|event_timestamp    |machine_id|vibration|acoustic|temperature|current|status|IMF_1|IMF_2|IMF_3 |label|\n",
      "+-------------------+----------+---------+--------+-----------+-------+------+-----+-----+------+-----+\n",
      "|2024-07-01 12:08:00|M01       |0.754    |0.586   |61.77      |11.97  |Normal|0.168|0.059|-0.048|0    |\n",
      "+-------------------+----------+---------+--------+-----------+-------+------+-----+-----+------+-----+\n",
      "\n",
      "-------------------------------------------\n",
      "Batch: 199\n",
      "-------------------------------------------\n",
      "+-------------------+----------+---------+--------+-----------+-------+------+-----+------+------+-----+\n",
      "|event_timestamp    |machine_id|vibration|acoustic|temperature|current|status|IMF_1|IMF_2 |IMF_3 |label|\n",
      "+-------------------+----------+---------+--------+-----------+-------+------+-----+------+------+-----+\n",
      "|2024-07-01 12:09:00|M01       |0.834    |0.621   |63.4       |11.61  |Normal|0.177|-0.081|-0.048|0    |\n",
      "+-------------------+----------+---------+--------+-----------+-------+------+-----+------+------+-----+\n",
      "\n"
     ]
    },
    {
     "name": "stderr",
     "output_type": "stream",
     "text": [
      "                                                                                \r"
     ]
    },
    {
     "name": "stdout",
     "output_type": "stream",
     "text": [
      "-------------------------------------------\n",
      "Batch: 200\n",
      "-------------------------------------------\n",
      "+-------------------+----------+---------+--------+-----------+-------+----------------+-----+-----+------+-----+\n",
      "|event_timestamp    |machine_id|vibration|acoustic|temperature|current|status          |IMF_1|IMF_2|IMF_3 |label|\n",
      "+-------------------+----------+---------+--------+-----------+-------+----------------+-----+-----+------+-----+\n",
      "|2024-07-01 12:10:00|M01       |1.249    |0.871   |74.04      |15.01  |Failure Detected|0.259|0.128|-0.048|1    |\n",
      "+-------------------+----------+---------+--------+-----------+-------+----------------+-----+-----+------+-----+\n",
      "\n",
      "-------------------------------------------\n",
      "Batch: 201\n",
      "-------------------------------------------\n",
      "+-------------------+----------+---------+--------+-----------+-------+------+-----+-----+------+-----+\n",
      "|event_timestamp    |machine_id|vibration|acoustic|temperature|current|status|IMF_1|IMF_2|IMF_3 |label|\n",
      "+-------------------+----------+---------+--------+-----------+-------+------+-----+-----+------+-----+\n",
      "|2024-07-01 12:11:00|M01       |0.688    |0.641   |67.34      |12.85  |Normal|0.073|0.045|-0.048|0    |\n",
      "+-------------------+----------+---------+--------+-----------+-------+------+-----+-----+------+-----+\n",
      "\n",
      "-------------------------------------------\n",
      "Batch: 202\n",
      "-------------------------------------------\n",
      "+-------------------+----------+---------+--------+-----------+-------+------+-----+------+------+-----+\n",
      "|event_timestamp    |machine_id|vibration|acoustic|temperature|current|status|IMF_1|IMF_2 |IMF_3 |label|\n",
      "+-------------------+----------+---------+--------+-----------+-------+------+-----+------+------+-----+\n",
      "|2024-07-01 12:12:00|M01       |0.78     |0.643   |64.87      |11.84  |Normal|0.093|-0.113|-0.047|0    |\n",
      "+-------------------+----------+---------+--------+-----------+-------+------+-----+------+------+-----+\n",
      "\n"
     ]
    },
    {
     "name": "stderr",
     "output_type": "stream",
     "text": [
      "                                                                                \r"
     ]
    },
    {
     "name": "stdout",
     "output_type": "stream",
     "text": [
      "-------------------------------------------\n",
      "Batch: 203\n",
      "-------------------------------------------\n",
      "+-------------------+----------+---------+--------+-----------+-------+------+-----+------+------+-----+\n",
      "|event_timestamp    |machine_id|vibration|acoustic|temperature|current|status|IMF_1|IMF_2 |IMF_3 |label|\n",
      "+-------------------+----------+---------+--------+-----------+-------+------+-----+------+------+-----+\n",
      "|2024-07-01 12:13:00|M01       |0.813    |0.655   |65.75      |12.17  |Normal|0.154|-0.087|-0.047|0    |\n",
      "+-------------------+----------+---------+--------+-----------+-------+------+-----+------+------+-----+\n",
      "\n",
      "-------------------------------------------\n",
      "Batch: 204\n",
      "-------------------------------------------\n",
      "+-------------------+----------+---------+--------+-----------+-------+----------------+-----+-----+------+-----+\n",
      "|event_timestamp    |machine_id|vibration|acoustic|temperature|current|status          |IMF_1|IMF_2|IMF_3 |label|\n",
      "+-------------------+----------+---------+--------+-----------+-------+----------------+-----+-----+------+-----+\n",
      "|2024-07-01 12:14:00|M01       |1.265    |0.872   |78.03      |13.85  |Failure Detected|0.308|0.086|-0.047|1    |\n",
      "+-------------------+----------+---------+--------+-----------+-------+----------------+-----+-----+------+-----+\n",
      "\n"
     ]
    },
    {
     "name": "stderr",
     "output_type": "stream",
     "text": [
      "                                                                                \r"
     ]
    },
    {
     "name": "stdout",
     "output_type": "stream",
     "text": [
      "-------------------------------------------\n",
      "Batch: 205\n",
      "-------------------------------------------\n",
      "+-------------------+----------+---------+--------+-----------+-------+----------------+-----+------+------+-----+\n",
      "|event_timestamp    |machine_id|vibration|acoustic|temperature|current|status          |IMF_1|IMF_2 |IMF_3 |label|\n",
      "+-------------------+----------+---------+--------+-----------+-------+----------------+-----+------+------+-----+\n",
      "|2024-07-01 12:15:00|M01       |1.131    |0.92    |80.9       |14.94  |Failure Detected|0.257|-0.173|-0.046|1    |\n",
      "+-------------------+----------+---------+--------+-----------+-------+----------------+-----+------+------+-----+\n",
      "\n"
     ]
    },
    {
     "name": "stderr",
     "output_type": "stream",
     "text": [
      "                                                                                \r"
     ]
    },
    {
     "name": "stdout",
     "output_type": "stream",
     "text": [
      "-------------------------------------------\n",
      "Batch: 206\n",
      "-------------------------------------------\n",
      "+-------------------+----------+---------+--------+-----------+-------+------+-----+------+------+-----+\n",
      "|event_timestamp    |machine_id|vibration|acoustic|temperature|current|status|IMF_1|IMF_2 |IMF_3 |label|\n",
      "+-------------------+----------+---------+--------+-----------+-------+------+-----+------+------+-----+\n",
      "|2024-07-01 12:16:00|M01       |0.845    |0.563   |65.31      |13.35  |Normal|0.214|-0.081|-0.046|0    |\n",
      "+-------------------+----------+---------+--------+-----------+-------+------+-----+------+------+-----+\n",
      "\n",
      "-------------------------------------------\n",
      "Batch: 207\n",
      "-------------------------------------------\n",
      "+-------------------+----------+---------+--------+-----------+-------+----------------+-----+------+------+-----+\n",
      "|event_timestamp    |machine_id|vibration|acoustic|temperature|current|status          |IMF_1|IMF_2 |IMF_3 |label|\n",
      "+-------------------+----------+---------+--------+-----------+-------+----------------+-----+------+------+-----+\n",
      "|2024-07-01 12:17:00|M01       |1.19     |0.989   |76.15      |15.3   |Failure Detected|0.357|-0.102|-0.045|1    |\n",
      "+-------------------+----------+---------+--------+-----------+-------+----------------+-----+------+------+-----+\n",
      "\n"
     ]
    },
    {
     "name": "stderr",
     "output_type": "stream",
     "text": [
      "                                                                                \r"
     ]
    },
    {
     "name": "stdout",
     "output_type": "stream",
     "text": [
      "-------------------------------------------\n",
      "Batch: 208\n",
      "-------------------------------------------\n",
      "+-------------------+----------+---------+--------+-----------+-------+------+-----+------+------+-----+\n",
      "|event_timestamp    |machine_id|vibration|acoustic|temperature|current|status|IMF_1|IMF_2 |IMF_3 |label|\n",
      "+-------------------+----------+---------+--------+-----------+-------+------+-----+------+------+-----+\n",
      "|2024-07-01 12:18:00|M01       |0.865    |0.566   |65.97      |10.85  |Normal|0.185|-0.041|-0.045|0    |\n",
      "+-------------------+----------+---------+--------+-----------+-------+------+-----+------+------+-----+\n",
      "\n",
      "-------------------------------------------\n",
      "Batch: 209\n",
      "-------------------------------------------\n",
      "+-------------------+----------+---------+--------+-----------+-------+------+-----+-----+------+-----+\n",
      "|event_timestamp    |machine_id|vibration|acoustic|temperature|current|status|IMF_1|IMF_2|IMF_3 |label|\n",
      "+-------------------+----------+---------+--------+-----------+-------+------+-----+-----+------+-----+\n",
      "|2024-07-01 12:19:00|M01       |0.725    |0.572   |67.84      |12.31  |Normal|0.077|0.083|-0.045|0    |\n",
      "+-------------------+----------+---------+--------+-----------+-------+------+-----+-----+------+-----+\n",
      "\n"
     ]
    },
    {
     "name": "stderr",
     "output_type": "stream",
     "text": [
      "                                                                                \r"
     ]
    },
    {
     "name": "stdout",
     "output_type": "stream",
     "text": [
      "-------------------------------------------\n",
      "Batch: 210\n",
      "-------------------------------------------\n",
      "+-------------------+----------+---------+--------+-----------+-------+------+-----+------+------+-----+\n",
      "|event_timestamp    |machine_id|vibration|acoustic|temperature|current|status|IMF_1|IMF_2 |IMF_3 |label|\n",
      "+-------------------+----------+---------+--------+-----------+-------+------+-----+------+------+-----+\n",
      "|2024-07-01 12:20:00|M01       |0.78     |0.608   |63.3       |11.8   |Normal|0.151|-0.052|-0.044|0    |\n",
      "+-------------------+----------+---------+--------+-----------+-------+------+-----+------+------+-----+\n",
      "\n"
     ]
    },
    {
     "name": "stderr",
     "output_type": "stream",
     "text": [
      "                                                                                \r"
     ]
    },
    {
     "name": "stdout",
     "output_type": "stream",
     "text": [
      "-------------------------------------------\n",
      "Batch: 211\n",
      "-------------------------------------------\n",
      "+-------------------+----------+---------+--------+-----------+-------+------+-----+-----+------+-----+\n",
      "|event_timestamp    |machine_id|vibration|acoustic|temperature|current|status|IMF_1|IMF_2|IMF_3 |label|\n",
      "+-------------------+----------+---------+--------+-----------+-------+------+-----+-----+------+-----+\n",
      "|2024-07-01 12:21:00|M01       |0.847    |0.653   |64.55      |11.78  |Normal|0.171|0.01 |-0.044|0    |\n",
      "+-------------------+----------+---------+--------+-----------+-------+------+-----+-----+------+-----+\n",
      "\n",
      "-------------------------------------------\n",
      "Batch: 212\n",
      "-------------------------------------------\n",
      "+-------------------+----------+---------+--------+-----------+-------+------+-----+------+------+-----+\n",
      "|event_timestamp    |machine_id|vibration|acoustic|temperature|current|status|IMF_1|IMF_2 |IMF_3 |label|\n",
      "+-------------------+----------+---------+--------+-----------+-------+------+-----+------+------+-----+\n",
      "|2024-07-01 12:22:00|M01       |0.821    |0.534   |64.38      |12.0   |Normal|0.088|-0.049|-0.043|0    |\n",
      "+-------------------+----------+---------+--------+-----------+-------+------+-----+------+------+-----+\n",
      "\n"
     ]
    },
    {
     "name": "stderr",
     "output_type": "stream",
     "text": [
      "                                                                                \r"
     ]
    },
    {
     "name": "stdout",
     "output_type": "stream",
     "text": [
      "-------------------------------------------\n",
      "Batch: 213\n",
      "-------------------------------------------\n",
      "+-------------------+----------+---------+--------+-----------+-------+------+-----+------+------+-----+\n",
      "|event_timestamp    |machine_id|vibration|acoustic|temperature|current|status|IMF_1|IMF_2 |IMF_3 |label|\n",
      "+-------------------+----------+---------+--------+-----------+-------+------+-----+------+------+-----+\n",
      "|2024-07-01 12:23:00|M01       |0.807    |0.523   |64.06      |12.39  |Normal|0.227|-0.024|-0.043|0    |\n",
      "+-------------------+----------+---------+--------+-----------+-------+------+-----+------+------+-----+\n",
      "\n",
      "-------------------------------------------\n",
      "Batch: 214\n",
      "-------------------------------------------\n",
      "+-------------------+----------+---------+--------+-----------+-------+------+-----+-----+------+-----+\n",
      "|event_timestamp    |machine_id|vibration|acoustic|temperature|current|status|IMF_1|IMF_2|IMF_3 |label|\n",
      "+-------------------+----------+---------+--------+-----------+-------+------+-----+-----+------+-----+\n",
      "|2024-07-01 12:24:00|M01       |0.778    |0.618   |61.88      |12.64  |Normal|0.137|0.117|-0.042|0    |\n",
      "+-------------------+----------+---------+--------+-----------+-------+------+-----+-----+------+-----+\n",
      "\n",
      "-------------------------------------------\n",
      "Batch: 215\n",
      "-------------------------------------------\n",
      "+-------------------+----------+---------+--------+-----------+-------+----------------+-----+-----+------+-----+\n",
      "|event_timestamp    |machine_id|vibration|acoustic|temperature|current|status          |IMF_1|IMF_2|IMF_3 |label|\n",
      "+-------------------+----------+---------+--------+-----------+-------+----------------+-----+-----+------+-----+\n",
      "|2024-07-01 12:25:00|M01       |1.232    |0.831   |75.05      |16.08  |Failure Detected|0.308|0.057|-0.042|1    |\n",
      "+-------------------+----------+---------+--------+-----------+-------+----------------+-----+-----+------+-----+\n",
      "\n",
      "-------------------------------------------\n",
      "Batch: 216\n",
      "-------------------------------------------\n",
      "+-------------------+----------+---------+--------+-----------+-------+------+-----+-----+------+-----+\n",
      "|event_timestamp    |machine_id|vibration|acoustic|temperature|current|status|IMF_1|IMF_2|IMF_3 |label|\n",
      "+-------------------+----------+---------+--------+-----------+-------+------+-----+-----+------+-----+\n",
      "|2024-07-01 12:26:00|M01       |0.895    |0.561   |64.39      |11.87  |Normal|0.185|0.051|-0.041|0    |\n",
      "+-------------------+----------+---------+--------+-----------+-------+------+-----+-----+------+-----+\n",
      "\n"
     ]
    },
    {
     "name": "stderr",
     "output_type": "stream",
     "text": [
      "                                                                                \r"
     ]
    },
    {
     "name": "stdout",
     "output_type": "stream",
     "text": [
      "-------------------------------------------\n",
      "Batch: 217\n",
      "-------------------------------------------\n",
      "+-------------------+----------+---------+--------+-----------+-------+----------------+-----+------+-----+-----+\n",
      "|event_timestamp    |machine_id|vibration|acoustic|temperature|current|status          |IMF_1|IMF_2 |IMF_3|label|\n",
      "+-------------------+----------+---------+--------+-----------+-------+----------------+-----+------+-----+-----+\n",
      "|2024-07-01 12:27:00|M01       |1.219    |1.012   |76.15      |15.62  |Failure Detected|0.173|-0.106|-0.04|1    |\n",
      "+-------------------+----------+---------+--------+-----------+-------+----------------+-----+------+-----+-----+\n",
      "\n"
     ]
    },
    {
     "name": "stderr",
     "output_type": "stream",
     "text": [
      "                                                                                \r"
     ]
    },
    {
     "name": "stdout",
     "output_type": "stream",
     "text": [
      "-------------------------------------------\n",
      "Batch: 218\n",
      "-------------------------------------------\n",
      "+-------------------+----------+---------+--------+-----------+-------+------+-----+------+------+-----+\n",
      "|event_timestamp    |machine_id|vibration|acoustic|temperature|current|status|IMF_1|IMF_2 |IMF_3 |label|\n",
      "+-------------------+----------+---------+--------+-----------+-------+------+-----+------+------+-----+\n",
      "|2024-07-01 12:28:00|M01       |0.834    |0.574   |62.29      |12.09  |Normal|0.142|-0.09 |-0.04 |0    |\n",
      "|2024-07-01 12:29:00|M01       |0.809    |0.552   |66.58      |12.04  |Normal|0.15 |-0.077|-0.039|0    |\n",
      "+-------------------+----------+---------+--------+-----------+-------+------+-----+------+------+-----+\n",
      "\n"
     ]
    },
    {
     "name": "stderr",
     "output_type": "stream",
     "text": [
      "                                                                                \r"
     ]
    },
    {
     "name": "stdout",
     "output_type": "stream",
     "text": [
      "-------------------------------------------\n",
      "Batch: 219\n",
      "-------------------------------------------\n",
      "+-------------------+----------+---------+--------+-----------+-------+------+-----+-----+------+-----+\n",
      "|event_timestamp    |machine_id|vibration|acoustic|temperature|current|status|IMF_1|IMF_2|IMF_3 |label|\n",
      "+-------------------+----------+---------+--------+-----------+-------+------+-----+-----+------+-----+\n",
      "|2024-07-01 12:30:00|M01       |0.749    |0.574   |68.58      |11.53  |Normal|0.176|0.108|-0.039|0    |\n",
      "|2024-07-01 12:31:00|M01       |0.804    |0.554   |67.12      |12.12  |Normal|0.172|0.025|-0.038|0    |\n",
      "+-------------------+----------+---------+--------+-----------+-------+------+-----+-----+------+-----+\n",
      "\n"
     ]
    },
    {
     "name": "stderr",
     "output_type": "stream",
     "text": [
      "                                                                                \r"
     ]
    },
    {
     "name": "stdout",
     "output_type": "stream",
     "text": [
      "-------------------------------------------\n",
      "Batch: 220\n",
      "-------------------------------------------\n",
      "+-------------------+----------+---------+--------+-----------+-------+------+-----+------+------+-----+\n",
      "|event_timestamp    |machine_id|vibration|acoustic|temperature|current|status|IMF_1|IMF_2 |IMF_3 |label|\n",
      "+-------------------+----------+---------+--------+-----------+-------+------+-----+------+------+-----+\n",
      "|2024-07-01 12:32:00|M01       |0.856    |0.603   |64.93      |12.18  |Normal|0.186|-0.073|-0.037|0    |\n",
      "+-------------------+----------+---------+--------+-----------+-------+------+-----+------+------+-----+\n",
      "\n",
      "-------------------------------------------\n",
      "Batch: 221\n",
      "-------------------------------------------\n",
      "+-------------------+----------+---------+--------+-----------+-------+------+-----+-----+------+-----+\n",
      "|event_timestamp    |machine_id|vibration|acoustic|temperature|current|status|IMF_1|IMF_2|IMF_3 |label|\n",
      "+-------------------+----------+---------+--------+-----------+-------+------+-----+-----+------+-----+\n",
      "|2024-07-01 12:33:00|M01       |0.869    |0.631   |65.14      |12.03  |Normal|0.259|0.013|-0.037|0    |\n",
      "+-------------------+----------+---------+--------+-----------+-------+------+-----+-----+------+-----+\n",
      "\n",
      "-------------------------------------------\n",
      "Batch: 222\n",
      "-------------------------------------------\n",
      "+-------------------+----------+---------+--------+-----------+-------+------+-----+------+------+-----+\n",
      "|event_timestamp    |machine_id|vibration|acoustic|temperature|current|status|IMF_1|IMF_2 |IMF_3 |label|\n",
      "+-------------------+----------+---------+--------+-----------+-------+------+-----+------+------+-----+\n",
      "|2024-07-01 12:34:00|M01       |0.725    |0.545   |64.63      |12.44  |Normal|0.127|-0.061|-0.036|0    |\n",
      "+-------------------+----------+---------+--------+-----------+-------+------+-----+------+------+-----+\n",
      "\n"
     ]
    },
    {
     "name": "stderr",
     "output_type": "stream",
     "text": [
      "                                                                                \r"
     ]
    },
    {
     "name": "stdout",
     "output_type": "stream",
     "text": [
      "-------------------------------------------\n",
      "Batch: 223\n",
      "-------------------------------------------\n",
      "+-------------------+----------+---------+--------+-----------+-------+------+-----+-----+------+-----+\n",
      "|event_timestamp    |machine_id|vibration|acoustic|temperature|current|status|IMF_1|IMF_2|IMF_3 |label|\n",
      "+-------------------+----------+---------+--------+-----------+-------+------+-----+-----+------+-----+\n",
      "|2024-07-01 12:35:00|M01       |0.778    |0.647   |66.03      |10.8   |Normal|0.191|0.067|-0.035|0    |\n",
      "+-------------------+----------+---------+--------+-----------+-------+------+-----+-----+------+-----+\n",
      "\n"
     ]
    },
    {
     "name": "stderr",
     "output_type": "stream",
     "text": [
      "                                                                                \r"
     ]
    },
    {
     "name": "stdout",
     "output_type": "stream",
     "text": [
      "-------------------------------------------\n",
      "Batch: 224\n",
      "-------------------------------------------\n",
      "+-------------------+----------+---------+--------+-----------+-------+------+-----+------+------+-----+\n",
      "|event_timestamp    |machine_id|vibration|acoustic|temperature|current|status|IMF_1|IMF_2 |IMF_3 |label|\n",
      "+-------------------+----------+---------+--------+-----------+-------+------+-----+------+------+-----+\n",
      "|2024-07-01 12:36:00|M01       |0.756    |0.503   |61.5       |12.23  |Normal|0.184|-0.099|-0.035|0    |\n",
      "+-------------------+----------+---------+--------+-----------+-------+------+-----+------+------+-----+\n",
      "\n",
      "-------------------------------------------\n",
      "Batch: 225\n",
      "-------------------------------------------\n",
      "+-------------------+----------+---------+--------+-----------+-------+------+-----+-----+------+-----+\n",
      "|event_timestamp    |machine_id|vibration|acoustic|temperature|current|status|IMF_1|IMF_2|IMF_3 |label|\n",
      "+-------------------+----------+---------+--------+-----------+-------+------+-----+-----+------+-----+\n",
      "|2024-07-01 12:37:00|M01       |0.876    |0.563   |68.53      |12.26  |Normal|0.189|0.051|-0.034|0    |\n",
      "+-------------------+----------+---------+--------+-----------+-------+------+-----+-----+------+-----+\n",
      "\n"
     ]
    },
    {
     "name": "stderr",
     "output_type": "stream",
     "text": [
      "                                                                                \r"
     ]
    },
    {
     "name": "stdout",
     "output_type": "stream",
     "text": [
      "-------------------------------------------\n",
      "Batch: 226\n",
      "-------------------------------------------\n",
      "+-------------------+----------+---------+--------+-----------+-------+------+-----+-----+------+-----+\n",
      "|event_timestamp    |machine_id|vibration|acoustic|temperature|current|status|IMF_1|IMF_2|IMF_3 |label|\n",
      "+-------------------+----------+---------+--------+-----------+-------+------+-----+-----+------+-----+\n",
      "|2024-07-01 12:38:00|M01       |0.766    |0.572   |67.05      |11.88  |Normal|0.177|0.057|-0.033|0    |\n",
      "+-------------------+----------+---------+--------+-----------+-------+------+-----+-----+------+-----+\n",
      "\n",
      "-------------------------------------------\n",
      "Batch: 227\n",
      "-------------------------------------------\n",
      "+-------------------+----------+---------+--------+-----------+-------+------+-----+------+------+-----+\n",
      "|event_timestamp    |machine_id|vibration|acoustic|temperature|current|status|IMF_1|IMF_2 |IMF_3 |label|\n",
      "+-------------------+----------+---------+--------+-----------+-------+------+-----+------+------+-----+\n",
      "|2024-07-01 12:39:00|M01       |0.726    |0.555   |68.26      |12.24  |Normal|0.087|-0.061|-0.032|0    |\n",
      "+-------------------+----------+---------+--------+-----------+-------+------+-----+------+------+-----+\n",
      "\n",
      "-------------------------------------------\n",
      "Batch: 228\n",
      "-------------------------------------------\n",
      "+-------------------+----------+---------+--------+-----------+-------+------+-----+------+------+-----+\n",
      "|event_timestamp    |machine_id|vibration|acoustic|temperature|current|status|IMF_1|IMF_2 |IMF_3 |label|\n",
      "+-------------------+----------+---------+--------+-----------+-------+------+-----+------+------+-----+\n",
      "|2024-07-01 12:40:00|M01       |0.878    |0.671   |63.66      |12.04  |Normal|0.114|-0.025|-0.032|0    |\n",
      "+-------------------+----------+---------+--------+-----------+-------+------+-----+------+------+-----+\n",
      "\n"
     ]
    },
    {
     "name": "stderr",
     "output_type": "stream",
     "text": [
      "                                                                                \r"
     ]
    },
    {
     "name": "stdout",
     "output_type": "stream",
     "text": [
      "-------------------------------------------\n",
      "Batch: 229\n",
      "-------------------------------------------\n",
      "+-------------------+----------+---------+--------+-----------+-------+------+-----+------+------+-----+\n",
      "|event_timestamp    |machine_id|vibration|acoustic|temperature|current|status|IMF_1|IMF_2 |IMF_3 |label|\n",
      "+-------------------+----------+---------+--------+-----------+-------+------+-----+------+------+-----+\n",
      "|2024-07-01 12:41:00|M01       |0.869    |0.586   |63.48      |12.61  |Normal|0.169|-0.027|-0.031|0    |\n",
      "|2024-07-01 12:42:00|M01       |0.78     |0.608   |66.87      |11.35  |Normal|0.165|-0.009|-0.03 |0    |\n",
      "+-------------------+----------+---------+--------+-----------+-------+------+-----+------+------+-----+\n",
      "\n",
      "-------------------------------------------\n",
      "Batch: 230\n",
      "-------------------------------------------\n",
      "+-------------------+----------+---------+--------+-----------+-------+------+-----+------+------+-----+\n",
      "|event_timestamp    |machine_id|vibration|acoustic|temperature|current|status|IMF_1|IMF_2 |IMF_3 |label|\n",
      "+-------------------+----------+---------+--------+-----------+-------+------+-----+------+------+-----+\n",
      "|2024-07-01 12:43:00|M01       |0.846    |0.558   |67.16      |11.68  |Normal|0.164|-0.038|-0.029|0    |\n",
      "+-------------------+----------+---------+--------+-----------+-------+------+-----+------+------+-----+\n",
      "\n",
      "-------------------------------------------\n",
      "Batch: 231\n",
      "-------------------------------------------\n",
      "+-------------------+----------+---------+--------+-----------+-------+------+-----+------+------+-----+\n",
      "|event_timestamp    |machine_id|vibration|acoustic|temperature|current|status|IMF_1|IMF_2 |IMF_3 |label|\n",
      "+-------------------+----------+---------+--------+-----------+-------+------+-----+------+------+-----+\n",
      "|2024-07-01 12:44:00|M01       |0.747    |0.567   |67.73      |12.09  |Normal|0.186|-0.036|-0.028|0    |\n",
      "+-------------------+----------+---------+--------+-----------+-------+------+-----+------+------+-----+\n",
      "\n",
      "-------------------------------------------\n",
      "Batch: 232\n",
      "-------------------------------------------\n",
      "+-------------------+----------+---------+--------+-----------+-------+------+-----+------+------+-----+\n",
      "|event_timestamp    |machine_id|vibration|acoustic|temperature|current|status|IMF_1|IMF_2 |IMF_3 |label|\n",
      "+-------------------+----------+---------+--------+-----------+-------+------+-----+------+------+-----+\n",
      "|2024-07-01 12:45:00|M01       |0.788    |0.503   |68.31      |11.53  |Normal|0.186|-0.055|-0.028|0    |\n",
      "+-------------------+----------+---------+--------+-----------+-------+------+-----+------+------+-----+\n",
      "\n"
     ]
    },
    {
     "name": "stderr",
     "output_type": "stream",
     "text": [
      "                                                                                \r"
     ]
    },
    {
     "name": "stdout",
     "output_type": "stream",
     "text": [
      "-------------------------------------------\n",
      "Batch: 233\n",
      "-------------------------------------------\n",
      "+-------------------+----------+---------+--------+-----------+-------+------+-----+-----+------+-----+\n",
      "|event_timestamp    |machine_id|vibration|acoustic|temperature|current|status|IMF_1|IMF_2|IMF_3 |label|\n",
      "+-------------------+----------+---------+--------+-----------+-------+------+-----+-----+------+-----+\n",
      "|2024-07-01 12:46:00|M01       |0.847    |0.469   |65.48      |11.12  |Normal|0.143|0.091|-0.027|0    |\n",
      "+-------------------+----------+---------+--------+-----------+-------+------+-----+-----+------+-----+\n",
      "\n",
      "-------------------------------------------\n",
      "Batch: 234\n",
      "-------------------------------------------\n",
      "+-------------------+----------+---------+--------+-----------+-------+------+-----+------+------+-----+\n",
      "|event_timestamp    |machine_id|vibration|acoustic|temperature|current|status|IMF_1|IMF_2 |IMF_3 |label|\n",
      "+-------------------+----------+---------+--------+-----------+-------+------+-----+------+------+-----+\n",
      "|2024-07-01 12:47:00|M01       |0.831    |0.639   |64.65      |11.0   |Normal|0.226|0.08  |-0.026|0    |\n",
      "|2024-07-01 12:48:00|M01       |0.796    |0.605   |62.35      |12.03  |Normal|0.229|-0.003|-0.025|0    |\n",
      "+-------------------+----------+---------+--------+-----------+-------+------+-----+------+------+-----+\n",
      "\n"
     ]
    },
    {
     "name": "stderr",
     "output_type": "stream",
     "text": [
      "                                                                                \r"
     ]
    },
    {
     "name": "stdout",
     "output_type": "stream",
     "text": [
      "-------------------------------------------\n",
      "Batch: 235\n",
      "-------------------------------------------\n",
      "+-------------------+----------+---------+--------+-----------+-------+------+-----+------+------+-----+\n",
      "|event_timestamp    |machine_id|vibration|acoustic|temperature|current|status|IMF_1|IMF_2 |IMF_3 |label|\n",
      "+-------------------+----------+---------+--------+-----------+-------+------+-----+------+------+-----+\n",
      "|2024-07-01 12:49:00|M01       |0.779    |0.541   |65.04      |11.86  |Normal|0.162|-0.027|-0.024|0    |\n",
      "+-------------------+----------+---------+--------+-----------+-------+------+-----+------+------+-----+\n",
      "\n"
     ]
    },
    {
     "name": "stderr",
     "output_type": "stream",
     "text": [
      "                                                                                \r"
     ]
    },
    {
     "name": "stdout",
     "output_type": "stream",
     "text": [
      "-------------------------------------------\n",
      "Batch: 236\n",
      "-------------------------------------------\n",
      "+-------------------+----------+---------+--------+-----------+-------+------+-----+-----+------+-----+\n",
      "|event_timestamp    |machine_id|vibration|acoustic|temperature|current|status|IMF_1|IMF_2|IMF_3 |label|\n",
      "+-------------------+----------+---------+--------+-----------+-------+------+-----+-----+------+-----+\n",
      "|2024-07-01 12:50:00|M01       |0.866    |0.618   |67.27      |12.13  |Normal|0.154|0.069|-0.023|0    |\n",
      "+-------------------+----------+---------+--------+-----------+-------+------+-----+-----+------+-----+\n",
      "\n",
      "-------------------------------------------\n",
      "Batch: 237\n",
      "-------------------------------------------\n",
      "+-------------------+----------+---------+--------+-----------+-------+------+-----+------+------+-----+\n",
      "|event_timestamp    |machine_id|vibration|acoustic|temperature|current|status|IMF_1|IMF_2 |IMF_3 |label|\n",
      "+-------------------+----------+---------+--------+-----------+-------+------+-----+------+------+-----+\n",
      "|2024-07-01 12:51:00|M01       |0.949    |0.725   |63.46      |11.04  |Normal|0.251|-0.064|-0.022|0    |\n",
      "+-------------------+----------+---------+--------+-----------+-------+------+-----+------+------+-----+\n",
      "\n"
     ]
    },
    {
     "name": "stderr",
     "output_type": "stream",
     "text": [
      "                                                                                \r"
     ]
    },
    {
     "name": "stdout",
     "output_type": "stream",
     "text": [
      "-------------------------------------------\n",
      "Batch: 238\n",
      "-------------------------------------------\n",
      "+-------------------+----------+---------+--------+-----------+-------+------+-----+------+------+-----+\n",
      "|event_timestamp    |machine_id|vibration|acoustic|temperature|current|status|IMF_1|IMF_2 |IMF_3 |label|\n",
      "+-------------------+----------+---------+--------+-----------+-------+------+-----+------+------+-----+\n",
      "|2024-07-01 12:52:00|M01       |0.785    |0.604   |61.38      |11.79  |Normal|0.23 |-0.083|-0.021|0    |\n",
      "+-------------------+----------+---------+--------+-----------+-------+------+-----+------+------+-----+\n",
      "\n",
      "-------------------------------------------\n",
      "Batch: 239\n",
      "-------------------------------------------\n",
      "+-------------------+----------+---------+--------+-----------+-------+------+-----+-----+------+-----+\n",
      "|event_timestamp    |machine_id|vibration|acoustic|temperature|current|status|IMF_1|IMF_2|IMF_3 |label|\n",
      "+-------------------+----------+---------+--------+-----------+-------+------+-----+-----+------+-----+\n",
      "|2024-07-01 12:53:00|M01       |0.767    |0.549   |67.12      |11.99  |Normal|0.226|0.001|-0.021|0    |\n",
      "+-------------------+----------+---------+--------+-----------+-------+------+-----+-----+------+-----+\n",
      "\n",
      "-------------------------------------------\n",
      "Batch: 240\n",
      "-------------------------------------------\n",
      "+-------------------+----------+---------+--------+-----------+-------+------+-----+------+-----+-----+\n",
      "|event_timestamp    |machine_id|vibration|acoustic|temperature|current|status|IMF_1|IMF_2 |IMF_3|label|\n",
      "+-------------------+----------+---------+--------+-----------+-------+------+-----+------+-----+-----+\n",
      "|2024-07-01 12:54:00|M01       |0.785    |0.586   |66.05      |12.23  |Normal|0.138|-0.031|-0.02|0    |\n",
      "+-------------------+----------+---------+--------+-----------+-------+------+-----+------+-----+-----+\n",
      "\n"
     ]
    },
    {
     "name": "stderr",
     "output_type": "stream",
     "text": [
      "                                                                                \r"
     ]
    },
    {
     "name": "stdout",
     "output_type": "stream",
     "text": [
      "-------------------------------------------\n",
      "Batch: 241\n",
      "-------------------------------------------\n",
      "+-------------------+----------+---------+--------+-----------+-------+----------------+-----+------+------+-----+\n",
      "|event_timestamp    |machine_id|vibration|acoustic|temperature|current|status          |IMF_1|IMF_2 |IMF_3 |label|\n",
      "+-------------------+----------+---------+--------+-----------+-------+----------------+-----+------+------+-----+\n",
      "|2024-07-01 12:55:00|M01       |1.105    |0.915   |81.21      |15.58  |Failure Detected|0.117|-0.166|-0.019|1    |\n",
      "+-------------------+----------+---------+--------+-----------+-------+----------------+-----+------+------+-----+\n",
      "\n",
      "-------------------------------------------\n",
      "Batch: 242\n",
      "-------------------------------------------\n",
      "+-------------------+----------+---------+--------+-----------+-------+------+-----+------+------+-----+\n",
      "|event_timestamp    |machine_id|vibration|acoustic|temperature|current|status|IMF_1|IMF_2 |IMF_3 |label|\n",
      "+-------------------+----------+---------+--------+-----------+-------+------+-----+------+------+-----+\n",
      "|2024-07-01 12:56:00|M01       |0.795    |0.638   |63.41      |11.98  |Normal|0.197|-0.009|-0.018|0    |\n",
      "+-------------------+----------+---------+--------+-----------+-------+------+-----+------+------+-----+\n",
      "\n",
      "-------------------------------------------\n",
      "Batch: 243\n",
      "-------------------------------------------\n",
      "+-------------------+----------+---------+--------+-----------+-------+----------------+-----+-----+------+-----+\n",
      "|event_timestamp    |machine_id|vibration|acoustic|temperature|current|status          |IMF_1|IMF_2|IMF_3 |label|\n",
      "+-------------------+----------+---------+--------+-----------+-------+----------------+-----+-----+------+-----+\n",
      "|2024-07-01 12:57:00|M01       |1.162    |0.861   |77.43      |14.92  |Failure Detected|0.212|0.15 |-0.017|1    |\n",
      "+-------------------+----------+---------+--------+-----------+-------+----------------+-----+-----+------+-----+\n",
      "\n"
     ]
    },
    {
     "name": "stderr",
     "output_type": "stream",
     "text": [
      "                                                                                \r"
     ]
    },
    {
     "name": "stdout",
     "output_type": "stream",
     "text": [
      "-------------------------------------------\n",
      "Batch: 244\n",
      "-------------------------------------------\n",
      "+-------------------+----------+---------+--------+-----------+-------+------+-----+------+------+-----+\n",
      "|event_timestamp    |machine_id|vibration|acoustic|temperature|current|status|IMF_1|IMF_2 |IMF_3 |label|\n",
      "+-------------------+----------+---------+--------+-----------+-------+------+-----+------+------+-----+\n",
      "|2024-07-01 12:58:00|M01       |0.829    |0.667   |65.47      |12.11  |Normal|0.183|-0.047|-0.016|0    |\n",
      "+-------------------+----------+---------+--------+-----------+-------+------+-----+------+------+-----+\n",
      "\n",
      "-------------------------------------------\n",
      "Batch: 245\n",
      "-------------------------------------------\n",
      "+-------------------+----------+---------+--------+-----------+-------+------+-----+------+------+-----+\n",
      "|event_timestamp    |machine_id|vibration|acoustic|temperature|current|status|IMF_1|IMF_2 |IMF_3 |label|\n",
      "+-------------------+----------+---------+--------+-----------+-------+------+-----+------+------+-----+\n",
      "|2024-07-01 12:59:00|M01       |0.827    |0.625   |60.54      |12.13  |Normal|0.118|-0.038|-0.015|0    |\n",
      "+-------------------+----------+---------+--------+-----------+-------+------+-----+------+------+-----+\n",
      "\n",
      "-------------------------------------------\n",
      "Batch: 246\n",
      "-------------------------------------------\n",
      "+-------------------+----------+---------+--------+-----------+-------+------+-----+------+------+-----+\n",
      "|event_timestamp    |machine_id|vibration|acoustic|temperature|current|status|IMF_1|IMF_2 |IMF_3 |label|\n",
      "+-------------------+----------+---------+--------+-----------+-------+------+-----+------+------+-----+\n",
      "|2024-07-01 13:00:00|M01       |0.821    |0.615   |67.4       |11.91  |Normal|0.202|-0.103|-0.014|0    |\n",
      "+-------------------+----------+---------+--------+-----------+-------+------+-----+------+------+-----+\n",
      "\n"
     ]
    },
    {
     "name": "stderr",
     "output_type": "stream",
     "text": [
      "                                                                                \r"
     ]
    },
    {
     "name": "stdout",
     "output_type": "stream",
     "text": [
      "-------------------------------------------\n",
      "Batch: 247\n",
      "-------------------------------------------\n",
      "+-------------------+----------+---------+--------+-----------+-------+------+-----+-----+------+-----+\n",
      "|event_timestamp    |machine_id|vibration|acoustic|temperature|current|status|IMF_1|IMF_2|IMF_3 |label|\n",
      "+-------------------+----------+---------+--------+-----------+-------+------+-----+-----+------+-----+\n",
      "|2024-07-01 13:01:00|M01       |0.839    |0.523   |68.78      |11.21  |Normal|0.199|0.091|-0.013|0    |\n",
      "|2024-07-01 13:02:00|M01       |0.8      |0.567   |62.37      |12.87  |Normal|0.13 |0.01 |-0.012|0    |\n",
      "+-------------------+----------+---------+--------+-----------+-------+------+-----+-----+------+-----+\n",
      "\n"
     ]
    },
    {
     "name": "stderr",
     "output_type": "stream",
     "text": [
      "                                                                                \r"
     ]
    },
    {
     "name": "stdout",
     "output_type": "stream",
     "text": [
      "-------------------------------------------\n",
      "Batch: 248\n",
      "-------------------------------------------\n",
      "+-------------------+----------+---------+--------+-----------+-------+----------------+-----+------+------+-----+\n",
      "|event_timestamp    |machine_id|vibration|acoustic|temperature|current|status          |IMF_1|IMF_2 |IMF_3 |label|\n",
      "+-------------------+----------+---------+--------+-----------+-------+----------------+-----+------+------+-----+\n",
      "|2024-07-01 13:03:00|M01       |1.35     |1.027   |78.45      |14.41  |Failure Detected|0.251|0.168 |-0.011|1    |\n",
      "|2024-07-01 13:04:00|M01       |0.754    |0.618   |65.94      |12.35  |Normal          |0.195|-0.034|-0.01 |0    |\n",
      "|2024-07-01 13:05:00|M01       |1.238    |0.84    |79.17      |13.98  |Failure Detected|0.126|-0.145|-0.009|1    |\n",
      "+-------------------+----------+---------+--------+-----------+-------+----------------+-----+------+------+-----+\n",
      "\n"
     ]
    },
    {
     "name": "stderr",
     "output_type": "stream",
     "text": [
      "                                                                                \r"
     ]
    },
    {
     "name": "stdout",
     "output_type": "stream",
     "text": [
      "-------------------------------------------\n",
      "Batch: 249\n",
      "-------------------------------------------\n",
      "+-------------------+----------+---------+--------+-----------+-------+------+-----+-----+------+-----+\n",
      "|event_timestamp    |machine_id|vibration|acoustic|temperature|current|status|IMF_1|IMF_2|IMF_3 |label|\n",
      "+-------------------+----------+---------+--------+-----------+-------+------+-----+-----+------+-----+\n",
      "|2024-07-01 13:06:00|M01       |0.769    |0.66    |65.58      |12.09  |Normal|0.093|0.103|-0.008|0    |\n",
      "|2024-07-01 13:07:00|M01       |0.854    |0.506   |63.44      |11.98  |Normal|0.229|-0.08|-0.007|0    |\n",
      "+-------------------+----------+---------+--------+-----------+-------+------+-----+-----+------+-----+\n",
      "\n"
     ]
    },
    {
     "name": "stderr",
     "output_type": "stream",
     "text": [
      "                                                                                \r"
     ]
    },
    {
     "name": "stdout",
     "output_type": "stream",
     "text": [
      "-------------------------------------------\n",
      "Batch: 250\n",
      "-------------------------------------------\n",
      "+-------------------+----------+---------+--------+-----------+-------+------+-----+------+------+-----+\n",
      "|event_timestamp    |machine_id|vibration|acoustic|temperature|current|status|IMF_1|IMF_2 |IMF_3 |label|\n",
      "+-------------------+----------+---------+--------+-----------+-------+------+-----+------+------+-----+\n",
      "|2024-07-01 13:08:00|M01       |0.785    |0.486   |59.46      |11.88  |Normal|0.179|0.062 |-0.006|0    |\n",
      "|2024-07-01 13:09:00|M01       |0.731    |0.603   |65.19      |11.24  |Normal|0.2  |-0.117|-0.005|0    |\n",
      "|2024-07-01 13:10:00|M01       |0.766    |0.61    |65.81      |12.41  |Normal|0.178|-0.046|-0.004|0    |\n",
      "+-------------------+----------+---------+--------+-----------+-------+------+-----+------+------+-----+\n",
      "\n"
     ]
    },
    {
     "name": "stderr",
     "output_type": "stream",
     "text": [
      "                                                                                \r"
     ]
    },
    {
     "name": "stdout",
     "output_type": "stream",
     "text": [
      "-------------------------------------------\n",
      "Batch: 251\n",
      "-------------------------------------------\n",
      "+-------------------+----------+---------+--------+-----------+-------+----------------+-----+------+------+-----+\n",
      "|event_timestamp    |machine_id|vibration|acoustic|temperature|current|status          |IMF_1|IMF_2 |IMF_3 |label|\n",
      "+-------------------+----------+---------+--------+-----------+-------+----------------+-----+------+------+-----+\n",
      "|2024-07-01 13:11:00|M01       |1.107    |0.957   |76.42      |15.65  |Failure Detected|0.189|0.127 |-0.003|1    |\n",
      "|2024-07-01 13:12:00|M01       |0.835    |0.65    |67.49      |11.76  |Normal          |0.205|-0.083|-0.002|0    |\n",
      "+-------------------+----------+---------+--------+-----------+-------+----------------+-----+------+------+-----+\n",
      "\n"
     ]
    },
    {
     "name": "stderr",
     "output_type": "stream",
     "text": [
      "                                                                                \r"
     ]
    },
    {
     "name": "stdout",
     "output_type": "stream",
     "text": [
      "-------------------------------------------\n",
      "Batch: 252\n",
      "-------------------------------------------\n",
      "+-------------------+----------+---------+--------+-----------+-------+------+-----+------+------+-----+\n",
      "|event_timestamp    |machine_id|vibration|acoustic|temperature|current|status|IMF_1|IMF_2 |IMF_3 |label|\n",
      "+-------------------+----------+---------+--------+-----------+-------+------+-----+------+------+-----+\n",
      "|2024-07-01 13:13:00|M01       |0.818    |0.572   |58.75      |11.73  |Normal|0.188|-0.031|-0.001|0    |\n",
      "|2024-07-01 13:14:00|M01       |0.773    |0.659   |66.52      |12.79  |Normal|0.214|0.059 |-0.0  |0    |\n",
      "+-------------------+----------+---------+--------+-----------+-------+------+-----+------+------+-----+\n",
      "\n"
     ]
    },
    {
     "name": "stderr",
     "output_type": "stream",
     "text": [
      "                                                                                \r"
     ]
    },
    {
     "name": "stdout",
     "output_type": "stream",
     "text": [
      "-------------------------------------------\n",
      "Batch: 253\n",
      "-------------------------------------------\n",
      "+-------------------+----------+---------+--------+-----------+-------+------+-----+------+-----+-----+\n",
      "|event_timestamp    |machine_id|vibration|acoustic|temperature|current|status|IMF_1|IMF_2 |IMF_3|label|\n",
      "+-------------------+----------+---------+--------+-----------+-------+------+-----+------+-----+-----+\n",
      "|2024-07-01 13:15:00|M01       |0.808    |0.55    |66.78      |12.54  |Normal|0.156|-0.059|0.001|0    |\n",
      "+-------------------+----------+---------+--------+-----------+-------+------+-----+------+-----+-----+\n",
      "\n",
      "-------------------------------------------\n",
      "Batch: 254\n",
      "-------------------------------------------\n",
      "+-------------------+----------+---------+--------+-----------+-------+------+-----+------+-----+-----+\n",
      "|event_timestamp    |machine_id|vibration|acoustic|temperature|current|status|IMF_1|IMF_2 |IMF_3|label|\n",
      "+-------------------+----------+---------+--------+-----------+-------+------+-----+------+-----+-----+\n",
      "|2024-07-01 13:16:00|M01       |0.746    |0.55    |64.97      |12.51  |Normal|0.182|-0.033|0.002|0    |\n",
      "+-------------------+----------+---------+--------+-----------+-------+------+-----+------+-----+-----+\n",
      "\n"
     ]
    },
    {
     "name": "stderr",
     "output_type": "stream",
     "text": [
      "                                                                                \r"
     ]
    },
    {
     "name": "stdout",
     "output_type": "stream",
     "text": [
      "-------------------------------------------\n",
      "Batch: 255\n",
      "-------------------------------------------\n",
      "+-------------------+----------+---------+--------+-----------+-------+------+-----+------+-----+-----+\n",
      "|event_timestamp    |machine_id|vibration|acoustic|temperature|current|status|IMF_1|IMF_2 |IMF_3|label|\n",
      "+-------------------+----------+---------+--------+-----------+-------+------+-----+------+-----+-----+\n",
      "|2024-07-01 13:17:00|M01       |0.697    |0.571   |64.2       |11.37  |Normal|0.106|0.063 |0.003|0    |\n",
      "|2024-07-01 13:18:00|M01       |0.792    |0.613   |63.81      |11.81  |Normal|0.141|-0.049|0.004|0    |\n",
      "+-------------------+----------+---------+--------+-----------+-------+------+-----+------+-----+-----+\n",
      "\n"
     ]
    },
    {
     "name": "stderr",
     "output_type": "stream",
     "text": [
      "                                                                                \r"
     ]
    },
    {
     "name": "stdout",
     "output_type": "stream",
     "text": [
      "-------------------------------------------\n",
      "Batch: 256\n",
      "-------------------------------------------\n",
      "+-------------------+----------+---------+--------+-----------+-------+------+-----+-----+-----+-----+\n",
      "|event_timestamp    |machine_id|vibration|acoustic|temperature|current|status|IMF_1|IMF_2|IMF_3|label|\n",
      "+-------------------+----------+---------+--------+-----------+-------+------+-----+-----+-----+-----+\n",
      "|2024-07-01 13:19:00|M01       |0.796    |0.583   |68.1       |11.88  |Normal|0.143|0.006|0.005|0    |\n",
      "|2024-07-01 13:20:00|M01       |0.784    |0.596   |62.78      |11.19  |Normal|0.217|0.001|0.006|0    |\n",
      "+-------------------+----------+---------+--------+-----------+-------+------+-----+-----+-----+-----+\n",
      "\n",
      "-------------------------------------------\n",
      "Batch: 257\n",
      "-------------------------------------------\n",
      "+-------------------+----------+---------+--------+-----------+-------+------+-----+-----+-----+-----+\n",
      "|event_timestamp    |machine_id|vibration|acoustic|temperature|current|status|IMF_1|IMF_2|IMF_3|label|\n",
      "+-------------------+----------+---------+--------+-----------+-------+------+-----+-----+-----+-----+\n",
      "|2024-07-01 13:21:00|M01       |0.754    |0.599   |66.75      |11.34  |Normal|0.196|0.037|0.007|0    |\n",
      "+-------------------+----------+---------+--------+-----------+-------+------+-----+-----+-----+-----+\n",
      "\n",
      "-------------------------------------------\n",
      "Batch: 258\n",
      "-------------------------------------------\n",
      "+-------------------+----------+---------+--------+-----------+-------+------+-----+------+-----+-----+\n",
      "|event_timestamp    |machine_id|vibration|acoustic|temperature|current|status|IMF_1|IMF_2 |IMF_3|label|\n",
      "+-------------------+----------+---------+--------+-----------+-------+------+-----+------+-----+-----+\n",
      "|2024-07-01 13:22:00|M01       |0.821    |0.614   |68.9       |12.32  |Normal|0.124|-0.069|0.008|0    |\n",
      "+-------------------+----------+---------+--------+-----------+-------+------+-----+------+-----+-----+\n",
      "\n",
      "-------------------------------------------\n",
      "Batch: 259\n",
      "-------------------------------------------\n",
      "+-------------------+----------+---------+--------+-----------+-------+------+-----+-----+-----+-----+\n",
      "|event_timestamp    |machine_id|vibration|acoustic|temperature|current|status|IMF_1|IMF_2|IMF_3|label|\n",
      "+-------------------+----------+---------+--------+-----------+-------+------+-----+-----+-----+-----+\n",
      "|2024-07-01 13:23:00|M01       |0.703    |0.624   |65.4       |12.59  |Normal|0.201|0.092|0.009|0    |\n",
      "|2024-07-01 13:24:00|M01       |0.815    |0.66    |66.6       |12.59  |Normal|0.17 |0.129|0.01 |0    |\n",
      "+-------------------+----------+---------+--------+-----------+-------+------+-----+-----+-----+-----+\n",
      "\n",
      "-------------------------------------------\n",
      "Batch: 260\n",
      "-------------------------------------------\n",
      "+-------------------+----------+---------+--------+-----------+-------+------+-----+-----+-----+-----+\n",
      "|event_timestamp    |machine_id|vibration|acoustic|temperature|current|status|IMF_1|IMF_2|IMF_3|label|\n",
      "+-------------------+----------+---------+--------+-----------+-------+------+-----+-----+-----+-----+\n",
      "|2024-07-01 13:25:00|M01       |0.788    |0.519   |65.56      |12.86  |Normal|0.15 |0.075|0.011|0    |\n",
      "+-------------------+----------+---------+--------+-----------+-------+------+-----+-----+-----+-----+\n",
      "\n",
      "-------------------------------------------\n",
      "Batch: 261\n",
      "-------------------------------------------\n",
      "+-------------------+----------+---------+--------+-----------+-------+------+-----+------+-----+-----+\n",
      "|event_timestamp    |machine_id|vibration|acoustic|temperature|current|status|IMF_1|IMF_2 |IMF_3|label|\n",
      "+-------------------+----------+---------+--------+-----------+-------+------+-----+------+-----+-----+\n",
      "|2024-07-01 13:26:00|M01       |0.828    |0.562   |64.11      |11.81  |Normal|0.207|0.099 |0.012|0    |\n",
      "|2024-07-01 13:27:00|M01       |0.887    |0.608   |64.61      |12.8   |Normal|0.158|-0.104|0.013|0    |\n",
      "+-------------------+----------+---------+--------+-----------+-------+------+-----+------+-----+-----+\n",
      "\n",
      "-------------------------------------------\n",
      "Batch: 262\n",
      "-------------------------------------------\n",
      "+-------------------+----------+---------+--------+-----------+-------+------+-----+------+-----+-----+\n",
      "|event_timestamp    |machine_id|vibration|acoustic|temperature|current|status|IMF_1|IMF_2 |IMF_3|label|\n",
      "+-------------------+----------+---------+--------+-----------+-------+------+-----+------+-----+-----+\n",
      "|2024-07-01 13:28:00|M01       |0.784    |0.612   |65.82      |11.83  |Normal|0.109|-0.015|0.014|0    |\n",
      "|2024-07-01 13:29:00|M01       |0.762    |0.643   |69.52      |12.26  |Normal|0.103|0.116 |0.015|0    |\n",
      "+-------------------+----------+---------+--------+-----------+-------+------+-----+------+-----+-----+\n",
      "\n",
      "-------------------------------------------\n",
      "Batch: 263\n",
      "-------------------------------------------\n",
      "+-------------------+----------+---------+--------+-----------+-------+------+-----+-----+-----+-----+\n",
      "|event_timestamp    |machine_id|vibration|acoustic|temperature|current|status|IMF_1|IMF_2|IMF_3|label|\n",
      "+-------------------+----------+---------+--------+-----------+-------+------+-----+-----+-----+-----+\n",
      "|2024-07-01 13:30:00|M01       |0.8      |0.616   |63.77      |11.76  |Normal|0.209|-0.06|0.016|0    |\n",
      "+-------------------+----------+---------+--------+-----------+-------+------+-----+-----+-----+-----+\n",
      "\n"
     ]
    },
    {
     "name": "stderr",
     "output_type": "stream",
     "text": [
      "                                                                                \r"
     ]
    },
    {
     "name": "stdout",
     "output_type": "stream",
     "text": [
      "-------------------------------------------\n",
      "Batch: 264\n",
      "-------------------------------------------\n",
      "+-------------------+----------+---------+--------+-----------+-------+------+-----+------+-----+-----+\n",
      "|event_timestamp    |machine_id|vibration|acoustic|temperature|current|status|IMF_1|IMF_2 |IMF_3|label|\n",
      "+-------------------+----------+---------+--------+-----------+-------+------+-----+------+-----+-----+\n",
      "|2024-07-01 13:31:00|M01       |0.836    |0.661   |66.35      |11.88  |Normal|0.117|0.067 |0.017|0    |\n",
      "|2024-07-01 13:32:00|M01       |0.856    |0.622   |64.03      |11.7   |Normal|0.12 |-0.085|0.017|0    |\n",
      "+-------------------+----------+---------+--------+-----------+-------+------+-----+------+-----+-----+\n",
      "\n"
     ]
    },
    {
     "name": "stderr",
     "output_type": "stream",
     "text": [
      "[Stage 533:>                                                        (0 + 1) / 1]\r"
     ]
    },
    {
     "name": "stdout",
     "output_type": "stream",
     "text": [
      "-------------------------------------------\n",
      "Batch: 265\n",
      "-------------------------------------------\n"
     ]
    },
    {
     "name": "stderr",
     "output_type": "stream",
     "text": [
      "                                                                                \r"
     ]
    },
    {
     "name": "stdout",
     "output_type": "stream",
     "text": [
      "+-------------------+----------+---------+--------+-----------+-------+------+-----+------+-----+-----+\n",
      "|event_timestamp    |machine_id|vibration|acoustic|temperature|current|status|IMF_1|IMF_2 |IMF_3|label|\n",
      "+-------------------+----------+---------+--------+-----------+-------+------+-----+------+-----+-----+\n",
      "|2024-07-01 13:33:00|M01       |0.754    |0.736   |62.48      |12.16  |Normal|0.172|0.116 |0.018|0    |\n",
      "|2024-07-01 13:34:00|M01       |0.763    |0.581   |63.99      |12.28  |Normal|0.09 |-0.065|0.019|0    |\n",
      "+-------------------+----------+---------+--------+-----------+-------+------+-----+------+-----+-----+\n",
      "\n"
     ]
    },
    {
     "name": "stderr",
     "output_type": "stream",
     "text": [
      "                                                                                \r"
     ]
    },
    {
     "name": "stdout",
     "output_type": "stream",
     "text": [
      "-------------------------------------------\n",
      "Batch: 266\n",
      "-------------------------------------------\n",
      "+-------------------+----------+---------+--------+-----------+-------+------+-----+------+-----+-----+\n",
      "|event_timestamp    |machine_id|vibration|acoustic|temperature|current|status|IMF_1|IMF_2 |IMF_3|label|\n",
      "+-------------------+----------+---------+--------+-----------+-------+------+-----+------+-----+-----+\n",
      "|2024-07-01 13:35:00|M01       |0.766    |0.565   |65.7       |13.06  |Normal|0.132|-0.078|0.02 |0    |\n",
      "|2024-07-01 13:36:00|M01       |0.769    |0.578   |63.69      |11.22  |Normal|0.207|0.057 |0.021|0    |\n",
      "+-------------------+----------+---------+--------+-----------+-------+------+-----+------+-----+-----+\n",
      "\n"
     ]
    },
    {
     "name": "stderr",
     "output_type": "stream",
     "text": [
      "                                                                                \r"
     ]
    },
    {
     "name": "stdout",
     "output_type": "stream",
     "text": [
      "-------------------------------------------\n",
      "Batch: 267\n",
      "-------------------------------------------\n",
      "+-------------------+----------+---------+--------+-----------+-------+------+-----+-----+-----+-----+\n",
      "|event_timestamp    |machine_id|vibration|acoustic|temperature|current|status|IMF_1|IMF_2|IMF_3|label|\n",
      "+-------------------+----------+---------+--------+-----------+-------+------+-----+-----+-----+-----+\n",
      "|2024-07-01 13:37:00|M01       |0.758    |0.624   |68.29      |12.41  |Normal|0.208|0.054|0.022|0    |\n",
      "|2024-07-01 13:38:00|M01       |0.72     |0.614   |66.3       |11.78  |Normal|0.184|0.031|0.023|0    |\n",
      "+-------------------+----------+---------+--------+-----------+-------+------+-----+-----+-----+-----+\n",
      "\n",
      "-------------------------------------------\n",
      "Batch: 268\n",
      "-------------------------------------------\n",
      "+-------------------+----------+---------+--------+-----------+-------+------+-----+------+-----+-----+\n",
      "|event_timestamp    |machine_id|vibration|acoustic|temperature|current|status|IMF_1|IMF_2 |IMF_3|label|\n",
      "+-------------------+----------+---------+--------+-----------+-------+------+-----+------+-----+-----+\n",
      "|2024-07-01 13:39:00|M01       |0.791    |0.607   |64.45      |12.36  |Normal|0.147|-0.108|0.024|0    |\n",
      "+-------------------+----------+---------+--------+-----------+-------+------+-----+------+-----+-----+\n",
      "\n",
      "-------------------------------------------\n",
      "Batch: 269\n",
      "-------------------------------------------\n",
      "+-------------------+----------+---------+--------+-----------+-------+------+-----+------+-----+-----+\n",
      "|event_timestamp    |machine_id|vibration|acoustic|temperature|current|status|IMF_1|IMF_2 |IMF_3|label|\n",
      "+-------------------+----------+---------+--------+-----------+-------+------+-----+------+-----+-----+\n",
      "|2024-07-01 13:40:00|M01       |0.767    |0.61    |63.7       |12.58  |Normal|0.177|-0.024|0.025|0    |\n",
      "+-------------------+----------+---------+--------+-----------+-------+------+-----+------+-----+-----+\n",
      "\n",
      "-------------------------------------------\n",
      "Batch: 270\n",
      "-------------------------------------------\n",
      "+-------------------+----------+---------+--------+-----------+-------+------+-----+------+-----+-----+\n",
      "|event_timestamp    |machine_id|vibration|acoustic|temperature|current|status|IMF_1|IMF_2 |IMF_3|label|\n",
      "+-------------------+----------+---------+--------+-----------+-------+------+-----+------+-----+-----+\n",
      "|2024-07-01 13:41:00|M01       |0.875    |0.592   |64.05      |12.01  |Normal|0.172|-0.103|0.026|0    |\n",
      "+-------------------+----------+---------+--------+-----------+-------+------+-----+------+-----+-----+\n",
      "\n"
     ]
    },
    {
     "name": "stderr",
     "output_type": "stream",
     "text": [
      "                                                                                \r"
     ]
    },
    {
     "name": "stdout",
     "output_type": "stream",
     "text": [
      "-------------------------------------------\n",
      "Batch: 271\n",
      "-------------------------------------------\n",
      "+-------------------+----------+---------+--------+-----------+-------+------+-----+-----+-----+-----+\n",
      "|event_timestamp    |machine_id|vibration|acoustic|temperature|current|status|IMF_1|IMF_2|IMF_3|label|\n",
      "+-------------------+----------+---------+--------+-----------+-------+------+-----+-----+-----+-----+\n",
      "|2024-07-01 13:42:00|M01       |0.694    |0.612   |62.67      |12.03  |Normal|0.186|-0.1 |0.026|0    |\n",
      "+-------------------+----------+---------+--------+-----------+-------+------+-----+-----+-----+-----+\n",
      "\n",
      "-------------------------------------------\n",
      "Batch: 272\n",
      "-------------------------------------------\n",
      "+-------------------+----------+---------+--------+-----------+-------+----------------+-----+------+-----+-----+\n",
      "|event_timestamp    |machine_id|vibration|acoustic|temperature|current|status          |IMF_1|IMF_2 |IMF_3|label|\n",
      "+-------------------+----------+---------+--------+-----------+-------+----------------+-----+------+-----+-----+\n",
      "|2024-07-01 13:43:00|M01       |1.109    |0.948   |76.76      |15.0   |Failure Detected|0.168|-0.006|0.027|1    |\n",
      "+-------------------+----------+---------+--------+-----------+-------+----------------+-----+------+-----+-----+\n",
      "\n",
      "-------------------------------------------\n",
      "Batch: 273\n",
      "-------------------------------------------\n",
      "+-------------------+----------+---------+--------+-----------+-------+------+-----+------+-----+-----+\n",
      "|event_timestamp    |machine_id|vibration|acoustic|temperature|current|status|IMF_1|IMF_2 |IMF_3|label|\n",
      "+-------------------+----------+---------+--------+-----------+-------+------+-----+------+-----+-----+\n",
      "|2024-07-01 13:44:00|M01       |0.749    |0.652   |63.3       |11.67  |Normal|0.188|-0.008|0.028|0    |\n",
      "+-------------------+----------+---------+--------+-----------+-------+------+-----+------+-----+-----+\n",
      "\n",
      "-------------------------------------------\n",
      "Batch: 274\n",
      "-------------------------------------------\n",
      "+-------------------+----------+---------+--------+-----------+-------+------+-----+-----+-----+-----+\n",
      "|event_timestamp    |machine_id|vibration|acoustic|temperature|current|status|IMF_1|IMF_2|IMF_3|label|\n",
      "+-------------------+----------+---------+--------+-----------+-------+------+-----+-----+-----+-----+\n",
      "|2024-07-01 13:45:00|M01       |0.784    |0.638   |65.3       |11.88  |Normal|0.182|0.114|0.029|0    |\n",
      "|2024-07-01 13:46:00|M01       |0.814    |0.625   |66.7       |12.0   |Normal|0.104|0.111|0.03 |0    |\n",
      "+-------------------+----------+---------+--------+-----------+-------+------+-----+-----+-----+-----+\n",
      "\n",
      "-------------------------------------------\n",
      "Batch: 275\n",
      "-------------------------------------------\n",
      "+-------------------+----------+---------+--------+-----------+-------+------+-----+-----+-----+-----+\n",
      "|event_timestamp    |machine_id|vibration|acoustic|temperature|current|status|IMF_1|IMF_2|IMF_3|label|\n",
      "+-------------------+----------+---------+--------+-----------+-------+------+-----+-----+-----+-----+\n",
      "|2024-07-01 13:47:00|M01       |0.839    |0.634   |64.5       |12.4   |Normal|0.131|-0.09|0.031|0    |\n",
      "+-------------------+----------+---------+--------+-----------+-------+------+-----+-----+-----+-----+\n",
      "\n",
      "-------------------------------------------\n",
      "Batch: 276\n",
      "-------------------------------------------\n",
      "+-------------------+----------+---------+--------+-----------+-------+------+-----+------+-----+-----+\n",
      "|event_timestamp    |machine_id|vibration|acoustic|temperature|current|status|IMF_1|IMF_2 |IMF_3|label|\n",
      "+-------------------+----------+---------+--------+-----------+-------+------+-----+------+-----+-----+\n",
      "|2024-07-01 13:48:00|M01       |0.83     |0.548   |61.31      |10.9   |Normal|0.209|-0.089|0.031|0    |\n",
      "+-------------------+----------+---------+--------+-----------+-------+------+-----+------+-----+-----+\n",
      "\n",
      "-------------------------------------------\n",
      "Batch: 277\n",
      "-------------------------------------------\n",
      "+-------------------+----------+---------+--------+-----------+-------+------+-----+------+-----+-----+\n",
      "|event_timestamp    |machine_id|vibration|acoustic|temperature|current|status|IMF_1|IMF_2 |IMF_3|label|\n",
      "+-------------------+----------+---------+--------+-----------+-------+------+-----+------+-----+-----+\n",
      "|2024-07-01 13:49:00|M01       |0.806    |0.611   |65.0       |12.34  |Normal|0.151|-0.053|0.032|0    |\n",
      "+-------------------+----------+---------+--------+-----------+-------+------+-----+------+-----+-----+\n",
      "\n",
      "-------------------------------------------\n",
      "Batch: 278\n",
      "-------------------------------------------\n",
      "+-------------------+----------+---------+--------+-----------+-------+------+-----+-----+-----+-----+\n",
      "|event_timestamp    |machine_id|vibration|acoustic|temperature|current|status|IMF_1|IMF_2|IMF_3|label|\n",
      "+-------------------+----------+---------+--------+-----------+-------+------+-----+-----+-----+-----+\n",
      "|2024-07-01 13:50:00|M01       |0.755    |0.637   |67.85      |12.49  |Normal|0.225|0.103|0.033|0    |\n",
      "+-------------------+----------+---------+--------+-----------+-------+------+-----+-----+-----+-----+\n",
      "\n",
      "-------------------------------------------\n",
      "Batch: 279\n",
      "-------------------------------------------\n",
      "+-------------------+----------+---------+--------+-----------+-------+------+-----+-----+-----+-----+\n",
      "|event_timestamp    |machine_id|vibration|acoustic|temperature|current|status|IMF_1|IMF_2|IMF_3|label|\n",
      "+-------------------+----------+---------+--------+-----------+-------+------+-----+-----+-----+-----+\n",
      "|2024-07-01 13:51:00|M01       |0.792    |0.556   |62.46      |11.57  |Normal|0.125|0.039|0.034|0    |\n",
      "+-------------------+----------+---------+--------+-----------+-------+------+-----+-----+-----+-----+\n",
      "\n"
     ]
    },
    {
     "name": "stderr",
     "output_type": "stream",
     "text": [
      "                                                                                \r"
     ]
    },
    {
     "name": "stdout",
     "output_type": "stream",
     "text": [
      "-------------------------------------------\n",
      "Batch: 280\n",
      "-------------------------------------------\n",
      "+-------------------+----------+---------+--------+-----------+-------+------+-----+-----+-----+-----+\n",
      "|event_timestamp    |machine_id|vibration|acoustic|temperature|current|status|IMF_1|IMF_2|IMF_3|label|\n",
      "+-------------------+----------+---------+--------+-----------+-------+------+-----+-----+-----+-----+\n",
      "|2024-07-01 13:52:00|M01       |0.821    |0.557   |64.69      |11.45  |Normal|0.193|0.027|0.034|0    |\n",
      "+-------------------+----------+---------+--------+-----------+-------+------+-----+-----+-----+-----+\n",
      "\n"
     ]
    },
    {
     "name": "stderr",
     "output_type": "stream",
     "text": [
      "                                                                                \r"
     ]
    },
    {
     "name": "stdout",
     "output_type": "stream",
     "text": [
      "-------------------------------------------\n",
      "Batch: 281\n",
      "-------------------------------------------\n",
      "+-------------------+----------+---------+--------+-----------+-------+------+-----+-----+-----+-----+\n",
      "|event_timestamp    |machine_id|vibration|acoustic|temperature|current|status|IMF_1|IMF_2|IMF_3|label|\n",
      "+-------------------+----------+---------+--------+-----------+-------+------+-----+-----+-----+-----+\n",
      "|2024-07-01 13:53:00|M01       |0.788    |0.558   |67.18      |12.08  |Normal|0.081|-0.11|0.035|0    |\n",
      "+-------------------+----------+---------+--------+-----------+-------+------+-----+-----+-----+-----+\n",
      "\n"
     ]
    },
    {
     "name": "stderr",
     "output_type": "stream",
     "text": [
      "                                                                                \r"
     ]
    },
    {
     "name": "stdout",
     "output_type": "stream",
     "text": [
      "-------------------------------------------\n",
      "Batch: 282\n",
      "-------------------------------------------\n",
      "+-------------------+----------+---------+--------+-----------+-------+----------------+-----+------+-----+-----+\n",
      "|event_timestamp    |machine_id|vibration|acoustic|temperature|current|status          |IMF_1|IMF_2 |IMF_3|label|\n",
      "+-------------------+----------+---------+--------+-----------+-------+----------------+-----+------+-----+-----+\n",
      "|2024-07-01 13:54:00|M01       |1.073    |0.701   |78.55      |14.78  |Failure Detected|0.256|-0.045|0.036|1    |\n",
      "+-------------------+----------+---------+--------+-----------+-------+----------------+-----+------+-----+-----+\n",
      "\n",
      "-------------------------------------------\n",
      "Batch: 283\n",
      "-------------------------------------------\n",
      "+-------------------+----------+---------+--------+-----------+-------+------+-----+-----+-----+-----+\n",
      "|event_timestamp    |machine_id|vibration|acoustic|temperature|current|status|IMF_1|IMF_2|IMF_3|label|\n",
      "+-------------------+----------+---------+--------+-----------+-------+------+-----+-----+-----+-----+\n",
      "|2024-07-01 13:55:00|M01       |0.756    |0.609   |65.7       |11.54  |Normal|0.202|0.099|0.036|0    |\n",
      "+-------------------+----------+---------+--------+-----------+-------+------+-----+-----+-----+-----+\n",
      "\n"
     ]
    },
    {
     "name": "stderr",
     "output_type": "stream",
     "text": [
      "                                                                                \r"
     ]
    },
    {
     "name": "stdout",
     "output_type": "stream",
     "text": [
      "-------------------------------------------\n",
      "Batch: 284\n",
      "-------------------------------------------\n",
      "+-------------------+----------+---------+--------+-----------+-------+------+-----+-----+-----+-----+\n",
      "|event_timestamp    |machine_id|vibration|acoustic|temperature|current|status|IMF_1|IMF_2|IMF_3|label|\n",
      "+-------------------+----------+---------+--------+-----------+-------+------+-----+-----+-----+-----+\n",
      "|2024-07-01 13:56:00|M01       |0.801    |0.643   |66.48      |12.54  |Normal|0.225|0.012|0.037|0    |\n",
      "+-------------------+----------+---------+--------+-----------+-------+------+-----+-----+-----+-----+\n",
      "\n"
     ]
    },
    {
     "name": "stderr",
     "output_type": "stream",
     "text": [
      "                                                                                \r"
     ]
    },
    {
     "name": "stdout",
     "output_type": "stream",
     "text": [
      "-------------------------------------------\n",
      "Batch: 285\n",
      "-------------------------------------------\n",
      "+-------------------+----------+---------+--------+-----------+-------+------+-----+-----+-----+-----+\n",
      "|event_timestamp    |machine_id|vibration|acoustic|temperature|current|status|IMF_1|IMF_2|IMF_3|label|\n",
      "+-------------------+----------+---------+--------+-----------+-------+------+-----+-----+-----+-----+\n",
      "|2024-07-01 13:57:00|M01       |0.855    |0.609   |68.91      |11.82  |Normal|0.108|0.072|0.038|0    |\n",
      "|2024-07-01 13:58:00|M01       |0.787    |0.631   |59.14      |11.6   |Normal|0.101|0.092|0.038|0    |\n",
      "+-------------------+----------+---------+--------+-----------+-------+------+-----+-----+-----+-----+\n",
      "\n"
     ]
    },
    {
     "name": "stderr",
     "output_type": "stream",
     "text": [
      "                                                                                \r"
     ]
    },
    {
     "name": "stdout",
     "output_type": "stream",
     "text": [
      "-------------------------------------------\n",
      "Batch: 286\n",
      "-------------------------------------------\n",
      "+-------------------+----------+---------+--------+-----------+-------+------+-----+------+-----+-----+\n",
      "|event_timestamp    |machine_id|vibration|acoustic|temperature|current|status|IMF_1|IMF_2 |IMF_3|label|\n",
      "+-------------------+----------+---------+--------+-----------+-------+------+-----+------+-----+-----+\n",
      "|2024-07-01 13:59:00|M01       |0.777    |0.58    |63.04      |11.96  |Normal|0.088|-0.07 |0.039|0    |\n",
      "|2024-07-01 14:00:00|M01       |0.81     |0.583   |64.65      |11.88  |Normal|0.213|-0.031|0.04 |0    |\n",
      "|2024-07-01 14:01:00|M01       |0.806    |0.616   |62.28      |11.63  |Normal|0.099|0.072 |0.04 |0    |\n",
      "|2024-07-01 14:02:00|M01       |0.807    |0.605   |65.08      |12.6   |Normal|0.097|-0.037|0.041|0    |\n",
      "|2024-07-01 14:03:00|M01       |0.739    |0.596   |64.74      |12.58  |Normal|0.199|-0.022|0.041|0    |\n",
      "+-------------------+----------+---------+--------+-----------+-------+------+-----+------+-----+-----+\n",
      "\n"
     ]
    },
    {
     "name": "stderr",
     "output_type": "stream",
     "text": [
      "                                                                                \r"
     ]
    },
    {
     "name": "stdout",
     "output_type": "stream",
     "text": [
      "-------------------------------------------\n",
      "Batch: 287\n",
      "-------------------------------------------\n",
      "+-------------------+----------+---------+--------+-----------+-------+------+-----+-----+-----+-----+\n",
      "|event_timestamp    |machine_id|vibration|acoustic|temperature|current|status|IMF_1|IMF_2|IMF_3|label|\n",
      "+-------------------+----------+---------+--------+-----------+-------+------+-----+-----+-----+-----+\n",
      "|2024-07-01 14:04:00|M01       |0.796    |0.616   |65.25      |12.24  |Normal|0.22 |0.041|0.042|0    |\n",
      "|2024-07-01 14:05:00|M01       |0.774    |0.555   |60.77      |12.14  |Normal|0.136|0.044|0.043|0    |\n",
      "|2024-07-01 14:06:00|M01       |0.814    |0.507   |66.57      |11.93  |Normal|0.198|0.007|0.043|0    |\n",
      "+-------------------+----------+---------+--------+-----------+-------+------+-----+-----+-----+-----+\n",
      "\n"
     ]
    },
    {
     "name": "stderr",
     "output_type": "stream",
     "text": [
      "                                                                                \r"
     ]
    },
    {
     "name": "stdout",
     "output_type": "stream",
     "text": [
      "-------------------------------------------\n",
      "Batch: 288\n",
      "-------------------------------------------\n",
      "+-------------------+----------+---------+--------+-----------+-------+------+-----+-----+-----+-----+\n",
      "|event_timestamp    |machine_id|vibration|acoustic|temperature|current|status|IMF_1|IMF_2|IMF_3|label|\n",
      "+-------------------+----------+---------+--------+-----------+-------+------+-----+-----+-----+-----+\n",
      "|2024-07-01 14:07:00|M01       |0.803    |0.607   |62.24      |11.1   |Normal|0.177|0.064|0.044|0    |\n",
      "|2024-07-01 14:08:00|M01       |0.779    |0.595   |65.79      |12.37  |Normal|0.18 |0.043|0.044|0    |\n",
      "+-------------------+----------+---------+--------+-----------+-------+------+-----+-----+-----+-----+\n",
      "\n",
      "-------------------------------------------\n",
      "Batch: 289\n",
      "-------------------------------------------\n",
      "+-------------------+----------+---------+--------+-----------+-------+------+-----+------+-----+-----+\n",
      "|event_timestamp    |machine_id|vibration|acoustic|temperature|current|status|IMF_1|IMF_2 |IMF_3|label|\n",
      "+-------------------+----------+---------+--------+-----------+-------+------+-----+------+-----+-----+\n",
      "|2024-07-01 14:09:00|M01       |0.778    |0.628   |63.86      |11.8   |Normal|0.21 |-0.083|0.044|0    |\n",
      "|2024-07-01 14:10:00|M01       |0.822    |0.658   |66.87      |11.18  |Normal|0.144|-0.054|0.045|0    |\n",
      "+-------------------+----------+---------+--------+-----------+-------+------+-----+------+-----+-----+\n",
      "\n"
     ]
    },
    {
     "name": "stderr",
     "output_type": "stream",
     "text": [
      "[Stage 583:>                                                        (0 + 1) / 1]\r"
     ]
    },
    {
     "name": "stdout",
     "output_type": "stream",
     "text": [
      "-------------------------------------------\n",
      "Batch: 290\n",
      "-------------------------------------------\n",
      "+-------------------+----------+---------+--------+-----------+-------+------+-----+------+-----+-----+\n",
      "|event_timestamp    |machine_id|vibration|acoustic|temperature|current|status|IMF_1|IMF_2 |IMF_3|label|\n",
      "+-------------------+----------+---------+--------+-----------+-------+------+-----+------+-----+-----+\n",
      "|2024-07-01 14:11:00|M01       |0.836    |0.613   |67.46      |11.53  |Normal|0.19 |-0.042|0.045|0    |\n",
      "|2024-07-01 14:12:00|M01       |0.831    |0.525   |62.96      |11.55  |Normal|0.168|0.045 |0.046|0    |\n",
      "|2024-07-01 14:13:00|M01       |0.869    |0.621   |66.35      |12.08  |Normal|0.238|0.065 |0.046|0    |\n",
      "+-------------------+----------+---------+--------+-----------+-------+------+-----+------+-----+-----+\n",
      "\n"
     ]
    },
    {
     "name": "stderr",
     "output_type": "stream",
     "text": [
      "                                                                                \r"
     ]
    },
    {
     "name": "stdout",
     "output_type": "stream",
     "text": [
      "-------------------------------------------\n",
      "Batch: 291\n",
      "-------------------------------------------\n",
      "+-------------------+----------+---------+--------+-----------+-------+------+-----+-----+-----+-----+\n",
      "|event_timestamp    |machine_id|vibration|acoustic|temperature|current|status|IMF_1|IMF_2|IMF_3|label|\n",
      "+-------------------+----------+---------+--------+-----------+-------+------+-----+-----+-----+-----+\n",
      "|2024-07-01 14:14:00|M01       |0.84     |0.676   |63.31      |12.13  |Normal|0.116|0.125|0.047|0    |\n",
      "|2024-07-01 14:15:00|M01       |0.952    |0.603   |62.1       |11.92  |Normal|0.195|0.089|0.047|0    |\n",
      "+-------------------+----------+---------+--------+-----------+-------+------+-----+-----+-----+-----+\n",
      "\n"
     ]
    },
    {
     "name": "stderr",
     "output_type": "stream",
     "text": [
      "                                                                                \r"
     ]
    },
    {
     "name": "stdout",
     "output_type": "stream",
     "text": [
      "-------------------------------------------\n",
      "Batch: 292\n",
      "-------------------------------------------\n",
      "+-------------------+----------+---------+--------+-----------+-------+------+-----+-----+-----+-----+\n",
      "|event_timestamp    |machine_id|vibration|acoustic|temperature|current|status|IMF_1|IMF_2|IMF_3|label|\n",
      "+-------------------+----------+---------+--------+-----------+-------+------+-----+-----+-----+-----+\n",
      "|2024-07-01 14:16:00|M01       |0.784    |0.538   |65.33      |12.0   |Normal|0.204|0.07 |0.047|0    |\n",
      "+-------------------+----------+---------+--------+-----------+-------+------+-----+-----+-----+-----+\n",
      "\n",
      "-------------------------------------------\n",
      "Batch: 293\n",
      "-------------------------------------------\n",
      "+-------------------+----------+---------+--------+-----------+-------+------+-----+-----+-----+-----+\n",
      "|event_timestamp    |machine_id|vibration|acoustic|temperature|current|status|IMF_1|IMF_2|IMF_3|label|\n",
      "+-------------------+----------+---------+--------+-----------+-------+------+-----+-----+-----+-----+\n",
      "|2024-07-01 14:17:00|M01       |0.792    |0.597   |67.32      |11.86  |Normal|0.125|0.047|0.048|0    |\n",
      "+-------------------+----------+---------+--------+-----------+-------+------+-----+-----+-----+-----+\n",
      "\n",
      "-------------------------------------------\n",
      "Batch: 294\n",
      "-------------------------------------------\n",
      "+-------------------+----------+---------+--------+-----------+-------+----------------+-----+-----+-----+-----+\n",
      "|event_timestamp    |machine_id|vibration|acoustic|temperature|current|status          |IMF_1|IMF_2|IMF_3|label|\n",
      "+-------------------+----------+---------+--------+-----------+-------+----------------+-----+-----+-----+-----+\n",
      "|2024-07-01 14:18:00|M01       |1.272    |0.965   |78.15      |15.36  |Failure Detected|0.168|-0.12|0.048|1    |\n",
      "+-------------------+----------+---------+--------+-----------+-------+----------------+-----+-----+-----+-----+\n",
      "\n",
      "-------------------------------------------\n",
      "Batch: 295\n",
      "-------------------------------------------\n",
      "+-------------------+----------+---------+--------+-----------+-------+------+-----+------+-----+-----+\n",
      "|event_timestamp    |machine_id|vibration|acoustic|temperature|current|status|IMF_1|IMF_2 |IMF_3|label|\n",
      "+-------------------+----------+---------+--------+-----------+-------+------+-----+------+-----+-----+\n",
      "|2024-07-01 14:19:00|M01       |0.814    |0.609   |64.98      |10.72  |Normal|0.215|-0.092|0.048|0    |\n",
      "+-------------------+----------+---------+--------+-----------+-------+------+-----+------+-----+-----+\n",
      "\n",
      "-------------------------------------------\n",
      "Batch: 296\n",
      "-------------------------------------------\n",
      "+-------------------+----------+---------+--------+-----------+-------+------+-----+------+-----+-----+\n",
      "|event_timestamp    |machine_id|vibration|acoustic|temperature|current|status|IMF_1|IMF_2 |IMF_3|label|\n",
      "+-------------------+----------+---------+--------+-----------+-------+------+-----+------+-----+-----+\n",
      "|2024-07-01 14:20:00|M01       |0.756    |0.591   |61.16      |12.03  |Normal|0.154|-0.033|0.048|0    |\n",
      "+-------------------+----------+---------+--------+-----------+-------+------+-----+------+-----+-----+\n",
      "\n"
     ]
    },
    {
     "name": "stderr",
     "output_type": "stream",
     "text": [
      "                                                                                \r"
     ]
    },
    {
     "name": "stdout",
     "output_type": "stream",
     "text": [
      "-------------------------------------------\n",
      "Batch: 297\n",
      "-------------------------------------------\n",
      "+-------------------+----------+---------+--------+-----------+-------+------+-----+------+-----+-----+\n",
      "|event_timestamp    |machine_id|vibration|acoustic|temperature|current|status|IMF_1|IMF_2 |IMF_3|label|\n",
      "+-------------------+----------+---------+--------+-----------+-------+------+-----+------+-----+-----+\n",
      "|2024-07-01 14:21:00|M01       |0.814    |0.65    |66.7       |12.33  |Normal|0.131|-0.005|0.049|0    |\n",
      "+-------------------+----------+---------+--------+-----------+-------+------+-----+------+-----+-----+\n",
      "\n",
      "-------------------------------------------\n",
      "Batch: 298\n",
      "-------------------------------------------\n",
      "+-------------------+----------+---------+--------+-----------+-------+------+-----+-----+-----+-----+\n",
      "|event_timestamp    |machine_id|vibration|acoustic|temperature|current|status|IMF_1|IMF_2|IMF_3|label|\n",
      "+-------------------+----------+---------+--------+-----------+-------+------+-----+-----+-----+-----+\n",
      "|2024-07-01 14:22:00|M01       |0.872    |0.606   |66.85      |12.16  |Normal|0.13 |0.099|0.049|0    |\n",
      "+-------------------+----------+---------+--------+-----------+-------+------+-----+-----+-----+-----+\n",
      "\n",
      "-------------------------------------------\n",
      "Batch: 299\n",
      "-------------------------------------------\n",
      "+-------------------+----------+---------+--------+-----------+-------+------+-----+-----+-----+-----+\n",
      "|event_timestamp    |machine_id|vibration|acoustic|temperature|current|status|IMF_1|IMF_2|IMF_3|label|\n",
      "+-------------------+----------+---------+--------+-----------+-------+------+-----+-----+-----+-----+\n",
      "|2024-07-01 14:23:00|M01       |0.778    |0.567   |65.5       |11.56  |Normal|0.182|0.05 |0.049|0    |\n",
      "+-------------------+----------+---------+--------+-----------+-------+------+-----+-----+-----+-----+\n",
      "\n",
      "-------------------------------------------\n",
      "Batch: 300\n",
      "-------------------------------------------\n",
      "+-------------------+----------+---------+--------+-----------+-------+------+-----+------+-----+-----+\n",
      "|event_timestamp    |machine_id|vibration|acoustic|temperature|current|status|IMF_1|IMF_2 |IMF_3|label|\n",
      "+-------------------+----------+---------+--------+-----------+-------+------+-----+------+-----+-----+\n",
      "|2024-07-01 14:24:00|M01       |0.75     |0.675   |64.97      |12.06  |Normal|0.102|-0.056|0.049|0    |\n",
      "+-------------------+----------+---------+--------+-----------+-------+------+-----+------+-----+-----+\n",
      "\n"
     ]
    },
    {
     "name": "stderr",
     "output_type": "stream",
     "text": [
      "                                                                                \r"
     ]
    },
    {
     "name": "stdout",
     "output_type": "stream",
     "text": [
      "-------------------------------------------\n",
      "Batch: 301\n",
      "-------------------------------------------\n",
      "+-------------------+----------+---------+--------+-----------+-------+------+-----+-----+-----+-----+\n",
      "|event_timestamp    |machine_id|vibration|acoustic|temperature|current|status|IMF_1|IMF_2|IMF_3|label|\n",
      "+-------------------+----------+---------+--------+-----------+-------+------+-----+-----+-----+-----+\n",
      "|2024-07-01 14:25:00|M01       |0.773    |0.568   |65.0       |11.92  |Normal|0.148|0.007|0.049|0    |\n",
      "+-------------------+----------+---------+--------+-----------+-------+------+-----+-----+-----+-----+\n",
      "\n",
      "-------------------------------------------\n",
      "Batch: 302\n",
      "-------------------------------------------\n",
      "+-------------------+----------+---------+--------+-----------+-------+------+-----+-----+-----+-----+\n",
      "|event_timestamp    |machine_id|vibration|acoustic|temperature|current|status|IMF_1|IMF_2|IMF_3|label|\n",
      "+-------------------+----------+---------+--------+-----------+-------+------+-----+-----+-----+-----+\n",
      "|2024-07-01 14:26:00|M01       |0.83     |0.622   |60.65      |11.68  |Normal|0.123|-0.01|0.05 |0    |\n",
      "+-------------------+----------+---------+--------+-----------+-------+------+-----+-----+-----+-----+\n",
      "\n",
      "-------------------------------------------\n",
      "Batch: 303\n",
      "-------------------------------------------\n",
      "+-------------------+----------+---------+--------+-----------+-------+----------------+-----+-----+-----+-----+\n",
      "|event_timestamp    |machine_id|vibration|acoustic|temperature|current|status          |IMF_1|IMF_2|IMF_3|label|\n",
      "+-------------------+----------+---------+--------+-----------+-------+----------------+-----+-----+-----+-----+\n",
      "|2024-07-01 14:27:00|M01       |1.327    |0.838   |79.11      |15.61  |Failure Detected|0.365|-0.09|0.05 |1    |\n",
      "+-------------------+----------+---------+--------+-----------+-------+----------------+-----+-----+-----+-----+\n",
      "\n",
      "-------------------------------------------\n",
      "Batch: 304\n",
      "-------------------------------------------\n",
      "+-------------------+----------+---------+--------+-----------+-------+------+-----+-----+-----+-----+\n",
      "|event_timestamp    |machine_id|vibration|acoustic|temperature|current|status|IMF_1|IMF_2|IMF_3|label|\n",
      "+-------------------+----------+---------+--------+-----------+-------+------+-----+-----+-----+-----+\n",
      "|2024-07-01 14:28:00|M01       |0.776    |0.506   |67.29      |11.05  |Normal|0.139|0.084|0.05 |0    |\n",
      "+-------------------+----------+---------+--------+-----------+-------+------+-----+-----+-----+-----+\n",
      "\n",
      "-------------------------------------------\n",
      "Batch: 305\n",
      "-------------------------------------------\n",
      "+-------------------+----------+---------+--------+-----------+-------+------+-----+------+-----+-----+\n",
      "|event_timestamp    |machine_id|vibration|acoustic|temperature|current|status|IMF_1|IMF_2 |IMF_3|label|\n",
      "+-------------------+----------+---------+--------+-----------+-------+------+-----+------+-----+-----+\n",
      "|2024-07-01 14:29:00|M01       |0.766    |0.513   |65.36      |11.37  |Normal|0.095|-0.043|0.05 |0    |\n",
      "+-------------------+----------+---------+--------+-----------+-------+------+-----+------+-----+-----+\n",
      "\n",
      "-------------------------------------------\n",
      "Batch: 306\n",
      "-------------------------------------------\n",
      "+-------------------+----------+---------+--------+-----------+-------+------+-----+------+-----+-----+\n",
      "|event_timestamp    |machine_id|vibration|acoustic|temperature|current|status|IMF_1|IMF_2 |IMF_3|label|\n",
      "+-------------------+----------+---------+--------+-----------+-------+------+-----+------+-----+-----+\n",
      "|2024-07-01 14:30:00|M01       |0.861    |0.623   |63.0       |11.07  |Normal|0.116|-0.017|0.05 |0    |\n",
      "+-------------------+----------+---------+--------+-----------+-------+------+-----+------+-----+-----+\n",
      "\n"
     ]
    },
    {
     "name": "stderr",
     "output_type": "stream",
     "text": [
      "                                                                                \r"
     ]
    },
    {
     "name": "stdout",
     "output_type": "stream",
     "text": [
      "-------------------------------------------\n",
      "Batch: 307\n",
      "-------------------------------------------\n",
      "+-------------------+----------+---------+--------+-----------+-------+------+-----+------+-----+-----+\n",
      "|event_timestamp    |machine_id|vibration|acoustic|temperature|current|status|IMF_1|IMF_2 |IMF_3|label|\n",
      "+-------------------+----------+---------+--------+-----------+-------+------+-----+------+-----+-----+\n",
      "|2024-07-01 14:31:00|M01       |0.872    |0.681   |69.96      |11.51  |Normal|0.196|-0.085|0.05 |0    |\n",
      "+-------------------+----------+---------+--------+-----------+-------+------+-----+------+-----+-----+\n",
      "\n",
      "-------------------------------------------\n",
      "Batch: 308\n",
      "-------------------------------------------\n",
      "+-------------------+----------+---------+--------+-----------+-------+------+-----+------+-----+-----+\n",
      "|event_timestamp    |machine_id|vibration|acoustic|temperature|current|status|IMF_1|IMF_2 |IMF_3|label|\n",
      "+-------------------+----------+---------+--------+-----------+-------+------+-----+------+-----+-----+\n",
      "|2024-07-01 14:32:00|M01       |0.853    |0.569   |65.41      |13.03  |Normal|0.187|-0.048|0.05 |0    |\n",
      "+-------------------+----------+---------+--------+-----------+-------+------+-----+------+-----+-----+\n",
      "\n",
      "-------------------------------------------\n",
      "Batch: 309\n",
      "-------------------------------------------\n",
      "+-------------------+----------+---------+--------+-----------+-------+------+-----+------+-----+-----+\n",
      "|event_timestamp    |machine_id|vibration|acoustic|temperature|current|status|IMF_1|IMF_2 |IMF_3|label|\n",
      "+-------------------+----------+---------+--------+-----------+-------+------+-----+------+-----+-----+\n",
      "|2024-07-01 14:33:00|M01       |0.713    |0.591   |69.08      |12.33  |Normal|0.154|-0.001|0.05 |0    |\n",
      "+-------------------+----------+---------+--------+-----------+-------+------+-----+------+-----+-----+\n",
      "\n",
      "-------------------------------------------\n",
      "Batch: 310\n",
      "-------------------------------------------\n",
      "+-------------------+----------+---------+--------+-----------+-------+------+-----+-----+-----+-----+\n",
      "|event_timestamp    |machine_id|vibration|acoustic|temperature|current|status|IMF_1|IMF_2|IMF_3|label|\n",
      "+-------------------+----------+---------+--------+-----------+-------+------+-----+-----+-----+-----+\n",
      "|2024-07-01 14:34:00|M01       |0.821    |0.509   |66.09      |12.73  |Normal|0.222|0.029|0.05 |0    |\n",
      "+-------------------+----------+---------+--------+-----------+-------+------+-----+-----+-----+-----+\n",
      "\n"
     ]
    },
    {
     "name": "stderr",
     "output_type": "stream",
     "text": [
      "                                                                                \r"
     ]
    },
    {
     "name": "stdout",
     "output_type": "stream",
     "text": [
      "-------------------------------------------\n",
      "Batch: 311\n",
      "-------------------------------------------\n",
      "+-------------------+----------+---------+--------+-----------+-------+------+-----+-----+-----+-----+\n",
      "|event_timestamp    |machine_id|vibration|acoustic|temperature|current|status|IMF_1|IMF_2|IMF_3|label|\n",
      "+-------------------+----------+---------+--------+-----------+-------+------+-----+-----+-----+-----+\n",
      "|2024-07-01 14:35:00|M01       |0.788    |0.536   |63.69      |13.17  |Normal|0.136|0.033|0.05 |0    |\n",
      "+-------------------+----------+---------+--------+-----------+-------+------+-----+-----+-----+-----+\n",
      "\n"
     ]
    },
    {
     "name": "stderr",
     "output_type": "stream",
     "text": [
      "                                                                                \r"
     ]
    },
    {
     "name": "stdout",
     "output_type": "stream",
     "text": [
      "-------------------------------------------\n",
      "Batch: 312\n",
      "-------------------------------------------\n",
      "+-------------------+----------+---------+--------+-----------+-------+----------------+-----+-----+-----+-----+\n",
      "|event_timestamp    |machine_id|vibration|acoustic|temperature|current|status          |IMF_1|IMF_2|IMF_3|label|\n",
      "+-------------------+----------+---------+--------+-----------+-------+----------------+-----+-----+-----+-----+\n",
      "|2024-07-01 14:36:00|M01       |1.227    |0.923   |80.72      |16.7   |Failure Detected|0.147|0.011|0.05 |1    |\n",
      "+-------------------+----------+---------+--------+-----------+-------+----------------+-----+-----+-----+-----+\n",
      "\n",
      "-------------------------------------------\n",
      "Batch: 313\n",
      "-------------------------------------------\n",
      "+-------------------+----------+---------+--------+-----------+-------+----------------+-----+------+-----+-----+\n",
      "|event_timestamp    |machine_id|vibration|acoustic|temperature|current|status          |IMF_1|IMF_2 |IMF_3|label|\n",
      "+-------------------+----------+---------+--------+-----------+-------+----------------+-----+------+-----+-----+\n",
      "|2024-07-01 14:37:00|M01       |1.152    |0.985   |76.74      |15.8   |Failure Detected|0.15 |-0.074|0.05 |1    |\n",
      "+-------------------+----------+---------+--------+-----------+-------+----------------+-----+------+-----+-----+\n",
      "\n",
      "-------------------------------------------\n",
      "Batch: 314\n",
      "-------------------------------------------\n",
      "+-------------------+----------+---------+--------+-----------+-------+------+-----+-----+-----+-----+\n",
      "|event_timestamp    |machine_id|vibration|acoustic|temperature|current|status|IMF_1|IMF_2|IMF_3|label|\n",
      "+-------------------+----------+---------+--------+-----------+-------+------+-----+-----+-----+-----+\n",
      "|2024-07-01 14:38:00|M01       |0.778    |0.603   |61.14      |12.26  |Normal|0.21 |0.002|0.05 |0    |\n",
      "+-------------------+----------+---------+--------+-----------+-------+------+-----+-----+-----+-----+\n",
      "\n",
      "-------------------------------------------\n",
      "Batch: 315\n",
      "-------------------------------------------\n",
      "+-------------------+----------+---------+--------+-----------+-------+------+-----+------+-----+-----+\n",
      "|event_timestamp    |machine_id|vibration|acoustic|temperature|current|status|IMF_1|IMF_2 |IMF_3|label|\n",
      "+-------------------+----------+---------+--------+-----------+-------+------+-----+------+-----+-----+\n",
      "|2024-07-01 14:39:00|M01       |0.849    |0.668   |66.14      |12.58  |Normal|0.24 |-0.122|0.05 |0    |\n",
      "+-------------------+----------+---------+--------+-----------+-------+------+-----+------+-----+-----+\n",
      "\n",
      "-------------------------------------------\n",
      "Batch: 316\n",
      "-------------------------------------------\n",
      "+-------------------+----------+---------+--------+-----------+-------+------+-----+------+-----+-----+\n",
      "|event_timestamp    |machine_id|vibration|acoustic|temperature|current|status|IMF_1|IMF_2 |IMF_3|label|\n",
      "+-------------------+----------+---------+--------+-----------+-------+------+-----+------+-----+-----+\n",
      "|2024-07-01 14:40:00|M01       |0.803    |0.61    |64.66      |11.27  |Normal|0.175|-0.037|0.049|0    |\n",
      "+-------------------+----------+---------+--------+-----------+-------+------+-----+------+-----+-----+\n",
      "\n"
     ]
    },
    {
     "name": "stderr",
     "output_type": "stream",
     "text": [
      "                                                                                \r"
     ]
    },
    {
     "name": "stdout",
     "output_type": "stream",
     "text": [
      "-------------------------------------------\n",
      "Batch: 317\n",
      "-------------------------------------------\n",
      "+-------------------+----------+---------+--------+-----------+-------+------+-----+------+-----+-----+\n",
      "|event_timestamp    |machine_id|vibration|acoustic|temperature|current|status|IMF_1|IMF_2 |IMF_3|label|\n",
      "+-------------------+----------+---------+--------+-----------+-------+------+-----+------+-----+-----+\n",
      "|2024-07-01 14:41:00|M01       |0.81     |0.592   |64.06      |13.27  |Normal|0.096|-0.092|0.049|0    |\n",
      "+-------------------+----------+---------+--------+-----------+-------+------+-----+------+-----+-----+\n",
      "\n",
      "-------------------------------------------\n",
      "Batch: 318\n",
      "-------------------------------------------\n",
      "+-------------------+----------+---------+--------+-----------+-------+------+-----+------+-----+-----+\n",
      "|event_timestamp    |machine_id|vibration|acoustic|temperature|current|status|IMF_1|IMF_2 |IMF_3|label|\n",
      "+-------------------+----------+---------+--------+-----------+-------+------+-----+------+-----+-----+\n",
      "|2024-07-01 14:42:00|M01       |0.842    |0.606   |68.82      |12.02  |Normal|0.169|-0.053|0.049|0    |\n",
      "+-------------------+----------+---------+--------+-----------+-------+------+-----+------+-----+-----+\n",
      "\n",
      "-------------------------------------------\n",
      "Batch: 319\n",
      "-------------------------------------------\n",
      "+-------------------+----------+---------+--------+-----------+-------+------+-----+-----+-----+-----+\n",
      "|event_timestamp    |machine_id|vibration|acoustic|temperature|current|status|IMF_1|IMF_2|IMF_3|label|\n",
      "+-------------------+----------+---------+--------+-----------+-------+------+-----+-----+-----+-----+\n",
      "|2024-07-01 14:43:00|M01       |0.751    |0.727   |65.5       |12.33  |Normal|0.113|0.06 |0.049|0    |\n",
      "+-------------------+----------+---------+--------+-----------+-------+------+-----+-----+-----+-----+\n",
      "\n",
      "-------------------------------------------\n",
      "Batch: 320\n",
      "-------------------------------------------\n",
      "+-------------------+----------+---------+--------+-----------+-------+------+-----+-----+-----+-----+\n",
      "|event_timestamp    |machine_id|vibration|acoustic|temperature|current|status|IMF_1|IMF_2|IMF_3|label|\n",
      "+-------------------+----------+---------+--------+-----------+-------+------+-----+-----+-----+-----+\n",
      "|2024-07-01 14:44:00|M01       |0.875    |0.475   |64.21      |11.73  |Normal|0.137|0.078|0.049|0    |\n",
      "+-------------------+----------+---------+--------+-----------+-------+------+-----+-----+-----+-----+\n",
      "\n"
     ]
    },
    {
     "name": "stderr",
     "output_type": "stream",
     "text": [
      "                                                                                \r"
     ]
    },
    {
     "name": "stdout",
     "output_type": "stream",
     "text": [
      "-------------------------------------------\n",
      "Batch: 321\n",
      "-------------------------------------------\n",
      "+-------------------+----------+---------+--------+-----------+-------+------+-----+------+-----+-----+\n",
      "|event_timestamp    |machine_id|vibration|acoustic|temperature|current|status|IMF_1|IMF_2 |IMF_3|label|\n",
      "+-------------------+----------+---------+--------+-----------+-------+------+-----+------+-----+-----+\n",
      "|2024-07-01 14:45:00|M01       |0.777    |0.655   |62.2       |11.46  |Normal|0.218|-0.087|0.048|0    |\n",
      "+-------------------+----------+---------+--------+-----------+-------+------+-----+------+-----+-----+\n",
      "\n"
     ]
    },
    {
     "name": "stderr",
     "output_type": "stream",
     "text": [
      "                                                                                \r"
     ]
    },
    {
     "name": "stdout",
     "output_type": "stream",
     "text": [
      "-------------------------------------------\n",
      "Batch: 322\n",
      "-------------------------------------------\n",
      "+-------------------+----------+---------+--------+-----------+-------+------+-----+------+-----+-----+\n",
      "|event_timestamp    |machine_id|vibration|acoustic|temperature|current|status|IMF_1|IMF_2 |IMF_3|label|\n",
      "+-------------------+----------+---------+--------+-----------+-------+------+-----+------+-----+-----+\n",
      "|2024-07-01 14:46:00|M01       |0.762    |0.615   |67.7       |12.06  |Normal|0.173|-0.103|0.048|0    |\n",
      "+-------------------+----------+---------+--------+-----------+-------+------+-----+------+-----+-----+\n",
      "\n",
      "-------------------------------------------\n",
      "Batch: 323\n",
      "-------------------------------------------\n",
      "+-------------------+----------+---------+--------+-----------+-------+----------------+-----+-----+-----+-----+\n",
      "|event_timestamp    |machine_id|vibration|acoustic|temperature|current|status          |IMF_1|IMF_2|IMF_3|label|\n",
      "+-------------------+----------+---------+--------+-----------+-------+----------------+-----+-----+-----+-----+\n",
      "|2024-07-01 14:47:00|M01       |1.1      |0.95    |75.8       |14.58  |Failure Detected|0.209|-0.12|0.048|1    |\n",
      "+-------------------+----------+---------+--------+-----------+-------+----------------+-----+-----+-----+-----+\n",
      "\n"
     ]
    },
    {
     "name": "stderr",
     "output_type": "stream",
     "text": [
      "                                                                                \r"
     ]
    },
    {
     "name": "stdout",
     "output_type": "stream",
     "text": [
      "-------------------------------------------\n",
      "Batch: 324\n",
      "-------------------------------------------\n",
      "+-------------------+----------+---------+--------+-----------+-------+------+-----+------+-----+-----+\n",
      "|event_timestamp    |machine_id|vibration|acoustic|temperature|current|status|IMF_1|IMF_2 |IMF_3|label|\n",
      "+-------------------+----------+---------+--------+-----------+-------+------+-----+------+-----+-----+\n",
      "|2024-07-01 14:48:00|M01       |0.766    |0.562   |66.24      |12.19  |Normal|0.173|-0.058|0.048|0    |\n",
      "+-------------------+----------+---------+--------+-----------+-------+------+-----+------+-----+-----+\n",
      "\n",
      "-------------------------------------------\n",
      "Batch: 325\n",
      "-------------------------------------------\n",
      "+-------------------+----------+---------+--------+-----------+-------+------+-----+-----+-----+-----+\n",
      "|event_timestamp    |machine_id|vibration|acoustic|temperature|current|status|IMF_1|IMF_2|IMF_3|label|\n",
      "+-------------------+----------+---------+--------+-----------+-------+------+-----+-----+-----+-----+\n",
      "|2024-07-01 14:49:00|M01       |0.79     |0.613   |65.8       |12.14  |Normal|0.113|0.061|0.047|0    |\n",
      "+-------------------+----------+---------+--------+-----------+-------+------+-----+-----+-----+-----+\n",
      "\n",
      "-------------------------------------------\n",
      "Batch: 326\n",
      "-------------------------------------------\n",
      "+-------------------+----------+---------+--------+-----------+-------+------+-----+-----+-----+-----+\n",
      "|event_timestamp    |machine_id|vibration|acoustic|temperature|current|status|IMF_1|IMF_2|IMF_3|label|\n",
      "+-------------------+----------+---------+--------+-----------+-------+------+-----+-----+-----+-----+\n",
      "|2024-07-01 14:50:00|M01       |0.691    |0.658   |65.89      |12.53  |Normal|0.161|0.079|0.047|0    |\n",
      "+-------------------+----------+---------+--------+-----------+-------+------+-----+-----+-----+-----+\n",
      "\n",
      "-------------------------------------------\n",
      "Batch: 327\n",
      "-------------------------------------------\n",
      "+-------------------+----------+---------+--------+-----------+-------+------+-----+------+-----+-----+\n",
      "|event_timestamp    |machine_id|vibration|acoustic|temperature|current|status|IMF_1|IMF_2 |IMF_3|label|\n",
      "+-------------------+----------+---------+--------+-----------+-------+------+-----+------+-----+-----+\n",
      "|2024-07-01 14:51:00|M01       |0.807    |0.611   |66.87      |11.08  |Normal|0.084|-0.045|0.047|0    |\n",
      "+-------------------+----------+---------+--------+-----------+-------+------+-----+------+-----+-----+\n",
      "\n"
     ]
    },
    {
     "name": "stderr",
     "output_type": "stream",
     "text": [
      "                                                                                \r"
     ]
    },
    {
     "name": "stdout",
     "output_type": "stream",
     "text": [
      "-------------------------------------------\n",
      "Batch: 328\n",
      "-------------------------------------------\n",
      "+-------------------+----------+---------+--------+-----------+-------+------+-----+-----+-----+-----+\n",
      "|event_timestamp    |machine_id|vibration|acoustic|temperature|current|status|IMF_1|IMF_2|IMF_3|label|\n",
      "+-------------------+----------+---------+--------+-----------+-------+------+-----+-----+-----+-----+\n",
      "|2024-07-01 14:52:00|M01       |0.702    |0.658   |66.87      |11.8   |Normal|0.124|0.066|0.046|0    |\n",
      "+-------------------+----------+---------+--------+-----------+-------+------+-----+-----+-----+-----+\n",
      "\n",
      "-------------------------------------------\n",
      "Batch: 329\n",
      "-------------------------------------------\n",
      "+-------------------+----------+---------+--------+-----------+-------+------+-----+------+-----+-----+\n",
      "|event_timestamp    |machine_id|vibration|acoustic|temperature|current|status|IMF_1|IMF_2 |IMF_3|label|\n",
      "+-------------------+----------+---------+--------+-----------+-------+------+-----+------+-----+-----+\n",
      "|2024-07-01 14:53:00|M01       |0.728    |0.614   |63.35      |12.48  |Normal|0.121|-0.056|0.046|0    |\n",
      "+-------------------+----------+---------+--------+-----------+-------+------+-----+------+-----+-----+\n",
      "\n"
     ]
    },
    {
     "name": "stderr",
     "output_type": "stream",
     "text": [
      "                                                                                \r"
     ]
    },
    {
     "name": "stdout",
     "output_type": "stream",
     "text": [
      "-------------------------------------------\n",
      "Batch: 330\n",
      "-------------------------------------------\n",
      "+-------------------+----------+---------+--------+-----------+-------+------+-----+------+-----+-----+\n",
      "|event_timestamp    |machine_id|vibration|acoustic|temperature|current|status|IMF_1|IMF_2 |IMF_3|label|\n",
      "+-------------------+----------+---------+--------+-----------+-------+------+-----+------+-----+-----+\n",
      "|2024-07-01 14:54:00|M01       |0.742    |0.585   |67.15      |11.98  |Normal|0.163|-0.053|0.046|0    |\n",
      "+-------------------+----------+---------+--------+-----------+-------+------+-----+------+-----+-----+\n",
      "\n"
     ]
    },
    {
     "name": "stderr",
     "output_type": "stream",
     "text": [
      "                                                                                \r"
     ]
    },
    {
     "name": "stdout",
     "output_type": "stream",
     "text": [
      "-------------------------------------------\n",
      "Batch: 331\n",
      "-------------------------------------------\n",
      "+-------------------+----------+---------+--------+-----------+-------+------+-----+-----+-----+-----+\n",
      "|event_timestamp    |machine_id|vibration|acoustic|temperature|current|status|IMF_1|IMF_2|IMF_3|label|\n",
      "+-------------------+----------+---------+--------+-----------+-------+------+-----+-----+-----+-----+\n",
      "|2024-07-01 14:55:00|M01       |0.89     |0.675   |68.22      |12.5   |Normal|0.175|0.009|0.045|0    |\n",
      "+-------------------+----------+---------+--------+-----------+-------+------+-----+-----+-----+-----+\n",
      "\n",
      "-------------------------------------------\n",
      "Batch: 332\n",
      "-------------------------------------------\n",
      "+-------------------+----------+---------+--------+-----------+-------+------+-----+------+-----+-----+\n",
      "|event_timestamp    |machine_id|vibration|acoustic|temperature|current|status|IMF_1|IMF_2 |IMF_3|label|\n",
      "+-------------------+----------+---------+--------+-----------+-------+------+-----+------+-----+-----+\n",
      "|2024-07-01 14:56:00|M01       |0.76     |0.548   |64.34      |12.68  |Normal|0.178|-0.051|0.045|0    |\n",
      "+-------------------+----------+---------+--------+-----------+-------+------+-----+------+-----+-----+\n",
      "\n",
      "-------------------------------------------\n",
      "Batch: 333\n",
      "-------------------------------------------\n",
      "+-------------------+----------+---------+--------+-----------+-------+------+-----+------+-----+-----+\n",
      "|event_timestamp    |machine_id|vibration|acoustic|temperature|current|status|IMF_1|IMF_2 |IMF_3|label|\n",
      "+-------------------+----------+---------+--------+-----------+-------+------+-----+------+-----+-----+\n",
      "|2024-07-01 14:57:00|M01       |0.839    |0.581   |60.65      |11.79  |Normal|0.126|-0.001|0.044|0    |\n",
      "+-------------------+----------+---------+--------+-----------+-------+------+-----+------+-----+-----+\n",
      "\n",
      "-------------------------------------------\n",
      "Batch: 334\n",
      "-------------------------------------------\n",
      "+-------------------+----------+---------+--------+-----------+-------+------+-----+-----+-----+-----+\n",
      "|event_timestamp    |machine_id|vibration|acoustic|temperature|current|status|IMF_1|IMF_2|IMF_3|label|\n",
      "+-------------------+----------+---------+--------+-----------+-------+------+-----+-----+-----+-----+\n",
      "|2024-07-01 14:58:00|M01       |0.759    |0.593   |70.73      |11.81  |Normal|0.221|0.106|0.044|0    |\n",
      "+-------------------+----------+---------+--------+-----------+-------+------+-----+-----+-----+-----+\n",
      "\n",
      "-------------------------------------------\n",
      "Batch: 335\n",
      "-------------------------------------------\n",
      "+-------------------+----------+---------+--------+-----------+-------+------+-----+------+-----+-----+\n",
      "|event_timestamp    |machine_id|vibration|acoustic|temperature|current|status|IMF_1|IMF_2 |IMF_3|label|\n",
      "+-------------------+----------+---------+--------+-----------+-------+------+-----+------+-----+-----+\n",
      "|2024-07-01 14:59:00|M01       |0.747    |0.552   |63.88      |12.06  |Normal|0.155|-0.014|0.043|0    |\n",
      "+-------------------+----------+---------+--------+-----------+-------+------+-----+------+-----+-----+\n",
      "\n"
     ]
    },
    {
     "name": "stderr",
     "output_type": "stream",
     "text": [
      "                                                                                \r"
     ]
    },
    {
     "name": "stdout",
     "output_type": "stream",
     "text": [
      "-------------------------------------------\n",
      "Batch: 336\n",
      "-------------------------------------------\n",
      "+-------------------+----------+---------+--------+-----------+-------+------+-----+-----+-----+-----+\n",
      "|event_timestamp    |machine_id|vibration|acoustic|temperature|current|status|IMF_1|IMF_2|IMF_3|label|\n",
      "+-------------------+----------+---------+--------+-----------+-------+------+-----+-----+-----+-----+\n",
      "|2024-07-01 15:00:00|M01       |0.889    |0.725   |68.15      |12.35  |Normal|0.172|0.077|0.043|0    |\n",
      "+-------------------+----------+---------+--------+-----------+-------+------+-----+-----+-----+-----+\n",
      "\n",
      "-------------------------------------------\n",
      "Batch: 337\n",
      "-------------------------------------------\n",
      "+-------------------+----------+---------+--------+-----------+-------+----------------+-----+-----+-----+-----+\n",
      "|event_timestamp    |machine_id|vibration|acoustic|temperature|current|status          |IMF_1|IMF_2|IMF_3|label|\n",
      "+-------------------+----------+---------+--------+-----------+-------+----------------+-----+-----+-----+-----+\n",
      "|2024-07-01 15:01:00|M01       |1.048    |0.749   |76.73      |15.2   |Failure Detected|0.115|0.117|0.042|1    |\n",
      "+-------------------+----------+---------+--------+-----------+-------+----------------+-----+-----+-----+-----+\n",
      "\n",
      "-------------------------------------------\n",
      "Batch: 338\n",
      "-------------------------------------------\n",
      "+-------------------+----------+---------+--------+-----------+-------+------+-----+-----+-----+-----+\n",
      "|event_timestamp    |machine_id|vibration|acoustic|temperature|current|status|IMF_1|IMF_2|IMF_3|label|\n",
      "+-------------------+----------+---------+--------+-----------+-------+------+-----+-----+-----+-----+\n",
      "|2024-07-01 15:02:00|M01       |0.796    |0.587   |65.54      |12.66  |Normal|0.2  |0.076|0.042|0    |\n",
      "+-------------------+----------+---------+--------+-----------+-------+------+-----+-----+-----+-----+\n",
      "\n"
     ]
    },
    {
     "name": "stderr",
     "output_type": "stream",
     "text": [
      "                                                                                \r"
     ]
    },
    {
     "name": "stdout",
     "output_type": "stream",
     "text": [
      "-------------------------------------------\n",
      "Batch: 339\n",
      "-------------------------------------------\n",
      "+-------------------+----------+---------+--------+-----------+-------+------+-----+------+-----+-----+\n",
      "|event_timestamp    |machine_id|vibration|acoustic|temperature|current|status|IMF_1|IMF_2 |IMF_3|label|\n",
      "+-------------------+----------+---------+--------+-----------+-------+------+-----+------+-----+-----+\n",
      "|2024-07-01 15:03:00|M01       |0.812    |0.64    |66.51      |12.51  |Normal|0.21 |-0.096|0.041|0    |\n",
      "+-------------------+----------+---------+--------+-----------+-------+------+-----+------+-----+-----+\n",
      "\n",
      "-------------------------------------------\n",
      "Batch: 340\n",
      "-------------------------------------------\n",
      "+-------------------+----------+---------+--------+-----------+-------+------+-----+------+-----+-----+\n",
      "|event_timestamp    |machine_id|vibration|acoustic|temperature|current|status|IMF_1|IMF_2 |IMF_3|label|\n",
      "+-------------------+----------+---------+--------+-----------+-------+------+-----+------+-----+-----+\n",
      "|2024-07-01 15:04:00|M01       |0.815    |0.678   |65.54      |11.96  |Normal|0.198|-0.122|0.041|0    |\n",
      "+-------------------+----------+---------+--------+-----------+-------+------+-----+------+-----+-----+\n",
      "\n"
     ]
    },
    {
     "name": "stderr",
     "output_type": "stream",
     "text": [
      "                                                                                \r"
     ]
    },
    {
     "name": "stdout",
     "output_type": "stream",
     "text": [
      "-------------------------------------------\n",
      "Batch: 341\n",
      "-------------------------------------------\n",
      "+-------------------+----------+---------+--------+-----------+-------+------+-----+-----+-----+-----+\n",
      "|event_timestamp    |machine_id|vibration|acoustic|temperature|current|status|IMF_1|IMF_2|IMF_3|label|\n",
      "+-------------------+----------+---------+--------+-----------+-------+------+-----+-----+-----+-----+\n",
      "|2024-07-01 15:05:00|M01       |0.734    |0.583   |67.28      |11.64  |Normal|0.191|0.111|0.04 |0    |\n",
      "+-------------------+----------+---------+--------+-----------+-------+------+-----+-----+-----+-----+\n",
      "\n",
      "-------------------------------------------\n",
      "Batch: 342\n",
      "-------------------------------------------\n",
      "+-------------------+----------+---------+--------+-----------+-------+------+-----+-----+-----+-----+\n",
      "|event_timestamp    |machine_id|vibration|acoustic|temperature|current|status|IMF_1|IMF_2|IMF_3|label|\n",
      "+-------------------+----------+---------+--------+-----------+-------+------+-----+-----+-----+-----+\n",
      "|2024-07-01 15:06:00|M01       |0.744    |0.644   |66.9       |13.09  |Normal|0.077|0.002|0.039|0    |\n",
      "+-------------------+----------+---------+--------+-----------+-------+------+-----+-----+-----+-----+\n",
      "\n"
     ]
    },
    {
     "name": "stderr",
     "output_type": "stream",
     "text": [
      "                                                                                \r"
     ]
    },
    {
     "name": "stdout",
     "output_type": "stream",
     "text": [
      "-------------------------------------------\n",
      "Batch: 343\n",
      "-------------------------------------------\n",
      "+-------------------+----------+---------+--------+-----------+-------+----------------+-----+------+-----+-----+\n",
      "|event_timestamp    |machine_id|vibration|acoustic|temperature|current|status          |IMF_1|IMF_2 |IMF_3|label|\n",
      "+-------------------+----------+---------+--------+-----------+-------+----------------+-----+------+-----+-----+\n",
      "|2024-07-01 15:07:00|M01       |1.262    |0.763   |83.0       |14.04  |Failure Detected|0.175|-0.026|0.039|1    |\n",
      "+-------------------+----------+---------+--------+-----------+-------+----------------+-----+------+-----+-----+\n",
      "\n"
     ]
    },
    {
     "name": "stderr",
     "output_type": "stream",
     "text": [
      "                                                                                \r"
     ]
    },
    {
     "name": "stdout",
     "output_type": "stream",
     "text": [
      "-------------------------------------------\n",
      "Batch: 344\n",
      "-------------------------------------------\n",
      "+-------------------+----------+---------+--------+-----------+-------+------+-----+------+-----+-----+\n",
      "|event_timestamp    |machine_id|vibration|acoustic|temperature|current|status|IMF_1|IMF_2 |IMF_3|label|\n",
      "+-------------------+----------+---------+--------+-----------+-------+------+-----+------+-----+-----+\n",
      "|2024-07-01 15:08:00|M01       |0.753    |0.603   |65.91      |11.17  |Normal|0.159|-0.045|0.038|0    |\n",
      "+-------------------+----------+---------+--------+-----------+-------+------+-----+------+-----+-----+\n",
      "\n",
      "-------------------------------------------\n",
      "Batch: 345\n",
      "-------------------------------------------\n",
      "+-------------------+----------+---------+--------+-----------+-------+------+-----+------+-----+-----+\n",
      "|event_timestamp    |machine_id|vibration|acoustic|temperature|current|status|IMF_1|IMF_2 |IMF_3|label|\n",
      "+-------------------+----------+---------+--------+-----------+-------+------+-----+------+-----+-----+\n",
      "|2024-07-01 15:09:00|M01       |0.811    |0.564   |64.6       |11.73  |Normal|0.152|-0.058|0.037|0    |\n",
      "+-------------------+----------+---------+--------+-----------+-------+------+-----+------+-----+-----+\n",
      "\n"
     ]
    },
    {
     "name": "stderr",
     "output_type": "stream",
     "text": [
      "                                                                                \r"
     ]
    },
    {
     "name": "stdout",
     "output_type": "stream",
     "text": [
      "-------------------------------------------\n",
      "Batch: 346\n",
      "-------------------------------------------\n",
      "+-------------------+----------+---------+--------+-----------+-------+------+-----+------+-----+-----+\n",
      "|event_timestamp    |machine_id|vibration|acoustic|temperature|current|status|IMF_1|IMF_2 |IMF_3|label|\n",
      "+-------------------+----------+---------+--------+-----------+-------+------+-----+------+-----+-----+\n",
      "|2024-07-01 15:10:00|M01       |0.761    |0.649   |65.01      |11.45  |Normal|0.082|-0.037|0.037|0    |\n",
      "+-------------------+----------+---------+--------+-----------+-------+------+-----+------+-----+-----+\n",
      "\n",
      "-------------------------------------------\n",
      "Batch: 347\n",
      "-------------------------------------------\n",
      "+-------------------+----------+---------+--------+-----------+-------+------+-----+-----+-----+-----+\n",
      "|event_timestamp    |machine_id|vibration|acoustic|temperature|current|status|IMF_1|IMF_2|IMF_3|label|\n",
      "+-------------------+----------+---------+--------+-----------+-------+------+-----+-----+-----+-----+\n",
      "|2024-07-01 15:11:00|M01       |0.773    |0.582   |66.87      |11.44  |Normal|0.103|-0.06|0.036|0    |\n",
      "+-------------------+----------+---------+--------+-----------+-------+------+-----+-----+-----+-----+\n",
      "\n",
      "-------------------------------------------\n",
      "Batch: 348\n",
      "-------------------------------------------\n",
      "+-------------------+----------+---------+--------+-----------+-------+------+-----+-----+-----+-----+\n",
      "|event_timestamp    |machine_id|vibration|acoustic|temperature|current|status|IMF_1|IMF_2|IMF_3|label|\n",
      "+-------------------+----------+---------+--------+-----------+-------+------+-----+-----+-----+-----+\n",
      "|2024-07-01 15:12:00|M01       |0.79     |0.536   |66.6       |11.97  |Normal|0.111|0.002|0.035|0    |\n",
      "+-------------------+----------+---------+--------+-----------+-------+------+-----+-----+-----+-----+\n",
      "\n",
      "-------------------------------------------\n",
      "Batch: 349\n",
      "-------------------------------------------\n",
      "+-------------------+----------+---------+--------+-----------+-------+------+-----+------+-----+-----+\n",
      "|event_timestamp    |machine_id|vibration|acoustic|temperature|current|status|IMF_1|IMF_2 |IMF_3|label|\n",
      "+-------------------+----------+---------+--------+-----------+-------+------+-----+------+-----+-----+\n",
      "|2024-07-01 15:13:00|M01       |0.81     |0.542   |67.1       |12.08  |Normal|0.116|-0.049|0.035|0    |\n",
      "+-------------------+----------+---------+--------+-----------+-------+------+-----+------+-----+-----+\n",
      "\n",
      "-------------------------------------------\n",
      "Batch: 350\n",
      "-------------------------------------------\n",
      "+-------------------+----------+---------+--------+-----------+-------+------+-----+-----+-----+-----+\n",
      "|event_timestamp    |machine_id|vibration|acoustic|temperature|current|status|IMF_1|IMF_2|IMF_3|label|\n",
      "+-------------------+----------+---------+--------+-----------+-------+------+-----+-----+-----+-----+\n",
      "|2024-07-01 15:14:00|M01       |0.711    |0.644   |63.67      |12.36  |Normal|0.164|0.108|0.034|0    |\n",
      "+-------------------+----------+---------+--------+-----------+-------+------+-----+-----+-----+-----+\n",
      "\n"
     ]
    },
    {
     "name": "stderr",
     "output_type": "stream",
     "text": [
      "                                                                                \r"
     ]
    },
    {
     "name": "stdout",
     "output_type": "stream",
     "text": [
      "-------------------------------------------\n",
      "Batch: 351\n",
      "-------------------------------------------\n",
      "+-------------------+----------+---------+--------+-----------+-------+------+-----+------+-----+-----+\n",
      "|event_timestamp    |machine_id|vibration|acoustic|temperature|current|status|IMF_1|IMF_2 |IMF_3|label|\n",
      "+-------------------+----------+---------+--------+-----------+-------+------+-----+------+-----+-----+\n",
      "|2024-07-01 15:15:00|M01       |0.765    |0.599   |63.02      |12.48  |Normal|0.088|-0.113|0.033|0    |\n",
      "+-------------------+----------+---------+--------+-----------+-------+------+-----+------+-----+-----+\n",
      "\n"
     ]
    },
    {
     "name": "stderr",
     "output_type": "stream",
     "text": [
      "                                                                                \r"
     ]
    },
    {
     "name": "stdout",
     "output_type": "stream",
     "text": [
      "-------------------------------------------\n",
      "Batch: 352\n",
      "-------------------------------------------\n",
      "+-------------------+----------+---------+--------+-----------+-------+------+-----+------+-----+-----+\n",
      "|event_timestamp    |machine_id|vibration|acoustic|temperature|current|status|IMF_1|IMF_2 |IMF_3|label|\n",
      "+-------------------+----------+---------+--------+-----------+-------+------+-----+------+-----+-----+\n",
      "|2024-07-01 15:16:00|M01       |0.804    |0.663   |63.73      |12.03  |Normal|0.089|-0.051|0.032|0    |\n",
      "+-------------------+----------+---------+--------+-----------+-------+------+-----+------+-----+-----+\n",
      "\n"
     ]
    },
    {
     "name": "stderr",
     "output_type": "stream",
     "text": [
      "                                                                                \r"
     ]
    },
    {
     "name": "stdout",
     "output_type": "stream",
     "text": [
      "-------------------------------------------\n",
      "Batch: 353\n",
      "-------------------------------------------\n",
      "+-------------------+----------+---------+--------+-----------+-------+------+-----+------+-----+-----+\n",
      "|event_timestamp    |machine_id|vibration|acoustic|temperature|current|status|IMF_1|IMF_2 |IMF_3|label|\n",
      "+-------------------+----------+---------+--------+-----------+-------+------+-----+------+-----+-----+\n",
      "|2024-07-01 15:17:00|M01       |0.797    |0.614   |64.72      |11.16  |Normal|0.21 |-0.083|0.032|0    |\n",
      "+-------------------+----------+---------+--------+-----------+-------+------+-----+------+-----+-----+\n",
      "\n",
      "-------------------------------------------\n",
      "Batch: 354\n",
      "-------------------------------------------\n",
      "+-------------------+----------+---------+--------+-----------+-------+------+-----+------+-----+-----+\n",
      "|event_timestamp    |machine_id|vibration|acoustic|temperature|current|status|IMF_1|IMF_2 |IMF_3|label|\n",
      "+-------------------+----------+---------+--------+-----------+-------+------+-----+------+-----+-----+\n",
      "|2024-07-01 15:18:00|M01       |0.748    |0.633   |66.99      |11.32  |Normal|0.186|-0.112|0.031|0    |\n",
      "+-------------------+----------+---------+--------+-----------+-------+------+-----+------+-----+-----+\n",
      "\n"
     ]
    },
    {
     "name": "stderr",
     "output_type": "stream",
     "text": [
      "                                                                                \r"
     ]
    },
    {
     "name": "stdout",
     "output_type": "stream",
     "text": [
      "-------------------------------------------\n",
      "Batch: 355\n",
      "-------------------------------------------\n",
      "+-------------------+----------+---------+--------+-----------+-------+------+-----+------+-----+-----+\n",
      "|event_timestamp    |machine_id|vibration|acoustic|temperature|current|status|IMF_1|IMF_2 |IMF_3|label|\n",
      "+-------------------+----------+---------+--------+-----------+-------+------+-----+------+-----+-----+\n",
      "|2024-07-01 15:19:00|M01       |0.702    |0.619   |63.98      |11.49  |Normal|0.131|-0.037|0.03 |0    |\n",
      "+-------------------+----------+---------+--------+-----------+-------+------+-----+------+-----+-----+\n",
      "\n"
     ]
    },
    {
     "name": "stderr",
     "output_type": "stream",
     "text": [
      "                                                                                \r"
     ]
    },
    {
     "name": "stdout",
     "output_type": "stream",
     "text": [
      "-------------------------------------------\n",
      "Batch: 356\n",
      "-------------------------------------------\n",
      "+-------------------+----------+---------+--------+-----------+-------+------+-----+------+-----+-----+\n",
      "|event_timestamp    |machine_id|vibration|acoustic|temperature|current|status|IMF_1|IMF_2 |IMF_3|label|\n",
      "+-------------------+----------+---------+--------+-----------+-------+------+-----+------+-----+-----+\n",
      "|2024-07-01 15:20:00|M01       |0.78     |0.582   |63.73      |13.0   |Normal|0.163|-0.004|0.029|0    |\n",
      "+-------------------+----------+---------+--------+-----------+-------+------+-----+------+-----+-----+\n",
      "\n",
      "-------------------------------------------\n",
      "Batch: 357\n",
      "-------------------------------------------\n",
      "+-------------------+----------+---------+--------+-----------+-------+------+-----+------+-----+-----+\n",
      "|event_timestamp    |machine_id|vibration|acoustic|temperature|current|status|IMF_1|IMF_2 |IMF_3|label|\n",
      "+-------------------+----------+---------+--------+-----------+-------+------+-----+------+-----+-----+\n",
      "|2024-07-01 15:21:00|M01       |0.805    |0.663   |64.84      |12.13  |Normal|0.124|-0.106|0.028|0    |\n",
      "+-------------------+----------+---------+--------+-----------+-------+------+-----+------+-----+-----+\n",
      "\n"
     ]
    },
    {
     "name": "stderr",
     "output_type": "stream",
     "text": [
      "                                                                                \r"
     ]
    },
    {
     "name": "stdout",
     "output_type": "stream",
     "text": [
      "-------------------------------------------\n",
      "Batch: 358\n",
      "-------------------------------------------\n",
      "+-------------------+----------+---------+--------+-----------+-------+------+-----+-----+-----+-----+\n",
      "|event_timestamp    |machine_id|vibration|acoustic|temperature|current|status|IMF_1|IMF_2|IMF_3|label|\n",
      "+-------------------+----------+---------+--------+-----------+-------+------+-----+-----+-----+-----+\n",
      "|2024-07-01 15:22:00|M01       |0.79     |0.614   |68.67      |11.45  |Normal|0.228|-0.01|0.028|0    |\n",
      "+-------------------+----------+---------+--------+-----------+-------+------+-----+-----+-----+-----+\n",
      "\n"
     ]
    },
    {
     "name": "stderr",
     "output_type": "stream",
     "text": [
      "                                                                                \r"
     ]
    },
    {
     "name": "stdout",
     "output_type": "stream",
     "text": [
      "-------------------------------------------\n",
      "Batch: 359\n",
      "-------------------------------------------\n",
      "+-------------------+----------+---------+--------+-----------+-------+------+-----+-----+-----+-----+\n",
      "|event_timestamp    |machine_id|vibration|acoustic|temperature|current|status|IMF_1|IMF_2|IMF_3|label|\n",
      "+-------------------+----------+---------+--------+-----------+-------+------+-----+-----+-----+-----+\n",
      "|2024-07-01 15:23:00|M01       |0.805    |0.593   |62.79      |11.91  |Normal|0.204|-0.09|0.027|0    |\n",
      "+-------------------+----------+---------+--------+-----------+-------+------+-----+-----+-----+-----+\n",
      "\n"
     ]
    },
    {
     "name": "stderr",
     "output_type": "stream",
     "text": [
      "                                                                                \r"
     ]
    },
    {
     "name": "stdout",
     "output_type": "stream",
     "text": [
      "-------------------------------------------\n",
      "Batch: 360\n",
      "-------------------------------------------\n",
      "+-------------------+----------+---------+--------+-----------+-------+------+-----+-----+-----+-----+\n",
      "|event_timestamp    |machine_id|vibration|acoustic|temperature|current|status|IMF_1|IMF_2|IMF_3|label|\n",
      "+-------------------+----------+---------+--------+-----------+-------+------+-----+-----+-----+-----+\n",
      "|2024-07-01 15:24:00|M01       |0.725    |0.674   |69.25      |11.9   |Normal|0.083|0.076|0.026|0    |\n",
      "+-------------------+----------+---------+--------+-----------+-------+------+-----+-----+-----+-----+\n",
      "\n"
     ]
    },
    {
     "name": "stderr",
     "output_type": "stream",
     "text": [
      "                                                                                \r"
     ]
    },
    {
     "name": "stdout",
     "output_type": "stream",
     "text": [
      "-------------------------------------------\n",
      "Batch: 361\n",
      "-------------------------------------------\n",
      "+-------------------+----------+---------+--------+-----------+-------+------+-----+------+-----+-----+\n",
      "|event_timestamp    |machine_id|vibration|acoustic|temperature|current|status|IMF_1|IMF_2 |IMF_3|label|\n",
      "+-------------------+----------+---------+--------+-----------+-------+------+-----+------+-----+-----+\n",
      "|2024-07-01 15:25:00|M01       |0.763    |0.7     |65.81      |12.33  |Normal|0.212|-0.129|0.025|0    |\n",
      "+-------------------+----------+---------+--------+-----------+-------+------+-----+------+-----+-----+\n",
      "\n"
     ]
    },
    {
     "name": "stderr",
     "output_type": "stream",
     "text": [
      "                                                                                \r"
     ]
    },
    {
     "name": "stdout",
     "output_type": "stream",
     "text": [
      "-------------------------------------------\n",
      "Batch: 362\n",
      "-------------------------------------------\n",
      "+-------------------+----------+---------+--------+-----------+-------+------+-----+-----+-----+-----+\n",
      "|event_timestamp    |machine_id|vibration|acoustic|temperature|current|status|IMF_1|IMF_2|IMF_3|label|\n",
      "+-------------------+----------+---------+--------+-----------+-------+------+-----+-----+-----+-----+\n",
      "|2024-07-01 15:26:00|M01       |0.785    |0.631   |65.09      |12.21  |Normal|0.17 |0.098|0.024|0    |\n",
      "+-------------------+----------+---------+--------+-----------+-------+------+-----+-----+-----+-----+\n",
      "\n",
      "-------------------------------------------\n",
      "Batch: 363\n",
      "-------------------------------------------\n",
      "+-------------------+----------+---------+--------+-----------+-------+------+-----+------+-----+-----+\n",
      "|event_timestamp    |machine_id|vibration|acoustic|temperature|current|status|IMF_1|IMF_2 |IMF_3|label|\n",
      "+-------------------+----------+---------+--------+-----------+-------+------+-----+------+-----+-----+\n",
      "|2024-07-01 15:27:00|M01       |0.82     |0.608   |66.96      |11.42  |Normal|0.231|-0.011|0.023|0    |\n",
      "+-------------------+----------+---------+--------+-----------+-------+------+-----+------+-----+-----+\n",
      "\n"
     ]
    },
    {
     "name": "stderr",
     "output_type": "stream",
     "text": [
      "                                                                                \r"
     ]
    },
    {
     "name": "stdout",
     "output_type": "stream",
     "text": [
      "-------------------------------------------\n",
      "Batch: 364\n",
      "-------------------------------------------\n",
      "+-------------------+----------+---------+--------+-----------+-------+------+-----+------+-----+-----+\n",
      "|event_timestamp    |machine_id|vibration|acoustic|temperature|current|status|IMF_1|IMF_2 |IMF_3|label|\n",
      "+-------------------+----------+---------+--------+-----------+-------+------+-----+------+-----+-----+\n",
      "|2024-07-01 15:28:00|M01       |0.776    |0.608   |63.07      |11.87  |Normal|0.167|-0.113|0.022|0    |\n",
      "+-------------------+----------+---------+--------+-----------+-------+------+-----+------+-----+-----+\n",
      "\n"
     ]
    },
    {
     "name": "stderr",
     "output_type": "stream",
     "text": [
      "                                                                                \r"
     ]
    },
    {
     "name": "stdout",
     "output_type": "stream",
     "text": [
      "-------------------------------------------\n",
      "Batch: 365\n",
      "-------------------------------------------\n",
      "+-------------------+----------+---------+--------+-----------+-------+------+-----+-----+-----+-----+\n",
      "|event_timestamp    |machine_id|vibration|acoustic|temperature|current|status|IMF_1|IMF_2|IMF_3|label|\n",
      "+-------------------+----------+---------+--------+-----------+-------+------+-----+-----+-----+-----+\n",
      "|2024-07-01 15:29:00|M01       |0.806    |0.613   |64.2       |12.79  |Normal|0.218|-0.02|0.022|0    |\n",
      "+-------------------+----------+---------+--------+-----------+-------+------+-----+-----+-----+-----+\n",
      "\n"
     ]
    },
    {
     "name": "stderr",
     "output_type": "stream",
     "text": [
      "                                                                                \r"
     ]
    },
    {
     "name": "stdout",
     "output_type": "stream",
     "text": [
      "-------------------------------------------\n",
      "Batch: 366\n",
      "-------------------------------------------\n",
      "+-------------------+----------+---------+--------+-----------+-------+------+-----+-----+-----+-----+\n",
      "|event_timestamp    |machine_id|vibration|acoustic|temperature|current|status|IMF_1|IMF_2|IMF_3|label|\n",
      "+-------------------+----------+---------+--------+-----------+-------+------+-----+-----+-----+-----+\n",
      "|2024-07-01 15:30:00|M01       |0.812    |0.674   |65.8       |12.33  |Normal|0.221|0.097|0.021|0    |\n",
      "+-------------------+----------+---------+--------+-----------+-------+------+-----+-----+-----+-----+\n",
      "\n",
      "-------------------------------------------\n",
      "Batch: 367\n",
      "-------------------------------------------\n",
      "+-------------------+----------+---------+--------+-----------+-------+------+-----+-----+-----+-----+\n",
      "|event_timestamp    |machine_id|vibration|acoustic|temperature|current|status|IMF_1|IMF_2|IMF_3|label|\n",
      "+-------------------+----------+---------+--------+-----------+-------+------+-----+-----+-----+-----+\n",
      "|2024-07-01 15:31:00|M01       |0.75     |0.516   |62.15      |12.53  |Normal|0.08 |0.034|0.02 |0    |\n",
      "+-------------------+----------+---------+--------+-----------+-------+------+-----+-----+-----+-----+\n",
      "\n"
     ]
    },
    {
     "name": "stderr",
     "output_type": "stream",
     "text": [
      "                                                                                \r"
     ]
    },
    {
     "name": "stdout",
     "output_type": "stream",
     "text": [
      "-------------------------------------------\n",
      "Batch: 368\n",
      "-------------------------------------------\n",
      "+-------------------+----------+---------+--------+-----------+-------+----------------+-----+------+-----+-----+\n",
      "|event_timestamp    |machine_id|vibration|acoustic|temperature|current|status          |IMF_1|IMF_2 |IMF_3|label|\n",
      "+-------------------+----------+---------+--------+-----------+-------+----------------+-----+------+-----+-----+\n",
      "|2024-07-01 15:32:00|M01       |1.204    |0.833   |77.79      |14.08  |Failure Detected|0.246|-0.146|0.019|1    |\n",
      "+-------------------+----------+---------+--------+-----------+-------+----------------+-----+------+-----+-----+\n",
      "\n",
      "-------------------------------------------\n",
      "Batch: 369\n",
      "-------------------------------------------\n",
      "+-------------------+----------+---------+--------+-----------+-------+------+-----+-----+-----+-----+\n",
      "|event_timestamp    |machine_id|vibration|acoustic|temperature|current|status|IMF_1|IMF_2|IMF_3|label|\n",
      "+-------------------+----------+---------+--------+-----------+-------+------+-----+-----+-----+-----+\n",
      "|2024-07-01 15:33:00|M01       |0.756    |0.582   |64.74      |12.5   |Normal|0.161|0.044|0.018|0    |\n",
      "+-------------------+----------+---------+--------+-----------+-------+------+-----+-----+-----+-----+\n",
      "\n",
      "-------------------------------------------\n",
      "Batch: 370\n",
      "-------------------------------------------\n",
      "+-------------------+----------+---------+--------+-----------+-------+------+-----+------+-----+-----+\n",
      "|event_timestamp    |machine_id|vibration|acoustic|temperature|current|status|IMF_1|IMF_2 |IMF_3|label|\n",
      "+-------------------+----------+---------+--------+-----------+-------+------+-----+------+-----+-----+\n",
      "|2024-07-01 15:34:00|M01       |0.757    |0.579   |64.88      |11.94  |Normal|0.209|-0.042|0.017|0    |\n",
      "+-------------------+----------+---------+--------+-----------+-------+------+-----+------+-----+-----+\n",
      "\n"
     ]
    },
    {
     "name": "stderr",
     "output_type": "stream",
     "text": [
      "                                                                                \r"
     ]
    },
    {
     "name": "stdout",
     "output_type": "stream",
     "text": [
      "-------------------------------------------\n",
      "Batch: 371\n",
      "-------------------------------------------\n",
      "+-------------------+----------+---------+--------+-----------+-------+------+-----+------+-----+-----+\n",
      "|event_timestamp    |machine_id|vibration|acoustic|temperature|current|status|IMF_1|IMF_2 |IMF_3|label|\n",
      "+-------------------+----------+---------+--------+-----------+-------+------+-----+------+-----+-----+\n",
      "|2024-07-01 15:35:00|M01       |0.731    |0.531   |63.12      |11.91  |Normal|0.086|-0.004|0.016|0    |\n",
      "+-------------------+----------+---------+--------+-----------+-------+------+-----+------+-----+-----+\n",
      "\n",
      "-------------------------------------------\n",
      "Batch: 372\n",
      "-------------------------------------------\n",
      "+-------------------+----------+---------+--------+-----------+-------+------+-----+-----+-----+-----+\n",
      "|event_timestamp    |machine_id|vibration|acoustic|temperature|current|status|IMF_1|IMF_2|IMF_3|label|\n",
      "+-------------------+----------+---------+--------+-----------+-------+------+-----+-----+-----+-----+\n",
      "|2024-07-01 15:36:00|M01       |0.818    |0.556   |60.71      |11.89  |Normal|0.144|0.059|0.015|0    |\n",
      "+-------------------+----------+---------+--------+-----------+-------+------+-----+-----+-----+-----+\n",
      "\n"
     ]
    },
    {
     "name": "stderr",
     "output_type": "stream",
     "text": [
      "                                                                                \r"
     ]
    },
    {
     "name": "stdout",
     "output_type": "stream",
     "text": [
      "-------------------------------------------\n",
      "Batch: 373\n",
      "-------------------------------------------\n",
      "+-------------------+----------+---------+--------+-----------+-------+------+-----+-----+-----+-----+\n",
      "|event_timestamp    |machine_id|vibration|acoustic|temperature|current|status|IMF_1|IMF_2|IMF_3|label|\n",
      "+-------------------+----------+---------+--------+-----------+-------+------+-----+-----+-----+-----+\n",
      "|2024-07-01 15:37:00|M01       |0.862    |0.619   |67.12      |11.34  |Normal|0.105|0.068|0.014|0    |\n",
      "+-------------------+----------+---------+--------+-----------+-------+------+-----+-----+-----+-----+\n",
      "\n",
      "-------------------------------------------\n",
      "Batch: 374\n",
      "-------------------------------------------\n",
      "+-------------------+----------+---------+--------+-----------+-------+------+-----+-----+-----+-----+\n",
      "|event_timestamp    |machine_id|vibration|acoustic|temperature|current|status|IMF_1|IMF_2|IMF_3|label|\n",
      "+-------------------+----------+---------+--------+-----------+-------+------+-----+-----+-----+-----+\n",
      "|2024-07-01 15:38:00|M01       |0.829    |0.637   |68.22      |11.96  |Normal|0.167|0.053|0.013|0    |\n",
      "+-------------------+----------+---------+--------+-----------+-------+------+-----+-----+-----+-----+\n",
      "\n"
     ]
    },
    {
     "name": "stderr",
     "output_type": "stream",
     "text": [
      "                                                                                \r"
     ]
    },
    {
     "name": "stdout",
     "output_type": "stream",
     "text": [
      "-------------------------------------------\n",
      "Batch: 375\n",
      "-------------------------------------------\n",
      "+-------------------+----------+---------+--------+-----------+-------+------+-----+-----+-----+-----+\n",
      "|event_timestamp    |machine_id|vibration|acoustic|temperature|current|status|IMF_1|IMF_2|IMF_3|label|\n",
      "+-------------------+----------+---------+--------+-----------+-------+------+-----+-----+-----+-----+\n",
      "|2024-07-01 15:39:00|M01       |0.768    |0.598   |65.96      |13.14  |Normal|0.096|0.082|0.012|0    |\n",
      "+-------------------+----------+---------+--------+-----------+-------+------+-----+-----+-----+-----+\n",
      "\n",
      "-------------------------------------------\n",
      "Batch: 376\n",
      "-------------------------------------------\n",
      "+-------------------+----------+---------+--------+-----------+-------+------+-----+-----+-----+-----+\n",
      "|event_timestamp    |machine_id|vibration|acoustic|temperature|current|status|IMF_1|IMF_2|IMF_3|label|\n",
      "+-------------------+----------+---------+--------+-----------+-------+------+-----+-----+-----+-----+\n",
      "|2024-07-01 15:40:00|M01       |0.856    |0.58    |64.64      |13.08  |Normal|0.097|0.095|0.011|0    |\n",
      "+-------------------+----------+---------+--------+-----------+-------+------+-----+-----+-----+-----+\n",
      "\n",
      "-------------------------------------------\n",
      "Batch: 377\n",
      "-------------------------------------------\n",
      "+-------------------+----------+---------+--------+-----------+-------+------+-----+------+-----+-----+\n",
      "|event_timestamp    |machine_id|vibration|acoustic|temperature|current|status|IMF_1|IMF_2 |IMF_3|label|\n",
      "+-------------------+----------+---------+--------+-----------+-------+------+-----+------+-----+-----+\n",
      "|2024-07-01 15:41:00|M01       |0.767    |0.612   |62.03      |12.61  |Normal|0.088|-0.078|0.01 |0    |\n",
      "+-------------------+----------+---------+--------+-----------+-------+------+-----+------+-----+-----+\n",
      "\n",
      "-------------------------------------------\n",
      "Batch: 378\n",
      "-------------------------------------------\n",
      "+-------------------+----------+---------+--------+-----------+-------+------+-----+-----+-----+-----+\n",
      "|event_timestamp    |machine_id|vibration|acoustic|temperature|current|status|IMF_1|IMF_2|IMF_3|label|\n",
      "+-------------------+----------+---------+--------+-----------+-------+------+-----+-----+-----+-----+\n",
      "|2024-07-01 15:42:00|M01       |0.794    |0.513   |67.22      |11.79  |Normal|0.211|0.057|0.009|0    |\n",
      "+-------------------+----------+---------+--------+-----------+-------+------+-----+-----+-----+-----+\n",
      "\n",
      "-------------------------------------------\n",
      "Batch: 379\n",
      "-------------------------------------------\n",
      "+-------------------+----------+---------+--------+-----------+-------+------+-----+-----+-----+-----+\n",
      "|event_timestamp    |machine_id|vibration|acoustic|temperature|current|status|IMF_1|IMF_2|IMF_3|label|\n",
      "+-------------------+----------+---------+--------+-----------+-------+------+-----+-----+-----+-----+\n",
      "|2024-07-01 15:43:00|M01       |0.845    |0.579   |63.64      |11.94  |Normal|0.249|-0.05|0.008|0    |\n",
      "+-------------------+----------+---------+--------+-----------+-------+------+-----+-----+-----+-----+\n",
      "\n",
      "-------------------------------------------\n",
      "Batch: 380\n",
      "-------------------------------------------\n",
      "+-------------------+----------+---------+--------+-----------+-------+----------------+-----+-----+-----+-----+\n",
      "|event_timestamp    |machine_id|vibration|acoustic|temperature|current|status          |IMF_1|IMF_2|IMF_3|label|\n",
      "+-------------------+----------+---------+--------+-----------+-------+----------------+-----+-----+-----+-----+\n",
      "|2024-07-01 15:44:00|M01       |1.246    |0.928   |73.98      |14.24  |Failure Detected|0.243|0.138|0.007|1    |\n",
      "+-------------------+----------+---------+--------+-----------+-------+----------------+-----+-----+-----+-----+\n",
      "\n",
      "-------------------------------------------\n",
      "Batch: 381\n",
      "-------------------------------------------\n",
      "+-------------------+----------+---------+--------+-----------+-------+----------------+-----+-----+-----+-----+\n",
      "|event_timestamp    |machine_id|vibration|acoustic|temperature|current|status          |IMF_1|IMF_2|IMF_3|label|\n",
      "+-------------------+----------+---------+--------+-----------+-------+----------------+-----+-----+-----+-----+\n",
      "|2024-07-01 15:45:00|M01       |1.158    |0.982   |74.95      |14.26  |Failure Detected|0.202|0.082|0.006|1    |\n",
      "+-------------------+----------+---------+--------+-----------+-------+----------------+-----+-----+-----+-----+\n",
      "\n",
      "-------------------------------------------\n",
      "Batch: 382\n",
      "-------------------------------------------\n",
      "+-------------------+----------+---------+--------+-----------+-------+------+-----+------+-----+-----+\n",
      "|event_timestamp    |machine_id|vibration|acoustic|temperature|current|status|IMF_1|IMF_2 |IMF_3|label|\n",
      "+-------------------+----------+---------+--------+-----------+-------+------+-----+------+-----+-----+\n",
      "|2024-07-01 15:46:00|M01       |0.806    |0.617   |62.62      |11.98  |Normal|0.108|-0.123|0.005|0    |\n",
      "+-------------------+----------+---------+--------+-----------+-------+------+-----+------+-----+-----+\n",
      "\n",
      "-------------------------------------------\n",
      "Batch: 383\n",
      "-------------------------------------------\n",
      "+-------------------+----------+---------+--------+-----------+-------+------+-----+-----+-----+-----+\n",
      "|event_timestamp    |machine_id|vibration|acoustic|temperature|current|status|IMF_1|IMF_2|IMF_3|label|\n",
      "+-------------------+----------+---------+--------+-----------+-------+------+-----+-----+-----+-----+\n",
      "|2024-07-01 15:47:00|M01       |0.845    |0.613   |67.4       |11.37  |Normal|0.154|0.031|0.004|0    |\n",
      "+-------------------+----------+---------+--------+-----------+-------+------+-----+-----+-----+-----+\n",
      "\n",
      "-------------------------------------------\n",
      "Batch: 384\n",
      "-------------------------------------------\n",
      "+-------------------+----------+---------+--------+-----------+-------+------+-----+-----+-----+-----+\n",
      "|event_timestamp    |machine_id|vibration|acoustic|temperature|current|status|IMF_1|IMF_2|IMF_3|label|\n",
      "+-------------------+----------+---------+--------+-----------+-------+------+-----+-----+-----+-----+\n",
      "|2024-07-01 15:48:00|M01       |0.779    |0.648   |69.44      |12.77  |Normal|0.104|0.062|0.003|0    |\n",
      "+-------------------+----------+---------+--------+-----------+-------+------+-----+-----+-----+-----+\n",
      "\n",
      "-------------------------------------------\n",
      "Batch: 385\n",
      "-------------------------------------------\n",
      "+-------------------+----------+---------+--------+-----------+-------+------+-----+-----+-----+-----+\n",
      "|event_timestamp    |machine_id|vibration|acoustic|temperature|current|status|IMF_1|IMF_2|IMF_3|label|\n",
      "+-------------------+----------+---------+--------+-----------+-------+------+-----+-----+-----+-----+\n",
      "|2024-07-01 15:49:00|M01       |0.785    |0.598   |66.59      |12.35  |Normal|0.192|0.065|0.002|0    |\n",
      "+-------------------+----------+---------+--------+-----------+-------+------+-----+-----+-----+-----+\n",
      "\n",
      "-------------------------------------------\n",
      "Batch: 386\n",
      "-------------------------------------------\n",
      "+-------------------+----------+---------+--------+-----------+-------+------+-----+------+-----+-----+\n",
      "|event_timestamp    |machine_id|vibration|acoustic|temperature|current|status|IMF_1|IMF_2 |IMF_3|label|\n",
      "+-------------------+----------+---------+--------+-----------+-------+------+-----+------+-----+-----+\n",
      "|2024-07-01 15:50:00|M01       |0.876    |0.607   |62.77      |11.98  |Normal|0.139|-0.071|0.001|0    |\n",
      "+-------------------+----------+---------+--------+-----------+-------+------+-----+------+-----+-----+\n",
      "\n",
      "-------------------------------------------\n",
      "Batch: 387\n",
      "-------------------------------------------\n",
      "+-------------------+----------+---------+--------+-----------+-------+------+-----+------+-----+-----+\n",
      "|event_timestamp    |machine_id|vibration|acoustic|temperature|current|status|IMF_1|IMF_2 |IMF_3|label|\n",
      "+-------------------+----------+---------+--------+-----------+-------+------+-----+------+-----+-----+\n",
      "|2024-07-01 15:51:00|M01       |0.909    |0.651   |62.25      |11.64  |Normal|0.137|-0.128|0.0  |0    |\n",
      "+-------------------+----------+---------+--------+-----------+-------+------+-----+------+-----+-----+\n",
      "\n",
      "-------------------------------------------\n",
      "Batch: 388\n",
      "-------------------------------------------\n",
      "+-------------------+----------+---------+--------+-----------+-------+----------------+-----+------+------+-----+\n",
      "|event_timestamp    |machine_id|vibration|acoustic|temperature|current|status          |IMF_1|IMF_2 |IMF_3 |label|\n",
      "+-------------------+----------+---------+--------+-----------+-------+----------------+-----+------+------+-----+\n",
      "|2024-07-01 15:52:00|M01       |1.133    |0.973   |75.95      |16.17  |Failure Detected|0.297|-0.009|-0.001|1    |\n",
      "+-------------------+----------+---------+--------+-----------+-------+----------------+-----+------+------+-----+\n",
      "\n",
      "-------------------------------------------\n",
      "Batch: 389\n",
      "-------------------------------------------\n",
      "+-------------------+----------+---------+--------+-----------+-------+------+-----+-----+------+-----+\n",
      "|event_timestamp    |machine_id|vibration|acoustic|temperature|current|status|IMF_1|IMF_2|IMF_3 |label|\n",
      "+-------------------+----------+---------+--------+-----------+-------+------+-----+-----+------+-----+\n",
      "|2024-07-01 15:53:00|M01       |0.821    |0.529   |63.88      |12.28  |Normal|0.148|-0.04|-0.002|0    |\n",
      "+-------------------+----------+---------+--------+-----------+-------+------+-----+-----+------+-----+\n",
      "\n",
      "-------------------------------------------\n",
      "Batch: 390\n",
      "-------------------------------------------\n",
      "+-------------------+----------+---------+--------+-----------+-------+------+-----+-----+------+-----+\n",
      "|event_timestamp    |machine_id|vibration|acoustic|temperature|current|status|IMF_1|IMF_2|IMF_3 |label|\n",
      "+-------------------+----------+---------+--------+-----------+-------+------+-----+-----+------+-----+\n",
      "|2024-07-01 15:54:00|M01       |0.761    |0.618   |62.28      |11.91  |Normal|0.227|0.0  |-0.003|0    |\n",
      "+-------------------+----------+---------+--------+-----------+-------+------+-----+-----+------+-----+\n",
      "\n",
      "-------------------------------------------\n",
      "Batch: 391\n",
      "-------------------------------------------\n",
      "+-------------------+----------+---------+--------+-----------+-------+------+-----+------+------+-----+\n",
      "|event_timestamp    |machine_id|vibration|acoustic|temperature|current|status|IMF_1|IMF_2 |IMF_3 |label|\n",
      "+-------------------+----------+---------+--------+-----------+-------+------+-----+------+------+-----+\n",
      "|2024-07-01 15:55:00|M01       |0.816    |0.622   |65.72      |11.65  |Normal|0.24 |-0.087|-0.004|0    |\n",
      "+-------------------+----------+---------+--------+-----------+-------+------+-----+------+------+-----+\n",
      "\n"
     ]
    },
    {
     "name": "stderr",
     "output_type": "stream",
     "text": [
      "                                                                                \r"
     ]
    },
    {
     "name": "stdout",
     "output_type": "stream",
     "text": [
      "-------------------------------------------\n",
      "Batch: 392\n",
      "-------------------------------------------\n",
      "+-------------------+----------+---------+--------+-----------+-------+------+-----+-----+------+-----+\n",
      "|event_timestamp    |machine_id|vibration|acoustic|temperature|current|status|IMF_1|IMF_2|IMF_3 |label|\n",
      "+-------------------+----------+---------+--------+-----------+-------+------+-----+-----+------+-----+\n",
      "|2024-07-01 15:56:00|M01       |0.811    |0.583   |65.84      |12.26  |Normal|0.167|0.091|-0.005|0    |\n",
      "+-------------------+----------+---------+--------+-----------+-------+------+-----+-----+------+-----+\n",
      "\n",
      "-------------------------------------------\n",
      "Batch: 393\n",
      "-------------------------------------------\n",
      "+-------------------+----------+---------+--------+-----------+-------+------+-----+-----+------+-----+\n",
      "|event_timestamp    |machine_id|vibration|acoustic|temperature|current|status|IMF_1|IMF_2|IMF_3 |label|\n",
      "+-------------------+----------+---------+--------+-----------+-------+------+-----+-----+------+-----+\n",
      "|2024-07-01 15:57:00|M01       |0.805    |0.59    |65.58      |11.76  |Normal|0.11 |0.097|-0.006|0    |\n",
      "+-------------------+----------+---------+--------+-----------+-------+------+-----+-----+------+-----+\n",
      "\n"
     ]
    },
    {
     "name": "stderr",
     "output_type": "stream",
     "text": [
      "                                                                                \r"
     ]
    },
    {
     "name": "stdout",
     "output_type": "stream",
     "text": [
      "-------------------------------------------\n",
      "Batch: 394\n",
      "-------------------------------------------\n",
      "+-------------------+----------+---------+--------+-----------+-------+----------------+-----+------+------+-----+\n",
      "|event_timestamp    |machine_id|vibration|acoustic|temperature|current|status          |IMF_1|IMF_2 |IMF_3 |label|\n",
      "+-------------------+----------+---------+--------+-----------+-------+----------------+-----+------+------+-----+\n",
      "|2024-07-01 15:58:00|M01       |1.193    |0.978   |75.86      |15.57  |Failure Detected|0.155|-0.062|-0.007|1    |\n",
      "+-------------------+----------+---------+--------+-----------+-------+----------------+-----+------+------+-----+\n",
      "\n"
     ]
    },
    {
     "name": "stderr",
     "output_type": "stream",
     "text": [
      "                                                                                \r"
     ]
    },
    {
     "name": "stdout",
     "output_type": "stream",
     "text": [
      "-------------------------------------------\n",
      "Batch: 395\n",
      "-------------------------------------------\n",
      "+-------------------+----------+---------+--------+-----------+-------+------+-----+-----+------+-----+\n",
      "|event_timestamp    |machine_id|vibration|acoustic|temperature|current|status|IMF_1|IMF_2|IMF_3 |label|\n",
      "+-------------------+----------+---------+--------+-----------+-------+------+-----+-----+------+-----+\n",
      "|2024-07-01 15:59:00|M01       |0.823    |0.583   |65.26      |11.91  |Normal|0.227|0.023|-0.008|0    |\n",
      "+-------------------+----------+---------+--------+-----------+-------+------+-----+-----+------+-----+\n",
      "\n",
      "-------------------------------------------\n",
      "Batch: 396\n",
      "-------------------------------------------\n",
      "+-------------------+----------+---------+--------+-----------+-------+------+-----+------+------+-----+\n",
      "|event_timestamp    |machine_id|vibration|acoustic|temperature|current|status|IMF_1|IMF_2 |IMF_3 |label|\n",
      "+-------------------+----------+---------+--------+-----------+-------+------+-----+------+------+-----+\n",
      "|2024-07-01 16:00:00|M01       |0.81     |0.529   |64.21      |12.46  |Normal|0.224|-0.016|-0.009|0    |\n",
      "+-------------------+----------+---------+--------+-----------+-------+------+-----+------+------+-----+\n",
      "\n",
      "-------------------------------------------\n",
      "Batch: 397\n",
      "-------------------------------------------\n",
      "+-------------------+----------+---------+--------+-----------+-------+------+-----+-----+-----+-----+\n",
      "|event_timestamp    |machine_id|vibration|acoustic|temperature|current|status|IMF_1|IMF_2|IMF_3|label|\n",
      "+-------------------+----------+---------+--------+-----------+-------+------+-----+-----+-----+-----+\n",
      "|2024-07-01 16:01:00|M01       |0.826    |0.524   |66.92      |12.12  |Normal|0.111|0.097|-0.01|0    |\n",
      "+-------------------+----------+---------+--------+-----------+-------+------+-----+-----+-----+-----+\n",
      "\n",
      "-------------------------------------------\n",
      "Batch: 398\n",
      "-------------------------------------------\n",
      "+-------------------+----------+---------+--------+-----------+-------+------+-----+------+------+-----+\n",
      "|event_timestamp    |machine_id|vibration|acoustic|temperature|current|status|IMF_1|IMF_2 |IMF_3 |label|\n",
      "+-------------------+----------+---------+--------+-----------+-------+------+-----+------+------+-----+\n",
      "|2024-07-01 16:02:00|M01       |0.826    |0.614   |66.0       |12.83  |Normal|0.144|-0.082|-0.011|0    |\n",
      "+-------------------+----------+---------+--------+-----------+-------+------+-----+------+------+-----+\n",
      "\n",
      "-------------------------------------------\n",
      "Batch: 399\n",
      "-------------------------------------------\n",
      "+-------------------+----------+---------+--------+-----------+-------+------+-----+------+------+-----+\n",
      "|event_timestamp    |machine_id|vibration|acoustic|temperature|current|status|IMF_1|IMF_2 |IMF_3 |label|\n",
      "+-------------------+----------+---------+--------+-----------+-------+------+-----+------+------+-----+\n",
      "|2024-07-01 16:03:00|M01       |0.721    |0.611   |65.16      |13.05  |Normal|0.185|-0.054|-0.012|0    |\n",
      "+-------------------+----------+---------+--------+-----------+-------+------+-----+------+------+-----+\n",
      "\n",
      "-------------------------------------------\n",
      "Batch: 400\n",
      "-------------------------------------------\n",
      "+-------------------+----------+---------+--------+-----------+-------+----------------+-----+-----+------+-----+\n",
      "|event_timestamp    |machine_id|vibration|acoustic|temperature|current|status          |IMF_1|IMF_2|IMF_3 |label|\n",
      "+-------------------+----------+---------+--------+-----------+-------+----------------+-----+-----+------+-----+\n",
      "|2024-07-01 16:04:00|M01       |1.112    |0.978   |77.02      |16.23  |Failure Detected|0.27 |0.079|-0.013|1    |\n",
      "+-------------------+----------+---------+--------+-----------+-------+----------------+-----+-----+------+-----+\n",
      "\n",
      "-------------------------------------------\n",
      "Batch: 401\n",
      "-------------------------------------------\n",
      "+-------------------+----------+---------+--------+-----------+-------+------+-----+-----+------+-----+\n",
      "|event_timestamp    |machine_id|vibration|acoustic|temperature|current|status|IMF_1|IMF_2|IMF_3 |label|\n",
      "+-------------------+----------+---------+--------+-----------+-------+------+-----+-----+------+-----+\n",
      "|2024-07-01 16:05:00|M01       |0.782    |0.666   |64.21      |12.26  |Normal|0.153|0.05 |-0.014|0    |\n",
      "+-------------------+----------+---------+--------+-----------+-------+------+-----+-----+------+-----+\n",
      "\n",
      "-------------------------------------------\n",
      "Batch: 402\n",
      "-------------------------------------------\n",
      "+-------------------+----------+---------+--------+-----------+-------+------+-----+-----+------+-----+\n",
      "|event_timestamp    |machine_id|vibration|acoustic|temperature|current|status|IMF_1|IMF_2|IMF_3 |label|\n",
      "+-------------------+----------+---------+--------+-----------+-------+------+-----+-----+------+-----+\n",
      "|2024-07-01 16:06:00|M01       |0.812    |0.631   |67.08      |11.44  |Normal|0.22 |0.076|-0.015|0    |\n",
      "+-------------------+----------+---------+--------+-----------+-------+------+-----+-----+------+-----+\n",
      "\n",
      "-------------------------------------------\n",
      "Batch: 403\n",
      "-------------------------------------------\n",
      "+-------------------+----------+---------+--------+-----------+-------+----------------+-----+------+------+-----+\n",
      "|event_timestamp    |machine_id|vibration|acoustic|temperature|current|status          |IMF_1|IMF_2 |IMF_3 |label|\n",
      "+-------------------+----------+---------+--------+-----------+-------+----------------+-----+------+------+-----+\n",
      "|2024-07-01 16:07:00|M01       |1.177    |0.989   |79.42      |14.65  |Failure Detected|0.28 |-0.023|-0.016|1    |\n",
      "+-------------------+----------+---------+--------+-----------+-------+----------------+-----+------+------+-----+\n",
      "\n",
      "-------------------------------------------\n",
      "Batch: 404\n",
      "-------------------------------------------\n",
      "+-------------------+----------+---------+--------+-----------+-------+------+-----+-----+------+-----+\n",
      "|event_timestamp    |machine_id|vibration|acoustic|temperature|current|status|IMF_1|IMF_2|IMF_3 |label|\n",
      "+-------------------+----------+---------+--------+-----------+-------+------+-----+-----+------+-----+\n",
      "|2024-07-01 16:08:00|M01       |0.761    |0.62    |62.14      |12.13  |Normal|0.199|0.055|-0.016|0    |\n",
      "+-------------------+----------+---------+--------+-----------+-------+------+-----+-----+------+-----+\n",
      "\n",
      "-------------------------------------------\n",
      "Batch: 405\n",
      "-------------------------------------------\n",
      "+-------------------+----------+---------+--------+-----------+-------+------+-----+------+------+-----+\n",
      "|event_timestamp    |machine_id|vibration|acoustic|temperature|current|status|IMF_1|IMF_2 |IMF_3 |label|\n",
      "+-------------------+----------+---------+--------+-----------+-------+------+-----+------+------+-----+\n",
      "|2024-07-01 16:09:00|M01       |0.911    |0.614   |64.18      |11.0   |Normal|0.25 |-0.107|-0.017|0    |\n",
      "+-------------------+----------+---------+--------+-----------+-------+------+-----+------+------+-----+\n",
      "\n"
     ]
    },
    {
     "name": "stderr",
     "output_type": "stream",
     "text": [
      "                                                                                \r"
     ]
    },
    {
     "name": "stdout",
     "output_type": "stream",
     "text": [
      "-------------------------------------------\n",
      "Batch: 406\n",
      "-------------------------------------------\n",
      "+-------------------+----------+---------+--------+-----------+-------+------+-----+-----+------+-----+\n",
      "|event_timestamp    |machine_id|vibration|acoustic|temperature|current|status|IMF_1|IMF_2|IMF_3 |label|\n",
      "+-------------------+----------+---------+--------+-----------+-------+------+-----+-----+------+-----+\n",
      "|2024-07-01 16:10:00|M01       |0.813    |0.649   |64.78      |12.21  |Normal|0.218|0.023|-0.018|0    |\n",
      "+-------------------+----------+---------+--------+-----------+-------+------+-----+-----+------+-----+\n",
      "\n"
     ]
    },
    {
     "name": "stderr",
     "output_type": "stream",
     "text": [
      "                                                                                \r"
     ]
    },
    {
     "name": "stdout",
     "output_type": "stream",
     "text": [
      "-------------------------------------------\n",
      "Batch: 407\n",
      "-------------------------------------------\n",
      "+-------------------+----------+---------+--------+-----------+-------+------+-----+------+------+-----+\n",
      "|event_timestamp    |machine_id|vibration|acoustic|temperature|current|status|IMF_1|IMF_2 |IMF_3 |label|\n",
      "+-------------------+----------+---------+--------+-----------+-------+------+-----+------+------+-----+\n",
      "|2024-07-01 16:11:00|M01       |0.726    |0.654   |66.64      |11.86  |Normal|0.197|-0.062|-0.019|0    |\n",
      "+-------------------+----------+---------+--------+-----------+-------+------+-----+------+------+-----+\n",
      "\n",
      "-------------------------------------------\n",
      "Batch: 408\n",
      "-------------------------------------------\n",
      "+-------------------+----------+---------+--------+-----------+-------+------+-----+-----+-----+-----+\n",
      "|event_timestamp    |machine_id|vibration|acoustic|temperature|current|status|IMF_1|IMF_2|IMF_3|label|\n",
      "+-------------------+----------+---------+--------+-----------+-------+------+-----+-----+-----+-----+\n",
      "|2024-07-01 16:12:00|M01       |0.843    |0.621   |66.37      |11.6   |Normal|0.219|0.115|-0.02|0    |\n",
      "+-------------------+----------+---------+--------+-----------+-------+------+-----+-----+-----+-----+\n",
      "\n",
      "-------------------------------------------\n",
      "Batch: 409\n",
      "-------------------------------------------\n",
      "+-------------------+----------+---------+--------+-----------+-------+------+-----+------+------+-----+\n",
      "|event_timestamp    |machine_id|vibration|acoustic|temperature|current|status|IMF_1|IMF_2 |IMF_3 |label|\n",
      "+-------------------+----------+---------+--------+-----------+-------+------+-----+------+------+-----+\n",
      "|2024-07-01 16:13:00|M01       |0.823    |0.619   |65.03      |12.29  |Normal|0.156|-0.018|-0.021|0    |\n",
      "+-------------------+----------+---------+--------+-----------+-------+------+-----+------+------+-----+\n",
      "\n",
      "-------------------------------------------\n",
      "Batch: 410\n",
      "-------------------------------------------\n",
      "+-------------------+----------+---------+--------+-----------+-------+----------------+-----+-----+------+-----+\n",
      "|event_timestamp    |machine_id|vibration|acoustic|temperature|current|status          |IMF_1|IMF_2|IMF_3 |label|\n",
      "+-------------------+----------+---------+--------+-----------+-------+----------------+-----+-----+------+-----+\n",
      "|2024-07-01 16:14:00|M01       |1.318    |0.992   |75.68      |14.9   |Failure Detected|0.338|0.088|-0.022|1    |\n",
      "+-------------------+----------+---------+--------+-----------+-------+----------------+-----+-----+------+-----+\n",
      "\n",
      "-------------------------------------------\n",
      "Batch: 411\n",
      "-------------------------------------------\n",
      "+-------------------+----------+---------+--------+-----------+-------+----------------+-----+------+------+-----+\n",
      "|event_timestamp    |machine_id|vibration|acoustic|temperature|current|status          |IMF_1|IMF_2 |IMF_3 |label|\n",
      "+-------------------+----------+---------+--------+-----------+-------+----------------+-----+------+------+-----+\n",
      "|2024-07-01 16:15:00|M01       |1.27     |0.965   |77.47      |14.49  |Failure Detected|0.128|-0.031|-0.023|1    |\n",
      "+-------------------+----------+---------+--------+-----------+-------+----------------+-----+------+------+-----+\n",
      "\n",
      "-------------------------------------------\n",
      "Batch: 412\n",
      "-------------------------------------------\n",
      "+-------------------+----------+---------+--------+-----------+-------+------+-----+------+------+-----+\n",
      "|event_timestamp    |machine_id|vibration|acoustic|temperature|current|status|IMF_1|IMF_2 |IMF_3 |label|\n",
      "+-------------------+----------+---------+--------+-----------+-------+------+-----+------+------+-----+\n",
      "|2024-07-01 16:16:00|M01       |0.782    |0.656   |66.49      |11.59  |Normal|0.095|-0.064|-0.024|0    |\n",
      "+-------------------+----------+---------+--------+-----------+-------+------+-----+------+------+-----+\n",
      "\n",
      "-------------------------------------------\n",
      "Batch: 413\n",
      "-------------------------------------------\n",
      "+-------------------+----------+---------+--------+-----------+-------+------+-----+-----+------+-----+\n",
      "|event_timestamp    |machine_id|vibration|acoustic|temperature|current|status|IMF_1|IMF_2|IMF_3 |label|\n",
      "+-------------------+----------+---------+--------+-----------+-------+------+-----+-----+------+-----+\n",
      "|2024-07-01 16:17:00|M01       |0.898    |0.571   |63.87      |13.0   |Normal|0.144|0.023|-0.025|0    |\n",
      "+-------------------+----------+---------+--------+-----------+-------+------+-----+-----+------+-----+\n",
      "\n",
      "-------------------------------------------\n",
      "Batch: 414\n",
      "-------------------------------------------\n",
      "+-------------------+----------+---------+--------+-----------+-------+------+-----+-----+------+-----+\n",
      "|event_timestamp    |machine_id|vibration|acoustic|temperature|current|status|IMF_1|IMF_2|IMF_3 |label|\n",
      "+-------------------+----------+---------+--------+-----------+-------+------+-----+-----+------+-----+\n",
      "|2024-07-01 16:18:00|M01       |0.781    |0.658   |62.96      |11.68  |Normal|0.107|-0.08|-0.026|0    |\n",
      "+-------------------+----------+---------+--------+-----------+-------+------+-----+-----+------+-----+\n",
      "\n",
      "-------------------------------------------\n",
      "Batch: 415\n",
      "-------------------------------------------\n",
      "+-------------------+----------+---------+--------+-----------+-------+----------------+-----+-----+------+-----+\n",
      "|event_timestamp    |machine_id|vibration|acoustic|temperature|current|status          |IMF_1|IMF_2|IMF_3 |label|\n",
      "+-------------------+----------+---------+--------+-----------+-------+----------------+-----+-----+------+-----+\n",
      "|2024-07-01 16:19:00|M01       |1.196    |1.071   |78.83      |13.55  |Failure Detected|0.334|0.037|-0.026|1    |\n",
      "+-------------------+----------+---------+--------+-----------+-------+----------------+-----+-----+------+-----+\n",
      "\n",
      "-------------------------------------------\n",
      "Batch: 416\n",
      "-------------------------------------------\n",
      "+-------------------+----------+---------+--------+-----------+-------+----------------+-----+-----+------+-----+\n",
      "|event_timestamp    |machine_id|vibration|acoustic|temperature|current|status          |IMF_1|IMF_2|IMF_3 |label|\n",
      "+-------------------+----------+---------+--------+-----------+-------+----------------+-----+-----+------+-----+\n",
      "|2024-07-01 16:20:00|M01       |1.122    |0.908   |79.03      |15.84  |Failure Detected|0.169|-0.06|-0.027|1    |\n",
      "+-------------------+----------+---------+--------+-----------+-------+----------------+-----+-----+------+-----+\n",
      "\n",
      "-------------------------------------------\n",
      "Batch: 417\n",
      "-------------------------------------------\n",
      "+-------------------+----------+---------+--------+-----------+-------+------+-----+------+------+-----+\n",
      "|event_timestamp    |machine_id|vibration|acoustic|temperature|current|status|IMF_1|IMF_2 |IMF_3 |label|\n",
      "+-------------------+----------+---------+--------+-----------+-------+------+-----+------+------+-----+\n",
      "|2024-07-01 16:21:00|M01       |0.766    |0.643   |65.67      |12.74  |Normal|0.118|-0.068|-0.028|0    |\n",
      "+-------------------+----------+---------+--------+-----------+-------+------+-----+------+------+-----+\n",
      "\n",
      "-------------------------------------------\n",
      "Batch: 418\n",
      "-------------------------------------------\n",
      "+-------------------+----------+---------+--------+-----------+-------+------+-----+-----+------+-----+\n",
      "|event_timestamp    |machine_id|vibration|acoustic|temperature|current|status|IMF_1|IMF_2|IMF_3 |label|\n",
      "+-------------------+----------+---------+--------+-----------+-------+------+-----+-----+------+-----+\n",
      "|2024-07-01 16:22:00|M01       |0.826    |0.551   |65.93      |12.9   |Normal|0.145|-0.08|-0.029|0    |\n",
      "+-------------------+----------+---------+--------+-----------+-------+------+-----+-----+------+-----+\n",
      "\n",
      "-------------------------------------------\n",
      "Batch: 419\n",
      "-------------------------------------------\n",
      "+-------------------+----------+---------+--------+-----------+-------+------+-----+------+-----+-----+\n",
      "|event_timestamp    |machine_id|vibration|acoustic|temperature|current|status|IMF_1|IMF_2 |IMF_3|label|\n",
      "+-------------------+----------+---------+--------+-----------+-------+------+-----+------+-----+-----+\n",
      "|2024-07-01 16:23:00|M01       |0.829    |0.609   |61.13      |11.88  |Normal|0.152|-0.001|-0.03|0    |\n",
      "+-------------------+----------+---------+--------+-----------+-------+------+-----+------+-----+-----+\n",
      "\n",
      "-------------------------------------------\n",
      "Batch: 420\n",
      "-------------------------------------------\n",
      "+-------------------+----------+---------+--------+-----------+-------+------+-----+-----+-----+-----+\n",
      "|event_timestamp    |machine_id|vibration|acoustic|temperature|current|status|IMF_1|IMF_2|IMF_3|label|\n",
      "+-------------------+----------+---------+--------+-----------+-------+------+-----+-----+-----+-----+\n",
      "|2024-07-01 16:24:00|M01       |0.846    |0.573   |64.99      |11.98  |Normal|0.11 |0.003|-0.03|0    |\n",
      "+-------------------+----------+---------+--------+-----------+-------+------+-----+-----+-----+-----+\n",
      "\n",
      "-------------------------------------------\n",
      "Batch: 421\n",
      "-------------------------------------------\n",
      "+-------------------+----------+---------+--------+-----------+-------+------+-----+------+------+-----+\n",
      "|event_timestamp    |machine_id|vibration|acoustic|temperature|current|status|IMF_1|IMF_2 |IMF_3 |label|\n",
      "+-------------------+----------+---------+--------+-----------+-------+------+-----+------+------+-----+\n",
      "|2024-07-01 16:25:00|M01       |0.766    |0.569   |60.94      |12.59  |Normal|0.152|-0.012|-0.031|0    |\n",
      "+-------------------+----------+---------+--------+-----------+-------+------+-----+------+------+-----+\n",
      "\n",
      "-------------------------------------------\n",
      "Batch: 422\n",
      "-------------------------------------------\n",
      "+-------------------+----------+---------+--------+-----------+-------+------+-----+------+------+-----+\n",
      "|event_timestamp    |machine_id|vibration|acoustic|temperature|current|status|IMF_1|IMF_2 |IMF_3 |label|\n",
      "+-------------------+----------+---------+--------+-----------+-------+------+-----+------+------+-----+\n",
      "|2024-07-01 16:26:00|M01       |0.803    |0.617   |63.14      |12.09  |Normal|0.156|-0.115|-0.032|0    |\n",
      "+-------------------+----------+---------+--------+-----------+-------+------+-----+------+------+-----+\n",
      "\n",
      "-------------------------------------------\n",
      "Batch: 423\n",
      "-------------------------------------------\n",
      "+-------------------+----------+---------+--------+-----------+-------+------+-----+-----+------+-----+\n",
      "|event_timestamp    |machine_id|vibration|acoustic|temperature|current|status|IMF_1|IMF_2|IMF_3 |label|\n",
      "+-------------------+----------+---------+--------+-----------+-------+------+-----+-----+------+-----+\n",
      "|2024-07-01 16:27:00|M01       |0.723    |0.611   |60.69      |12.54  |Normal|0.116|0.045|-0.033|0    |\n",
      "+-------------------+----------+---------+--------+-----------+-------+------+-----+-----+------+-----+\n",
      "\n"
     ]
    },
    {
     "name": "stderr",
     "output_type": "stream",
     "text": [
      "                                                                                \r"
     ]
    },
    {
     "name": "stdout",
     "output_type": "stream",
     "text": [
      "-------------------------------------------\n",
      "Batch: 424\n",
      "-------------------------------------------\n",
      "+-------------------+----------+---------+--------+-----------+-------+------+-----+-----+------+-----+\n",
      "|event_timestamp    |machine_id|vibration|acoustic|temperature|current|status|IMF_1|IMF_2|IMF_3 |label|\n",
      "+-------------------+----------+---------+--------+-----------+-------+------+-----+-----+------+-----+\n",
      "|2024-07-01 16:28:00|M01       |0.78     |0.607   |67.63      |12.18  |Normal|0.113|0.013|-0.034|0    |\n",
      "+-------------------+----------+---------+--------+-----------+-------+------+-----+-----+------+-----+\n",
      "\n"
     ]
    },
    {
     "name": "stderr",
     "output_type": "stream",
     "text": [
      "                                                                                \r"
     ]
    },
    {
     "name": "stdout",
     "output_type": "stream",
     "text": [
      "-------------------------------------------\n",
      "Batch: 425\n",
      "-------------------------------------------\n",
      "+-------------------+----------+---------+--------+-----------+-------+----------------+-----+-----+------+-----+\n",
      "|event_timestamp    |machine_id|vibration|acoustic|temperature|current|status          |IMF_1|IMF_2|IMF_3 |label|\n",
      "+-------------------+----------+---------+--------+-----------+-------+----------------+-----+-----+------+-----+\n",
      "|2024-07-01 16:29:00|M01       |1.253    |0.864   |72.7       |15.5   |Failure Detected|0.21 |0.071|-0.034|1    |\n",
      "+-------------------+----------+---------+--------+-----------+-------+----------------+-----+-----+------+-----+\n",
      "\n",
      "-------------------------------------------\n",
      "Batch: 426\n",
      "-------------------------------------------\n",
      "+-------------------+----------+---------+--------+-----------+-------+------+-----+-----+------+-----+\n",
      "|event_timestamp    |machine_id|vibration|acoustic|temperature|current|status|IMF_1|IMF_2|IMF_3 |label|\n",
      "+-------------------+----------+---------+--------+-----------+-------+------+-----+-----+------+-----+\n",
      "|2024-07-01 16:30:00|M01       |0.794    |0.627   |64.89      |12.17  |Normal|0.216|0.101|-0.035|0    |\n",
      "+-------------------+----------+---------+--------+-----------+-------+------+-----+-----+------+-----+\n",
      "\n"
     ]
    },
    {
     "name": "stderr",
     "output_type": "stream",
     "text": [
      "                                                                                \r"
     ]
    },
    {
     "name": "stdout",
     "output_type": "stream",
     "text": [
      "-------------------------------------------\n",
      "Batch: 427\n",
      "-------------------------------------------\n",
      "+-------------------+----------+---------+--------+-----------+-------+------+-----+-----+------+-----+\n",
      "|event_timestamp    |machine_id|vibration|acoustic|temperature|current|status|IMF_1|IMF_2|IMF_3 |label|\n",
      "+-------------------+----------+---------+--------+-----------+-------+------+-----+-----+------+-----+\n",
      "|2024-07-01 16:31:00|M01       |0.735    |0.619   |66.01      |11.49  |Normal|0.144|0.111|-0.036|0    |\n",
      "+-------------------+----------+---------+--------+-----------+-------+------+-----+-----+------+-----+\n",
      "\n",
      "-------------------------------------------\n",
      "Batch: 428\n",
      "-------------------------------------------\n",
      "+-------------------+----------+---------+--------+-----------+-------+------+-----+-----+------+-----+\n",
      "|event_timestamp    |machine_id|vibration|acoustic|temperature|current|status|IMF_1|IMF_2|IMF_3 |label|\n",
      "+-------------------+----------+---------+--------+-----------+-------+------+-----+-----+------+-----+\n",
      "|2024-07-01 16:32:00|M01       |0.756    |0.655   |64.99      |12.01  |Normal|0.227|-0.01|-0.036|0    |\n",
      "+-------------------+----------+---------+--------+-----------+-------+------+-----+-----+------+-----+\n",
      "\n",
      "-------------------------------------------\n",
      "Batch: 429\n",
      "-------------------------------------------\n",
      "+-------------------+----------+---------+--------+-----------+-------+------+-----+------+------+-----+\n",
      "|event_timestamp    |machine_id|vibration|acoustic|temperature|current|status|IMF_1|IMF_2 |IMF_3 |label|\n",
      "+-------------------+----------+---------+--------+-----------+-------+------+-----+------+------+-----+\n",
      "|2024-07-01 16:33:00|M01       |0.82     |0.599   |65.25      |12.73  |Normal|0.208|-0.066|-0.037|0    |\n",
      "+-------------------+----------+---------+--------+-----------+-------+------+-----+------+------+-----+\n",
      "\n",
      "-------------------------------------------\n",
      "Batch: 430\n",
      "-------------------------------------------\n",
      "+-------------------+----------+---------+--------+-----------+-------+------+-----+-----+------+-----+\n",
      "|event_timestamp    |machine_id|vibration|acoustic|temperature|current|status|IMF_1|IMF_2|IMF_3 |label|\n",
      "+-------------------+----------+---------+--------+-----------+-------+------+-----+-----+------+-----+\n",
      "|2024-07-01 16:34:00|M01       |0.704    |0.545   |64.66      |11.47  |Normal|0.088|0.044|-0.038|0    |\n",
      "+-------------------+----------+---------+--------+-----------+-------+------+-----+-----+------+-----+\n",
      "\n",
      "-------------------------------------------\n",
      "Batch: 431\n",
      "-------------------------------------------\n",
      "+-------------------+----------+---------+--------+-----------+-------+------+-----+-----+------+-----+\n",
      "|event_timestamp    |machine_id|vibration|acoustic|temperature|current|status|IMF_1|IMF_2|IMF_3 |label|\n",
      "+-------------------+----------+---------+--------+-----------+-------+------+-----+-----+------+-----+\n",
      "|2024-07-01 16:35:00|M01       |0.875    |0.594   |64.78      |12.78  |Normal|0.091|0.031|-0.038|0    |\n",
      "+-------------------+----------+---------+--------+-----------+-------+------+-----+-----+------+-----+\n",
      "\n",
      "-------------------------------------------\n",
      "Batch: 432\n",
      "-------------------------------------------\n",
      "+-------------------+----------+---------+--------+-----------+-------+------+-----+------+------+-----+\n",
      "|event_timestamp    |machine_id|vibration|acoustic|temperature|current|status|IMF_1|IMF_2 |IMF_3 |label|\n",
      "+-------------------+----------+---------+--------+-----------+-------+------+-----+------+------+-----+\n",
      "|2024-07-01 16:36:00|M01       |0.778    |0.568   |62.73      |11.89  |Normal|0.193|-0.109|-0.039|0    |\n",
      "+-------------------+----------+---------+--------+-----------+-------+------+-----+------+------+-----+\n",
      "\n",
      "-------------------------------------------\n",
      "Batch: 433\n",
      "-------------------------------------------\n",
      "+-------------------+----------+---------+--------+-----------+-------+----------------+-----+-----+-----+-----+\n",
      "|event_timestamp    |machine_id|vibration|acoustic|temperature|current|status          |IMF_1|IMF_2|IMF_3|label|\n",
      "+-------------------+----------+---------+--------+-----------+-------+----------------+-----+-----+-----+-----+\n",
      "|2024-07-01 16:37:00|M01       |1.11     |0.793   |79.2       |14.51  |Failure Detected|0.252|0.101|-0.04|1    |\n",
      "+-------------------+----------+---------+--------+-----------+-------+----------------+-----+-----+-----+-----+\n",
      "\n"
     ]
    },
    {
     "name": "stderr",
     "output_type": "stream",
     "text": [
      "                                                                                \r"
     ]
    },
    {
     "name": "stdout",
     "output_type": "stream",
     "text": [
      "-------------------------------------------\n",
      "Batch: 434\n",
      "-------------------------------------------\n",
      "+-------------------+----------+---------+--------+-----------+-------+------+-----+-----+-----+-----+\n",
      "|event_timestamp    |machine_id|vibration|acoustic|temperature|current|status|IMF_1|IMF_2|IMF_3|label|\n",
      "+-------------------+----------+---------+--------+-----------+-------+------+-----+-----+-----+-----+\n",
      "|2024-07-01 16:38:00|M01       |0.717    |0.658   |65.2       |11.86  |Normal|0.145|0.056|-0.04|0    |\n",
      "+-------------------+----------+---------+--------+-----------+-------+------+-----+-----+-----+-----+\n",
      "\n",
      "-------------------------------------------\n",
      "Batch: 435\n",
      "-------------------------------------------\n",
      "+-------------------+----------+---------+--------+-----------+-------+----------------+-----+------+------+-----+\n",
      "|event_timestamp    |machine_id|vibration|acoustic|temperature|current|status          |IMF_1|IMF_2 |IMF_3 |label|\n",
      "+-------------------+----------+---------+--------+-----------+-------+----------------+-----+------+------+-----+\n",
      "|2024-07-01 16:39:00|M01       |1.193    |0.821   |75.81      |14.62  |Failure Detected|0.132|-0.032|-0.041|1    |\n",
      "+-------------------+----------+---------+--------+-----------+-------+----------------+-----+------+------+-----+\n",
      "\n"
     ]
    },
    {
     "name": "stderr",
     "output_type": "stream",
     "text": [
      "                                                                                \r"
     ]
    },
    {
     "name": "stdout",
     "output_type": "stream",
     "text": [
      "-------------------------------------------\n",
      "Batch: 436\n",
      "-------------------------------------------\n",
      "+-------------------+----------+---------+--------+-----------+-------+------+-----+------+------+-----+\n",
      "|event_timestamp    |machine_id|vibration|acoustic|temperature|current|status|IMF_1|IMF_2 |IMF_3 |label|\n",
      "+-------------------+----------+---------+--------+-----------+-------+------+-----+------+------+-----+\n",
      "|2024-07-01 16:40:00|M01       |0.751    |0.564   |65.11      |11.48  |Normal|0.135|-0.039|-0.041|0    |\n",
      "+-------------------+----------+---------+--------+-----------+-------+------+-----+------+------+-----+\n",
      "\n",
      "-------------------------------------------\n",
      "Batch: 437\n",
      "-------------------------------------------\n",
      "+-------------------+----------+---------+--------+-----------+-------+------+-----+------+------+-----+\n",
      "|event_timestamp    |machine_id|vibration|acoustic|temperature|current|status|IMF_1|IMF_2 |IMF_3 |label|\n",
      "+-------------------+----------+---------+--------+-----------+-------+------+-----+------+------+-----+\n",
      "|2024-07-01 16:41:00|M01       |0.859    |0.578   |70.25      |12.15  |Normal|0.15 |-0.027|-0.042|0    |\n",
      "+-------------------+----------+---------+--------+-----------+-------+------+-----+------+------+-----+\n",
      "\n",
      "-------------------------------------------\n",
      "Batch: 438\n",
      "-------------------------------------------\n",
      "+-------------------+----------+---------+--------+-----------+-------+------+-----+-----+------+-----+\n",
      "|event_timestamp    |machine_id|vibration|acoustic|temperature|current|status|IMF_1|IMF_2|IMF_3 |label|\n",
      "+-------------------+----------+---------+--------+-----------+-------+------+-----+-----+------+-----+\n",
      "|2024-07-01 16:42:00|M01       |0.717    |0.567   |69.79      |12.21  |Normal|0.08 |0.039|-0.042|0    |\n",
      "+-------------------+----------+---------+--------+-----------+-------+------+-----+-----+------+-----+\n",
      "\n",
      "-------------------------------------------\n",
      "Batch: 439\n",
      "-------------------------------------------\n",
      "+-------------------+----------+---------+--------+-----------+-------+------+-----+------+------+-----+\n",
      "|event_timestamp    |machine_id|vibration|acoustic|temperature|current|status|IMF_1|IMF_2 |IMF_3 |label|\n",
      "+-------------------+----------+---------+--------+-----------+-------+------+-----+------+------+-----+\n",
      "|2024-07-01 16:43:00|M01       |0.817    |0.608   |61.01      |11.58  |Normal|0.234|-0.104|-0.043|0    |\n",
      "+-------------------+----------+---------+--------+-----------+-------+------+-----+------+------+-----+\n",
      "\n"
     ]
    },
    {
     "name": "stderr",
     "output_type": "stream",
     "text": [
      "                                                                                \r"
     ]
    },
    {
     "name": "stdout",
     "output_type": "stream",
     "text": [
      "-------------------------------------------\n",
      "Batch: 440\n",
      "-------------------------------------------\n",
      "+-------------------+----------+---------+--------+-----------+-------+------+-----+-----+------+-----+\n",
      "|event_timestamp    |machine_id|vibration|acoustic|temperature|current|status|IMF_1|IMF_2|IMF_3 |label|\n",
      "+-------------------+----------+---------+--------+-----------+-------+------+-----+-----+------+-----+\n",
      "|2024-07-01 16:44:00|M01       |0.776    |0.637   |61.85      |12.02  |Normal|0.134|0.087|-0.044|0    |\n",
      "+-------------------+----------+---------+--------+-----------+-------+------+-----+-----+------+-----+\n",
      "\n"
     ]
    },
    {
     "name": "stderr",
     "output_type": "stream",
     "text": [
      "                                                                                \r"
     ]
    },
    {
     "name": "stdout",
     "output_type": "stream",
     "text": [
      "-------------------------------------------\n",
      "Batch: 441\n",
      "-------------------------------------------\n",
      "+-------------------+----------+---------+--------+-----------+-------+------+-----+------+------+-----+\n",
      "|event_timestamp    |machine_id|vibration|acoustic|temperature|current|status|IMF_1|IMF_2 |IMF_3 |label|\n",
      "+-------------------+----------+---------+--------+-----------+-------+------+-----+------+------+-----+\n",
      "|2024-07-01 16:45:00|M01       |0.806    |0.55    |64.98      |12.69  |Normal|0.12 |-0.023|-0.044|0    |\n",
      "+-------------------+----------+---------+--------+-----------+-------+------+-----+------+------+-----+\n",
      "\n",
      "-------------------------------------------\n",
      "Batch: 442\n",
      "-------------------------------------------\n",
      "+-------------------+----------+---------+--------+-----------+-------+------+-----+------+------+-----+\n",
      "|event_timestamp    |machine_id|vibration|acoustic|temperature|current|status|IMF_1|IMF_2 |IMF_3 |label|\n",
      "+-------------------+----------+---------+--------+-----------+-------+------+-----+------+------+-----+\n",
      "|2024-07-01 16:46:00|M01       |0.859    |0.602   |63.2       |11.66  |Normal|0.229|-0.072|-0.044|0    |\n",
      "+-------------------+----------+---------+--------+-----------+-------+------+-----+------+------+-----+\n",
      "\n",
      "-------------------------------------------\n",
      "Batch: 443\n",
      "-------------------------------------------\n",
      "+-------------------+----------+---------+--------+-----------+-------+------+-----+-----+------+-----+\n",
      "|event_timestamp    |machine_id|vibration|acoustic|temperature|current|status|IMF_1|IMF_2|IMF_3 |label|\n",
      "+-------------------+----------+---------+--------+-----------+-------+------+-----+-----+------+-----+\n",
      "|2024-07-01 16:47:00|M01       |0.869    |0.633   |65.87      |12.74  |Normal|0.122|0.034|-0.045|0    |\n",
      "+-------------------+----------+---------+--------+-----------+-------+------+-----+-----+------+-----+\n",
      "\n",
      "-------------------------------------------\n",
      "Batch: 444\n",
      "-------------------------------------------\n",
      "+-------------------+----------+---------+--------+-----------+-------+----------------+-----+-----+------+-----+\n",
      "|event_timestamp    |machine_id|vibration|acoustic|temperature|current|status          |IMF_1|IMF_2|IMF_3 |label|\n",
      "+-------------------+----------+---------+--------+-----------+-------+----------------+-----+-----+------+-----+\n",
      "|2024-07-01 16:48:00|M01       |1.285    |0.926   |78.08      |13.81  |Failure Detected|0.161|0.057|-0.045|1    |\n",
      "+-------------------+----------+---------+--------+-----------+-------+----------------+-----+-----+------+-----+\n",
      "\n"
     ]
    },
    {
     "name": "stderr",
     "output_type": "stream",
     "text": [
      "                                                                                \r"
     ]
    },
    {
     "name": "stdout",
     "output_type": "stream",
     "text": [
      "-------------------------------------------\n",
      "Batch: 445\n",
      "-------------------------------------------\n",
      "+-------------------+----------+---------+--------+-----------+-------+----------------+-----+-----+------+-----+\n",
      "|event_timestamp    |machine_id|vibration|acoustic|temperature|current|status          |IMF_1|IMF_2|IMF_3 |label|\n",
      "+-------------------+----------+---------+--------+-----------+-------+----------------+-----+-----+------+-----+\n",
      "|2024-07-01 16:49:00|M01       |1.245    |0.989   |74.52      |15.88  |Failure Detected|0.337|0.187|-0.046|1    |\n",
      "+-------------------+----------+---------+--------+-----------+-------+----------------+-----+-----+------+-----+\n",
      "\n"
     ]
    },
    {
     "name": "stderr",
     "output_type": "stream",
     "text": [
      "                                                                                \r"
     ]
    },
    {
     "name": "stdout",
     "output_type": "stream",
     "text": [
      "-------------------------------------------\n",
      "Batch: 446\n",
      "-------------------------------------------\n",
      "+-------------------+----------+---------+--------+-----------+-------+------+-----+-----+------+-----+\n",
      "|event_timestamp    |machine_id|vibration|acoustic|temperature|current|status|IMF_1|IMF_2|IMF_3 |label|\n",
      "+-------------------+----------+---------+--------+-----------+-------+------+-----+-----+------+-----+\n",
      "|2024-07-01 16:50:00|M01       |0.8      |0.562   |65.71      |11.81  |Normal|0.177|0.018|-0.046|0    |\n",
      "+-------------------+----------+---------+--------+-----------+-------+------+-----+-----+------+-----+\n",
      "\n"
     ]
    },
    {
     "name": "stderr",
     "output_type": "stream",
     "text": [
      "                                                                                \r"
     ]
    },
    {
     "name": "stdout",
     "output_type": "stream",
     "text": [
      "-------------------------------------------\n",
      "Batch: 447\n",
      "-------------------------------------------\n",
      "+-------------------+----------+---------+--------+-----------+-------+----------------+-----+-----+------+-----+\n",
      "|event_timestamp    |machine_id|vibration|acoustic|temperature|current|status          |IMF_1|IMF_2|IMF_3 |label|\n",
      "+-------------------+----------+---------+--------+-----------+-------+----------------+-----+-----+------+-----+\n",
      "|2024-07-01 16:51:00|M01       |1.252    |0.807   |77.89      |15.41  |Failure Detected|0.157|0.137|-0.047|1    |\n",
      "+-------------------+----------+---------+--------+-----------+-------+----------------+-----+-----+------+-----+\n",
      "\n",
      "-------------------------------------------\n",
      "Batch: 448\n",
      "-------------------------------------------\n",
      "+-------------------+----------+---------+--------+-----------+-------+------+-----+-----+------+-----+\n",
      "|event_timestamp    |machine_id|vibration|acoustic|temperature|current|status|IMF_1|IMF_2|IMF_3 |label|\n",
      "+-------------------+----------+---------+--------+-----------+-------+------+-----+-----+------+-----+\n",
      "|2024-07-01 16:52:00|M01       |0.831    |0.609   |66.62      |11.71  |Normal|0.112|0.103|-0.047|0    |\n",
      "+-------------------+----------+---------+--------+-----------+-------+------+-----+-----+------+-----+\n",
      "\n"
     ]
    },
    {
     "name": "stderr",
     "output_type": "stream",
     "text": [
      "                                                                                \r"
     ]
    },
    {
     "name": "stdout",
     "output_type": "stream",
     "text": [
      "-------------------------------------------\n",
      "Batch: 449\n",
      "-------------------------------------------\n",
      "+-------------------+----------+---------+--------+-----------+-------+------+-----+------+------+-----+\n",
      "|event_timestamp    |machine_id|vibration|acoustic|temperature|current|status|IMF_1|IMF_2 |IMF_3 |label|\n",
      "+-------------------+----------+---------+--------+-----------+-------+------+-----+------+------+-----+\n",
      "|2024-07-01 16:53:00|M01       |0.738    |0.553   |67.83      |11.83  |Normal|0.207|-0.053|-0.047|0    |\n",
      "+-------------------+----------+---------+--------+-----------+-------+------+-----+------+------+-----+\n",
      "\n"
     ]
    },
    {
     "name": "stderr",
     "output_type": "stream",
     "text": [
      "                                                                                \r"
     ]
    },
    {
     "name": "stdout",
     "output_type": "stream",
     "text": [
      "-------------------------------------------\n",
      "Batch: 450\n",
      "-------------------------------------------\n",
      "+-------------------+----------+---------+--------+-----------+-------+------+-----+------+------+-----+\n",
      "|event_timestamp    |machine_id|vibration|acoustic|temperature|current|status|IMF_1|IMF_2 |IMF_3 |label|\n",
      "+-------------------+----------+---------+--------+-----------+-------+------+-----+------+------+-----+\n",
      "|2024-07-01 16:54:00|M01       |0.844    |0.612   |65.85      |12.06  |Normal|0.206|-0.026|-0.048|0    |\n",
      "+-------------------+----------+---------+--------+-----------+-------+------+-----+------+------+-----+\n",
      "\n"
     ]
    },
    {
     "name": "stderr",
     "output_type": "stream",
     "text": [
      "                                                                                \r"
     ]
    },
    {
     "name": "stdout",
     "output_type": "stream",
     "text": [
      "-------------------------------------------\n",
      "Batch: 451\n",
      "-------------------------------------------\n",
      "+-------------------+----------+---------+--------+-----------+-------+------+-----+------+------+-----+\n",
      "|event_timestamp    |machine_id|vibration|acoustic|temperature|current|status|IMF_1|IMF_2 |IMF_3 |label|\n",
      "+-------------------+----------+---------+--------+-----------+-------+------+-----+------+------+-----+\n",
      "|2024-07-01 16:55:00|M01       |0.764    |0.529   |67.23      |12.7   |Normal|0.154|-0.041|-0.048|0    |\n",
      "+-------------------+----------+---------+--------+-----------+-------+------+-----+------+------+-----+\n",
      "\n",
      "-------------------------------------------\n",
      "Batch: 452\n",
      "-------------------------------------------\n",
      "+-------------------+----------+---------+--------+-----------+-------+------+-----+------+------+-----+\n",
      "|event_timestamp    |machine_id|vibration|acoustic|temperature|current|status|IMF_1|IMF_2 |IMF_3 |label|\n",
      "+-------------------+----------+---------+--------+-----------+-------+------+-----+------+------+-----+\n",
      "|2024-07-01 16:56:00|M01       |0.888    |0.638   |65.57      |11.51  |Normal|0.214|-0.046|-0.048|0    |\n",
      "+-------------------+----------+---------+--------+-----------+-------+------+-----+------+------+-----+\n",
      "\n",
      "-------------------------------------------\n",
      "Batch: 453\n",
      "-------------------------------------------\n",
      "+-------------------+----------+---------+--------+-----------+-------+------+-----+-----+------+-----+\n",
      "|event_timestamp    |machine_id|vibration|acoustic|temperature|current|status|IMF_1|IMF_2|IMF_3 |label|\n",
      "+-------------------+----------+---------+--------+-----------+-------+------+-----+-----+------+-----+\n",
      "|2024-07-01 16:57:00|M01       |0.847    |0.603   |64.34      |11.17  |Normal|0.239|0.0  |-0.048|0    |\n",
      "+-------------------+----------+---------+--------+-----------+-------+------+-----+-----+------+-----+\n",
      "\n",
      "-------------------------------------------\n",
      "Batch: 454\n",
      "-------------------------------------------\n",
      "+-------------------+----------+---------+--------+-----------+-------+------+-----+-----+------+-----+\n",
      "|event_timestamp    |machine_id|vibration|acoustic|temperature|current|status|IMF_1|IMF_2|IMF_3 |label|\n",
      "+-------------------+----------+---------+--------+-----------+-------+------+-----+-----+------+-----+\n",
      "|2024-07-01 16:58:00|M01       |0.836    |0.663   |64.5       |12.59  |Normal|0.123|0.119|-0.049|0    |\n",
      "+-------------------+----------+---------+--------+-----------+-------+------+-----+-----+------+-----+\n",
      "\n",
      "-------------------------------------------\n",
      "Batch: 455\n",
      "-------------------------------------------\n",
      "+-------------------+----------+---------+--------+-----------+-------+------+-----+-----+------+-----+\n",
      "|event_timestamp    |machine_id|vibration|acoustic|temperature|current|status|IMF_1|IMF_2|IMF_3 |label|\n",
      "+-------------------+----------+---------+--------+-----------+-------+------+-----+-----+------+-----+\n",
      "|2024-07-01 16:59:00|M01       |0.795    |0.668   |64.87      |12.91  |Normal|0.181|0.061|-0.049|0    |\n",
      "+-------------------+----------+---------+--------+-----------+-------+------+-----+-----+------+-----+\n",
      "\n",
      "-------------------------------------------\n",
      "Batch: 456\n",
      "-------------------------------------------\n",
      "+-------------------+----------+---------+--------+-----------+-------+------+-----+------+------+-----+\n",
      "|event_timestamp    |machine_id|vibration|acoustic|temperature|current|status|IMF_1|IMF_2 |IMF_3 |label|\n",
      "+-------------------+----------+---------+--------+-----------+-------+------+-----+------+------+-----+\n",
      "|2024-07-01 17:00:00|M01       |0.778    |0.521   |65.94      |11.41  |Normal|0.118|-0.015|-0.049|0    |\n",
      "+-------------------+----------+---------+--------+-----------+-------+------+-----+------+------+-----+\n",
      "\n",
      "-------------------------------------------\n",
      "Batch: 457\n",
      "-------------------------------------------\n",
      "+-------------------+----------+---------+--------+-----------+-------+------+-----+------+------+-----+\n",
      "|event_timestamp    |machine_id|vibration|acoustic|temperature|current|status|IMF_1|IMF_2 |IMF_3 |label|\n",
      "+-------------------+----------+---------+--------+-----------+-------+------+-----+------+------+-----+\n",
      "|2024-07-01 17:01:00|M01       |0.786    |0.577   |64.69      |11.81  |Normal|0.135|-0.046|-0.049|0    |\n",
      "+-------------------+----------+---------+--------+-----------+-------+------+-----+------+------+-----+\n",
      "\n",
      "-------------------------------------------\n",
      "Batch: 458\n",
      "-------------------------------------------\n",
      "+-------------------+----------+---------+--------+-----------+-------+------+-----+-----+------+-----+\n",
      "|event_timestamp    |machine_id|vibration|acoustic|temperature|current|status|IMF_1|IMF_2|IMF_3 |label|\n",
      "+-------------------+----------+---------+--------+-----------+-------+------+-----+-----+------+-----+\n",
      "|2024-07-01 17:02:00|M01       |0.736    |0.618   |62.55      |12.01  |Normal|0.15 |0.006|-0.049|0    |\n",
      "+-------------------+----------+---------+--------+-----------+-------+------+-----+-----+------+-----+\n",
      "\n"
     ]
    },
    {
     "name": "stderr",
     "output_type": "stream",
     "text": [
      "                                                                                \r"
     ]
    },
    {
     "name": "stdout",
     "output_type": "stream",
     "text": [
      "-------------------------------------------\n",
      "Batch: 459\n",
      "-------------------------------------------\n",
      "+-------------------+----------+---------+--------+-----------+-------+------+-----+-----+-----+-----+\n",
      "|event_timestamp    |machine_id|vibration|acoustic|temperature|current|status|IMF_1|IMF_2|IMF_3|label|\n",
      "+-------------------+----------+---------+--------+-----------+-------+------+-----+-----+-----+-----+\n",
      "|2024-07-01 17:03:00|M01       |0.866    |0.551   |67.59      |11.89  |Normal|0.177|0.047|-0.05|0    |\n",
      "+-------------------+----------+---------+--------+-----------+-------+------+-----+-----+-----+-----+\n",
      "\n",
      "-------------------------------------------\n",
      "Batch: 460\n",
      "-------------------------------------------\n",
      "+-------------------+----------+---------+--------+-----------+-------+------+-----+-----+-----+-----+\n",
      "|event_timestamp    |machine_id|vibration|acoustic|temperature|current|status|IMF_1|IMF_2|IMF_3|label|\n",
      "+-------------------+----------+---------+--------+-----------+-------+------+-----+-----+-----+-----+\n",
      "|2024-07-01 17:04:00|M01       |0.765    |0.565   |65.38      |11.6   |Normal|0.101|0.009|-0.05|0    |\n",
      "+-------------------+----------+---------+--------+-----------+-------+------+-----+-----+-----+-----+\n",
      "\n",
      "-------------------------------------------\n",
      "Batch: 461\n",
      "-------------------------------------------\n",
      "+-------------------+----------+---------+--------+-----------+-------+------+-----+-----+-----+-----+\n",
      "|event_timestamp    |machine_id|vibration|acoustic|temperature|current|status|IMF_1|IMF_2|IMF_3|label|\n",
      "+-------------------+----------+---------+--------+-----------+-------+------+-----+-----+-----+-----+\n",
      "|2024-07-01 17:05:00|M01       |0.856    |0.583   |65.83      |11.66  |Normal|0.212|0.069|-0.05|0    |\n",
      "+-------------------+----------+---------+--------+-----------+-------+------+-----+-----+-----+-----+\n",
      "\n"
     ]
    },
    {
     "name": "stderr",
     "output_type": "stream",
     "text": [
      "                                                                                \r"
     ]
    },
    {
     "name": "stdout",
     "output_type": "stream",
     "text": [
      "-------------------------------------------\n",
      "Batch: 462\n",
      "-------------------------------------------\n",
      "+-------------------+----------+---------+--------+-----------+-------+------+-----+-----+-----+-----+\n",
      "|event_timestamp    |machine_id|vibration|acoustic|temperature|current|status|IMF_1|IMF_2|IMF_3|label|\n",
      "+-------------------+----------+---------+--------+-----------+-------+------+-----+-----+-----+-----+\n",
      "|2024-07-01 17:06:00|M01       |0.861    |0.651   |63.57      |11.88  |Normal|0.111|0.042|-0.05|0    |\n",
      "+-------------------+----------+---------+--------+-----------+-------+------+-----+-----+-----+-----+\n",
      "\n",
      "-------------------------------------------\n",
      "Batch: 463\n",
      "-------------------------------------------\n",
      "+-------------------+----------+---------+--------+-----------+-------+------+-----+-----+-----+-----+\n",
      "|event_timestamp    |machine_id|vibration|acoustic|temperature|current|status|IMF_1|IMF_2|IMF_3|label|\n",
      "+-------------------+----------+---------+--------+-----------+-------+------+-----+-----+-----+-----+\n",
      "|2024-07-01 17:07:00|M01       |0.753    |0.557   |66.48      |12.11  |Normal|0.185|0.09 |-0.05|0    |\n",
      "+-------------------+----------+---------+--------+-----------+-------+------+-----+-----+-----+-----+\n",
      "\n",
      "-------------------------------------------\n",
      "Batch: 464\n",
      "-------------------------------------------\n",
      "+-------------------+----------+---------+--------+-----------+-------+------+-----+------+-----+-----+\n",
      "|event_timestamp    |machine_id|vibration|acoustic|temperature|current|status|IMF_1|IMF_2 |IMF_3|label|\n",
      "+-------------------+----------+---------+--------+-----------+-------+------+-----+------+-----+-----+\n",
      "|2024-07-01 17:08:00|M01       |0.891    |0.63    |64.35      |12.86  |Normal|0.251|-0.065|-0.05|0    |\n",
      "+-------------------+----------+---------+--------+-----------+-------+------+-----+------+-----+-----+\n",
      "\n"
     ]
    },
    {
     "name": "stderr",
     "output_type": "stream",
     "text": [
      "                                                                                \r"
     ]
    },
    {
     "name": "stdout",
     "output_type": "stream",
     "text": [
      "-------------------------------------------\n",
      "Batch: 465\n",
      "-------------------------------------------\n",
      "+-------------------+----------+---------+--------+-----------+-------+----------------+-----+-----+-----+-----+\n",
      "|event_timestamp    |machine_id|vibration|acoustic|temperature|current|status          |IMF_1|IMF_2|IMF_3|label|\n",
      "+-------------------+----------+---------+--------+-----------+-------+----------------+-----+-----+-----+-----+\n",
      "|2024-07-01 17:09:00|M01       |1.184    |0.929   |76.58      |16.19  |Failure Detected|0.348|0.096|-0.05|1    |\n",
      "+-------------------+----------+---------+--------+-----------+-------+----------------+-----+-----+-----+-----+\n",
      "\n",
      "-------------------------------------------\n",
      "Batch: 466\n",
      "-------------------------------------------\n",
      "+-------------------+----------+---------+--------+-----------+-------+------+-----+-----+-----+-----+\n",
      "|event_timestamp    |machine_id|vibration|acoustic|temperature|current|status|IMF_1|IMF_2|IMF_3|label|\n",
      "+-------------------+----------+---------+--------+-----------+-------+------+-----+-----+-----+-----+\n",
      "|2024-07-01 17:10:00|M01       |0.732    |0.591   |65.37      |12.6   |Normal|0.087|0.006|-0.05|0    |\n",
      "+-------------------+----------+---------+--------+-----------+-------+------+-----+-----+-----+-----+\n",
      "\n",
      "-------------------------------------------\n",
      "Batch: 467\n",
      "-------------------------------------------\n",
      "+-------------------+----------+---------+--------+-----------+-------+------+-----+-----+-----+-----+\n",
      "|event_timestamp    |machine_id|vibration|acoustic|temperature|current|status|IMF_1|IMF_2|IMF_3|label|\n",
      "+-------------------+----------+---------+--------+-----------+-------+------+-----+-----+-----+-----+\n",
      "|2024-07-01 17:11:00|M01       |0.755    |0.571   |66.66      |11.9   |Normal|0.151|0.103|-0.05|0    |\n",
      "+-------------------+----------+---------+--------+-----------+-------+------+-----+-----+-----+-----+\n",
      "\n",
      "-------------------------------------------\n",
      "Batch: 468\n",
      "-------------------------------------------\n",
      "+-------------------+----------+---------+--------+-----------+-------+------+-----+-----+-----+-----+\n",
      "|event_timestamp    |machine_id|vibration|acoustic|temperature|current|status|IMF_1|IMF_2|IMF_3|label|\n",
      "+-------------------+----------+---------+--------+-----------+-------+------+-----+-----+-----+-----+\n",
      "|2024-07-01 17:12:00|M01       |0.787    |0.588   |66.24      |12.55  |Normal|0.148|0.022|-0.05|0    |\n",
      "+-------------------+----------+---------+--------+-----------+-------+------+-----+-----+-----+-----+\n",
      "\n"
     ]
    },
    {
     "name": "stderr",
     "output_type": "stream",
     "text": [
      "                                                                                \r"
     ]
    },
    {
     "name": "stdout",
     "output_type": "stream",
     "text": [
      "-------------------------------------------\n",
      "Batch: 469\n",
      "-------------------------------------------\n",
      "+-------------------+----------+---------+--------+-----------+-------+------+-----+-----+-----+-----+\n",
      "|event_timestamp    |machine_id|vibration|acoustic|temperature|current|status|IMF_1|IMF_2|IMF_3|label|\n",
      "+-------------------+----------+---------+--------+-----------+-------+------+-----+-----+-----+-----+\n",
      "|2024-07-01 17:13:00|M01       |0.83     |0.647   |63.51      |11.4   |Normal|0.151|0.056|-0.05|0    |\n",
      "+-------------------+----------+---------+--------+-----------+-------+------+-----+-----+-----+-----+\n",
      "\n",
      "-------------------------------------------\n",
      "Batch: 470\n",
      "-------------------------------------------\n",
      "+-------------------+----------+---------+--------+-----------+-------+------+-----+-----+-----+-----+\n",
      "|event_timestamp    |machine_id|vibration|acoustic|temperature|current|status|IMF_1|IMF_2|IMF_3|label|\n",
      "+-------------------+----------+---------+--------+-----------+-------+------+-----+-----+-----+-----+\n",
      "|2024-07-01 17:14:00|M01       |0.86     |0.519   |66.88      |11.91  |Normal|0.092|0.066|-0.05|0    |\n",
      "+-------------------+----------+---------+--------+-----------+-------+------+-----+-----+-----+-----+\n",
      "\n",
      "-------------------------------------------\n",
      "Batch: 471\n",
      "-------------------------------------------\n",
      "+-------------------+----------+---------+--------+-----------+-------+------+-----+------+-----+-----+\n",
      "|event_timestamp    |machine_id|vibration|acoustic|temperature|current|status|IMF_1|IMF_2 |IMF_3|label|\n",
      "+-------------------+----------+---------+--------+-----------+-------+------+-----+------+-----+-----+\n",
      "|2024-07-01 17:15:00|M01       |0.795    |0.589   |64.21      |11.06  |Normal|0.085|-0.086|-0.05|0    |\n",
      "+-------------------+----------+---------+--------+-----------+-------+------+-----+------+-----+-----+\n",
      "\n"
     ]
    },
    {
     "name": "stderr",
     "output_type": "stream",
     "text": [
      "                                                                                \r"
     ]
    },
    {
     "name": "stdout",
     "output_type": "stream",
     "text": [
      "-------------------------------------------\n",
      "Batch: 472\n",
      "-------------------------------------------\n",
      "+-------------------+----------+---------+--------+-----------+-------+------+-----+------+-----+-----+\n",
      "|event_timestamp    |machine_id|vibration|acoustic|temperature|current|status|IMF_1|IMF_2 |IMF_3|label|\n",
      "+-------------------+----------+---------+--------+-----------+-------+------+-----+------+-----+-----+\n",
      "|2024-07-01 17:16:00|M01       |0.768    |0.619   |66.74      |11.96  |Normal|0.198|-0.072|-0.05|0    |\n",
      "+-------------------+----------+---------+--------+-----------+-------+------+-----+------+-----+-----+\n",
      "\n",
      "-------------------------------------------\n",
      "Batch: 473\n",
      "-------------------------------------------\n",
      "+-------------------+----------+---------+--------+-----------+-------+----------------+-----+------+------+-----+\n",
      "|event_timestamp    |machine_id|vibration|acoustic|temperature|current|status          |IMF_1|IMF_2 |IMF_3 |label|\n",
      "+-------------------+----------+---------+--------+-----------+-------+----------------+-----+------+------+-----+\n",
      "|2024-07-01 17:17:00|M01       |1.405    |0.834   |80.62      |16.17  |Failure Detected|0.229|-0.123|-0.049|1    |\n",
      "+-------------------+----------+---------+--------+-----------+-------+----------------+-----+------+------+-----+\n",
      "\n"
     ]
    },
    {
     "name": "stderr",
     "output_type": "stream",
     "text": [
      "                                                                                \r"
     ]
    },
    {
     "name": "stdout",
     "output_type": "stream",
     "text": [
      "-------------------------------------------\n",
      "Batch: 474\n",
      "-------------------------------------------\n",
      "+-------------------+----------+---------+--------+-----------+-------+------+-----+------+------+-----+\n",
      "|event_timestamp    |machine_id|vibration|acoustic|temperature|current|status|IMF_1|IMF_2 |IMF_3 |label|\n",
      "+-------------------+----------+---------+--------+-----------+-------+------+-----+------+------+-----+\n",
      "|2024-07-01 17:18:00|M01       |0.834    |0.609   |67.21      |11.51  |Normal|0.193|-0.015|-0.049|0    |\n",
      "+-------------------+----------+---------+--------+-----------+-------+------+-----+------+------+-----+\n",
      "\n"
     ]
    },
    {
     "name": "stderr",
     "output_type": "stream",
     "text": [
      "                                                                                \r"
     ]
    },
    {
     "name": "stdout",
     "output_type": "stream",
     "text": [
      "-------------------------------------------\n",
      "Batch: 475\n",
      "-------------------------------------------\n",
      "+-------------------+----------+---------+--------+-----------+-------+------+-----+------+------+-----+\n",
      "|event_timestamp    |machine_id|vibration|acoustic|temperature|current|status|IMF_1|IMF_2 |IMF_3 |label|\n",
      "+-------------------+----------+---------+--------+-----------+-------+------+-----+------+------+-----+\n",
      "|2024-07-01 17:19:00|M01       |0.811    |0.576   |66.0       |11.29  |Normal|0.102|-0.089|-0.049|0    |\n",
      "+-------------------+----------+---------+--------+-----------+-------+------+-----+------+------+-----+\n",
      "\n",
      "-------------------------------------------\n",
      "Batch: 476\n",
      "-------------------------------------------\n",
      "+-------------------+----------+---------+--------+-----------+-------+------+-----+------+------+-----+\n",
      "|event_timestamp    |machine_id|vibration|acoustic|temperature|current|status|IMF_1|IMF_2 |IMF_3 |label|\n",
      "+-------------------+----------+---------+--------+-----------+-------+------+-----+------+------+-----+\n",
      "|2024-07-01 17:20:00|M01       |0.767    |0.626   |63.73      |11.32  |Normal|0.164|-0.057|-0.049|0    |\n",
      "+-------------------+----------+---------+--------+-----------+-------+------+-----+------+------+-----+\n",
      "\n",
      "-------------------------------------------\n",
      "Batch: 477\n",
      "-------------------------------------------\n",
      "+-------------------+----------+---------+--------+-----------+-------+------+-----+-----+------+-----+\n",
      "|event_timestamp    |machine_id|vibration|acoustic|temperature|current|status|IMF_1|IMF_2|IMF_3 |label|\n",
      "+-------------------+----------+---------+--------+-----------+-------+------+-----+-----+------+-----+\n",
      "|2024-07-01 17:21:00|M01       |0.798    |0.6     |62.77      |11.72  |Normal|0.178|0.015|-0.049|0    |\n",
      "+-------------------+----------+---------+--------+-----------+-------+------+-----+-----+------+-----+\n",
      "\n",
      "-------------------------------------------\n",
      "Batch: 478\n",
      "-------------------------------------------\n",
      "+-------------------+----------+---------+--------+-----------+-------+------+-----+------+------+-----+\n",
      "|event_timestamp    |machine_id|vibration|acoustic|temperature|current|status|IMF_1|IMF_2 |IMF_3 |label|\n",
      "+-------------------+----------+---------+--------+-----------+-------+------+-----+------+------+-----+\n",
      "|2024-07-01 17:22:00|M01       |0.841    |0.726   |65.09      |11.28  |Normal|0.226|-0.101|-0.049|0    |\n",
      "+-------------------+----------+---------+--------+-----------+-------+------+-----+------+------+-----+\n",
      "\n",
      "-------------------------------------------\n",
      "Batch: 479\n",
      "-------------------------------------------\n",
      "+-------------------+----------+---------+--------+-----------+-------+------+-----+------+------+-----+\n",
      "|event_timestamp    |machine_id|vibration|acoustic|temperature|current|status|IMF_1|IMF_2 |IMF_3 |label|\n",
      "+-------------------+----------+---------+--------+-----------+-------+------+-----+------+------+-----+\n",
      "|2024-07-01 17:23:00|M01       |0.749    |0.624   |64.71      |11.88  |Normal|0.127|-0.052|-0.048|0    |\n",
      "+-------------------+----------+---------+--------+-----------+-------+------+-----+------+------+-----+\n",
      "\n"
     ]
    },
    {
     "name": "stderr",
     "output_type": "stream",
     "text": [
      "                                                                                \r"
     ]
    },
    {
     "name": "stdout",
     "output_type": "stream",
     "text": [
      "-------------------------------------------\n",
      "Batch: 480\n",
      "-------------------------------------------\n",
      "+-------------------+----------+---------+--------+-----------+-------+------+-----+------+------+-----+\n",
      "|event_timestamp    |machine_id|vibration|acoustic|temperature|current|status|IMF_1|IMF_2 |IMF_3 |label|\n",
      "+-------------------+----------+---------+--------+-----------+-------+------+-----+------+------+-----+\n",
      "|2024-07-01 17:24:00|M01       |0.72     |0.656   |65.42      |12.53  |Normal|0.095|-0.055|-0.048|0    |\n",
      "+-------------------+----------+---------+--------+-----------+-------+------+-----+------+------+-----+\n",
      "\n"
     ]
    },
    {
     "name": "stderr",
     "output_type": "stream",
     "text": [
      "                                                                                \r"
     ]
    },
    {
     "name": "stdout",
     "output_type": "stream",
     "text": [
      "-------------------------------------------\n",
      "Batch: 481\n",
      "-------------------------------------------\n",
      "+-------------------+----------+---------+--------+-----------+-------+------+-----+------+------+-----+\n",
      "|event_timestamp    |machine_id|vibration|acoustic|temperature|current|status|IMF_1|IMF_2 |IMF_3 |label|\n",
      "+-------------------+----------+---------+--------+-----------+-------+------+-----+------+------+-----+\n",
      "|2024-07-01 17:25:00|M01       |0.853    |0.731   |63.56      |11.75  |Normal|0.176|-0.012|-0.048|0    |\n",
      "+-------------------+----------+---------+--------+-----------+-------+------+-----+------+------+-----+\n",
      "\n",
      "-------------------------------------------\n",
      "Batch: 482\n",
      "-------------------------------------------\n",
      "+-------------------+----------+---------+--------+-----------+-------+------+-----+------+------+-----+\n",
      "|event_timestamp    |machine_id|vibration|acoustic|temperature|current|status|IMF_1|IMF_2 |IMF_3 |label|\n",
      "+-------------------+----------+---------+--------+-----------+-------+------+-----+------+------+-----+\n",
      "|2024-07-01 17:26:00|M01       |0.844    |0.622   |66.1       |12.4   |Normal|0.192|-0.122|-0.047|0    |\n",
      "+-------------------+----------+---------+--------+-----------+-------+------+-----+------+------+-----+\n",
      "\n"
     ]
    },
    {
     "name": "stderr",
     "output_type": "stream",
     "text": [
      "                                                                                \r"
     ]
    },
    {
     "name": "stdout",
     "output_type": "stream",
     "text": [
      "-------------------------------------------\n",
      "Batch: 483\n",
      "-------------------------------------------\n",
      "+-------------------+----------+---------+--------+-----------+-------+------+-----+-----+------+-----+\n",
      "|event_timestamp    |machine_id|vibration|acoustic|temperature|current|status|IMF_1|IMF_2|IMF_3 |label|\n",
      "+-------------------+----------+---------+--------+-----------+-------+------+-----+-----+------+-----+\n",
      "|2024-07-01 17:27:00|M01       |0.746    |0.552   |65.51      |12.24  |Normal|0.089|0.076|-0.047|0    |\n",
      "+-------------------+----------+---------+--------+-----------+-------+------+-----+-----+------+-----+\n",
      "\n",
      "-------------------------------------------\n",
      "Batch: 484\n",
      "-------------------------------------------\n",
      "+-------------------+----------+---------+--------+-----------+-------+------+-----+-----+------+-----+\n",
      "|event_timestamp    |machine_id|vibration|acoustic|temperature|current|status|IMF_1|IMF_2|IMF_3 |label|\n",
      "+-------------------+----------+---------+--------+-----------+-------+------+-----+-----+------+-----+\n",
      "|2024-07-01 17:28:00|M01       |0.809    |0.489   |63.99      |12.57  |Normal|0.166|0.001|-0.047|0    |\n",
      "+-------------------+----------+---------+--------+-----------+-------+------+-----+-----+------+-----+\n",
      "\n"
     ]
    },
    {
     "name": "stderr",
     "output_type": "stream",
     "text": [
      "                                                                                \r"
     ]
    },
    {
     "name": "stdout",
     "output_type": "stream",
     "text": [
      "-------------------------------------------\n",
      "Batch: 485\n",
      "-------------------------------------------\n",
      "+-------------------+----------+---------+--------+-----------+-------+------+-----+-----+------+-----+\n",
      "|event_timestamp    |machine_id|vibration|acoustic|temperature|current|status|IMF_1|IMF_2|IMF_3 |label|\n",
      "+-------------------+----------+---------+--------+-----------+-------+------+-----+-----+------+-----+\n",
      "|2024-07-01 17:29:00|M01       |0.743    |0.607   |62.61      |11.62  |Normal|0.113|0.083|-0.046|0    |\n",
      "+-------------------+----------+---------+--------+-----------+-------+------+-----+-----+------+-----+\n",
      "\n",
      "-------------------------------------------\n",
      "Batch: 486\n",
      "-------------------------------------------\n",
      "+-------------------+----------+---------+--------+-----------+-------+------+-----+------+------+-----+\n",
      "|event_timestamp    |machine_id|vibration|acoustic|temperature|current|status|IMF_1|IMF_2 |IMF_3 |label|\n",
      "+-------------------+----------+---------+--------+-----------+-------+------+-----+------+------+-----+\n",
      "|2024-07-01 17:30:00|M01       |0.813    |0.649   |65.94      |11.63  |Normal|0.129|-0.068|-0.046|0    |\n",
      "+-------------------+----------+---------+--------+-----------+-------+------+-----+------+------+-----+\n",
      "\n"
     ]
    },
    {
     "name": "stderr",
     "output_type": "stream",
     "text": [
      "                                                                                \r"
     ]
    },
    {
     "name": "stdout",
     "output_type": "stream",
     "text": [
      "-------------------------------------------\n",
      "Batch: 487\n",
      "-------------------------------------------\n",
      "+-------------------+----------+---------+--------+-----------+-------+------+-----+-----+------+-----+\n",
      "|event_timestamp    |machine_id|vibration|acoustic|temperature|current|status|IMF_1|IMF_2|IMF_3 |label|\n",
      "+-------------------+----------+---------+--------+-----------+-------+------+-----+-----+------+-----+\n",
      "|2024-07-01 17:31:00|M01       |0.747    |0.664   |65.67      |11.07  |Normal|0.145|0.101|-0.046|0    |\n",
      "+-------------------+----------+---------+--------+-----------+-------+------+-----+-----+------+-----+\n",
      "\n"
     ]
    },
    {
     "name": "stderr",
     "output_type": "stream",
     "text": [
      "                                                                                \r"
     ]
    },
    {
     "name": "stdout",
     "output_type": "stream",
     "text": [
      "-------------------------------------------\n",
      "Batch: 488\n",
      "-------------------------------------------\n",
      "+-------------------+----------+---------+--------+-----------+-------+------+-----+-----+------+-----+\n",
      "|event_timestamp    |machine_id|vibration|acoustic|temperature|current|status|IMF_1|IMF_2|IMF_3 |label|\n",
      "+-------------------+----------+---------+--------+-----------+-------+------+-----+-----+------+-----+\n",
      "|2024-07-01 17:32:00|M01       |0.813    |0.536   |66.75      |11.95  |Normal|0.131|0.067|-0.045|0    |\n",
      "+-------------------+----------+---------+--------+-----------+-------+------+-----+-----+------+-----+\n",
      "\n",
      "-------------------------------------------\n",
      "Batch: 489\n",
      "-------------------------------------------\n",
      "+-------------------+----------+---------+--------+-----------+-------+------+-----+-----+------+-----+\n",
      "|event_timestamp    |machine_id|vibration|acoustic|temperature|current|status|IMF_1|IMF_2|IMF_3 |label|\n",
      "+-------------------+----------+---------+--------+-----------+-------+------+-----+-----+------+-----+\n",
      "|2024-07-01 17:33:00|M01       |0.813    |0.583   |62.14      |11.54  |Normal|0.206|0.017|-0.045|0    |\n",
      "+-------------------+----------+---------+--------+-----------+-------+------+-----+-----+------+-----+\n",
      "\n",
      "-------------------------------------------\n",
      "Batch: 490\n",
      "-------------------------------------------\n",
      "+-------------------+----------+---------+--------+-----------+-------+------+-----+------+------+-----+\n",
      "|event_timestamp    |machine_id|vibration|acoustic|temperature|current|status|IMF_1|IMF_2 |IMF_3 |label|\n",
      "+-------------------+----------+---------+--------+-----------+-------+------+-----+------+------+-----+\n",
      "|2024-07-01 17:34:00|M01       |0.77     |0.637   |66.17      |11.51  |Normal|0.133|-0.017|-0.044|0    |\n",
      "+-------------------+----------+---------+--------+-----------+-------+------+-----+------+------+-----+\n",
      "\n"
     ]
    },
    {
     "name": "stderr",
     "output_type": "stream",
     "text": [
      "                                                                                \r"
     ]
    },
    {
     "name": "stdout",
     "output_type": "stream",
     "text": [
      "-------------------------------------------\n",
      "Batch: 491\n",
      "-------------------------------------------\n",
      "+-------------------+----------+---------+--------+-----------+-------+----------------+-----+-----+------+-----+\n",
      "|event_timestamp    |machine_id|vibration|acoustic|temperature|current|status          |IMF_1|IMF_2|IMF_3 |label|\n",
      "+-------------------+----------+---------+--------+-----------+-------+----------------+-----+-----+------+-----+\n",
      "|2024-07-01 17:35:00|M01       |1.291    |0.996   |76.75      |15.31  |Failure Detected|0.236|0.065|-0.044|1    |\n",
      "+-------------------+----------+---------+--------+-----------+-------+----------------+-----+-----+------+-----+\n",
      "\n",
      "-------------------------------------------\n",
      "Batch: 492\n",
      "-------------------------------------------\n",
      "+-------------------+----------+---------+--------+-----------+-------+------+-----+------+------+-----+\n",
      "|event_timestamp    |machine_id|vibration|acoustic|temperature|current|status|IMF_1|IMF_2 |IMF_3 |label|\n",
      "+-------------------+----------+---------+--------+-----------+-------+------+-----+------+------+-----+\n",
      "|2024-07-01 17:36:00|M01       |0.855    |0.585   |64.56      |11.74  |Normal|0.193|-0.006|-0.043|0    |\n",
      "+-------------------+----------+---------+--------+-----------+-------+------+-----+------+------+-----+\n",
      "\n",
      "-------------------------------------------\n",
      "Batch: 493\n",
      "-------------------------------------------\n",
      "+-------------------+----------+---------+--------+-----------+-------+------+-----+-----+------+-----+\n",
      "|event_timestamp    |machine_id|vibration|acoustic|temperature|current|status|IMF_1|IMF_2|IMF_3 |label|\n",
      "+-------------------+----------+---------+--------+-----------+-------+------+-----+-----+------+-----+\n",
      "|2024-07-01 17:37:00|M01       |0.726    |0.598   |65.27      |10.83  |Normal|0.213|0.091|-0.043|0    |\n",
      "+-------------------+----------+---------+--------+-----------+-------+------+-----+-----+------+-----+\n",
      "\n",
      "-------------------------------------------\n",
      "Batch: 494\n",
      "-------------------------------------------\n",
      "+-------------------+----------+---------+--------+-----------+-------+------+-----+-----+------+-----+\n",
      "|event_timestamp    |machine_id|vibration|acoustic|temperature|current|status|IMF_1|IMF_2|IMF_3 |label|\n",
      "+-------------------+----------+---------+--------+-----------+-------+------+-----+-----+------+-----+\n",
      "|2024-07-01 17:38:00|M01       |0.782    |0.557   |64.52      |12.22  |Normal|0.094|0.008|-0.042|0    |\n",
      "+-------------------+----------+---------+--------+-----------+-------+------+-----+-----+------+-----+\n",
      "\n",
      "-------------------------------------------\n",
      "Batch: 495\n",
      "-------------------------------------------\n",
      "+-------------------+----------+---------+--------+-----------+-------+------+-----+------+------+-----+\n",
      "|event_timestamp    |machine_id|vibration|acoustic|temperature|current|status|IMF_1|IMF_2 |IMF_3 |label|\n",
      "+-------------------+----------+---------+--------+-----------+-------+------+-----+------+------+-----+\n",
      "|2024-07-01 17:39:00|M01       |0.8      |0.605   |62.75      |11.81  |Normal|0.164|-0.011|-0.042|0    |\n",
      "+-------------------+----------+---------+--------+-----------+-------+------+-----+------+------+-----+\n",
      "\n",
      "-------------------------------------------\n",
      "Batch: 496\n",
      "-------------------------------------------\n",
      "+-------------------+----------+---------+--------+-----------+-------+------+-----+------+------+-----+\n",
      "|event_timestamp    |machine_id|vibration|acoustic|temperature|current|status|IMF_1|IMF_2 |IMF_3 |label|\n",
      "+-------------------+----------+---------+--------+-----------+-------+------+-----+------+------+-----+\n",
      "|2024-07-01 17:40:00|M01       |0.836    |0.578   |63.39      |11.51  |Normal|0.163|-0.106|-0.041|0    |\n",
      "+-------------------+----------+---------+--------+-----------+-------+------+-----+------+------+-----+\n",
      "\n"
     ]
    },
    {
     "name": "stderr",
     "output_type": "stream",
     "text": [
      "                                                                                \r"
     ]
    },
    {
     "name": "stdout",
     "output_type": "stream",
     "text": [
      "-------------------------------------------\n",
      "Batch: 497\n",
      "-------------------------------------------\n",
      "+-------------------+----------+---------+--------+-----------+-------+----------------+-----+-----+------+-----+\n",
      "|event_timestamp    |machine_id|vibration|acoustic|temperature|current|status          |IMF_1|IMF_2|IMF_3 |label|\n",
      "+-------------------+----------+---------+--------+-----------+-------+----------------+-----+-----+------+-----+\n",
      "|2024-07-01 17:41:00|M01       |1.273    |0.949   |73.5       |15.66  |Failure Detected|0.292|0.145|-0.041|1    |\n",
      "+-------------------+----------+---------+--------+-----------+-------+----------------+-----+-----+------+-----+\n",
      "\n"
     ]
    },
    {
     "name": "stderr",
     "output_type": "stream",
     "text": [
      "                                                                                \r"
     ]
    },
    {
     "name": "stdout",
     "output_type": "stream",
     "text": [
      "-------------------------------------------\n",
      "Batch: 498\n",
      "-------------------------------------------\n",
      "+-------------------+----------+---------+--------+-----------+-------+------+-----+-----+-----+-----+\n",
      "|event_timestamp    |machine_id|vibration|acoustic|temperature|current|status|IMF_1|IMF_2|IMF_3|label|\n",
      "+-------------------+----------+---------+--------+-----------+-------+------+-----+-----+-----+-----+\n",
      "|2024-07-01 17:42:00|M01       |0.801    |0.645   |62.79      |11.61  |Normal|0.205|0.063|-0.04|0    |\n",
      "+-------------------+----------+---------+--------+-----------+-------+------+-----+-----+-----+-----+\n",
      "\n"
     ]
    },
    {
     "name": "stderr",
     "output_type": "stream",
     "text": [
      "                                                                                \r"
     ]
    },
    {
     "name": "stdout",
     "output_type": "stream",
     "text": [
      "-------------------------------------------\n",
      "Batch: 499\n",
      "-------------------------------------------\n",
      "+-------------------+----------+---------+--------+-----------+-------+------+-----+------+------+-----+\n",
      "|event_timestamp    |machine_id|vibration|acoustic|temperature|current|status|IMF_1|IMF_2 |IMF_3 |label|\n",
      "+-------------------+----------+---------+--------+-----------+-------+------+-----+------+------+-----+\n",
      "|2024-07-01 17:43:00|M01       |0.838    |0.613   |65.31      |11.36  |Normal|0.219|-0.038|-0.039|0    |\n",
      "+-------------------+----------+---------+--------+-----------+-------+------+-----+------+------+-----+\n",
      "\n",
      "-------------------------------------------\n",
      "Batch: 500\n",
      "-------------------------------------------\n",
      "+-------------------+----------+---------+--------+-----------+-------+------+-----+------+------+-----+\n",
      "|event_timestamp    |machine_id|vibration|acoustic|temperature|current|status|IMF_1|IMF_2 |IMF_3 |label|\n",
      "+-------------------+----------+---------+--------+-----------+-------+------+-----+------+------+-----+\n",
      "|2024-07-01 17:44:00|M01       |0.728    |0.577   |60.68      |12.09  |Normal|0.167|-0.077|-0.039|0    |\n",
      "+-------------------+----------+---------+--------+-----------+-------+------+-----+------+------+-----+\n",
      "\n",
      "-------------------------------------------\n",
      "Batch: 501\n",
      "-------------------------------------------\n",
      "+-------------------+----------+---------+--------+-----------+-------+------+-----+-----+------+-----+\n",
      "|event_timestamp    |machine_id|vibration|acoustic|temperature|current|status|IMF_1|IMF_2|IMF_3 |label|\n",
      "+-------------------+----------+---------+--------+-----------+-------+------+-----+-----+------+-----+\n",
      "|2024-07-01 17:45:00|M01       |0.798    |0.679   |63.65      |12.76  |Normal|0.21 |0.013|-0.038|0    |\n",
      "+-------------------+----------+---------+--------+-----------+-------+------+-----+-----+------+-----+\n",
      "\n"
     ]
    },
    {
     "name": "stderr",
     "output_type": "stream",
     "text": [
      "                                                                                \r"
     ]
    },
    {
     "name": "stdout",
     "output_type": "stream",
     "text": [
      "-------------------------------------------\n",
      "Batch: 502\n",
      "-------------------------------------------\n",
      "+-------------------+----------+---------+--------+-----------+-------+------+-----+------+------+-----+\n",
      "|event_timestamp    |machine_id|vibration|acoustic|temperature|current|status|IMF_1|IMF_2 |IMF_3 |label|\n",
      "+-------------------+----------+---------+--------+-----------+-------+------+-----+------+------+-----+\n",
      "|2024-07-01 17:46:00|M01       |0.774    |0.541   |67.03      |12.43  |Normal|0.09 |-0.062|-0.037|0    |\n",
      "+-------------------+----------+---------+--------+-----------+-------+------+-----+------+------+-----+\n",
      "\n"
     ]
    },
    {
     "name": "stderr",
     "output_type": "stream",
     "text": [
      "                                                                                \r"
     ]
    },
    {
     "name": "stdout",
     "output_type": "stream",
     "text": [
      "-------------------------------------------\n",
      "Batch: 503\n",
      "-------------------------------------------\n",
      "+-------------------+----------+---------+--------+-----------+-------+------+-----+-----+------+-----+\n",
      "|event_timestamp    |machine_id|vibration|acoustic|temperature|current|status|IMF_1|IMF_2|IMF_3 |label|\n",
      "+-------------------+----------+---------+--------+-----------+-------+------+-----+-----+------+-----+\n",
      "|2024-07-01 17:47:00|M01       |0.888    |0.672   |62.28      |12.77  |Normal|0.113|-0.13|-0.037|0    |\n",
      "+-------------------+----------+---------+--------+-----------+-------+------+-----+-----+------+-----+\n",
      "\n"
     ]
    },
    {
     "name": "stderr",
     "output_type": "stream",
     "text": [
      "                                                                                \r"
     ]
    },
    {
     "name": "stdout",
     "output_type": "stream",
     "text": [
      "-------------------------------------------\n",
      "Batch: 504\n",
      "-------------------------------------------\n",
      "+-------------------+----------+---------+--------+-----------+-------+------+-----+-----+------+-----+\n",
      "|event_timestamp    |machine_id|vibration|acoustic|temperature|current|status|IMF_1|IMF_2|IMF_3 |label|\n",
      "+-------------------+----------+---------+--------+-----------+-------+------+-----+-----+------+-----+\n",
      "|2024-07-01 17:48:00|M01       |0.723    |0.686   |65.22      |11.54  |Normal|0.152|0.038|-0.036|0    |\n",
      "+-------------------+----------+---------+--------+-----------+-------+------+-----+-----+------+-----+\n",
      "\n"
     ]
    },
    {
     "name": "stderr",
     "output_type": "stream",
     "text": [
      "                                                                                \r"
     ]
    },
    {
     "name": "stdout",
     "output_type": "stream",
     "text": [
      "-------------------------------------------\n",
      "Batch: 505\n",
      "-------------------------------------------\n",
      "+-------------------+----------+---------+--------+-----------+-------+------+-----+-----+------+-----+\n",
      "|event_timestamp    |machine_id|vibration|acoustic|temperature|current|status|IMF_1|IMF_2|IMF_3 |label|\n",
      "+-------------------+----------+---------+--------+-----------+-------+------+-----+-----+------+-----+\n",
      "|2024-07-01 17:49:00|M01       |0.886    |0.685   |64.63      |11.59  |Normal|0.191|0.051|-0.035|0    |\n",
      "+-------------------+----------+---------+--------+-----------+-------+------+-----+-----+------+-----+\n",
      "\n",
      "-------------------------------------------\n",
      "Batch: 506\n",
      "-------------------------------------------\n",
      "+-------------------+----------+---------+--------+-----------+-------+----------------+-----+------+------+-----+\n",
      "|event_timestamp    |machine_id|vibration|acoustic|temperature|current|status          |IMF_1|IMF_2 |IMF_3 |label|\n",
      "+-------------------+----------+---------+--------+-----------+-------+----------------+-----+------+------+-----+\n",
      "|2024-07-01 17:50:00|M01       |1.28     |0.887   |74.26      |14.38  |Failure Detected|0.369|-0.169|-0.035|1    |\n",
      "+-------------------+----------+---------+--------+-----------+-------+----------------+-----+------+------+-----+\n",
      "\n"
     ]
    },
    {
     "name": "stderr",
     "output_type": "stream",
     "text": [
      "                                                                                \r"
     ]
    },
    {
     "name": "stdout",
     "output_type": "stream",
     "text": [
      "-------------------------------------------\n",
      "Batch: 507\n",
      "-------------------------------------------\n",
      "+-------------------+----------+---------+--------+-----------+-------+------+-----+------+------+-----+\n",
      "|event_timestamp    |machine_id|vibration|acoustic|temperature|current|status|IMF_1|IMF_2 |IMF_3 |label|\n",
      "+-------------------+----------+---------+--------+-----------+-------+------+-----+------+------+-----+\n",
      "|2024-07-01 17:51:00|M01       |0.81     |0.654   |67.58      |12.36  |Normal|0.144|-0.112|-0.034|0    |\n",
      "+-------------------+----------+---------+--------+-----------+-------+------+-----+------+------+-----+\n",
      "\n",
      "-------------------------------------------\n",
      "Batch: 508\n",
      "-------------------------------------------\n",
      "+-------------------+----------+---------+--------+-----------+-------+----------------+-----+-----+------+-----+\n",
      "|event_timestamp    |machine_id|vibration|acoustic|temperature|current|status          |IMF_1|IMF_2|IMF_3 |label|\n",
      "+-------------------+----------+---------+--------+-----------+-------+----------------+-----+-----+------+-----+\n",
      "|2024-07-01 17:52:00|M01       |1.26     |0.939   |77.81      |13.91  |Failure Detected|0.367|0.036|-0.033|1    |\n",
      "+-------------------+----------+---------+--------+-----------+-------+----------------+-----+-----+------+-----+\n",
      "\n"
     ]
    },
    {
     "name": "stderr",
     "output_type": "stream",
     "text": [
      "                                                                                \r"
     ]
    },
    {
     "name": "stdout",
     "output_type": "stream",
     "text": [
      "-------------------------------------------\n",
      "Batch: 509\n",
      "-------------------------------------------\n",
      "+-------------------+----------+---------+--------+-----------+-------+------+-----+------+------+-----+\n",
      "|event_timestamp    |machine_id|vibration|acoustic|temperature|current|status|IMF_1|IMF_2 |IMF_3 |label|\n",
      "+-------------------+----------+---------+--------+-----------+-------+------+-----+------+------+-----+\n",
      "|2024-07-01 17:53:00|M01       |0.833    |0.601   |64.1       |12.21  |Normal|0.232|-0.008|-0.032|0    |\n",
      "+-------------------+----------+---------+--------+-----------+-------+------+-----+------+------+-----+\n",
      "\n",
      "-------------------------------------------\n",
      "Batch: 510\n",
      "-------------------------------------------\n",
      "+-------------------+----------+---------+--------+-----------+-------+----------------+-----+------+------+-----+\n",
      "|event_timestamp    |machine_id|vibration|acoustic|temperature|current|status          |IMF_1|IMF_2 |IMF_3 |label|\n",
      "+-------------------+----------+---------+--------+-----------+-------+----------------+-----+------+------+-----+\n",
      "|2024-07-01 17:54:00|M01       |1.336    |0.946   |79.52      |14.98  |Failure Detected|0.26 |-0.122|-0.032|1    |\n",
      "+-------------------+----------+---------+--------+-----------+-------+----------------+-----+------+------+-----+\n",
      "\n",
      "-------------------------------------------\n",
      "Batch: 511\n",
      "-------------------------------------------\n",
      "+-------------------+----------+---------+--------+-----------+-------+------+-----+-----+------+-----+\n",
      "|event_timestamp    |machine_id|vibration|acoustic|temperature|current|status|IMF_1|IMF_2|IMF_3 |label|\n",
      "+-------------------+----------+---------+--------+-----------+-------+------+-----+-----+------+-----+\n",
      "|2024-07-01 17:55:00|M01       |0.831    |0.618   |67.75      |12.02  |Normal|0.084|0.091|-0.031|0    |\n",
      "+-------------------+----------+---------+--------+-----------+-------+------+-----+-----+------+-----+\n",
      "\n",
      "-------------------------------------------\n",
      "Batch: 512\n",
      "-------------------------------------------\n",
      "+-------------------+----------+---------+--------+-----------+-------+------+-----+-----+-----+-----+\n",
      "|event_timestamp    |machine_id|vibration|acoustic|temperature|current|status|IMF_1|IMF_2|IMF_3|label|\n",
      "+-------------------+----------+---------+--------+-----------+-------+------+-----+-----+-----+-----+\n",
      "|2024-07-01 17:56:00|M01       |0.806    |0.592   |66.0       |12.27  |Normal|0.083|0.021|-0.03|0    |\n",
      "+-------------------+----------+---------+--------+-----------+-------+------+-----+-----+-----+-----+\n",
      "\n",
      "-------------------------------------------\n",
      "Batch: 513\n",
      "-------------------------------------------\n",
      "+-------------------+----------+---------+--------+-----------+-------+------+-----+------+------+-----+\n",
      "|event_timestamp    |machine_id|vibration|acoustic|temperature|current|status|IMF_1|IMF_2 |IMF_3 |label|\n",
      "+-------------------+----------+---------+--------+-----------+-------+------+-----+------+------+-----+\n",
      "|2024-07-01 17:57:00|M01       |0.826    |0.624   |66.02      |12.22  |Normal|0.247|-0.006|-0.029|0    |\n",
      "+-------------------+----------+---------+--------+-----------+-------+------+-----+------+------+-----+\n",
      "\n",
      "-------------------------------------------\n",
      "Batch: 514\n",
      "-------------------------------------------\n",
      "+-------------------+----------+---------+--------+-----------+-------+------+-----+------+------+-----+\n",
      "|event_timestamp    |machine_id|vibration|acoustic|temperature|current|status|IMF_1|IMF_2 |IMF_3 |label|\n",
      "+-------------------+----------+---------+--------+-----------+-------+------+-----+------+------+-----+\n",
      "|2024-07-01 17:58:00|M01       |0.827    |0.588   |59.65      |12.81  |Normal|0.209|-0.051|-0.028|0    |\n",
      "+-------------------+----------+---------+--------+-----------+-------+------+-----+------+------+-----+\n",
      "\n",
      "-------------------------------------------\n",
      "Batch: 515\n",
      "-------------------------------------------\n",
      "+-------------------+----------+---------+--------+-----------+-------+------+-----+-----+------+-----+\n",
      "|event_timestamp    |machine_id|vibration|acoustic|temperature|current|status|IMF_1|IMF_2|IMF_3 |label|\n",
      "+-------------------+----------+---------+--------+-----------+-------+------+-----+-----+------+-----+\n",
      "|2024-07-01 17:59:00|M01       |0.862    |0.596   |65.49      |10.81  |Normal|0.091|0.02 |-0.028|0    |\n",
      "+-------------------+----------+---------+--------+-----------+-------+------+-----+-----+------+-----+\n",
      "\n",
      "-------------------------------------------\n",
      "Batch: 516\n",
      "-------------------------------------------\n",
      "+-------------------+----------+---------+--------+-----------+-------+------+-----+-----+-----+-----+\n",
      "|event_timestamp    |machine_id|vibration|acoustic|temperature|current|status|IMF_1|IMF_2|IMF_3|label|\n",
      "+-------------------+----------+---------+--------+-----------+-------+------+-----+-----+-----+-----+\n",
      "|2024-07-01 08:00:00|M02       |0.726    |0.617   |63.28      |12.33  |Normal|0.2  |0.055|0.0  |0    |\n",
      "+-------------------+----------+---------+--------+-----------+-------+------+-----+-----+-----+-----+\n",
      "\n",
      "-------------------------------------------\n",
      "Batch: 517\n",
      "-------------------------------------------\n",
      "+-------------------+----------+---------+--------+-----------+-------+------+-----+-----+-----+-----+\n",
      "|event_timestamp    |machine_id|vibration|acoustic|temperature|current|status|IMF_1|IMF_2|IMF_3|label|\n",
      "+-------------------+----------+---------+--------+-----------+-------+------+-----+-----+-----+-----+\n",
      "|2024-07-01 08:01:00|M02       |0.815    |0.589   |63.28      |11.65  |Normal|0.092|0.097|0.001|0    |\n",
      "+-------------------+----------+---------+--------+-----------+-------+------+-----+-----+-----+-----+\n",
      "\n",
      "-------------------------------------------\n",
      "Batch: 518\n",
      "-------------------------------------------\n",
      "+-------------------+----------+---------+--------+-----------+-------+------+-----+------+-----+-----+\n",
      "|event_timestamp    |machine_id|vibration|acoustic|temperature|current|status|IMF_1|IMF_2 |IMF_3|label|\n",
      "+-------------------+----------+---------+--------+-----------+-------+------+-----+------+-----+-----+\n",
      "|2024-07-01 08:02:00|M02       |0.865    |0.539   |64.82      |11.79  |Normal|0.166|-0.101|0.002|0    |\n",
      "+-------------------+----------+---------+--------+-----------+-------+------+-----+------+-----+-----+\n",
      "\n"
     ]
    },
    {
     "name": "stderr",
     "output_type": "stream",
     "text": [
      "                                                                                \r"
     ]
    },
    {
     "name": "stdout",
     "output_type": "stream",
     "text": [
      "-------------------------------------------\n",
      "Batch: 519\n",
      "-------------------------------------------\n",
      "+-------------------+----------+---------+--------+-----------+-------+------+-----+-----+-----+-----+\n",
      "|event_timestamp    |machine_id|vibration|acoustic|temperature|current|status|IMF_1|IMF_2|IMF_3|label|\n",
      "+-------------------+----------+---------+--------+-----------+-------+------+-----+-----+-----+-----+\n",
      "|2024-07-01 08:03:00|M02       |0.806    |0.595   |65.1       |11.66  |Normal|0.12 |0.106|0.003|0    |\n",
      "+-------------------+----------+---------+--------+-----------+-------+------+-----+-----+-----+-----+\n",
      "\n",
      "-------------------------------------------\n",
      "Batch: 520\n",
      "-------------------------------------------\n",
      "+-------------------+----------+---------+--------+-----------+-------+------+-----+------+-----+-----+\n",
      "|event_timestamp    |machine_id|vibration|acoustic|temperature|current|status|IMF_1|IMF_2 |IMF_3|label|\n",
      "+-------------------+----------+---------+--------+-----------+-------+------+-----+------+-----+-----+\n",
      "|2024-07-01 08:04:00|M02       |0.842    |0.675   |66.01      |12.19  |Normal|0.114|-0.131|0.004|0    |\n",
      "+-------------------+----------+---------+--------+-----------+-------+------+-----+------+-----+-----+\n",
      "\n",
      "-------------------------------------------\n",
      "Batch: 521\n",
      "-------------------------------------------\n",
      "+-------------------+----------+---------+--------+-----------+-------+------+-----+-----+-----+-----+\n",
      "|event_timestamp    |machine_id|vibration|acoustic|temperature|current|status|IMF_1|IMF_2|IMF_3|label|\n",
      "+-------------------+----------+---------+--------+-----------+-------+------+-----+-----+-----+-----+\n",
      "|2024-07-01 08:05:00|M02       |0.835    |0.587   |67.43      |12.79  |Normal|0.199|0.107|0.005|0    |\n",
      "+-------------------+----------+---------+--------+-----------+-------+------+-----+-----+-----+-----+\n",
      "\n",
      "-------------------------------------------\n",
      "Batch: 522\n",
      "-------------------------------------------\n",
      "+-------------------+----------+---------+--------+-----------+-------+------+-----+-----+-----+-----+\n",
      "|event_timestamp    |machine_id|vibration|acoustic|temperature|current|status|IMF_1|IMF_2|IMF_3|label|\n",
      "+-------------------+----------+---------+--------+-----------+-------+------+-----+-----+-----+-----+\n",
      "|2024-07-01 08:06:00|M02       |0.676    |0.638   |66.06      |12.67  |Normal|0.073|0.109|0.006|0    |\n",
      "+-------------------+----------+---------+--------+-----------+-------+------+-----+-----+-----+-----+\n",
      "\n",
      "-------------------------------------------\n",
      "Batch: 523\n",
      "-------------------------------------------\n",
      "+-------------------+----------+---------+--------+-----------+-------+------+-----+-----+-----+-----+\n",
      "|event_timestamp    |machine_id|vibration|acoustic|temperature|current|status|IMF_1|IMF_2|IMF_3|label|\n",
      "+-------------------+----------+---------+--------+-----------+-------+------+-----+-----+-----+-----+\n",
      "|2024-07-01 08:07:00|M02       |0.775    |0.519   |64.11      |11.47  |Normal|0.199|0.047|0.007|0    |\n",
      "+-------------------+----------+---------+--------+-----------+-------+------+-----+-----+-----+-----+\n",
      "\n",
      "-------------------------------------------\n",
      "Batch: 524\n",
      "-------------------------------------------\n",
      "+-------------------+----------+---------+--------+-----------+-------+------+-----+-----+-----+-----+\n",
      "|event_timestamp    |machine_id|vibration|acoustic|temperature|current|status|IMF_1|IMF_2|IMF_3|label|\n",
      "+-------------------+----------+---------+--------+-----------+-------+------+-----+-----+-----+-----+\n",
      "|2024-07-01 08:08:00|M02       |0.843    |0.644   |60.92      |12.62  |Normal|0.202|0.043|0.008|0    |\n",
      "+-------------------+----------+---------+--------+-----------+-------+------+-----+-----+-----+-----+\n",
      "\n",
      "-------------------------------------------\n",
      "Batch: 525\n",
      "-------------------------------------------\n",
      "+-------------------+----------+---------+--------+-----------+-------+------+-----+------+-----+-----+\n",
      "|event_timestamp    |machine_id|vibration|acoustic|temperature|current|status|IMF_1|IMF_2 |IMF_3|label|\n",
      "+-------------------+----------+---------+--------+-----------+-------+------+-----+------+-----+-----+\n",
      "|2024-07-01 08:09:00|M02       |0.794    |0.591   |66.72      |12.6   |Normal|0.157|-0.008|0.009|0    |\n",
      "+-------------------+----------+---------+--------+-----------+-------+------+-----+------+-----+-----+\n",
      "\n"
     ]
    },
    {
     "name": "stderr",
     "output_type": "stream",
     "text": [
      "                                                                                \r"
     ]
    },
    {
     "name": "stdout",
     "output_type": "stream",
     "text": [
      "-------------------------------------------\n",
      "Batch: 526\n",
      "-------------------------------------------\n",
      "+-------------------+----------+---------+--------+-----------+-------+------+-----+------+-----+-----+\n",
      "|event_timestamp    |machine_id|vibration|acoustic|temperature|current|status|IMF_1|IMF_2 |IMF_3|label|\n",
      "+-------------------+----------+---------+--------+-----------+-------+------+-----+------+-----+-----+\n",
      "|2024-07-01 08:10:00|M02       |0.753    |0.561   |64.35      |11.64  |Normal|0.189|-0.095|0.01 |0    |\n",
      "+-------------------+----------+---------+--------+-----------+-------+------+-----+------+-----+-----+\n",
      "\n",
      "-------------------------------------------\n",
      "Batch: 527\n",
      "-------------------------------------------\n",
      "+-------------------+----------+---------+--------+-----------+-------+------+-----+-----+-----+-----+\n",
      "|event_timestamp    |machine_id|vibration|acoustic|temperature|current|status|IMF_1|IMF_2|IMF_3|label|\n",
      "+-------------------+----------+---------+--------+-----------+-------+------+-----+-----+-----+-----+\n",
      "|2024-07-01 08:11:00|M02       |0.859    |0.544   |68.63      |12.38  |Normal|0.092|0.005|0.011|0    |\n",
      "+-------------------+----------+---------+--------+-----------+-------+------+-----+-----+-----+-----+\n",
      "\n",
      "-------------------------------------------\n",
      "Batch: 528\n",
      "-------------------------------------------\n",
      "+-------------------+----------+---------+--------+-----------+-------+------+-----+-----+-----+-----+\n",
      "|event_timestamp    |machine_id|vibration|acoustic|temperature|current|status|IMF_1|IMF_2|IMF_3|label|\n",
      "+-------------------+----------+---------+--------+-----------+-------+------+-----+-----+-----+-----+\n",
      "|2024-07-01 08:12:00|M02       |0.87     |0.597   |66.97      |12.1   |Normal|0.254|0.102|0.012|0    |\n",
      "+-------------------+----------+---------+--------+-----------+-------+------+-----+-----+-----+-----+\n",
      "\n"
     ]
    },
    {
     "name": "stderr",
     "output_type": "stream",
     "text": [
      "                                                                                \r"
     ]
    },
    {
     "name": "stdout",
     "output_type": "stream",
     "text": [
      "-------------------------------------------\n",
      "Batch: 529\n",
      "-------------------------------------------\n",
      "+-------------------+----------+---------+--------+-----------+-------+------+-----+-----+-----+-----+\n",
      "|event_timestamp    |machine_id|vibration|acoustic|temperature|current|status|IMF_1|IMF_2|IMF_3|label|\n",
      "+-------------------+----------+---------+--------+-----------+-------+------+-----+-----+-----+-----+\n",
      "|2024-07-01 08:13:00|M02       |0.75     |0.551   |66.08      |11.77  |Normal|0.153|0.01 |0.013|0    |\n",
      "+-------------------+----------+---------+--------+-----------+-------+------+-----+-----+-----+-----+\n",
      "\n",
      "-------------------------------------------\n",
      "Batch: 530\n",
      "-------------------------------------------\n",
      "+-------------------+----------+---------+--------+-----------+-------+------+-----+-----+-----+-----+\n",
      "|event_timestamp    |machine_id|vibration|acoustic|temperature|current|status|IMF_1|IMF_2|IMF_3|label|\n",
      "+-------------------+----------+---------+--------+-----------+-------+------+-----+-----+-----+-----+\n",
      "|2024-07-01 08:14:00|M02       |0.829    |0.549   |63.54      |12.66  |Normal|0.206|0.078|0.014|0    |\n",
      "+-------------------+----------+---------+--------+-----------+-------+------+-----+-----+-----+-----+\n",
      "\n",
      "-------------------------------------------\n",
      "Batch: 531\n",
      "-------------------------------------------\n",
      "+-------------------+----------+---------+--------+-----------+-------+------+-----+-----+-----+-----+\n",
      "|event_timestamp    |machine_id|vibration|acoustic|temperature|current|status|IMF_1|IMF_2|IMF_3|label|\n",
      "+-------------------+----------+---------+--------+-----------+-------+------+-----+-----+-----+-----+\n",
      "|2024-07-01 08:15:00|M02       |0.849    |0.523   |68.14      |12.59  |Normal|0.16 |-0.04|0.015|0    |\n",
      "+-------------------+----------+---------+--------+-----------+-------+------+-----+-----+-----+-----+\n",
      "\n",
      "-------------------------------------------\n",
      "Batch: 532\n",
      "-------------------------------------------\n",
      "+-------------------+----------+---------+--------+-----------+-------+------+-----+-----+-----+-----+\n",
      "|event_timestamp    |machine_id|vibration|acoustic|temperature|current|status|IMF_1|IMF_2|IMF_3|label|\n",
      "+-------------------+----------+---------+--------+-----------+-------+------+-----+-----+-----+-----+\n",
      "|2024-07-01 08:16:00|M02       |0.818    |0.585   |65.07      |11.66  |Normal|0.235|0.045|0.016|0    |\n",
      "+-------------------+----------+---------+--------+-----------+-------+------+-----+-----+-----+-----+\n",
      "\n",
      "-------------------------------------------\n",
      "Batch: 533\n",
      "-------------------------------------------\n",
      "+-------------------+----------+---------+--------+-----------+-------+------+-----+-----+-----+-----+\n",
      "|event_timestamp    |machine_id|vibration|acoustic|temperature|current|status|IMF_1|IMF_2|IMF_3|label|\n",
      "+-------------------+----------+---------+--------+-----------+-------+------+-----+-----+-----+-----+\n",
      "|2024-07-01 08:17:00|M02       |0.885    |0.551   |63.03      |11.77  |Normal|0.255|0.094|0.017|0    |\n",
      "+-------------------+----------+---------+--------+-----------+-------+------+-----+-----+-----+-----+\n",
      "\n",
      "-------------------------------------------\n",
      "Batch: 534\n",
      "-------------------------------------------\n",
      "+-------------------+----------+---------+--------+-----------+-------+------+-----+-----+-----+-----+\n",
      "|event_timestamp    |machine_id|vibration|acoustic|temperature|current|status|IMF_1|IMF_2|IMF_3|label|\n",
      "+-------------------+----------+---------+--------+-----------+-------+------+-----+-----+-----+-----+\n",
      "|2024-07-01 08:18:00|M02       |0.801    |0.553   |66.61      |12.49  |Normal|0.132|0.095|0.018|0    |\n",
      "+-------------------+----------+---------+--------+-----------+-------+------+-----+-----+-----+-----+\n",
      "\n",
      "-------------------------------------------\n",
      "Batch: 535\n",
      "-------------------------------------------\n",
      "+-------------------+----------+---------+--------+-----------+-------+------+-----+------+-----+-----+\n",
      "|event_timestamp    |machine_id|vibration|acoustic|temperature|current|status|IMF_1|IMF_2 |IMF_3|label|\n",
      "+-------------------+----------+---------+--------+-----------+-------+------+-----+------+-----+-----+\n",
      "|2024-07-01 08:19:00|M02       |0.778    |0.569   |68.84      |12.2   |Normal|0.17 |-0.023|0.019|0    |\n",
      "+-------------------+----------+---------+--------+-----------+-------+------+-----+------+-----+-----+\n",
      "\n"
     ]
    },
    {
     "name": "stderr",
     "output_type": "stream",
     "text": [
      "                                                                                \r"
     ]
    },
    {
     "name": "stdout",
     "output_type": "stream",
     "text": [
      "-------------------------------------------\n",
      "Batch: 536\n",
      "-------------------------------------------\n",
      "+-------------------+----------+---------+--------+-----------+-------+------+-----+-----+-----+-----+\n",
      "|event_timestamp    |machine_id|vibration|acoustic|temperature|current|status|IMF_1|IMF_2|IMF_3|label|\n",
      "+-------------------+----------+---------+--------+-----------+-------+------+-----+-----+-----+-----+\n",
      "|2024-07-01 08:20:00|M02       |0.762    |0.627   |68.24      |12.27  |Normal|0.087|0.073|0.019|0    |\n",
      "+-------------------+----------+---------+--------+-----------+-------+------+-----+-----+-----+-----+\n",
      "\n",
      "-------------------------------------------\n",
      "Batch: 537\n",
      "-------------------------------------------\n",
      "+-------------------+----------+---------+--------+-----------+-------+------+-----+------+-----+-----+\n",
      "|event_timestamp    |machine_id|vibration|acoustic|temperature|current|status|IMF_1|IMF_2 |IMF_3|label|\n",
      "+-------------------+----------+---------+--------+-----------+-------+------+-----+------+-----+-----+\n",
      "|2024-07-01 08:21:00|M02       |0.797    |0.526   |62.64      |12.47  |Normal|0.111|-0.083|0.02 |0    |\n",
      "+-------------------+----------+---------+--------+-----------+-------+------+-----+------+-----+-----+\n",
      "\n"
     ]
    },
    {
     "name": "stderr",
     "output_type": "stream",
     "text": [
      "                                                                                \r"
     ]
    },
    {
     "name": "stdout",
     "output_type": "stream",
     "text": [
      "-------------------------------------------\n",
      "Batch: 538\n",
      "-------------------------------------------\n",
      "+-------------------+----------+---------+--------+-----------+-------+------+-----+-----+-----+-----+\n",
      "|event_timestamp    |machine_id|vibration|acoustic|temperature|current|status|IMF_1|IMF_2|IMF_3|label|\n",
      "+-------------------+----------+---------+--------+-----------+-------+------+-----+-----+-----+-----+\n",
      "|2024-07-01 08:22:00|M02       |0.766    |0.648   |63.52      |11.99  |Normal|0.194|0.113|0.021|0    |\n",
      "+-------------------+----------+---------+--------+-----------+-------+------+-----+-----+-----+-----+\n",
      "\n",
      "-------------------------------------------\n",
      "Batch: 539\n",
      "-------------------------------------------\n",
      "+-------------------+----------+---------+--------+-----------+-------+------+-----+-----+-----+-----+\n",
      "|event_timestamp    |machine_id|vibration|acoustic|temperature|current|status|IMF_1|IMF_2|IMF_3|label|\n",
      "+-------------------+----------+---------+--------+-----------+-------+------+-----+-----+-----+-----+\n",
      "|2024-07-01 08:23:00|M02       |0.821    |0.633   |62.51      |11.63  |Normal|0.131|0.018|0.022|0    |\n",
      "+-------------------+----------+---------+--------+-----------+-------+------+-----+-----+-----+-----+\n",
      "\n",
      "-------------------------------------------\n",
      "Batch: 540\n",
      "-------------------------------------------\n",
      "+-------------------+----------+---------+--------+-----------+-------+------+-----+-----+-----+-----+\n",
      "|event_timestamp    |machine_id|vibration|acoustic|temperature|current|status|IMF_1|IMF_2|IMF_3|label|\n",
      "+-------------------+----------+---------+--------+-----------+-------+------+-----+-----+-----+-----+\n",
      "|2024-07-01 08:24:00|M02       |0.89     |0.615   |62.24      |11.99  |Normal|0.255|0.036|0.023|0    |\n",
      "+-------------------+----------+---------+--------+-----------+-------+------+-----+-----+-----+-----+\n",
      "\n",
      "-------------------------------------------\n",
      "Batch: 541\n",
      "-------------------------------------------\n",
      "+-------------------+----------+---------+--------+-----------+-------+------+-----+------+-----+-----+\n",
      "|event_timestamp    |machine_id|vibration|acoustic|temperature|current|status|IMF_1|IMF_2 |IMF_3|label|\n",
      "+-------------------+----------+---------+--------+-----------+-------+------+-----+------+-----+-----+\n",
      "|2024-07-01 08:25:00|M02       |0.694    |0.667   |64.81      |12.94  |Normal|0.201|-0.022|0.024|0    |\n",
      "+-------------------+----------+---------+--------+-----------+-------+------+-----+------+-----+-----+\n",
      "\n",
      "-------------------------------------------\n",
      "Batch: 542\n",
      "-------------------------------------------\n",
      "+-------------------+----------+---------+--------+-----------+-------+------+-----+------+-----+-----+\n",
      "|event_timestamp    |machine_id|vibration|acoustic|temperature|current|status|IMF_1|IMF_2 |IMF_3|label|\n",
      "+-------------------+----------+---------+--------+-----------+-------+------+-----+------+-----+-----+\n",
      "|2024-07-01 08:26:00|M02       |0.854    |0.598   |62.42      |12.62  |Normal|0.225|-0.022|0.025|0    |\n",
      "+-------------------+----------+---------+--------+-----------+-------+------+-----+------+-----+-----+\n",
      "\n",
      "-------------------------------------------\n",
      "Batch: 543\n",
      "-------------------------------------------\n",
      "+-------------------+----------+---------+--------+-----------+-------+------+-----+------+-----+-----+\n",
      "|event_timestamp    |machine_id|vibration|acoustic|temperature|current|status|IMF_1|IMF_2 |IMF_3|label|\n",
      "+-------------------+----------+---------+--------+-----------+-------+------+-----+------+-----+-----+\n",
      "|2024-07-01 08:27:00|M02       |0.791    |0.56    |65.1       |12.28  |Normal|0.107|-0.005|0.026|0    |\n",
      "+-------------------+----------+---------+--------+-----------+-------+------+-----+------+-----+-----+\n",
      "\n",
      "-------------------------------------------\n",
      "Batch: 544\n",
      "-------------------------------------------\n",
      "+-------------------+----------+---------+--------+-----------+-------+------+-----+-----+-----+-----+\n",
      "|event_timestamp    |machine_id|vibration|acoustic|temperature|current|status|IMF_1|IMF_2|IMF_3|label|\n",
      "+-------------------+----------+---------+--------+-----------+-------+------+-----+-----+-----+-----+\n",
      "|2024-07-01 08:28:00|M02       |0.73     |0.669   |63.43      |12.11  |Normal|0.213|0.024|0.027|0    |\n",
      "+-------------------+----------+---------+--------+-----------+-------+------+-----+-----+-----+-----+\n",
      "\n",
      "-------------------------------------------\n",
      "Batch: 545\n",
      "-------------------------------------------\n",
      "+-------------------+----------+---------+--------+-----------+-------+------+-----+-----+-----+-----+\n",
      "|event_timestamp    |machine_id|vibration|acoustic|temperature|current|status|IMF_1|IMF_2|IMF_3|label|\n",
      "+-------------------+----------+---------+--------+-----------+-------+------+-----+-----+-----+-----+\n",
      "|2024-07-01 08:29:00|M02       |0.803    |0.575   |63.16      |11.76  |Normal|0.112|0.062|0.027|0    |\n",
      "+-------------------+----------+---------+--------+-----------+-------+------+-----+-----+-----+-----+\n",
      "\n",
      "-------------------------------------------\n",
      "Batch: 546\n",
      "-------------------------------------------\n",
      "+-------------------+----------+---------+--------+-----------+-------+------+-----+-----+-----+-----+\n",
      "|event_timestamp    |machine_id|vibration|acoustic|temperature|current|status|IMF_1|IMF_2|IMF_3|label|\n",
      "+-------------------+----------+---------+--------+-----------+-------+------+-----+-----+-----+-----+\n",
      "|2024-07-01 08:30:00|M02       |0.814    |0.528   |62.28      |12.36  |Normal|0.229|0.041|0.028|0    |\n",
      "+-------------------+----------+---------+--------+-----------+-------+------+-----+-----+-----+-----+\n",
      "\n"
     ]
    },
    {
     "name": "stderr",
     "output_type": "stream",
     "text": [
      "                                                                                \r"
     ]
    },
    {
     "name": "stdout",
     "output_type": "stream",
     "text": [
      "-------------------------------------------\n",
      "Batch: 547\n",
      "-------------------------------------------\n",
      "+-------------------+----------+---------+--------+-----------+-------+------+-----+-----+-----+-----+\n",
      "|event_timestamp    |machine_id|vibration|acoustic|temperature|current|status|IMF_1|IMF_2|IMF_3|label|\n",
      "+-------------------+----------+---------+--------+-----------+-------+------+-----+-----+-----+-----+\n",
      "|2024-07-01 08:31:00|M02       |0.807    |0.644   |64.9       |12.5   |Normal|0.113|0.055|0.029|0    |\n",
      "+-------------------+----------+---------+--------+-----------+-------+------+-----+-----+-----+-----+\n",
      "\n",
      "-------------------------------------------\n",
      "Batch: 548\n",
      "-------------------------------------------\n",
      "+-------------------+----------+---------+--------+-----------+-------+------+-----+-----+-----+-----+\n",
      "|event_timestamp    |machine_id|vibration|acoustic|temperature|current|status|IMF_1|IMF_2|IMF_3|label|\n",
      "+-------------------+----------+---------+--------+-----------+-------+------+-----+-----+-----+-----+\n",
      "|2024-07-01 08:32:00|M02       |0.81     |0.635   |64.05      |12.32  |Normal|0.211|0.069|0.03 |0    |\n",
      "+-------------------+----------+---------+--------+-----------+-------+------+-----+-----+-----+-----+\n",
      "\n",
      "-------------------------------------------\n",
      "Batch: 549\n",
      "-------------------------------------------\n",
      "+-------------------+----------+---------+--------+-----------+-------+------+-----+-----+-----+-----+\n",
      "|event_timestamp    |machine_id|vibration|acoustic|temperature|current|status|IMF_1|IMF_2|IMF_3|label|\n",
      "+-------------------+----------+---------+--------+-----------+-------+------+-----+-----+-----+-----+\n",
      "|2024-07-01 08:33:00|M02       |0.826    |0.653   |66.02      |12.48  |Normal|0.125|0.055|0.031|0    |\n",
      "+-------------------+----------+---------+--------+-----------+-------+------+-----+-----+-----+-----+\n",
      "\n"
     ]
    },
    {
     "name": "stderr",
     "output_type": "stream",
     "text": [
      "                                                                                \r"
     ]
    },
    {
     "name": "stdout",
     "output_type": "stream",
     "text": [
      "-------------------------------------------\n",
      "Batch: 550\n",
      "-------------------------------------------\n",
      "+-------------------+----------+---------+--------+-----------+-------+------+-----+-----+-----+-----+\n",
      "|event_timestamp    |machine_id|vibration|acoustic|temperature|current|status|IMF_1|IMF_2|IMF_3|label|\n",
      "+-------------------+----------+---------+--------+-----------+-------+------+-----+-----+-----+-----+\n",
      "|2024-07-01 08:34:00|M02       |0.798    |0.59    |68.4       |12.14  |Normal|0.181|0.046|0.031|0    |\n",
      "+-------------------+----------+---------+--------+-----------+-------+------+-----+-----+-----+-----+\n",
      "\n",
      "-------------------------------------------\n",
      "Batch: 551\n",
      "-------------------------------------------\n",
      "+-------------------+----------+---------+--------+-----------+-------+----------------+-----+-----+-----+-----+\n",
      "|event_timestamp    |machine_id|vibration|acoustic|temperature|current|status          |IMF_1|IMF_2|IMF_3|label|\n",
      "+-------------------+----------+---------+--------+-----------+-------+----------------+-----+-----+-----+-----+\n",
      "|2024-07-01 08:35:00|M02       |1.327    |0.966   |79.36      |14.85  |Failure Detected|0.372|0.116|0.032|1    |\n",
      "+-------------------+----------+---------+--------+-----------+-------+----------------+-----+-----+-----+-----+\n",
      "\n"
     ]
    },
    {
     "name": "stderr",
     "output_type": "stream",
     "text": [
      "                                                                                \r"
     ]
    },
    {
     "name": "stdout",
     "output_type": "stream",
     "text": [
      "-------------------------------------------\n",
      "Batch: 552\n",
      "-------------------------------------------\n",
      "+-------------------+----------+---------+--------+-----------+-------+------+-----+------+-----+-----+\n",
      "|event_timestamp    |machine_id|vibration|acoustic|temperature|current|status|IMF_1|IMF_2 |IMF_3|label|\n",
      "+-------------------+----------+---------+--------+-----------+-------+------+-----+------+-----+-----+\n",
      "|2024-07-01 08:36:00|M02       |0.767    |0.555   |66.34      |11.85  |Normal|0.223|-0.009|0.033|0    |\n",
      "+-------------------+----------+---------+--------+-----------+-------+------+-----+------+-----+-----+\n",
      "\n",
      "-------------------------------------------\n",
      "Batch: 553\n",
      "-------------------------------------------\n",
      "+-------------------+----------+---------+--------+-----------+-------+------+-----+------+-----+-----+\n",
      "|event_timestamp    |machine_id|vibration|acoustic|temperature|current|status|IMF_1|IMF_2 |IMF_3|label|\n",
      "+-------------------+----------+---------+--------+-----------+-------+------+-----+------+-----+-----+\n",
      "|2024-07-01 08:37:00|M02       |0.81     |0.658   |65.4       |12.09  |Normal|0.239|-0.102|0.034|0    |\n",
      "+-------------------+----------+---------+--------+-----------+-------+------+-----+------+-----+-----+\n",
      "\n",
      "-------------------------------------------\n",
      "Batch: 554\n",
      "-------------------------------------------\n",
      "+-------------------+----------+---------+--------+-----------+-------+------+-----+------+-----+-----+\n",
      "|event_timestamp    |machine_id|vibration|acoustic|temperature|current|status|IMF_1|IMF_2 |IMF_3|label|\n",
      "+-------------------+----------+---------+--------+-----------+-------+------+-----+------+-----+-----+\n",
      "|2024-07-01 08:38:00|M02       |0.852    |0.638   |69.21      |11.62  |Normal|0.159|-0.037|0.034|0    |\n",
      "+-------------------+----------+---------+--------+-----------+-------+------+-----+------+-----+-----+\n",
      "\n",
      "-------------------------------------------\n",
      "Batch: 555\n",
      "-------------------------------------------\n",
      "+-------------------+----------+---------+--------+-----------+-------+------+-----+-----+-----+-----+\n",
      "|event_timestamp    |machine_id|vibration|acoustic|temperature|current|status|IMF_1|IMF_2|IMF_3|label|\n",
      "+-------------------+----------+---------+--------+-----------+-------+------+-----+-----+-----+-----+\n",
      "|2024-07-01 08:39:00|M02       |0.758    |0.594   |65.74      |11.7   |Normal|0.139|0.017|0.035|0    |\n",
      "+-------------------+----------+---------+--------+-----------+-------+------+-----+-----+-----+-----+\n",
      "\n",
      "-------------------------------------------\n",
      "Batch: 556\n",
      "-------------------------------------------\n",
      "+-------------------+----------+---------+--------+-----------+-------+------+-----+------+-----+-----+\n",
      "|event_timestamp    |machine_id|vibration|acoustic|temperature|current|status|IMF_1|IMF_2 |IMF_3|label|\n",
      "+-------------------+----------+---------+--------+-----------+-------+------+-----+------+-----+-----+\n",
      "|2024-07-01 08:40:00|M02       |0.813    |0.548   |66.39      |12.32  |Normal|0.236|-0.008|0.036|0    |\n",
      "+-------------------+----------+---------+--------+-----------+-------+------+-----+------+-----+-----+\n",
      "\n",
      "-------------------------------------------\n",
      "Batch: 557\n",
      "-------------------------------------------\n",
      "+-------------------+----------+---------+--------+-----------+-------+------+-----+-----+-----+-----+\n",
      "|event_timestamp    |machine_id|vibration|acoustic|temperature|current|status|IMF_1|IMF_2|IMF_3|label|\n",
      "+-------------------+----------+---------+--------+-----------+-------+------+-----+-----+-----+-----+\n",
      "|2024-07-01 08:41:00|M02       |0.854    |0.564   |66.55      |13.13  |Normal|0.13 |-0.01|0.037|0    |\n",
      "+-------------------+----------+---------+--------+-----------+-------+------+-----+-----+-----+-----+\n",
      "\n",
      "-------------------------------------------\n",
      "Batch: 558\n",
      "-------------------------------------------\n",
      "+-------------------+----------+---------+--------+-----------+-------+----------------+-----+------+-----+-----+\n",
      "|event_timestamp    |machine_id|vibration|acoustic|temperature|current|status          |IMF_1|IMF_2 |IMF_3|label|\n",
      "+-------------------+----------+---------+--------+-----------+-------+----------------+-----+------+-----+-----+\n",
      "|2024-07-01 08:42:00|M02       |1.265    |1.048   |79.52      |14.04  |Failure Detected|0.332|-0.102|0.037|1    |\n",
      "+-------------------+----------+---------+--------+-----------+-------+----------------+-----+------+-----+-----+\n",
      "\n",
      "-------------------------------------------\n",
      "Batch: 559\n",
      "-------------------------------------------\n",
      "+-------------------+----------+---------+--------+-----------+-------+------+-----+------+-----+-----+\n",
      "|event_timestamp    |machine_id|vibration|acoustic|temperature|current|status|IMF_1|IMF_2 |IMF_3|label|\n",
      "+-------------------+----------+---------+--------+-----------+-------+------+-----+------+-----+-----+\n",
      "|2024-07-01 08:43:00|M02       |0.81     |0.598   |67.78      |12.13  |Normal|0.119|-0.023|0.038|0    |\n",
      "+-------------------+----------+---------+--------+-----------+-------+------+-----+------+-----+-----+\n",
      "\n",
      "-------------------------------------------\n",
      "Batch: 560\n",
      "-------------------------------------------\n",
      "+-------------------+----------+---------+--------+-----------+-------+------+-----+------+-----+-----+\n",
      "|event_timestamp    |machine_id|vibration|acoustic|temperature|current|status|IMF_1|IMF_2 |IMF_3|label|\n",
      "+-------------------+----------+---------+--------+-----------+-------+------+-----+------+-----+-----+\n",
      "|2024-07-01 08:44:00|M02       |0.753    |0.652   |63.79      |12.28  |Normal|0.109|-0.019|0.039|0    |\n",
      "+-------------------+----------+---------+--------+-----------+-------+------+-----+------+-----+-----+\n",
      "\n",
      "-------------------------------------------\n",
      "Batch: 561\n",
      "-------------------------------------------\n",
      "+-------------------+----------+---------+--------+-----------+-------+------+-----+-----+-----+-----+\n",
      "|event_timestamp    |machine_id|vibration|acoustic|temperature|current|status|IMF_1|IMF_2|IMF_3|label|\n",
      "+-------------------+----------+---------+--------+-----------+-------+------+-----+-----+-----+-----+\n",
      "|2024-07-01 08:45:00|M02       |0.825    |0.508   |65.66      |10.66  |Normal|0.23 |-0.01|0.039|0    |\n",
      "+-------------------+----------+---------+--------+-----------+-------+------+-----+-----+-----+-----+\n",
      "\n",
      "-------------------------------------------\n",
      "Batch: 562\n",
      "-------------------------------------------\n",
      "+-------------------+----------+---------+--------+-----------+-------+----------------+-----+-----+-----+-----+\n",
      "|event_timestamp    |machine_id|vibration|acoustic|temperature|current|status          |IMF_1|IMF_2|IMF_3|label|\n",
      "+-------------------+----------+---------+--------+-----------+-------+----------------+-----+-----+-----+-----+\n",
      "|2024-07-01 08:46:00|M02       |1.129    |0.807   |79.07      |14.57  |Failure Detected|0.136|0.054|0.04 |1    |\n",
      "+-------------------+----------+---------+--------+-----------+-------+----------------+-----+-----+-----+-----+\n",
      "\n",
      "-------------------------------------------\n",
      "Batch: 563\n",
      "-------------------------------------------\n",
      "+-------------------+----------+---------+--------+-----------+-------+------+-----+------+-----+-----+\n",
      "|event_timestamp    |machine_id|vibration|acoustic|temperature|current|status|IMF_1|IMF_2 |IMF_3|label|\n",
      "+-------------------+----------+---------+--------+-----------+-------+------+-----+------+-----+-----+\n",
      "|2024-07-01 08:47:00|M02       |0.753    |0.619   |67.11      |11.91  |Normal|0.098|-0.103|0.04 |0    |\n",
      "+-------------------+----------+---------+--------+-----------+-------+------+-----+------+-----+-----+\n",
      "\n",
      "-------------------------------------------\n",
      "Batch: 564\n",
      "-------------------------------------------\n",
      "+-------------------+----------+---------+--------+-----------+-------+------+-----+-----+-----+-----+\n",
      "|event_timestamp    |machine_id|vibration|acoustic|temperature|current|status|IMF_1|IMF_2|IMF_3|label|\n",
      "+-------------------+----------+---------+--------+-----------+-------+------+-----+-----+-----+-----+\n",
      "|2024-07-01 08:48:00|M02       |0.758    |0.534   |66.59      |11.69  |Normal|0.09 |0.093|0.041|0    |\n",
      "+-------------------+----------+---------+--------+-----------+-------+------+-----+-----+-----+-----+\n",
      "\n"
     ]
    },
    {
     "name": "stderr",
     "output_type": "stream",
     "text": [
      "                                                                                \r"
     ]
    },
    {
     "name": "stdout",
     "output_type": "stream",
     "text": [
      "-------------------------------------------\n",
      "Batch: 565\n",
      "-------------------------------------------\n",
      "+-------------------+----------+---------+--------+-----------+-------+------+-----+------+-----+-----+\n",
      "|event_timestamp    |machine_id|vibration|acoustic|temperature|current|status|IMF_1|IMF_2 |IMF_3|label|\n",
      "+-------------------+----------+---------+--------+-----------+-------+------+-----+------+-----+-----+\n",
      "|2024-07-01 08:49:00|M02       |0.799    |0.59    |67.43      |11.49  |Normal|0.129|-0.113|0.042|0    |\n",
      "+-------------------+----------+---------+--------+-----------+-------+------+-----+------+-----+-----+\n",
      "\n",
      "-------------------------------------------\n",
      "Batch: 566\n",
      "-------------------------------------------\n",
      "+-------------------+----------+---------+--------+-----------+-------+------+-----+------+-----+-----+\n",
      "|event_timestamp    |machine_id|vibration|acoustic|temperature|current|status|IMF_1|IMF_2 |IMF_3|label|\n",
      "+-------------------+----------+---------+--------+-----------+-------+------+-----+------+-----+-----+\n",
      "|2024-07-01 08:50:00|M02       |0.761    |0.668   |67.5       |12.61  |Normal|0.144|-0.079|0.042|0    |\n",
      "+-------------------+----------+---------+--------+-----------+-------+------+-----+------+-----+-----+\n",
      "\n",
      "-------------------------------------------\n",
      "Batch: 567\n",
      "-------------------------------------------\n",
      "+-------------------+----------+---------+--------+-----------+-------+------+-----+-----+-----+-----+\n",
      "|event_timestamp    |machine_id|vibration|acoustic|temperature|current|status|IMF_1|IMF_2|IMF_3|label|\n",
      "+-------------------+----------+---------+--------+-----------+-------+------+-----+-----+-----+-----+\n",
      "|2024-07-01 08:51:00|M02       |0.761    |0.647   |62.9       |11.11  |Normal|0.149|-0.02|0.043|0    |\n",
      "+-------------------+----------+---------+--------+-----------+-------+------+-----+-----+-----+-----+\n",
      "\n",
      "-------------------------------------------\n",
      "Batch: 568\n",
      "-------------------------------------------\n",
      "+-------------------+----------+---------+--------+-----------+-------+------+-----+-----+-----+-----+\n",
      "|event_timestamp    |machine_id|vibration|acoustic|temperature|current|status|IMF_1|IMF_2|IMF_3|label|\n",
      "+-------------------+----------+---------+--------+-----------+-------+------+-----+-----+-----+-----+\n",
      "|2024-07-01 08:52:00|M02       |0.723    |0.626   |63.36      |12.61  |Normal|0.164|0.099|0.043|0    |\n",
      "+-------------------+----------+---------+--------+-----------+-------+------+-----+-----+-----+-----+\n",
      "\n",
      "-------------------------------------------\n",
      "Batch: 569\n",
      "-------------------------------------------\n",
      "+-------------------+----------+---------+--------+-----------+-------+------+-----+------+-----+-----+\n",
      "|event_timestamp    |machine_id|vibration|acoustic|temperature|current|status|IMF_1|IMF_2 |IMF_3|label|\n",
      "+-------------------+----------+---------+--------+-----------+-------+------+-----+------+-----+-----+\n",
      "|2024-07-01 08:53:00|M02       |0.938    |0.548   |61.78      |11.38  |Normal|0.125|-0.022|0.044|0    |\n",
      "+-------------------+----------+---------+--------+-----------+-------+------+-----+------+-----+-----+\n",
      "\n",
      "-------------------------------------------\n",
      "Batch: 570\n",
      "-------------------------------------------\n",
      "+-------------------+----------+---------+--------+-----------+-------+----------------+-----+-----+-----+-----+\n",
      "|event_timestamp    |machine_id|vibration|acoustic|temperature|current|status          |IMF_1|IMF_2|IMF_3|label|\n",
      "+-------------------+----------+---------+--------+-----------+-------+----------------+-----+-----+-----+-----+\n",
      "|2024-07-01 08:54:00|M02       |1.271    |0.999   |75.55      |15.29  |Failure Detected|0.217|0.027|0.044|1    |\n",
      "+-------------------+----------+---------+--------+-----------+-------+----------------+-----+-----+-----+-----+\n",
      "\n",
      "-------------------------------------------\n",
      "Batch: 571\n",
      "-------------------------------------------\n",
      "+-------------------+----------+---------+--------+-----------+-------+------+-----+------+-----+-----+\n",
      "|event_timestamp    |machine_id|vibration|acoustic|temperature|current|status|IMF_1|IMF_2 |IMF_3|label|\n",
      "+-------------------+----------+---------+--------+-----------+-------+------+-----+------+-----+-----+\n",
      "|2024-07-01 08:55:00|M02       |0.8      |0.481   |66.0       |11.0   |Normal|0.206|-0.024|0.045|0    |\n",
      "+-------------------+----------+---------+--------+-----------+-------+------+-----+------+-----+-----+\n",
      "\n",
      "-------------------------------------------\n",
      "Batch: 572\n",
      "-------------------------------------------\n",
      "+-------------------+----------+---------+--------+-----------+-------+----------------+-----+------+-----+-----+\n",
      "|event_timestamp    |machine_id|vibration|acoustic|temperature|current|status          |IMF_1|IMF_2 |IMF_3|label|\n",
      "+-------------------+----------+---------+--------+-----------+-------+----------------+-----+------+-----+-----+\n",
      "|2024-07-01 08:56:00|M02       |1.063    |0.851   |80.0       |15.02  |Failure Detected|0.11 |-0.123|0.045|1    |\n",
      "+-------------------+----------+---------+--------+-----------+-------+----------------+-----+------+-----+-----+\n",
      "\n",
      "-------------------------------------------\n",
      "Batch: 573\n",
      "-------------------------------------------\n",
      "+-------------------+----------+---------+--------+-----------+-------+------+-----+------+-----+-----+\n",
      "|event_timestamp    |machine_id|vibration|acoustic|temperature|current|status|IMF_1|IMF_2 |IMF_3|label|\n",
      "+-------------------+----------+---------+--------+-----------+-------+------+-----+------+-----+-----+\n",
      "|2024-07-01 08:57:00|M02       |0.796    |0.507   |65.06      |11.37  |Normal|0.15 |-0.066|0.045|0    |\n",
      "+-------------------+----------+---------+--------+-----------+-------+------+-----+------+-----+-----+\n",
      "\n",
      "-------------------------------------------\n",
      "Batch: 574\n",
      "-------------------------------------------\n",
      "+-------------------+----------+---------+--------+-----------+-------+------+-----+-----+-----+-----+\n",
      "|event_timestamp    |machine_id|vibration|acoustic|temperature|current|status|IMF_1|IMF_2|IMF_3|label|\n",
      "+-------------------+----------+---------+--------+-----------+-------+------+-----+-----+-----+-----+\n",
      "|2024-07-01 08:58:00|M02       |0.703    |0.651   |65.34      |12.68  |Normal|0.207|-0.02|0.046|0    |\n",
      "+-------------------+----------+---------+--------+-----------+-------+------+-----+-----+-----+-----+\n",
      "\n"
     ]
    },
    {
     "name": "stderr",
     "output_type": "stream",
     "text": [
      "                                                                                \r"
     ]
    },
    {
     "name": "stdout",
     "output_type": "stream",
     "text": [
      "-------------------------------------------\n",
      "Batch: 575\n",
      "-------------------------------------------\n",
      "+-------------------+----------+---------+--------+-----------+-------+------+-----+------+-----+-----+\n",
      "|event_timestamp    |machine_id|vibration|acoustic|temperature|current|status|IMF_1|IMF_2 |IMF_3|label|\n",
      "+-------------------+----------+---------+--------+-----------+-------+------+-----+------+-----+-----+\n",
      "|2024-07-01 08:59:00|M02       |0.781    |0.546   |67.46      |11.89  |Normal|0.226|-0.109|0.046|0    |\n",
      "+-------------------+----------+---------+--------+-----------+-------+------+-----+------+-----+-----+\n",
      "\n",
      "-------------------------------------------\n",
      "Batch: 576\n",
      "-------------------------------------------\n",
      "+-------------------+----------+---------+--------+-----------+-------+------+-----+-----+-----+-----+\n",
      "|event_timestamp    |machine_id|vibration|acoustic|temperature|current|status|IMF_1|IMF_2|IMF_3|label|\n",
      "+-------------------+----------+---------+--------+-----------+-------+------+-----+-----+-----+-----+\n",
      "|2024-07-01 09:00:00|M02       |0.796    |0.681   |66.95      |12.13  |Normal|0.196|0.098|0.047|0    |\n",
      "+-------------------+----------+---------+--------+-----------+-------+------+-----+-----+-----+-----+\n",
      "\n",
      "-------------------------------------------\n",
      "Batch: 577\n",
      "-------------------------------------------\n",
      "+-------------------+----------+---------+--------+-----------+-------+----------------+-----+-----+-----+-----+\n",
      "|event_timestamp    |machine_id|vibration|acoustic|temperature|current|status          |IMF_1|IMF_2|IMF_3|label|\n",
      "+-------------------+----------+---------+--------+-----------+-------+----------------+-----+-----+-----+-----+\n",
      "|2024-07-01 09:01:00|M02       |1.203    |0.869   |78.33      |15.41  |Failure Detected|0.346|0.125|0.047|1    |\n",
      "+-------------------+----------+---------+--------+-----------+-------+----------------+-----+-----+-----+-----+\n",
      "\n"
     ]
    },
    {
     "name": "stderr",
     "output_type": "stream",
     "text": [
      "                                                                                \r"
     ]
    },
    {
     "name": "stdout",
     "output_type": "stream",
     "text": [
      "-------------------------------------------\n",
      "Batch: 578\n",
      "-------------------------------------------\n",
      "+-------------------+----------+---------+--------+-----------+-------+------+-----+------+-----+-----+\n",
      "|event_timestamp    |machine_id|vibration|acoustic|temperature|current|status|IMF_1|IMF_2 |IMF_3|label|\n",
      "+-------------------+----------+---------+--------+-----------+-------+------+-----+------+-----+-----+\n",
      "|2024-07-01 09:02:00|M02       |0.737    |0.634   |63.52      |12.06  |Normal|0.188|-0.019|0.047|0    |\n",
      "+-------------------+----------+---------+--------+-----------+-------+------+-----+------+-----+-----+\n",
      "\n"
     ]
    },
    {
     "name": "stderr",
     "output_type": "stream",
     "text": [
      "                                                                                \r"
     ]
    },
    {
     "name": "stdout",
     "output_type": "stream",
     "text": [
      "-------------------------------------------\n",
      "Batch: 579\n",
      "-------------------------------------------\n",
      "+-------------------+----------+---------+--------+-----------+-------+------+-----+-----+-----+-----+\n",
      "|event_timestamp    |machine_id|vibration|acoustic|temperature|current|status|IMF_1|IMF_2|IMF_3|label|\n",
      "+-------------------+----------+---------+--------+-----------+-------+------+-----+-----+-----+-----+\n",
      "|2024-07-01 09:03:00|M02       |0.775    |0.583   |62.7       |12.39  |Normal|0.196|0.021|0.048|0    |\n",
      "+-------------------+----------+---------+--------+-----------+-------+------+-----+-----+-----+-----+\n",
      "\n",
      "-------------------------------------------\n",
      "Batch: 580\n",
      "-------------------------------------------\n",
      "+-------------------+----------+---------+--------+-----------+-------+------+-----+-----+-----+-----+\n",
      "|event_timestamp    |machine_id|vibration|acoustic|temperature|current|status|IMF_1|IMF_2|IMF_3|label|\n",
      "+-------------------+----------+---------+--------+-----------+-------+------+-----+-----+-----+-----+\n",
      "|2024-07-01 09:04:00|M02       |0.761    |0.566   |62.7       |12.5   |Normal|0.157|0.01 |0.048|0    |\n",
      "+-------------------+----------+---------+--------+-----------+-------+------+-----+-----+-----+-----+\n",
      "\n",
      "-------------------------------------------\n",
      "Batch: 581\n",
      "-------------------------------------------\n",
      "+-------------------+----------+---------+--------+-----------+-------+------+-----+-----+-----+-----+\n",
      "|event_timestamp    |machine_id|vibration|acoustic|temperature|current|status|IMF_1|IMF_2|IMF_3|label|\n",
      "+-------------------+----------+---------+--------+-----------+-------+------+-----+-----+-----+-----+\n",
      "|2024-07-01 09:05:00|M02       |0.873    |0.638   |62.18      |12.7   |Normal|0.233|0.019|0.048|0    |\n",
      "+-------------------+----------+---------+--------+-----------+-------+------+-----+-----+-----+-----+\n",
      "\n"
     ]
    },
    {
     "name": "stderr",
     "output_type": "stream",
     "text": [
      "                                                                                \r"
     ]
    },
    {
     "name": "stdout",
     "output_type": "stream",
     "text": [
      "-------------------------------------------\n",
      "Batch: 582\n",
      "-------------------------------------------\n",
      "+-------------------+----------+---------+--------+-----------+-------+------+-----+------+-----+-----+\n",
      "|event_timestamp    |machine_id|vibration|acoustic|temperature|current|status|IMF_1|IMF_2 |IMF_3|label|\n",
      "+-------------------+----------+---------+--------+-----------+-------+------+-----+------+-----+-----+\n",
      "|2024-07-01 09:06:00|M02       |0.787    |0.593   |68.54      |11.99  |Normal|0.085|-0.007|0.048|0    |\n",
      "+-------------------+----------+---------+--------+-----------+-------+------+-----+------+-----+-----+\n",
      "\n",
      "-------------------------------------------\n",
      "Batch: 583\n",
      "-------------------------------------------\n",
      "+-------------------+----------+---------+--------+-----------+-------+------+-----+------+-----+-----+\n",
      "|event_timestamp    |machine_id|vibration|acoustic|temperature|current|status|IMF_1|IMF_2 |IMF_3|label|\n",
      "+-------------------+----------+---------+--------+-----------+-------+------+-----+------+-----+-----+\n",
      "|2024-07-01 09:07:00|M02       |0.852    |0.609   |64.47      |12.56  |Normal|0.223|-0.069|0.049|0    |\n",
      "+-------------------+----------+---------+--------+-----------+-------+------+-----+------+-----+-----+\n",
      "\n",
      "-------------------------------------------\n",
      "Batch: 584\n",
      "-------------------------------------------\n",
      "+-------------------+----------+---------+--------+-----------+-------+------+-----+------+-----+-----+\n",
      "|event_timestamp    |machine_id|vibration|acoustic|temperature|current|status|IMF_1|IMF_2 |IMF_3|label|\n",
      "+-------------------+----------+---------+--------+-----------+-------+------+-----+------+-----+-----+\n",
      "|2024-07-01 09:08:00|M02       |0.752    |0.549   |65.92      |12.17  |Normal|0.174|-0.016|0.049|0    |\n",
      "+-------------------+----------+---------+--------+-----------+-------+------+-----+------+-----+-----+\n",
      "\n",
      "-------------------------------------------\n",
      "Batch: 585\n",
      "-------------------------------------------\n",
      "+-------------------+----------+---------+--------+-----------+-------+------+-----+------+-----+-----+\n",
      "|event_timestamp    |machine_id|vibration|acoustic|temperature|current|status|IMF_1|IMF_2 |IMF_3|label|\n",
      "+-------------------+----------+---------+--------+-----------+-------+------+-----+------+-----+-----+\n",
      "|2024-07-01 09:09:00|M02       |0.8      |0.598   |65.74      |12.4   |Normal|0.092|-0.042|0.049|0    |\n",
      "+-------------------+----------+---------+--------+-----------+-------+------+-----+------+-----+-----+\n",
      "\n"
     ]
    },
    {
     "name": "stderr",
     "output_type": "stream",
     "text": [
      "                                                                                \r"
     ]
    },
    {
     "name": "stdout",
     "output_type": "stream",
     "text": [
      "-------------------------------------------\n",
      "Batch: 586\n",
      "-------------------------------------------\n",
      "+-------------------+----------+---------+--------+-----------+-------+----------------+-----+-----+-----+-----+\n",
      "|event_timestamp    |machine_id|vibration|acoustic|temperature|current|status          |IMF_1|IMF_2|IMF_3|label|\n",
      "+-------------------+----------+---------+--------+-----------+-------+----------------+-----+-----+-----+-----+\n",
      "|2024-07-01 09:10:00|M02       |1.181    |0.877   |76.37      |16.35  |Failure Detected|0.24 |0.121|0.049|1    |\n",
      "+-------------------+----------+---------+--------+-----------+-------+----------------+-----+-----+-----+-----+\n",
      "\n",
      "-------------------------------------------\n",
      "Batch: 587\n",
      "-------------------------------------------\n",
      "+-------------------+----------+---------+--------+-----------+-------+------+-----+-----+-----+-----+\n",
      "|event_timestamp    |machine_id|vibration|acoustic|temperature|current|status|IMF_1|IMF_2|IMF_3|label|\n",
      "+-------------------+----------+---------+--------+-----------+-------+------+-----+-----+-----+-----+\n",
      "|2024-07-01 09:11:00|M02       |0.774    |0.554   |64.21      |12.3   |Normal|0.126|0.064|0.049|0    |\n",
      "+-------------------+----------+---------+--------+-----------+-------+------+-----+-----+-----+-----+\n",
      "\n"
     ]
    },
    {
     "name": "stderr",
     "output_type": "stream",
     "text": [
      "                                                                                \r"
     ]
    },
    {
     "name": "stdout",
     "output_type": "stream",
     "text": [
      "-------------------------------------------\n",
      "Batch: 588\n",
      "-------------------------------------------\n",
      "+-------------------+----------+---------+--------+-----------+-------+------+-----+------+-----+-----+\n",
      "|event_timestamp    |machine_id|vibration|acoustic|temperature|current|status|IMF_1|IMF_2 |IMF_3|label|\n",
      "+-------------------+----------+---------+--------+-----------+-------+------+-----+------+-----+-----+\n",
      "|2024-07-01 09:12:00|M02       |0.894    |0.535   |66.82      |12.5   |Normal|0.256|-0.094|0.05 |0    |\n",
      "+-------------------+----------+---------+--------+-----------+-------+------+-----+------+-----+-----+\n",
      "\n"
     ]
    },
    {
     "name": "stderr",
     "output_type": "stream",
     "text": [
      "                                                                                \r"
     ]
    },
    {
     "name": "stdout",
     "output_type": "stream",
     "text": [
      "-------------------------------------------\n",
      "Batch: 589\n",
      "-------------------------------------------\n",
      "+-------------------+----------+---------+--------+-----------+-------+------+-----+-----+-----+-----+\n",
      "|event_timestamp    |machine_id|vibration|acoustic|temperature|current|status|IMF_1|IMF_2|IMF_3|label|\n",
      "+-------------------+----------+---------+--------+-----------+-------+------+-----+-----+-----+-----+\n",
      "|2024-07-01 09:13:00|M02       |0.75     |0.528   |65.51      |11.42  |Normal|0.176|0.06 |0.05 |0    |\n",
      "+-------------------+----------+---------+--------+-----------+-------+------+-----+-----+-----+-----+\n",
      "\n",
      "-------------------------------------------\n",
      "Batch: 590\n",
      "-------------------------------------------\n",
      "+-------------------+----------+---------+--------+-----------+-------+------+-----+------+-----+-----+\n",
      "|event_timestamp    |machine_id|vibration|acoustic|temperature|current|status|IMF_1|IMF_2 |IMF_3|label|\n",
      "+-------------------+----------+---------+--------+-----------+-------+------+-----+------+-----+-----+\n",
      "|2024-07-01 09:14:00|M02       |0.849    |0.533   |65.67      |12.48  |Normal|0.247|-0.061|0.05 |0    |\n",
      "+-------------------+----------+---------+--------+-----------+-------+------+-----+------+-----+-----+\n",
      "\n",
      "-------------------------------------------\n",
      "Batch: 591\n",
      "-------------------------------------------\n",
      "+-------------------+----------+---------+--------+-----------+-------+------+-----+-----+-----+-----+\n",
      "|event_timestamp    |machine_id|vibration|acoustic|temperature|current|status|IMF_1|IMF_2|IMF_3|label|\n",
      "+-------------------+----------+---------+--------+-----------+-------+------+-----+-----+-----+-----+\n",
      "|2024-07-01 09:15:00|M02       |0.856    |0.687   |59.98      |12.32  |Normal|0.206|0.005|0.05 |0    |\n",
      "+-------------------+----------+---------+--------+-----------+-------+------+-----+-----+-----+-----+\n",
      "\n",
      "-------------------------------------------\n",
      "Batch: 592\n",
      "-------------------------------------------\n",
      "+-------------------+----------+---------+--------+-----------+-------+------+-----+------+-----+-----+\n",
      "|event_timestamp    |machine_id|vibration|acoustic|temperature|current|status|IMF_1|IMF_2 |IMF_3|label|\n",
      "+-------------------+----------+---------+--------+-----------+-------+------+-----+------+-----+-----+\n",
      "|2024-07-01 09:16:00|M02       |0.777    |0.548   |63.46      |12.13  |Normal|0.18 |-0.009|0.05 |0    |\n",
      "+-------------------+----------+---------+--------+-----------+-------+------+-----+------+-----+-----+\n",
      "\n"
     ]
    },
    {
     "name": "stderr",
     "output_type": "stream",
     "text": [
      "                                                                                \r"
     ]
    },
    {
     "name": "stdout",
     "output_type": "stream",
     "text": [
      "-------------------------------------------\n",
      "Batch: 593\n",
      "-------------------------------------------\n",
      "+-------------------+----------+---------+--------+-----------+-------+------+-----+-----+-----+-----+\n",
      "|event_timestamp    |machine_id|vibration|acoustic|temperature|current|status|IMF_1|IMF_2|IMF_3|label|\n",
      "+-------------------+----------+---------+--------+-----------+-------+------+-----+-----+-----+-----+\n",
      "|2024-07-01 09:17:00|M02       |0.717    |0.601   |65.34      |12.35  |Normal|0.176|0.04 |0.05 |0    |\n",
      "+-------------------+----------+---------+--------+-----------+-------+------+-----+-----+-----+-----+\n",
      "\n"
     ]
    },
    {
     "name": "stderr",
     "output_type": "stream",
     "text": [
      "                                                                                \r"
     ]
    },
    {
     "name": "stdout",
     "output_type": "stream",
     "text": [
      "-------------------------------------------\n",
      "Batch: 594\n",
      "-------------------------------------------\n",
      "+-------------------+----------+---------+--------+-----------+-------+------+-----+------+-----+-----+\n",
      "|event_timestamp    |machine_id|vibration|acoustic|temperature|current|status|IMF_1|IMF_2 |IMF_3|label|\n",
      "+-------------------+----------+---------+--------+-----------+-------+------+-----+------+-----+-----+\n",
      "|2024-07-01 09:18:00|M02       |0.733    |0.574   |61.18      |12.63  |Normal|0.2  |-0.089|0.05 |0    |\n",
      "+-------------------+----------+---------+--------+-----------+-------+------+-----+------+-----+-----+\n",
      "\n"
     ]
    },
    {
     "name": "stderr",
     "output_type": "stream",
     "text": [
      "                                                                                \r"
     ]
    },
    {
     "name": "stdout",
     "output_type": "stream",
     "text": [
      "-------------------------------------------\n",
      "Batch: 595\n",
      "-------------------------------------------\n",
      "+-------------------+----------+---------+--------+-----------+-------+------+-----+------+-----+-----+\n",
      "|event_timestamp    |machine_id|vibration|acoustic|temperature|current|status|IMF_1|IMF_2 |IMF_3|label|\n",
      "+-------------------+----------+---------+--------+-----------+-------+------+-----+------+-----+-----+\n",
      "|2024-07-01 09:19:00|M02       |0.874    |0.608   |64.84      |11.79  |Normal|0.219|-0.069|0.05 |0    |\n",
      "+-------------------+----------+---------+--------+-----------+-------+------+-----+------+-----+-----+\n",
      "\n"
     ]
    },
    {
     "name": "stderr",
     "output_type": "stream",
     "text": [
      "                                                                                \r"
     ]
    },
    {
     "name": "stdout",
     "output_type": "stream",
     "text": [
      "-------------------------------------------\n",
      "Batch: 596\n",
      "-------------------------------------------\n",
      "+-------------------+----------+---------+--------+-----------+-------+------+-----+-----+-----+-----+\n",
      "|event_timestamp    |machine_id|vibration|acoustic|temperature|current|status|IMF_1|IMF_2|IMF_3|label|\n",
      "+-------------------+----------+---------+--------+-----------+-------+------+-----+-----+-----+-----+\n",
      "|2024-07-01 09:20:00|M02       |0.824    |0.512   |61.45      |12.8   |Normal|0.158|-0.07|0.05 |0    |\n",
      "+-------------------+----------+---------+--------+-----------+-------+------+-----+-----+-----+-----+\n",
      "\n"
     ]
    },
    {
     "name": "stderr",
     "output_type": "stream",
     "text": [
      "                                                                                \r"
     ]
    },
    {
     "name": "stdout",
     "output_type": "stream",
     "text": [
      "-------------------------------------------\n",
      "Batch: 597\n",
      "-------------------------------------------\n",
      "+-------------------+----------+---------+--------+-----------+-------+------+-----+------+-----+-----+\n",
      "|event_timestamp    |machine_id|vibration|acoustic|temperature|current|status|IMF_1|IMF_2 |IMF_3|label|\n",
      "+-------------------+----------+---------+--------+-----------+-------+------+-----+------+-----+-----+\n",
      "|2024-07-01 09:21:00|M02       |0.774    |0.671   |65.62      |11.59  |Normal|0.109|-0.005|0.05 |0    |\n",
      "+-------------------+----------+---------+--------+-----------+-------+------+-----+------+-----+-----+\n",
      "\n"
     ]
    },
    {
     "name": "stderr",
     "output_type": "stream",
     "text": [
      "                                                                                \r"
     ]
    },
    {
     "name": "stdout",
     "output_type": "stream",
     "text": [
      "-------------------------------------------\n",
      "Batch: 598\n",
      "-------------------------------------------\n",
      "+-------------------+----------+---------+--------+-----------+-------+----------------+-----+-----+-----+-----+\n",
      "|event_timestamp    |machine_id|vibration|acoustic|temperature|current|status          |IMF_1|IMF_2|IMF_3|label|\n",
      "+-------------------+----------+---------+--------+-----------+-------+----------------+-----+-----+-----+-----+\n",
      "|2024-07-01 09:22:00|M02       |1.189    |0.984   |77.03      |15.16  |Failure Detected|0.326|0.042|0.05 |1    |\n",
      "+-------------------+----------+---------+--------+-----------+-------+----------------+-----+-----+-----+-----+\n",
      "\n"
     ]
    },
    {
     "name": "stderr",
     "output_type": "stream",
     "text": [
      "                                                                                \r"
     ]
    },
    {
     "name": "stdout",
     "output_type": "stream",
     "text": [
      "-------------------------------------------\n",
      "Batch: 599\n",
      "-------------------------------------------\n",
      "+-------------------+----------+---------+--------+-----------+-------+------+-----+-----+-----+-----+\n",
      "|event_timestamp    |machine_id|vibration|acoustic|temperature|current|status|IMF_1|IMF_2|IMF_3|label|\n",
      "+-------------------+----------+---------+--------+-----------+-------+------+-----+-----+-----+-----+\n",
      "|2024-07-01 09:23:00|M02       |0.743    |0.593   |65.73      |11.51  |Normal|0.114|0.08 |0.05 |0    |\n",
      "+-------------------+----------+---------+--------+-----------+-------+------+-----+-----+-----+-----+\n",
      "\n"
     ]
    },
    {
     "name": "stderr",
     "output_type": "stream",
     "text": [
      "                                                                                \r"
     ]
    },
    {
     "name": "stdout",
     "output_type": "stream",
     "text": [
      "-------------------------------------------\n",
      "Batch: 600\n",
      "-------------------------------------------\n",
      "+-------------------+----------+---------+--------+-----------+-------+------+-----+------+-----+-----+\n",
      "|event_timestamp    |machine_id|vibration|acoustic|temperature|current|status|IMF_1|IMF_2 |IMF_3|label|\n",
      "+-------------------+----------+---------+--------+-----------+-------+------+-----+------+-----+-----+\n",
      "|2024-07-01 09:24:00|M02       |0.79     |0.571   |65.23      |12.19  |Normal|0.182|-0.086|0.05 |0    |\n",
      "+-------------------+----------+---------+--------+-----------+-------+------+-----+------+-----+-----+\n",
      "\n",
      "-------------------------------------------\n",
      "Batch: 601\n",
      "-------------------------------------------\n",
      "+-------------------+----------+---------+--------+-----------+-------+------+-----+------+-----+-----+\n",
      "|event_timestamp    |machine_id|vibration|acoustic|temperature|current|status|IMF_1|IMF_2 |IMF_3|label|\n",
      "+-------------------+----------+---------+--------+-----------+-------+------+-----+------+-----+-----+\n",
      "|2024-07-01 09:25:00|M02       |0.793    |0.625   |61.06      |11.97  |Normal|0.23 |-0.106|0.05 |0    |\n",
      "+-------------------+----------+---------+--------+-----------+-------+------+-----+------+-----+-----+\n",
      "\n",
      "-------------------------------------------\n",
      "Batch: 602\n",
      "-------------------------------------------\n",
      "+-------------------+----------+---------+--------+-----------+-------+------+-----+------+-----+-----+\n",
      "|event_timestamp    |machine_id|vibration|acoustic|temperature|current|status|IMF_1|IMF_2 |IMF_3|label|\n",
      "+-------------------+----------+---------+--------+-----------+-------+------+-----+------+-----+-----+\n",
      "|2024-07-01 09:26:00|M02       |0.717    |0.656   |66.99      |11.5   |Normal|0.13 |-0.012|0.049|0    |\n",
      "+-------------------+----------+---------+--------+-----------+-------+------+-----+------+-----+-----+\n",
      "\n"
     ]
    },
    {
     "name": "stderr",
     "output_type": "stream",
     "text": [
      "                                                                                \r"
     ]
    },
    {
     "name": "stdout",
     "output_type": "stream",
     "text": [
      "-------------------------------------------\n",
      "Batch: 603\n",
      "-------------------------------------------\n",
      "+-------------------+----------+---------+--------+-----------+-------+------+-----+-----+-----+-----+\n",
      "|event_timestamp    |machine_id|vibration|acoustic|temperature|current|status|IMF_1|IMF_2|IMF_3|label|\n",
      "+-------------------+----------+---------+--------+-----------+-------+------+-----+-----+-----+-----+\n",
      "|2024-07-01 09:27:00|M02       |0.817    |0.546   |62.64      |11.36  |Normal|0.207|0.02 |0.049|0    |\n",
      "+-------------------+----------+---------+--------+-----------+-------+------+-----+-----+-----+-----+\n",
      "\n"
     ]
    },
    {
     "name": "stderr",
     "output_type": "stream",
     "text": [
      "                                                                                \r"
     ]
    },
    {
     "name": "stdout",
     "output_type": "stream",
     "text": [
      "-------------------------------------------\n",
      "Batch: 604\n",
      "-------------------------------------------\n",
      "+-------------------+----------+---------+--------+-----------+-------+------+-----+-----+-----+-----+\n",
      "|event_timestamp    |machine_id|vibration|acoustic|temperature|current|status|IMF_1|IMF_2|IMF_3|label|\n",
      "+-------------------+----------+---------+--------+-----------+-------+------+-----+-----+-----+-----+\n",
      "|2024-07-01 09:28:00|M02       |0.672    |0.686   |64.85      |13.31  |Normal|0.128|0.131|0.049|0    |\n",
      "+-------------------+----------+---------+--------+-----------+-------+------+-----+-----+-----+-----+\n",
      "\n",
      "-------------------------------------------\n",
      "Batch: 605\n",
      "-------------------------------------------\n",
      "+-------------------+----------+---------+--------+-----------+-------+------+-----+-----+-----+-----+\n",
      "|event_timestamp    |machine_id|vibration|acoustic|temperature|current|status|IMF_1|IMF_2|IMF_3|label|\n",
      "+-------------------+----------+---------+--------+-----------+-------+------+-----+-----+-----+-----+\n",
      "|2024-07-01 09:29:00|M02       |0.77     |0.619   |62.71      |11.92  |Normal|0.124|-0.06|0.049|0    |\n",
      "+-------------------+----------+---------+--------+-----------+-------+------+-----+-----+-----+-----+\n",
      "\n",
      "-------------------------------------------\n",
      "Batch: 606\n",
      "-------------------------------------------\n",
      "+-------------------+----------+---------+--------+-----------+-------+------+-----+-----+-----+-----+\n",
      "|event_timestamp    |machine_id|vibration|acoustic|temperature|current|status|IMF_1|IMF_2|IMF_3|label|\n",
      "+-------------------+----------+---------+--------+-----------+-------+------+-----+-----+-----+-----+\n",
      "|2024-07-01 09:30:00|M02       |0.75     |0.666   |68.07      |12.08  |Normal|0.168|0.036|0.049|0    |\n",
      "+-------------------+----------+---------+--------+-----------+-------+------+-----+-----+-----+-----+\n",
      "\n",
      "-------------------------------------------\n",
      "Batch: 607\n",
      "-------------------------------------------\n",
      "+-------------------+----------+---------+--------+-----------+-------+------+-----+------+-----+-----+\n",
      "|event_timestamp    |machine_id|vibration|acoustic|temperature|current|status|IMF_1|IMF_2 |IMF_3|label|\n",
      "+-------------------+----------+---------+--------+-----------+-------+------+-----+------+-----+-----+\n",
      "|2024-07-01 09:31:00|M02       |0.812    |0.585   |67.06      |12.92  |Normal|0.168|-0.053|0.048|0    |\n",
      "+-------------------+----------+---------+--------+-----------+-------+------+-----+------+-----+-----+\n",
      "\n"
     ]
    },
    {
     "name": "stderr",
     "output_type": "stream",
     "text": [
      "                                                                                \r"
     ]
    },
    {
     "name": "stdout",
     "output_type": "stream",
     "text": [
      "-------------------------------------------\n",
      "Batch: 608\n",
      "-------------------------------------------\n",
      "+-------------------+----------+---------+--------+-----------+-------+------+-----+-----+-----+-----+\n",
      "|event_timestamp    |machine_id|vibration|acoustic|temperature|current|status|IMF_1|IMF_2|IMF_3|label|\n",
      "+-------------------+----------+---------+--------+-----------+-------+------+-----+-----+-----+-----+\n",
      "|2024-07-01 09:32:00|M02       |0.869    |0.596   |64.86      |13.25  |Normal|0.113|-0.08|0.048|0    |\n",
      "+-------------------+----------+---------+--------+-----------+-------+------+-----+-----+-----+-----+\n",
      "\n",
      "-------------------------------------------\n",
      "Batch: 609\n",
      "-------------------------------------------\n",
      "+-------------------+----------+---------+--------+-----------+-------+------+-----+------+-----+-----+\n",
      "|event_timestamp    |machine_id|vibration|acoustic|temperature|current|status|IMF_1|IMF_2 |IMF_3|label|\n",
      "+-------------------+----------+---------+--------+-----------+-------+------+-----+------+-----+-----+\n",
      "|2024-07-01 09:33:00|M02       |0.769    |0.583   |64.53      |11.24  |Normal|0.166|-0.019|0.048|0    |\n",
      "+-------------------+----------+---------+--------+-----------+-------+------+-----+------+-----+-----+\n",
      "\n",
      "-------------------------------------------\n",
      "Batch: 610\n",
      "-------------------------------------------\n",
      "+-------------------+----------+---------+--------+-----------+-------+------+-----+------+-----+-----+\n",
      "|event_timestamp    |machine_id|vibration|acoustic|temperature|current|status|IMF_1|IMF_2 |IMF_3|label|\n",
      "+-------------------+----------+---------+--------+-----------+-------+------+-----+------+-----+-----+\n",
      "|2024-07-01 09:34:00|M02       |0.827    |0.513   |66.56      |12.74  |Normal|0.12 |-0.017|0.048|0    |\n",
      "+-------------------+----------+---------+--------+-----------+-------+------+-----+------+-----+-----+\n",
      "\n"
     ]
    },
    {
     "name": "stderr",
     "output_type": "stream",
     "text": [
      "                                                                                \r"
     ]
    },
    {
     "name": "stdout",
     "output_type": "stream",
     "text": [
      "-------------------------------------------\n",
      "Batch: 611\n",
      "-------------------------------------------\n",
      "+-------------------+----------+---------+--------+-----------+-------+------+-----+-----+-----+-----+\n",
      "|event_timestamp    |machine_id|vibration|acoustic|temperature|current|status|IMF_1|IMF_2|IMF_3|label|\n",
      "+-------------------+----------+---------+--------+-----------+-------+------+-----+-----+-----+-----+\n",
      "|2024-07-01 09:35:00|M02       |0.796    |0.578   |66.05      |12.2   |Normal|0.198|0.049|0.047|0    |\n",
      "+-------------------+----------+---------+--------+-----------+-------+------+-----+-----+-----+-----+\n",
      "\n",
      "-------------------------------------------\n",
      "Batch: 612\n",
      "-------------------------------------------\n",
      "+-------------------+----------+---------+--------+-----------+-------+------+-----+------+-----+-----+\n",
      "|event_timestamp    |machine_id|vibration|acoustic|temperature|current|status|IMF_1|IMF_2 |IMF_3|label|\n",
      "+-------------------+----------+---------+--------+-----------+-------+------+-----+------+-----+-----+\n",
      "|2024-07-01 09:36:00|M02       |0.744    |0.693   |64.81      |11.93  |Normal|0.099|-0.116|0.047|0    |\n",
      "+-------------------+----------+---------+--------+-----------+-------+------+-----+------+-----+-----+\n",
      "\n"
     ]
    },
    {
     "name": "stderr",
     "output_type": "stream",
     "text": [
      "                                                                                \r"
     ]
    },
    {
     "name": "stdout",
     "output_type": "stream",
     "text": [
      "-------------------------------------------\n",
      "Batch: 613\n",
      "-------------------------------------------\n",
      "+-------------------+----------+---------+--------+-----------+-------+------+-----+-----+-----+-----+\n",
      "|event_timestamp    |machine_id|vibration|acoustic|temperature|current|status|IMF_1|IMF_2|IMF_3|label|\n",
      "+-------------------+----------+---------+--------+-----------+-------+------+-----+-----+-----+-----+\n",
      "|2024-07-01 09:37:00|M02       |0.848    |0.618   |62.27      |12.32  |Normal|0.201|0.108|0.047|0    |\n",
      "+-------------------+----------+---------+--------+-----------+-------+------+-----+-----+-----+-----+\n",
      "\n",
      "-------------------------------------------\n",
      "Batch: 614\n",
      "-------------------------------------------\n",
      "+-------------------+----------+---------+--------+-----------+-------+----------------+-----+------+-----+-----+\n",
      "|event_timestamp    |machine_id|vibration|acoustic|temperature|current|status          |IMF_1|IMF_2 |IMF_3|label|\n",
      "+-------------------+----------+---------+--------+-----------+-------+----------------+-----+------+-----+-----+\n",
      "|2024-07-01 09:38:00|M02       |1.24     |0.941   |74.89      |15.05  |Failure Detected|0.163|-0.123|0.046|1    |\n",
      "+-------------------+----------+---------+--------+-----------+-------+----------------+-----+------+-----+-----+\n",
      "\n",
      "-------------------------------------------\n",
      "Batch: 615\n",
      "-------------------------------------------\n",
      "+-------------------+----------+---------+--------+-----------+-------+------+-----+-----+-----+-----+\n",
      "|event_timestamp    |machine_id|vibration|acoustic|temperature|current|status|IMF_1|IMF_2|IMF_3|label|\n",
      "+-------------------+----------+---------+--------+-----------+-------+------+-----+-----+-----+-----+\n",
      "|2024-07-01 09:39:00|M02       |0.785    |0.659   |64.93      |12.21  |Normal|0.112|0.111|0.046|0    |\n",
      "+-------------------+----------+---------+--------+-----------+-------+------+-----+-----+-----+-----+\n",
      "\n",
      "-------------------------------------------\n",
      "Batch: 616\n",
      "-------------------------------------------\n",
      "+-------------------+----------+---------+--------+-----------+-------+------+-----+------+-----+-----+\n",
      "|event_timestamp    |machine_id|vibration|acoustic|temperature|current|status|IMF_1|IMF_2 |IMF_3|label|\n",
      "+-------------------+----------+---------+--------+-----------+-------+------+-----+------+-----+-----+\n",
      "|2024-07-01 09:40:00|M02       |0.91     |0.551   |62.5       |12.41  |Normal|0.102|-0.013|0.045|0    |\n",
      "+-------------------+----------+---------+--------+-----------+-------+------+-----+------+-----+-----+\n",
      "\n"
     ]
    },
    {
     "name": "stderr",
     "output_type": "stream",
     "text": [
      "                                                                                \r"
     ]
    },
    {
     "name": "stdout",
     "output_type": "stream",
     "text": [
      "-------------------------------------------\n",
      "Batch: 617\n",
      "-------------------------------------------\n",
      "+-------------------+----------+---------+--------+-----------+-------+------+-----+------+-----+-----+\n",
      "|event_timestamp    |machine_id|vibration|acoustic|temperature|current|status|IMF_1|IMF_2 |IMF_3|label|\n",
      "+-------------------+----------+---------+--------+-----------+-------+------+-----+------+-----+-----+\n",
      "|2024-07-01 09:41:00|M02       |0.846    |0.616   |65.77      |12.08  |Normal|0.15 |-0.051|0.045|0    |\n",
      "+-------------------+----------+---------+--------+-----------+-------+------+-----+------+-----+-----+\n",
      "\n"
     ]
    },
    {
     "name": "stderr",
     "output_type": "stream",
     "text": [
      "                                                                                \r"
     ]
    },
    {
     "name": "stdout",
     "output_type": "stream",
     "text": [
      "-------------------------------------------\n",
      "Batch: 618\n",
      "-------------------------------------------\n",
      "+-------------------+----------+---------+--------+-----------+-------+------+-----+------+-----+-----+\n",
      "|event_timestamp    |machine_id|vibration|acoustic|temperature|current|status|IMF_1|IMF_2 |IMF_3|label|\n",
      "+-------------------+----------+---------+--------+-----------+-------+------+-----+------+-----+-----+\n",
      "|2024-07-01 09:42:00|M02       |0.856    |0.643   |67.27      |11.41  |Normal|0.111|-0.112|0.045|0    |\n",
      "+-------------------+----------+---------+--------+-----------+-------+------+-----+------+-----+-----+\n",
      "\n"
     ]
    },
    {
     "name": "stderr",
     "output_type": "stream",
     "text": [
      "                                                                                \r"
     ]
    },
    {
     "name": "stdout",
     "output_type": "stream",
     "text": [
      "-------------------------------------------\n",
      "Batch: 619\n",
      "-------------------------------------------\n",
      "+-------------------+----------+---------+--------+-----------+-------+----------------+-----+-----+-----+-----+\n",
      "|event_timestamp    |machine_id|vibration|acoustic|temperature|current|status          |IMF_1|IMF_2|IMF_3|label|\n",
      "+-------------------+----------+---------+--------+-----------+-------+----------------+-----+-----+-----+-----+\n",
      "|2024-07-01 09:43:00|M02       |1.065    |0.978   |81.41      |14.11  |Failure Detected|0.247|0.078|0.044|1    |\n",
      "+-------------------+----------+---------+--------+-----------+-------+----------------+-----+-----+-----+-----+\n",
      "\n",
      "-------------------------------------------\n",
      "Batch: 620\n",
      "-------------------------------------------\n",
      "+-------------------+----------+---------+--------+-----------+-------+------+-----+-----+-----+-----+\n",
      "|event_timestamp    |machine_id|vibration|acoustic|temperature|current|status|IMF_1|IMF_2|IMF_3|label|\n",
      "+-------------------+----------+---------+--------+-----------+-------+------+-----+-----+-----+-----+\n",
      "|2024-07-01 09:44:00|M02       |0.749    |0.555   |64.65      |11.45  |Normal|0.185|0.042|0.044|0    |\n",
      "+-------------------+----------+---------+--------+-----------+-------+------+-----+-----+-----+-----+\n",
      "\n",
      "-------------------------------------------\n",
      "Batch: 621\n",
      "-------------------------------------------\n",
      "+-------------------+----------+---------+--------+-----------+-------+------+-----+------+-----+-----+\n",
      "|event_timestamp    |machine_id|vibration|acoustic|temperature|current|status|IMF_1|IMF_2 |IMF_3|label|\n",
      "+-------------------+----------+---------+--------+-----------+-------+------+-----+------+-----+-----+\n",
      "|2024-07-01 09:45:00|M02       |0.831    |0.513   |64.08      |12.04  |Normal|0.211|-0.054|0.043|0    |\n",
      "+-------------------+----------+---------+--------+-----------+-------+------+-----+------+-----+-----+\n",
      "\n",
      "-------------------------------------------\n",
      "Batch: 622\n",
      "-------------------------------------------\n",
      "+-------------------+----------+---------+--------+-----------+-------+------+-----+-----+-----+-----+\n",
      "|event_timestamp    |machine_id|vibration|acoustic|temperature|current|status|IMF_1|IMF_2|IMF_3|label|\n",
      "+-------------------+----------+---------+--------+-----------+-------+------+-----+-----+-----+-----+\n",
      "|2024-07-01 09:46:00|M02       |0.743    |0.596   |67.83      |12.43  |Normal|0.217|0.05 |0.043|0    |\n",
      "+-------------------+----------+---------+--------+-----------+-------+------+-----+-----+-----+-----+\n",
      "\n"
     ]
    },
    {
     "name": "stderr",
     "output_type": "stream",
     "text": [
      "                                                                                \r"
     ]
    },
    {
     "name": "stdout",
     "output_type": "stream",
     "text": [
      "-------------------------------------------\n",
      "Batch: 623\n",
      "-------------------------------------------\n",
      "+-------------------+----------+---------+--------+-----------+-------+------+-----+-----+-----+-----+\n",
      "|event_timestamp    |machine_id|vibration|acoustic|temperature|current|status|IMF_1|IMF_2|IMF_3|label|\n",
      "+-------------------+----------+---------+--------+-----------+-------+------+-----+-----+-----+-----+\n",
      "|2024-07-01 09:47:00|M02       |0.806    |0.555   |65.06      |12.05  |Normal|0.147|0.035|0.042|0    |\n",
      "+-------------------+----------+---------+--------+-----------+-------+------+-----+-----+-----+-----+\n",
      "\n"
     ]
    },
    {
     "name": "stderr",
     "output_type": "stream",
     "text": [
      "                                                                                \r"
     ]
    },
    {
     "name": "stdout",
     "output_type": "stream",
     "text": [
      "-------------------------------------------\n",
      "Batch: 624\n",
      "-------------------------------------------\n",
      "+-------------------+----------+---------+--------+-----------+-------+------+-----+-----+-----+-----+\n",
      "|event_timestamp    |machine_id|vibration|acoustic|temperature|current|status|IMF_1|IMF_2|IMF_3|label|\n",
      "+-------------------+----------+---------+--------+-----------+-------+------+-----+-----+-----+-----+\n",
      "|2024-07-01 09:48:00|M02       |0.885    |0.622   |63.37      |12.13  |Normal|0.263|0.083|0.042|0    |\n",
      "+-------------------+----------+---------+--------+-----------+-------+------+-----+-----+-----+-----+\n",
      "\n"
     ]
    },
    {
     "name": "stderr",
     "output_type": "stream",
     "text": [
      "                                                                                \r"
     ]
    },
    {
     "name": "stdout",
     "output_type": "stream",
     "text": [
      "-------------------------------------------\n",
      "Batch: 625\n",
      "-------------------------------------------\n",
      "+-------------------+----------+---------+--------+-----------+-------+------+-----+------+-----+-----+\n",
      "|event_timestamp    |machine_id|vibration|acoustic|temperature|current|status|IMF_1|IMF_2 |IMF_3|label|\n",
      "+-------------------+----------+---------+--------+-----------+-------+------+-----+------+-----+-----+\n",
      "|2024-07-01 09:49:00|M02       |0.755    |0.649   |62.59      |11.94  |Normal|0.13 |-0.107|0.041|0    |\n",
      "+-------------------+----------+---------+--------+-----------+-------+------+-----+------+-----+-----+\n",
      "\n",
      "-------------------------------------------\n",
      "Batch: 626\n",
      "-------------------------------------------\n",
      "+-------------------+----------+---------+--------+-----------+-------+------+-----+------+-----+-----+\n",
      "|event_timestamp    |machine_id|vibration|acoustic|temperature|current|status|IMF_1|IMF_2 |IMF_3|label|\n",
      "+-------------------+----------+---------+--------+-----------+-------+------+-----+------+-----+-----+\n",
      "|2024-07-01 09:50:00|M02       |0.748    |0.582   |64.19      |12.7   |Normal|0.126|-0.045|0.04 |0    |\n",
      "+-------------------+----------+---------+--------+-----------+-------+------+-----+------+-----+-----+\n",
      "\n",
      "-------------------------------------------\n",
      "Batch: 627\n",
      "-------------------------------------------\n",
      "+-------------------+----------+---------+--------+-----------+-------+------+-----+------+-----+-----+\n",
      "|event_timestamp    |machine_id|vibration|acoustic|temperature|current|status|IMF_1|IMF_2 |IMF_3|label|\n",
      "+-------------------+----------+---------+--------+-----------+-------+------+-----+------+-----+-----+\n",
      "|2024-07-01 09:51:00|M02       |0.777    |0.639   |66.19      |12.58  |Normal|0.084|-0.089|0.04 |0    |\n",
      "+-------------------+----------+---------+--------+-----------+-------+------+-----+------+-----+-----+\n",
      "\n"
     ]
    },
    {
     "name": "stderr",
     "output_type": "stream",
     "text": [
      "                                                                                \r"
     ]
    },
    {
     "name": "stdout",
     "output_type": "stream",
     "text": [
      "-------------------------------------------\n",
      "Batch: 628\n",
      "-------------------------------------------\n",
      "+-------------------+----------+---------+--------+-----------+-------+------+-----+-----+-----+-----+\n",
      "|event_timestamp    |machine_id|vibration|acoustic|temperature|current|status|IMF_1|IMF_2|IMF_3|label|\n",
      "+-------------------+----------+---------+--------+-----------+-------+------+-----+-----+-----+-----+\n",
      "|2024-07-01 09:52:00|M02       |0.878    |0.59    |67.91      |12.22  |Normal|0.254|0.108|0.039|0    |\n",
      "+-------------------+----------+---------+--------+-----------+-------+------+-----+-----+-----+-----+\n",
      "\n",
      "-------------------------------------------\n",
      "Batch: 629\n",
      "-------------------------------------------\n",
      "+-------------------+----------+---------+--------+-----------+-------+------+-----+------+-----+-----+\n",
      "|event_timestamp    |machine_id|vibration|acoustic|temperature|current|status|IMF_1|IMF_2 |IMF_3|label|\n",
      "+-------------------+----------+---------+--------+-----------+-------+------+-----+------+-----+-----+\n",
      "|2024-07-01 09:53:00|M02       |0.803    |0.57    |62.7       |12.25  |Normal|0.231|-0.046|0.039|0    |\n",
      "+-------------------+----------+---------+--------+-----------+-------+------+-----+------+-----+-----+\n",
      "\n"
     ]
    },
    {
     "name": "stderr",
     "output_type": "stream",
     "text": [
      "                                                                                \r"
     ]
    },
    {
     "name": "stdout",
     "output_type": "stream",
     "text": [
      "-------------------------------------------\n",
      "Batch: 630\n",
      "-------------------------------------------\n",
      "+-------------------+----------+---------+--------+-----------+-------+------+-----+-----+-----+-----+\n",
      "|event_timestamp    |machine_id|vibration|acoustic|temperature|current|status|IMF_1|IMF_2|IMF_3|label|\n",
      "+-------------------+----------+---------+--------+-----------+-------+------+-----+-----+-----+-----+\n",
      "|2024-07-01 09:54:00|M02       |0.796    |0.529   |62.44      |12.71  |Normal|0.173|0.007|0.038|0    |\n",
      "+-------------------+----------+---------+--------+-----------+-------+------+-----+-----+-----+-----+\n",
      "\n",
      "-------------------------------------------\n",
      "Batch: 631\n",
      "-------------------------------------------\n",
      "+-------------------+----------+---------+--------+-----------+-------+------+-----+------+-----+-----+\n",
      "|event_timestamp    |machine_id|vibration|acoustic|temperature|current|status|IMF_1|IMF_2 |IMF_3|label|\n",
      "+-------------------+----------+---------+--------+-----------+-------+------+-----+------+-----+-----+\n",
      "|2024-07-01 09:55:00|M02       |0.858    |0.633   |65.86      |11.17  |Normal|0.116|-0.091|0.037|0    |\n",
      "+-------------------+----------+---------+--------+-----------+-------+------+-----+------+-----+-----+\n",
      "\n"
     ]
    },
    {
     "name": "stderr",
     "output_type": "stream",
     "text": [
      "                                                                                \r"
     ]
    },
    {
     "name": "stdout",
     "output_type": "stream",
     "text": [
      "-------------------------------------------\n",
      "Batch: 632\n",
      "-------------------------------------------\n",
      "+-------------------+----------+---------+--------+-----------+-------+------+-----+-----+-----+-----+\n",
      "|event_timestamp    |machine_id|vibration|acoustic|temperature|current|status|IMF_1|IMF_2|IMF_3|label|\n",
      "+-------------------+----------+---------+--------+-----------+-------+------+-----+-----+-----+-----+\n",
      "|2024-07-01 09:56:00|M02       |0.744    |0.519   |65.38      |11.67  |Normal|0.108|0.02 |0.037|0    |\n",
      "+-------------------+----------+---------+--------+-----------+-------+------+-----+-----+-----+-----+\n",
      "\n",
      "-------------------------------------------\n",
      "Batch: 633\n",
      "-------------------------------------------\n",
      "+-------------------+----------+---------+--------+-----------+-------+----------------+-----+-----+-----+-----+\n",
      "|event_timestamp    |machine_id|vibration|acoustic|temperature|current|status          |IMF_1|IMF_2|IMF_3|label|\n",
      "+-------------------+----------+---------+--------+-----------+-------+----------------+-----+-----+-----+-----+\n",
      "|2024-07-01 09:57:00|M02       |1.25     |0.992   |76.84      |14.21  |Failure Detected|0.322|0.11 |0.036|1    |\n",
      "+-------------------+----------+---------+--------+-----------+-------+----------------+-----+-----+-----+-----+\n",
      "\n"
     ]
    },
    {
     "name": "stderr",
     "output_type": "stream",
     "text": [
      "                                                                                \r"
     ]
    },
    {
     "name": "stdout",
     "output_type": "stream",
     "text": [
      "-------------------------------------------\n",
      "Batch: 634\n",
      "-------------------------------------------\n",
      "+-------------------+----------+---------+--------+-----------+-------+------+-----+-----+-----+-----+\n",
      "|event_timestamp    |machine_id|vibration|acoustic|temperature|current|status|IMF_1|IMF_2|IMF_3|label|\n",
      "+-------------------+----------+---------+--------+-----------+-------+------+-----+-----+-----+-----+\n",
      "|2024-07-01 09:58:00|M02       |0.788    |0.651   |61.91      |11.98  |Normal|0.204|0.019|0.035|0    |\n",
      "+-------------------+----------+---------+--------+-----------+-------+------+-----+-----+-----+-----+\n",
      "\n"
     ]
    },
    {
     "name": "stderr",
     "output_type": "stream",
     "text": [
      "                                                                                \r"
     ]
    },
    {
     "name": "stdout",
     "output_type": "stream",
     "text": [
      "-------------------------------------------\n",
      "Batch: 635\n",
      "-------------------------------------------\n",
      "+-------------------+----------+---------+--------+-----------+-------+------+-----+------+-----+-----+\n",
      "|event_timestamp    |machine_id|vibration|acoustic|temperature|current|status|IMF_1|IMF_2 |IMF_3|label|\n",
      "+-------------------+----------+---------+--------+-----------+-------+------+-----+------+-----+-----+\n",
      "|2024-07-01 09:59:00|M02       |0.726    |0.519   |60.39      |12.22  |Normal|0.103|-0.098|0.035|0    |\n",
      "+-------------------+----------+---------+--------+-----------+-------+------+-----+------+-----+-----+\n",
      "\n"
     ]
    },
    {
     "name": "stderr",
     "output_type": "stream",
     "text": [
      "                                                                                \r"
     ]
    },
    {
     "name": "stdout",
     "output_type": "stream",
     "text": [
      "-------------------------------------------\n",
      "Batch: 636\n",
      "-------------------------------------------\n",
      "+-------------------+----------+---------+--------+-----------+-------+----------------+-----+------+-----+-----+\n",
      "|event_timestamp    |machine_id|vibration|acoustic|temperature|current|status          |IMF_1|IMF_2 |IMF_3|label|\n",
      "+-------------------+----------+---------+--------+-----------+-------+----------------+-----+------+-----+-----+\n",
      "|2024-07-01 10:00:00|M02       |1.239    |0.799   |76.95      |15.08  |Failure Detected|0.125|-0.009|0.034|1    |\n",
      "+-------------------+----------+---------+--------+-----------+-------+----------------+-----+------+-----+-----+\n",
      "\n",
      "-------------------------------------------\n",
      "Batch: 637\n",
      "-------------------------------------------\n",
      "+-------------------+----------+---------+--------+-----------+-------+------+-----+-----+-----+-----+\n",
      "|event_timestamp    |machine_id|vibration|acoustic|temperature|current|status|IMF_1|IMF_2|IMF_3|label|\n",
      "+-------------------+----------+---------+--------+-----------+-------+------+-----+-----+-----+-----+\n",
      "|2024-07-01 10:01:00|M02       |0.691    |0.527   |61.79      |12.16  |Normal|0.089|0.105|0.033|0    |\n",
      "+-------------------+----------+---------+--------+-----------+-------+------+-----+-----+-----+-----+\n",
      "\n"
     ]
    },
    {
     "name": "stderr",
     "output_type": "stream",
     "text": [
      "                                                                                \r"
     ]
    },
    {
     "name": "stdout",
     "output_type": "stream",
     "text": [
      "-------------------------------------------\n",
      "Batch: 638\n",
      "-------------------------------------------\n",
      "+-------------------+----------+---------+--------+-----------+-------+------+-----+------+-----+-----+\n",
      "|event_timestamp    |machine_id|vibration|acoustic|temperature|current|status|IMF_1|IMF_2 |IMF_3|label|\n",
      "+-------------------+----------+---------+--------+-----------+-------+------+-----+------+-----+-----+\n",
      "|2024-07-01 10:02:00|M02       |0.805    |0.669   |60.47      |11.93  |Normal|0.163|-0.002|0.032|0    |\n",
      "+-------------------+----------+---------+--------+-----------+-------+------+-----+------+-----+-----+\n",
      "\n",
      "-------------------------------------------\n",
      "Batch: 639\n",
      "-------------------------------------------\n",
      "+-------------------+----------+---------+--------+-----------+-------+------+-----+------+-----+-----+\n",
      "|event_timestamp    |machine_id|vibration|acoustic|temperature|current|status|IMF_1|IMF_2 |IMF_3|label|\n",
      "+-------------------+----------+---------+--------+-----------+-------+------+-----+------+-----+-----+\n",
      "|2024-07-01 10:03:00|M02       |0.78     |0.629   |67.96      |12.26  |Normal|0.129|-0.044|0.032|0    |\n",
      "+-------------------+----------+---------+--------+-----------+-------+------+-----+------+-----+-----+\n",
      "\n",
      "-------------------------------------------\n",
      "Batch: 640\n",
      "-------------------------------------------\n",
      "+-------------------+----------+---------+--------+-----------+-------+------+-----+------+-----+-----+\n",
      "|event_timestamp    |machine_id|vibration|acoustic|temperature|current|status|IMF_1|IMF_2 |IMF_3|label|\n",
      "+-------------------+----------+---------+--------+-----------+-------+------+-----+------+-----+-----+\n",
      "|2024-07-01 10:04:00|M02       |0.891    |0.623   |63.82      |12.22  |Normal|0.109|-0.116|0.031|0    |\n",
      "+-------------------+----------+---------+--------+-----------+-------+------+-----+------+-----+-----+\n",
      "\n",
      "-------------------------------------------\n",
      "Batch: 641\n",
      "-------------------------------------------\n",
      "+-------------------+----------+---------+--------+-----------+-------+------+-----+------+-----+-----+\n",
      "|event_timestamp    |machine_id|vibration|acoustic|temperature|current|status|IMF_1|IMF_2 |IMF_3|label|\n",
      "+-------------------+----------+---------+--------+-----------+-------+------+-----+------+-----+-----+\n",
      "|2024-07-01 10:05:00|M02       |0.8      |0.681   |64.71      |12.42  |Normal|0.097|-0.003|0.03 |0    |\n",
      "+-------------------+----------+---------+--------+-----------+-------+------+-----+------+-----+-----+\n",
      "\n",
      "-------------------------------------------\n",
      "Batch: 642\n",
      "-------------------------------------------\n",
      "+-------------------+----------+---------+--------+-----------+-------+------+-----+-----+-----+-----+\n",
      "|event_timestamp    |machine_id|vibration|acoustic|temperature|current|status|IMF_1|IMF_2|IMF_3|label|\n",
      "+-------------------+----------+---------+--------+-----------+-------+------+-----+-----+-----+-----+\n",
      "|2024-07-01 10:06:00|M02       |0.793    |0.57    |62.83      |12.43  |Normal|0.119|0.04 |0.029|0    |\n",
      "+-------------------+----------+---------+--------+-----------+-------+------+-----+-----+-----+-----+\n",
      "\n",
      "-------------------------------------------\n",
      "Batch: 643\n",
      "-------------------------------------------\n",
      "+-------------------+----------+---------+--------+-----------+-------+------+-----+-----+-----+-----+\n",
      "|event_timestamp    |machine_id|vibration|acoustic|temperature|current|status|IMF_1|IMF_2|IMF_3|label|\n",
      "+-------------------+----------+---------+--------+-----------+-------+------+-----+-----+-----+-----+\n",
      "|2024-07-01 10:07:00|M02       |0.835    |0.665   |64.57      |12.08  |Normal|0.128|0.002|0.028|0    |\n",
      "+-------------------+----------+---------+--------+-----------+-------+------+-----+-----+-----+-----+\n",
      "\n"
     ]
    },
    {
     "name": "stderr",
     "output_type": "stream",
     "text": [
      "                                                                                \r"
     ]
    },
    {
     "name": "stdout",
     "output_type": "stream",
     "text": [
      "-------------------------------------------\n",
      "Batch: 644\n",
      "-------------------------------------------\n",
      "+-------------------+----------+---------+--------+-----------+-------+----------------+-----+------+-----+-----+\n",
      "|event_timestamp    |machine_id|vibration|acoustic|temperature|current|status          |IMF_1|IMF_2 |IMF_3|label|\n",
      "+-------------------+----------+---------+--------+-----------+-------+----------------+-----+------+-----+-----+\n",
      "|2024-07-01 10:08:00|M02       |1.277    |0.845   |77.28      |14.76  |Failure Detected|0.134|-0.075|0.027|1    |\n",
      "+-------------------+----------+---------+--------+-----------+-------+----------------+-----+------+-----+-----+\n",
      "\n"
     ]
    },
    {
     "name": "stderr",
     "output_type": "stream",
     "text": [
      "                                                                                \r"
     ]
    },
    {
     "name": "stdout",
     "output_type": "stream",
     "text": [
      "-------------------------------------------\n",
      "Batch: 645\n",
      "-------------------------------------------\n",
      "+-------------------+----------+---------+--------+-----------+-------+------+-----+-----+-----+-----+\n",
      "|event_timestamp    |machine_id|vibration|acoustic|temperature|current|status|IMF_1|IMF_2|IMF_3|label|\n",
      "+-------------------+----------+---------+--------+-----------+-------+------+-----+-----+-----+-----+\n",
      "|2024-07-01 10:09:00|M02       |0.789    |0.644   |64.3       |12.33  |Normal|0.138|0.114|0.027|0    |\n",
      "+-------------------+----------+---------+--------+-----------+-------+------+-----+-----+-----+-----+\n",
      "\n",
      "-------------------------------------------\n",
      "Batch: 646\n",
      "-------------------------------------------\n",
      "+-------------------+----------+---------+--------+-----------+-------+------+-----+-----+-----+-----+\n",
      "|event_timestamp    |machine_id|vibration|acoustic|temperature|current|status|IMF_1|IMF_2|IMF_3|label|\n",
      "+-------------------+----------+---------+--------+-----------+-------+------+-----+-----+-----+-----+\n",
      "|2024-07-01 10:10:00|M02       |0.787    |0.57    |65.72      |11.84  |Normal|0.101|0.053|0.026|0    |\n",
      "+-------------------+----------+---------+--------+-----------+-------+------+-----+-----+-----+-----+\n",
      "\n"
     ]
    },
    {
     "name": "stderr",
     "output_type": "stream",
     "text": [
      "                                                                                \r"
     ]
    },
    {
     "name": "stdout",
     "output_type": "stream",
     "text": [
      "-------------------------------------------\n",
      "Batch: 647\n",
      "-------------------------------------------\n",
      "+-------------------+----------+---------+--------+-----------+-------+------+-----+------+-----+-----+\n",
      "|event_timestamp    |machine_id|vibration|acoustic|temperature|current|status|IMF_1|IMF_2 |IMF_3|label|\n",
      "+-------------------+----------+---------+--------+-----------+-------+------+-----+------+-----+-----+\n",
      "|2024-07-01 10:11:00|M02       |0.809    |0.662   |68.88      |11.61  |Normal|0.084|-0.039|0.025|0    |\n",
      "+-------------------+----------+---------+--------+-----------+-------+------+-----+------+-----+-----+\n",
      "\n",
      "-------------------------------------------\n",
      "Batch: 648\n",
      "-------------------------------------------\n",
      "+-------------------+----------+---------+--------+-----------+-------+------+-----+-----+-----+-----+\n",
      "|event_timestamp    |machine_id|vibration|acoustic|temperature|current|status|IMF_1|IMF_2|IMF_3|label|\n",
      "+-------------------+----------+---------+--------+-----------+-------+------+-----+-----+-----+-----+\n",
      "|2024-07-01 10:12:00|M02       |0.778    |0.584   |65.9       |11.97  |Normal|0.212|0.092|0.024|0    |\n",
      "+-------------------+----------+---------+--------+-----------+-------+------+-----+-----+-----+-----+\n",
      "\n",
      "-------------------------------------------\n",
      "Batch: 649\n",
      "-------------------------------------------\n",
      "+-------------------+----------+---------+--------+-----------+-------+------+-----+------+-----+-----+\n",
      "|event_timestamp    |machine_id|vibration|acoustic|temperature|current|status|IMF_1|IMF_2 |IMF_3|label|\n",
      "+-------------------+----------+---------+--------+-----------+-------+------+-----+------+-----+-----+\n",
      "|2024-07-01 10:13:00|M02       |0.712    |0.577   |64.31      |11.58  |Normal|0.182|-0.006|0.023|0    |\n",
      "+-------------------+----------+---------+--------+-----------+-------+------+-----+------+-----+-----+\n",
      "\n",
      "-------------------------------------------\n",
      "Batch: 650\n",
      "-------------------------------------------\n",
      "+-------------------+----------+---------+--------+-----------+-------+------+-----+------+-----+-----+\n",
      "|event_timestamp    |machine_id|vibration|acoustic|temperature|current|status|IMF_1|IMF_2 |IMF_3|label|\n",
      "+-------------------+----------+---------+--------+-----------+-------+------+-----+------+-----+-----+\n",
      "|2024-07-01 10:14:00|M02       |0.859    |0.713   |63.22      |11.47  |Normal|0.097|-0.128|0.022|0    |\n",
      "+-------------------+----------+---------+--------+-----------+-------+------+-----+------+-----+-----+\n",
      "\n",
      "-------------------------------------------\n",
      "Batch: 651\n",
      "-------------------------------------------\n",
      "+-------------------+----------+---------+--------+-----------+-------+------+-----+-----+-----+-----+\n",
      "|event_timestamp    |machine_id|vibration|acoustic|temperature|current|status|IMF_1|IMF_2|IMF_3|label|\n",
      "+-------------------+----------+---------+--------+-----------+-------+------+-----+-----+-----+-----+\n",
      "|2024-07-01 10:15:00|M02       |0.744    |0.561   |62.45      |11.27  |Normal|0.167|0.064|0.021|0    |\n",
      "+-------------------+----------+---------+--------+-----------+-------+------+-----+-----+-----+-----+\n",
      "\n",
      "-------------------------------------------\n",
      "Batch: 652\n",
      "-------------------------------------------\n",
      "+-------------------+----------+---------+--------+-----------+-------+------+-----+-----+-----+-----+\n",
      "|event_timestamp    |machine_id|vibration|acoustic|temperature|current|status|IMF_1|IMF_2|IMF_3|label|\n",
      "+-------------------+----------+---------+--------+-----------+-------+------+-----+-----+-----+-----+\n",
      "|2024-07-01 10:16:00|M02       |0.721    |0.568   |66.09      |10.91  |Normal|0.091|0.054|0.02 |0    |\n",
      "+-------------------+----------+---------+--------+-----------+-------+------+-----+-----+-----+-----+\n",
      "\n",
      "-------------------------------------------\n",
      "Batch: 653\n",
      "-------------------------------------------\n",
      "+-------------------+----------+---------+--------+-----------+-------+------+-----+-----+-----+-----+\n",
      "|event_timestamp    |machine_id|vibration|acoustic|temperature|current|status|IMF_1|IMF_2|IMF_3|label|\n",
      "+-------------------+----------+---------+--------+-----------+-------+------+-----+-----+-----+-----+\n",
      "|2024-07-01 10:17:00|M02       |0.765    |0.51    |64.15      |11.8   |Normal|0.202|0.096|0.02 |0    |\n",
      "+-------------------+----------+---------+--------+-----------+-------+------+-----+-----+-----+-----+\n",
      "\n",
      "-------------------------------------------\n",
      "Batch: 654\n",
      "-------------------------------------------\n",
      "+-------------------+----------+---------+--------+-----------+-------+------+-----+-----+-----+-----+\n",
      "|event_timestamp    |machine_id|vibration|acoustic|temperature|current|status|IMF_1|IMF_2|IMF_3|label|\n",
      "+-------------------+----------+---------+--------+-----------+-------+------+-----+-----+-----+-----+\n",
      "|2024-07-01 10:18:00|M02       |0.786    |0.588   |64.13      |11.79  |Normal|0.191|0.025|0.019|0    |\n",
      "+-------------------+----------+---------+--------+-----------+-------+------+-----+-----+-----+-----+\n",
      "\n",
      "-------------------------------------------\n",
      "Batch: 655\n",
      "-------------------------------------------\n",
      "+-------------------+----------+---------+--------+-----------+-------+------+-----+------+-----+-----+\n",
      "|event_timestamp    |machine_id|vibration|acoustic|temperature|current|status|IMF_1|IMF_2 |IMF_3|label|\n",
      "+-------------------+----------+---------+--------+-----------+-------+------+-----+------+-----+-----+\n",
      "|2024-07-01 10:19:00|M02       |0.706    |0.657   |66.74      |12.48  |Normal|0.205|-0.067|0.018|0    |\n",
      "+-------------------+----------+---------+--------+-----------+-------+------+-----+------+-----+-----+\n",
      "\n",
      "-------------------------------------------\n",
      "Batch: 656\n",
      "-------------------------------------------\n",
      "+-------------------+----------+---------+--------+-----------+-------+------+-----+-----+-----+-----+\n",
      "|event_timestamp    |machine_id|vibration|acoustic|temperature|current|status|IMF_1|IMF_2|IMF_3|label|\n",
      "+-------------------+----------+---------+--------+-----------+-------+------+-----+-----+-----+-----+\n",
      "|2024-07-01 10:20:00|M02       |0.768    |0.555   |63.93      |11.95  |Normal|0.137|0.027|0.017|0    |\n",
      "+-------------------+----------+---------+--------+-----------+-------+------+-----+-----+-----+-----+\n",
      "\n",
      "-------------------------------------------\n",
      "Batch: 657\n",
      "-------------------------------------------\n",
      "+-------------------+----------+---------+--------+-----------+-------+------+-----+------+-----+-----+\n",
      "|event_timestamp    |machine_id|vibration|acoustic|temperature|current|status|IMF_1|IMF_2 |IMF_3|label|\n",
      "+-------------------+----------+---------+--------+-----------+-------+------+-----+------+-----+-----+\n",
      "|2024-07-01 10:21:00|M02       |0.831    |0.623   |67.51      |11.96  |Normal|0.244|-0.092|0.016|0    |\n",
      "+-------------------+----------+---------+--------+-----------+-------+------+-----+------+-----+-----+\n",
      "\n"
     ]
    },
    {
     "name": "stderr",
     "output_type": "stream",
     "text": [
      "                                                                                \r"
     ]
    },
    {
     "name": "stdout",
     "output_type": "stream",
     "text": [
      "-------------------------------------------\n",
      "Batch: 658\n",
      "-------------------------------------------\n",
      "+-------------------+----------+---------+--------+-----------+-------+------+-----+-----+-----+-----+\n",
      "|event_timestamp    |machine_id|vibration|acoustic|temperature|current|status|IMF_1|IMF_2|IMF_3|label|\n",
      "+-------------------+----------+---------+--------+-----------+-------+------+-----+-----+-----+-----+\n",
      "|2024-07-01 10:22:00|M02       |0.844    |0.531   |64.68      |11.73  |Normal|0.231|0.019|0.015|0    |\n",
      "+-------------------+----------+---------+--------+-----------+-------+------+-----+-----+-----+-----+\n",
      "\n"
     ]
    },
    {
     "name": "stderr",
     "output_type": "stream",
     "text": [
      "                                                                                \r"
     ]
    },
    {
     "name": "stdout",
     "output_type": "stream",
     "text": [
      "-------------------------------------------\n",
      "Batch: 659\n",
      "-------------------------------------------\n",
      "+-------------------+----------+---------+--------+-----------+-------+----------------+-----+-----+-----+-----+\n",
      "|event_timestamp    |machine_id|vibration|acoustic|temperature|current|status          |IMF_1|IMF_2|IMF_3|label|\n",
      "+-------------------+----------+---------+--------+-----------+-------+----------------+-----+-----+-----+-----+\n",
      "|2024-07-01 10:23:00|M02       |1.308    |0.77    |72.25      |15.06  |Failure Detected|0.313|0.087|0.014|1    |\n",
      "+-------------------+----------+---------+--------+-----------+-------+----------------+-----+-----+-----+-----+\n",
      "\n"
     ]
    },
    {
     "name": "stderr",
     "output_type": "stream",
     "text": [
      "                                                                                \r"
     ]
    },
    {
     "name": "stdout",
     "output_type": "stream",
     "text": [
      "-------------------------------------------\n",
      "Batch: 660\n",
      "-------------------------------------------\n",
      "+-------------------+----------+---------+--------+-----------+-------+------+-----+------+-----+-----+\n",
      "|event_timestamp    |machine_id|vibration|acoustic|temperature|current|status|IMF_1|IMF_2 |IMF_3|label|\n",
      "+-------------------+----------+---------+--------+-----------+-------+------+-----+------+-----+-----+\n",
      "|2024-07-01 10:24:00|M02       |0.814    |0.643   |67.42      |12.37  |Normal|0.125|-0.025|0.013|0    |\n",
      "+-------------------+----------+---------+--------+-----------+-------+------+-----+------+-----+-----+\n",
      "\n",
      "-------------------------------------------\n",
      "Batch: 661\n",
      "-------------------------------------------\n",
      "+-------------------+----------+---------+--------+-----------+-------+------+-----+-----+-----+-----+\n",
      "|event_timestamp    |machine_id|vibration|acoustic|temperature|current|status|IMF_1|IMF_2|IMF_3|label|\n",
      "+-------------------+----------+---------+--------+-----------+-------+------+-----+-----+-----+-----+\n",
      "|2024-07-01 10:25:00|M02       |0.827    |0.582   |62.13      |12.39  |Normal|0.141|0.049|0.012|0    |\n",
      "+-------------------+----------+---------+--------+-----------+-------+------+-----+-----+-----+-----+\n",
      "\n",
      "-------------------------------------------\n",
      "Batch: 662\n",
      "-------------------------------------------\n",
      "+-------------------+----------+---------+--------+-----------+-------+------+-----+------+-----+-----+\n",
      "|event_timestamp    |machine_id|vibration|acoustic|temperature|current|status|IMF_1|IMF_2 |IMF_3|label|\n",
      "+-------------------+----------+---------+--------+-----------+-------+------+-----+------+-----+-----+\n",
      "|2024-07-01 10:26:00|M02       |0.812    |0.628   |64.66      |10.29  |Normal|0.104|-0.077|0.011|0    |\n",
      "+-------------------+----------+---------+--------+-----------+-------+------+-----+------+-----+-----+\n",
      "\n",
      "-------------------------------------------\n",
      "Batch: 663\n",
      "-------------------------------------------\n",
      "+-------------------+----------+---------+--------+-----------+-------+------+-----+------+-----+-----+\n",
      "|event_timestamp    |machine_id|vibration|acoustic|temperature|current|status|IMF_1|IMF_2 |IMF_3|label|\n",
      "+-------------------+----------+---------+--------+-----------+-------+------+-----+------+-----+-----+\n",
      "|2024-07-01 10:27:00|M02       |0.879    |0.593   |66.04      |12.68  |Normal|0.133|-0.114|0.01 |0    |\n",
      "+-------------------+----------+---------+--------+-----------+-------+------+-----+------+-----+-----+\n",
      "\n",
      "-------------------------------------------\n",
      "Batch: 664\n",
      "-------------------------------------------\n",
      "+-------------------+----------+---------+--------+-----------+-------+------+-----+-----+-----+-----+\n",
      "|event_timestamp    |machine_id|vibration|acoustic|temperature|current|status|IMF_1|IMF_2|IMF_3|label|\n",
      "+-------------------+----------+---------+--------+-----------+-------+------+-----+-----+-----+-----+\n",
      "|2024-07-01 10:28:00|M02       |0.814    |0.634   |64.93      |11.45  |Normal|0.135|0.039|0.009|0    |\n",
      "+-------------------+----------+---------+--------+-----------+-------+------+-----+-----+-----+-----+\n",
      "\n",
      "-------------------------------------------\n",
      "Batch: 665\n",
      "-------------------------------------------\n",
      "+-------------------+----------+---------+--------+-----------+-------+------+-----+-----+-----+-----+\n",
      "|event_timestamp    |machine_id|vibration|acoustic|temperature|current|status|IMF_1|IMF_2|IMF_3|label|\n",
      "+-------------------+----------+---------+--------+-----------+-------+------+-----+-----+-----+-----+\n",
      "|2024-07-01 10:29:00|M02       |0.803    |0.622   |64.54      |10.85  |Normal|0.235|0.052|0.008|0    |\n",
      "+-------------------+----------+---------+--------+-----------+-------+------+-----+-----+-----+-----+\n",
      "\n",
      "-------------------------------------------\n",
      "Batch: 666\n",
      "-------------------------------------------\n",
      "+-------------------+----------+---------+--------+-----------+-------+------+-----+-----+-----+-----+\n",
      "|event_timestamp    |machine_id|vibration|acoustic|temperature|current|status|IMF_1|IMF_2|IMF_3|label|\n",
      "+-------------------+----------+---------+--------+-----------+-------+------+-----+-----+-----+-----+\n",
      "|2024-07-01 10:30:00|M02       |0.733    |0.656   |63.58      |11.97  |Normal|0.079|0.046|0.007|0    |\n",
      "+-------------------+----------+---------+--------+-----------+-------+------+-----+-----+-----+-----+\n",
      "\n"
     ]
    },
    {
     "name": "stderr",
     "output_type": "stream",
     "text": [
      "                                                                                \r"
     ]
    },
    {
     "name": "stdout",
     "output_type": "stream",
     "text": [
      "-------------------------------------------\n",
      "Batch: 667\n",
      "-------------------------------------------\n",
      "+-------------------+----------+---------+--------+-----------+-------+----------------+-----+------+-----+-----+\n",
      "|event_timestamp    |machine_id|vibration|acoustic|temperature|current|status          |IMF_1|IMF_2 |IMF_3|label|\n",
      "+-------------------+----------+---------+--------+-----------+-------+----------------+-----+------+-----+-----+\n",
      "|2024-07-01 10:31:00|M02       |1.329    |0.953   |75.52      |14.53  |Failure Detected|0.393|-0.106|0.006|1    |\n",
      "+-------------------+----------+---------+--------+-----------+-------+----------------+-----+------+-----+-----+\n",
      "\n",
      "-------------------------------------------\n",
      "Batch: 668\n",
      "-------------------------------------------\n",
      "+-------------------+----------+---------+--------+-----------+-------+------+-----+-----+-----+-----+\n",
      "|event_timestamp    |machine_id|vibration|acoustic|temperature|current|status|IMF_1|IMF_2|IMF_3|label|\n",
      "+-------------------+----------+---------+--------+-----------+-------+------+-----+-----+-----+-----+\n",
      "|2024-07-01 10:32:00|M02       |0.837    |0.613   |64.48      |12.03  |Normal|0.148|0.095|0.005|0    |\n",
      "+-------------------+----------+---------+--------+-----------+-------+------+-----+-----+-----+-----+\n",
      "\n",
      "-------------------------------------------\n",
      "Batch: 669\n",
      "-------------------------------------------\n",
      "+-------------------+----------+---------+--------+-----------+-------+------+-----+-----+-----+-----+\n",
      "|event_timestamp    |machine_id|vibration|acoustic|temperature|current|status|IMF_1|IMF_2|IMF_3|label|\n",
      "+-------------------+----------+---------+--------+-----------+-------+------+-----+-----+-----+-----+\n",
      "|2024-07-01 10:33:00|M02       |0.849    |0.561   |66.14      |12.3   |Normal|0.197|0.089|0.004|0    |\n",
      "+-------------------+----------+---------+--------+-----------+-------+------+-----+-----+-----+-----+\n",
      "\n"
     ]
    },
    {
     "name": "stderr",
     "output_type": "stream",
     "text": [
      "                                                                                \r"
     ]
    },
    {
     "name": "stdout",
     "output_type": "stream",
     "text": [
      "-------------------------------------------\n",
      "Batch: 670\n",
      "-------------------------------------------\n",
      "+-------------------+----------+---------+--------+-----------+-------+------+-----+------+-----+-----+\n",
      "|event_timestamp    |machine_id|vibration|acoustic|temperature|current|status|IMF_1|IMF_2 |IMF_3|label|\n",
      "+-------------------+----------+---------+--------+-----------+-------+------+-----+------+-----+-----+\n",
      "|2024-07-01 10:34:00|M02       |0.837    |0.535   |66.87      |12.01  |Normal|0.201|-0.035|0.003|0    |\n",
      "+-------------------+----------+---------+--------+-----------+-------+------+-----+------+-----+-----+\n",
      "\n"
     ]
    },
    {
     "name": "stderr",
     "output_type": "stream",
     "text": [
      "                                                                                \r"
     ]
    },
    {
     "name": "stdout",
     "output_type": "stream",
     "text": [
      "-------------------------------------------\n",
      "Batch: 671\n",
      "-------------------------------------------\n",
      "+-------------------+----------+---------+--------+-----------+-------+------+-----+-----+-----+-----+\n",
      "|event_timestamp    |machine_id|vibration|acoustic|temperature|current|status|IMF_1|IMF_2|IMF_3|label|\n",
      "+-------------------+----------+---------+--------+-----------+-------+------+-----+-----+-----+-----+\n",
      "|2024-07-01 10:35:00|M02       |0.772    |0.563   |63.03      |12.04  |Normal|0.131|0.016|0.002|0    |\n",
      "+-------------------+----------+---------+--------+-----------+-------+------+-----+-----+-----+-----+\n",
      "\n",
      "-------------------------------------------\n",
      "Batch: 672\n",
      "-------------------------------------------\n",
      "+-------------------+----------+---------+--------+-----------+-------+------+-----+-----+-----+-----+\n",
      "|event_timestamp    |machine_id|vibration|acoustic|temperature|current|status|IMF_1|IMF_2|IMF_3|label|\n",
      "+-------------------+----------+---------+--------+-----------+-------+------+-----+-----+-----+-----+\n",
      "|2024-07-01 10:36:00|M02       |0.796    |0.691   |65.67      |11.91  |Normal|0.209|0.13 |0.001|0    |\n",
      "+-------------------+----------+---------+--------+-----------+-------+------+-----+-----+-----+-----+\n",
      "\n",
      "-------------------------------------------\n",
      "Batch: 673\n",
      "-------------------------------------------\n",
      "+-------------------+----------+---------+--------+-----------+-------+------+-----+------+-----+-----+\n",
      "|event_timestamp    |machine_id|vibration|acoustic|temperature|current|status|IMF_1|IMF_2 |IMF_3|label|\n",
      "+-------------------+----------+---------+--------+-----------+-------+------+-----+------+-----+-----+\n",
      "|2024-07-01 10:37:00|M02       |0.818    |0.645   |65.81      |11.77  |Normal|0.223|-0.017|0.0  |0    |\n",
      "+-------------------+----------+---------+--------+-----------+-------+------+-----+------+-----+-----+\n",
      "\n",
      "-------------------------------------------\n",
      "Batch: 674\n",
      "-------------------------------------------\n",
      "+-------------------+----------+---------+--------+-----------+-------+------+-----+-----+------+-----+\n",
      "|event_timestamp    |machine_id|vibration|acoustic|temperature|current|status|IMF_1|IMF_2|IMF_3 |label|\n",
      "+-------------------+----------+---------+--------+-----------+-------+------+-----+-----+------+-----+\n",
      "|2024-07-01 10:38:00|M02       |0.813    |0.561   |61.07      |11.79  |Normal|0.126|0.084|-0.001|0    |\n",
      "+-------------------+----------+---------+--------+-----------+-------+------+-----+-----+------+-----+\n",
      "\n"
     ]
    },
    {
     "name": "stderr",
     "output_type": "stream",
     "text": [
      "                                                                                \r"
     ]
    },
    {
     "name": "stdout",
     "output_type": "stream",
     "text": [
      "-------------------------------------------\n",
      "Batch: 675\n",
      "-------------------------------------------\n",
      "+-------------------+----------+---------+--------+-----------+-------+------+-----+------+------+-----+\n",
      "|event_timestamp    |machine_id|vibration|acoustic|temperature|current|status|IMF_1|IMF_2 |IMF_3 |label|\n",
      "+-------------------+----------+---------+--------+-----------+-------+------+-----+------+------+-----+\n",
      "|2024-07-01 10:39:00|M02       |0.807    |0.572   |63.58      |12.8   |Normal|0.15 |-0.108|-0.002|0    |\n",
      "+-------------------+----------+---------+--------+-----------+-------+------+-----+------+------+-----+\n",
      "\n",
      "-------------------------------------------\n",
      "Batch: 676\n",
      "-------------------------------------------\n",
      "+-------------------+----------+---------+--------+-----------+-------+------+-----+------+------+-----+\n",
      "|event_timestamp    |machine_id|vibration|acoustic|temperature|current|status|IMF_1|IMF_2 |IMF_3 |label|\n",
      "+-------------------+----------+---------+--------+-----------+-------+------+-----+------+------+-----+\n",
      "|2024-07-01 10:40:00|M02       |0.867    |0.601   |62.69      |10.95  |Normal|0.227|-0.019|-0.003|0    |\n",
      "+-------------------+----------+---------+--------+-----------+-------+------+-----+------+------+-----+\n",
      "\n",
      "-------------------------------------------\n",
      "Batch: 677\n",
      "-------------------------------------------\n",
      "+-------------------+----------+---------+--------+-----------+-------+------+-----+------+------+-----+\n",
      "|event_timestamp    |machine_id|vibration|acoustic|temperature|current|status|IMF_1|IMF_2 |IMF_3 |label|\n",
      "+-------------------+----------+---------+--------+-----------+-------+------+-----+------+------+-----+\n",
      "|2024-07-01 10:41:00|M02       |0.79     |0.574   |66.68      |11.79  |Normal|0.227|-0.006|-0.004|0    |\n",
      "+-------------------+----------+---------+--------+-----------+-------+------+-----+------+------+-----+\n",
      "\n",
      "-------------------------------------------\n",
      "Batch: 678\n",
      "-------------------------------------------\n",
      "+-------------------+----------+---------+--------+-----------+-------+------+-----+------+------+-----+\n",
      "|event_timestamp    |machine_id|vibration|acoustic|temperature|current|status|IMF_1|IMF_2 |IMF_3 |label|\n",
      "+-------------------+----------+---------+--------+-----------+-------+------+-----+------+------+-----+\n",
      "|2024-07-01 10:42:00|M02       |0.799    |0.596   |65.4       |12.09  |Normal|0.132|-0.077|-0.005|0    |\n",
      "+-------------------+----------+---------+--------+-----------+-------+------+-----+------+------+-----+\n",
      "\n",
      "-------------------------------------------\n",
      "Batch: 679\n",
      "-------------------------------------------\n",
      "+-------------------+----------+---------+--------+-----------+-------+------+-----+------+------+-----+\n",
      "|event_timestamp    |machine_id|vibration|acoustic|temperature|current|status|IMF_1|IMF_2 |IMF_3 |label|\n",
      "+-------------------+----------+---------+--------+-----------+-------+------+-----+------+------+-----+\n",
      "|2024-07-01 10:43:00|M02       |0.824    |0.645   |58.7       |11.61  |Normal|0.143|-0.081|-0.006|0    |\n",
      "+-------------------+----------+---------+--------+-----------+-------+------+-----+------+------+-----+\n",
      "\n"
     ]
    },
    {
     "name": "stderr",
     "output_type": "stream",
     "text": [
      "                                                                                \r"
     ]
    },
    {
     "name": "stdout",
     "output_type": "stream",
     "text": [
      "-------------------------------------------\n",
      "Batch: 680\n",
      "-------------------------------------------\n",
      "+-------------------+----------+---------+--------+-----------+-------+------+-----+-----+------+-----+\n",
      "|event_timestamp    |machine_id|vibration|acoustic|temperature|current|status|IMF_1|IMF_2|IMF_3 |label|\n",
      "+-------------------+----------+---------+--------+-----------+-------+------+-----+-----+------+-----+\n",
      "|2024-07-01 10:44:00|M02       |0.881    |0.62    |66.27      |12.11  |Normal|0.145|-0.07|-0.007|0    |\n",
      "+-------------------+----------+---------+--------+-----------+-------+------+-----+-----+------+-----+\n",
      "\n",
      "-------------------------------------------\n",
      "Batch: 681\n",
      "-------------------------------------------\n",
      "+-------------------+----------+---------+--------+-----------+-------+----------------+-----+-----+------+-----+\n",
      "|event_timestamp    |machine_id|vibration|acoustic|temperature|current|status          |IMF_1|IMF_2|IMF_3 |label|\n",
      "+-------------------+----------+---------+--------+-----------+-------+----------------+-----+-----+------+-----+\n",
      "|2024-07-01 10:45:00|M02       |1.131    |0.871   |77.97      |14.81  |Failure Detected|0.138|0.148|-0.008|1    |\n",
      "+-------------------+----------+---------+--------+-----------+-------+----------------+-----+-----+------+-----+\n",
      "\n"
     ]
    },
    {
     "name": "stderr",
     "output_type": "stream",
     "text": [
      "                                                                                \r"
     ]
    },
    {
     "name": "stdout",
     "output_type": "stream",
     "text": [
      "-------------------------------------------\n",
      "Batch: 682\n",
      "-------------------------------------------\n",
      "+-------------------+----------+---------+--------+-----------+-------+------+-----+------+------+-----+\n",
      "|event_timestamp    |machine_id|vibration|acoustic|temperature|current|status|IMF_1|IMF_2 |IMF_3 |label|\n",
      "+-------------------+----------+---------+--------+-----------+-------+------+-----+------+------+-----+\n",
      "|2024-07-01 10:46:00|M02       |0.796    |0.617   |65.86      |11.18  |Normal|0.158|-0.096|-0.009|0    |\n",
      "+-------------------+----------+---------+--------+-----------+-------+------+-----+------+------+-----+\n",
      "\n"
     ]
    },
    {
     "name": "stderr",
     "output_type": "stream",
     "text": [
      "                                                                                \r"
     ]
    },
    {
     "name": "stdout",
     "output_type": "stream",
     "text": [
      "-------------------------------------------\n",
      "Batch: 683\n",
      "-------------------------------------------\n",
      "+-------------------+----------+---------+--------+-----------+-------+------+-----+-----+-----+-----+\n",
      "|event_timestamp    |machine_id|vibration|acoustic|temperature|current|status|IMF_1|IMF_2|IMF_3|label|\n",
      "+-------------------+----------+---------+--------+-----------+-------+------+-----+-----+-----+-----+\n",
      "|2024-07-01 10:47:00|M02       |0.812    |0.598   |63.27      |11.88  |Normal|0.122|0.084|-0.01|0    |\n",
      "+-------------------+----------+---------+--------+-----------+-------+------+-----+-----+-----+-----+\n",
      "\n"
     ]
    },
    {
     "name": "stderr",
     "output_type": "stream",
     "text": [
      "                                                                                \r"
     ]
    },
    {
     "name": "stdout",
     "output_type": "stream",
     "text": [
      "-------------------------------------------\n",
      "Batch: 684\n",
      "-------------------------------------------\n",
      "+-------------------+----------+---------+--------+-----------+-------+------+-----+-----+------+-----+\n",
      "|event_timestamp    |machine_id|vibration|acoustic|temperature|current|status|IMF_1|IMF_2|IMF_3 |label|\n",
      "+-------------------+----------+---------+--------+-----------+-------+------+-----+-----+------+-----+\n",
      "|2024-07-01 10:48:00|M02       |0.806    |0.692   |64.48      |12.49  |Normal|0.229|0.022|-0.011|0    |\n",
      "+-------------------+----------+---------+--------+-----------+-------+------+-----+-----+------+-----+\n",
      "\n",
      "-------------------------------------------\n",
      "Batch: 685\n",
      "-------------------------------------------\n",
      "+-------------------+----------+---------+--------+-----------+-------+------+-----+------+------+-----+\n",
      "|event_timestamp    |machine_id|vibration|acoustic|temperature|current|status|IMF_1|IMF_2 |IMF_3 |label|\n",
      "+-------------------+----------+---------+--------+-----------+-------+------+-----+------+------+-----+\n",
      "|2024-07-01 10:49:00|M02       |0.879    |0.575   |64.05      |12.97  |Normal|0.095|-0.072|-0.012|0    |\n",
      "+-------------------+----------+---------+--------+-----------+-------+------+-----+------+------+-----+\n",
      "\n",
      "-------------------------------------------\n",
      "Batch: 686\n",
      "-------------------------------------------\n",
      "+-------------------+----------+---------+--------+-----------+-------+------+-----+-----+------+-----+\n",
      "|event_timestamp    |machine_id|vibration|acoustic|temperature|current|status|IMF_1|IMF_2|IMF_3 |label|\n",
      "+-------------------+----------+---------+--------+-----------+-------+------+-----+-----+------+-----+\n",
      "|2024-07-01 10:50:00|M02       |0.766    |0.669   |66.69      |11.99  |Normal|0.185|0.081|-0.013|0    |\n",
      "+-------------------+----------+---------+--------+-----------+-------+------+-----+-----+------+-----+\n",
      "\n",
      "-------------------------------------------\n",
      "Batch: 687\n",
      "-------------------------------------------\n",
      "+-------------------+----------+---------+--------+-----------+-------+------+-----+------+------+-----+\n",
      "|event_timestamp    |machine_id|vibration|acoustic|temperature|current|status|IMF_1|IMF_2 |IMF_3 |label|\n",
      "+-------------------+----------+---------+--------+-----------+-------+------+-----+------+------+-----+\n",
      "|2024-07-01 10:51:00|M02       |0.847    |0.582   |60.25      |12.48  |Normal|0.115|-0.011|-0.014|0    |\n",
      "+-------------------+----------+---------+--------+-----------+-------+------+-----+------+------+-----+\n",
      "\n"
     ]
    },
    {
     "name": "stderr",
     "output_type": "stream",
     "text": [
      "                                                                                \r"
     ]
    },
    {
     "name": "stdout",
     "output_type": "stream",
     "text": [
      "-------------------------------------------\n",
      "Batch: 688\n",
      "-------------------------------------------\n",
      "+-------------------+----------+---------+--------+-----------+-------+------+-----+------+------+-----+\n",
      "|event_timestamp    |machine_id|vibration|acoustic|temperature|current|status|IMF_1|IMF_2 |IMF_3 |label|\n",
      "+-------------------+----------+---------+--------+-----------+-------+------+-----+------+------+-----+\n",
      "|2024-07-01 10:52:00|M02       |0.871    |0.629   |67.44      |11.65  |Normal|0.155|-0.035|-0.015|0    |\n",
      "+-------------------+----------+---------+--------+-----------+-------+------+-----+------+------+-----+\n",
      "\n",
      "-------------------------------------------\n",
      "Batch: 689\n",
      "-------------------------------------------\n",
      "+-------------------+----------+---------+--------+-----------+-------+----------------+-----+-----+------+-----+\n",
      "|event_timestamp    |machine_id|vibration|acoustic|temperature|current|status          |IMF_1|IMF_2|IMF_3 |label|\n",
      "+-------------------+----------+---------+--------+-----------+-------+----------------+-----+-----+------+-----+\n",
      "|2024-07-01 10:53:00|M02       |1.375    |0.949   |83.9       |14.93  |Failure Detected|0.238|0.154|-0.016|1    |\n",
      "+-------------------+----------+---------+--------+-----------+-------+----------------+-----+-----+------+-----+\n",
      "\n",
      "-------------------------------------------\n",
      "Batch: 690\n",
      "-------------------------------------------\n",
      "+-------------------+----------+---------+--------+-----------+-------+------+-----+------+------+-----+\n",
      "|event_timestamp    |machine_id|vibration|acoustic|temperature|current|status|IMF_1|IMF_2 |IMF_3 |label|\n",
      "+-------------------+----------+---------+--------+-----------+-------+------+-----+------+------+-----+\n",
      "|2024-07-01 10:54:00|M02       |0.754    |0.632   |62.75      |11.81  |Normal|0.153|-0.023|-0.017|0    |\n",
      "+-------------------+----------+---------+--------+-----------+-------+------+-----+------+------+-----+\n",
      "\n"
     ]
    },
    {
     "name": "stderr",
     "output_type": "stream",
     "text": [
      "                                                                                \r"
     ]
    },
    {
     "name": "stdout",
     "output_type": "stream",
     "text": [
      "-------------------------------------------\n",
      "Batch: 691\n",
      "-------------------------------------------\n",
      "+-------------------+----------+---------+--------+-----------+-------+----------------+-----+-----+------+-----+\n",
      "|event_timestamp    |machine_id|vibration|acoustic|temperature|current|status          |IMF_1|IMF_2|IMF_3 |label|\n",
      "+-------------------+----------+---------+--------+-----------+-------+----------------+-----+-----+------+-----+\n",
      "|2024-07-01 10:55:00|M02       |1.214    |0.78    |79.46      |14.91  |Failure Detected|0.32 |0.029|-0.018|1    |\n",
      "+-------------------+----------+---------+--------+-----------+-------+----------------+-----+-----+------+-----+\n",
      "\n",
      "-------------------------------------------\n",
      "Batch: 692\n",
      "-------------------------------------------\n",
      "+-------------------+----------+---------+--------+-----------+-------+------+-----+-----+------+-----+\n",
      "|event_timestamp    |machine_id|vibration|acoustic|temperature|current|status|IMF_1|IMF_2|IMF_3 |label|\n",
      "+-------------------+----------+---------+--------+-----------+-------+------+-----+-----+------+-----+\n",
      "|2024-07-01 10:56:00|M02       |0.749    |0.597   |63.69      |12.1   |Normal|0.182|0.016|-0.018|0    |\n",
      "+-------------------+----------+---------+--------+-----------+-------+------+-----+-----+------+-----+\n",
      "\n",
      "-------------------------------------------\n",
      "Batch: 693\n",
      "-------------------------------------------\n",
      "+-------------------+----------+---------+--------+-----------+-------+------+-----+------+------+-----+\n",
      "|event_timestamp    |machine_id|vibration|acoustic|temperature|current|status|IMF_1|IMF_2 |IMF_3 |label|\n",
      "+-------------------+----------+---------+--------+-----------+-------+------+-----+------+------+-----+\n",
      "|2024-07-01 10:57:00|M02       |0.777    |0.673   |66.05      |11.79  |Normal|0.207|-0.004|-0.019|0    |\n",
      "+-------------------+----------+---------+--------+-----------+-------+------+-----+------+------+-----+\n",
      "\n",
      "-------------------------------------------\n",
      "Batch: 694\n",
      "-------------------------------------------\n",
      "+-------------------+----------+---------+--------+-----------+-------+------+-----+------+-----+-----+\n",
      "|event_timestamp    |machine_id|vibration|acoustic|temperature|current|status|IMF_1|IMF_2 |IMF_3|label|\n",
      "+-------------------+----------+---------+--------+-----------+-------+------+-----+------+-----+-----+\n",
      "|2024-07-01 10:58:00|M02       |0.809    |0.579   |65.53      |12.26  |Normal|0.233|-0.019|-0.02|0    |\n",
      "+-------------------+----------+---------+--------+-----------+-------+------+-----+------+-----+-----+\n",
      "\n",
      "-------------------------------------------\n",
      "Batch: 695\n",
      "-------------------------------------------\n",
      "+-------------------+----------+---------+--------+-----------+-------+------+-----+-----+------+-----+\n",
      "|event_timestamp    |machine_id|vibration|acoustic|temperature|current|status|IMF_1|IMF_2|IMF_3 |label|\n",
      "+-------------------+----------+---------+--------+-----------+-------+------+-----+-----+------+-----+\n",
      "|2024-07-01 10:59:00|M02       |0.808    |0.57    |65.17      |12.13  |Normal|0.22 |0.098|-0.021|0    |\n",
      "+-------------------+----------+---------+--------+-----------+-------+------+-----+-----+------+-----+\n",
      "\n",
      "-------------------------------------------\n",
      "Batch: 696\n",
      "-------------------------------------------\n",
      "+-------------------+----------+---------+--------+-----------+-------+------+-----+-----+------+-----+\n",
      "|event_timestamp    |machine_id|vibration|acoustic|temperature|current|status|IMF_1|IMF_2|IMF_3 |label|\n",
      "+-------------------+----------+---------+--------+-----------+-------+------+-----+-----+------+-----+\n",
      "|2024-07-01 11:00:00|M02       |0.736    |0.594   |60.85      |12.19  |Normal|0.078|0.005|-0.022|0    |\n",
      "+-------------------+----------+---------+--------+-----------+-------+------+-----+-----+------+-----+\n",
      "\n",
      "-------------------------------------------\n",
      "Batch: 697\n",
      "-------------------------------------------\n",
      "+-------------------+----------+---------+--------+-----------+-------+------+-----+------+------+-----+\n",
      "|event_timestamp    |machine_id|vibration|acoustic|temperature|current|status|IMF_1|IMF_2 |IMF_3 |label|\n",
      "+-------------------+----------+---------+--------+-----------+-------+------+-----+------+------+-----+\n",
      "|2024-07-01 11:01:00|M02       |0.891    |0.576   |62.73      |12.29  |Normal|0.119|-0.007|-0.023|0    |\n",
      "+-------------------+----------+---------+--------+-----------+-------+------+-----+------+------+-----+\n",
      "\n",
      "-------------------------------------------\n",
      "Batch: 698\n",
      "-------------------------------------------\n",
      "+-------------------+----------+---------+--------+-----------+-------+------+-----+-----+------+-----+\n",
      "|event_timestamp    |machine_id|vibration|acoustic|temperature|current|status|IMF_1|IMF_2|IMF_3 |label|\n",
      "+-------------------+----------+---------+--------+-----------+-------+------+-----+-----+------+-----+\n",
      "|2024-07-01 11:02:00|M02       |0.791    |0.615   |63.52      |12.02  |Normal|0.225|0.101|-0.024|0    |\n",
      "+-------------------+----------+---------+--------+-----------+-------+------+-----+-----+------+-----+\n",
      "\n",
      "-------------------------------------------\n",
      "Batch: 699\n",
      "-------------------------------------------\n",
      "+-------------------+----------+---------+--------+-----------+-------+------+-----+------+------+-----+\n",
      "|event_timestamp    |machine_id|vibration|acoustic|temperature|current|status|IMF_1|IMF_2 |IMF_3 |label|\n",
      "+-------------------+----------+---------+--------+-----------+-------+------+-----+------+------+-----+\n",
      "|2024-07-01 11:03:00|M02       |0.833    |0.542   |65.11      |13.08  |Normal|0.19 |-0.052|-0.025|0    |\n",
      "+-------------------+----------+---------+--------+-----------+-------+------+-----+------+------+-----+\n",
      "\n",
      "-------------------------------------------\n",
      "Batch: 700\n",
      "-------------------------------------------\n",
      "+-------------------+----------+---------+--------+-----------+-------+------+-----+-----+------+-----+\n",
      "|event_timestamp    |machine_id|vibration|acoustic|temperature|current|status|IMF_1|IMF_2|IMF_3 |label|\n",
      "+-------------------+----------+---------+--------+-----------+-------+------+-----+-----+------+-----+\n",
      "|2024-07-01 11:04:00|M02       |0.812    |0.58    |67.07      |11.0   |Normal|0.22 |-0.01|-0.026|0    |\n",
      "+-------------------+----------+---------+--------+-----------+-------+------+-----+-----+------+-----+\n",
      "\n"
     ]
    },
    {
     "name": "stderr",
     "output_type": "stream",
     "text": [
      "                                                                                \r"
     ]
    },
    {
     "name": "stdout",
     "output_type": "stream",
     "text": [
      "-------------------------------------------\n",
      "Batch: 701\n",
      "-------------------------------------------\n",
      "+-------------------+----------+---------+--------+-----------+-------+------+-----+-----+------+-----+\n",
      "|event_timestamp    |machine_id|vibration|acoustic|temperature|current|status|IMF_1|IMF_2|IMF_3 |label|\n",
      "+-------------------+----------+---------+--------+-----------+-------+------+-----+-----+------+-----+\n",
      "|2024-07-01 11:05:00|M02       |0.891    |0.567   |64.71      |12.07  |Normal|0.152|0.038|-0.026|0    |\n",
      "+-------------------+----------+---------+--------+-----------+-------+------+-----+-----+------+-----+\n",
      "\n",
      "-------------------------------------------\n",
      "Batch: 702\n",
      "-------------------------------------------\n",
      "+-------------------+----------+---------+--------+-----------+-------+------+-----+------+------+-----+\n",
      "|event_timestamp    |machine_id|vibration|acoustic|temperature|current|status|IMF_1|IMF_2 |IMF_3 |label|\n",
      "+-------------------+----------+---------+--------+-----------+-------+------+-----+------+------+-----+\n",
      "|2024-07-01 11:06:00|M02       |0.76     |0.663   |65.84      |12.2   |Normal|0.216|-0.046|-0.027|0    |\n",
      "+-------------------+----------+---------+--------+-----------+-------+------+-----+------+------+-----+\n",
      "\n"
     ]
    },
    {
     "name": "stderr",
     "output_type": "stream",
     "text": [
      "                                                                                \r"
     ]
    },
    {
     "name": "stdout",
     "output_type": "stream",
     "text": [
      "-------------------------------------------\n",
      "Batch: 703\n",
      "-------------------------------------------\n",
      "+-------------------+----------+---------+--------+-----------+-------+------+-----+-----+------+-----+\n",
      "|event_timestamp    |machine_id|vibration|acoustic|temperature|current|status|IMF_1|IMF_2|IMF_3 |label|\n",
      "+-------------------+----------+---------+--------+-----------+-------+------+-----+-----+------+-----+\n",
      "|2024-07-01 11:07:00|M02       |0.776    |0.616   |64.1       |11.43  |Normal|0.111|0.09 |-0.028|0    |\n",
      "+-------------------+----------+---------+--------+-----------+-------+------+-----+-----+------+-----+\n",
      "\n"
     ]
    },
    {
     "name": "stderr",
     "output_type": "stream",
     "text": [
      "                                                                                \r"
     ]
    },
    {
     "name": "stdout",
     "output_type": "stream",
     "text": [
      "-------------------------------------------\n",
      "Batch: 704\n",
      "-------------------------------------------\n",
      "+-------------------+----------+---------+--------+-----------+-------+------+-----+-----+------+-----+\n",
      "|event_timestamp    |machine_id|vibration|acoustic|temperature|current|status|IMF_1|IMF_2|IMF_3 |label|\n",
      "+-------------------+----------+---------+--------+-----------+-------+------+-----+-----+------+-----+\n",
      "|2024-07-01 11:08:00|M02       |0.791    |0.543   |65.73      |12.4   |Normal|0.128|0.061|-0.029|0    |\n",
      "+-------------------+----------+---------+--------+-----------+-------+------+-----+-----+------+-----+\n",
      "\n"
     ]
    },
    {
     "name": "stderr",
     "output_type": "stream",
     "text": [
      "                                                                                \r"
     ]
    },
    {
     "name": "stdout",
     "output_type": "stream",
     "text": [
      "-------------------------------------------\n",
      "Batch: 705\n",
      "-------------------------------------------\n",
      "+-------------------+----------+---------+--------+-----------+-------+------+-----+-----+-----+-----+\n",
      "|event_timestamp    |machine_id|vibration|acoustic|temperature|current|status|IMF_1|IMF_2|IMF_3|label|\n",
      "+-------------------+----------+---------+--------+-----------+-------+------+-----+-----+-----+-----+\n",
      "|2024-07-01 11:09:00|M02       |0.833    |0.505   |65.01      |11.83  |Normal|0.13 |0.03 |-0.03|0    |\n",
      "+-------------------+----------+---------+--------+-----------+-------+------+-----+-----+-----+-----+\n",
      "\n",
      "-------------------------------------------\n",
      "Batch: 706\n",
      "-------------------------------------------\n",
      "+-------------------+----------+---------+--------+-----------+-------+------+-----+-----+------+-----+\n",
      "|event_timestamp    |machine_id|vibration|acoustic|temperature|current|status|IMF_1|IMF_2|IMF_3 |label|\n",
      "+-------------------+----------+---------+--------+-----------+-------+------+-----+-----+------+-----+\n",
      "|2024-07-01 11:10:00|M02       |0.826    |0.554   |64.15      |12.21  |Normal|0.218|-0.07|-0.031|0    |\n",
      "+-------------------+----------+---------+--------+-----------+-------+------+-----+-----+------+-----+\n",
      "\n",
      "-------------------------------------------\n",
      "Batch: 707\n",
      "-------------------------------------------\n",
      "+-------------------+----------+---------+--------+-----------+-------+------+-----+------+------+-----+\n",
      "|event_timestamp    |machine_id|vibration|acoustic|temperature|current|status|IMF_1|IMF_2 |IMF_3 |label|\n",
      "+-------------------+----------+---------+--------+-----------+-------+------+-----+------+------+-----+\n",
      "|2024-07-01 11:11:00|M02       |0.823    |0.643   |68.88      |12.09  |Normal|0.092|-0.112|-0.031|0    |\n",
      "+-------------------+----------+---------+--------+-----------+-------+------+-----+------+------+-----+\n",
      "\n",
      "-------------------------------------------\n",
      "Batch: 708\n",
      "-------------------------------------------\n",
      "+-------------------+----------+---------+--------+-----------+-------+------+-----+------+------+-----+\n",
      "|event_timestamp    |machine_id|vibration|acoustic|temperature|current|status|IMF_1|IMF_2 |IMF_3 |label|\n",
      "+-------------------+----------+---------+--------+-----------+-------+------+-----+------+------+-----+\n",
      "|2024-07-01 11:12:00|M02       |0.798    |0.489   |65.51      |12.56  |Normal|0.219|-0.014|-0.032|0    |\n",
      "+-------------------+----------+---------+--------+-----------+-------+------+-----+------+------+-----+\n",
      "\n",
      "-------------------------------------------\n",
      "Batch: 709\n",
      "-------------------------------------------\n",
      "+-------------------+----------+---------+--------+-----------+-------+------+-----+-----+------+-----+\n",
      "|event_timestamp    |machine_id|vibration|acoustic|temperature|current|status|IMF_1|IMF_2|IMF_3 |label|\n",
      "+-------------------+----------+---------+--------+-----------+-------+------+-----+-----+------+-----+\n",
      "|2024-07-01 11:13:00|M02       |0.796    |0.648   |66.1       |12.45  |Normal|0.098|0.06 |-0.033|0    |\n",
      "+-------------------+----------+---------+--------+-----------+-------+------+-----+-----+------+-----+\n",
      "\n",
      "-------------------------------------------\n",
      "Batch: 710\n",
      "-------------------------------------------\n",
      "+-------------------+----------+---------+--------+-----------+-------+------+-----+-----+------+-----+\n",
      "|event_timestamp    |machine_id|vibration|acoustic|temperature|current|status|IMF_1|IMF_2|IMF_3 |label|\n",
      "+-------------------+----------+---------+--------+-----------+-------+------+-----+-----+------+-----+\n",
      "|2024-07-01 11:14:00|M02       |0.818    |0.505   |63.07      |12.1   |Normal|0.199|0.075|-0.034|0    |\n",
      "+-------------------+----------+---------+--------+-----------+-------+------+-----+-----+------+-----+\n",
      "\n"
     ]
    },
    {
     "name": "stderr",
     "output_type": "stream",
     "text": [
      "                                                                                \r"
     ]
    },
    {
     "name": "stdout",
     "output_type": "stream",
     "text": [
      "-------------------------------------------\n",
      "Batch: 711\n",
      "-------------------------------------------\n",
      "+-------------------+----------+---------+--------+-----------+-------+------+-----+------+------+-----+\n",
      "|event_timestamp    |machine_id|vibration|acoustic|temperature|current|status|IMF_1|IMF_2 |IMF_3 |label|\n",
      "+-------------------+----------+---------+--------+-----------+-------+------+-----+------+------+-----+\n",
      "|2024-07-01 11:15:00|M02       |0.786    |0.633   |67.26      |12.0   |Normal|0.132|-0.082|-0.034|0    |\n",
      "+-------------------+----------+---------+--------+-----------+-------+------+-----+------+------+-----+\n",
      "\n"
     ]
    },
    {
     "name": "stderr",
     "output_type": "stream",
     "text": [
      "                                                                                \r"
     ]
    },
    {
     "name": "stdout",
     "output_type": "stream",
     "text": [
      "-------------------------------------------\n",
      "Batch: 712\n",
      "-------------------------------------------\n",
      "+-------------------+----------+---------+--------+-----------+-------+------+-----+-----+------+-----+\n",
      "|event_timestamp    |machine_id|vibration|acoustic|temperature|current|status|IMF_1|IMF_2|IMF_3 |label|\n",
      "+-------------------+----------+---------+--------+-----------+-------+------+-----+-----+------+-----+\n",
      "|2024-07-01 11:16:00|M02       |0.804    |0.564   |67.68      |11.34  |Normal|0.19 |0.021|-0.035|0    |\n",
      "+-------------------+----------+---------+--------+-----------+-------+------+-----+-----+------+-----+\n",
      "\n"
     ]
    },
    {
     "name": "stderr",
     "output_type": "stream",
     "text": [
      "                                                                                \r"
     ]
    },
    {
     "name": "stdout",
     "output_type": "stream",
     "text": [
      "-------------------------------------------\n",
      "Batch: 713\n",
      "-------------------------------------------\n",
      "+-------------------+----------+---------+--------+-----------+-------+------+-----+-----+------+-----+\n",
      "|event_timestamp    |machine_id|vibration|acoustic|temperature|current|status|IMF_1|IMF_2|IMF_3 |label|\n",
      "+-------------------+----------+---------+--------+-----------+-------+------+-----+-----+------+-----+\n",
      "|2024-07-01 11:17:00|M02       |0.704    |0.585   |65.34      |11.96  |Normal|0.144|0.071|-0.036|0    |\n",
      "+-------------------+----------+---------+--------+-----------+-------+------+-----+-----+------+-----+\n",
      "\n",
      "-------------------------------------------\n",
      "Batch: 714\n",
      "-------------------------------------------\n",
      "+-------------------+----------+---------+--------+-----------+-------+------+-----+-----+------+-----+\n",
      "|event_timestamp    |machine_id|vibration|acoustic|temperature|current|status|IMF_1|IMF_2|IMF_3 |label|\n",
      "+-------------------+----------+---------+--------+-----------+-------+------+-----+-----+------+-----+\n",
      "|2024-07-01 11:18:00|M02       |0.724    |0.606   |66.16      |11.99  |Normal|0.213|0.039|-0.037|0    |\n",
      "+-------------------+----------+---------+--------+-----------+-------+------+-----+-----+------+-----+\n",
      "\n",
      "-------------------------------------------\n",
      "Batch: 715\n",
      "-------------------------------------------\n",
      "+-------------------+----------+---------+--------+-----------+-------+------+-----+------+------+-----+\n",
      "|event_timestamp    |machine_id|vibration|acoustic|temperature|current|status|IMF_1|IMF_2 |IMF_3 |label|\n",
      "+-------------------+----------+---------+--------+-----------+-------+------+-----+------+------+-----+\n",
      "|2024-07-01 11:19:00|M02       |0.733    |0.507   |65.42      |11.61  |Normal|0.131|-0.054|-0.037|0    |\n",
      "+-------------------+----------+---------+--------+-----------+-------+------+-----+------+------+-----+\n",
      "\n"
     ]
    },
    {
     "name": "stderr",
     "output_type": "stream",
     "text": [
      "                                                                                \r"
     ]
    },
    {
     "name": "stdout",
     "output_type": "stream",
     "text": [
      "-------------------------------------------\n",
      "Batch: 716\n",
      "-------------------------------------------\n",
      "+-------------------+----------+---------+--------+-----------+-------+------+-----+-----+------+-----+\n",
      "|event_timestamp    |machine_id|vibration|acoustic|temperature|current|status|IMF_1|IMF_2|IMF_3 |label|\n",
      "+-------------------+----------+---------+--------+-----------+-------+------+-----+-----+------+-----+\n",
      "|2024-07-01 11:20:00|M02       |0.779    |0.565   |69.5       |11.19  |Normal|0.098|0.068|-0.038|0    |\n",
      "+-------------------+----------+---------+--------+-----------+-------+------+-----+-----+------+-----+\n",
      "\n"
     ]
    },
    {
     "name": "stderr",
     "output_type": "stream",
     "text": [
      "                                                                                \r"
     ]
    },
    {
     "name": "stdout",
     "output_type": "stream",
     "text": [
      "-------------------------------------------\n",
      "Batch: 717\n",
      "-------------------------------------------\n",
      "+-------------------+----------+---------+--------+-----------+-------+------+-----+------+------+-----+\n",
      "|event_timestamp    |machine_id|vibration|acoustic|temperature|current|status|IMF_1|IMF_2 |IMF_3 |label|\n",
      "+-------------------+----------+---------+--------+-----------+-------+------+-----+------+------+-----+\n",
      "|2024-07-01 11:21:00|M02       |0.815    |0.542   |68.63      |11.19  |Normal|0.204|-0.102|-0.038|0    |\n",
      "+-------------------+----------+---------+--------+-----------+-------+------+-----+------+------+-----+\n",
      "\n"
     ]
    },
    {
     "name": "stderr",
     "output_type": "stream",
     "text": [
      "                                                                                \r"
     ]
    },
    {
     "name": "stdout",
     "output_type": "stream",
     "text": [
      "-------------------------------------------\n",
      "Batch: 718\n",
      "-------------------------------------------\n",
      "+-------------------+----------+---------+--------+-----------+-------+------+-----+-----+------+-----+\n",
      "|event_timestamp    |machine_id|vibration|acoustic|temperature|current|status|IMF_1|IMF_2|IMF_3 |label|\n",
      "+-------------------+----------+---------+--------+-----------+-------+------+-----+-----+------+-----+\n",
      "|2024-07-01 11:22:00|M02       |0.769    |0.608   |65.47      |12.27  |Normal|0.201|0.022|-0.039|0    |\n",
      "+-------------------+----------+---------+--------+-----------+-------+------+-----+-----+------+-----+\n",
      "\n"
     ]
    },
    {
     "name": "stderr",
     "output_type": "stream",
     "text": [
      "                                                                                \r"
     ]
    },
    {
     "name": "stdout",
     "output_type": "stream",
     "text": [
      "-------------------------------------------\n",
      "Batch: 719\n",
      "-------------------------------------------\n",
      "+-------------------+----------+---------+--------+-----------+-------+------+-----+-----+-----+-----+\n",
      "|event_timestamp    |machine_id|vibration|acoustic|temperature|current|status|IMF_1|IMF_2|IMF_3|label|\n",
      "+-------------------+----------+---------+--------+-----------+-------+------+-----+-----+-----+-----+\n",
      "|2024-07-01 11:23:00|M02       |0.759    |0.669   |64.53      |12.34  |Normal|0.076|0.029|-0.04|0    |\n",
      "+-------------------+----------+---------+--------+-----------+-------+------+-----+-----+-----+-----+\n",
      "\n",
      "-------------------------------------------\n",
      "Batch: 720\n",
      "-------------------------------------------\n",
      "+-------------------+----------+---------+--------+-----------+-------+------+-----+------+-----+-----+\n",
      "|event_timestamp    |machine_id|vibration|acoustic|temperature|current|status|IMF_1|IMF_2 |IMF_3|label|\n",
      "+-------------------+----------+---------+--------+-----------+-------+------+-----+------+-----+-----+\n",
      "|2024-07-01 11:24:00|M02       |0.743    |0.695   |64.64      |12.45  |Normal|0.075|-0.006|-0.04|0    |\n",
      "+-------------------+----------+---------+--------+-----------+-------+------+-----+------+-----+-----+\n",
      "\n",
      "-------------------------------------------\n",
      "Batch: 721\n",
      "-------------------------------------------\n",
      "+-------------------+----------+---------+--------+-----------+-------+------+-----+-----+------+-----+\n",
      "|event_timestamp    |machine_id|vibration|acoustic|temperature|current|status|IMF_1|IMF_2|IMF_3 |label|\n",
      "+-------------------+----------+---------+--------+-----------+-------+------+-----+-----+------+-----+\n",
      "|2024-07-01 11:25:00|M02       |0.831    |0.591   |64.78      |12.21  |Normal|0.193|0.042|-0.041|0    |\n",
      "+-------------------+----------+---------+--------+-----------+-------+------+-----+-----+------+-----+\n",
      "\n",
      "-------------------------------------------\n",
      "Batch: 722\n",
      "-------------------------------------------\n",
      "+-------------------+----------+---------+--------+-----------+-------+------+-----+-----+------+-----+\n",
      "|event_timestamp    |machine_id|vibration|acoustic|temperature|current|status|IMF_1|IMF_2|IMF_3 |label|\n",
      "+-------------------+----------+---------+--------+-----------+-------+------+-----+-----+------+-----+\n",
      "|2024-07-01 11:26:00|M02       |0.78     |0.603   |63.53      |12.27  |Normal|0.199|0.018|-0.041|0    |\n",
      "+-------------------+----------+---------+--------+-----------+-------+------+-----+-----+------+-----+\n",
      "\n",
      "-------------------------------------------\n",
      "Batch: 723\n",
      "-------------------------------------------\n",
      "+-------------------+----------+---------+--------+-----------+-------+------+-----+-----+------+-----+\n",
      "|event_timestamp    |machine_id|vibration|acoustic|temperature|current|status|IMF_1|IMF_2|IMF_3 |label|\n",
      "+-------------------+----------+---------+--------+-----------+-------+------+-----+-----+------+-----+\n",
      "|2024-07-01 11:27:00|M02       |0.761    |0.61    |63.74      |11.54  |Normal|0.111|0.059|-0.042|0    |\n",
      "+-------------------+----------+---------+--------+-----------+-------+------+-----+-----+------+-----+\n",
      "\n",
      "-------------------------------------------\n",
      "Batch: 724\n",
      "-------------------------------------------\n",
      "+-------------------+----------+---------+--------+-----------+-------+------+-----+-----+------+-----+\n",
      "|event_timestamp    |machine_id|vibration|acoustic|temperature|current|status|IMF_1|IMF_2|IMF_3 |label|\n",
      "+-------------------+----------+---------+--------+-----------+-------+------+-----+-----+------+-----+\n",
      "|2024-07-01 11:28:00|M02       |0.77     |0.683   |62.45      |11.51  |Normal|0.196|0.103|-0.043|0    |\n",
      "+-------------------+----------+---------+--------+-----------+-------+------+-----+-----+------+-----+\n",
      "\n",
      "-------------------------------------------\n",
      "Batch: 725\n",
      "-------------------------------------------\n",
      "+-------------------+----------+---------+--------+-----------+-------+------+-----+------+------+-----+\n",
      "|event_timestamp    |machine_id|vibration|acoustic|temperature|current|status|IMF_1|IMF_2 |IMF_3 |label|\n",
      "+-------------------+----------+---------+--------+-----------+-------+------+-----+------+------+-----+\n",
      "|2024-07-01 11:29:00|M02       |0.752    |0.646   |59.83      |12.93  |Normal|0.116|-0.098|-0.043|0    |\n",
      "+-------------------+----------+---------+--------+-----------+-------+------+-----+------+------+-----+\n",
      "\n",
      "-------------------------------------------\n",
      "Batch: 726\n",
      "-------------------------------------------\n",
      "+-------------------+----------+---------+--------+-----------+-------+----------------+-----+-----+------+-----+\n",
      "|event_timestamp    |machine_id|vibration|acoustic|temperature|current|status          |IMF_1|IMF_2|IMF_3 |label|\n",
      "+-------------------+----------+---------+--------+-----------+-------+----------------+-----+-----+------+-----+\n",
      "|2024-07-01 11:30:00|M02       |1.147    |0.899   |79.22      |15.79  |Failure Detected|0.138|0.177|-0.044|1    |\n",
      "+-------------------+----------+---------+--------+-----------+-------+----------------+-----+-----+------+-----+\n",
      "\n",
      "-------------------------------------------\n",
      "Batch: 727\n",
      "-------------------------------------------\n",
      "+-------------------+----------+---------+--------+-----------+-------+------+-----+------+------+-----+\n",
      "|event_timestamp    |machine_id|vibration|acoustic|temperature|current|status|IMF_1|IMF_2 |IMF_3 |label|\n",
      "+-------------------+----------+---------+--------+-----------+-------+------+-----+------+------+-----+\n",
      "|2024-07-01 11:31:00|M02       |0.863    |0.619   |63.02      |10.7   |Normal|0.231|-0.113|-0.044|0    |\n",
      "+-------------------+----------+---------+--------+-----------+-------+------+-----+------+------+-----+\n",
      "\n",
      "-------------------------------------------\n",
      "Batch: 728\n",
      "-------------------------------------------\n",
      "+-------------------+----------+---------+--------+-----------+-------+------+-----+-----+------+-----+\n",
      "|event_timestamp    |machine_id|vibration|acoustic|temperature|current|status|IMF_1|IMF_2|IMF_3 |label|\n",
      "+-------------------+----------+---------+--------+-----------+-------+------+-----+-----+------+-----+\n",
      "|2024-07-01 11:32:00|M02       |0.772    |0.63    |67.71      |11.77  |Normal|0.156|0.108|-0.045|0    |\n",
      "+-------------------+----------+---------+--------+-----------+-------+------+-----+-----+------+-----+\n",
      "\n",
      "-------------------------------------------\n",
      "Batch: 729\n",
      "-------------------------------------------\n",
      "+-------------------+----------+---------+--------+-----------+-------+------+-----+-----+------+-----+\n",
      "|event_timestamp    |machine_id|vibration|acoustic|temperature|current|status|IMF_1|IMF_2|IMF_3 |label|\n",
      "+-------------------+----------+---------+--------+-----------+-------+------+-----+-----+------+-----+\n",
      "|2024-07-01 11:33:00|M02       |0.781    |0.567   |62.63      |12.01  |Normal|0.172|0.072|-0.045|0    |\n",
      "+-------------------+----------+---------+--------+-----------+-------+------+-----+-----+------+-----+\n",
      "\n",
      "-------------------------------------------\n",
      "Batch: 730\n",
      "-------------------------------------------\n",
      "+-------------------+----------+---------+--------+-----------+-------+------+-----+------+------+-----+\n",
      "|event_timestamp    |machine_id|vibration|acoustic|temperature|current|status|IMF_1|IMF_2 |IMF_3 |label|\n",
      "+-------------------+----------+---------+--------+-----------+-------+------+-----+------+------+-----+\n",
      "|2024-07-01 11:34:00|M02       |0.799    |0.571   |65.65      |11.15  |Normal|0.142|-0.027|-0.045|0    |\n",
      "+-------------------+----------+---------+--------+-----------+-------+------+-----+------+------+-----+\n",
      "\n",
      "-------------------------------------------\n",
      "Batch: 731\n",
      "-------------------------------------------\n",
      "+-------------------+----------+---------+--------+-----------+-------+------+-----+-----+------+-----+\n",
      "|event_timestamp    |machine_id|vibration|acoustic|temperature|current|status|IMF_1|IMF_2|IMF_3 |label|\n",
      "+-------------------+----------+---------+--------+-----------+-------+------+-----+-----+------+-----+\n",
      "|2024-07-01 11:35:00|M02       |0.725    |0.572   |63.33      |11.97  |Normal|0.16 |0.014|-0.046|0    |\n",
      "+-------------------+----------+---------+--------+-----------+-------+------+-----+-----+------+-----+\n",
      "\n",
      "-------------------------------------------\n",
      "Batch: 732\n",
      "-------------------------------------------\n",
      "+-------------------+----------+---------+--------+-----------+-------+------+-----+------+------+-----+\n",
      "|event_timestamp    |machine_id|vibration|acoustic|temperature|current|status|IMF_1|IMF_2 |IMF_3 |label|\n",
      "+-------------------+----------+---------+--------+-----------+-------+------+-----+------+------+-----+\n",
      "|2024-07-01 11:36:00|M02       |0.841    |0.595   |61.36      |12.27  |Normal|0.21 |-0.013|-0.046|0    |\n",
      "+-------------------+----------+---------+--------+-----------+-------+------+-----+------+------+-----+\n",
      "\n",
      "-------------------------------------------\n",
      "Batch: 733\n",
      "-------------------------------------------\n",
      "+-------------------+----------+---------+--------+-----------+-------+------+-----+-----+------+-----+\n",
      "|event_timestamp    |machine_id|vibration|acoustic|temperature|current|status|IMF_1|IMF_2|IMF_3 |label|\n",
      "+-------------------+----------+---------+--------+-----------+-------+------+-----+-----+------+-----+\n",
      "|2024-07-01 11:37:00|M02       |0.814    |0.587   |68.93      |11.61  |Normal|0.221|0.011|-0.047|0    |\n",
      "+-------------------+----------+---------+--------+-----------+-------+------+-----+-----+------+-----+\n",
      "\n",
      "-------------------------------------------\n",
      "Batch: 734\n",
      "-------------------------------------------\n",
      "+-------------------+----------+---------+--------+-----------+-------+------+-----+------+------+-----+\n",
      "|event_timestamp    |machine_id|vibration|acoustic|temperature|current|status|IMF_1|IMF_2 |IMF_3 |label|\n",
      "+-------------------+----------+---------+--------+-----------+-------+------+-----+------+------+-----+\n",
      "|2024-07-01 11:38:00|M02       |0.801    |0.593   |66.96      |12.38  |Normal|0.182|-0.093|-0.047|0    |\n",
      "+-------------------+----------+---------+--------+-----------+-------+------+-----+------+------+-----+\n",
      "\n",
      "-------------------------------------------\n",
      "Batch: 735\n",
      "-------------------------------------------\n",
      "+-------------------+----------+---------+--------+-----------+-------+------+-----+-----+------+-----+\n",
      "|event_timestamp    |machine_id|vibration|acoustic|temperature|current|status|IMF_1|IMF_2|IMF_3 |label|\n",
      "+-------------------+----------+---------+--------+-----------+-------+------+-----+-----+------+-----+\n",
      "|2024-07-01 11:39:00|M02       |0.784    |0.501   |68.85      |12.31  |Normal|0.167|0.007|-0.047|0    |\n",
      "+-------------------+----------+---------+--------+-----------+-------+------+-----+-----+------+-----+\n",
      "\n",
      "-------------------------------------------\n",
      "Batch: 736\n",
      "-------------------------------------------\n",
      "+-------------------+----------+---------+--------+-----------+-------+------+-----+-----+------+-----+\n",
      "|event_timestamp    |machine_id|vibration|acoustic|temperature|current|status|IMF_1|IMF_2|IMF_3 |label|\n",
      "+-------------------+----------+---------+--------+-----------+-------+------+-----+-----+------+-----+\n",
      "|2024-07-01 11:40:00|M02       |0.81     |0.446   |61.96      |12.25  |Normal|0.133|0.019|-0.048|0    |\n",
      "+-------------------+----------+---------+--------+-----------+-------+------+-----+-----+------+-----+\n",
      "\n",
      "-------------------------------------------\n",
      "Batch: 737\n",
      "-------------------------------------------\n",
      "+-------------------+----------+---------+--------+-----------+-------+------+-----+-----+------+-----+\n",
      "|event_timestamp    |machine_id|vibration|acoustic|temperature|current|status|IMF_1|IMF_2|IMF_3 |label|\n",
      "+-------------------+----------+---------+--------+-----------+-------+------+-----+-----+------+-----+\n",
      "|2024-07-01 11:41:00|M02       |0.813    |0.628   |61.66      |11.87  |Normal|0.21 |-0.04|-0.048|0    |\n",
      "+-------------------+----------+---------+--------+-----------+-------+------+-----+-----+------+-----+\n",
      "\n"
     ]
    },
    {
     "name": "stderr",
     "output_type": "stream",
     "text": [
      "                                                                                \r"
     ]
    },
    {
     "name": "stdout",
     "output_type": "stream",
     "text": [
      "-------------------------------------------\n",
      "Batch: 738\n",
      "-------------------------------------------\n",
      "+-------------------+----------+---------+--------+-----------+-------+------+-----+-----+------+-----+\n",
      "|event_timestamp    |machine_id|vibration|acoustic|temperature|current|status|IMF_1|IMF_2|IMF_3 |label|\n",
      "+-------------------+----------+---------+--------+-----------+-------+------+-----+-----+------+-----+\n",
      "|2024-07-01 11:42:00|M02       |0.766    |0.649   |67.43      |12.3   |Normal|0.148|-0.12|-0.048|0    |\n",
      "+-------------------+----------+---------+--------+-----------+-------+------+-----+-----+------+-----+\n",
      "\n",
      "-------------------------------------------\n",
      "Batch: 739\n",
      "-------------------------------------------\n",
      "+-------------------+----------+---------+--------+-----------+-------+------+-----+-----+------+-----+\n",
      "|event_timestamp    |machine_id|vibration|acoustic|temperature|current|status|IMF_1|IMF_2|IMF_3 |label|\n",
      "+-------------------+----------+---------+--------+-----------+-------+------+-----+-----+------+-----+\n",
      "|2024-07-01 11:43:00|M02       |0.784    |0.579   |64.5       |11.92  |Normal|0.233|-0.07|-0.048|0    |\n",
      "+-------------------+----------+---------+--------+-----------+-------+------+-----+-----+------+-----+\n",
      "\n",
      "-------------------------------------------\n",
      "Batch: 740\n",
      "-------------------------------------------\n",
      "+-------------------+----------+---------+--------+-----------+-------+------+-----+------+------+-----+\n",
      "|event_timestamp    |machine_id|vibration|acoustic|temperature|current|status|IMF_1|IMF_2 |IMF_3 |label|\n",
      "+-------------------+----------+---------+--------+-----------+-------+------+-----+------+------+-----+\n",
      "|2024-07-01 11:44:00|M02       |0.865    |0.598   |65.09      |12.51  |Normal|0.227|-0.082|-0.049|0    |\n",
      "+-------------------+----------+---------+--------+-----------+-------+------+-----+------+------+-----+\n",
      "\n",
      "-------------------------------------------\n",
      "Batch: 741\n",
      "-------------------------------------------\n",
      "+-------------------+----------+---------+--------+-----------+-------+----------------+-----+-----+------+-----+\n",
      "|event_timestamp    |machine_id|vibration|acoustic|temperature|current|status          |IMF_1|IMF_2|IMF_3 |label|\n",
      "+-------------------+----------+---------+--------+-----------+-------+----------------+-----+-----+------+-----+\n",
      "|2024-07-01 11:45:00|M02       |1.253    |0.856   |83.73      |14.05  |Failure Detected|0.143|0.133|-0.049|1    |\n",
      "+-------------------+----------+---------+--------+-----------+-------+----------------+-----+-----+------+-----+\n",
      "\n",
      "-------------------------------------------\n",
      "Batch: 742\n",
      "-------------------------------------------\n",
      "+-------------------+----------+---------+--------+-----------+-------+------+-----+-----+------+-----+\n",
      "|event_timestamp    |machine_id|vibration|acoustic|temperature|current|status|IMF_1|IMF_2|IMF_3 |label|\n",
      "+-------------------+----------+---------+--------+-----------+-------+------+-----+-----+------+-----+\n",
      "|2024-07-01 11:46:00|M02       |0.867    |0.59    |65.23      |11.18  |Normal|0.257|0.004|-0.049|0    |\n",
      "+-------------------+----------+---------+--------+-----------+-------+------+-----+-----+------+-----+\n",
      "\n",
      "-------------------------------------------\n",
      "Batch: 743\n",
      "-------------------------------------------\n",
      "+-------------------+----------+---------+--------+-----------+-------+------+-----+------+------+-----+\n",
      "|event_timestamp    |machine_id|vibration|acoustic|temperature|current|status|IMF_1|IMF_2 |IMF_3 |label|\n",
      "+-------------------+----------+---------+--------+-----------+-------+------+-----+------+------+-----+\n",
      "|2024-07-01 11:47:00|M02       |0.719    |0.56    |63.25      |11.72  |Normal|0.111|-0.001|-0.049|0    |\n",
      "+-------------------+----------+---------+--------+-----------+-------+------+-----+------+------+-----+\n",
      "\n",
      "-------------------------------------------\n",
      "Batch: 744\n",
      "-------------------------------------------\n",
      "+-------------------+----------+---------+--------+-----------+-------+----------------+-----+------+------+-----+\n",
      "|event_timestamp    |machine_id|vibration|acoustic|temperature|current|status          |IMF_1|IMF_2 |IMF_3 |label|\n",
      "+-------------------+----------+---------+--------+-----------+-------+----------------+-----+------+------+-----+\n",
      "|2024-07-01 11:48:00|M02       |1.128    |0.941   |79.29      |16.14  |Failure Detected|0.218|-0.001|-0.049|1    |\n",
      "+-------------------+----------+---------+--------+-----------+-------+----------------+-----+------+------+-----+\n",
      "\n",
      "-------------------------------------------\n",
      "Batch: 745\n",
      "-------------------------------------------\n",
      "+-------------------+----------+---------+--------+-----------+-------+------+-----+------+-----+-----+\n",
      "|event_timestamp    |machine_id|vibration|acoustic|temperature|current|status|IMF_1|IMF_2 |IMF_3|label|\n",
      "+-------------------+----------+---------+--------+-----------+-------+------+-----+------+-----+-----+\n",
      "|2024-07-01 11:49:00|M02       |0.852    |0.658   |61.06      |12.79  |Normal|0.194|-0.109|-0.05|0    |\n",
      "+-------------------+----------+---------+--------+-----------+-------+------+-----+------+-----+-----+\n",
      "\n",
      "-------------------------------------------\n",
      "Batch: 746\n",
      "-------------------------------------------\n",
      "+-------------------+----------+---------+--------+-----------+-------+----------------+-----+-----+-----+-----+\n",
      "|event_timestamp    |machine_id|vibration|acoustic|temperature|current|status          |IMF_1|IMF_2|IMF_3|label|\n",
      "+-------------------+----------+---------+--------+-----------+-------+----------------+-----+-----+-----+-----+\n",
      "|2024-07-01 11:50:00|M02       |1.279    |0.845   |76.71      |14.21  |Failure Detected|0.223|0.018|-0.05|1    |\n",
      "+-------------------+----------+---------+--------+-----------+-------+----------------+-----+-----+-----+-----+\n",
      "\n",
      "-------------------------------------------\n",
      "Batch: 747\n",
      "-------------------------------------------\n",
      "+-------------------+----------+---------+--------+-----------+-------+----------------+-----+------+-----+-----+\n",
      "|event_timestamp    |machine_id|vibration|acoustic|temperature|current|status          |IMF_1|IMF_2 |IMF_3|label|\n",
      "+-------------------+----------+---------+--------+-----------+-------+----------------+-----+------+-----+-----+\n",
      "|2024-07-01 11:51:00|M02       |1.185    |0.832   |79.9       |15.11  |Failure Detected|0.225|-0.047|-0.05|1    |\n",
      "+-------------------+----------+---------+--------+-----------+-------+----------------+-----+------+-----+-----+\n",
      "\n",
      "-------------------------------------------\n",
      "Batch: 748\n",
      "-------------------------------------------\n",
      "+-------------------+----------+---------+--------+-----------+-------+------+-----+------+-----+-----+\n",
      "|event_timestamp    |machine_id|vibration|acoustic|temperature|current|status|IMF_1|IMF_2 |IMF_3|label|\n",
      "+-------------------+----------+---------+--------+-----------+-------+------+-----+------+-----+-----+\n",
      "|2024-07-01 11:52:00|M02       |0.77     |0.558   |62.93      |11.75  |Normal|0.225|-0.053|-0.05|0    |\n",
      "+-------------------+----------+---------+--------+-----------+-------+------+-----+------+-----+-----+\n",
      "\n",
      "-------------------------------------------\n",
      "Batch: 749\n",
      "-------------------------------------------\n",
      "+-------------------+----------+---------+--------+-----------+-------+------+-----+-----+-----+-----+\n",
      "|event_timestamp    |machine_id|vibration|acoustic|temperature|current|status|IMF_1|IMF_2|IMF_3|label|\n",
      "+-------------------+----------+---------+--------+-----------+-------+------+-----+-----+-----+-----+\n",
      "|2024-07-01 11:53:00|M02       |0.7      |0.562   |65.68      |11.82  |Normal|0.149|-0.04|-0.05|0    |\n",
      "+-------------------+----------+---------+--------+-----------+-------+------+-----+-----+-----+-----+\n",
      "\n",
      "-------------------------------------------\n",
      "Batch: 750\n",
      "-------------------------------------------\n",
      "+-------------------+----------+---------+--------+-----------+-------+------+-----+-----+-----+-----+\n",
      "|event_timestamp    |machine_id|vibration|acoustic|temperature|current|status|IMF_1|IMF_2|IMF_3|label|\n",
      "+-------------------+----------+---------+--------+-----------+-------+------+-----+-----+-----+-----+\n",
      "|2024-07-01 11:54:00|M02       |0.757    |0.668   |66.53      |11.21  |Normal|0.203|0.053|-0.05|0    |\n",
      "+-------------------+----------+---------+--------+-----------+-------+------+-----+-----+-----+-----+\n",
      "\n",
      "-------------------------------------------\n",
      "Batch: 751\n",
      "-------------------------------------------\n",
      "+-------------------+----------+---------+--------+-----------+-------+------+-----+-----+-----+-----+\n",
      "|event_timestamp    |machine_id|vibration|acoustic|temperature|current|status|IMF_1|IMF_2|IMF_3|label|\n",
      "+-------------------+----------+---------+--------+-----------+-------+------+-----+-----+-----+-----+\n",
      "|2024-07-01 11:55:00|M02       |0.8      |0.661   |61.31      |11.7   |Normal|0.238|0.055|-0.05|0    |\n",
      "+-------------------+----------+---------+--------+-----------+-------+------+-----+-----+-----+-----+\n",
      "\n",
      "-------------------------------------------\n",
      "Batch: 752\n",
      "-------------------------------------------\n",
      "+-------------------+----------+---------+--------+-----------+-------+------+-----+------+-----+-----+\n",
      "|event_timestamp    |machine_id|vibration|acoustic|temperature|current|status|IMF_1|IMF_2 |IMF_3|label|\n",
      "+-------------------+----------+---------+--------+-----------+-------+------+-----+------+-----+-----+\n",
      "|2024-07-01 11:56:00|M02       |0.893    |0.641   |65.92      |12.13  |Normal|0.161|-0.029|-0.05|0    |\n",
      "+-------------------+----------+---------+--------+-----------+-------+------+-----+------+-----+-----+\n",
      "\n",
      "-------------------------------------------\n",
      "Batch: 753\n",
      "-------------------------------------------\n",
      "+-------------------+----------+---------+--------+-----------+-------+------+-----+------+-----+-----+\n",
      "|event_timestamp    |machine_id|vibration|acoustic|temperature|current|status|IMF_1|IMF_2 |IMF_3|label|\n",
      "+-------------------+----------+---------+--------+-----------+-------+------+-----+------+-----+-----+\n",
      "|2024-07-01 11:57:00|M02       |0.825    |0.595   |64.12      |12.13  |Normal|0.227|-0.024|-0.05|0    |\n",
      "+-------------------+----------+---------+--------+-----------+-------+------+-----+------+-----+-----+\n",
      "\n",
      "-------------------------------------------\n",
      "Batch: 754\n",
      "-------------------------------------------\n",
      "+-------------------+----------+---------+--------+-----------+-------+------+-----+-----+-----+-----+\n",
      "|event_timestamp    |machine_id|vibration|acoustic|temperature|current|status|IMF_1|IMF_2|IMF_3|label|\n",
      "+-------------------+----------+---------+--------+-----------+-------+------+-----+-----+-----+-----+\n",
      "|2024-07-01 11:58:00|M02       |0.808    |0.641   |65.46      |12.41  |Normal|0.24 |0.091|-0.05|0    |\n",
      "+-------------------+----------+---------+--------+-----------+-------+------+-----+-----+-----+-----+\n",
      "\n",
      "-------------------------------------------\n",
      "Batch: 755\n",
      "-------------------------------------------\n",
      "+-------------------+----------+---------+--------+-----------+-------+------+-----+-----+-----+-----+\n",
      "|event_timestamp    |machine_id|vibration|acoustic|temperature|current|status|IMF_1|IMF_2|IMF_3|label|\n",
      "+-------------------+----------+---------+--------+-----------+-------+------+-----+-----+-----+-----+\n",
      "|2024-07-01 11:59:00|M02       |0.772    |0.666   |62.98      |12.44  |Normal|0.193|0.05 |-0.05|0    |\n",
      "+-------------------+----------+---------+--------+-----------+-------+------+-----+-----+-----+-----+\n",
      "\n",
      "-------------------------------------------\n",
      "Batch: 756\n",
      "-------------------------------------------\n",
      "+-------------------+----------+---------+--------+-----------+-------+------+-----+-----+-----+-----+\n",
      "|event_timestamp    |machine_id|vibration|acoustic|temperature|current|status|IMF_1|IMF_2|IMF_3|label|\n",
      "+-------------------+----------+---------+--------+-----------+-------+------+-----+-----+-----+-----+\n",
      "|2024-07-01 12:00:00|M02       |0.775    |0.664   |65.59      |12.49  |Normal|0.192|0.032|-0.05|0    |\n",
      "+-------------------+----------+---------+--------+-----------+-------+------+-----+-----+-----+-----+\n",
      "\n",
      "-------------------------------------------\n",
      "Batch: 757\n",
      "-------------------------------------------\n",
      "+-------------------+----------+---------+--------+-----------+-------+------+-----+-----+-----+-----+\n",
      "|event_timestamp    |machine_id|vibration|acoustic|temperature|current|status|IMF_1|IMF_2|IMF_3|label|\n",
      "+-------------------+----------+---------+--------+-----------+-------+------+-----+-----+-----+-----+\n",
      "|2024-07-01 12:01:00|M02       |0.778    |0.557   |66.24      |12.21  |Normal|0.184|0.083|-0.05|0    |\n",
      "+-------------------+----------+---------+--------+-----------+-------+------+-----+-----+-----+-----+\n",
      "\n",
      "-------------------------------------------\n",
      "Batch: 758\n",
      "-------------------------------------------\n",
      "+-------------------+----------+---------+--------+-----------+-------+------+-----+-----+-----+-----+\n",
      "|event_timestamp    |machine_id|vibration|acoustic|temperature|current|status|IMF_1|IMF_2|IMF_3|label|\n",
      "+-------------------+----------+---------+--------+-----------+-------+------+-----+-----+-----+-----+\n",
      "|2024-07-01 12:02:00|M02       |0.848    |0.605   |61.57      |12.45  |Normal|0.116|0.036|-0.05|0    |\n",
      "+-------------------+----------+---------+--------+-----------+-------+------+-----+-----+-----+-----+\n",
      "\n",
      "-------------------------------------------\n",
      "Batch: 759\n",
      "-------------------------------------------\n",
      "+-------------------+----------+---------+--------+-----------+-------+------+-----+------+------+-----+\n",
      "|event_timestamp    |machine_id|vibration|acoustic|temperature|current|status|IMF_1|IMF_2 |IMF_3 |label|\n",
      "+-------------------+----------+---------+--------+-----------+-------+------+-----+------+------+-----+\n",
      "|2024-07-01 12:03:00|M02       |0.696    |0.54    |60.71      |11.43  |Normal|0.084|-0.051|-0.049|0    |\n",
      "+-------------------+----------+---------+--------+-----------+-------+------+-----+------+------+-----+\n",
      "\n",
      "-------------------------------------------\n",
      "Batch: 760\n",
      "-------------------------------------------\n",
      "+-------------------+----------+---------+--------+-----------+-------+------+-----+------+------+-----+\n",
      "|event_timestamp    |machine_id|vibration|acoustic|temperature|current|status|IMF_1|IMF_2 |IMF_3 |label|\n",
      "+-------------------+----------+---------+--------+-----------+-------+------+-----+------+------+-----+\n",
      "|2024-07-01 12:04:00|M02       |0.776    |0.627   |60.86      |11.36  |Normal|0.206|-0.058|-0.049|0    |\n",
      "+-------------------+----------+---------+--------+-----------+-------+------+-----+------+------+-----+\n",
      "\n",
      "-------------------------------------------\n",
      "Batch: 761\n",
      "-------------------------------------------\n",
      "+-------------------+----------+---------+--------+-----------+-------+----------------+-----+------+------+-----+\n",
      "|event_timestamp    |machine_id|vibration|acoustic|temperature|current|status          |IMF_1|IMF_2 |IMF_3 |label|\n",
      "+-------------------+----------+---------+--------+-----------+-------+----------------+-----+------+------+-----+\n",
      "|2024-07-01 12:05:00|M02       |1.113    |0.98    |78.68      |13.57  |Failure Detected|0.286|-0.055|-0.049|1    |\n",
      "+-------------------+----------+---------+--------+-----------+-------+----------------+-----+------+------+-----+\n",
      "\n",
      "-------------------------------------------\n",
      "Batch: 762\n",
      "-------------------------------------------\n",
      "+-------------------+----------+---------+--------+-----------+-------+------+-----+-----+------+-----+\n",
      "|event_timestamp    |machine_id|vibration|acoustic|temperature|current|status|IMF_1|IMF_2|IMF_3 |label|\n",
      "+-------------------+----------+---------+--------+-----------+-------+------+-----+-----+------+-----+\n",
      "|2024-07-01 12:06:00|M02       |0.854    |0.554   |64.27      |12.56  |Normal|0.189|0.083|-0.049|0    |\n",
      "+-------------------+----------+---------+--------+-----------+-------+------+-----+-----+------+-----+\n",
      "\n",
      "-------------------------------------------\n",
      "Batch: 763\n",
      "-------------------------------------------\n",
      "+-------------------+----------+---------+--------+-----------+-------+----------------+-----+------+------+-----+\n",
      "|event_timestamp    |machine_id|vibration|acoustic|temperature|current|status          |IMF_1|IMF_2 |IMF_3 |label|\n",
      "+-------------------+----------+---------+--------+-----------+-------+----------------+-----+------+------+-----+\n",
      "|2024-07-01 12:07:00|M02       |1.07     |0.829   |78.67      |14.81  |Failure Detected|0.127|-0.147|-0.049|1    |\n",
      "+-------------------+----------+---------+--------+-----------+-------+----------------+-----+------+------+-----+\n",
      "\n",
      "-------------------------------------------\n",
      "Batch: 764\n",
      "-------------------------------------------\n",
      "+-------------------+----------+---------+--------+-----------+-------+------+-----+-----+------+-----+\n",
      "|event_timestamp    |machine_id|vibration|acoustic|temperature|current|status|IMF_1|IMF_2|IMF_3 |label|\n",
      "+-------------------+----------+---------+--------+-----------+-------+------+-----+-----+------+-----+\n",
      "|2024-07-01 12:08:00|M02       |0.843    |0.516   |68.88      |11.13  |Normal|0.182|0.027|-0.048|0    |\n",
      "+-------------------+----------+---------+--------+-----------+-------+------+-----+-----+------+-----+\n",
      "\n"
     ]
    },
    {
     "name": "stderr",
     "output_type": "stream",
     "text": [
      "                                                                                \r"
     ]
    },
    {
     "name": "stdout",
     "output_type": "stream",
     "text": [
      "-------------------------------------------\n",
      "Batch: 765\n",
      "-------------------------------------------\n",
      "+-------------------+----------+---------+--------+-----------+-------+------+-----+-----+------+-----+\n",
      "|event_timestamp    |machine_id|vibration|acoustic|temperature|current|status|IMF_1|IMF_2|IMF_3 |label|\n",
      "+-------------------+----------+---------+--------+-----------+-------+------+-----+-----+------+-----+\n",
      "|2024-07-01 12:09:00|M02       |0.866    |0.633   |61.73      |11.44  |Normal|0.207|0.05 |-0.048|0    |\n",
      "+-------------------+----------+---------+--------+-----------+-------+------+-----+-----+------+-----+\n",
      "\n"
     ]
    },
    {
     "name": "stderr",
     "output_type": "stream",
     "text": [
      "                                                                                \r"
     ]
    },
    {
     "name": "stdout",
     "output_type": "stream",
     "text": [
      "-------------------------------------------\n",
      "Batch: 766\n",
      "-------------------------------------------\n",
      "+-------------------+----------+---------+--------+-----------+-------+------+-----+------+------+-----+\n",
      "|event_timestamp    |machine_id|vibration|acoustic|temperature|current|status|IMF_1|IMF_2 |IMF_3 |label|\n",
      "+-------------------+----------+---------+--------+-----------+-------+------+-----+------+------+-----+\n",
      "|2024-07-01 12:10:00|M02       |0.732    |0.574   |66.84      |11.48  |Normal|0.205|-0.026|-0.048|0    |\n",
      "+-------------------+----------+---------+--------+-----------+-------+------+-----+------+------+-----+\n",
      "\n",
      "-------------------------------------------\n",
      "Batch: 767\n",
      "-------------------------------------------\n",
      "+-------------------+----------+---------+--------+-----------+-------+----------------+-----+-----+------+-----+\n",
      "|event_timestamp    |machine_id|vibration|acoustic|temperature|current|status          |IMF_1|IMF_2|IMF_3 |label|\n",
      "+-------------------+----------+---------+--------+-----------+-------+----------------+-----+-----+------+-----+\n",
      "|2024-07-01 12:11:00|M02       |1.124    |0.954   |77.99      |14.97  |Failure Detected|0.148|0.181|-0.048|1    |\n",
      "+-------------------+----------+---------+--------+-----------+-------+----------------+-----+-----+------+-----+\n",
      "\n",
      "-------------------------------------------\n",
      "Batch: 768\n",
      "-------------------------------------------\n",
      "+-------------------+----------+---------+--------+-----------+-------+------+-----+------+------+-----+\n",
      "|event_timestamp    |machine_id|vibration|acoustic|temperature|current|status|IMF_1|IMF_2 |IMF_3 |label|\n",
      "+-------------------+----------+---------+--------+-----------+-------+------+-----+------+------+-----+\n",
      "|2024-07-01 12:12:00|M02       |0.792    |0.659   |65.72      |12.51  |Normal|0.216|-0.038|-0.047|0    |\n",
      "+-------------------+----------+---------+--------+-----------+-------+------+-----+------+------+-----+\n",
      "\n",
      "-------------------------------------------\n",
      "Batch: 769\n",
      "-------------------------------------------\n",
      "+-------------------+----------+---------+--------+-----------+-------+------+-----+-----+------+-----+\n",
      "|event_timestamp    |machine_id|vibration|acoustic|temperature|current|status|IMF_1|IMF_2|IMF_3 |label|\n",
      "+-------------------+----------+---------+--------+-----------+-------+------+-----+-----+------+-----+\n",
      "|2024-07-01 12:13:00|M02       |0.846    |0.611   |66.47      |13.2   |Normal|0.088|0.064|-0.047|0    |\n",
      "+-------------------+----------+---------+--------+-----------+-------+------+-----+-----+------+-----+\n",
      "\n",
      "-------------------------------------------\n",
      "Batch: 770\n",
      "-------------------------------------------\n",
      "+-------------------+----------+---------+--------+-----------+-------+------+-----+------+------+-----+\n",
      "|event_timestamp    |machine_id|vibration|acoustic|temperature|current|status|IMF_1|IMF_2 |IMF_3 |label|\n",
      "+-------------------+----------+---------+--------+-----------+-------+------+-----+------+------+-----+\n",
      "|2024-07-01 12:14:00|M02       |0.785    |0.601   |69.54      |12.21  |Normal|0.095|-0.032|-0.047|0    |\n",
      "+-------------------+----------+---------+--------+-----------+-------+------+-----+------+------+-----+\n",
      "\n",
      "-------------------------------------------\n",
      "Batch: 771\n",
      "-------------------------------------------\n",
      "+-------------------+----------+---------+--------+-----------+-------+------+-----+------+------+-----+\n",
      "|event_timestamp    |machine_id|vibration|acoustic|temperature|current|status|IMF_1|IMF_2 |IMF_3 |label|\n",
      "+-------------------+----------+---------+--------+-----------+-------+------+-----+------+------+-----+\n",
      "|2024-07-01 12:15:00|M02       |0.819    |0.553   |67.34      |11.5   |Normal|0.133|-0.028|-0.046|0    |\n",
      "+-------------------+----------+---------+--------+-----------+-------+------+-----+------+------+-----+\n",
      "\n",
      "-------------------------------------------\n",
      "Batch: 772\n",
      "-------------------------------------------\n",
      "+-------------------+----------+---------+--------+-----------+-------+------+-----+------+------+-----+\n",
      "|event_timestamp    |machine_id|vibration|acoustic|temperature|current|status|IMF_1|IMF_2 |IMF_3 |label|\n",
      "+-------------------+----------+---------+--------+-----------+-------+------+-----+------+------+-----+\n",
      "|2024-07-01 12:16:00|M02       |0.78     |0.768   |66.52      |11.81  |Normal|0.173|-0.055|-0.046|0    |\n",
      "+-------------------+----------+---------+--------+-----------+-------+------+-----+------+------+-----+\n",
      "\n",
      "-------------------------------------------\n",
      "Batch: 773\n",
      "-------------------------------------------\n",
      "+-------------------+----------+---------+--------+-----------+-------+------+-----+-----+------+-----+\n",
      "|event_timestamp    |machine_id|vibration|acoustic|temperature|current|status|IMF_1|IMF_2|IMF_3 |label|\n",
      "+-------------------+----------+---------+--------+-----------+-------+------+-----+-----+------+-----+\n",
      "|2024-07-01 12:17:00|M02       |0.748    |0.576   |66.01      |12.5   |Normal|0.168|0.016|-0.045|0    |\n",
      "+-------------------+----------+---------+--------+-----------+-------+------+-----+-----+------+-----+\n",
      "\n",
      "-------------------------------------------\n",
      "Batch: 774\n",
      "-------------------------------------------\n",
      "+-------------------+----------+---------+--------+-----------+-------+----------------+-----+-----+------+-----+\n",
      "|event_timestamp    |machine_id|vibration|acoustic|temperature|current|status          |IMF_1|IMF_2|IMF_3 |label|\n",
      "+-------------------+----------+---------+--------+-----------+-------+----------------+-----+-----+------+-----+\n",
      "|2024-07-01 12:18:00|M02       |1.211    |0.924   |76.14      |16.59  |Failure Detected|0.166|0.031|-0.045|1    |\n",
      "+-------------------+----------+---------+--------+-----------+-------+----------------+-----+-----+------+-----+\n",
      "\n",
      "-------------------------------------------\n",
      "Batch: 775\n",
      "-------------------------------------------\n",
      "+-------------------+----------+---------+--------+-----------+-------+------+-----+-----+------+-----+\n",
      "|event_timestamp    |machine_id|vibration|acoustic|temperature|current|status|IMF_1|IMF_2|IMF_3 |label|\n",
      "+-------------------+----------+---------+--------+-----------+-------+------+-----+-----+------+-----+\n",
      "|2024-07-01 12:19:00|M02       |0.704    |0.622   |62.0       |12.35  |Normal|0.113|0.071|-0.045|0    |\n",
      "+-------------------+----------+---------+--------+-----------+-------+------+-----+-----+------+-----+\n",
      "\n",
      "-------------------------------------------\n",
      "Batch: 776\n",
      "-------------------------------------------\n",
      "+-------------------+----------+---------+--------+-----------+-------+------+-----+-----+------+-----+\n",
      "|event_timestamp    |machine_id|vibration|acoustic|temperature|current|status|IMF_1|IMF_2|IMF_3 |label|\n",
      "+-------------------+----------+---------+--------+-----------+-------+------+-----+-----+------+-----+\n",
      "|2024-07-01 12:20:00|M02       |0.78     |0.65    |63.08      |11.68  |Normal|0.156|0.04 |-0.044|0    |\n",
      "+-------------------+----------+---------+--------+-----------+-------+------+-----+-----+------+-----+\n",
      "\n",
      "-------------------------------------------\n",
      "Batch: 777\n",
      "-------------------------------------------\n",
      "+-------------------+----------+---------+--------+-----------+-------+------+-----+------+------+-----+\n",
      "|event_timestamp    |machine_id|vibration|acoustic|temperature|current|status|IMF_1|IMF_2 |IMF_3 |label|\n",
      "+-------------------+----------+---------+--------+-----------+-------+------+-----+------+------+-----+\n",
      "|2024-07-01 12:21:00|M02       |0.794    |0.72    |65.3       |12.53  |Normal|0.086|-0.076|-0.044|0    |\n",
      "+-------------------+----------+---------+--------+-----------+-------+------+-----+------+------+-----+\n",
      "\n",
      "-------------------------------------------\n",
      "Batch: 778\n",
      "-------------------------------------------\n",
      "+-------------------+----------+---------+--------+-----------+-------+------+-----+-----+------+-----+\n",
      "|event_timestamp    |machine_id|vibration|acoustic|temperature|current|status|IMF_1|IMF_2|IMF_3 |label|\n",
      "+-------------------+----------+---------+--------+-----------+-------+------+-----+-----+------+-----+\n",
      "|2024-07-01 12:22:00|M02       |0.782    |0.56    |61.95      |11.6   |Normal|0.144|0.016|-0.043|0    |\n",
      "+-------------------+----------+---------+--------+-----------+-------+------+-----+-----+------+-----+\n",
      "\n",
      "-------------------------------------------\n",
      "Batch: 779\n",
      "-------------------------------------------\n",
      "+-------------------+----------+---------+--------+-----------+-------+------+-----+------+------+-----+\n",
      "|event_timestamp    |machine_id|vibration|acoustic|temperature|current|status|IMF_1|IMF_2 |IMF_3 |label|\n",
      "+-------------------+----------+---------+--------+-----------+-------+------+-----+------+------+-----+\n",
      "|2024-07-01 12:23:00|M02       |0.82     |0.657   |64.47      |11.73  |Normal|0.145|-0.076|-0.043|0    |\n",
      "+-------------------+----------+---------+--------+-----------+-------+------+-----+------+------+-----+\n",
      "\n",
      "-------------------------------------------\n",
      "Batch: 780\n",
      "-------------------------------------------\n",
      "+-------------------+----------+---------+--------+-----------+-------+------+-----+-----+------+-----+\n",
      "|event_timestamp    |machine_id|vibration|acoustic|temperature|current|status|IMF_1|IMF_2|IMF_3 |label|\n",
      "+-------------------+----------+---------+--------+-----------+-------+------+-----+-----+------+-----+\n",
      "|2024-07-01 12:24:00|M02       |0.776    |0.602   |65.51      |11.87  |Normal|0.223|0.031|-0.042|0    |\n",
      "+-------------------+----------+---------+--------+-----------+-------+------+-----+-----+------+-----+\n",
      "\n",
      "-------------------------------------------\n",
      "Batch: 781\n",
      "-------------------------------------------\n",
      "+-------------------+----------+---------+--------+-----------+-------+----------------+-----+-----+------+-----+\n",
      "|event_timestamp    |machine_id|vibration|acoustic|temperature|current|status          |IMF_1|IMF_2|IMF_3 |label|\n",
      "+-------------------+----------+---------+--------+-----------+-------+----------------+-----+-----+------+-----+\n",
      "|2024-07-01 12:25:00|M02       |1.181    |0.819   |74.11      |14.08  |Failure Detected|0.337|0.077|-0.042|1    |\n",
      "+-------------------+----------+---------+--------+-----------+-------+----------------+-----+-----+------+-----+\n",
      "\n",
      "-------------------------------------------\n",
      "Batch: 782\n",
      "-------------------------------------------\n",
      "+-------------------+----------+---------+--------+-----------+-------+------+-----+------+------+-----+\n",
      "|event_timestamp    |machine_id|vibration|acoustic|temperature|current|status|IMF_1|IMF_2 |IMF_3 |label|\n",
      "+-------------------+----------+---------+--------+-----------+-------+------+-----+------+------+-----+\n",
      "|2024-07-01 12:26:00|M02       |0.82     |0.517   |67.13      |11.82  |Normal|0.244|-0.056|-0.041|0    |\n",
      "+-------------------+----------+---------+--------+-----------+-------+------+-----+------+------+-----+\n",
      "\n",
      "-------------------------------------------\n",
      "Batch: 783\n",
      "-------------------------------------------\n",
      "+-------------------+----------+---------+--------+-----------+-------+------+-----+-----+-----+-----+\n",
      "|event_timestamp    |machine_id|vibration|acoustic|temperature|current|status|IMF_1|IMF_2|IMF_3|label|\n",
      "+-------------------+----------+---------+--------+-----------+-------+------+-----+-----+-----+-----+\n",
      "|2024-07-01 12:27:00|M02       |0.85     |0.592   |64.79      |12.43  |Normal|0.113|0.009|-0.04|0    |\n",
      "+-------------------+----------+---------+--------+-----------+-------+------+-----+-----+-----+-----+\n",
      "\n",
      "-------------------------------------------\n",
      "Batch: 784\n",
      "-------------------------------------------\n",
      "+-------------------+----------+---------+--------+-----------+-------+------+-----+-----+-----+-----+\n",
      "|event_timestamp    |machine_id|vibration|acoustic|temperature|current|status|IMF_1|IMF_2|IMF_3|label|\n",
      "+-------------------+----------+---------+--------+-----------+-------+------+-----+-----+-----+-----+\n",
      "|2024-07-01 12:28:00|M02       |0.797    |0.594   |65.71      |11.5   |Normal|0.202|0.038|-0.04|0    |\n",
      "+-------------------+----------+---------+--------+-----------+-------+------+-----+-----+-----+-----+\n",
      "\n",
      "-------------------------------------------\n",
      "Batch: 785\n",
      "-------------------------------------------\n",
      "+-------------------+----------+---------+--------+-----------+-------+------+-----+-----+------+-----+\n",
      "|event_timestamp    |machine_id|vibration|acoustic|temperature|current|status|IMF_1|IMF_2|IMF_3 |label|\n",
      "+-------------------+----------+---------+--------+-----------+-------+------+-----+-----+------+-----+\n",
      "|2024-07-01 12:29:00|M02       |0.879    |0.659   |62.73      |12.32  |Normal|0.1  |0.031|-0.039|0    |\n",
      "+-------------------+----------+---------+--------+-----------+-------+------+-----+-----+------+-----+\n",
      "\n"
     ]
    },
    {
     "name": "stderr",
     "output_type": "stream",
     "text": [
      "                                                                                \r"
     ]
    },
    {
     "name": "stdout",
     "output_type": "stream",
     "text": [
      "-------------------------------------------\n",
      "Batch: 786\n",
      "-------------------------------------------\n",
      "+-------------------+----------+---------+--------+-----------+-------+------+-----+-----+------+-----+\n",
      "|event_timestamp    |machine_id|vibration|acoustic|temperature|current|status|IMF_1|IMF_2|IMF_3 |label|\n",
      "+-------------------+----------+---------+--------+-----------+-------+------+-----+-----+------+-----+\n",
      "|2024-07-01 12:30:00|M02       |0.824    |0.674   |64.37      |11.08  |Normal|0.138|0.114|-0.039|0    |\n",
      "+-------------------+----------+---------+--------+-----------+-------+------+-----+-----+------+-----+\n",
      "\n"
     ]
    },
    {
     "name": "stderr",
     "output_type": "stream",
     "text": [
      "                                                                                \r"
     ]
    },
    {
     "name": "stdout",
     "output_type": "stream",
     "text": [
      "-------------------------------------------\n",
      "Batch: 787\n",
      "-------------------------------------------\n",
      "+-------------------+----------+---------+--------+-----------+-------+------+-----+-----+------+-----+\n",
      "|event_timestamp    |machine_id|vibration|acoustic|temperature|current|status|IMF_1|IMF_2|IMF_3 |label|\n",
      "+-------------------+----------+---------+--------+-----------+-------+------+-----+-----+------+-----+\n",
      "|2024-07-01 12:31:00|M02       |0.77     |0.611   |63.22      |12.45  |Normal|0.179|0.08 |-0.038|0    |\n",
      "+-------------------+----------+---------+--------+-----------+-------+------+-----+-----+------+-----+\n",
      "\n",
      "-------------------------------------------\n",
      "Batch: 788\n",
      "-------------------------------------------\n",
      "+-------------------+----------+---------+--------+-----------+-------+------+-----+------+------+-----+\n",
      "|event_timestamp    |machine_id|vibration|acoustic|temperature|current|status|IMF_1|IMF_2 |IMF_3 |label|\n",
      "+-------------------+----------+---------+--------+-----------+-------+------+-----+------+------+-----+\n",
      "|2024-07-01 12:32:00|M02       |0.77     |0.587   |64.78      |12.34  |Normal|0.146|-0.099|-0.037|0    |\n",
      "+-------------------+----------+---------+--------+-----------+-------+------+-----+------+------+-----+\n",
      "\n",
      "-------------------------------------------\n",
      "Batch: 789\n",
      "-------------------------------------------\n",
      "+-------------------+----------+---------+--------+-----------+-------+------+-----+------+------+-----+\n",
      "|event_timestamp    |machine_id|vibration|acoustic|temperature|current|status|IMF_1|IMF_2 |IMF_3 |label|\n",
      "+-------------------+----------+---------+--------+-----------+-------+------+-----+------+------+-----+\n",
      "|2024-07-01 12:33:00|M02       |0.87     |0.565   |63.49      |12.2   |Normal|0.138|-0.089|-0.037|0    |\n",
      "+-------------------+----------+---------+--------+-----------+-------+------+-----+------+------+-----+\n",
      "\n",
      "-------------------------------------------\n",
      "Batch: 790\n",
      "-------------------------------------------\n",
      "+-------------------+----------+---------+--------+-----------+-------+------+-----+------+------+-----+\n",
      "|event_timestamp    |machine_id|vibration|acoustic|temperature|current|status|IMF_1|IMF_2 |IMF_3 |label|\n",
      "+-------------------+----------+---------+--------+-----------+-------+------+-----+------+------+-----+\n",
      "|2024-07-01 12:34:00|M02       |0.724    |0.572   |64.19      |12.57  |Normal|0.148|-0.008|-0.036|0    |\n",
      "+-------------------+----------+---------+--------+-----------+-------+------+-----+------+------+-----+\n",
      "\n",
      "-------------------------------------------\n",
      "Batch: 791\n",
      "-------------------------------------------\n",
      "+-------------------+----------+---------+--------+-----------+-------+------+-----+-----+------+-----+\n",
      "|event_timestamp    |machine_id|vibration|acoustic|temperature|current|status|IMF_1|IMF_2|IMF_3 |label|\n",
      "+-------------------+----------+---------+--------+-----------+-------+------+-----+-----+------+-----+\n",
      "|2024-07-01 12:35:00|M02       |0.793    |0.544   |62.19      |12.68  |Normal|0.166|0.051|-0.035|0    |\n",
      "+-------------------+----------+---------+--------+-----------+-------+------+-----+-----+------+-----+\n",
      "\n",
      "-------------------------------------------\n",
      "Batch: 792\n",
      "-------------------------------------------\n",
      "+-------------------+----------+---------+--------+-----------+-------+------+-----+-----+------+-----+\n",
      "|event_timestamp    |machine_id|vibration|acoustic|temperature|current|status|IMF_1|IMF_2|IMF_3 |label|\n",
      "+-------------------+----------+---------+--------+-----------+-------+------+-----+-----+------+-----+\n",
      "|2024-07-01 12:36:00|M02       |0.717    |0.663   |65.61      |12.23  |Normal|0.214|0.05 |-0.035|0    |\n",
      "+-------------------+----------+---------+--------+-----------+-------+------+-----+-----+------+-----+\n",
      "\n",
      "-------------------------------------------\n",
      "Batch: 793\n",
      "-------------------------------------------\n",
      "+-------------------+----------+---------+--------+-----------+-------+------+-----+------+------+-----+\n",
      "|event_timestamp    |machine_id|vibration|acoustic|temperature|current|status|IMF_1|IMF_2 |IMF_3 |label|\n",
      "+-------------------+----------+---------+--------+-----------+-------+------+-----+------+------+-----+\n",
      "|2024-07-01 12:37:00|M02       |0.8      |0.547   |67.54      |11.23  |Normal|0.12 |-0.069|-0.034|0    |\n",
      "+-------------------+----------+---------+--------+-----------+-------+------+-----+------+------+-----+\n",
      "\n",
      "-------------------------------------------\n",
      "Batch: 794\n",
      "-------------------------------------------\n",
      "+-------------------+----------+---------+--------+-----------+-------+------+-----+-----+------+-----+\n",
      "|event_timestamp    |machine_id|vibration|acoustic|temperature|current|status|IMF_1|IMF_2|IMF_3 |label|\n",
      "+-------------------+----------+---------+--------+-----------+-------+------+-----+-----+------+-----+\n",
      "|2024-07-01 12:38:00|M02       |0.833    |0.556   |63.07      |11.99  |Normal|0.107|0.095|-0.033|0    |\n",
      "+-------------------+----------+---------+--------+-----------+-------+------+-----+-----+------+-----+\n",
      "\n",
      "-------------------------------------------\n",
      "Batch: 795\n",
      "-------------------------------------------\n",
      "+-------------------+----------+---------+--------+-----------+-------+------+-----+-----+------+-----+\n",
      "|event_timestamp    |machine_id|vibration|acoustic|temperature|current|status|IMF_1|IMF_2|IMF_3 |label|\n",
      "+-------------------+----------+---------+--------+-----------+-------+------+-----+-----+------+-----+\n",
      "|2024-07-01 12:39:00|M02       |0.807    |0.549   |61.6       |12.04  |Normal|0.224|0.051|-0.032|0    |\n",
      "+-------------------+----------+---------+--------+-----------+-------+------+-----+-----+------+-----+\n",
      "\n",
      "-------------------------------------------\n",
      "Batch: 796\n",
      "-------------------------------------------\n",
      "+-------------------+----------+---------+--------+-----------+-------+------+-----+-----+------+-----+\n",
      "|event_timestamp    |machine_id|vibration|acoustic|temperature|current|status|IMF_1|IMF_2|IMF_3 |label|\n",
      "+-------------------+----------+---------+--------+-----------+-------+------+-----+-----+------+-----+\n",
      "|2024-07-01 12:40:00|M02       |0.785    |0.666   |65.59      |11.97  |Normal|0.154|0.095|-0.032|0    |\n",
      "+-------------------+----------+---------+--------+-----------+-------+------+-----+-----+------+-----+\n",
      "\n",
      "-------------------------------------------\n",
      "Batch: 797\n",
      "-------------------------------------------\n",
      "+-------------------+----------+---------+--------+-----------+-------+----------------+-----+------+------+-----+\n",
      "|event_timestamp    |machine_id|vibration|acoustic|temperature|current|status          |IMF_1|IMF_2 |IMF_3 |label|\n",
      "+-------------------+----------+---------+--------+-----------+-------+----------------+-----+------+------+-----+\n",
      "|2024-07-01 12:41:00|M02       |1.211    |0.839   |78.89      |16.48  |Failure Detected|0.19 |-0.157|-0.031|1    |\n",
      "+-------------------+----------+---------+--------+-----------+-------+----------------+-----+------+------+-----+\n",
      "\n"
     ]
    },
    {
     "name": "stderr",
     "output_type": "stream",
     "text": [
      "                                                                                \r"
     ]
    },
    {
     "name": "stdout",
     "output_type": "stream",
     "text": [
      "-------------------------------------------\n",
      "Batch: 798\n",
      "-------------------------------------------\n",
      "+-------------------+----------+---------+--------+-----------+-------+------+-----+------+-----+-----+\n",
      "|event_timestamp    |machine_id|vibration|acoustic|temperature|current|status|IMF_1|IMF_2 |IMF_3|label|\n",
      "+-------------------+----------+---------+--------+-----------+-------+------+-----+------+-----+-----+\n",
      "|2024-07-01 12:42:00|M02       |0.865    |0.697   |62.85      |11.6   |Normal|0.134|-0.048|-0.03|0    |\n",
      "+-------------------+----------+---------+--------+-----------+-------+------+-----+------+-----+-----+\n",
      "\n",
      "-------------------------------------------\n",
      "Batch: 799\n",
      "-------------------------------------------\n",
      "+-------------------+----------+---------+--------+-----------+-------+------+-----+------+------+-----+\n",
      "|event_timestamp    |machine_id|vibration|acoustic|temperature|current|status|IMF_1|IMF_2 |IMF_3 |label|\n",
      "+-------------------+----------+---------+--------+-----------+-------+------+-----+------+------+-----+\n",
      "|2024-07-01 12:43:00|M02       |0.823    |0.522   |67.09      |11.8   |Normal|0.193|-0.006|-0.029|0    |\n",
      "+-------------------+----------+---------+--------+-----------+-------+------+-----+------+------+-----+\n",
      "\n",
      "-------------------------------------------\n",
      "Batch: 800\n",
      "-------------------------------------------\n",
      "+-------------------+----------+---------+--------+-----------+-------+------+-----+-----+------+-----+\n",
      "|event_timestamp    |machine_id|vibration|acoustic|temperature|current|status|IMF_1|IMF_2|IMF_3 |label|\n",
      "+-------------------+----------+---------+--------+-----------+-------+------+-----+-----+------+-----+\n",
      "|2024-07-01 12:44:00|M02       |0.834    |0.631   |65.98      |11.49  |Normal|0.133|0.028|-0.028|0    |\n",
      "+-------------------+----------+---------+--------+-----------+-------+------+-----+-----+------+-----+\n",
      "\n",
      "-------------------------------------------\n",
      "Batch: 801\n",
      "-------------------------------------------\n",
      "+-------------------+----------+---------+--------+-----------+-------+------+-----+-----+------+-----+\n",
      "|event_timestamp    |machine_id|vibration|acoustic|temperature|current|status|IMF_1|IMF_2|IMF_3 |label|\n",
      "+-------------------+----------+---------+--------+-----------+-------+------+-----+-----+------+-----+\n",
      "|2024-07-01 12:45:00|M02       |0.753    |0.676   |63.38      |11.65  |Normal|0.101|0.078|-0.028|0    |\n",
      "+-------------------+----------+---------+--------+-----------+-------+------+-----+-----+------+-----+\n",
      "\n",
      "-------------------------------------------\n",
      "Batch: 802\n",
      "-------------------------------------------\n",
      "+-------------------+----------+---------+--------+-----------+-------+------+-----+-----+------+-----+\n",
      "|event_timestamp    |machine_id|vibration|acoustic|temperature|current|status|IMF_1|IMF_2|IMF_3 |label|\n",
      "+-------------------+----------+---------+--------+-----------+-------+------+-----+-----+------+-----+\n",
      "|2024-07-01 12:46:00|M02       |0.843    |0.622   |65.26      |11.57  |Normal|0.143|0.027|-0.027|0    |\n",
      "+-------------------+----------+---------+--------+-----------+-------+------+-----+-----+------+-----+\n",
      "\n",
      "-------------------------------------------\n",
      "Batch: 803\n",
      "-------------------------------------------\n",
      "+-------------------+----------+---------+--------+-----------+-------+------+-----+-----+------+-----+\n",
      "|event_timestamp    |machine_id|vibration|acoustic|temperature|current|status|IMF_1|IMF_2|IMF_3 |label|\n",
      "+-------------------+----------+---------+--------+-----------+-------+------+-----+-----+------+-----+\n",
      "|2024-07-01 12:47:00|M02       |0.808    |0.464   |67.21      |11.94  |Normal|0.193|0.003|-0.026|0    |\n",
      "+-------------------+----------+---------+--------+-----------+-------+------+-----+-----+------+-----+\n",
      "\n",
      "-------------------------------------------\n",
      "Batch: 804\n",
      "-------------------------------------------\n",
      "+-------------------+----------+---------+--------+-----------+-------+------+-----+------+------+-----+\n",
      "|event_timestamp    |machine_id|vibration|acoustic|temperature|current|status|IMF_1|IMF_2 |IMF_3 |label|\n",
      "+-------------------+----------+---------+--------+-----------+-------+------+-----+------+------+-----+\n",
      "|2024-07-01 12:48:00|M02       |0.808    |0.602   |61.78      |12.24  |Normal|0.12 |-0.113|-0.025|0    |\n",
      "+-------------------+----------+---------+--------+-----------+-------+------+-----+------+------+-----+\n",
      "\n",
      "-------------------------------------------\n",
      "Batch: 805\n",
      "-------------------------------------------\n",
      "+-------------------+----------+---------+--------+-----------+-------+------+-----+-----+------+-----+\n",
      "|event_timestamp    |machine_id|vibration|acoustic|temperature|current|status|IMF_1|IMF_2|IMF_3 |label|\n",
      "+-------------------+----------+---------+--------+-----------+-------+------+-----+-----+------+-----+\n",
      "|2024-07-01 12:49:00|M02       |0.788    |0.607   |59.56      |11.3   |Normal|0.179|0.117|-0.024|0    |\n",
      "+-------------------+----------+---------+--------+-----------+-------+------+-----+-----+------+-----+\n",
      "\n"
     ]
    },
    {
     "name": "stderr",
     "output_type": "stream",
     "text": [
      "                                                                                \r"
     ]
    },
    {
     "name": "stdout",
     "output_type": "stream",
     "text": [
      "-------------------------------------------\n",
      "Batch: 806\n",
      "-------------------------------------------\n",
      "+-------------------+----------+---------+--------+-----------+-------+------+-----+-----+------+-----+\n",
      "|event_timestamp    |machine_id|vibration|acoustic|temperature|current|status|IMF_1|IMF_2|IMF_3 |label|\n",
      "+-------------------+----------+---------+--------+-----------+-------+------+-----+-----+------+-----+\n",
      "|2024-07-01 12:50:00|M02       |0.8      |0.466   |63.28      |11.46  |Normal|0.225|0.047|-0.023|0    |\n",
      "+-------------------+----------+---------+--------+-----------+-------+------+-----+-----+------+-----+\n",
      "\n"
     ]
    },
    {
     "name": "stderr",
     "output_type": "stream",
     "text": [
      "                                                                                \r"
     ]
    },
    {
     "name": "stdout",
     "output_type": "stream",
     "text": [
      "-------------------------------------------\n",
      "Batch: 807\n",
      "-------------------------------------------\n",
      "+-------------------+----------+---------+--------+-----------+-------+------+-----+-----+------+-----+\n",
      "|event_timestamp    |machine_id|vibration|acoustic|temperature|current|status|IMF_1|IMF_2|IMF_3 |label|\n",
      "+-------------------+----------+---------+--------+-----------+-------+------+-----+-----+------+-----+\n",
      "|2024-07-01 12:51:00|M02       |0.805    |0.635   |68.19      |11.76  |Normal|0.18 |-0.03|-0.022|0    |\n",
      "+-------------------+----------+---------+--------+-----------+-------+------+-----+-----+------+-----+\n",
      "\n"
     ]
    },
    {
     "name": "stderr",
     "output_type": "stream",
     "text": [
      "                                                                                \r"
     ]
    },
    {
     "name": "stdout",
     "output_type": "stream",
     "text": [
      "-------------------------------------------\n",
      "Batch: 808\n",
      "-------------------------------------------\n",
      "+-------------------+----------+---------+--------+-----------+-------+------+-----+------+------+-----+\n",
      "|event_timestamp    |machine_id|vibration|acoustic|temperature|current|status|IMF_1|IMF_2 |IMF_3 |label|\n",
      "+-------------------+----------+---------+--------+-----------+-------+------+-----+------+------+-----+\n",
      "|2024-07-01 12:52:00|M02       |0.645    |0.63    |64.82      |11.72  |Normal|0.074|-0.085|-0.021|0    |\n",
      "+-------------------+----------+---------+--------+-----------+-------+------+-----+------+------+-----+\n",
      "\n",
      "-------------------------------------------\n",
      "Batch: 809\n",
      "-------------------------------------------\n",
      "+-------------------+----------+---------+--------+-----------+-------+------+-----+-----+------+-----+\n",
      "|event_timestamp    |machine_id|vibration|acoustic|temperature|current|status|IMF_1|IMF_2|IMF_3 |label|\n",
      "+-------------------+----------+---------+--------+-----------+-------+------+-----+-----+------+-----+\n",
      "|2024-07-01 12:53:00|M02       |0.845    |0.613   |66.17      |11.75  |Normal|0.186|0.026|-0.021|0    |\n",
      "+-------------------+----------+---------+--------+-----------+-------+------+-----+-----+------+-----+\n",
      "\n"
     ]
    },
    {
     "name": "stderr",
     "output_type": "stream",
     "text": [
      "                                                                                \r"
     ]
    },
    {
     "name": "stdout",
     "output_type": "stream",
     "text": [
      "-------------------------------------------\n",
      "Batch: 810\n",
      "-------------------------------------------\n",
      "+-------------------+----------+---------+--------+-----------+-------+------+-----+-----+-----+-----+\n",
      "|event_timestamp    |machine_id|vibration|acoustic|temperature|current|status|IMF_1|IMF_2|IMF_3|label|\n",
      "+-------------------+----------+---------+--------+-----------+-------+------+-----+-----+-----+-----+\n",
      "|2024-07-01 12:54:00|M02       |0.736    |0.55    |68.47      |13.12  |Normal|0.122|0.097|-0.02|0    |\n",
      "+-------------------+----------+---------+--------+-----------+-------+------+-----+-----+-----+-----+\n",
      "\n",
      "-------------------------------------------\n",
      "Batch: 811\n",
      "-------------------------------------------\n",
      "+-------------------+----------+---------+--------+-----------+-------+------+-----+------+------+-----+\n",
      "|event_timestamp    |machine_id|vibration|acoustic|temperature|current|status|IMF_1|IMF_2 |IMF_3 |label|\n",
      "+-------------------+----------+---------+--------+-----------+-------+------+-----+------+------+-----+\n",
      "|2024-07-01 12:55:00|M02       |0.772    |0.594   |65.59      |10.9   |Normal|0.126|-0.063|-0.019|0    |\n",
      "+-------------------+----------+---------+--------+-----------+-------+------+-----+------+------+-----+\n",
      "\n"
     ]
    },
    {
     "name": "stderr",
     "output_type": "stream",
     "text": [
      "                                                                                \r"
     ]
    },
    {
     "name": "stdout",
     "output_type": "stream",
     "text": [
      "-------------------------------------------\n",
      "Batch: 812\n",
      "-------------------------------------------\n",
      "+-------------------+----------+---------+--------+-----------+-------+------+-----+-----+------+-----+\n",
      "|event_timestamp    |machine_id|vibration|acoustic|temperature|current|status|IMF_1|IMF_2|IMF_3 |label|\n",
      "+-------------------+----------+---------+--------+-----------+-------+------+-----+-----+------+-----+\n",
      "|2024-07-01 12:56:00|M02       |0.831    |0.722   |65.09      |12.44  |Normal|0.126|-0.05|-0.018|0    |\n",
      "+-------------------+----------+---------+--------+-----------+-------+------+-----+-----+------+-----+\n",
      "\n",
      "-------------------------------------------\n",
      "Batch: 813\n",
      "-------------------------------------------\n",
      "+-------------------+----------+---------+--------+-----------+-------+------+-----+-----+------+-----+\n",
      "|event_timestamp    |machine_id|vibration|acoustic|temperature|current|status|IMF_1|IMF_2|IMF_3 |label|\n",
      "+-------------------+----------+---------+--------+-----------+-------+------+-----+-----+------+-----+\n",
      "|2024-07-01 12:57:00|M02       |0.787    |0.636   |63.6       |12.92  |Normal|0.182|0.068|-0.017|0    |\n",
      "+-------------------+----------+---------+--------+-----------+-------+------+-----+-----+------+-----+\n",
      "\n",
      "-------------------------------------------\n",
      "Batch: 814\n",
      "-------------------------------------------\n",
      "+-------------------+----------+---------+--------+-----------+-------+------+-----+-----+------+-----+\n",
      "|event_timestamp    |machine_id|vibration|acoustic|temperature|current|status|IMF_1|IMF_2|IMF_3 |label|\n",
      "+-------------------+----------+---------+--------+-----------+-------+------+-----+-----+------+-----+\n",
      "|2024-07-01 12:58:00|M02       |0.81     |0.526   |66.25      |11.52  |Normal|0.22 |0.074|-0.016|0    |\n",
      "+-------------------+----------+---------+--------+-----------+-------+------+-----+-----+------+-----+\n",
      "\n"
     ]
    },
    {
     "name": "stderr",
     "output_type": "stream",
     "text": [
      "                                                                                \r"
     ]
    },
    {
     "name": "stdout",
     "output_type": "stream",
     "text": [
      "-------------------------------------------\n",
      "Batch: 815\n",
      "-------------------------------------------\n",
      "+-------------------+----------+---------+--------+-----------+-------+------+-----+-----+------+-----+\n",
      "|event_timestamp    |machine_id|vibration|acoustic|temperature|current|status|IMF_1|IMF_2|IMF_3 |label|\n",
      "+-------------------+----------+---------+--------+-----------+-------+------+-----+-----+------+-----+\n",
      "|2024-07-01 12:59:00|M02       |0.689    |0.591   |62.08      |11.38  |Normal|0.196|0.108|-0.015|0    |\n",
      "+-------------------+----------+---------+--------+-----------+-------+------+-----+-----+------+-----+\n",
      "\n",
      "-------------------------------------------\n",
      "Batch: 816\n",
      "-------------------------------------------\n",
      "+-------------------+----------+---------+--------+-----------+-------+----------------+-----+-----+------+-----+\n",
      "|event_timestamp    |machine_id|vibration|acoustic|temperature|current|status          |IMF_1|IMF_2|IMF_3 |label|\n",
      "+-------------------+----------+---------+--------+-----------+-------+----------------+-----+-----+------+-----+\n",
      "|2024-07-01 13:00:00|M02       |1.29     |0.853   |77.78      |14.19  |Failure Detected|0.245|0.059|-0.014|1    |\n",
      "+-------------------+----------+---------+--------+-----------+-------+----------------+-----+-----+------+-----+\n",
      "\n"
     ]
    },
    {
     "name": "stderr",
     "output_type": "stream",
     "text": [
      "                                                                                \r"
     ]
    },
    {
     "name": "stdout",
     "output_type": "stream",
     "text": [
      "-------------------------------------------\n",
      "Batch: 817\n",
      "-------------------------------------------\n",
      "+-------------------+----------+---------+--------+-----------+-------+------+-----+------+------+-----+\n",
      "|event_timestamp    |machine_id|vibration|acoustic|temperature|current|status|IMF_1|IMF_2 |IMF_3 |label|\n",
      "+-------------------+----------+---------+--------+-----------+-------+------+-----+------+------+-----+\n",
      "|2024-07-01 13:01:00|M02       |0.827    |0.592   |65.29      |12.14  |Normal|0.192|-0.011|-0.013|0    |\n",
      "+-------------------+----------+---------+--------+-----------+-------+------+-----+------+------+-----+\n",
      "\n",
      "-------------------------------------------\n",
      "Batch: 818\n",
      "-------------------------------------------\n",
      "+-------------------+----------+---------+--------+-----------+-------+------+-----+-----+------+-----+\n",
      "|event_timestamp    |machine_id|vibration|acoustic|temperature|current|status|IMF_1|IMF_2|IMF_3 |label|\n",
      "+-------------------+----------+---------+--------+-----------+-------+------+-----+-----+------+-----+\n",
      "|2024-07-01 13:02:00|M02       |0.713    |0.668   |67.55      |12.75  |Normal|0.14 |0.055|-0.012|0    |\n",
      "+-------------------+----------+---------+--------+-----------+-------+------+-----+-----+------+-----+\n",
      "\n",
      "-------------------------------------------\n",
      "Batch: 819\n",
      "-------------------------------------------\n",
      "+-------------------+----------+---------+--------+-----------+-------+------+-----+-----+------+-----+\n",
      "|event_timestamp    |machine_id|vibration|acoustic|temperature|current|status|IMF_1|IMF_2|IMF_3 |label|\n",
      "+-------------------+----------+---------+--------+-----------+-------+------+-----+-----+------+-----+\n",
      "|2024-07-01 13:03:00|M02       |0.823    |0.63    |67.47      |11.46  |Normal|0.192|0.051|-0.011|0    |\n",
      "+-------------------+----------+---------+--------+-----------+-------+------+-----+-----+------+-----+\n",
      "\n",
      "-------------------------------------------\n",
      "Batch: 820\n",
      "-------------------------------------------\n",
      "+-------------------+----------+---------+--------+-----------+-------+------+-----+-----+-----+-----+\n",
      "|event_timestamp    |machine_id|vibration|acoustic|temperature|current|status|IMF_1|IMF_2|IMF_3|label|\n",
      "+-------------------+----------+---------+--------+-----------+-------+------+-----+-----+-----+-----+\n",
      "|2024-07-01 13:04:00|M02       |0.753    |0.565   |68.88      |11.64  |Normal|0.199|0.019|-0.01|0    |\n",
      "+-------------------+----------+---------+--------+-----------+-------+------+-----+-----+-----+-----+\n",
      "\n",
      "-------------------------------------------\n",
      "Batch: 821\n",
      "-------------------------------------------\n",
      "+-------------------+----------+---------+--------+-----------+-------+------+-----+------+------+-----+\n",
      "|event_timestamp    |machine_id|vibration|acoustic|temperature|current|status|IMF_1|IMF_2 |IMF_3 |label|\n",
      "+-------------------+----------+---------+--------+-----------+-------+------+-----+------+------+-----+\n",
      "|2024-07-01 13:05:00|M02       |0.788    |0.533   |68.34      |10.67  |Normal|0.137|-0.096|-0.009|0    |\n",
      "+-------------------+----------+---------+--------+-----------+-------+------+-----+------+------+-----+\n",
      "\n",
      "-------------------------------------------\n",
      "Batch: 822\n",
      "-------------------------------------------\n",
      "+-------------------+----------+---------+--------+-----------+-------+------+-----+-----+------+-----+\n",
      "|event_timestamp    |machine_id|vibration|acoustic|temperature|current|status|IMF_1|IMF_2|IMF_3 |label|\n",
      "+-------------------+----------+---------+--------+-----------+-------+------+-----+-----+------+-----+\n",
      "|2024-07-01 13:06:00|M02       |0.803    |0.539   |65.75      |11.19  |Normal|0.178|-0.04|-0.008|0    |\n",
      "+-------------------+----------+---------+--------+-----------+-------+------+-----+-----+------+-----+\n",
      "\n",
      "-------------------------------------------\n",
      "Batch: 823\n",
      "-------------------------------------------\n",
      "+-------------------+----------+---------+--------+-----------+-------+------+-----+-----+------+-----+\n",
      "|event_timestamp    |machine_id|vibration|acoustic|temperature|current|status|IMF_1|IMF_2|IMF_3 |label|\n",
      "+-------------------+----------+---------+--------+-----------+-------+------+-----+-----+------+-----+\n",
      "|2024-07-01 13:07:00|M02       |0.812    |0.653   |66.17      |12.41  |Normal|0.105|0.128|-0.007|0    |\n",
      "+-------------------+----------+---------+--------+-----------+-------+------+-----+-----+------+-----+\n",
      "\n",
      "-------------------------------------------\n",
      "Batch: 824\n",
      "-------------------------------------------\n",
      "+-------------------+----------+---------+--------+-----------+-------+------+-----+------+------+-----+\n",
      "|event_timestamp    |machine_id|vibration|acoustic|temperature|current|status|IMF_1|IMF_2 |IMF_3 |label|\n",
      "+-------------------+----------+---------+--------+-----------+-------+------+-----+------+------+-----+\n",
      "|2024-07-01 13:08:00|M02       |0.816    |0.54    |63.09      |12.28  |Normal|0.103|-0.047|-0.006|0    |\n",
      "+-------------------+----------+---------+--------+-----------+-------+------+-----+------+------+-----+\n",
      "\n",
      "-------------------------------------------\n",
      "Batch: 825\n",
      "-------------------------------------------\n",
      "+-------------------+----------+---------+--------+-----------+-------+------+-----+------+------+-----+\n",
      "|event_timestamp    |machine_id|vibration|acoustic|temperature|current|status|IMF_1|IMF_2 |IMF_3 |label|\n",
      "+-------------------+----------+---------+--------+-----------+-------+------+-----+------+------+-----+\n",
      "|2024-07-01 13:09:00|M02       |0.818    |0.663   |67.59      |13.08  |Normal|0.109|-0.124|-0.005|0    |\n",
      "+-------------------+----------+---------+--------+-----------+-------+------+-----+------+------+-----+\n",
      "\n",
      "-------------------------------------------\n",
      "Batch: 826\n",
      "-------------------------------------------\n",
      "+-------------------+----------+---------+--------+-----------+-------+------+-----+------+------+-----+\n",
      "|event_timestamp    |machine_id|vibration|acoustic|temperature|current|status|IMF_1|IMF_2 |IMF_3 |label|\n",
      "+-------------------+----------+---------+--------+-----------+-------+------+-----+------+------+-----+\n",
      "|2024-07-01 13:10:00|M02       |0.841    |0.657   |64.93      |11.13  |Normal|0.126|-0.115|-0.004|0    |\n",
      "+-------------------+----------+---------+--------+-----------+-------+------+-----+------+------+-----+\n",
      "\n",
      "-------------------------------------------\n",
      "Batch: 827\n",
      "-------------------------------------------\n",
      "+-------------------+----------+---------+--------+-----------+-------+------+-----+-----+------+-----+\n",
      "|event_timestamp    |machine_id|vibration|acoustic|temperature|current|status|IMF_1|IMF_2|IMF_3 |label|\n",
      "+-------------------+----------+---------+--------+-----------+-------+------+-----+-----+------+-----+\n",
      "|2024-07-01 13:11:00|M02       |0.875    |0.534   |62.68      |12.44  |Normal|0.173|0.101|-0.003|0    |\n",
      "+-------------------+----------+---------+--------+-----------+-------+------+-----+-----+------+-----+\n",
      "\n",
      "-------------------------------------------\n",
      "Batch: 828\n",
      "-------------------------------------------\n",
      "+-------------------+----------+---------+--------+-----------+-------+------+-----+-----+------+-----+\n",
      "|event_timestamp    |machine_id|vibration|acoustic|temperature|current|status|IMF_1|IMF_2|IMF_3 |label|\n",
      "+-------------------+----------+---------+--------+-----------+-------+------+-----+-----+------+-----+\n",
      "|2024-07-01 13:12:00|M02       |0.827    |0.641   |65.5       |12.02  |Normal|0.241|-0.03|-0.002|0    |\n",
      "+-------------------+----------+---------+--------+-----------+-------+------+-----+-----+------+-----+\n",
      "\n",
      "-------------------------------------------\n",
      "Batch: 829\n",
      "-------------------------------------------\n",
      "+-------------------+----------+---------+--------+-----------+-------+------+-----+------+------+-----+\n",
      "|event_timestamp    |machine_id|vibration|acoustic|temperature|current|status|IMF_1|IMF_2 |IMF_3 |label|\n",
      "+-------------------+----------+---------+--------+-----------+-------+------+-----+------+------+-----+\n",
      "|2024-07-01 13:13:00|M02       |0.77     |0.588   |64.43      |11.5   |Normal|0.167|-0.028|-0.001|0    |\n",
      "+-------------------+----------+---------+--------+-----------+-------+------+-----+------+------+-----+\n",
      "\n"
     ]
    },
    {
     "name": "stderr",
     "output_type": "stream",
     "text": [
      "                                                                                \r"
     ]
    },
    {
     "name": "stdout",
     "output_type": "stream",
     "text": [
      "-------------------------------------------\n",
      "Batch: 830\n",
      "-------------------------------------------\n",
      "+-------------------+----------+---------+--------+-----------+-------+------+-----+-----+-----+-----+\n",
      "|event_timestamp    |machine_id|vibration|acoustic|temperature|current|status|IMF_1|IMF_2|IMF_3|label|\n",
      "+-------------------+----------+---------+--------+-----------+-------+------+-----+-----+-----+-----+\n",
      "|2024-07-01 13:14:00|M02       |0.874    |0.494   |61.52      |11.69  |Normal|0.239|0.088|-0.0 |0    |\n",
      "+-------------------+----------+---------+--------+-----------+-------+------+-----+-----+-----+-----+\n",
      "\n",
      "-------------------------------------------\n",
      "Batch: 831\n",
      "-------------------------------------------\n",
      "+-------------------+----------+---------+--------+-----------+-------+------+-----+-----+-----+-----+\n",
      "|event_timestamp    |machine_id|vibration|acoustic|temperature|current|status|IMF_1|IMF_2|IMF_3|label|\n",
      "+-------------------+----------+---------+--------+-----------+-------+------+-----+-----+-----+-----+\n",
      "|2024-07-01 13:15:00|M02       |0.793    |0.535   |66.86      |12.45  |Normal|0.194|0.021|0.001|0    |\n",
      "+-------------------+----------+---------+--------+-----------+-------+------+-----+-----+-----+-----+\n",
      "\n"
     ]
    },
    {
     "name": "stderr",
     "output_type": "stream",
     "text": [
      "                                                                                \r"
     ]
    },
    {
     "name": "stdout",
     "output_type": "stream",
     "text": [
      "-------------------------------------------\n",
      "Batch: 832\n",
      "-------------------------------------------\n",
      "+-------------------+----------+---------+--------+-----------+-------+------+-----+------+-----+-----+\n",
      "|event_timestamp    |machine_id|vibration|acoustic|temperature|current|status|IMF_1|IMF_2 |IMF_3|label|\n",
      "+-------------------+----------+---------+--------+-----------+-------+------+-----+------+-----+-----+\n",
      "|2024-07-01 13:16:00|M02       |0.849    |0.607   |66.31      |11.69  |Normal|0.099|-0.054|0.002|0    |\n",
      "+-------------------+----------+---------+--------+-----------+-------+------+-----+------+-----+-----+\n",
      "\n",
      "-------------------------------------------\n",
      "Batch: 833\n",
      "-------------------------------------------\n",
      "+-------------------+----------+---------+--------+-----------+-------+------+-----+-----+-----+-----+\n",
      "|event_timestamp    |machine_id|vibration|acoustic|temperature|current|status|IMF_1|IMF_2|IMF_3|label|\n",
      "+-------------------+----------+---------+--------+-----------+-------+------+-----+-----+-----+-----+\n",
      "|2024-07-01 13:17:00|M02       |0.805    |0.608   |63.01      |11.35  |Normal|0.115|0.037|0.003|0    |\n",
      "+-------------------+----------+---------+--------+-----------+-------+------+-----+-----+-----+-----+\n",
      "\n",
      "-------------------------------------------\n",
      "Batch: 834\n",
      "-------------------------------------------\n",
      "+-------------------+----------+---------+--------+-----------+-------+------+-----+------+-----+-----+\n",
      "|event_timestamp    |machine_id|vibration|acoustic|temperature|current|status|IMF_1|IMF_2 |IMF_3|label|\n",
      "+-------------------+----------+---------+--------+-----------+-------+------+-----+------+-----+-----+\n",
      "|2024-07-01 13:18:00|M02       |0.804    |0.691   |65.69      |12.06  |Normal|0.135|-0.021|0.004|0    |\n",
      "+-------------------+----------+---------+--------+-----------+-------+------+-----+------+-----+-----+\n",
      "\n",
      "-------------------------------------------\n",
      "Batch: 835\n",
      "-------------------------------------------\n",
      "+-------------------+----------+---------+--------+-----------+-------+------+-----+------+-----+-----+\n",
      "|event_timestamp    |machine_id|vibration|acoustic|temperature|current|status|IMF_1|IMF_2 |IMF_3|label|\n",
      "+-------------------+----------+---------+--------+-----------+-------+------+-----+------+-----+-----+\n",
      "|2024-07-01 13:19:00|M02       |0.726    |0.508   |65.49      |12.14  |Normal|0.144|-0.063|0.005|0    |\n",
      "+-------------------+----------+---------+--------+-----------+-------+------+-----+------+-----+-----+\n",
      "\n"
     ]
    },
    {
     "name": "stderr",
     "output_type": "stream",
     "text": [
      "                                                                                \r"
     ]
    },
    {
     "name": "stdout",
     "output_type": "stream",
     "text": [
      "-------------------------------------------\n",
      "Batch: 836\n",
      "-------------------------------------------\n",
      "+-------------------+----------+---------+--------+-----------+-------+------+-----+-----+-----+-----+\n",
      "|event_timestamp    |machine_id|vibration|acoustic|temperature|current|status|IMF_1|IMF_2|IMF_3|label|\n",
      "+-------------------+----------+---------+--------+-----------+-------+------+-----+-----+-----+-----+\n",
      "|2024-07-01 13:20:00|M02       |0.732    |0.616   |67.33      |11.53  |Normal|0.185|0.094|0.006|0    |\n",
      "+-------------------+----------+---------+--------+-----------+-------+------+-----+-----+-----+-----+\n",
      "\n"
     ]
    },
    {
     "name": "stderr",
     "output_type": "stream",
     "text": [
      "                                                                                \r"
     ]
    },
    {
     "name": "stdout",
     "output_type": "stream",
     "text": [
      "-------------------------------------------\n",
      "Batch: 837\n",
      "-------------------------------------------\n",
      "+-------------------+----------+---------+--------+-----------+-------+------+-----+-----+-----+-----+\n",
      "|event_timestamp    |machine_id|vibration|acoustic|temperature|current|status|IMF_1|IMF_2|IMF_3|label|\n",
      "+-------------------+----------+---------+--------+-----------+-------+------+-----+-----+-----+-----+\n",
      "|2024-07-01 13:21:00|M02       |0.8      |0.569   |63.87      |11.63  |Normal|0.22 |0.009|0.007|0    |\n",
      "+-------------------+----------+---------+--------+-----------+-------+------+-----+-----+-----+-----+\n",
      "\n"
     ]
    },
    {
     "name": "stderr",
     "output_type": "stream",
     "text": [
      "                                                                                \r"
     ]
    },
    {
     "name": "stdout",
     "output_type": "stream",
     "text": [
      "-------------------------------------------\n",
      "Batch: 838\n",
      "-------------------------------------------\n",
      "+-------------------+----------+---------+--------+-----------+-------+------+-----+-----+-----+-----+\n",
      "|event_timestamp    |machine_id|vibration|acoustic|temperature|current|status|IMF_1|IMF_2|IMF_3|label|\n",
      "+-------------------+----------+---------+--------+-----------+-------+------+-----+-----+-----+-----+\n",
      "|2024-07-01 13:22:00|M02       |0.812    |0.636   |61.88      |11.51  |Normal|0.121|0.04 |0.008|0    |\n",
      "+-------------------+----------+---------+--------+-----------+-------+------+-----+-----+-----+-----+\n",
      "\n"
     ]
    },
    {
     "name": "stderr",
     "output_type": "stream",
     "text": [
      "                                                                                \r"
     ]
    },
    {
     "name": "stdout",
     "output_type": "stream",
     "text": [
      "-------------------------------------------\n",
      "Batch: 839\n",
      "-------------------------------------------\n",
      "+-------------------+----------+---------+--------+-----------+-------+------+-----+------+-----+-----+\n",
      "|event_timestamp    |machine_id|vibration|acoustic|temperature|current|status|IMF_1|IMF_2 |IMF_3|label|\n",
      "+-------------------+----------+---------+--------+-----------+-------+------+-----+------+-----+-----+\n",
      "|2024-07-01 13:23:00|M02       |0.823    |0.564   |62.51      |12.16  |Normal|0.202|-0.037|0.009|0    |\n",
      "+-------------------+----------+---------+--------+-----------+-------+------+-----+------+-----+-----+\n",
      "\n",
      "-------------------------------------------\n",
      "Batch: 840\n",
      "-------------------------------------------\n",
      "+-------------------+----------+---------+--------+-----------+-------+------+-----+------+-----+-----+\n",
      "|event_timestamp    |machine_id|vibration|acoustic|temperature|current|status|IMF_1|IMF_2 |IMF_3|label|\n",
      "+-------------------+----------+---------+--------+-----------+-------+------+-----+------+-----+-----+\n",
      "|2024-07-01 13:24:00|M02       |0.741    |0.638   |66.82      |11.32  |Normal|0.087|-0.031|0.01 |0    |\n",
      "+-------------------+----------+---------+--------+-----------+-------+------+-----+------+-----+-----+\n",
      "\n",
      "-------------------------------------------\n",
      "Batch: 841\n",
      "-------------------------------------------\n",
      "+-------------------+----------+---------+--------+-----------+-------+------+-----+-----+-----+-----+\n",
      "|event_timestamp    |machine_id|vibration|acoustic|temperature|current|status|IMF_1|IMF_2|IMF_3|label|\n",
      "+-------------------+----------+---------+--------+-----------+-------+------+-----+-----+-----+-----+\n",
      "|2024-07-01 13:25:00|M02       |0.73     |0.626   |67.28      |12.13  |Normal|0.154|0.103|0.011|0    |\n",
      "+-------------------+----------+---------+--------+-----------+-------+------+-----+-----+-----+-----+\n",
      "\n",
      "-------------------------------------------\n",
      "Batch: 842\n",
      "-------------------------------------------\n",
      "+-------------------+----------+---------+--------+-----------+-------+------+-----+------+-----+-----+\n",
      "|event_timestamp    |machine_id|vibration|acoustic|temperature|current|status|IMF_1|IMF_2 |IMF_3|label|\n",
      "+-------------------+----------+---------+--------+-----------+-------+------+-----+------+-----+-----+\n",
      "|2024-07-01 13:26:00|M02       |0.751    |0.644   |65.37      |12.02  |Normal|0.08 |-0.034|0.012|0    |\n",
      "+-------------------+----------+---------+--------+-----------+-------+------+-----+------+-----+-----+\n",
      "\n",
      "-------------------------------------------\n",
      "Batch: 843\n",
      "-------------------------------------------\n",
      "+-------------------+----------+---------+--------+-----------+-------+------+-----+-----+-----+-----+\n",
      "|event_timestamp    |machine_id|vibration|acoustic|temperature|current|status|IMF_1|IMF_2|IMF_3|label|\n",
      "+-------------------+----------+---------+--------+-----------+-------+------+-----+-----+-----+-----+\n",
      "|2024-07-01 13:27:00|M02       |0.811    |0.719   |64.54      |12.03  |Normal|0.224|0.122|0.013|0    |\n",
      "+-------------------+----------+---------+--------+-----------+-------+------+-----+-----+-----+-----+\n",
      "\n",
      "-------------------------------------------\n",
      "Batch: 844\n",
      "-------------------------------------------\n",
      "+-------------------+----------+---------+--------+-----------+-------+------+-----+-----+-----+-----+\n",
      "|event_timestamp    |machine_id|vibration|acoustic|temperature|current|status|IMF_1|IMF_2|IMF_3|label|\n",
      "+-------------------+----------+---------+--------+-----------+-------+------+-----+-----+-----+-----+\n",
      "|2024-07-01 13:28:00|M02       |0.754    |0.772   |64.92      |12.55  |Normal|0.225|0.143|0.014|0    |\n",
      "+-------------------+----------+---------+--------+-----------+-------+------+-----+-----+-----+-----+\n",
      "\n"
     ]
    },
    {
     "name": "stderr",
     "output_type": "stream",
     "text": [
      "                                                                                \r"
     ]
    },
    {
     "name": "stdout",
     "output_type": "stream",
     "text": [
      "-------------------------------------------\n",
      "Batch: 845\n",
      "-------------------------------------------\n",
      "+-------------------+----------+---------+--------+-----------+-------+------+-----+-----+-----+-----+\n",
      "|event_timestamp    |machine_id|vibration|acoustic|temperature|current|status|IMF_1|IMF_2|IMF_3|label|\n",
      "+-------------------+----------+---------+--------+-----------+-------+------+-----+-----+-----+-----+\n",
      "|2024-07-01 13:29:00|M02       |0.753    |0.576   |69.93      |10.77  |Normal|0.182|0.085|0.015|0    |\n",
      "+-------------------+----------+---------+--------+-----------+-------+------+-----+-----+-----+-----+\n",
      "\n",
      "-------------------------------------------\n",
      "Batch: 846\n",
      "-------------------------------------------\n",
      "+-------------------+----------+---------+--------+-----------+-------+------+-----+------+-----+-----+\n",
      "|event_timestamp    |machine_id|vibration|acoustic|temperature|current|status|IMF_1|IMF_2 |IMF_3|label|\n",
      "+-------------------+----------+---------+--------+-----------+-------+------+-----+------+-----+-----+\n",
      "|2024-07-01 13:30:00|M02       |0.834    |0.611   |68.35      |11.59  |Normal|0.132|-0.017|0.016|0    |\n",
      "+-------------------+----------+---------+--------+-----------+-------+------+-----+------+-----+-----+\n",
      "\n",
      "-------------------------------------------\n",
      "Batch: 847\n",
      "-------------------------------------------\n",
      "+-------------------+----------+---------+--------+-----------+-------+------+-----+-----+-----+-----+\n",
      "|event_timestamp    |machine_id|vibration|acoustic|temperature|current|status|IMF_1|IMF_2|IMF_3|label|\n",
      "+-------------------+----------+---------+--------+-----------+-------+------+-----+-----+-----+-----+\n",
      "|2024-07-01 13:31:00|M02       |0.753    |0.545   |63.37      |12.0   |Normal|0.142|0.009|0.017|0    |\n",
      "+-------------------+----------+---------+--------+-----------+-------+------+-----+-----+-----+-----+\n",
      "\n",
      "-------------------------------------------\n",
      "Batch: 848\n",
      "-------------------------------------------\n",
      "+-------------------+----------+---------+--------+-----------+-------+------+-----+------+-----+-----+\n",
      "|event_timestamp    |machine_id|vibration|acoustic|temperature|current|status|IMF_1|IMF_2 |IMF_3|label|\n",
      "+-------------------+----------+---------+--------+-----------+-------+------+-----+------+-----+-----+\n",
      "|2024-07-01 13:32:00|M02       |0.864    |0.598   |60.91      |12.25  |Normal|0.201|-0.078|0.017|0    |\n",
      "+-------------------+----------+---------+--------+-----------+-------+------+-----+------+-----+-----+\n",
      "\n"
     ]
    },
    {
     "name": "stderr",
     "output_type": "stream",
     "text": [
      "                                                                                \r"
     ]
    },
    {
     "name": "stdout",
     "output_type": "stream",
     "text": [
      "-------------------------------------------\n",
      "Batch: 849\n",
      "-------------------------------------------\n",
      "+-------------------+----------+---------+--------+-----------+-------+------+-----+------+-----+-----+\n",
      "|event_timestamp    |machine_id|vibration|acoustic|temperature|current|status|IMF_1|IMF_2 |IMF_3|label|\n",
      "+-------------------+----------+---------+--------+-----------+-------+------+-----+------+-----+-----+\n",
      "|2024-07-01 13:33:00|M02       |0.807    |0.67    |64.92      |12.1   |Normal|0.171|-0.047|0.018|0    |\n",
      "+-------------------+----------+---------+--------+-----------+-------+------+-----+------+-----+-----+\n",
      "\n",
      "-------------------------------------------\n",
      "Batch: 850\n",
      "-------------------------------------------\n",
      "+-------------------+----------+---------+--------+-----------+-------+------+-----+------+-----+-----+\n",
      "|event_timestamp    |machine_id|vibration|acoustic|temperature|current|status|IMF_1|IMF_2 |IMF_3|label|\n",
      "+-------------------+----------+---------+--------+-----------+-------+------+-----+------+-----+-----+\n",
      "|2024-07-01 13:34:00|M02       |0.774    |0.562   |65.12      |12.45  |Normal|0.199|-0.084|0.019|0    |\n",
      "+-------------------+----------+---------+--------+-----------+-------+------+-----+------+-----+-----+\n",
      "\n",
      "-------------------------------------------\n",
      "Batch: 851\n",
      "-------------------------------------------\n",
      "+-------------------+----------+---------+--------+-----------+-------+------+-----+------+-----+-----+\n",
      "|event_timestamp    |machine_id|vibration|acoustic|temperature|current|status|IMF_1|IMF_2 |IMF_3|label|\n",
      "+-------------------+----------+---------+--------+-----------+-------+------+-----+------+-----+-----+\n",
      "|2024-07-01 13:35:00|M02       |0.857    |0.563   |64.71      |12.66  |Normal|0.136|-0.097|0.02 |0    |\n",
      "+-------------------+----------+---------+--------+-----------+-------+------+-----+------+-----+-----+\n",
      "\n",
      "-------------------------------------------\n",
      "Batch: 852\n",
      "-------------------------------------------\n",
      "+-------------------+----------+---------+--------+-----------+-------+----------------+-----+------+-----+-----+\n",
      "|event_timestamp    |machine_id|vibration|acoustic|temperature|current|status          |IMF_1|IMF_2 |IMF_3|label|\n",
      "+-------------------+----------+---------+--------+-----------+-------+----------------+-----+------+-----+-----+\n",
      "|2024-07-01 13:36:00|M02       |1.204    |0.851   |77.35      |15.64  |Failure Detected|0.169|-0.152|0.021|1    |\n",
      "+-------------------+----------+---------+--------+-----------+-------+----------------+-----+------+-----+-----+\n",
      "\n",
      "-------------------------------------------\n",
      "Batch: 853\n",
      "-------------------------------------------\n",
      "+-------------------+----------+---------+--------+-----------+-------+------+-----+-----+-----+-----+\n",
      "|event_timestamp    |machine_id|vibration|acoustic|temperature|current|status|IMF_1|IMF_2|IMF_3|label|\n",
      "+-------------------+----------+---------+--------+-----------+-------+------+-----+-----+-----+-----+\n",
      "|2024-07-01 13:37:00|M02       |0.731    |0.611   |62.88      |11.15  |Normal|0.075|0.027|0.022|0    |\n",
      "+-------------------+----------+---------+--------+-----------+-------+------+-----+-----+-----+-----+\n",
      "\n"
     ]
    },
    {
     "name": "stderr",
     "output_type": "stream",
     "text": [
      "                                                                                \r"
     ]
    },
    {
     "name": "stdout",
     "output_type": "stream",
     "text": [
      "-------------------------------------------\n",
      "Batch: 854\n",
      "-------------------------------------------\n",
      "+-------------------+----------+---------+--------+-----------+-------+------+-----+-----+-----+-----+\n",
      "|event_timestamp    |machine_id|vibration|acoustic|temperature|current|status|IMF_1|IMF_2|IMF_3|label|\n",
      "+-------------------+----------+---------+--------+-----------+-------+------+-----+-----+-----+-----+\n",
      "|2024-07-01 13:38:00|M02       |0.792    |0.642   |66.0       |12.35  |Normal|0.179|0.063|0.023|0    |\n",
      "+-------------------+----------+---------+--------+-----------+-------+------+-----+-----+-----+-----+\n",
      "\n",
      "-------------------------------------------\n",
      "Batch: 855\n",
      "-------------------------------------------\n",
      "+-------------------+----------+---------+--------+-----------+-------+------+-----+-----+-----+-----+\n",
      "|event_timestamp    |machine_id|vibration|acoustic|temperature|current|status|IMF_1|IMF_2|IMF_3|label|\n",
      "+-------------------+----------+---------+--------+-----------+-------+------+-----+-----+-----+-----+\n",
      "|2024-07-01 13:39:00|M02       |0.799    |0.557   |62.21      |11.36  |Normal|0.166|0.091|0.024|0    |\n",
      "+-------------------+----------+---------+--------+-----------+-------+------+-----+-----+-----+-----+\n",
      "\n",
      "-------------------------------------------\n",
      "Batch: 856\n",
      "-------------------------------------------\n",
      "+-------------------+----------+---------+--------+-----------+-------+------+-----+------+-----+-----+\n",
      "|event_timestamp    |machine_id|vibration|acoustic|temperature|current|status|IMF_1|IMF_2 |IMF_3|label|\n",
      "+-------------------+----------+---------+--------+-----------+-------+------+-----+------+-----+-----+\n",
      "|2024-07-01 13:40:00|M02       |0.823    |0.553   |63.52      |10.79  |Normal|0.105|-0.046|0.025|0    |\n",
      "+-------------------+----------+---------+--------+-----------+-------+------+-----+------+-----+-----+\n",
      "\n",
      "-------------------------------------------\n",
      "Batch: 857\n",
      "-------------------------------------------\n",
      "+-------------------+----------+---------+--------+-----------+-------+------+-----+-----+-----+-----+\n",
      "|event_timestamp    |machine_id|vibration|acoustic|temperature|current|status|IMF_1|IMF_2|IMF_3|label|\n",
      "+-------------------+----------+---------+--------+-----------+-------+------+-----+-----+-----+-----+\n",
      "|2024-07-01 13:41:00|M02       |0.82     |0.526   |64.8       |11.19  |Normal|0.141|-0.0 |0.026|0    |\n",
      "+-------------------+----------+---------+--------+-----------+-------+------+-----+-----+-----+-----+\n",
      "\n",
      "-------------------------------------------\n",
      "Batch: 858\n",
      "-------------------------------------------\n",
      "+-------------------+----------+---------+--------+-----------+-------+------+-----+-----+-----+-----+\n",
      "|event_timestamp    |machine_id|vibration|acoustic|temperature|current|status|IMF_1|IMF_2|IMF_3|label|\n",
      "+-------------------+----------+---------+--------+-----------+-------+------+-----+-----+-----+-----+\n",
      "|2024-07-01 13:42:00|M02       |0.774    |0.534   |64.59      |12.39  |Normal|0.175|0.094|0.026|0    |\n",
      "+-------------------+----------+---------+--------+-----------+-------+------+-----+-----+-----+-----+\n",
      "\n",
      "-------------------------------------------\n",
      "Batch: 859\n",
      "-------------------------------------------\n",
      "+-------------------+----------+---------+--------+-----------+-------+------+-----+-----+-----+-----+\n",
      "|event_timestamp    |machine_id|vibration|acoustic|temperature|current|status|IMF_1|IMF_2|IMF_3|label|\n",
      "+-------------------+----------+---------+--------+-----------+-------+------+-----+-----+-----+-----+\n",
      "|2024-07-01 13:43:00|M02       |0.767    |0.52    |66.24      |12.57  |Normal|0.101|0.005|0.027|0    |\n",
      "+-------------------+----------+---------+--------+-----------+-------+------+-----+-----+-----+-----+\n",
      "\n",
      "-------------------------------------------\n",
      "Batch: 860\n",
      "-------------------------------------------\n",
      "+-------------------+----------+---------+--------+-----------+-------+------+-----+-----+-----+-----+\n",
      "|event_timestamp    |machine_id|vibration|acoustic|temperature|current|status|IMF_1|IMF_2|IMF_3|label|\n",
      "+-------------------+----------+---------+--------+-----------+-------+------+-----+-----+-----+-----+\n",
      "|2024-07-01 13:44:00|M02       |0.818    |0.634   |65.07      |13.81  |Normal|0.18 |0.088|0.028|0    |\n",
      "+-------------------+----------+---------+--------+-----------+-------+------+-----+-----+-----+-----+\n",
      "\n",
      "-------------------------------------------\n",
      "Batch: 861\n",
      "-------------------------------------------\n",
      "+-------------------+----------+---------+--------+-----------+-------+------+-----+-----+-----+-----+\n",
      "|event_timestamp    |machine_id|vibration|acoustic|temperature|current|status|IMF_1|IMF_2|IMF_3|label|\n",
      "+-------------------+----------+---------+--------+-----------+-------+------+-----+-----+-----+-----+\n",
      "|2024-07-01 13:45:00|M02       |0.724    |0.565   |61.32      |11.83  |Normal|0.191|0.022|0.029|0    |\n",
      "+-------------------+----------+---------+--------+-----------+-------+------+-----+-----+-----+-----+\n",
      "\n"
     ]
    },
    {
     "name": "stderr",
     "output_type": "stream",
     "text": [
      "                                                                                \r"
     ]
    },
    {
     "name": "stdout",
     "output_type": "stream",
     "text": [
      "-------------------------------------------\n",
      "Batch: 862\n",
      "-------------------------------------------\n",
      "+-------------------+----------+---------+--------+-----------+-------+------+-----+-----+-----+-----+\n",
      "|event_timestamp    |machine_id|vibration|acoustic|temperature|current|status|IMF_1|IMF_2|IMF_3|label|\n",
      "+-------------------+----------+---------+--------+-----------+-------+------+-----+-----+-----+-----+\n",
      "|2024-07-01 13:46:00|M02       |0.757    |0.641   |64.37      |12.29  |Normal|0.084|0.09 |0.03 |0    |\n",
      "+-------------------+----------+---------+--------+-----------+-------+------+-----+-----+-----+-----+\n",
      "\n",
      "-------------------------------------------\n",
      "Batch: 863\n",
      "-------------------------------------------\n",
      "+-------------------+----------+---------+--------+-----------+-------+------+-----+-----+-----+-----+\n",
      "|event_timestamp    |machine_id|vibration|acoustic|temperature|current|status|IMF_1|IMF_2|IMF_3|label|\n",
      "+-------------------+----------+---------+--------+-----------+-------+------+-----+-----+-----+-----+\n",
      "|2024-07-01 13:47:00|M02       |0.811    |0.532   |61.61      |12.13  |Normal|0.111|0.042|0.031|0    |\n",
      "+-------------------+----------+---------+--------+-----------+-------+------+-----+-----+-----+-----+\n",
      "\n",
      "-------------------------------------------\n",
      "Batch: 864\n",
      "-------------------------------------------\n",
      "+-------------------+----------+---------+--------+-----------+-------+------+-----+------+-----+-----+\n",
      "|event_timestamp    |machine_id|vibration|acoustic|temperature|current|status|IMF_1|IMF_2 |IMF_3|label|\n",
      "+-------------------+----------+---------+--------+-----------+-------+------+-----+------+-----+-----+\n",
      "|2024-07-01 13:48:00|M02       |0.841    |0.586   |62.63      |12.51  |Normal|0.127|-0.002|0.031|0    |\n",
      "+-------------------+----------+---------+--------+-----------+-------+------+-----+------+-----+-----+\n",
      "\n"
     ]
    },
    {
     "name": "stderr",
     "output_type": "stream",
     "text": [
      "                                                                                \r"
     ]
    },
    {
     "name": "stdout",
     "output_type": "stream",
     "text": [
      "-------------------------------------------\n",
      "Batch: 865\n",
      "-------------------------------------------\n",
      "+-------------------+----------+---------+--------+-----------+-------+------+-----+------+-----+-----+\n",
      "|event_timestamp    |machine_id|vibration|acoustic|temperature|current|status|IMF_1|IMF_2 |IMF_3|label|\n",
      "+-------------------+----------+---------+--------+-----------+-------+------+-----+------+-----+-----+\n",
      "|2024-07-01 13:49:00|M02       |0.751    |0.623   |66.82      |11.38  |Normal|0.098|-0.044|0.032|0    |\n",
      "+-------------------+----------+---------+--------+-----------+-------+------+-----+------+-----+-----+\n",
      "\n",
      "-------------------------------------------\n",
      "Batch: 866\n",
      "-------------------------------------------\n",
      "+-------------------+----------+---------+--------+-----------+-------+------+-----+------+-----+-----+\n",
      "|event_timestamp    |machine_id|vibration|acoustic|temperature|current|status|IMF_1|IMF_2 |IMF_3|label|\n",
      "+-------------------+----------+---------+--------+-----------+-------+------+-----+------+-----+-----+\n",
      "|2024-07-01 13:50:00|M02       |0.814    |0.609   |66.3       |12.03  |Normal|0.163|-0.058|0.033|0    |\n",
      "+-------------------+----------+---------+--------+-----------+-------+------+-----+------+-----+-----+\n",
      "\n",
      "-------------------------------------------\n",
      "Batch: 867\n",
      "-------------------------------------------\n",
      "+-------------------+----------+---------+--------+-----------+-------+----------------+-----+------+-----+-----+\n",
      "|event_timestamp    |machine_id|vibration|acoustic|temperature|current|status          |IMF_1|IMF_2 |IMF_3|label|\n",
      "+-------------------+----------+---------+--------+-----------+-------+----------------+-----+------+-----+-----+\n",
      "|2024-07-01 13:51:00|M02       |1.161    |0.929   |78.39      |16.63  |Failure Detected|0.258|-0.005|0.034|1    |\n",
      "+-------------------+----------+---------+--------+-----------+-------+----------------+-----+------+-----+-----+\n",
      "\n",
      "-------------------------------------------\n",
      "Batch: 868\n",
      "-------------------------------------------\n",
      "+-------------------+----------+---------+--------+-----------+-------+------+-----+------+-----+-----+\n",
      "|event_timestamp    |machine_id|vibration|acoustic|temperature|current|status|IMF_1|IMF_2 |IMF_3|label|\n",
      "+-------------------+----------+---------+--------+-----------+-------+------+-----+------+-----+-----+\n",
      "|2024-07-01 13:52:00|M02       |0.855    |0.582   |68.26      |12.07  |Normal|0.215|-0.041|0.034|0    |\n",
      "+-------------------+----------+---------+--------+-----------+-------+------+-----+------+-----+-----+\n",
      "\n"
     ]
    },
    {
     "name": "stderr",
     "output_type": "stream",
     "text": [
      "                                                                                \r"
     ]
    },
    {
     "name": "stdout",
     "output_type": "stream",
     "text": [
      "-------------------------------------------\n",
      "Batch: 869\n",
      "-------------------------------------------\n",
      "+-------------------+----------+---------+--------+-----------+-------+------+-----+-----+-----+-----+\n",
      "|event_timestamp    |machine_id|vibration|acoustic|temperature|current|status|IMF_1|IMF_2|IMF_3|label|\n",
      "+-------------------+----------+---------+--------+-----------+-------+------+-----+-----+-----+-----+\n",
      "|2024-07-01 13:53:00|M02       |0.802    |0.591   |65.53      |11.88  |Normal|0.14 |0.069|0.035|0    |\n",
      "+-------------------+----------+---------+--------+-----------+-------+------+-----+-----+-----+-----+\n",
      "\n",
      "-------------------------------------------\n",
      "Batch: 870\n",
      "-------------------------------------------\n",
      "+-------------------+----------+---------+--------+-----------+-------+------+-----+------+-----+-----+\n",
      "|event_timestamp    |machine_id|vibration|acoustic|temperature|current|status|IMF_1|IMF_2 |IMF_3|label|\n",
      "+-------------------+----------+---------+--------+-----------+-------+------+-----+------+-----+-----+\n",
      "|2024-07-01 13:54:00|M02       |0.827    |0.553   |65.68      |12.76  |Normal|0.19 |-0.092|0.036|0    |\n",
      "+-------------------+----------+---------+--------+-----------+-------+------+-----+------+-----+-----+\n",
      "\n",
      "-------------------------------------------\n",
      "Batch: 871\n",
      "-------------------------------------------\n",
      "+-------------------+----------+---------+--------+-----------+-------+------+-----+------+-----+-----+\n",
      "|event_timestamp    |machine_id|vibration|acoustic|temperature|current|status|IMF_1|IMF_2 |IMF_3|label|\n",
      "+-------------------+----------+---------+--------+-----------+-------+------+-----+------+-----+-----+\n",
      "|2024-07-01 13:55:00|M02       |0.696    |0.541   |66.38      |12.43  |Normal|0.16 |-0.039|0.036|0    |\n",
      "+-------------------+----------+---------+--------+-----------+-------+------+-----+------+-----+-----+\n",
      "\n"
     ]
    },
    {
     "name": "stderr",
     "output_type": "stream",
     "text": [
      "                                                                                \r"
     ]
    },
    {
     "name": "stdout",
     "output_type": "stream",
     "text": [
      "-------------------------------------------\n",
      "Batch: 872\n",
      "-------------------------------------------\n",
      "+-------------------+----------+---------+--------+-----------+-------+------+-----+------+-----+-----+\n",
      "|event_timestamp    |machine_id|vibration|acoustic|temperature|current|status|IMF_1|IMF_2 |IMF_3|label|\n",
      "+-------------------+----------+---------+--------+-----------+-------+------+-----+------+-----+-----+\n",
      "|2024-07-01 13:56:00|M02       |0.753    |0.586   |64.32      |12.32  |Normal|0.188|-0.004|0.037|0    |\n",
      "+-------------------+----------+---------+--------+-----------+-------+------+-----+------+-----+-----+\n",
      "\n",
      "-------------------------------------------\n",
      "Batch: 873\n",
      "-------------------------------------------\n",
      "+-------------------+----------+---------+--------+-----------+-------+------+-----+-----+-----+-----+\n",
      "|event_timestamp    |machine_id|vibration|acoustic|temperature|current|status|IMF_1|IMF_2|IMF_3|label|\n",
      "+-------------------+----------+---------+--------+-----------+-------+------+-----+-----+-----+-----+\n",
      "|2024-07-01 13:57:00|M02       |0.806    |0.635   |62.08      |12.11  |Normal|0.161|0.056|0.038|0    |\n",
      "+-------------------+----------+---------+--------+-----------+-------+------+-----+-----+-----+-----+\n",
      "\n",
      "-------------------------------------------\n",
      "Batch: 874\n",
      "-------------------------------------------\n",
      "+-------------------+----------+---------+--------+-----------+-------+------+-----+-----+-----+-----+\n",
      "|event_timestamp    |machine_id|vibration|acoustic|temperature|current|status|IMF_1|IMF_2|IMF_3|label|\n",
      "+-------------------+----------+---------+--------+-----------+-------+------+-----+-----+-----+-----+\n",
      "|2024-07-01 13:58:00|M02       |0.846    |0.627   |64.95      |11.87  |Normal|0.129|0.022|0.038|0    |\n",
      "+-------------------+----------+---------+--------+-----------+-------+------+-----+-----+-----+-----+\n",
      "\n",
      "-------------------------------------------\n",
      "Batch: 875\n",
      "-------------------------------------------\n",
      "+-------------------+----------+---------+--------+-----------+-------+------+-----+-----+-----+-----+\n",
      "|event_timestamp    |machine_id|vibration|acoustic|temperature|current|status|IMF_1|IMF_2|IMF_3|label|\n",
      "+-------------------+----------+---------+--------+-----------+-------+------+-----+-----+-----+-----+\n",
      "|2024-07-01 13:59:00|M02       |0.821    |0.601   |63.82      |11.74  |Normal|0.195|0.118|0.039|0    |\n",
      "+-------------------+----------+---------+--------+-----------+-------+------+-----+-----+-----+-----+\n",
      "\n",
      "-------------------------------------------\n",
      "Batch: 876\n",
      "-------------------------------------------\n",
      "+-------------------+----------+---------+--------+-----------+-------+------+-----+------+-----+-----+\n",
      "|event_timestamp    |machine_id|vibration|acoustic|temperature|current|status|IMF_1|IMF_2 |IMF_3|label|\n",
      "+-------------------+----------+---------+--------+-----------+-------+------+-----+------+-----+-----+\n",
      "|2024-07-01 14:00:00|M02       |0.841    |0.627   |65.13      |11.28  |Normal|0.234|-0.123|0.04 |0    |\n",
      "+-------------------+----------+---------+--------+-----------+-------+------+-----+------+-----+-----+\n",
      "\n",
      "-------------------------------------------\n",
      "Batch: 877\n",
      "-------------------------------------------\n",
      "+-------------------+----------+---------+--------+-----------+-------+------+-----+-----+-----+-----+\n",
      "|event_timestamp    |machine_id|vibration|acoustic|temperature|current|status|IMF_1|IMF_2|IMF_3|label|\n",
      "+-------------------+----------+---------+--------+-----------+-------+------+-----+-----+-----+-----+\n",
      "|2024-07-01 14:01:00|M02       |0.883    |0.673   |64.7       |12.14  |Normal|0.209|0.094|0.04 |0    |\n",
      "+-------------------+----------+---------+--------+-----------+-------+------+-----+-----+-----+-----+\n",
      "\n",
      "-------------------------------------------\n",
      "Batch: 878\n",
      "-------------------------------------------\n",
      "+-------------------+----------+---------+--------+-----------+-------+------+-----+-----+-----+-----+\n",
      "|event_timestamp    |machine_id|vibration|acoustic|temperature|current|status|IMF_1|IMF_2|IMF_3|label|\n",
      "+-------------------+----------+---------+--------+-----------+-------+------+-----+-----+-----+-----+\n",
      "|2024-07-01 14:02:00|M02       |0.826    |0.573   |63.93      |11.94  |Normal|0.195|-0.02|0.041|0    |\n",
      "+-------------------+----------+---------+--------+-----------+-------+------+-----+-----+-----+-----+\n",
      "\n",
      "-------------------------------------------\n",
      "Batch: 879\n",
      "-------------------------------------------\n",
      "+-------------------+----------+---------+--------+-----------+-------+------+-----+-----+-----+-----+\n",
      "|event_timestamp    |machine_id|vibration|acoustic|temperature|current|status|IMF_1|IMF_2|IMF_3|label|\n",
      "+-------------------+----------+---------+--------+-----------+-------+------+-----+-----+-----+-----+\n",
      "|2024-07-01 14:03:00|M02       |0.787    |0.63    |62.77      |11.75  |Normal|0.202|0.056|0.041|0    |\n",
      "+-------------------+----------+---------+--------+-----------+-------+------+-----+-----+-----+-----+\n",
      "\n",
      "-------------------------------------------\n",
      "Batch: 880\n",
      "-------------------------------------------\n",
      "+-------------------+----------+---------+--------+-----------+-------+------+-----+-----+-----+-----+\n",
      "|event_timestamp    |machine_id|vibration|acoustic|temperature|current|status|IMF_1|IMF_2|IMF_3|label|\n",
      "+-------------------+----------+---------+--------+-----------+-------+------+-----+-----+-----+-----+\n",
      "|2024-07-01 14:04:00|M02       |0.733    |0.553   |63.88      |12.07  |Normal|0.22 |0.026|0.042|0    |\n",
      "+-------------------+----------+---------+--------+-----------+-------+------+-----+-----+-----+-----+\n",
      "\n",
      "-------------------------------------------\n",
      "Batch: 881\n",
      "-------------------------------------------\n",
      "+-------------------+----------+---------+--------+-----------+-------+------+-----+------+-----+-----+\n",
      "|event_timestamp    |machine_id|vibration|acoustic|temperature|current|status|IMF_1|IMF_2 |IMF_3|label|\n",
      "+-------------------+----------+---------+--------+-----------+-------+------+-----+------+-----+-----+\n",
      "|2024-07-01 14:05:00|M02       |0.809    |0.71    |64.02      |11.89  |Normal|0.168|-0.091|0.043|0    |\n",
      "+-------------------+----------+---------+--------+-----------+-------+------+-----+------+-----+-----+\n",
      "\n"
     ]
    },
    {
     "name": "stderr",
     "output_type": "stream",
     "text": [
      "                                                                                \r"
     ]
    },
    {
     "name": "stdout",
     "output_type": "stream",
     "text": [
      "-------------------------------------------\n",
      "Batch: 882\n",
      "-------------------------------------------\n",
      "+-------------------+----------+---------+--------+-----------+-------+------+-----+-----+-----+-----+\n",
      "|event_timestamp    |machine_id|vibration|acoustic|temperature|current|status|IMF_1|IMF_2|IMF_3|label|\n",
      "+-------------------+----------+---------+--------+-----------+-------+------+-----+-----+-----+-----+\n",
      "|2024-07-01 14:06:00|M02       |0.817    |0.565   |68.48      |12.19  |Normal|0.245|0.067|0.043|0    |\n",
      "+-------------------+----------+---------+--------+-----------+-------+------+-----+-----+-----+-----+\n",
      "\n",
      "-------------------------------------------\n",
      "Batch: 883\n",
      "-------------------------------------------\n",
      "+-------------------+----------+---------+--------+-----------+-------+------+-----+------+-----+-----+\n",
      "|event_timestamp    |machine_id|vibration|acoustic|temperature|current|status|IMF_1|IMF_2 |IMF_3|label|\n",
      "+-------------------+----------+---------+--------+-----------+-------+------+-----+------+-----+-----+\n",
      "|2024-07-01 14:07:00|M02       |0.771    |0.583   |64.75      |12.42  |Normal|0.204|-0.115|0.044|0    |\n",
      "+-------------------+----------+---------+--------+-----------+-------+------+-----+------+-----+-----+\n",
      "\n",
      "-------------------------------------------\n",
      "Batch: 884\n",
      "-------------------------------------------\n",
      "+-------------------+----------+---------+--------+-----------+-------+------+-----+------+-----+-----+\n",
      "|event_timestamp    |machine_id|vibration|acoustic|temperature|current|status|IMF_1|IMF_2 |IMF_3|label|\n",
      "+-------------------+----------+---------+--------+-----------+-------+------+-----+------+-----+-----+\n",
      "|2024-07-01 14:08:00|M02       |0.86     |0.607   |64.57      |11.66  |Normal|0.137|-0.036|0.044|0    |\n",
      "+-------------------+----------+---------+--------+-----------+-------+------+-----+------+-----+-----+\n",
      "\n"
     ]
    },
    {
     "name": "stderr",
     "output_type": "stream",
     "text": [
      "                                                                                \r"
     ]
    },
    {
     "name": "stdout",
     "output_type": "stream",
     "text": [
      "-------------------------------------------\n",
      "Batch: 885\n",
      "-------------------------------------------\n",
      "+-------------------+----------+---------+--------+-----------+-------+------+-----+------+-----+-----+\n",
      "|event_timestamp    |machine_id|vibration|acoustic|temperature|current|status|IMF_1|IMF_2 |IMF_3|label|\n",
      "+-------------------+----------+---------+--------+-----------+-------+------+-----+------+-----+-----+\n",
      "|2024-07-01 14:09:00|M02       |0.823    |0.559   |65.18      |11.94  |Normal|0.164|-0.035|0.044|0    |\n",
      "+-------------------+----------+---------+--------+-----------+-------+------+-----+------+-----+-----+\n",
      "\n",
      "-------------------------------------------\n",
      "Batch: 886\n",
      "-------------------------------------------\n",
      "+-------------------+----------+---------+--------+-----------+-------+------+-----+-----+-----+-----+\n",
      "|event_timestamp    |machine_id|vibration|acoustic|temperature|current|status|IMF_1|IMF_2|IMF_3|label|\n",
      "+-------------------+----------+---------+--------+-----------+-------+------+-----+-----+-----+-----+\n",
      "|2024-07-01 14:10:00|M02       |0.854    |0.548   |63.8       |12.05  |Normal|0.22 |0.087|0.045|0    |\n",
      "+-------------------+----------+---------+--------+-----------+-------+------+-----+-----+-----+-----+\n",
      "\n",
      "-------------------------------------------\n",
      "Batch: 887\n",
      "-------------------------------------------\n",
      "+-------------------+----------+---------+--------+-----------+-------+------+-----+-----+-----+-----+\n",
      "|event_timestamp    |machine_id|vibration|acoustic|temperature|current|status|IMF_1|IMF_2|IMF_3|label|\n",
      "+-------------------+----------+---------+--------+-----------+-------+------+-----+-----+-----+-----+\n",
      "|2024-07-01 14:11:00|M02       |0.743    |0.607   |66.04      |11.99  |Normal|0.218|0.085|0.045|0    |\n",
      "+-------------------+----------+---------+--------+-----------+-------+------+-----+-----+-----+-----+\n",
      "\n",
      "-------------------------------------------\n",
      "Batch: 888\n",
      "-------------------------------------------\n",
      "+-------------------+----------+---------+--------+-----------+-------+----------------+-----+-----+-----+-----+\n",
      "|event_timestamp    |machine_id|vibration|acoustic|temperature|current|status          |IMF_1|IMF_2|IMF_3|label|\n",
      "+-------------------+----------+---------+--------+-----------+-------+----------------+-----+-----+-----+-----+\n",
      "|2024-07-01 14:12:00|M02       |1.114    |0.852   |75.71      |14.59  |Failure Detected|0.29 |0.025|0.046|1    |\n",
      "+-------------------+----------+---------+--------+-----------+-------+----------------+-----+-----+-----+-----+\n",
      "\n",
      "-------------------------------------------\n",
      "Batch: 889\n",
      "-------------------------------------------\n",
      "+-------------------+----------+---------+--------+-----------+-------+------+-----+------+-----+-----+\n",
      "|event_timestamp    |machine_id|vibration|acoustic|temperature|current|status|IMF_1|IMF_2 |IMF_3|label|\n",
      "+-------------------+----------+---------+--------+-----------+-------+------+-----+------+-----+-----+\n",
      "|2024-07-01 14:13:00|M02       |0.792    |0.638   |63.35      |12.13  |Normal|0.204|-0.029|0.046|0    |\n",
      "+-------------------+----------+---------+--------+-----------+-------+------+-----+------+-----+-----+\n",
      "\n",
      "-------------------------------------------\n",
      "Batch: 890\n",
      "-------------------------------------------\n",
      "+-------------------+----------+---------+--------+-----------+-------+------+-----+------+-----+-----+\n",
      "|event_timestamp    |machine_id|vibration|acoustic|temperature|current|status|IMF_1|IMF_2 |IMF_3|label|\n",
      "+-------------------+----------+---------+--------+-----------+-------+------+-----+------+-----+-----+\n",
      "|2024-07-01 14:14:00|M02       |0.759    |0.536   |66.36      |12.28  |Normal|0.094|-0.022|0.047|0    |\n",
      "+-------------------+----------+---------+--------+-----------+-------+------+-----+------+-----+-----+\n",
      "\n",
      "-------------------------------------------\n",
      "Batch: 891\n",
      "-------------------------------------------\n",
      "+-------------------+----------+---------+--------+-----------+-------+------+-----+------+-----+-----+\n",
      "|event_timestamp    |machine_id|vibration|acoustic|temperature|current|status|IMF_1|IMF_2 |IMF_3|label|\n",
      "+-------------------+----------+---------+--------+-----------+-------+------+-----+------+-----+-----+\n",
      "|2024-07-01 14:15:00|M02       |0.786    |0.568   |64.46      |11.68  |Normal|0.103|-0.089|0.047|0    |\n",
      "+-------------------+----------+---------+--------+-----------+-------+------+-----+------+-----+-----+\n",
      "\n"
     ]
    },
    {
     "name": "stderr",
     "output_type": "stream",
     "text": [
      "                                                                                \r"
     ]
    },
    {
     "name": "stdout",
     "output_type": "stream",
     "text": [
      "-------------------------------------------\n",
      "Batch: 892\n",
      "-------------------------------------------\n",
      "+-------------------+----------+---------+--------+-----------+-------+------+-----+------+-----+-----+\n",
      "|event_timestamp    |machine_id|vibration|acoustic|temperature|current|status|IMF_1|IMF_2 |IMF_3|label|\n",
      "+-------------------+----------+---------+--------+-----------+-------+------+-----+------+-----+-----+\n",
      "|2024-07-01 14:16:00|M02       |0.859    |0.586   |62.44      |12.43  |Normal|0.24 |-0.033|0.047|0    |\n",
      "+-------------------+----------+---------+--------+-----------+-------+------+-----+------+-----+-----+\n",
      "\n"
     ]
    },
    {
     "name": "stderr",
     "output_type": "stream",
     "text": [
      "                                                                                \r"
     ]
    },
    {
     "name": "stdout",
     "output_type": "stream",
     "text": [
      "-------------------------------------------\n",
      "Batch: 893\n",
      "-------------------------------------------\n",
      "+-------------------+----------+---------+--------+-----------+-------+----------------+-----+------+-----+-----+\n",
      "|event_timestamp    |machine_id|vibration|acoustic|temperature|current|status          |IMF_1|IMF_2 |IMF_3|label|\n",
      "+-------------------+----------+---------+--------+-----------+-------+----------------+-----+------+-----+-----+\n",
      "|2024-07-01 14:17:00|M02       |1.239    |0.999   |73.69      |14.05  |Failure Detected|0.169|-0.144|0.048|1    |\n",
      "+-------------------+----------+---------+--------+-----------+-------+----------------+-----+------+-----+-----+\n",
      "\n",
      "-------------------------------------------\n",
      "Batch: 894\n",
      "-------------------------------------------\n",
      "+-------------------+----------+---------+--------+-----------+-------+------+-----+------+-----+-----+\n",
      "|event_timestamp    |machine_id|vibration|acoustic|temperature|current|status|IMF_1|IMF_2 |IMF_3|label|\n",
      "+-------------------+----------+---------+--------+-----------+-------+------+-----+------+-----+-----+\n",
      "|2024-07-01 14:18:00|M02       |0.703    |0.61    |62.94      |12.97  |Normal|0.113|-0.001|0.048|0    |\n",
      "+-------------------+----------+---------+--------+-----------+-------+------+-----+------+-----+-----+\n",
      "\n"
     ]
    },
    {
     "name": "stderr",
     "output_type": "stream",
     "text": [
      "                                                                                \r"
     ]
    },
    {
     "name": "stdout",
     "output_type": "stream",
     "text": [
      "-------------------------------------------\n",
      "Batch: 895\n",
      "-------------------------------------------\n",
      "+-------------------+----------+---------+--------+-----------+-------+------+-----+-----+-----+-----+\n",
      "|event_timestamp    |machine_id|vibration|acoustic|temperature|current|status|IMF_1|IMF_2|IMF_3|label|\n",
      "+-------------------+----------+---------+--------+-----------+-------+------+-----+-----+-----+-----+\n",
      "|2024-07-01 14:19:00|M02       |0.795    |0.579   |66.25      |12.46  |Normal|0.179|0.114|0.048|0    |\n",
      "+-------------------+----------+---------+--------+-----------+-------+------+-----+-----+-----+-----+\n",
      "\n"
     ]
    },
    {
     "name": "stderr",
     "output_type": "stream",
     "text": [
      "                                                                                \r"
     ]
    },
    {
     "name": "stdout",
     "output_type": "stream",
     "text": [
      "-------------------------------------------\n",
      "Batch: 896\n",
      "-------------------------------------------\n",
      "+-------------------+----------+---------+--------+-----------+-------+------+-----+-----+-----+-----+\n",
      "|event_timestamp    |machine_id|vibration|acoustic|temperature|current|status|IMF_1|IMF_2|IMF_3|label|\n",
      "+-------------------+----------+---------+--------+-----------+-------+------+-----+-----+-----+-----+\n",
      "|2024-07-01 14:20:00|M02       |0.74     |0.547   |64.67      |11.96  |Normal|0.126|0.101|0.048|0    |\n",
      "+-------------------+----------+---------+--------+-----------+-------+------+-----+-----+-----+-----+\n",
      "\n",
      "-------------------------------------------\n",
      "Batch: 897\n",
      "-------------------------------------------\n",
      "+-------------------+----------+---------+--------+-----------+-------+------+-----+-----+-----+-----+\n",
      "|event_timestamp    |machine_id|vibration|acoustic|temperature|current|status|IMF_1|IMF_2|IMF_3|label|\n",
      "+-------------------+----------+---------+--------+-----------+-------+------+-----+-----+-----+-----+\n",
      "|2024-07-01 14:21:00|M02       |0.76     |0.556   |61.57      |11.75  |Normal|0.199|0.014|0.049|0    |\n",
      "+-------------------+----------+---------+--------+-----------+-------+------+-----+-----+-----+-----+\n",
      "\n"
     ]
    },
    {
     "name": "stderr",
     "output_type": "stream",
     "text": [
      "                                                                                \r"
     ]
    },
    {
     "name": "stdout",
     "output_type": "stream",
     "text": [
      "-------------------------------------------\n",
      "Batch: 898\n",
      "-------------------------------------------\n",
      "+-------------------+----------+---------+--------+-----------+-------+----------------+-----+------+-----+-----+\n",
      "|event_timestamp    |machine_id|vibration|acoustic|temperature|current|status          |IMF_1|IMF_2 |IMF_3|label|\n",
      "+-------------------+----------+---------+--------+-----------+-------+----------------+-----+------+-----+-----+\n",
      "|2024-07-01 14:22:00|M02       |1.125    |1.002   |79.69      |15.44  |Failure Detected|0.211|-0.088|0.049|1    |\n",
      "+-------------------+----------+---------+--------+-----------+-------+----------------+-----+------+-----+-----+\n",
      "\n"
     ]
    },
    {
     "name": "stderr",
     "output_type": "stream",
     "text": [
      "                                                                                \r"
     ]
    },
    {
     "name": "stdout",
     "output_type": "stream",
     "text": [
      "-------------------------------------------\n",
      "Batch: 899\n",
      "-------------------------------------------\n",
      "+-------------------+----------+---------+--------+-----------+-------+------+-----+------+-----+-----+\n",
      "|event_timestamp    |machine_id|vibration|acoustic|temperature|current|status|IMF_1|IMF_2 |IMF_3|label|\n",
      "+-------------------+----------+---------+--------+-----------+-------+------+-----+------+-----+-----+\n",
      "|2024-07-01 14:23:00|M02       |0.863    |0.601   |67.14      |12.45  |Normal|0.253|-0.056|0.049|0    |\n",
      "+-------------------+----------+---------+--------+-----------+-------+------+-----+------+-----+-----+\n",
      "\n",
      "-------------------------------------------\n",
      "Batch: 900\n",
      "-------------------------------------------\n",
      "+-------------------+----------+---------+--------+-----------+-------+------+-----+------+-----+-----+\n",
      "|event_timestamp    |machine_id|vibration|acoustic|temperature|current|status|IMF_1|IMF_2 |IMF_3|label|\n",
      "+-------------------+----------+---------+--------+-----------+-------+------+-----+------+-----+-----+\n",
      "|2024-07-01 14:24:00|M02       |0.839    |0.603   |66.2       |12.56  |Normal|0.245|-0.092|0.049|0    |\n",
      "+-------------------+----------+---------+--------+-----------+-------+------+-----+------+-----+-----+\n",
      "\n"
     ]
    },
    {
     "name": "stderr",
     "output_type": "stream",
     "text": [
      "                                                                                \r"
     ]
    },
    {
     "name": "stdout",
     "output_type": "stream",
     "text": [
      "-------------------------------------------\n",
      "Batch: 901\n",
      "-------------------------------------------\n",
      "+-------------------+----------+---------+--------+-----------+-------+------+-----+-----+-----+-----+\n",
      "|event_timestamp    |machine_id|vibration|acoustic|temperature|current|status|IMF_1|IMF_2|IMF_3|label|\n",
      "+-------------------+----------+---------+--------+-----------+-------+------+-----+-----+-----+-----+\n",
      "|2024-07-01 14:25:00|M02       |0.87     |0.572   |64.92      |11.48  |Normal|0.139|0.041|0.049|0    |\n",
      "+-------------------+----------+---------+--------+-----------+-------+------+-----+-----+-----+-----+\n",
      "\n",
      "-------------------------------------------\n",
      "Batch: 902\n",
      "-------------------------------------------\n",
      "+-------------------+----------+---------+--------+-----------+-------+------+-----+------+-----+-----+\n",
      "|event_timestamp    |machine_id|vibration|acoustic|temperature|current|status|IMF_1|IMF_2 |IMF_3|label|\n",
      "+-------------------+----------+---------+--------+-----------+-------+------+-----+------+-----+-----+\n",
      "|2024-07-01 14:26:00|M02       |0.87     |0.571   |64.39      |11.47  |Normal|0.145|-0.053|0.05 |0    |\n",
      "+-------------------+----------+---------+--------+-----------+-------+------+-----+------+-----+-----+\n",
      "\n",
      "-------------------------------------------\n",
      "Batch: 903\n",
      "-------------------------------------------\n",
      "+-------------------+----------+---------+--------+-----------+-------+------+-----+-----+-----+-----+\n",
      "|event_timestamp    |machine_id|vibration|acoustic|temperature|current|status|IMF_1|IMF_2|IMF_3|label|\n",
      "+-------------------+----------+---------+--------+-----------+-------+------+-----+-----+-----+-----+\n",
      "|2024-07-01 14:27:00|M02       |0.816    |0.578   |63.53      |12.25  |Normal|0.137|0.063|0.05 |0    |\n",
      "+-------------------+----------+---------+--------+-----------+-------+------+-----+-----+-----+-----+\n",
      "\n",
      "-------------------------------------------\n",
      "Batch: 904\n",
      "-------------------------------------------\n",
      "+-------------------+----------+---------+--------+-----------+-------+------+-----+------+-----+-----+\n",
      "|event_timestamp    |machine_id|vibration|acoustic|temperature|current|status|IMF_1|IMF_2 |IMF_3|label|\n",
      "+-------------------+----------+---------+--------+-----------+-------+------+-----+------+-----+-----+\n",
      "|2024-07-01 14:28:00|M02       |0.873    |0.609   |63.23      |12.38  |Normal|0.156|-0.082|0.05 |0    |\n",
      "+-------------------+----------+---------+--------+-----------+-------+------+-----+------+-----+-----+\n",
      "\n"
     ]
    },
    {
     "name": "stderr",
     "output_type": "stream",
     "text": [
      "                                                                                \r"
     ]
    },
    {
     "name": "stdout",
     "output_type": "stream",
     "text": [
      "-------------------------------------------\n",
      "Batch: 905\n",
      "-------------------------------------------\n",
      "+-------------------+----------+---------+--------+-----------+-------+------+-----+-----+-----+-----+\n",
      "|event_timestamp    |machine_id|vibration|acoustic|temperature|current|status|IMF_1|IMF_2|IMF_3|label|\n",
      "+-------------------+----------+---------+--------+-----------+-------+------+-----+-----+-----+-----+\n",
      "|2024-07-01 14:29:00|M02       |0.813    |0.634   |65.38      |11.76  |Normal|0.117|0.064|0.05 |0    |\n",
      "+-------------------+----------+---------+--------+-----------+-------+------+-----+-----+-----+-----+\n",
      "\n",
      "-------------------------------------------\n",
      "Batch: 906\n",
      "-------------------------------------------\n",
      "+-------------------+----------+---------+--------+-----------+-------+------+-----+------+-----+-----+\n",
      "|event_timestamp    |machine_id|vibration|acoustic|temperature|current|status|IMF_1|IMF_2 |IMF_3|label|\n",
      "+-------------------+----------+---------+--------+-----------+-------+------+-----+------+-----+-----+\n",
      "|2024-07-01 14:30:00|M02       |0.896    |0.531   |66.77      |11.48  |Normal|0.173|-0.037|0.05 |0    |\n",
      "+-------------------+----------+---------+--------+-----------+-------+------+-----+------+-----+-----+\n",
      "\n"
     ]
    },
    {
     "name": "stderr",
     "output_type": "stream",
     "text": [
      "                                                                                \r"
     ]
    },
    {
     "name": "stdout",
     "output_type": "stream",
     "text": [
      "-------------------------------------------\n",
      "Batch: 907\n",
      "-------------------------------------------\n",
      "+-------------------+----------+---------+--------+-----------+-------+------+-----+-----+-----+-----+\n",
      "|event_timestamp    |machine_id|vibration|acoustic|temperature|current|status|IMF_1|IMF_2|IMF_3|label|\n",
      "+-------------------+----------+---------+--------+-----------+-------+------+-----+-----+-----+-----+\n",
      "|2024-07-01 14:31:00|M02       |0.877    |0.613   |62.51      |12.03  |Normal|0.21 |0.117|0.05 |0    |\n",
      "+-------------------+----------+---------+--------+-----------+-------+------+-----+-----+-----+-----+\n",
      "\n",
      "-------------------------------------------\n",
      "Batch: 908\n",
      "-------------------------------------------\n",
      "+-------------------+----------+---------+--------+-----------+-------+------+-----+------+-----+-----+\n",
      "|event_timestamp    |machine_id|vibration|acoustic|temperature|current|status|IMF_1|IMF_2 |IMF_3|label|\n",
      "+-------------------+----------+---------+--------+-----------+-------+------+-----+------+-----+-----+\n",
      "|2024-07-01 14:32:00|M02       |0.774    |0.573   |71.36      |11.64  |Normal|0.127|-0.097|0.05 |0    |\n",
      "+-------------------+----------+---------+--------+-----------+-------+------+-----+------+-----+-----+\n",
      "\n",
      "-------------------------------------------\n",
      "Batch: 909\n",
      "-------------------------------------------\n",
      "+-------------------+----------+---------+--------+-----------+-------+------+-----+-----+-----+-----+\n",
      "|event_timestamp    |machine_id|vibration|acoustic|temperature|current|status|IMF_1|IMF_2|IMF_3|label|\n",
      "+-------------------+----------+---------+--------+-----------+-------+------+-----+-----+-----+-----+\n",
      "|2024-07-01 14:33:00|M02       |0.9      |0.631   |65.18      |12.14  |Normal|0.155|-0.12|0.05 |0    |\n",
      "+-------------------+----------+---------+--------+-----------+-------+------+-----+-----+-----+-----+\n",
      "\n",
      "-------------------------------------------\n",
      "Batch: 910\n",
      "-------------------------------------------\n",
      "+-------------------+----------+---------+--------+-----------+-------+------+-----+-----+-----+-----+\n",
      "|event_timestamp    |machine_id|vibration|acoustic|temperature|current|status|IMF_1|IMF_2|IMF_3|label|\n",
      "+-------------------+----------+---------+--------+-----------+-------+------+-----+-----+-----+-----+\n",
      "|2024-07-01 14:34:00|M02       |0.86     |0.549   |62.39      |12.86  |Normal|0.215|-0.02|0.05 |0    |\n",
      "+-------------------+----------+---------+--------+-----------+-------+------+-----+-----+-----+-----+\n",
      "\n"
     ]
    },
    {
     "name": "stderr",
     "output_type": "stream",
     "text": [
      "                                                                                \r"
     ]
    },
    {
     "name": "stdout",
     "output_type": "stream",
     "text": [
      "-------------------------------------------\n",
      "Batch: 911\n",
      "-------------------------------------------\n",
      "+-------------------+----------+---------+--------+-----------+-------+------+-----+-----+-----+-----+\n",
      "|event_timestamp    |machine_id|vibration|acoustic|temperature|current|status|IMF_1|IMF_2|IMF_3|label|\n",
      "+-------------------+----------+---------+--------+-----------+-------+------+-----+-----+-----+-----+\n",
      "|2024-07-01 14:35:00|M02       |0.772    |0.558   |68.7       |11.0   |Normal|0.111|0.109|0.05 |0    |\n",
      "+-------------------+----------+---------+--------+-----------+-------+------+-----+-----+-----+-----+\n",
      "\n",
      "-------------------------------------------\n",
      "Batch: 912\n",
      "-------------------------------------------\n",
      "+-------------------+----------+---------+--------+-----------+-------+----------------+-----+-----+-----+-----+\n",
      "|event_timestamp    |machine_id|vibration|acoustic|temperature|current|status          |IMF_1|IMF_2|IMF_3|label|\n",
      "+-------------------+----------+---------+--------+-----------+-------+----------------+-----+-----+-----+-----+\n",
      "|2024-07-01 14:36:00|M02       |1.238    |0.949   |77.39      |16.12  |Failure Detected|0.218|0.07 |0.05 |1    |\n",
      "+-------------------+----------+---------+--------+-----------+-------+----------------+-----+-----+-----+-----+\n",
      "\n",
      "-------------------------------------------\n",
      "Batch: 913\n",
      "-------------------------------------------\n",
      "+-------------------+----------+---------+--------+-----------+-------+------+-----+-----+-----+-----+\n",
      "|event_timestamp    |machine_id|vibration|acoustic|temperature|current|status|IMF_1|IMF_2|IMF_3|label|\n",
      "+-------------------+----------+---------+--------+-----------+-------+------+-----+-----+-----+-----+\n",
      "|2024-07-01 14:37:00|M02       |0.864    |0.658   |66.31      |12.47  |Normal|0.237|0.083|0.05 |0    |\n",
      "+-------------------+----------+---------+--------+-----------+-------+------+-----+-----+-----+-----+\n",
      "\n",
      "-------------------------------------------\n",
      "Batch: 914\n",
      "-------------------------------------------\n",
      "+-------------------+----------+---------+--------+-----------+-------+----------------+-----+-----+-----+-----+\n",
      "|event_timestamp    |machine_id|vibration|acoustic|temperature|current|status          |IMF_1|IMF_2|IMF_3|label|\n",
      "+-------------------+----------+---------+--------+-----------+-------+----------------+-----+-----+-----+-----+\n",
      "|2024-07-01 14:38:00|M02       |1.103    |0.782   |73.4       |15.07  |Failure Detected|0.175|0.074|0.05 |1    |\n",
      "+-------------------+----------+---------+--------+-----------+-------+----------------+-----+-----+-----+-----+\n",
      "\n",
      "-------------------------------------------\n",
      "Batch: 915\n",
      "-------------------------------------------\n",
      "+-------------------+----------+---------+--------+-----------+-------+------+-----+------+-----+-----+\n",
      "|event_timestamp    |machine_id|vibration|acoustic|temperature|current|status|IMF_1|IMF_2 |IMF_3|label|\n",
      "+-------------------+----------+---------+--------+-----------+-------+------+-----+------+-----+-----+\n",
      "|2024-07-01 14:39:00|M02       |0.785    |0.591   |64.6       |12.12  |Normal|0.218|-0.097|0.05 |0    |\n",
      "+-------------------+----------+---------+--------+-----------+-------+------+-----+------+-----+-----+\n",
      "\n",
      "-------------------------------------------\n",
      "Batch: 916\n",
      "-------------------------------------------\n",
      "+-------------------+----------+---------+--------+-----------+-------+------+-----+------+-----+-----+\n",
      "|event_timestamp    |machine_id|vibration|acoustic|temperature|current|status|IMF_1|IMF_2 |IMF_3|label|\n",
      "+-------------------+----------+---------+--------+-----------+-------+------+-----+------+-----+-----+\n",
      "|2024-07-01 14:40:00|M02       |0.753    |0.648   |63.51      |12.89  |Normal|0.104|-0.001|0.049|0    |\n",
      "+-------------------+----------+---------+--------+-----------+-------+------+-----+------+-----+-----+\n",
      "\n",
      "-------------------------------------------\n",
      "Batch: 917\n",
      "-------------------------------------------\n",
      "+-------------------+----------+---------+--------+-----------+-------+------+-----+-----+-----+-----+\n",
      "|event_timestamp    |machine_id|vibration|acoustic|temperature|current|status|IMF_1|IMF_2|IMF_3|label|\n",
      "+-------------------+----------+---------+--------+-----------+-------+------+-----+-----+-----+-----+\n",
      "|2024-07-01 14:41:00|M02       |0.915    |0.619   |65.32      |11.52  |Normal|0.244|0.024|0.049|0    |\n",
      "+-------------------+----------+---------+--------+-----------+-------+------+-----+-----+-----+-----+\n",
      "\n",
      "-------------------------------------------\n",
      "Batch: 918\n",
      "-------------------------------------------\n",
      "+-------------------+----------+---------+--------+-----------+-------+------+-----+-----+-----+-----+\n",
      "|event_timestamp    |machine_id|vibration|acoustic|temperature|current|status|IMF_1|IMF_2|IMF_3|label|\n",
      "+-------------------+----------+---------+--------+-----------+-------+------+-----+-----+-----+-----+\n",
      "|2024-07-01 14:42:00|M02       |0.818    |0.565   |67.09      |12.06  |Normal|0.097|0.087|0.049|0    |\n",
      "+-------------------+----------+---------+--------+-----------+-------+------+-----+-----+-----+-----+\n",
      "\n",
      "-------------------------------------------\n",
      "Batch: 919\n",
      "-------------------------------------------\n",
      "+-------------------+----------+---------+--------+-----------+-------+------+-----+-----+-----+-----+\n",
      "|event_timestamp    |machine_id|vibration|acoustic|temperature|current|status|IMF_1|IMF_2|IMF_3|label|\n",
      "+-------------------+----------+---------+--------+-----------+-------+------+-----+-----+-----+-----+\n",
      "|2024-07-01 14:43:00|M02       |0.8      |0.521   |66.57      |12.68  |Normal|0.144|0.033|0.049|0    |\n",
      "+-------------------+----------+---------+--------+-----------+-------+------+-----+-----+-----+-----+\n",
      "\n",
      "-------------------------------------------\n",
      "Batch: 920\n",
      "-------------------------------------------\n",
      "+-------------------+----------+---------+--------+-----------+-------+------+-----+------+-----+-----+\n",
      "|event_timestamp    |machine_id|vibration|acoustic|temperature|current|status|IMF_1|IMF_2 |IMF_3|label|\n",
      "+-------------------+----------+---------+--------+-----------+-------+------+-----+------+-----+-----+\n",
      "|2024-07-01 14:44:00|M02       |0.855    |0.568   |66.19      |12.14  |Normal|0.149|-0.062|0.049|0    |\n",
      "+-------------------+----------+---------+--------+-----------+-------+------+-----+------+-----+-----+\n",
      "\n",
      "-------------------------------------------\n",
      "Batch: 921\n",
      "-------------------------------------------\n",
      "+-------------------+----------+---------+--------+-----------+-------+------+-----+-----+-----+-----+\n",
      "|event_timestamp    |machine_id|vibration|acoustic|temperature|current|status|IMF_1|IMF_2|IMF_3|label|\n",
      "+-------------------+----------+---------+--------+-----------+-------+------+-----+-----+-----+-----+\n",
      "|2024-07-01 14:45:00|M02       |0.771    |0.678   |65.61      |12.5   |Normal|0.142|0.077|0.048|0    |\n",
      "+-------------------+----------+---------+--------+-----------+-------+------+-----+-----+-----+-----+\n",
      "\n",
      "-------------------------------------------\n",
      "Batch: 922\n",
      "-------------------------------------------\n",
      "+-------------------+----------+---------+--------+-----------+-------+------+-----+------+-----+-----+\n",
      "|event_timestamp    |machine_id|vibration|acoustic|temperature|current|status|IMF_1|IMF_2 |IMF_3|label|\n",
      "+-------------------+----------+---------+--------+-----------+-------+------+-----+------+-----+-----+\n",
      "|2024-07-01 14:46:00|M02       |0.858    |0.62    |61.68      |11.96  |Normal|0.215|-0.113|0.048|0    |\n",
      "+-------------------+----------+---------+--------+-----------+-------+------+-----+------+-----+-----+\n",
      "\n",
      "-------------------------------------------\n",
      "Batch: 923\n",
      "-------------------------------------------\n",
      "+-------------------+----------+---------+--------+-----------+-------+------+-----+------+-----+-----+\n",
      "|event_timestamp    |machine_id|vibration|acoustic|temperature|current|status|IMF_1|IMF_2 |IMF_3|label|\n",
      "+-------------------+----------+---------+--------+-----------+-------+------+-----+------+-----+-----+\n",
      "|2024-07-01 14:47:00|M02       |0.825    |0.585   |63.85      |11.79  |Normal|0.229|-0.024|0.048|0    |\n",
      "+-------------------+----------+---------+--------+-----------+-------+------+-----+------+-----+-----+\n",
      "\n"
     ]
    },
    {
     "name": "stderr",
     "output_type": "stream",
     "text": [
      "                                                                                \r"
     ]
    },
    {
     "name": "stdout",
     "output_type": "stream",
     "text": [
      "-------------------------------------------\n",
      "Batch: 924\n",
      "-------------------------------------------\n",
      "+-------------------+----------+---------+--------+-----------+-------+------+-----+-----+-----+-----+\n",
      "|event_timestamp    |machine_id|vibration|acoustic|temperature|current|status|IMF_1|IMF_2|IMF_3|label|\n",
      "+-------------------+----------+---------+--------+-----------+-------+------+-----+-----+-----+-----+\n",
      "|2024-07-01 14:48:00|M02       |0.709    |0.613   |68.84      |11.9   |Normal|0.086|0.103|0.048|0    |\n",
      "+-------------------+----------+---------+--------+-----------+-------+------+-----+-----+-----+-----+\n",
      "\n",
      "-------------------------------------------\n",
      "Batch: 925\n",
      "-------------------------------------------\n",
      "+-------------------+----------+---------+--------+-----------+-------+----------------+-----+------+-----+-----+\n",
      "|event_timestamp    |machine_id|vibration|acoustic|temperature|current|status          |IMF_1|IMF_2 |IMF_3|label|\n",
      "+-------------------+----------+---------+--------+-----------+-------+----------------+-----+------+-----+-----+\n",
      "|2024-07-01 14:49:00|M02       |1.093    |0.843   |77.95      |15.58  |Failure Detected|0.17 |-0.135|0.047|1    |\n",
      "+-------------------+----------+---------+--------+-----------+-------+----------------+-----+------+-----+-----+\n",
      "\n"
     ]
    },
    {
     "name": "stderr",
     "output_type": "stream",
     "text": [
      "                                                                                \r"
     ]
    },
    {
     "name": "stdout",
     "output_type": "stream",
     "text": [
      "-------------------------------------------\n",
      "Batch: 926\n",
      "-------------------------------------------\n",
      "+-------------------+----------+---------+--------+-----------+-------+------+-----+------+-----+-----+\n",
      "|event_timestamp    |machine_id|vibration|acoustic|temperature|current|status|IMF_1|IMF_2 |IMF_3|label|\n",
      "+-------------------+----------+---------+--------+-----------+-------+------+-----+------+-----+-----+\n",
      "|2024-07-01 14:50:00|M02       |0.779    |0.558   |64.52      |11.79  |Normal|0.228|-0.006|0.047|0    |\n",
      "+-------------------+----------+---------+--------+-----------+-------+------+-----+------+-----+-----+\n",
      "\n",
      "-------------------------------------------\n",
      "Batch: 927\n",
      "-------------------------------------------\n",
      "+-------------------+----------+---------+--------+-----------+-------+------+-----+------+-----+-----+\n",
      "|event_timestamp    |machine_id|vibration|acoustic|temperature|current|status|IMF_1|IMF_2 |IMF_3|label|\n",
      "+-------------------+----------+---------+--------+-----------+-------+------+-----+------+-----+-----+\n",
      "|2024-07-01 14:51:00|M02       |0.775    |0.602   |64.61      |12.21  |Normal|0.143|-0.026|0.047|0    |\n",
      "+-------------------+----------+---------+--------+-----------+-------+------+-----+------+-----+-----+\n",
      "\n",
      "-------------------------------------------\n",
      "Batch: 928\n",
      "-------------------------------------------\n",
      "+-------------------+----------+---------+--------+-----------+-------+------+-----+-----+-----+-----+\n",
      "|event_timestamp    |machine_id|vibration|acoustic|temperature|current|status|IMF_1|IMF_2|IMF_3|label|\n",
      "+-------------------+----------+---------+--------+-----------+-------+------+-----+-----+-----+-----+\n",
      "|2024-07-01 14:52:00|M02       |0.807    |0.598   |66.74      |12.08  |Normal|0.099|0.068|0.046|0    |\n",
      "+-------------------+----------+---------+--------+-----------+-------+------+-----+-----+-----+-----+\n",
      "\n",
      "-------------------------------------------\n",
      "Batch: 929\n",
      "-------------------------------------------\n",
      "+-------------------+----------+---------+--------+-----------+-------+------+-----+-----+-----+-----+\n",
      "|event_timestamp    |machine_id|vibration|acoustic|temperature|current|status|IMF_1|IMF_2|IMF_3|label|\n",
      "+-------------------+----------+---------+--------+-----------+-------+------+-----+-----+-----+-----+\n",
      "|2024-07-01 14:53:00|M02       |0.815    |0.578   |64.09      |12.48  |Normal|0.167|0.067|0.046|0    |\n",
      "+-------------------+----------+---------+--------+-----------+-------+------+-----+-----+-----+-----+\n",
      "\n",
      "-------------------------------------------\n",
      "Batch: 930\n",
      "-------------------------------------------\n",
      "+-------------------+----------+---------+--------+-----------+-------+------+-----+------+-----+-----+\n",
      "|event_timestamp    |machine_id|vibration|acoustic|temperature|current|status|IMF_1|IMF_2 |IMF_3|label|\n",
      "+-------------------+----------+---------+--------+-----------+-------+------+-----+------+-----+-----+\n",
      "|2024-07-01 14:54:00|M02       |0.82     |0.608   |63.49      |11.71  |Normal|0.241|-0.096|0.046|0    |\n",
      "+-------------------+----------+---------+--------+-----------+-------+------+-----+------+-----+-----+\n",
      "\n",
      "-------------------------------------------\n",
      "Batch: 931\n",
      "-------------------------------------------\n",
      "+-------------------+----------+---------+--------+-----------+-------+------+-----+------+-----+-----+\n",
      "|event_timestamp    |machine_id|vibration|acoustic|temperature|current|status|IMF_1|IMF_2 |IMF_3|label|\n",
      "+-------------------+----------+---------+--------+-----------+-------+------+-----+------+-----+-----+\n",
      "|2024-07-01 14:55:00|M02       |0.817    |0.612   |65.42      |12.43  |Normal|0.193|-0.121|0.045|0    |\n",
      "+-------------------+----------+---------+--------+-----------+-------+------+-----+------+-----+-----+\n",
      "\n"
     ]
    },
    {
     "name": "stderr",
     "output_type": "stream",
     "text": [
      "                                                                                \r"
     ]
    },
    {
     "name": "stdout",
     "output_type": "stream",
     "text": [
      "-------------------------------------------\n",
      "Batch: 932\n",
      "-------------------------------------------\n",
      "+-------------------+----------+---------+--------+-----------+-------+------+-----+-----+-----+-----+\n",
      "|event_timestamp    |machine_id|vibration|acoustic|temperature|current|status|IMF_1|IMF_2|IMF_3|label|\n",
      "+-------------------+----------+---------+--------+-----------+-------+------+-----+-----+-----+-----+\n",
      "|2024-07-01 14:56:00|M02       |0.765    |0.461   |66.0       |12.16  |Normal|0.223|0.004|0.045|0    |\n",
      "+-------------------+----------+---------+--------+-----------+-------+------+-----+-----+-----+-----+\n",
      "\n",
      "-------------------------------------------\n",
      "Batch: 933\n",
      "-------------------------------------------\n",
      "+-------------------+----------+---------+--------+-----------+-------+------+-----+-----+-----+-----+\n",
      "|event_timestamp    |machine_id|vibration|acoustic|temperature|current|status|IMF_1|IMF_2|IMF_3|label|\n",
      "+-------------------+----------+---------+--------+-----------+-------+------+-----+-----+-----+-----+\n",
      "|2024-07-01 14:57:00|M02       |0.823    |0.541   |64.95      |12.18  |Normal|0.109|-0.05|0.044|0    |\n",
      "+-------------------+----------+---------+--------+-----------+-------+------+-----+-----+-----+-----+\n",
      "\n",
      "-------------------------------------------\n",
      "Batch: 934\n",
      "-------------------------------------------\n",
      "+-------------------+----------+---------+--------+-----------+-------+------+-----+-----+-----+-----+\n",
      "|event_timestamp    |machine_id|vibration|acoustic|temperature|current|status|IMF_1|IMF_2|IMF_3|label|\n",
      "+-------------------+----------+---------+--------+-----------+-------+------+-----+-----+-----+-----+\n",
      "|2024-07-01 14:58:00|M02       |0.85     |0.584   |62.05      |11.64  |Normal|0.225|0.068|0.044|0    |\n",
      "+-------------------+----------+---------+--------+-----------+-------+------+-----+-----+-----+-----+\n",
      "\n",
      "-------------------------------------------\n",
      "Batch: 935\n",
      "-------------------------------------------\n",
      "+-------------------+----------+---------+--------+-----------+-------+----------------+-----+-----+-----+-----+\n",
      "|event_timestamp    |machine_id|vibration|acoustic|temperature|current|status          |IMF_1|IMF_2|IMF_3|label|\n",
      "+-------------------+----------+---------+--------+-----------+-------+----------------+-----+-----+-----+-----+\n",
      "|2024-07-01 14:59:00|M02       |1.157    |0.904   |79.0       |14.32  |Failure Detected|0.205|0.031|0.043|1    |\n",
      "+-------------------+----------+---------+--------+-----------+-------+----------------+-----+-----+-----+-----+\n",
      "\n",
      "-------------------------------------------\n",
      "Batch: 936\n",
      "-------------------------------------------\n",
      "+-------------------+----------+---------+--------+-----------+-------+------+-----+-----+-----+-----+\n",
      "|event_timestamp    |machine_id|vibration|acoustic|temperature|current|status|IMF_1|IMF_2|IMF_3|label|\n",
      "+-------------------+----------+---------+--------+-----------+-------+------+-----+-----+-----+-----+\n",
      "|2024-07-01 15:00:00|M02       |0.736    |0.606   |63.52      |11.51  |Normal|0.219|0.025|0.043|0    |\n",
      "+-------------------+----------+---------+--------+-----------+-------+------+-----+-----+-----+-----+\n",
      "\n",
      "-------------------------------------------\n",
      "Batch: 937\n",
      "-------------------------------------------\n",
      "+-------------------+----------+---------+--------+-----------+-------+------+-----+------+-----+-----+\n",
      "|event_timestamp    |machine_id|vibration|acoustic|temperature|current|status|IMF_1|IMF_2 |IMF_3|label|\n",
      "+-------------------+----------+---------+--------+-----------+-------+------+-----+------+-----+-----+\n",
      "|2024-07-01 15:01:00|M02       |0.717    |0.574   |68.45      |12.05  |Normal|0.179|-0.025|0.042|0    |\n",
      "+-------------------+----------+---------+--------+-----------+-------+------+-----+------+-----+-----+\n",
      "\n",
      "-------------------------------------------\n",
      "Batch: 938\n",
      "-------------------------------------------\n",
      "+-------------------+----------+---------+--------+-----------+-------+------+-----+-----+-----+-----+\n",
      "|event_timestamp    |machine_id|vibration|acoustic|temperature|current|status|IMF_1|IMF_2|IMF_3|label|\n",
      "+-------------------+----------+---------+--------+-----------+-------+------+-----+-----+-----+-----+\n",
      "|2024-07-01 15:02:00|M02       |0.827    |0.687   |65.35      |11.95  |Normal|0.218|0.091|0.042|0    |\n",
      "+-------------------+----------+---------+--------+-----------+-------+------+-----+-----+-----+-----+\n",
      "\n",
      "-------------------------------------------\n",
      "Batch: 939\n",
      "-------------------------------------------\n",
      "+-------------------+----------+---------+--------+-----------+-------+------+-----+------+-----+-----+\n",
      "|event_timestamp    |machine_id|vibration|acoustic|temperature|current|status|IMF_1|IMF_2 |IMF_3|label|\n",
      "+-------------------+----------+---------+--------+-----------+-------+------+-----+------+-----+-----+\n",
      "|2024-07-01 15:03:00|M02       |0.768    |0.673   |66.32      |11.84  |Normal|0.215|-0.062|0.041|0    |\n",
      "+-------------------+----------+---------+--------+-----------+-------+------+-----+------+-----+-----+\n",
      "\n",
      "-------------------------------------------\n",
      "Batch: 940\n",
      "-------------------------------------------\n",
      "+-------------------+----------+---------+--------+-----------+-------+------+-----+-----+-----+-----+\n",
      "|event_timestamp    |machine_id|vibration|acoustic|temperature|current|status|IMF_1|IMF_2|IMF_3|label|\n",
      "+-------------------+----------+---------+--------+-----------+-------+------+-----+-----+-----+-----+\n",
      "|2024-07-01 15:04:00|M02       |0.76     |0.604   |66.15      |11.85  |Normal|0.099|0.093|0.041|0    |\n",
      "+-------------------+----------+---------+--------+-----------+-------+------+-----+-----+-----+-----+\n",
      "\n",
      "-------------------------------------------\n",
      "Batch: 941\n",
      "-------------------------------------------\n",
      "+-------------------+----------+---------+--------+-----------+-------+------+-----+------+-----+-----+\n",
      "|event_timestamp    |machine_id|vibration|acoustic|temperature|current|status|IMF_1|IMF_2 |IMF_3|label|\n",
      "+-------------------+----------+---------+--------+-----------+-------+------+-----+------+-----+-----+\n",
      "|2024-07-01 15:05:00|M02       |0.765    |0.602   |65.9       |11.04  |Normal|0.125|-0.084|0.04 |0    |\n",
      "+-------------------+----------+---------+--------+-----------+-------+------+-----+------+-----+-----+\n",
      "\n",
      "-------------------------------------------\n",
      "Batch: 942\n",
      "-------------------------------------------\n",
      "+-------------------+----------+---------+--------+-----------+-------+------+-----+-----+-----+-----+\n",
      "|event_timestamp    |machine_id|vibration|acoustic|temperature|current|status|IMF_1|IMF_2|IMF_3|label|\n",
      "+-------------------+----------+---------+--------+-----------+-------+------+-----+-----+-----+-----+\n",
      "|2024-07-01 15:06:00|M02       |0.822    |0.596   |69.13      |13.02  |Normal|0.11 |0.077|0.039|0    |\n",
      "+-------------------+----------+---------+--------+-----------+-------+------+-----+-----+-----+-----+\n",
      "\n",
      "-------------------------------------------\n",
      "Batch: 943\n",
      "-------------------------------------------\n",
      "+-------------------+----------+---------+--------+-----------+-------+------+-----+------+-----+-----+\n",
      "|event_timestamp    |machine_id|vibration|acoustic|temperature|current|status|IMF_1|IMF_2 |IMF_3|label|\n",
      "+-------------------+----------+---------+--------+-----------+-------+------+-----+------+-----+-----+\n",
      "|2024-07-01 15:07:00|M02       |0.73     |0.607   |65.37      |10.46  |Normal|0.123|-0.092|0.039|0    |\n",
      "+-------------------+----------+---------+--------+-----------+-------+------+-----+------+-----+-----+\n",
      "\n",
      "-------------------------------------------\n",
      "Batch: 944\n",
      "-------------------------------------------\n",
      "+-------------------+----------+---------+--------+-----------+-------+------+-----+------+-----+-----+\n",
      "|event_timestamp    |machine_id|vibration|acoustic|temperature|current|status|IMF_1|IMF_2 |IMF_3|label|\n",
      "+-------------------+----------+---------+--------+-----------+-------+------+-----+------+-----+-----+\n",
      "|2024-07-01 15:08:00|M02       |0.848    |0.584   |65.02      |12.43  |Normal|0.158|-0.107|0.038|0    |\n",
      "+-------------------+----------+---------+--------+-----------+-------+------+-----+------+-----+-----+\n",
      "\n",
      "-------------------------------------------\n",
      "Batch: 945\n",
      "-------------------------------------------\n",
      "+-------------------+----------+---------+--------+-----------+-------+------+-----+------+-----+-----+\n",
      "|event_timestamp    |machine_id|vibration|acoustic|temperature|current|status|IMF_1|IMF_2 |IMF_3|label|\n",
      "+-------------------+----------+---------+--------+-----------+-------+------+-----+------+-----+-----+\n",
      "|2024-07-01 15:09:00|M02       |0.795    |0.605   |60.97      |12.45  |Normal|0.095|-0.049|0.037|0    |\n",
      "+-------------------+----------+---------+--------+-----------+-------+------+-----+------+-----+-----+\n",
      "\n",
      "-------------------------------------------\n",
      "Batch: 946\n",
      "-------------------------------------------\n",
      "+-------------------+----------+---------+--------+-----------+-------+------+-----+------+-----+-----+\n",
      "|event_timestamp    |machine_id|vibration|acoustic|temperature|current|status|IMF_1|IMF_2 |IMF_3|label|\n",
      "+-------------------+----------+---------+--------+-----------+-------+------+-----+------+-----+-----+\n",
      "|2024-07-01 15:10:00|M02       |0.793    |0.666   |65.53      |12.12  |Normal|0.126|-0.025|0.037|0    |\n",
      "+-------------------+----------+---------+--------+-----------+-------+------+-----+------+-----+-----+\n",
      "\n",
      "-------------------------------------------\n",
      "Batch: 947\n",
      "-------------------------------------------\n",
      "+-------------------+----------+---------+--------+-----------+-------+------+-----+-----+-----+-----+\n",
      "|event_timestamp    |machine_id|vibration|acoustic|temperature|current|status|IMF_1|IMF_2|IMF_3|label|\n",
      "+-------------------+----------+---------+--------+-----------+-------+------+-----+-----+-----+-----+\n",
      "|2024-07-01 15:11:00|M02       |0.713    |0.606   |63.92      |12.04  |Normal|0.165|0.074|0.036|0    |\n",
      "+-------------------+----------+---------+--------+-----------+-------+------+-----+-----+-----+-----+\n",
      "\n",
      "-------------------------------------------\n",
      "Batch: 948\n",
      "-------------------------------------------\n",
      "+-------------------+----------+---------+--------+-----------+-------+------+-----+-----+-----+-----+\n",
      "|event_timestamp    |machine_id|vibration|acoustic|temperature|current|status|IMF_1|IMF_2|IMF_3|label|\n",
      "+-------------------+----------+---------+--------+-----------+-------+------+-----+-----+-----+-----+\n",
      "|2024-07-01 15:12:00|M02       |0.882    |0.547   |65.5       |12.16  |Normal|0.097|0.082|0.035|0    |\n",
      "+-------------------+----------+---------+--------+-----------+-------+------+-----+-----+-----+-----+\n",
      "\n",
      "-------------------------------------------\n",
      "Batch: 949\n",
      "-------------------------------------------\n",
      "+-------------------+----------+---------+--------+-----------+-------+------+-----+------+-----+-----+\n",
      "|event_timestamp    |machine_id|vibration|acoustic|temperature|current|status|IMF_1|IMF_2 |IMF_3|label|\n",
      "+-------------------+----------+---------+--------+-----------+-------+------+-----+------+-----+-----+\n",
      "|2024-07-01 15:13:00|M02       |0.759    |0.684   |65.11      |12.04  |Normal|0.105|-0.016|0.035|0    |\n",
      "+-------------------+----------+---------+--------+-----------+-------+------+-----+------+-----+-----+\n",
      "\n"
     ]
    },
    {
     "name": "stderr",
     "output_type": "stream",
     "text": [
      "                                                                                \r"
     ]
    },
    {
     "name": "stdout",
     "output_type": "stream",
     "text": [
      "-------------------------------------------\n",
      "Batch: 950\n",
      "-------------------------------------------\n",
      "+-------------------+----------+---------+--------+-----------+-------+------+-----+-----+-----+-----+\n",
      "|event_timestamp    |machine_id|vibration|acoustic|temperature|current|status|IMF_1|IMF_2|IMF_3|label|\n",
      "+-------------------+----------+---------+--------+-----------+-------+------+-----+-----+-----+-----+\n",
      "|2024-07-01 15:14:00|M02       |0.79     |0.668   |65.89      |12.02  |Normal|0.191|0.118|0.034|0    |\n",
      "+-------------------+----------+---------+--------+-----------+-------+------+-----+-----+-----+-----+\n",
      "\n",
      "-------------------------------------------\n",
      "Batch: 951\n",
      "-------------------------------------------\n",
      "+-------------------+----------+---------+--------+-----------+-------+------+-----+------+-----+-----+\n",
      "|event_timestamp    |machine_id|vibration|acoustic|temperature|current|status|IMF_1|IMF_2 |IMF_3|label|\n",
      "+-------------------+----------+---------+--------+-----------+-------+------+-----+------+-----+-----+\n",
      "|2024-07-01 15:15:00|M02       |0.766    |0.595   |65.69      |12.05  |Normal|0.105|-0.034|0.033|0    |\n",
      "+-------------------+----------+---------+--------+-----------+-------+------+-----+------+-----+-----+\n",
      "\n",
      "-------------------------------------------\n",
      "Batch: 952\n",
      "-------------------------------------------\n",
      "+-------------------+----------+---------+--------+-----------+-------+------+-----+------+-----+-----+\n",
      "|event_timestamp    |machine_id|vibration|acoustic|temperature|current|status|IMF_1|IMF_2 |IMF_3|label|\n",
      "+-------------------+----------+---------+--------+-----------+-------+------+-----+------+-----+-----+\n",
      "|2024-07-01 15:16:00|M02       |0.773    |0.559   |66.97      |11.62  |Normal|0.209|-0.017|0.032|0    |\n",
      "+-------------------+----------+---------+--------+-----------+-------+------+-----+------+-----+-----+\n",
      "\n",
      "-------------------------------------------\n",
      "Batch: 953\n",
      "-------------------------------------------\n",
      "+-------------------+----------+---------+--------+-----------+-------+----------------+-----+-----+-----+-----+\n",
      "|event_timestamp    |machine_id|vibration|acoustic|temperature|current|status          |IMF_1|IMF_2|IMF_3|label|\n",
      "+-------------------+----------+---------+--------+-----------+-------+----------------+-----+-----+-----+-----+\n",
      "|2024-07-01 15:17:00|M02       |1.201    |0.923   |77.61      |15.28  |Failure Detected|0.297|0.109|0.032|1    |\n",
      "+-------------------+----------+---------+--------+-----------+-------+----------------+-----+-----+-----+-----+\n",
      "\n",
      "-------------------------------------------\n",
      "Batch: 954\n",
      "-------------------------------------------\n",
      "+-------------------+----------+---------+--------+-----------+-------+------+-----+-----+-----+-----+\n",
      "|event_timestamp    |machine_id|vibration|acoustic|temperature|current|status|IMF_1|IMF_2|IMF_3|label|\n",
      "+-------------------+----------+---------+--------+-----------+-------+------+-----+-----+-----+-----+\n",
      "|2024-07-01 15:18:00|M02       |0.814    |0.591   |70.22      |11.73  |Normal|0.161|0.076|0.031|0    |\n",
      "+-------------------+----------+---------+--------+-----------+-------+------+-----+-----+-----+-----+\n",
      "\n",
      "-------------------------------------------\n",
      "Batch: 955\n",
      "-------------------------------------------\n",
      "+-------------------+----------+---------+--------+-----------+-------+------+-----+-----+-----+-----+\n",
      "|event_timestamp    |machine_id|vibration|acoustic|temperature|current|status|IMF_1|IMF_2|IMF_3|label|\n",
      "+-------------------+----------+---------+--------+-----------+-------+------+-----+-----+-----+-----+\n",
      "|2024-07-01 15:19:00|M02       |0.887    |0.591   |66.71      |11.16  |Normal|0.178|0.114|0.03 |0    |\n",
      "+-------------------+----------+---------+--------+-----------+-------+------+-----+-----+-----+-----+\n",
      "\n",
      "-------------------------------------------\n",
      "Batch: 956\n",
      "-------------------------------------------\n",
      "+-------------------+----------+---------+--------+-----------+-------+----------------+-----+------+-----+-----+\n",
      "|event_timestamp    |machine_id|vibration|acoustic|temperature|current|status          |IMF_1|IMF_2 |IMF_3|label|\n",
      "+-------------------+----------+---------+--------+-----------+-------+----------------+-----+------+-----+-----+\n",
      "|2024-07-01 15:20:00|M02       |1.271    |0.885   |77.02      |15.01  |Failure Detected|0.305|-0.098|0.029|1    |\n",
      "+-------------------+----------+---------+--------+-----------+-------+----------------+-----+------+-----+-----+\n",
      "\n",
      "-------------------------------------------\n",
      "Batch: 957\n",
      "-------------------------------------------\n",
      "+-------------------+----------+---------+--------+-----------+-------+------+-----+------+-----+-----+\n",
      "|event_timestamp    |machine_id|vibration|acoustic|temperature|current|status|IMF_1|IMF_2 |IMF_3|label|\n",
      "+-------------------+----------+---------+--------+-----------+-------+------+-----+------+-----+-----+\n",
      "|2024-07-01 15:21:00|M02       |0.792    |0.482   |63.68      |11.67  |Normal|0.176|-0.059|0.028|0    |\n",
      "+-------------------+----------+---------+--------+-----------+-------+------+-----+------+-----+-----+\n",
      "\n"
     ]
    },
    {
     "name": "stderr",
     "output_type": "stream",
     "text": [
      "                                                                                \r"
     ]
    },
    {
     "name": "stdout",
     "output_type": "stream",
     "text": [
      "-------------------------------------------\n",
      "Batch: 958\n",
      "-------------------------------------------\n",
      "+-------------------+----------+---------+--------+-----------+-------+------+-----+-----+-----+-----+\n",
      "|event_timestamp    |machine_id|vibration|acoustic|temperature|current|status|IMF_1|IMF_2|IMF_3|label|\n",
      "+-------------------+----------+---------+--------+-----------+-------+------+-----+-----+-----+-----+\n",
      "|2024-07-01 15:22:00|M02       |0.897    |0.638   |66.28      |11.66  |Normal|0.163|0.123|0.028|0    |\n",
      "+-------------------+----------+---------+--------+-----------+-------+------+-----+-----+-----+-----+\n",
      "\n",
      "-------------------------------------------\n",
      "Batch: 959\n",
      "-------------------------------------------\n",
      "+-------------------+----------+---------+--------+-----------+-------+------+-----+------+-----+-----+\n",
      "|event_timestamp    |machine_id|vibration|acoustic|temperature|current|status|IMF_1|IMF_2 |IMF_3|label|\n",
      "+-------------------+----------+---------+--------+-----------+-------+------+-----+------+-----+-----+\n",
      "|2024-07-01 15:23:00|M02       |0.866    |0.617   |65.25      |11.72  |Normal|0.228|-0.043|0.027|0    |\n",
      "+-------------------+----------+---------+--------+-----------+-------+------+-----+------+-----+-----+\n",
      "\n",
      "-------------------------------------------\n",
      "Batch: 960\n",
      "-------------------------------------------\n",
      "+-------------------+----------+---------+--------+-----------+-------+------+-----+-----+-----+-----+\n",
      "|event_timestamp    |machine_id|vibration|acoustic|temperature|current|status|IMF_1|IMF_2|IMF_3|label|\n",
      "+-------------------+----------+---------+--------+-----------+-------+------+-----+-----+-----+-----+\n",
      "|2024-07-01 15:24:00|M02       |0.783    |0.627   |66.19      |12.05  |Normal|0.089|0.014|0.026|0    |\n",
      "+-------------------+----------+---------+--------+-----------+-------+------+-----+-----+-----+-----+\n",
      "\n",
      "-------------------------------------------\n",
      "Batch: 961\n",
      "-------------------------------------------\n",
      "+-------------------+----------+---------+--------+-----------+-------+------+-----+-----+-----+-----+\n",
      "|event_timestamp    |machine_id|vibration|acoustic|temperature|current|status|IMF_1|IMF_2|IMF_3|label|\n",
      "+-------------------+----------+---------+--------+-----------+-------+------+-----+-----+-----+-----+\n",
      "|2024-07-01 15:25:00|M02       |0.777    |0.585   |61.79      |12.02  |Normal|0.189|0.093|0.025|0    |\n",
      "+-------------------+----------+---------+--------+-----------+-------+------+-----+-----+-----+-----+\n",
      "\n"
     ]
    },
    {
     "name": "stderr",
     "output_type": "stream",
     "text": [
      "                                                                                \r"
     ]
    },
    {
     "name": "stdout",
     "output_type": "stream",
     "text": [
      "-------------------------------------------\n",
      "Batch: 962\n",
      "-------------------------------------------\n",
      "+-------------------+----------+---------+--------+-----------+-------+------+-----+------+-----+-----+\n",
      "|event_timestamp    |machine_id|vibration|acoustic|temperature|current|status|IMF_1|IMF_2 |IMF_3|label|\n",
      "+-------------------+----------+---------+--------+-----------+-------+------+-----+------+-----+-----+\n",
      "|2024-07-01 15:26:00|M02       |0.799    |0.572   |67.67      |12.37  |Normal|0.096|-0.011|0.024|0    |\n",
      "+-------------------+----------+---------+--------+-----------+-------+------+-----+------+-----+-----+\n",
      "\n",
      "-------------------------------------------\n",
      "Batch: 963\n",
      "-------------------------------------------\n",
      "+-------------------+----------+---------+--------+-----------+-------+------+-----+------+-----+-----+\n",
      "|event_timestamp    |machine_id|vibration|acoustic|temperature|current|status|IMF_1|IMF_2 |IMF_3|label|\n",
      "+-------------------+----------+---------+--------+-----------+-------+------+-----+------+-----+-----+\n",
      "|2024-07-01 15:27:00|M02       |0.867    |0.58    |65.66      |12.79  |Normal|0.184|-0.025|0.023|0    |\n",
      "+-------------------+----------+---------+--------+-----------+-------+------+-----+------+-----+-----+\n",
      "\n"
     ]
    },
    {
     "name": "stderr",
     "output_type": "stream",
     "text": [
      "                                                                                \r"
     ]
    },
    {
     "name": "stdout",
     "output_type": "stream",
     "text": [
      "-------------------------------------------\n",
      "Batch: 964\n",
      "-------------------------------------------\n",
      "+-------------------+----------+---------+--------+-----------+-------+------+-----+-----+-----+-----+\n",
      "|event_timestamp    |machine_id|vibration|acoustic|temperature|current|status|IMF_1|IMF_2|IMF_3|label|\n",
      "+-------------------+----------+---------+--------+-----------+-------+------+-----+-----+-----+-----+\n",
      "|2024-07-01 15:28:00|M02       |0.767    |0.617   |68.23      |11.6   |Normal|0.118|0.048|0.022|0    |\n",
      "+-------------------+----------+---------+--------+-----------+-------+------+-----+-----+-----+-----+\n",
      "\n",
      "-------------------------------------------\n",
      "Batch: 965\n",
      "-------------------------------------------\n",
      "+-------------------+----------+---------+--------+-----------+-------+------+-----+-----+-----+-----+\n",
      "|event_timestamp    |machine_id|vibration|acoustic|temperature|current|status|IMF_1|IMF_2|IMF_3|label|\n",
      "+-------------------+----------+---------+--------+-----------+-------+------+-----+-----+-----+-----+\n",
      "|2024-07-01 15:29:00|M02       |0.752    |0.618   |65.14      |11.32  |Normal|0.207|0.06 |0.022|0    |\n",
      "+-------------------+----------+---------+--------+-----------+-------+------+-----+-----+-----+-----+\n",
      "\n",
      "-------------------------------------------\n",
      "Batch: 966\n",
      "-------------------------------------------\n",
      "+-------------------+----------+---------+--------+-----------+-------+------+-----+------+-----+-----+\n",
      "|event_timestamp    |machine_id|vibration|acoustic|temperature|current|status|IMF_1|IMF_2 |IMF_3|label|\n",
      "+-------------------+----------+---------+--------+-----------+-------+------+-----+------+-----+-----+\n",
      "|2024-07-01 15:30:00|M02       |0.776    |0.554   |66.11      |12.71  |Normal|0.226|-0.076|0.021|0    |\n",
      "+-------------------+----------+---------+--------+-----------+-------+------+-----+------+-----+-----+\n",
      "\n",
      "-------------------------------------------\n",
      "Batch: 967\n",
      "-------------------------------------------\n",
      "+-------------------+----------+---------+--------+-----------+-------+------+-----+-----+-----+-----+\n",
      "|event_timestamp    |machine_id|vibration|acoustic|temperature|current|status|IMF_1|IMF_2|IMF_3|label|\n",
      "+-------------------+----------+---------+--------+-----------+-------+------+-----+-----+-----+-----+\n",
      "|2024-07-01 15:31:00|M02       |0.786    |0.617   |65.42      |12.69  |Normal|0.182|0.052|0.02 |0    |\n",
      "+-------------------+----------+---------+--------+-----------+-------+------+-----+-----+-----+-----+\n",
      "\n",
      "-------------------------------------------\n",
      "Batch: 968\n",
      "-------------------------------------------\n",
      "+-------------------+----------+---------+--------+-----------+-------+------+-----+-----+-----+-----+\n",
      "|event_timestamp    |machine_id|vibration|acoustic|temperature|current|status|IMF_1|IMF_2|IMF_3|label|\n",
      "+-------------------+----------+---------+--------+-----------+-------+------+-----+-----+-----+-----+\n",
      "|2024-07-01 15:32:00|M02       |0.78     |0.651   |65.74      |11.74  |Normal|0.097|0.091|0.019|0    |\n",
      "+-------------------+----------+---------+--------+-----------+-------+------+-----+-----+-----+-----+\n",
      "\n",
      "-------------------------------------------\n",
      "Batch: 969\n",
      "-------------------------------------------\n",
      "+-------------------+----------+---------+--------+-----------+-------+------+-----+------+-----+-----+\n",
      "|event_timestamp    |machine_id|vibration|acoustic|temperature|current|status|IMF_1|IMF_2 |IMF_3|label|\n",
      "+-------------------+----------+---------+--------+-----------+-------+------+-----+------+-----+-----+\n",
      "|2024-07-01 15:33:00|M02       |0.777    |0.541   |63.95      |12.84  |Normal|0.198|-0.036|0.018|0    |\n",
      "+-------------------+----------+---------+--------+-----------+-------+------+-----+------+-----+-----+\n",
      "\n",
      "-------------------------------------------\n",
      "Batch: 970\n",
      "-------------------------------------------\n",
      "+-------------------+----------+---------+--------+-----------+-------+----------------+-----+------+-----+-----+\n",
      "|event_timestamp    |machine_id|vibration|acoustic|temperature|current|status          |IMF_1|IMF_2 |IMF_3|label|\n",
      "+-------------------+----------+---------+--------+-----------+-------+----------------+-----+------+-----+-----+\n",
      "|2024-07-01 15:34:00|M02       |1.104    |0.955   |81.57      |14.03  |Failure Detected|0.21 |-0.106|0.017|1    |\n",
      "+-------------------+----------+---------+--------+-----------+-------+----------------+-----+------+-----+-----+\n",
      "\n",
      "-------------------------------------------\n",
      "Batch: 971\n",
      "-------------------------------------------\n",
      "+-------------------+----------+---------+--------+-----------+-------+------+-----+-----+-----+-----+\n",
      "|event_timestamp    |machine_id|vibration|acoustic|temperature|current|status|IMF_1|IMF_2|IMF_3|label|\n",
      "+-------------------+----------+---------+--------+-----------+-------+------+-----+-----+-----+-----+\n",
      "|2024-07-01 15:35:00|M02       |0.748    |0.59    |65.73      |11.68  |Normal|0.212|0.082|0.016|0    |\n",
      "+-------------------+----------+---------+--------+-----------+-------+------+-----+-----+-----+-----+\n",
      "\n",
      "-------------------------------------------\n",
      "Batch: 972\n",
      "-------------------------------------------\n",
      "+-------------------+----------+---------+--------+-----------+-------+------+-----+------+-----+-----+\n",
      "|event_timestamp    |machine_id|vibration|acoustic|temperature|current|status|IMF_1|IMF_2 |IMF_3|label|\n",
      "+-------------------+----------+---------+--------+-----------+-------+------+-----+------+-----+-----+\n",
      "|2024-07-01 15:36:00|M02       |0.765    |0.622   |66.32      |11.83  |Normal|0.108|-0.097|0.015|0    |\n",
      "+-------------------+----------+---------+--------+-----------+-------+------+-----+------+-----+-----+\n",
      "\n"
     ]
    },
    {
     "name": "stderr",
     "output_type": "stream",
     "text": [
      "                                                                                \r"
     ]
    },
    {
     "name": "stdout",
     "output_type": "stream",
     "text": [
      "-------------------------------------------\n",
      "Batch: 973\n",
      "-------------------------------------------\n",
      "+-------------------+----------+---------+--------+-----------+-------+------+-----+-----+-----+-----+\n",
      "|event_timestamp    |machine_id|vibration|acoustic|temperature|current|status|IMF_1|IMF_2|IMF_3|label|\n",
      "+-------------------+----------+---------+--------+-----------+-------+------+-----+-----+-----+-----+\n",
      "|2024-07-01 15:37:00|M02       |0.888    |0.592   |63.55      |11.48  |Normal|0.132|0.018|0.014|0    |\n",
      "+-------------------+----------+---------+--------+-----------+-------+------+-----+-----+-----+-----+\n",
      "\n"
     ]
    },
    {
     "name": "stderr",
     "output_type": "stream",
     "text": [
      "                                                                                \r"
     ]
    },
    {
     "name": "stdout",
     "output_type": "stream",
     "text": [
      "-------------------------------------------\n",
      "Batch: 974\n",
      "-------------------------------------------\n",
      "+-------------------+----------+---------+--------+-----------+-------+------+-----+-----+-----+-----+\n",
      "|event_timestamp    |machine_id|vibration|acoustic|temperature|current|status|IMF_1|IMF_2|IMF_3|label|\n",
      "+-------------------+----------+---------+--------+-----------+-------+------+-----+-----+-----+-----+\n",
      "|2024-07-01 15:38:00|M02       |0.775    |0.609   |65.1       |12.21  |Normal|0.192|0.014|0.013|0    |\n",
      "+-------------------+----------+---------+--------+-----------+-------+------+-----+-----+-----+-----+\n",
      "\n",
      "-------------------------------------------\n",
      "Batch: 975\n",
      "-------------------------------------------\n",
      "+-------------------+----------+---------+--------+-----------+-------+------+-----+-----+-----+-----+\n",
      "|event_timestamp    |machine_id|vibration|acoustic|temperature|current|status|IMF_1|IMF_2|IMF_3|label|\n",
      "+-------------------+----------+---------+--------+-----------+-------+------+-----+-----+-----+-----+\n",
      "|2024-07-01 15:39:00|M02       |0.771    |0.671   |65.72      |12.24  |Normal|0.138|-0.1 |0.012|0    |\n",
      "+-------------------+----------+---------+--------+-----------+-------+------+-----+-----+-----+-----+\n",
      "\n",
      "-------------------------------------------\n",
      "Batch: 976\n",
      "-------------------------------------------\n",
      "+-------------------+----------+---------+--------+-----------+-------+------+-----+-----+-----+-----+\n",
      "|event_timestamp    |machine_id|vibration|acoustic|temperature|current|status|IMF_1|IMF_2|IMF_3|label|\n",
      "+-------------------+----------+---------+--------+-----------+-------+------+-----+-----+-----+-----+\n",
      "|2024-07-01 15:40:00|M02       |0.881    |0.645   |64.39      |12.26  |Normal|0.264|0.042|0.011|0    |\n",
      "+-------------------+----------+---------+--------+-----------+-------+------+-----+-----+-----+-----+\n",
      "\n"
     ]
    },
    {
     "name": "stderr",
     "output_type": "stream",
     "text": [
      "                                                                                \r"
     ]
    },
    {
     "name": "stdout",
     "output_type": "stream",
     "text": [
      "-------------------------------------------\n",
      "Batch: 977\n",
      "-------------------------------------------\n",
      "+-------------------+----------+---------+--------+-----------+-------+------+-----+-----+-----+-----+\n",
      "|event_timestamp    |machine_id|vibration|acoustic|temperature|current|status|IMF_1|IMF_2|IMF_3|label|\n",
      "+-------------------+----------+---------+--------+-----------+-------+------+-----+-----+-----+-----+\n",
      "|2024-07-01 15:41:00|M02       |0.745    |0.549   |66.07      |12.81  |Normal|0.114|0.017|0.01 |0    |\n",
      "+-------------------+----------+---------+--------+-----------+-------+------+-----+-----+-----+-----+\n",
      "\n"
     ]
    },
    {
     "name": "stderr",
     "output_type": "stream",
     "text": [
      "                                                                                \r"
     ]
    },
    {
     "name": "stdout",
     "output_type": "stream",
     "text": [
      "-------------------------------------------\n",
      "Batch: 978\n",
      "-------------------------------------------\n",
      "+-------------------+----------+---------+--------+-----------+-------+------+-----+-----+-----+-----+\n",
      "|event_timestamp    |machine_id|vibration|acoustic|temperature|current|status|IMF_1|IMF_2|IMF_3|label|\n",
      "+-------------------+----------+---------+--------+-----------+-------+------+-----+-----+-----+-----+\n",
      "|2024-07-01 15:42:00|M02       |0.792    |0.572   |62.87      |11.46  |Normal|0.119|0.11 |0.009|0    |\n",
      "+-------------------+----------+---------+--------+-----------+-------+------+-----+-----+-----+-----+\n",
      "\n"
     ]
    },
    {
     "name": "stderr",
     "output_type": "stream",
     "text": [
      "                                                                                \r"
     ]
    },
    {
     "name": "stdout",
     "output_type": "stream",
     "text": [
      "-------------------------------------------\n",
      "Batch: 979\n",
      "-------------------------------------------\n",
      "+-------------------+----------+---------+--------+-----------+-------+------+-----+-----+-----+-----+\n",
      "|event_timestamp    |machine_id|vibration|acoustic|temperature|current|status|IMF_1|IMF_2|IMF_3|label|\n",
      "+-------------------+----------+---------+--------+-----------+-------+------+-----+-----+-----+-----+\n",
      "|2024-07-01 15:43:00|M02       |0.727    |0.643   |65.71      |11.87  |Normal|0.199|0.114|0.008|0    |\n",
      "+-------------------+----------+---------+--------+-----------+-------+------+-----+-----+-----+-----+\n",
      "\n"
     ]
    },
    {
     "name": "stderr",
     "output_type": "stream",
     "text": [
      "                                                                                \r"
     ]
    },
    {
     "name": "stdout",
     "output_type": "stream",
     "text": [
      "-------------------------------------------\n",
      "Batch: 980\n",
      "-------------------------------------------\n",
      "+-------------------+----------+---------+--------+-----------+-------+------+-----+------+-----+-----+\n",
      "|event_timestamp    |machine_id|vibration|acoustic|temperature|current|status|IMF_1|IMF_2 |IMF_3|label|\n",
      "+-------------------+----------+---------+--------+-----------+-------+------+-----+------+-----+-----+\n",
      "|2024-07-01 15:44:00|M02       |0.768    |0.632   |64.72      |11.83  |Normal|0.124|-0.068|0.007|0    |\n",
      "+-------------------+----------+---------+--------+-----------+-------+------+-----+------+-----+-----+\n",
      "\n",
      "-------------------------------------------\n",
      "Batch: 981\n",
      "-------------------------------------------\n",
      "+-------------------+----------+---------+--------+-----------+-------+------+-----+-----+-----+-----+\n",
      "|event_timestamp    |machine_id|vibration|acoustic|temperature|current|status|IMF_1|IMF_2|IMF_3|label|\n",
      "+-------------------+----------+---------+--------+-----------+-------+------+-----+-----+-----+-----+\n",
      "|2024-07-01 15:45:00|M02       |0.782    |0.602   |66.6       |10.98  |Normal|0.231|0.11 |0.006|0    |\n",
      "+-------------------+----------+---------+--------+-----------+-------+------+-----+-----+-----+-----+\n",
      "\n"
     ]
    },
    {
     "name": "stderr",
     "output_type": "stream",
     "text": [
      "                                                                                \r"
     ]
    },
    {
     "name": "stdout",
     "output_type": "stream",
     "text": [
      "-------------------------------------------\n",
      "Batch: 982\n",
      "-------------------------------------------\n",
      "+-------------------+----------+---------+--------+-----------+-------+------+-----+-----+-----+-----+\n",
      "|event_timestamp    |machine_id|vibration|acoustic|temperature|current|status|IMF_1|IMF_2|IMF_3|label|\n",
      "+-------------------+----------+---------+--------+-----------+-------+------+-----+-----+-----+-----+\n",
      "|2024-07-01 15:46:00|M02       |0.794    |0.658   |64.53      |11.6   |Normal|0.163|0.002|0.005|0    |\n",
      "+-------------------+----------+---------+--------+-----------+-------+------+-----+-----+-----+-----+\n",
      "\n",
      "-------------------------------------------\n",
      "Batch: 983\n",
      "-------------------------------------------\n",
      "+-------------------+----------+---------+--------+-----------+-------+------+-----+-----+-----+-----+\n",
      "|event_timestamp    |machine_id|vibration|acoustic|temperature|current|status|IMF_1|IMF_2|IMF_3|label|\n",
      "+-------------------+----------+---------+--------+-----------+-------+------+-----+-----+-----+-----+\n",
      "|2024-07-01 15:47:00|M02       |0.795    |0.586   |64.37      |12.08  |Normal|0.133|0.085|0.004|0    |\n",
      "+-------------------+----------+---------+--------+-----------+-------+------+-----+-----+-----+-----+\n",
      "\n",
      "-------------------------------------------\n",
      "Batch: 984\n",
      "-------------------------------------------\n",
      "+-------------------+----------+---------+--------+-----------+-------+------+-----+------+-----+-----+\n",
      "|event_timestamp    |machine_id|vibration|acoustic|temperature|current|status|IMF_1|IMF_2 |IMF_3|label|\n",
      "+-------------------+----------+---------+--------+-----------+-------+------+-----+------+-----+-----+\n",
      "|2024-07-01 15:48:00|M02       |0.893    |0.633   |67.87      |11.69  |Normal|0.22 |-0.019|0.003|0    |\n",
      "+-------------------+----------+---------+--------+-----------+-------+------+-----+------+-----+-----+\n",
      "\n"
     ]
    },
    {
     "name": "stderr",
     "output_type": "stream",
     "text": [
      "                                                                                \r"
     ]
    },
    {
     "name": "stdout",
     "output_type": "stream",
     "text": [
      "-------------------------------------------\n",
      "Batch: 985\n",
      "-------------------------------------------\n",
      "+-------------------+----------+---------+--------+-----------+-------+------+-----+-----+-----+-----+\n",
      "|event_timestamp    |machine_id|vibration|acoustic|temperature|current|status|IMF_1|IMF_2|IMF_3|label|\n",
      "+-------------------+----------+---------+--------+-----------+-------+------+-----+-----+-----+-----+\n",
      "|2024-07-01 15:49:00|M02       |0.795    |0.678   |66.49      |11.71  |Normal|0.226|0.124|0.002|0    |\n",
      "+-------------------+----------+---------+--------+-----------+-------+------+-----+-----+-----+-----+\n",
      "\n"
     ]
    },
    {
     "name": "stderr",
     "output_type": "stream",
     "text": [
      "                                                                                \r"
     ]
    },
    {
     "name": "stdout",
     "output_type": "stream",
     "text": [
      "-------------------------------------------\n",
      "Batch: 986\n",
      "-------------------------------------------\n",
      "+-------------------+----------+---------+--------+-----------+-------+------+-----+------+-----+-----+\n",
      "|event_timestamp    |machine_id|vibration|acoustic|temperature|current|status|IMF_1|IMF_2 |IMF_3|label|\n",
      "+-------------------+----------+---------+--------+-----------+-------+------+-----+------+-----+-----+\n",
      "|2024-07-01 15:50:00|M02       |0.78     |0.554   |67.4       |12.12  |Normal|0.129|-0.045|0.001|0    |\n",
      "+-------------------+----------+---------+--------+-----------+-------+------+-----+------+-----+-----+\n",
      "\n",
      "-------------------------------------------\n",
      "Batch: 987\n",
      "-------------------------------------------\n",
      "+-------------------+----------+---------+--------+-----------+-------+------+-----+-----+-----+-----+\n",
      "|event_timestamp    |machine_id|vibration|acoustic|temperature|current|status|IMF_1|IMF_2|IMF_3|label|\n",
      "+-------------------+----------+---------+--------+-----------+-------+------+-----+-----+-----+-----+\n",
      "|2024-07-01 15:51:00|M02       |0.845    |0.645   |65.16      |12.18  |Normal|0.104|0.123|0.0  |0    |\n",
      "+-------------------+----------+---------+--------+-----------+-------+------+-----+-----+-----+-----+\n",
      "\n",
      "-------------------------------------------\n",
      "Batch: 988\n",
      "-------------------------------------------\n",
      "+-------------------+----------+---------+--------+-----------+-------+------+-----+------+------+-----+\n",
      "|event_timestamp    |machine_id|vibration|acoustic|temperature|current|status|IMF_1|IMF_2 |IMF_3 |label|\n",
      "+-------------------+----------+---------+--------+-----------+-------+------+-----+------+------+-----+\n",
      "|2024-07-01 15:52:00|M02       |0.692    |0.624   |65.79      |12.59  |Normal|0.087|-0.102|-0.001|0    |\n",
      "+-------------------+----------+---------+--------+-----------+-------+------+-----+------+------+-----+\n",
      "\n",
      "-------------------------------------------\n",
      "Batch: 989\n",
      "-------------------------------------------\n",
      "+-------------------+----------+---------+--------+-----------+-------+------+-----+------+------+-----+\n",
      "|event_timestamp    |machine_id|vibration|acoustic|temperature|current|status|IMF_1|IMF_2 |IMF_3 |label|\n",
      "+-------------------+----------+---------+--------+-----------+-------+------+-----+------+------+-----+\n",
      "|2024-07-01 15:53:00|M02       |0.785    |0.657   |65.57      |13.33  |Normal|0.08 |-0.052|-0.002|0    |\n",
      "+-------------------+----------+---------+--------+-----------+-------+------+-----+------+------+-----+\n",
      "\n",
      "-------------------------------------------\n",
      "Batch: 990\n",
      "-------------------------------------------\n",
      "+-------------------+----------+---------+--------+-----------+-------+------+-----+-----+------+-----+\n",
      "|event_timestamp    |machine_id|vibration|acoustic|temperature|current|status|IMF_1|IMF_2|IMF_3 |label|\n",
      "+-------------------+----------+---------+--------+-----------+-------+------+-----+-----+------+-----+\n",
      "|2024-07-01 15:54:00|M02       |0.76     |0.562   |63.54      |11.87  |Normal|0.228|-0.01|-0.003|0    |\n",
      "+-------------------+----------+---------+--------+-----------+-------+------+-----+-----+------+-----+\n",
      "\n",
      "-------------------------------------------\n",
      "Batch: 991\n",
      "-------------------------------------------\n",
      "+-------------------+----------+---------+--------+-----------+-------+------+-----+------+------+-----+\n",
      "|event_timestamp    |machine_id|vibration|acoustic|temperature|current|status|IMF_1|IMF_2 |IMF_3 |label|\n",
      "+-------------------+----------+---------+--------+-----------+-------+------+-----+------+------+-----+\n",
      "|2024-07-01 15:55:00|M02       |0.769    |0.627   |64.19      |12.42  |Normal|0.196|-0.074|-0.004|0    |\n",
      "+-------------------+----------+---------+--------+-----------+-------+------+-----+------+------+-----+\n",
      "\n",
      "-------------------------------------------\n",
      "Batch: 992\n",
      "-------------------------------------------\n",
      "+-------------------+----------+---------+--------+-----------+-------+------+-----+-----+------+-----+\n",
      "|event_timestamp    |machine_id|vibration|acoustic|temperature|current|status|IMF_1|IMF_2|IMF_3 |label|\n",
      "+-------------------+----------+---------+--------+-----------+-------+------+-----+-----+------+-----+\n",
      "|2024-07-01 15:56:00|M02       |0.683    |0.633   |63.96      |11.82  |Normal|0.094|0.11 |-0.005|0    |\n",
      "+-------------------+----------+---------+--------+-----------+-------+------+-----+-----+------+-----+\n",
      "\n",
      "-------------------------------------------\n",
      "Batch: 993\n",
      "-------------------------------------------\n",
      "+-------------------+----------+---------+--------+-----------+-------+------+-----+------+------+-----+\n",
      "|event_timestamp    |machine_id|vibration|acoustic|temperature|current|status|IMF_1|IMF_2 |IMF_3 |label|\n",
      "+-------------------+----------+---------+--------+-----------+-------+------+-----+------+------+-----+\n",
      "|2024-07-01 15:57:00|M02       |0.754    |0.503   |64.83      |11.68  |Normal|0.138|-0.008|-0.006|0    |\n",
      "+-------------------+----------+---------+--------+-----------+-------+------+-----+------+------+-----+\n",
      "\n",
      "-------------------------------------------\n",
      "Batch: 994\n",
      "-------------------------------------------\n",
      "+-------------------+----------+---------+--------+-----------+-------+------+-----+------+------+-----+\n",
      "|event_timestamp    |machine_id|vibration|acoustic|temperature|current|status|IMF_1|IMF_2 |IMF_3 |label|\n",
      "+-------------------+----------+---------+--------+-----------+-------+------+-----+------+------+-----+\n",
      "|2024-07-01 15:58:00|M02       |0.817    |0.591   |63.87      |12.17  |Normal|0.132|-0.081|-0.007|0    |\n",
      "+-------------------+----------+---------+--------+-----------+-------+------+-----+------+------+-----+\n",
      "\n",
      "-------------------------------------------\n",
      "Batch: 995\n",
      "-------------------------------------------\n",
      "+-------------------+----------+---------+--------+-----------+-------+----------------+-----+-----+------+-----+\n",
      "|event_timestamp    |machine_id|vibration|acoustic|temperature|current|status          |IMF_1|IMF_2|IMF_3 |label|\n",
      "+-------------------+----------+---------+--------+-----------+-------+----------------+-----+-----+------+-----+\n",
      "|2024-07-01 15:59:00|M02       |1.151    |0.805   |78.8       |14.88  |Failure Detected|0.245|0.062|-0.008|1    |\n",
      "+-------------------+----------+---------+--------+-----------+-------+----------------+-----+-----+------+-----+\n",
      "\n",
      "-------------------------------------------\n",
      "Batch: 996\n",
      "-------------------------------------------\n",
      "+-------------------+----------+---------+--------+-----------+-------+------+-----+-----+------+-----+\n",
      "|event_timestamp    |machine_id|vibration|acoustic|temperature|current|status|IMF_1|IMF_2|IMF_3 |label|\n",
      "+-------------------+----------+---------+--------+-----------+-------+------+-----+-----+------+-----+\n",
      "|2024-07-01 16:00:00|M02       |0.677    |0.659   |65.52      |12.45  |Normal|0.115|0.04 |-0.009|0    |\n",
      "+-------------------+----------+---------+--------+-----------+-------+------+-----+-----+------+-----+\n",
      "\n",
      "-------------------------------------------\n",
      "Batch: 997\n",
      "-------------------------------------------\n",
      "+-------------------+----------+---------+--------+-----------+-------+------+-----+-----+-----+-----+\n",
      "|event_timestamp    |machine_id|vibration|acoustic|temperature|current|status|IMF_1|IMF_2|IMF_3|label|\n",
      "+-------------------+----------+---------+--------+-----------+-------+------+-----+-----+-----+-----+\n",
      "|2024-07-01 16:01:00|M02       |0.863    |0.676   |62.58      |12.02  |Normal|0.229|0.084|-0.01|0    |\n",
      "+-------------------+----------+---------+--------+-----------+-------+------+-----+-----+-----+-----+\n",
      "\n",
      "-------------------------------------------\n",
      "Batch: 998\n",
      "-------------------------------------------\n",
      "+-------------------+----------+---------+--------+-----------+-------+------+-----+-----+------+-----+\n",
      "|event_timestamp    |machine_id|vibration|acoustic|temperature|current|status|IMF_1|IMF_2|IMF_3 |label|\n",
      "+-------------------+----------+---------+--------+-----------+-------+------+-----+-----+------+-----+\n",
      "|2024-07-01 16:02:00|M02       |0.727    |0.64    |68.56      |12.25  |Normal|0.077|0.049|-0.011|0    |\n",
      "+-------------------+----------+---------+--------+-----------+-------+------+-----+-----+------+-----+\n",
      "\n",
      "-------------------------------------------\n",
      "Batch: 999\n",
      "-------------------------------------------\n",
      "+-------------------+----------+---------+--------+-----------+-------+------+-----+-----+------+-----+\n",
      "|event_timestamp    |machine_id|vibration|acoustic|temperature|current|status|IMF_1|IMF_2|IMF_3 |label|\n",
      "+-------------------+----------+---------+--------+-----------+-------+------+-----+-----+------+-----+\n",
      "|2024-07-01 16:03:00|M02       |0.825    |0.563   |65.77      |11.99  |Normal|0.189|0.056|-0.012|0    |\n",
      "+-------------------+----------+---------+--------+-----------+-------+------+-----+-----+------+-----+\n",
      "\n",
      "-------------------------------------------\n",
      "Batch: 1000\n",
      "-------------------------------------------\n",
      "+-------------------+----------+---------+--------+-----------+-------+------+-----+-----+------+-----+\n",
      "|event_timestamp    |machine_id|vibration|acoustic|temperature|current|status|IMF_1|IMF_2|IMF_3 |label|\n",
      "+-------------------+----------+---------+--------+-----------+-------+------+-----+-----+------+-----+\n",
      "|2024-07-01 16:04:00|M02       |0.851    |0.616   |65.93      |12.28  |Normal|0.092|0.021|-0.013|0    |\n",
      "+-------------------+----------+---------+--------+-----------+-------+------+-----+-----+------+-----+\n",
      "\n",
      "-------------------------------------------\n",
      "Batch: 1001\n",
      "-------------------------------------------\n",
      "+-------------------+----------+---------+--------+-----------+-------+------+-----+------+------+-----+\n",
      "|event_timestamp    |machine_id|vibration|acoustic|temperature|current|status|IMF_1|IMF_2 |IMF_3 |label|\n",
      "+-------------------+----------+---------+--------+-----------+-------+------+-----+------+------+-----+\n",
      "|2024-07-01 16:05:00|M02       |0.805    |0.65    |64.38      |12.61  |Normal|0.234|-0.016|-0.014|0    |\n",
      "+-------------------+----------+---------+--------+-----------+-------+------+-----+------+------+-----+\n",
      "\n",
      "-------------------------------------------\n",
      "Batch: 1002\n",
      "-------------------------------------------\n",
      "+-------------------+----------+---------+--------+-----------+-------+------+-----+------+------+-----+\n",
      "|event_timestamp    |machine_id|vibration|acoustic|temperature|current|status|IMF_1|IMF_2 |IMF_3 |label|\n",
      "+-------------------+----------+---------+--------+-----------+-------+------+-----+------+------+-----+\n",
      "|2024-07-01 16:06:00|M02       |0.786    |0.625   |65.56      |11.5   |Normal|0.233|-0.122|-0.015|0    |\n",
      "+-------------------+----------+---------+--------+-----------+-------+------+-----+------+------+-----+\n",
      "\n",
      "-------------------------------------------\n",
      "Batch: 1003\n",
      "-------------------------------------------\n",
      "+-------------------+----------+---------+--------+-----------+-------+------+-----+-----+------+-----+\n",
      "|event_timestamp    |machine_id|vibration|acoustic|temperature|current|status|IMF_1|IMF_2|IMF_3 |label|\n",
      "+-------------------+----------+---------+--------+-----------+-------+------+-----+-----+------+-----+\n",
      "|2024-07-01 16:07:00|M02       |0.729    |0.585   |65.92      |12.42  |Normal|0.168|0.056|-0.016|0    |\n",
      "+-------------------+----------+---------+--------+-----------+-------+------+-----+-----+------+-----+\n",
      "\n"
     ]
    },
    {
     "name": "stderr",
     "output_type": "stream",
     "text": [
      "                                                                                \r"
     ]
    },
    {
     "name": "stdout",
     "output_type": "stream",
     "text": [
      "-------------------------------------------\n",
      "Batch: 1004\n",
      "-------------------------------------------\n",
      "+-------------------+----------+---------+--------+-----------+-------+----------------+-----+-----+------+-----+\n",
      "|event_timestamp    |machine_id|vibration|acoustic|temperature|current|status          |IMF_1|IMF_2|IMF_3 |label|\n",
      "+-------------------+----------+---------+--------+-----------+-------+----------------+-----+-----+------+-----+\n",
      "|2024-07-01 16:08:00|M02       |1.245    |0.931   |73.92      |16.21  |Failure Detected|0.141|0.05 |-0.016|1    |\n",
      "+-------------------+----------+---------+--------+-----------+-------+----------------+-----+-----+------+-----+\n",
      "\n",
      "-------------------------------------------\n",
      "Batch: 1005\n",
      "-------------------------------------------\n",
      "+-------------------+----------+---------+--------+-----------+-------+------+-----+-----+------+-----+\n",
      "|event_timestamp    |machine_id|vibration|acoustic|temperature|current|status|IMF_1|IMF_2|IMF_3 |label|\n",
      "+-------------------+----------+---------+--------+-----------+-------+------+-----+-----+------+-----+\n",
      "|2024-07-01 16:09:00|M02       |0.821    |0.597   |63.4       |11.63  |Normal|0.082|0.022|-0.017|0    |\n",
      "+-------------------+----------+---------+--------+-----------+-------+------+-----+-----+------+-----+\n",
      "\n",
      "-------------------------------------------\n",
      "Batch: 1006\n",
      "-------------------------------------------\n",
      "+-------------------+----------+---------+--------+-----------+-------+----------------+-----+------+------+-----+\n",
      "|event_timestamp    |machine_id|vibration|acoustic|temperature|current|status          |IMF_1|IMF_2 |IMF_3 |label|\n",
      "+-------------------+----------+---------+--------+-----------+-------+----------------+-----+------+------+-----+\n",
      "|2024-07-01 16:10:00|M02       |1.184    |0.877   |78.59      |15.52  |Failure Detected|0.183|-0.147|-0.018|1    |\n",
      "+-------------------+----------+---------+--------+-----------+-------+----------------+-----+------+------+-----+\n",
      "\n",
      "-------------------------------------------\n",
      "Batch: 1007\n",
      "-------------------------------------------\n",
      "+-------------------+----------+---------+--------+-----------+-------+------+-----+-----+------+-----+\n",
      "|event_timestamp    |machine_id|vibration|acoustic|temperature|current|status|IMF_1|IMF_2|IMF_3 |label|\n",
      "+-------------------+----------+---------+--------+-----------+-------+------+-----+-----+------+-----+\n",
      "|2024-07-01 16:11:00|M02       |0.758    |0.469   |64.95      |11.4   |Normal|0.115|0.057|-0.019|0    |\n",
      "+-------------------+----------+---------+--------+-----------+-------+------+-----+-----+------+-----+\n",
      "\n",
      "-------------------------------------------\n",
      "Batch: 1008\n",
      "-------------------------------------------\n",
      "+-------------------+----------+---------+--------+-----------+-------+------+-----+------+-----+-----+\n",
      "|event_timestamp    |machine_id|vibration|acoustic|temperature|current|status|IMF_1|IMF_2 |IMF_3|label|\n",
      "+-------------------+----------+---------+--------+-----------+-------+------+-----+------+-----+-----+\n",
      "|2024-07-01 16:12:00|M02       |0.807    |0.607   |63.09      |11.74  |Normal|0.091|-0.118|-0.02|0    |\n",
      "+-------------------+----------+---------+--------+-----------+-------+------+-----+------+-----+-----+\n",
      "\n",
      "-------------------------------------------\n",
      "Batch: 1009\n",
      "-------------------------------------------\n",
      "+-------------------+----------+---------+--------+-----------+-------+------+-----+-----+------+-----+\n",
      "|event_timestamp    |machine_id|vibration|acoustic|temperature|current|status|IMF_1|IMF_2|IMF_3 |label|\n",
      "+-------------------+----------+---------+--------+-----------+-------+------+-----+-----+------+-----+\n",
      "|2024-07-01 16:13:00|M02       |0.814    |0.566   |63.2       |12.68  |Normal|0.241|0.042|-0.021|0    |\n",
      "+-------------------+----------+---------+--------+-----------+-------+------+-----+-----+------+-----+\n",
      "\n",
      "-------------------------------------------\n",
      "Batch: 1010\n",
      "-------------------------------------------\n",
      "+-------------------+----------+---------+--------+-----------+-------+------+-----+-----+------+-----+\n",
      "|event_timestamp    |machine_id|vibration|acoustic|temperature|current|status|IMF_1|IMF_2|IMF_3 |label|\n",
      "+-------------------+----------+---------+--------+-----------+-------+------+-----+-----+------+-----+\n",
      "|2024-07-01 16:14:00|M02       |0.825    |0.554   |62.89      |11.59  |Normal|0.196|0.08 |-0.022|0    |\n",
      "+-------------------+----------+---------+--------+-----------+-------+------+-----+-----+------+-----+\n",
      "\n"
     ]
    },
    {
     "name": "stderr",
     "output_type": "stream",
     "text": [
      "                                                                                \r"
     ]
    },
    {
     "name": "stdout",
     "output_type": "stream",
     "text": [
      "-------------------------------------------\n",
      "Batch: 1011\n",
      "-------------------------------------------\n",
      "+-------------------+----------+---------+--------+-----------+-------+------+-----+------+------+-----+\n",
      "|event_timestamp    |machine_id|vibration|acoustic|temperature|current|status|IMF_1|IMF_2 |IMF_3 |label|\n",
      "+-------------------+----------+---------+--------+-----------+-------+------+-----+------+------+-----+\n",
      "|2024-07-01 16:15:00|M02       |0.821    |0.582   |67.35      |12.28  |Normal|0.115|-0.107|-0.023|0    |\n",
      "+-------------------+----------+---------+--------+-----------+-------+------+-----+------+------+-----+\n",
      "\n"
     ]
    },
    {
     "name": "stderr",
     "output_type": "stream",
     "text": [
      "                                                                                \r"
     ]
    },
    {
     "name": "stdout",
     "output_type": "stream",
     "text": [
      "-------------------------------------------\n",
      "Batch: 1012\n",
      "-------------------------------------------\n",
      "+-------------------+----------+---------+--------+-----------+-------+------+-----+-----+------+-----+\n",
      "|event_timestamp    |machine_id|vibration|acoustic|temperature|current|status|IMF_1|IMF_2|IMF_3 |label|\n",
      "+-------------------+----------+---------+--------+-----------+-------+------+-----+-----+------+-----+\n",
      "|2024-07-01 16:16:00|M02       |0.822    |0.621   |60.64      |12.73  |Normal|0.107|0.074|-0.024|0    |\n",
      "+-------------------+----------+---------+--------+-----------+-------+------+-----+-----+------+-----+\n",
      "\n",
      "-------------------------------------------\n",
      "Batch: 1013\n",
      "-------------------------------------------\n",
      "+-------------------+----------+---------+--------+-----------+-------+------+-----+------+------+-----+\n",
      "|event_timestamp    |machine_id|vibration|acoustic|temperature|current|status|IMF_1|IMF_2 |IMF_3 |label|\n",
      "+-------------------+----------+---------+--------+-----------+-------+------+-----+------+------+-----+\n",
      "|2024-07-01 16:17:00|M02       |0.8      |0.628   |63.25      |11.75  |Normal|0.231|-0.073|-0.025|0    |\n",
      "+-------------------+----------+---------+--------+-----------+-------+------+-----+------+------+-----+\n",
      "\n"
     ]
    },
    {
     "name": "stderr",
     "output_type": "stream",
     "text": [
      "                                                                                \r"
     ]
    },
    {
     "name": "stdout",
     "output_type": "stream",
     "text": [
      "-------------------------------------------\n",
      "Batch: 1014\n",
      "-------------------------------------------\n",
      "+-------------------+----------+---------+--------+-----------+-------+----------------+-----+-----+------+-----+\n",
      "|event_timestamp    |machine_id|vibration|acoustic|temperature|current|status          |IMF_1|IMF_2|IMF_3 |label|\n",
      "+-------------------+----------+---------+--------+-----------+-------+----------------+-----+-----+------+-----+\n",
      "|2024-07-01 16:18:00|M02       |1.194    |0.839   |78.18      |12.95  |Failure Detected|0.18 |0.111|-0.026|1    |\n",
      "+-------------------+----------+---------+--------+-----------+-------+----------------+-----+-----+------+-----+\n",
      "\n",
      "-------------------------------------------\n",
      "Batch: 1015\n",
      "-------------------------------------------\n",
      "+-------------------+----------+---------+--------+-----------+-------+------+-----+------+------+-----+\n",
      "|event_timestamp    |machine_id|vibration|acoustic|temperature|current|status|IMF_1|IMF_2 |IMF_3 |label|\n",
      "+-------------------+----------+---------+--------+-----------+-------+------+-----+------+------+-----+\n",
      "|2024-07-01 16:19:00|M02       |0.808    |0.616   |63.39      |12.28  |Normal|0.167|-0.079|-0.026|0    |\n",
      "+-------------------+----------+---------+--------+-----------+-------+------+-----+------+------+-----+\n",
      "\n",
      "-------------------------------------------\n",
      "Batch: 1016\n",
      "-------------------------------------------\n",
      "+-------------------+----------+---------+--------+-----------+-------+------+-----+------+------+-----+\n",
      "|event_timestamp    |machine_id|vibration|acoustic|temperature|current|status|IMF_1|IMF_2 |IMF_3 |label|\n",
      "+-------------------+----------+---------+--------+-----------+-------+------+-----+------+------+-----+\n",
      "|2024-07-01 16:20:00|M02       |0.76     |0.64    |61.37      |12.75  |Normal|0.155|-0.083|-0.027|0    |\n",
      "+-------------------+----------+---------+--------+-----------+-------+------+-----+------+------+-----+\n",
      "\n",
      "-------------------------------------------\n",
      "Batch: 1017\n",
      "-------------------------------------------\n",
      "+-------------------+----------+---------+--------+-----------+-------+------+-----+-----+------+-----+\n",
      "|event_timestamp    |machine_id|vibration|acoustic|temperature|current|status|IMF_1|IMF_2|IMF_3 |label|\n",
      "+-------------------+----------+---------+--------+-----------+-------+------+-----+-----+------+-----+\n",
      "|2024-07-01 16:21:00|M02       |0.829    |0.593   |63.13      |11.93  |Normal|0.1  |0.024|-0.028|0    |\n",
      "+-------------------+----------+---------+--------+-----------+-------+------+-----+-----+------+-----+\n",
      "\n",
      "-------------------------------------------\n",
      "Batch: 1018\n",
      "-------------------------------------------\n",
      "+-------------------+----------+---------+--------+-----------+-------+------+-----+-----+------+-----+\n",
      "|event_timestamp    |machine_id|vibration|acoustic|temperature|current|status|IMF_1|IMF_2|IMF_3 |label|\n",
      "+-------------------+----------+---------+--------+-----------+-------+------+-----+-----+------+-----+\n",
      "|2024-07-01 16:22:00|M02       |0.751    |0.664   |66.0       |11.54  |Normal|0.171|0.045|-0.029|0    |\n",
      "+-------------------+----------+---------+--------+-----------+-------+------+-----+-----+------+-----+\n",
      "\n",
      "-------------------------------------------\n",
      "Batch: 1019\n",
      "-------------------------------------------\n",
      "+-------------------+----------+---------+--------+-----------+-------+----------------+-----+-----+-----+-----+\n",
      "|event_timestamp    |machine_id|vibration|acoustic|temperature|current|status          |IMF_1|IMF_2|IMF_3|label|\n",
      "+-------------------+----------+---------+--------+-----------+-------+----------------+-----+-----+-----+-----+\n",
      "|2024-07-01 16:23:00|M02       |1.251    |1.053   |79.06      |15.0   |Failure Detected|0.185|0.122|-0.03|1    |\n",
      "+-------------------+----------+---------+--------+-----------+-------+----------------+-----+-----+-----+-----+\n",
      "\n"
     ]
    },
    {
     "name": "stderr",
     "output_type": "stream",
     "text": [
      "                                                                                \r"
     ]
    },
    {
     "name": "stdout",
     "output_type": "stream",
     "text": [
      "-------------------------------------------\n",
      "Batch: 1020\n",
      "-------------------------------------------\n",
      "+-------------------+----------+---------+--------+-----------+-------+------+-----+-----+-----+-----+\n",
      "|event_timestamp    |machine_id|vibration|acoustic|temperature|current|status|IMF_1|IMF_2|IMF_3|label|\n",
      "+-------------------+----------+---------+--------+-----------+-------+------+-----+-----+-----+-----+\n",
      "|2024-07-01 16:24:00|M02       |0.888    |0.494   |65.26      |11.06  |Normal|0.214|0.029|-0.03|0    |\n",
      "+-------------------+----------+---------+--------+-----------+-------+------+-----+-----+-----+-----+\n",
      "\n",
      "-------------------------------------------\n",
      "Batch: 1021\n",
      "-------------------------------------------\n",
      "+-------------------+----------+---------+--------+-----------+-------+------+-----+------+------+-----+\n",
      "|event_timestamp    |machine_id|vibration|acoustic|temperature|current|status|IMF_1|IMF_2 |IMF_3 |label|\n",
      "+-------------------+----------+---------+--------+-----------+-------+------+-----+------+------+-----+\n",
      "|2024-07-01 16:25:00|M02       |0.812    |0.691   |69.49      |12.38  |Normal|0.197|-0.002|-0.031|0    |\n",
      "+-------------------+----------+---------+--------+-----------+-------+------+-----+------+------+-----+\n",
      "\n",
      "-------------------------------------------\n",
      "Batch: 1022\n",
      "-------------------------------------------\n",
      "+-------------------+----------+---------+--------+-----------+-------+------+-----+------+------+-----+\n",
      "|event_timestamp    |machine_id|vibration|acoustic|temperature|current|status|IMF_1|IMF_2 |IMF_3 |label|\n",
      "+-------------------+----------+---------+--------+-----------+-------+------+-----+------+------+-----+\n",
      "|2024-07-01 16:26:00|M02       |0.756    |0.6     |70.36      |11.94  |Normal|0.191|-0.076|-0.032|0    |\n",
      "+-------------------+----------+---------+--------+-----------+-------+------+-----+------+------+-----+\n",
      "\n",
      "-------------------------------------------\n",
      "Batch: 1023\n",
      "-------------------------------------------\n",
      "+-------------------+----------+---------+--------+-----------+-------+------+-----+-----+------+-----+\n",
      "|event_timestamp    |machine_id|vibration|acoustic|temperature|current|status|IMF_1|IMF_2|IMF_3 |label|\n",
      "+-------------------+----------+---------+--------+-----------+-------+------+-----+-----+------+-----+\n",
      "|2024-07-01 16:27:00|M02       |0.876    |0.612   |62.22      |11.86  |Normal|0.166|0.041|-0.033|0    |\n",
      "+-------------------+----------+---------+--------+-----------+-------+------+-----+-----+------+-----+\n",
      "\n"
     ]
    },
    {
     "name": "stderr",
     "output_type": "stream",
     "text": [
      "                                                                                \r"
     ]
    },
    {
     "name": "stdout",
     "output_type": "stream",
     "text": [
      "-------------------------------------------\n",
      "Batch: 1024\n",
      "-------------------------------------------\n",
      "+-------------------+----------+---------+--------+-----------+-------+----------------+-----+------+------+-----+\n",
      "|event_timestamp    |machine_id|vibration|acoustic|temperature|current|status          |IMF_1|IMF_2 |IMF_3 |label|\n",
      "+-------------------+----------+---------+--------+-----------+-------+----------------+-----+------+------+-----+\n",
      "|2024-07-01 16:28:00|M02       |1.258    |0.878   |77.05      |14.95  |Failure Detected|0.365|-0.114|-0.034|1    |\n",
      "+-------------------+----------+---------+--------+-----------+-------+----------------+-----+------+------+-----+\n",
      "\n",
      "-------------------------------------------\n",
      "Batch: 1025\n",
      "-------------------------------------------\n",
      "+-------------------+----------+---------+--------+-----------+-------+------+-----+------+------+-----+\n",
      "|event_timestamp    |machine_id|vibration|acoustic|temperature|current|status|IMF_1|IMF_2 |IMF_3 |label|\n",
      "+-------------------+----------+---------+--------+-----------+-------+------+-----+------+------+-----+\n",
      "|2024-07-01 16:29:00|M02       |0.773    |0.531   |64.19      |11.05  |Normal|0.129|-0.072|-0.034|0    |\n",
      "+-------------------+----------+---------+--------+-----------+-------+------+-----+------+------+-----+\n",
      "\n",
      "-------------------------------------------\n",
      "Batch: 1026\n",
      "-------------------------------------------\n",
      "+-------------------+----------+---------+--------+-----------+-------+------+-----+-----+------+-----+\n",
      "|event_timestamp    |machine_id|vibration|acoustic|temperature|current|status|IMF_1|IMF_2|IMF_3 |label|\n",
      "+-------------------+----------+---------+--------+-----------+-------+------+-----+-----+------+-----+\n",
      "|2024-07-01 16:30:00|M02       |0.842    |0.533   |67.24      |11.92  |Normal|0.103|-0.05|-0.035|0    |\n",
      "+-------------------+----------+---------+--------+-----------+-------+------+-----+-----+------+-----+\n",
      "\n",
      "-------------------------------------------\n",
      "Batch: 1027\n",
      "-------------------------------------------\n",
      "+-------------------+----------+---------+--------+-----------+-------+------+-----+------+------+-----+\n",
      "|event_timestamp    |machine_id|vibration|acoustic|temperature|current|status|IMF_1|IMF_2 |IMF_3 |label|\n",
      "+-------------------+----------+---------+--------+-----------+-------+------+-----+------+------+-----+\n",
      "|2024-07-01 16:31:00|M02       |0.822    |0.568   |66.54      |11.61  |Normal|0.124|-0.095|-0.036|0    |\n",
      "+-------------------+----------+---------+--------+-----------+-------+------+-----+------+------+-----+\n",
      "\n",
      "-------------------------------------------\n",
      "Batch: 1028\n",
      "-------------------------------------------\n",
      "+-------------------+----------+---------+--------+-----------+-------+----------------+-----+-----+------+-----+\n",
      "|event_timestamp    |machine_id|vibration|acoustic|temperature|current|status          |IMF_1|IMF_2|IMF_3 |label|\n",
      "+-------------------+----------+---------+--------+-----------+-------+----------------+-----+-----+------+-----+\n",
      "|2024-07-01 16:32:00|M02       |1.161    |1.017   |76.1       |14.66  |Failure Detected|0.327|0.053|-0.036|1    |\n",
      "+-------------------+----------+---------+--------+-----------+-------+----------------+-----+-----+------+-----+\n",
      "\n",
      "-------------------------------------------\n",
      "Batch: 1029\n",
      "-------------------------------------------\n",
      "+-------------------+----------+---------+--------+-----------+-------+------+-----+------+------+-----+\n",
      "|event_timestamp    |machine_id|vibration|acoustic|temperature|current|status|IMF_1|IMF_2 |IMF_3 |label|\n",
      "+-------------------+----------+---------+--------+-----------+-------+------+-----+------+------+-----+\n",
      "|2024-07-01 16:33:00|M02       |0.856    |0.648   |68.02      |11.45  |Normal|0.146|-0.115|-0.037|0    |\n",
      "+-------------------+----------+---------+--------+-----------+-------+------+-----+------+------+-----+\n",
      "\n",
      "-------------------------------------------\n",
      "Batch: 1030\n",
      "-------------------------------------------\n",
      "+-------------------+----------+---------+--------+-----------+-------+------+-----+-----+------+-----+\n",
      "|event_timestamp    |machine_id|vibration|acoustic|temperature|current|status|IMF_1|IMF_2|IMF_3 |label|\n",
      "+-------------------+----------+---------+--------+-----------+-------+------+-----+-----+------+-----+\n",
      "|2024-07-01 16:34:00|M02       |0.702    |0.613   |64.43      |12.74  |Normal|0.167|0.062|-0.038|0    |\n",
      "+-------------------+----------+---------+--------+-----------+-------+------+-----+-----+------+-----+\n",
      "\n",
      "-------------------------------------------\n",
      "Batch: 1031\n",
      "-------------------------------------------\n",
      "+-------------------+----------+---------+--------+-----------+-------+------+-----+------+------+-----+\n",
      "|event_timestamp    |machine_id|vibration|acoustic|temperature|current|status|IMF_1|IMF_2 |IMF_3 |label|\n",
      "+-------------------+----------+---------+--------+-----------+-------+------+-----+------+------+-----+\n",
      "|2024-07-01 16:35:00|M02       |0.87     |0.656   |65.44      |11.92  |Normal|0.167|-0.072|-0.038|0    |\n",
      "+-------------------+----------+---------+--------+-----------+-------+------+-----+------+------+-----+\n",
      "\n"
     ]
    }
   ],
   "source": [
    "# Menulis ke topik Kafka yang sudah bersih\n",
    "kafka_output_df = final_df.select(expr(\"to_json(struct(*)) AS value\"))\n",
    "kafka_query = kafka_output_df \\\n",
    "    .writeStream \\\n",
    "    .format(\"kafka\") \\\n",
    "    .option(\"kafka.bootstrap.servers\", \"kafka:9092\") \\\n",
    "    .option(\"topic\", \"clean_sensor_data\") \\\n",
    "    .option(\"checkpointLocation\", \"/tmp/spark_checkpoints/kafka_sensor_writer\") \\\n",
    "    .start()"
   ]
  },
  {
   "cell_type": "code",
   "execution_count": null,
   "id": "3de23710",
   "metadata": {
    "scrolled": true
   },
   "outputs": [],
   "source": [
    "# Untuk menghentikan semua query:\n",
    "console_query.stop()\n",
    "kafka_query.stop()"
   ]
  },
  {
   "cell_type": "code",
   "execution_count": null,
   "id": "e513de33-afb7-44fc-a4b8-0f879f708aa0",
   "metadata": {},
   "outputs": [],
   "source": []
  }
 ],
 "metadata": {
  "kernelspec": {
   "display_name": "Python 3 (ipykernel)",
   "language": "python",
   "name": "python3"
  },
  "language_info": {
   "codemirror_mode": {
    "name": "ipython",
    "version": 3
   },
   "file_extension": ".py",
   "mimetype": "text/x-python",
   "name": "python",
   "nbconvert_exporter": "python",
   "pygments_lexer": "ipython3",
   "version": "3.11.6"
  }
 },
 "nbformat": 4,
 "nbformat_minor": 5
}
