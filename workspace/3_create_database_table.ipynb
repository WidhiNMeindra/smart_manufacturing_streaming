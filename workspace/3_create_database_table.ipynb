{
 "cells": [
  {
   "cell_type": "code",
   "execution_count": 1,
   "id": "566e7fa7-0ebd-4e55-95dc-5ff0ed10fbd9",
   "metadata": {},
   "outputs": [
    {
     "name": "stdout",
     "output_type": "stream",
     "text": [
      "Requirement already satisfied: sqlalchemy in /opt/conda/lib/python3.11/site-packages (2.0.22)\n",
      "Requirement already satisfied: psycopg2-binary in /opt/conda/lib/python3.11/site-packages (2.9.10)\n",
      "Requirement already satisfied: typing-extensions>=4.2.0 in /opt/conda/lib/python3.11/site-packages (from sqlalchemy) (4.8.0)\n",
      "Requirement already satisfied: greenlet!=0.4.17 in /opt/conda/lib/python3.11/site-packages (from sqlalchemy) (3.0.0)\n"
     ]
    }
   ],
   "source": [
    "# Instal library untuk terhubung ke PostgreSQL\n",
    "!pip install sqlalchemy psycopg2-binary"
   ]
  },
  {
   "cell_type": "code",
   "execution_count": 2,
   "id": "c60611f6-5360-4e29-bab3-4983062a65fa",
   "metadata": {},
   "outputs": [],
   "source": [
    "# Impor library dan buat koneksi\n",
    "from sqlalchemy import create_engine, text\n",
    "import logging"
   ]
  },
  {
   "cell_type": "code",
   "execution_count": 3,
   "id": "af1767ba-a49c-43f8-999d-9ac835414ba7",
   "metadata": {},
   "outputs": [],
   "source": [
    "# Konfigurasi logging\n",
    "logging.basicConfig(level=logging.INFO)\n",
    "log = logging.getLogger(__name__)"
   ]
  },
  {
   "cell_type": "code",
   "execution_count": 4,
   "id": "50ecf64e-18fa-41f1-b26c-d61393b0f82e",
   "metadata": {},
   "outputs": [],
   "source": [
    "# Detail koneksi ke database PostgreSQL di dalam Docker\n",
    "# Hostname 'postgres_db' adalah nama service di docker-compose.yml\n",
    "DB_USER = 'user'\n",
    "DB_PASSWORD = 'password'\n",
    "DB_HOST = 'postgres_db-smart-manufacturing'\n",
    "DB_PORT = '5432'\n",
    "DB_NAME = 'machine_db'"
   ]
  },
  {
   "cell_type": "code",
   "execution_count": 5,
   "id": "b06b5858-3e7c-4c3f-af9e-4d247c517fbf",
   "metadata": {},
   "outputs": [
    {
     "name": "stderr",
     "output_type": "stream",
     "text": [
      "INFO:__main__:Berhasil terhubung ke database PostgreSQL.\n"
     ]
    }
   ],
   "source": [
    "try:\n",
    "    # Buat connection engine\n",
    "    engine = create_engine(f'postgresql+psycopg2://{DB_USER}:{DB_PASSWORD}@{DB_HOST}:{DB_PORT}/{DB_NAME}')\n",
    "    \n",
    "    # Buat koneksi\n",
    "    conn = engine.connect()\n",
    "    log.info(\"Berhasil terhubung ke database PostgreSQL.\")\n",
    "    \n",
    "except Exception as e:\n",
    "    log.error(f\"Gagal terhubung ke database: {e}\")\n",
    "    conn = None"
   ]
  },
  {
   "cell_type": "code",
   "execution_count": 6,
   "id": "d09ce06f-0739-4063-90a5-cf405cc07483",
   "metadata": {},
   "outputs": [
    {
     "data": {
      "text/plain": [
       "<sqlalchemy.engine.cursor.CursorResult at 0x7f187e2110f0>"
      ]
     },
     "execution_count": 6,
     "metadata": {},
     "output_type": "execute_result"
    }
   ],
   "source": [
    "# memulai dari awal\n",
    "conn.execute(text(\"DROP TABLE IF EXISTS sensor_readings;\"))"
   ]
  },
  {
   "cell_type": "code",
   "execution_count": 7,
   "id": "60833f98-0b74-42d8-9ac9-d28118b5e0c8",
   "metadata": {},
   "outputs": [
    {
     "name": "stdout",
     "output_type": "stream",
     "text": [
      "Variabel create_table_query berhasil dibuat.\n"
     ]
    }
   ],
   "source": [
    "# Mendefinisikan Query SQL untuk membuat tabel\n",
    "\n",
    "create_table_query = \"\"\"\n",
    "CREATE TABLE sensor_readings (\n",
    "    id SERIAL PRIMARY KEY,\n",
    "    event_timestamp TIMESTAMP WITH TIME ZONE,\n",
    "    machine_id VARCHAR(50),\n",
    "    vibration FLOAT,\n",
    "    acoustic FLOAT,\n",
    "    temperature FLOAT,\n",
    "    current FLOAT,\n",
    "    status VARCHAR(50),\n",
    "    label INT,\n",
    "    IMF_1 FLOAT,\n",
    "    IMF_2 FLOAT,\n",
    "    IMF_3 FLOAT,\n",
    "    processing_time TIMESTAMP WITH TIME ZONE DEFAULT NOW()\n",
    ");\n",
    "\"\"\"\n",
    "\n",
    "print(\"Variabel create_table_query berhasil dibuat.\")"
   ]
  },
  {
   "cell_type": "code",
   "execution_count": 8,
   "id": "641f4106-4061-4316-9abb-d0664f941fd7",
   "metadata": {},
   "outputs": [
    {
     "name": "stderr",
     "output_type": "stream",
     "text": [
      "INFO:__main__:Tabel 'sensor_readings' berhasil dibuat atau sudah ada.\n",
      "WARNING:__main__:Koneksi tidak tersedia. Jalankan kembali sel 2.\n"
     ]
    }
   ],
   "source": [
    "# Mengeksekusi query dan mengelola koneksi\n",
    "if conn:\n",
    "    try:\n",
    "        # Eksekusi query yang sudah didefinisikan di sel sebelumnya\n",
    "        conn.execute(text(create_table_query))\n",
    "        # Commit transaksi untuk menyimpan perubahan\n",
    "        conn.commit() \n",
    "        \n",
    "        log.info(\"Tabel 'sensor_readings' berhasil dibuat atau sudah ada.\")\n",
    "        \n",
    "    except Exception as e:\n",
    "        log.error(f\"Gagal membuat tabel: {e}\")\n",
    "    # finally:\n",
    "        # # Selalu tutup koneksi setelah selesai\n",
    "        # conn.close()\n",
    "        # log.info(\"Koneksi ke database ditutup.\")\n",
    "    else:\n",
    "        log.warning(\"Koneksi tidak tersedia. Jalankan kembali sel 2.\")"
   ]
  },
  {
   "cell_type": "code",
   "execution_count": null,
   "id": "57adb5f6-22b6-4e4e-a932-eadad2f984a5",
   "metadata": {},
   "outputs": [],
   "source": [
    "# if conn:\n",
    "#     try:\n",
    "#         # Query untuk melihat 5 baris pertama\n",
    "#         result = conn.execute(text(\"SELECT * FROM sensor_readings LIMIT 5;\"))\n",
    "#         print(\"Query berhasil dijalankan. Tabel 'sensor_readings' ada.\")\n",
    "#         for row in result:\n",
    "#             print(row) # Ini tidak akan mencetak apa-apa jika tabel masih kosong\n",
    "#     except Exception as e:\n",
    "#         print(f\"Gagal menjalankan query: {e}\")"
   ]
  },
  {
   "cell_type": "code",
   "execution_count": null,
   "id": "07b2f607-5a34-4a9b-a2f4-d464b1bb9fbf",
   "metadata": {},
   "outputs": [],
   "source": []
  }
 ],
 "metadata": {
  "kernelspec": {
   "display_name": "Python 3 (ipykernel)",
   "language": "python",
   "name": "python3"
  },
  "language_info": {
   "codemirror_mode": {
    "name": "ipython",
    "version": 3
   },
   "file_extension": ".py",
   "mimetype": "text/x-python",
   "name": "python",
   "nbconvert_exporter": "python",
   "pygments_lexer": "ipython3",
   "version": "3.11.6"
  }
 },
 "nbformat": 4,
 "nbformat_minor": 5
}
